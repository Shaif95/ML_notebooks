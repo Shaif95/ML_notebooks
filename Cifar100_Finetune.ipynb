{
 "cells": [
  {
   "cell_type": "code",
   "execution_count": 1,
   "id": "8b844f36",
   "metadata": {},
   "outputs": [],
   "source": [
    "import tensorflow as tf\n",
    "from tensorflow import keras\n",
    "from tensorflow.keras.datasets import cifar100\n",
    "from tensorflow.keras.applications import MobileNet\n",
    "from tensorflow.keras.models import Sequential\n",
    "from tensorflow.keras.layers import Dense, GlobalAveragePooling2D\n",
    "from tensorflow.keras.optimizers import Adam\n",
    "from tensorflow.keras.preprocessing.image import ImageDataGenerator\n"
   ]
  },
  {
   "cell_type": "code",
   "execution_count": 2,
   "id": "e26c473b",
   "metadata": {},
   "outputs": [
    {
     "name": "stdout",
     "output_type": "stream",
     "text": [
      "Downloading data from https://www.cs.toronto.edu/~kriz/cifar-100-python.tar.gz\n",
      "169009152/169001437 [==============================] - 28s 0us/step\n",
      "169017344/169001437 [==============================] - 28s 0us/step\n"
     ]
    }
   ],
   "source": [
    "# Load the CIFAR-100 dataset\n",
    "(x_train, y_train), (x_test, y_test) = cifar100.load_data()\n",
    "\n",
    "# Normalize the pixel values between 0 and 1\n",
    "x_train = x_train.astype('float32') / 255.0\n",
    "x_test = x_test.astype('float32') / 255.0\n",
    "\n",
    "# Convert the labels to one-hot encoding\n",
    "y_train = keras.utils.to_categorical(y_train, 100)\n",
    "y_test = keras.utils.to_categorical(y_test, 100)\n"
   ]
  },
  {
   "cell_type": "code",
   "execution_count": 4,
   "id": "03bea680",
   "metadata": {},
   "outputs": [
    {
     "name": "stdout",
     "output_type": "stream",
     "text": [
      "Downloading data from https://storage.googleapis.com/tensorflow/keras-applications/resnet/resnet50_weights_tf_dim_ordering_tf_kernels_notop.h5\n",
      "94773248/94765736 [==============================] - 16s 0us/step\n",
      "94781440/94765736 [==============================] - 16s 0us/step\n"
     ]
    }
   ],
   "source": [
    "from tensorflow.keras.applications import ResNet50\n",
    "from tensorflow.keras.models import Sequential\n",
    "from tensorflow.keras.layers import Dense, GlobalAveragePooling2D\n",
    "\n",
    "# Create the ResNet model without the top (fully connected) layers\n",
    "base_model = ResNet50(weights='imagenet', include_top=False, input_shape=(32, 32, 3))\n",
    "\n",
    "# Add the top layers for classification\n",
    "model = Sequential()\n",
    "model.add(base_model)\n",
    "model.add(GlobalAveragePooling2D())\n",
    "model.add(Dense(100, activation='softmax'))\n",
    "\n",
    "# Compile the model\n",
    "model.compile(optimizer=Adam(lr=0.001), loss='categorical_crossentropy', metrics=['accuracy'])\n"
   ]
  },
  {
   "cell_type": "code",
   "execution_count": 5,
   "id": "524faa49",
   "metadata": {},
   "outputs": [
    {
     "name": "stdout",
     "output_type": "stream",
     "text": [
      "Epoch 1/50\n",
      "782/782 [==============================] - 60s 57ms/step - loss: 4.4076 - accuracy: 0.0845 - val_loss: 28.8224 - val_accuracy: 0.0259\n",
      "Epoch 2/50\n",
      "782/782 [==============================] - 44s 56ms/step - loss: 4.2226 - accuracy: 0.1062 - val_loss: 3.9483 - val_accuracy: 0.1058\n",
      "Epoch 3/50\n",
      "782/782 [==============================] - 44s 56ms/step - loss: 3.7624 - accuracy: 0.1462 - val_loss: 6.7867 - val_accuracy: 0.0622\n",
      "Epoch 4/50\n",
      "782/782 [==============================] - 43s 56ms/step - loss: 3.4922 - accuracy: 0.1721 - val_loss: 3.2386 - val_accuracy: 0.2099\n",
      "Epoch 5/50\n",
      "782/782 [==============================] - 49s 62ms/step - loss: 3.2305 - accuracy: 0.2070 - val_loss: 3.2251 - val_accuracy: 0.2289\n",
      "Epoch 6/50\n",
      "782/782 [==============================] - 47s 59ms/step - loss: 3.0650 - accuracy: 0.2365 - val_loss: 3.0966 - val_accuracy: 0.2432\n",
      "Epoch 7/50\n",
      "782/782 [==============================] - 46s 58ms/step - loss: 2.9084 - accuracy: 0.2643 - val_loss: 3.1272 - val_accuracy: 0.2702\n",
      "Epoch 8/50\n",
      "782/782 [==============================] - 46s 59ms/step - loss: 2.7697 - accuracy: 0.2897 - val_loss: 3.7208 - val_accuracy: 0.2835\n",
      "Epoch 9/50\n",
      "782/782 [==============================] - 45s 57ms/step - loss: 2.6678 - accuracy: 0.3083 - val_loss: 3.8927 - val_accuracy: 0.2456\n",
      "Epoch 10/50\n",
      "782/782 [==============================] - 44s 57ms/step - loss: 2.5880 - accuracy: 0.3257 - val_loss: 3.2494 - val_accuracy: 0.3091\n",
      "Epoch 11/50\n",
      "782/782 [==============================] - 48s 61ms/step - loss: 2.5383 - accuracy: 0.3378 - val_loss: 2.7529 - val_accuracy: 0.3310\n",
      "Epoch 12/50\n",
      "782/782 [==============================] - 46s 58ms/step - loss: 2.4069 - accuracy: 0.3628 - val_loss: 3.0543 - val_accuracy: 0.2870\n",
      "Epoch 13/50\n",
      "782/782 [==============================] - 45s 57ms/step - loss: 2.3731 - accuracy: 0.3701 - val_loss: 2.4695 - val_accuracy: 0.3827\n",
      "Epoch 14/50\n",
      "782/782 [==============================] - 56s 72ms/step - loss: 2.3444 - accuracy: 0.3750 - val_loss: 2.9900 - val_accuracy: 0.3427\n",
      "Epoch 15/50\n",
      "782/782 [==============================] - 50s 63ms/step - loss: 2.3015 - accuracy: 0.3864 - val_loss: 3.9060 - val_accuracy: 0.2529\n",
      "Epoch 16/50\n",
      "782/782 [==============================] - 45s 57ms/step - loss: 2.1739 - accuracy: 0.4116 - val_loss: 3.3447 - val_accuracy: 0.3626\n",
      "Epoch 17/50\n",
      "782/782 [==============================] - 43s 55ms/step - loss: 2.1789 - accuracy: 0.4097 - val_loss: 3.3448 - val_accuracy: 0.3293\n",
      "Epoch 18/50\n",
      "782/782 [==============================] - 47s 60ms/step - loss: 2.0901 - accuracy: 0.4300 - val_loss: 4.3558 - val_accuracy: 0.3252\n",
      "Epoch 19/50\n",
      "782/782 [==============================] - 46s 59ms/step - loss: 2.0218 - accuracy: 0.4422 - val_loss: 2.7704 - val_accuracy: 0.3673\n",
      "Epoch 20/50\n",
      "782/782 [==============================] - 48s 62ms/step - loss: 2.0657 - accuracy: 0.4373 - val_loss: 2.8439 - val_accuracy: 0.3520\n",
      "Epoch 21/50\n",
      "782/782 [==============================] - 43s 54ms/step - loss: 1.9846 - accuracy: 0.4517 - val_loss: 11.6696 - val_accuracy: 0.2227\n",
      "Epoch 22/50\n",
      "782/782 [==============================] - 45s 57ms/step - loss: 1.9811 - accuracy: 0.4535 - val_loss: 19.8515 - val_accuracy: 0.3616\n",
      "Epoch 23/50\n",
      "782/782 [==============================] - 46s 59ms/step - loss: 1.9203 - accuracy: 0.4677 - val_loss: 3.0443 - val_accuracy: 0.3755\n",
      "Epoch 24/50\n",
      "782/782 [==============================] - 48s 61ms/step - loss: 2.0574 - accuracy: 0.4371 - val_loss: 7.7783 - val_accuracy: 0.2927\n",
      "Epoch 25/50\n",
      "782/782 [==============================] - 46s 59ms/step - loss: 2.3504 - accuracy: 0.3797 - val_loss: 2.7477 - val_accuracy: 0.3626\n",
      "Epoch 26/50\n",
      "782/782 [==============================] - 44s 56ms/step - loss: 2.3532 - accuracy: 0.3760 - val_loss: 4.0091 - val_accuracy: 0.2921\n",
      "Epoch 27/50\n",
      "782/782 [==============================] - 48s 61ms/step - loss: 2.5318 - accuracy: 0.3417 - val_loss: 3.4696 - val_accuracy: 0.3897\n",
      "Epoch 28/50\n",
      "782/782 [==============================] - 46s 59ms/step - loss: 2.0437 - accuracy: 0.4403 - val_loss: 5.0571 - val_accuracy: 0.3838\n",
      "Epoch 29/50\n",
      "782/782 [==============================] - 47s 60ms/step - loss: 1.8949 - accuracy: 0.4733 - val_loss: 3.1384 - val_accuracy: 0.4238\n",
      "Epoch 30/50\n",
      "782/782 [==============================] - 48s 62ms/step - loss: 1.8327 - accuracy: 0.4858 - val_loss: 3.9988 - val_accuracy: 0.3498\n",
      "Epoch 31/50\n",
      "782/782 [==============================] - 46s 58ms/step - loss: 1.7902 - accuracy: 0.4963 - val_loss: 5.2577 - val_accuracy: 0.3808\n",
      "Epoch 32/50\n",
      "782/782 [==============================] - 46s 59ms/step - loss: 1.8652 - accuracy: 0.4813 - val_loss: 4.1283 - val_accuracy: 0.3908\n",
      "Epoch 33/50\n",
      "782/782 [==============================] - 45s 58ms/step - loss: 1.9729 - accuracy: 0.4573 - val_loss: 5.0913 - val_accuracy: 0.3848\n",
      "Epoch 34/50\n",
      "782/782 [==============================] - 46s 59ms/step - loss: 1.9582 - accuracy: 0.4610 - val_loss: 12.6084 - val_accuracy: 0.3277\n",
      "Epoch 35/50\n",
      "782/782 [==============================] - 47s 60ms/step - loss: 2.0910 - accuracy: 0.4309 - val_loss: 6.9081 - val_accuracy: 0.3078\n",
      "Epoch 36/50\n",
      "782/782 [==============================] - 43s 55ms/step - loss: 2.3176 - accuracy: 0.3851 - val_loss: 2.9157 - val_accuracy: 0.3429\n",
      "Epoch 37/50\n",
      "782/782 [==============================] - 42s 53ms/step - loss: 2.1580 - accuracy: 0.4132 - val_loss: 2.8058 - val_accuracy: 0.4106\n",
      "Epoch 38/50\n",
      "782/782 [==============================] - 47s 61ms/step - loss: 1.9870 - accuracy: 0.4522 - val_loss: 2.7032 - val_accuracy: 0.3767\n",
      "Epoch 39/50\n",
      "782/782 [==============================] - 46s 59ms/step - loss: 2.2515 - accuracy: 0.3939 - val_loss: 3.8991 - val_accuracy: 0.3672\n",
      "Epoch 40/50\n",
      "782/782 [==============================] - 52s 67ms/step - loss: 1.9547 - accuracy: 0.4618 - val_loss: 16.2491 - val_accuracy: 0.2505\n",
      "Epoch 41/50\n",
      "782/782 [==============================] - 50s 64ms/step - loss: 2.2133 - accuracy: 0.4032 - val_loss: 3.3784 - val_accuracy: 0.3597\n",
      "Epoch 42/50\n",
      "782/782 [==============================] - 43s 54ms/step - loss: 1.8657 - accuracy: 0.4776 - val_loss: 5.9357 - val_accuracy: 0.4117\n",
      "Epoch 43/50\n",
      "782/782 [==============================] - 41s 52ms/step - loss: 1.7254 - accuracy: 0.5115 - val_loss: 6.9481 - val_accuracy: 0.2021\n",
      "Epoch 44/50\n",
      "782/782 [==============================] - 41s 53ms/step - loss: 1.7623 - accuracy: 0.5020 - val_loss: 3.6331 - val_accuracy: 0.4133\n",
      "Epoch 45/50\n",
      "782/782 [==============================] - 43s 54ms/step - loss: 1.8155 - accuracy: 0.4949 - val_loss: 2.9514 - val_accuracy: 0.4008\n",
      "Epoch 46/50\n",
      "782/782 [==============================] - 41s 53ms/step - loss: 1.6527 - accuracy: 0.5274 - val_loss: 6.5589 - val_accuracy: 0.3924\n",
      "Epoch 47/50\n",
      "782/782 [==============================] - 45s 57ms/step - loss: 1.6006 - accuracy: 0.5399 - val_loss: 12.7208 - val_accuracy: 0.4264\n",
      "Epoch 48/50\n",
      "782/782 [==============================] - 43s 55ms/step - loss: 1.5234 - accuracy: 0.5573 - val_loss: 11.1641 - val_accuracy: 0.3862\n",
      "Epoch 49/50\n",
      "782/782 [==============================] - 45s 58ms/step - loss: 1.5525 - accuracy: 0.5530 - val_loss: 12.7866 - val_accuracy: 0.3922\n",
      "Epoch 50/50\n",
      "782/782 [==============================] - 47s 60ms/step - loss: 1.5376 - accuracy: 0.5570 - val_loss: 9.3477 - val_accuracy: 0.4073\n"
     ]
    },
    {
     "data": {
      "text/plain": [
       "<keras.callbacks.History at 0x260f0c76250>"
      ]
     },
     "execution_count": 5,
     "metadata": {},
     "output_type": "execute_result"
    }
   ],
   "source": [
    "# Data augmentation to improve generalization\n",
    "datagen = ImageDataGenerator(rotation_range=20, width_shift_range=0.2, height_shift_range=0.2, horizontal_flip=True)\n",
    "\n",
    "# Fit the data generator on the training data\n",
    "datagen.fit(x_train)\n",
    "\n",
    "# Train the model\n",
    "model.fit(datagen.flow(x_train, y_train, batch_size=64), epochs=50, validation_data=(x_test, y_test))\n"
   ]
  },
  {
   "cell_type": "code",
   "execution_count": null,
   "id": "3718316a",
   "metadata": {},
   "outputs": [],
   "source": [
    "import numpy as np\n",
    "from sklearn.metrics import accuracy_score, f1_score\n",
    "\n",
    "# Assuming you have trained a model and obtained predicted probabilities on x_test\n",
    "y_pred_prob = model.predict(x_test)\n",
    "\n",
    "# Convert predicted probabilities to predicted labels\n",
    "y_pred = np.argmax(y_pred_prob, axis=1)\n",
    "\n",
    "# Convert y_test to predicted labels format\n",
    "y_test_labels = np.argmax(y_test, axis=1)\n",
    "\n",
    "# Calculate accuracy\n",
    "accuracy = accuracy_score(y_test_labels, y_pred)\n",
    "print(\"Accuracy:\", accuracy)\n",
    "\n",
    "# Calculate F1 score (micro-average)\n",
    "f1_micro = f1_score(y_test_labels, y_pred, average='micro')\n",
    "print(\"F1 Score (Micro):\", f1_micro)"
   ]
  },
  {
   "cell_type": "code",
   "execution_count": null,
   "id": "52dc5686",
   "metadata": {},
   "outputs": [],
   "source": []
  },
  {
   "cell_type": "code",
   "execution_count": null,
   "id": "d2121811",
   "metadata": {},
   "outputs": [],
   "source": []
  },
  {
   "cell_type": "code",
   "execution_count": null,
   "id": "e02abd16",
   "metadata": {},
   "outputs": [],
   "source": []
  },
  {
   "cell_type": "code",
   "execution_count": null,
   "id": "c1714181",
   "metadata": {},
   "outputs": [],
   "source": []
  },
  {
   "cell_type": "code",
   "execution_count": null,
   "id": "978ff3a6",
   "metadata": {},
   "outputs": [],
   "source": []
  },
  {
   "cell_type": "code",
   "execution_count": null,
   "id": "cf1a2188",
   "metadata": {},
   "outputs": [],
   "source": []
  },
  {
   "cell_type": "code",
   "execution_count": null,
   "id": "e141148a",
   "metadata": {},
   "outputs": [],
   "source": []
  },
  {
   "cell_type": "code",
   "execution_count": null,
   "id": "b0bd967e",
   "metadata": {},
   "outputs": [],
   "source": []
  },
  {
   "cell_type": "code",
   "execution_count": null,
   "id": "e24f02f1",
   "metadata": {},
   "outputs": [],
   "source": []
  },
  {
   "cell_type": "code",
   "execution_count": null,
   "id": "9c779ba6",
   "metadata": {},
   "outputs": [],
   "source": []
  },
  {
   "cell_type": "code",
   "execution_count": null,
   "id": "2dd6813e",
   "metadata": {},
   "outputs": [],
   "source": []
  }
 ],
 "metadata": {
  "kernelspec": {
   "display_name": "Python 3 (ipykernel)",
   "language": "python",
   "name": "python3"
  },
  "language_info": {
   "codemirror_mode": {
    "name": "ipython",
    "version": 3
   },
   "file_extension": ".py",
   "mimetype": "text/x-python",
   "name": "python",
   "nbconvert_exporter": "python",
   "pygments_lexer": "ipython3",
   "version": "3.8.16"
  }
 },
 "nbformat": 4,
 "nbformat_minor": 5
}
