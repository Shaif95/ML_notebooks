{
 "cells": [
  {
   "cell_type": "code",
   "execution_count": null,
   "id": "39c00f3e",
   "metadata": {},
   "outputs": [],
   "source": []
  },
  {
   "cell_type": "code",
   "execution_count": 1,
   "id": "c6e38d80",
   "metadata": {},
   "outputs": [
    {
     "data": {
      "text/plain": [
       "(449, 40, 40, 3)"
      ]
     },
     "execution_count": 1,
     "metadata": {},
     "output_type": "execute_result"
    }
   ],
   "source": [
    "import os\n",
    "import tensorflow as tf\n",
    "from PIL import Image\n",
    "import numpy as np\n",
    "\n",
    "\n",
    "    \n",
    "# Define the folder location\n",
    "folder_location = r\"C:\\Users\\shaif\\Downloads\\Compressed\\Labeled Baylor 8-30-23\\Labeled Baylor 8-30-23\\Zebra Ped 1a Image1a\\D-Hinge\"\n",
    "\n",
    "folders = os.listdir(folder_location)\n",
    "\n",
    "# Define the desired image size\n",
    "target_size = (40, 40)\n",
    "\n",
    "# Initialize an empty list to store the processed images\n",
    "processed_images = []\n",
    "\n",
    "# Iterate through each folder\n",
    "for folder in folders:\n",
    "    # Construct the folder path\n",
    "    folder_path = os.path.join(folder_location, folder)\n",
    "    \n",
    "    # List all images in the folder\n",
    "    images = os.listdir(folder_path)\n",
    "    \n",
    "    # Iterate through each image\n",
    "    for image_name in images:\n",
    "        # Construct the image path\n",
    "        image_path = os.path.join(folder_path, image_name)\n",
    "        \n",
    "        # Open the image using PIL\n",
    "        image = Image.open(image_path)\n",
    "        \n",
    "        # Resize the image using TensorFlow\n",
    "        resized_image = tf.image.resize_with_crop_or_pad(\n",
    "            tf.keras.preprocessing.image.img_to_array(image),\n",
    "            target_size[0],\n",
    "            target_size[1]\n",
    "        )\n",
    "        \n",
    "        # Normalize the data for deep learning\n",
    "        normalized_image = (resized_image - 127.5) / 127.5\n",
    "        \n",
    "        # Append the processed image to the list\n",
    "        processed_images.append(normalized_image)\n",
    "\n",
    "# Convert the list of images to a NumPy array\n",
    "processed_images = np.array(processed_images)\n",
    "processed_images.shape"
   ]
  },
  {
   "cell_type": "code",
   "execution_count": 47,
   "id": "db9b5410",
   "metadata": {},
   "outputs": [
    {
     "data": {
      "text/plain": [
       "(3886, 40, 40, 3)"
      ]
     },
     "execution_count": 47,
     "metadata": {},
     "output_type": "execute_result"
    }
   ],
   "source": [
    "\n",
    "import os\n",
    "import numpy as np\n",
    "import tensorflow as tf\n",
    "from PIL import Image\n",
    "\n",
    "def preprocess_images(y1, label_num, target_size=(40, 40)):\n",
    "    # List to store image files\n",
    "    image_files = []\n",
    "    # List to store labels\n",
    "    labels = []\n",
    "\n",
    "    # Retrieve image files and create labels for each directory in y1\n",
    "    for directory in y1:\n",
    "        for root, dirs, files in os.walk(directory):\n",
    "            for file in files:\n",
    "                # Check if the file has an image extension\n",
    "                if file.lower().endswith(('.jpg', '.jpeg', '.png')):\n",
    "                    # Add the file path to the image_files list\n",
    "                    image_files.append(os.path.join(root, file))\n",
    "                    # Add the label to the labels list\n",
    "                    \n",
    "\n",
    "    # List to store preprocessed images\n",
    "    images = []\n",
    "\n",
    "    # Preprocess each image\n",
    "    for file in image_files:\n",
    "        try:\n",
    "            # Read the image using PIL\n",
    "            image = Image.open(file)\n",
    "            # Resize the image using tf.image.resize_with_crop_or_pad()\n",
    "            image = tf.image.resize_with_crop_or_pad(\n",
    "                tf.keras.preprocessing.image.img_to_array(image),\n",
    "                target_size[0],\n",
    "                target_size[1]\n",
    "            )\n",
    "            # Normalize the image pixels for ML training\n",
    "            image = image / 255.0\n",
    "            # Add the preprocessed image to the images list\n",
    "            images.append(image)\n",
    "            labels.append(label_num)\n",
    "        except Exception as e:\n",
    "            print(f\"Error processing image: {file}. Skipping...\")\n",
    "            continue\n",
    "\n",
    "    # Convert the images and labels lists to numpy arrays\n",
    "    images = np.array(images)\n",
    "\n",
    "    return images\n",
    "\n",
    "\n",
    "X0 = preprocess_images(y1, label_num = 0)\n",
    "np.shape(X0)"
   ]
  },
  {
   "cell_type": "code",
   "execution_count": null,
   "id": "585710ff",
   "metadata": {},
   "outputs": [],
   "source": []
  },
  {
   "cell_type": "code",
   "execution_count": 6,
   "id": "8ca0ef52",
   "metadata": {},
   "outputs": [],
   "source": [
    "from tensorflow.keras.models import load_model\n",
    "# Define the path to the model file\n",
    "model_path = r'E:\\single_image_model.h5'\n",
    "# Load the model with custom_objects argument\n",
    "model = load_model(model_path)\n",
    "# Print the model summary\n",
    "#model.summary()"
   ]
  },
  {
   "cell_type": "code",
   "execution_count": 7,
   "id": "7ddc1517",
   "metadata": {},
   "outputs": [
    {
     "name": "stdout",
     "output_type": "stream",
     "text": [
      "Count of 0: 198\n",
      "Count of 1: 251\n",
      "Count of 2: 0\n"
     ]
    }
   ],
   "source": [
    "x = model.predict(processed_images)\n",
    "res = np.argmax(x,axis = 1)\n",
    "count_0 = 0\n",
    "count_1 = 0\n",
    "count_2 = 0\n",
    "\n",
    "# Count the numbers\n",
    "for i in res:\n",
    "    if(i==0):\n",
    "        count_0  = count_0  + 1\n",
    "    elif(i==1):\n",
    "        count_1  = count_1  + 1\n",
    "    else:\n",
    "        count_2  = count_2  + 1\n",
    "\n",
    "# Print the counts\n",
    "print(\"Count of 0:\", count_0)\n",
    "print(\"Count of 1:\", count_1)\n",
    "print(\"Count of 2:\", count_2)"
   ]
  },
  {
   "cell_type": "code",
   "execution_count": 54,
   "id": "ac85bd14",
   "metadata": {},
   "outputs": [
    {
     "data": {
      "text/plain": [
       "(3886, 3)"
      ]
     },
     "execution_count": 54,
     "metadata": {},
     "output_type": "execute_result"
    }
   ],
   "source": [
    "np.shape(x)"
   ]
  },
  {
   "cell_type": "code",
   "execution_count": 77,
   "id": "3572fe3d",
   "metadata": {},
   "outputs": [],
   "source": [
    "import os\n",
    "\n",
    "def count_images_in_subdirs(folder_location):\n",
    "    subdir_image_counts = []\n",
    "    \n",
    "    for subdir in os.listdir(folder_location):\n",
    "        subdir_path = os.path.join(folder_location, subdir)\n",
    "        \n",
    "        if os.path.isdir(subdir_path):\n",
    "            image_count = len([f for f in os.listdir(subdir_path) if f.lower().endswith(('.png', '.jpg', '.jpeg', '.gif', '.bmp'))])\n",
    "            subdir_image_counts.append(image_count)\n",
    "    \n",
    "    return subdir_image_counts\n",
    "\n",
    "image_counts = count_images_in_subdirs(folder_location)\n"
   ]
  },
  {
   "cell_type": "code",
   "execution_count": 79,
   "id": "dbf39941",
   "metadata": {},
   "outputs": [],
   "source": [
    "x = model.predict(processed_images)\n",
    "result = []\n",
    "res_detailed = []\n",
    "y = 0\n",
    "for i in image_counts:\n",
    "    larvae = x[y:y+i]\n",
    "    y = i+y\n",
    "    average = np.mean(larvae, axis=0)\n",
    "    #print((average))\n",
    "    pred = np.argmax(average)\n",
    "    #print(pred)\n",
    "    result.append(pred)\n",
    "    res_detailed.append(average)\n"
   ]
  },
  {
   "cell_type": "code",
   "execution_count": null,
   "id": "4e80f430",
   "metadata": {},
   "outputs": [],
   "source": []
  },
  {
   "cell_type": "code",
   "execution_count": null,
   "id": "8423222f",
   "metadata": {},
   "outputs": [],
   "source": []
  },
  {
   "cell_type": "code",
   "execution_count": 1,
   "id": "100d2624",
   "metadata": {},
   "outputs": [],
   "source": [
    "from tensorflow.keras.models import load_model\n",
    "# Define the path to the model file\n",
    "model_path = r'E:\\new_model\\single_image_model.h5'\n",
    "# Load the model with custom_objects argument\n",
    "model = load_model(model_path)\n",
    "# Print the model summary\n",
    "#model.summary()"
   ]
  },
  {
   "cell_type": "code",
   "execution_count": null,
   "id": "4c5c52de",
   "metadata": {},
   "outputs": [],
   "source": []
  },
  {
   "cell_type": "code",
   "execution_count": null,
   "id": "9045916f",
   "metadata": {},
   "outputs": [],
   "source": [
    "import os\n",
    "import tensorflow as tf\n",
    "from PIL import Image\n",
    "import numpy as np\n",
    "\n",
    "def process_images(folder_location, target_size=(40, 40)):\n",
    "    folders = os.listdir(folder_location)\n",
    "    processed_images = []\n",
    "    image_sizes = {}\n",
    "\n",
    "    for folder in folders:\n",
    "        folder_path = os.path.join(folder_location, folder)\n",
    "        images = os.listdir(folder_path)\n",
    "        folder_image_sizes = []\n",
    "\n",
    "        for image_name in images:\n",
    "            image_path = os.path.join(folder_path, image_name)\n",
    "            image = Image.open(image_path)\n",
    "\n",
    "            # Get the original image size\n",
    "            original_size = image.size\n",
    "            folder_image_sizes.append(original_size)\n",
    "\n",
    "            resized_image = tf.image.resize_with_crop_or_pad(\n",
    "                tf.keras.preprocessing.image.img_to_array(image),\n",
    "                target_size[0],\n",
    "                target_size[1]\n",
    "            )\n",
    "\n",
    "            normalized_image = (resized_image - 127.5) / 127.5\n",
    "            processed_images.append(normalized_image)\n",
    "\n",
    "        image_sizes[folder] = folder_image_sizes\n",
    "\n",
    "    processed_images = np.array(processed_images)\n",
    "    return image_sizes, processed_images\n",
    "\n",
    "# Example usage\n",
    "folder_location = r\"D:\\2.Veliger_Data\\Video Test Cases 40 41 44\\Video Test Cases 40 41 44\\41 J H Park Closing 16\\41_16 J H Park Closing 16 5-27-2022 11_00AM Image3a\\Images_001\"\n",
    "name = r\"41_16 J H Park Closing 16 5-27-2022 11_00AM Image3a\"\n",
    "image_sizes_dict, processed_images = process_images(folder_location)"
   ]
  },
  {
   "cell_type": "code",
   "execution_count": 7,
   "id": "178ef8bf",
   "metadata": {},
   "outputs": [
    {
     "data": {
      "text/plain": [
       "(24519, 40, 40, 3)"
      ]
     },
     "execution_count": 7,
     "metadata": {},
     "output_type": "execute_result"
    }
   ],
   "source": [
    "np.shape(processed_images)"
   ]
  },
  {
   "cell_type": "code",
   "execution_count": null,
   "id": "385debaa",
   "metadata": {},
   "outputs": [],
   "source": []
  },
  {
   "cell_type": "code",
   "execution_count": null,
   "id": "0e8ed2d1",
   "metadata": {},
   "outputs": [],
   "source": []
  },
  {
   "cell_type": "code",
   "execution_count": null,
   "id": "f0d0ac56",
   "metadata": {},
   "outputs": [],
   "source": [
    "\n",
    "import os\n",
    "\n",
    "def count_images_in_subdirs(folder_location):\n",
    "    subdir_image_counts = []\n",
    "    \n",
    "    for subdir in os.listdir(folder_location):\n",
    "        subdir_path = os.path.join(folder_location, subdir)\n",
    "        \n",
    "        if os.path.isdir(subdir_path):\n",
    "            image_count = len([f for f in os.listdir(subdir_path) if f.lower().endswith(('.png', '.jpg', '.jpeg', '.gif', '.bmp'))])\n",
    "            subdir_image_counts.append(image_count)\n",
    "    \n",
    "    return subdir_image_counts\n",
    "\n",
    "image_counts = count_images_in_subdirs(folder_location)\n",
    "\n",
    "\n",
    "x = model.predict(processed_images)\n",
    "result = []\n",
    "res_detailed = []\n",
    "y = 0\n",
    "for i in image_counts:\n",
    "    larvae = x[y:y+i]\n",
    "    y = i+y\n",
    "    average = np.mean(larvae, axis=0)\n",
    "    #print((average))\n",
    "    pred = np.argmax(average)\n",
    "    #print(pred)\n",
    "    result.append(pred)\n",
    "    res_detailed.append(average)\n",
    "\n",
    "count_of_ones = result.count(1)\n",
    "\n",
    "print(\"Number of Total Organisms : \",len(result),\"\\n\")\n",
    "\n",
    "print(\"Number of Invasive : \", count_of_ones)"
   ]
  },
  {
   "cell_type": "code",
   "execution_count": null,
   "id": "1422d06a",
   "metadata": {},
   "outputs": [],
   "source": []
  },
  {
   "cell_type": "code",
   "execution_count": null,
   "id": "3817b12d",
   "metadata": {},
   "outputs": [],
   "source": []
  },
  {
   "cell_type": "code",
   "execution_count": null,
   "id": "a4b7ecff",
   "metadata": {},
   "outputs": [],
   "source": [
    "import json\n",
    "import os\n",
    "\n",
    "def create_result_json(folder_location, image_sizes_dict, x, result1, count_of_ones):\n",
    "    # Convert NumPy arrays to lists\n",
    "    x = x.tolist()\n",
    "    y = len(result1)\n",
    "    res_detailed_list = [item.tolist() for item in result1]\n",
    "    result = {\n",
    "        name: {\n",
    "            \"Subsample Name\": folder_location,\n",
    "            \"Image Sizes\": image_sizes_dict,\n",
    "            \"Floating Point Prediction\": x,\n",
    "            \"Prediction\": res_detailed_list,\n",
    "            \"Total Object Count\": y,\n",
    "            \"Invasive Object Count\": count_of_ones\n",
    "        }\n",
    "    }\n",
    "\n",
    "    json_name = os.path.join(r\"F:\\JSONS\", name + \".json\")\n",
    "    \n",
    "    with open(json_name, 'w') as json_file:\n",
    "        json.dump(result, json_file, indent=4)\n",
    "\n",
    "# Call the function\n",
    "create_result_json(folder_location, image_sizes_dict, x, result, count_of_ones)\n"
   ]
  },
  {
   "cell_type": "code",
   "execution_count": 31,
   "id": "3fbd03a4",
   "metadata": {},
   "outputs": [],
   "source": []
  },
  {
   "cell_type": "code",
   "execution_count": null,
   "id": "64e9e799",
   "metadata": {},
   "outputs": [],
   "source": []
  },
  {
   "cell_type": "code",
   "execution_count": null,
   "id": "d2470fa9",
   "metadata": {},
   "outputs": [],
   "source": []
  },
  {
   "cell_type": "code",
   "execution_count": null,
   "id": "a41353bb",
   "metadata": {},
   "outputs": [],
   "source": []
  },
  {
   "cell_type": "code",
   "execution_count": null,
   "id": "bd07477d",
   "metadata": {},
   "outputs": [],
   "source": []
  },
  {
   "cell_type": "code",
   "execution_count": null,
   "id": "e5678df5",
   "metadata": {},
   "outputs": [],
   "source": []
  },
  {
   "cell_type": "code",
   "execution_count": null,
   "id": "1dac3027",
   "metadata": {},
   "outputs": [],
   "source": []
  },
  {
   "cell_type": "code",
   "execution_count": null,
   "id": "dcd019ff",
   "metadata": {},
   "outputs": [],
   "source": []
  },
  {
   "cell_type": "code",
   "execution_count": null,
   "id": "ffb8b10a",
   "metadata": {},
   "outputs": [],
   "source": []
  },
  {
   "cell_type": "code",
   "execution_count": null,
   "id": "c73fcf38",
   "metadata": {},
   "outputs": [],
   "source": []
  },
  {
   "cell_type": "code",
   "execution_count": null,
   "id": "fab5996a",
   "metadata": {},
   "outputs": [],
   "source": []
  },
  {
   "cell_type": "code",
   "execution_count": null,
   "id": "a7a94a5d",
   "metadata": {},
   "outputs": [],
   "source": []
  },
  {
   "cell_type": "code",
   "execution_count": null,
   "id": "809669d8",
   "metadata": {},
   "outputs": [],
   "source": []
  }
 ],
 "metadata": {
  "kernelspec": {
   "display_name": "Python 3 (ipykernel)",
   "language": "python",
   "name": "python3"
  },
  "language_info": {
   "codemirror_mode": {
    "name": "ipython",
    "version": 3
   },
   "file_extension": ".py",
   "mimetype": "text/x-python",
   "name": "python",
   "nbconvert_exporter": "python",
   "pygments_lexer": "ipython3",
   "version": "3.8.16"
  }
 },
 "nbformat": 4,
 "nbformat_minor": 5
}
