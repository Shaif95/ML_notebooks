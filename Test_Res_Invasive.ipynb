{
 "cells": [
  {
   "cell_type": "code",
   "execution_count": 43,
   "id": "39c00f3e",
   "metadata": {},
   "outputs": [
    {
     "data": {
      "text/plain": [
       "['C:\\\\Users\\\\shaif\\\\Downloads\\\\Compressed\\\\Labeled Baylor 8-30-23\\\\Labeled Baylor 8-30-23\\\\Zebra Ped 1a Image1a\\\\D-Hinge\\\\Object_024',\n",
       " 'C:\\\\Users\\\\shaif\\\\Downloads\\\\Compressed\\\\Labeled Baylor 8-30-23\\\\Labeled Baylor 8-30-23\\\\Zebra Ped 1a Image1a\\\\D-Hinge\\\\Object_037',\n",
       " 'C:\\\\Users\\\\shaif\\\\Downloads\\\\Compressed\\\\Labeled Baylor 8-30-23\\\\Labeled Baylor 8-30-23\\\\Zebra Ped 1a Image1a\\\\D-Hinge\\\\Object_040',\n",
       " 'C:\\\\Users\\\\shaif\\\\Downloads\\\\Compressed\\\\Labeled Baylor 8-30-23\\\\Labeled Baylor 8-30-23\\\\Zebra Ped 1a Image1a\\\\D-Hinge\\\\Object_044',\n",
       " 'C:\\\\Users\\\\shaif\\\\Downloads\\\\Compressed\\\\Labeled Baylor 8-30-23\\\\Labeled Baylor 8-30-23\\\\Zebra Ped 1a Image1a\\\\D-Hinge\\\\Object_048',\n",
       " 'C:\\\\Users\\\\shaif\\\\Downloads\\\\Compressed\\\\Labeled Baylor 8-30-23\\\\Labeled Baylor 8-30-23\\\\Zebra Ped 1a Image1a\\\\D-Hinge\\\\Object_105',\n",
       " 'C:\\\\Users\\\\shaif\\\\Downloads\\\\Compressed\\\\Labeled Baylor 8-30-23\\\\Labeled Baylor 8-30-23\\\\Zebra Ped 1a Image1a\\\\D-Hinge\\\\Object_145',\n",
       " 'C:\\\\Users\\\\shaif\\\\Downloads\\\\Compressed\\\\Labeled Baylor 8-30-23\\\\Labeled Baylor 8-30-23\\\\Zebra Ped 1a Image1a\\\\D-Hinge\\\\Object_149',\n",
       " 'C:\\\\Users\\\\shaif\\\\Downloads\\\\Compressed\\\\Labeled Baylor 8-30-23\\\\Labeled Baylor 8-30-23\\\\Zebra Ped 1a Image1a\\\\D-Hinge\\\\Object_158',\n",
       " 'C:\\\\Users\\\\shaif\\\\Downloads\\\\Compressed\\\\Labeled Baylor 8-30-23\\\\Labeled Baylor 8-30-23\\\\Zebra Ped 1a Image1a\\\\D-Hinge\\\\Object_245',\n",
       " 'C:\\\\Users\\\\shaif\\\\Downloads\\\\Compressed\\\\Labeled Baylor 8-30-23\\\\Labeled Baylor 8-30-23\\\\Zebra Ped 1 Image1a\\\\Pedi\\\\Object_007',\n",
       " 'C:\\\\Users\\\\shaif\\\\Downloads\\\\Compressed\\\\Labeled Baylor 8-30-23\\\\Labeled Baylor 8-30-23\\\\Zebra Ped 1 Image1a\\\\Pedi\\\\Object_011',\n",
       " 'C:\\\\Users\\\\shaif\\\\Downloads\\\\Compressed\\\\Labeled Baylor 8-30-23\\\\Labeled Baylor 8-30-23\\\\Zebra Ped 1 Image1a\\\\Pedi\\\\Object_012',\n",
       " 'C:\\\\Users\\\\shaif\\\\Downloads\\\\Compressed\\\\Labeled Baylor 8-30-23\\\\Labeled Baylor 8-30-23\\\\Zebra Ped 1 Image1a\\\\Pedi\\\\Object_015',\n",
       " 'C:\\\\Users\\\\shaif\\\\Downloads\\\\Compressed\\\\Labeled Baylor 8-30-23\\\\Labeled Baylor 8-30-23\\\\Zebra Ped 1 Image1a\\\\Pedi\\\\Object_018',\n",
       " 'C:\\\\Users\\\\shaif\\\\Downloads\\\\Compressed\\\\Labeled Baylor 8-30-23\\\\Labeled Baylor 8-30-23\\\\Zebra Ped 1 Image1a\\\\Pedi\\\\Object_021',\n",
       " 'C:\\\\Users\\\\shaif\\\\Downloads\\\\Compressed\\\\Labeled Baylor 8-30-23\\\\Labeled Baylor 8-30-23\\\\Zebra Ped 1 Image1a\\\\Pedi\\\\Object_023',\n",
       " 'C:\\\\Users\\\\shaif\\\\Downloads\\\\Compressed\\\\Labeled Baylor 8-30-23\\\\Labeled Baylor 8-30-23\\\\Zebra Ped 1 Image1a\\\\Pedi\\\\Object_025',\n",
       " 'C:\\\\Users\\\\shaif\\\\Downloads\\\\Compressed\\\\Labeled Baylor 8-30-23\\\\Labeled Baylor 8-30-23\\\\Zebra Ped 1 Image1a\\\\Pedi\\\\Object_029',\n",
       " 'C:\\\\Users\\\\shaif\\\\Downloads\\\\Compressed\\\\Labeled Baylor 8-30-23\\\\Labeled Baylor 8-30-23\\\\Zebra Ped 1 Image1a\\\\Pedi\\\\Object_031',\n",
       " 'C:\\\\Users\\\\shaif\\\\Downloads\\\\Compressed\\\\Labeled Baylor 8-30-23\\\\Labeled Baylor 8-30-23\\\\Zebra Ped 1 Image1a\\\\Pedi\\\\Object_033',\n",
       " 'C:\\\\Users\\\\shaif\\\\Downloads\\\\Compressed\\\\Labeled Baylor 8-30-23\\\\Labeled Baylor 8-30-23\\\\Zebra Ped 1 Image1a\\\\Pedi\\\\Object_035',\n",
       " 'C:\\\\Users\\\\shaif\\\\Downloads\\\\Compressed\\\\Labeled Baylor 8-30-23\\\\Labeled Baylor 8-30-23\\\\Zebra Ped 1 Image1a\\\\Pedi\\\\Object_043',\n",
       " 'C:\\\\Users\\\\shaif\\\\Downloads\\\\Compressed\\\\Labeled Baylor 8-30-23\\\\Labeled Baylor 8-30-23\\\\Zebra Ped 1 Image1a\\\\Pedi\\\\Object_045',\n",
       " 'C:\\\\Users\\\\shaif\\\\Downloads\\\\Compressed\\\\Labeled Baylor 8-30-23\\\\Labeled Baylor 8-30-23\\\\Zebra Ped 1 Image1a\\\\Pedi\\\\Object_046',\n",
       " 'C:\\\\Users\\\\shaif\\\\Downloads\\\\Compressed\\\\Labeled Baylor 8-30-23\\\\Labeled Baylor 8-30-23\\\\Zebra Ped 1 Image1a\\\\Pedi\\\\Object_050',\n",
       " 'C:\\\\Users\\\\shaif\\\\Downloads\\\\Compressed\\\\Labeled Baylor 8-30-23\\\\Labeled Baylor 8-30-23\\\\Zebra Ped 1 Image1a\\\\Pedi\\\\Object_062',\n",
       " 'C:\\\\Users\\\\shaif\\\\Downloads\\\\Compressed\\\\Labeled Baylor 8-30-23\\\\Labeled Baylor 8-30-23\\\\Zebra Ped 1 Image1a\\\\Pedi\\\\Object_064',\n",
       " 'C:\\\\Users\\\\shaif\\\\Downloads\\\\Compressed\\\\Labeled Baylor 8-30-23\\\\Labeled Baylor 8-30-23\\\\Zebra Ped 1 Image1a\\\\Pedi\\\\Object_067',\n",
       " 'C:\\\\Users\\\\shaif\\\\Downloads\\\\Compressed\\\\Labeled Baylor 8-30-23\\\\Labeled Baylor 8-30-23\\\\Zebra Ped 1 Image1a\\\\Pedi\\\\Object_068',\n",
       " 'C:\\\\Users\\\\shaif\\\\Downloads\\\\Compressed\\\\Labeled Baylor 8-30-23\\\\Labeled Baylor 8-30-23\\\\Zebra Ped 1 Image1a\\\\Pedi\\\\Object_070',\n",
       " 'C:\\\\Users\\\\shaif\\\\Downloads\\\\Compressed\\\\Labeled Baylor 8-30-23\\\\Labeled Baylor 8-30-23\\\\Zebra Ped 1 Image1a\\\\Pedi\\\\Object_073',\n",
       " 'C:\\\\Users\\\\shaif\\\\Downloads\\\\Compressed\\\\Labeled Baylor 8-30-23\\\\Labeled Baylor 8-30-23\\\\Zebra Ped 1 Image1a\\\\Pedi\\\\Object_074',\n",
       " 'C:\\\\Users\\\\shaif\\\\Downloads\\\\Compressed\\\\Labeled Baylor 8-30-23\\\\Labeled Baylor 8-30-23\\\\Zebra Ped 1 Image1a\\\\Pedi\\\\Object_077',\n",
       " 'C:\\\\Users\\\\shaif\\\\Downloads\\\\Compressed\\\\Labeled Baylor 8-30-23\\\\Labeled Baylor 8-30-23\\\\Zebra Ped 1 Image1a\\\\Pedi\\\\Object_078',\n",
       " 'C:\\\\Users\\\\shaif\\\\Downloads\\\\Compressed\\\\Labeled Baylor 8-30-23\\\\Labeled Baylor 8-30-23\\\\Zebra Ped 1 Image1a\\\\Pedi\\\\Object_084',\n",
       " 'C:\\\\Users\\\\shaif\\\\Downloads\\\\Compressed\\\\Labeled Baylor 8-30-23\\\\Labeled Baylor 8-30-23\\\\Zebra Ped 1 Image1a\\\\Pedi\\\\Object_090',\n",
       " 'C:\\\\Users\\\\shaif\\\\Downloads\\\\Compressed\\\\Labeled Baylor 8-30-23\\\\Labeled Baylor 8-30-23\\\\Zebra Ped 1 Image1a\\\\Pedi\\\\Object_097',\n",
       " 'C:\\\\Users\\\\shaif\\\\Downloads\\\\Compressed\\\\Labeled Baylor 8-30-23\\\\Labeled Baylor 8-30-23\\\\Zebra Ped 1 Image1a\\\\Pedi\\\\Object_104',\n",
       " 'C:\\\\Users\\\\shaif\\\\Downloads\\\\Compressed\\\\Labeled Baylor 8-30-23\\\\Labeled Baylor 8-30-23\\\\Zebra Ped 1 Image1a\\\\Pedi\\\\Object_121',\n",
       " 'C:\\\\Users\\\\shaif\\\\Downloads\\\\Compressed\\\\Labeled Baylor 8-30-23\\\\Labeled Baylor 8-30-23\\\\Zebra Ped 1 Image1a\\\\Pedi\\\\Object_126',\n",
       " 'C:\\\\Users\\\\shaif\\\\Downloads\\\\Compressed\\\\Labeled Baylor 8-30-23\\\\Labeled Baylor 8-30-23\\\\Zebra Ped 1 Image1a\\\\Pedi\\\\Object_127',\n",
       " 'C:\\\\Users\\\\shaif\\\\Downloads\\\\Compressed\\\\Labeled Baylor 8-30-23\\\\Labeled Baylor 8-30-23\\\\Zebra Ped 1 Image1a\\\\Pedi\\\\Object_141',\n",
       " 'C:\\\\Users\\\\shaif\\\\Downloads\\\\Compressed\\\\Labeled Baylor 8-30-23\\\\Labeled Baylor 8-30-23\\\\Zebra Ped 1 Image1a\\\\Pedi\\\\Object_145',\n",
       " 'C:\\\\Users\\\\shaif\\\\Downloads\\\\Compressed\\\\Labeled Baylor 8-30-23\\\\Labeled Baylor 8-30-23\\\\Zebra Ped 1 Image1a\\\\Pedi\\\\Object_148',\n",
       " 'C:\\\\Users\\\\shaif\\\\Downloads\\\\Compressed\\\\Labeled Baylor 8-30-23\\\\Labeled Baylor 8-30-23\\\\Zebra Ped 1 Image1a\\\\Pedi\\\\Object_158',\n",
       " 'C:\\\\Users\\\\shaif\\\\Downloads\\\\Compressed\\\\Labeled Baylor 8-30-23\\\\Labeled Baylor 8-30-23\\\\Zebra Ped 1 Image1a\\\\Pedi\\\\Object_174',\n",
       " 'C:\\\\Users\\\\shaif\\\\Downloads\\\\Compressed\\\\Labeled Baylor 8-30-23\\\\Labeled Baylor 8-30-23\\\\Zebra Ped 1 Image1a\\\\Pedi\\\\Object_180',\n",
       " 'C:\\\\Users\\\\shaif\\\\Downloads\\\\Compressed\\\\Labeled Baylor 8-30-23\\\\Labeled Baylor 8-30-23\\\\Zebra Ped 1 Image1a\\\\Pedi\\\\Object_184',\n",
       " 'C:\\\\Users\\\\shaif\\\\Downloads\\\\Compressed\\\\Labeled Baylor 8-30-23\\\\Labeled Baylor 8-30-23\\\\Zebra Ped 1 Image1a\\\\Pedi\\\\Object_188',\n",
       " 'C:\\\\Users\\\\shaif\\\\Downloads\\\\Compressed\\\\Labeled Baylor 8-30-23\\\\Labeled Baylor 8-30-23\\\\Zebra Ped 1 Image1a\\\\Pedi\\\\Object_204',\n",
       " 'C:\\\\Users\\\\shaif\\\\Downloads\\\\Compressed\\\\Labeled Baylor 8-30-23\\\\Labeled Baylor 8-30-23\\\\Zebra Ped 1 Image1a\\\\Pedi\\\\Object_209',\n",
       " 'C:\\\\Users\\\\shaif\\\\Downloads\\\\Compressed\\\\Labeled Baylor 8-30-23\\\\Labeled Baylor 8-30-23\\\\Zebra Ped 1 Image1a\\\\Pedi\\\\Object_231',\n",
       " 'C:\\\\Users\\\\shaif\\\\Downloads\\\\Compressed\\\\Labeled Baylor 8-30-23\\\\Labeled Baylor 8-30-23\\\\Zebra Ped 1 Image1a\\\\Pedi\\\\Object_240',\n",
       " 'C:\\\\Users\\\\shaif\\\\Downloads\\\\Compressed\\\\Labeled Baylor 8-30-23\\\\Labeled Baylor 8-30-23\\\\Zebra Ped 1 Image1a\\\\Pedi\\\\Object_243',\n",
       " 'C:\\\\Users\\\\shaif\\\\Downloads\\\\Compressed\\\\Labeled Baylor 8-30-23\\\\Labeled Baylor 8-30-23\\\\Zebra Ped 1 Image1a\\\\Pedi\\\\Object_244',\n",
       " 'C:\\\\Users\\\\shaif\\\\Downloads\\\\Compressed\\\\Labeled Baylor 8-30-23\\\\Labeled Baylor 8-30-23\\\\Zebra Ped 1 Image1a\\\\Pedi\\\\Object_245',\n",
       " 'C:\\\\Users\\\\shaif\\\\Downloads\\\\Compressed\\\\Labeled Baylor 8-30-23\\\\Labeled Baylor 8-30-23\\\\Zebra Ped 1 Image1a\\\\Pedi\\\\Object_246',\n",
       " 'C:\\\\Users\\\\shaif\\\\Downloads\\\\Compressed\\\\Labeled Baylor 8-30-23\\\\Labeled Baylor 8-30-23\\\\Zebra Ped 1 Image1a\\\\Pedi\\\\Object_247',\n",
       " 'C:\\\\Users\\\\shaif\\\\Downloads\\\\Compressed\\\\Labeled Baylor 8-30-23\\\\Labeled Baylor 8-30-23\\\\Zebra Ped 1 Image1a\\\\Pedi\\\\Object_248',\n",
       " 'C:\\\\Users\\\\shaif\\\\Downloads\\\\Compressed\\\\Labeled Baylor 8-30-23\\\\Labeled Baylor 8-30-23\\\\Zebra Ped 1 Image1a\\\\Pedi\\\\Object_254',\n",
       " 'C:\\\\Users\\\\shaif\\\\Downloads\\\\Compressed\\\\Labeled Baylor 8-30-23\\\\Labeled Baylor 8-30-23\\\\Zebra Ped 1 Image1a\\\\Pedi\\\\Object_262',\n",
       " 'C:\\\\Users\\\\shaif\\\\Downloads\\\\Compressed\\\\Labeled Baylor 8-30-23\\\\Labeled Baylor 8-30-23\\\\Zebra Ped 1 Image1a\\\\Pedi\\\\Object_264',\n",
       " 'C:\\\\Users\\\\shaif\\\\Downloads\\\\Compressed\\\\Labeled Baylor 8-30-23\\\\Labeled Baylor 8-30-23\\\\Zebra Ped 1 Image1a\\\\Pedi\\\\Object_276',\n",
       " 'C:\\\\Users\\\\shaif\\\\Downloads\\\\Compressed\\\\Labeled Baylor 8-30-23\\\\Labeled Baylor 8-30-23\\\\Zebra Ped 1 Image1a\\\\Pedi\\\\Object_287',\n",
       " 'C:\\\\Users\\\\shaif\\\\Downloads\\\\Compressed\\\\Labeled Baylor 8-30-23\\\\Labeled Baylor 8-30-23\\\\Zebra Ped 1 Image1a\\\\Pedi\\\\Object_289',\n",
       " 'C:\\\\Users\\\\shaif\\\\Downloads\\\\Compressed\\\\Labeled Baylor 8-30-23\\\\Labeled Baylor 8-30-23\\\\Zebra Ped 1 Image1a\\\\Pedi\\\\Object_290',\n",
       " 'C:\\\\Users\\\\shaif\\\\Downloads\\\\Compressed\\\\Labeled Baylor 8-30-23\\\\Labeled Baylor 8-30-23\\\\Zebra Ped 1 Image1a\\\\Pedi\\\\Object_292',\n",
       " 'C:\\\\Users\\\\shaif\\\\Downloads\\\\Compressed\\\\Labeled Baylor 8-30-23\\\\Labeled Baylor 8-30-23\\\\Zebra Ped 1 Image1a\\\\Pedi\\\\Object_293',\n",
       " 'C:\\\\Users\\\\shaif\\\\Downloads\\\\Compressed\\\\Labeled Baylor 8-30-23\\\\Labeled Baylor 8-30-23\\\\Zebra Ped 1 Image1a\\\\Pedi\\\\Object_294',\n",
       " 'C:\\\\Users\\\\shaif\\\\Downloads\\\\Compressed\\\\Labeled Baylor 8-30-23\\\\Labeled Baylor 8-30-23\\\\Zebra Ped 1 Image1a\\\\Pedi\\\\Object_295',\n",
       " 'C:\\\\Users\\\\shaif\\\\Downloads\\\\Compressed\\\\Labeled Baylor 8-30-23\\\\Labeled Baylor 8-30-23\\\\Zebra Ped 1 Image1a\\\\Pedi\\\\Object_296',\n",
       " 'C:\\\\Users\\\\shaif\\\\Downloads\\\\Compressed\\\\Labeled Baylor 8-30-23\\\\Labeled Baylor 8-30-23\\\\Zebra Ped 1 Image1a\\\\Pedi\\\\Object_304',\n",
       " 'C:\\\\Users\\\\shaif\\\\Downloads\\\\Compressed\\\\Labeled Baylor 8-30-23\\\\Labeled Baylor 8-30-23\\\\Zebra Ped 1 Image1a\\\\Pedi\\\\Object_306',\n",
       " 'C:\\\\Users\\\\shaif\\\\Downloads\\\\Compressed\\\\Labeled Baylor 8-30-23\\\\Labeled Baylor 8-30-23\\\\Zebra Ped 1 Image1a\\\\Pedi\\\\Object_308',\n",
       " 'C:\\\\Users\\\\shaif\\\\Downloads\\\\Compressed\\\\Labeled Baylor 8-30-23\\\\Labeled Baylor 8-30-23\\\\Zebra Ped 1 Image1a\\\\Pedi\\\\Object_310',\n",
       " 'C:\\\\Users\\\\shaif\\\\Downloads\\\\Compressed\\\\Labeled Baylor 8-30-23\\\\Labeled Baylor 8-30-23\\\\Zebra Ped 1 Image1a\\\\Pedi\\\\Object_311',\n",
       " 'C:\\\\Users\\\\shaif\\\\Downloads\\\\Compressed\\\\Labeled Baylor 8-30-23\\\\Labeled Baylor 8-30-23\\\\Zebra Ped 1 Image1a\\\\Pedi\\\\Object_313',\n",
       " 'C:\\\\Users\\\\shaif\\\\Downloads\\\\Compressed\\\\Labeled Baylor 8-30-23\\\\Labeled Baylor 8-30-23\\\\Zebra Ped 1 Image1a\\\\Pedi\\\\Object_315',\n",
       " 'C:\\\\Users\\\\shaif\\\\Downloads\\\\Compressed\\\\Labeled Baylor 8-30-23\\\\Labeled Baylor 8-30-23\\\\Zebra Ped 1 Image1a\\\\Pedi\\\\Object_317',\n",
       " 'C:\\\\Users\\\\shaif\\\\Downloads\\\\Compressed\\\\Labeled Baylor 8-30-23\\\\Labeled Baylor 8-30-23\\\\Zebra Ped 1 Image1a\\\\Pedi\\\\Object_325',\n",
       " 'C:\\\\Users\\\\shaif\\\\Downloads\\\\Compressed\\\\Labeled Baylor 8-30-23\\\\Labeled Baylor 8-30-23\\\\Zebra Ped 1 Image1a\\\\Pedi\\\\Object_340']"
      ]
     },
     "execution_count": 43,
     "metadata": {},
     "output_type": "execute_result"
    }
   ],
   "source": [
    "import glob\n",
    "invasive_dirs = [\n",
    "    r'C:\\Users\\shaif\\Downloads\\Compressed\\Labeled Baylor 8-30-23\\Labeled Baylor 8-30-23\\Zebra Ped 1a Image1a\\D-Hinge',\n",
    "    r'C:\\Users\\shaif\\Downloads\\Compressed\\Labeled Baylor 8-30-23\\Labeled Baylor 8-30-23\\Zebra Ped 1 Image1a\\Pedi'\n",
    "]\n",
    "\n",
    "invasive_subdirs = []\n",
    "\n",
    "# Collect subdirectories in the invasive category\n",
    "for invasive_dir in invasive_dirs:\n",
    "    invasive_subdirs.extend(glob.glob(invasive_dir))\n",
    "    \n",
    "y1 = []\n",
    "x = invasive_subdirs\n",
    "# Read subdirectories for each directory in x\n",
    "for directory in x:\n",
    "    subdirectories = glob.glob(directory + r'\\*')\n",
    "    y1.extend(subdirectories)\n",
    "    \n",
    "y1"
   ]
  },
  {
   "cell_type": "code",
   "execution_count": 1,
   "id": "c6e38d80",
   "metadata": {},
   "outputs": [
    {
     "data": {
      "text/plain": [
       "(449, 40, 40, 3)"
      ]
     },
     "execution_count": 1,
     "metadata": {},
     "output_type": "execute_result"
    }
   ],
   "source": [
    "import os\n",
    "import tensorflow as tf\n",
    "from PIL import Image\n",
    "import numpy as np\n",
    "\n",
    "\n",
    "    \n",
    "# Define the folder location\n",
    "folder_location = r\"C:\\Users\\shaif\\Downloads\\Compressed\\Labeled Baylor 8-30-23\\Labeled Baylor 8-30-23\\Zebra Ped 1a Image1a\\D-Hinge\"\n",
    "\n",
    "folders = os.listdir(folder_location)\n",
    "\n",
    "# Define the desired image size\n",
    "target_size = (40, 40)\n",
    "\n",
    "# Initialize an empty list to store the processed images\n",
    "processed_images = []\n",
    "\n",
    "# Iterate through each folder\n",
    "for folder in folders:\n",
    "    # Construct the folder path\n",
    "    folder_path = os.path.join(folder_location, folder)\n",
    "    \n",
    "    # List all images in the folder\n",
    "    images = os.listdir(folder_path)\n",
    "    \n",
    "    # Iterate through each image\n",
    "    for image_name in images:\n",
    "        # Construct the image path\n",
    "        image_path = os.path.join(folder_path, image_name)\n",
    "        \n",
    "        # Open the image using PIL\n",
    "        image = Image.open(image_path)\n",
    "        \n",
    "        # Resize the image using TensorFlow\n",
    "        resized_image = tf.image.resize_with_crop_or_pad(\n",
    "            tf.keras.preprocessing.image.img_to_array(image),\n",
    "            target_size[0],\n",
    "            target_size[1]\n",
    "        )\n",
    "        \n",
    "        # Normalize the data for deep learning\n",
    "        normalized_image = (resized_image - 127.5) / 127.5\n",
    "        \n",
    "        # Append the processed image to the list\n",
    "        processed_images.append(normalized_image)\n",
    "\n",
    "# Convert the list of images to a NumPy array\n",
    "processed_images = np.array(processed_images)\n",
    "processed_images.shape"
   ]
  },
  {
   "cell_type": "code",
   "execution_count": 47,
   "id": "db9b5410",
   "metadata": {},
   "outputs": [
    {
     "data": {
      "text/plain": [
       "(3886, 40, 40, 3)"
      ]
     },
     "execution_count": 47,
     "metadata": {},
     "output_type": "execute_result"
    }
   ],
   "source": [
    "\n",
    "import os\n",
    "import numpy as np\n",
    "import tensorflow as tf\n",
    "from PIL import Image\n",
    "\n",
    "def preprocess_images(y1, label_num, target_size=(40, 40)):\n",
    "    # List to store image files\n",
    "    image_files = []\n",
    "    # List to store labels\n",
    "    labels = []\n",
    "\n",
    "    # Retrieve image files and create labels for each directory in y1\n",
    "    for directory in y1:\n",
    "        for root, dirs, files in os.walk(directory):\n",
    "            for file in files:\n",
    "                # Check if the file has an image extension\n",
    "                if file.lower().endswith(('.jpg', '.jpeg', '.png')):\n",
    "                    # Add the file path to the image_files list\n",
    "                    image_files.append(os.path.join(root, file))\n",
    "                    # Add the label to the labels list\n",
    "                    \n",
    "\n",
    "    # List to store preprocessed images\n",
    "    images = []\n",
    "\n",
    "    # Preprocess each image\n",
    "    for file in image_files:\n",
    "        try:\n",
    "            # Read the image using PIL\n",
    "            image = Image.open(file)\n",
    "            # Resize the image using tf.image.resize_with_crop_or_pad()\n",
    "            image = tf.image.resize_with_crop_or_pad(\n",
    "                tf.keras.preprocessing.image.img_to_array(image),\n",
    "                target_size[0],\n",
    "                target_size[1]\n",
    "            )\n",
    "            # Normalize the image pixels for ML training\n",
    "            image = image / 255.0\n",
    "            # Add the preprocessed image to the images list\n",
    "            images.append(image)\n",
    "            labels.append(label_num)\n",
    "        except Exception as e:\n",
    "            print(f\"Error processing image: {file}. Skipping...\")\n",
    "            continue\n",
    "\n",
    "    # Convert the images and labels lists to numpy arrays\n",
    "    images = np.array(images)\n",
    "\n",
    "    return images\n",
    "\n",
    "\n",
    "X0 = preprocess_images(y1, label_num = 0)\n",
    "np.shape(X0)"
   ]
  },
  {
   "cell_type": "code",
   "execution_count": null,
   "id": "585710ff",
   "metadata": {},
   "outputs": [],
   "source": []
  },
  {
   "cell_type": "code",
   "execution_count": 6,
   "id": "8ca0ef52",
   "metadata": {},
   "outputs": [],
   "source": [
    "from tensorflow.keras.models import load_model\n",
    "# Define the path to the model file\n",
    "model_path = r'E:\\single_image_model.h5'\n",
    "# Load the model with custom_objects argument\n",
    "model = load_model(model_path)\n",
    "# Print the model summary\n",
    "#model.summary()"
   ]
  },
  {
   "cell_type": "code",
   "execution_count": 7,
   "id": "7ddc1517",
   "metadata": {},
   "outputs": [
    {
     "name": "stdout",
     "output_type": "stream",
     "text": [
      "Count of 0: 198\n",
      "Count of 1: 251\n",
      "Count of 2: 0\n"
     ]
    }
   ],
   "source": [
    "x = model.predict(processed_images)\n",
    "res = np.argmax(x,axis = 1)\n",
    "count_0 = 0\n",
    "count_1 = 0\n",
    "count_2 = 0\n",
    "\n",
    "# Count the numbers\n",
    "for i in res:\n",
    "    if(i==0):\n",
    "        count_0  = count_0  + 1\n",
    "    elif(i==1):\n",
    "        count_1  = count_1  + 1\n",
    "    else:\n",
    "        count_2  = count_2  + 1\n",
    "\n",
    "# Print the counts\n",
    "print(\"Count of 0:\", count_0)\n",
    "print(\"Count of 1:\", count_1)\n",
    "print(\"Count of 2:\", count_2)"
   ]
  },
  {
   "cell_type": "code",
   "execution_count": 54,
   "id": "ac85bd14",
   "metadata": {},
   "outputs": [
    {
     "data": {
      "text/plain": [
       "(3886, 3)"
      ]
     },
     "execution_count": 54,
     "metadata": {},
     "output_type": "execute_result"
    }
   ],
   "source": [
    "np.shape(x)"
   ]
  },
  {
   "cell_type": "code",
   "execution_count": 77,
   "id": "3572fe3d",
   "metadata": {},
   "outputs": [],
   "source": [
    "import os\n",
    "\n",
    "def count_images_in_subdirs(folder_location):\n",
    "    subdir_image_counts = []\n",
    "    \n",
    "    for subdir in os.listdir(folder_location):\n",
    "        subdir_path = os.path.join(folder_location, subdir)\n",
    "        \n",
    "        if os.path.isdir(subdir_path):\n",
    "            image_count = len([f for f in os.listdir(subdir_path) if f.lower().endswith(('.png', '.jpg', '.jpeg', '.gif', '.bmp'))])\n",
    "            subdir_image_counts.append(image_count)\n",
    "    \n",
    "    return subdir_image_counts\n",
    "\n",
    "image_counts = count_images_in_subdirs(folder_location)\n"
   ]
  },
  {
   "cell_type": "code",
   "execution_count": 79,
   "id": "dbf39941",
   "metadata": {},
   "outputs": [],
   "source": [
    "x = model.predict(processed_images)\n",
    "result = []\n",
    "res_detailed = []\n",
    "y = 0\n",
    "for i in image_counts:\n",
    "    larvae = x[y:y+i]\n",
    "    y = i+y\n",
    "    average = np.mean(larvae, axis=0)\n",
    "    #print((average))\n",
    "    pred = np.argmax(average)\n",
    "    #print(pred)\n",
    "    result.append(pred)\n",
    "    res_detailed.append(average)\n"
   ]
  },
  {
   "cell_type": "code",
   "execution_count": null,
   "id": "100d2624",
   "metadata": {},
   "outputs": [],
   "source": []
  },
  {
   "cell_type": "code",
   "execution_count": null,
   "id": "4c5c52de",
   "metadata": {},
   "outputs": [],
   "source": []
  },
  {
   "cell_type": "code",
   "execution_count": 104,
   "id": "9045916f",
   "metadata": {},
   "outputs": [
    {
     "name": "stdout",
     "output_type": "stream",
     "text": [
      "Number of Total Organisms :  2197 \n",
      "\n",
      "Number of Invasive :  464\n"
     ]
    }
   ],
   "source": [
    "import os\n",
    "import tensorflow as tf\n",
    "from PIL import Image\n",
    "import numpy as np\n",
    "\n",
    "# Define the folder location\n",
    "folder_location = r\"C:\\Users\\shaif\\Downloads\\Compressed\\68 Red Bud Isle Sample 19 Kayak Net 13 min\\68 Red Bud Isle Sample 19 Kayak Net 13 min\\68_59 Red Bud Isle Sample 19 Kayak Net 13 min5-27-2022 1_27PM Image1\\Images_001\"\n",
    "\n",
    "folders = os.listdir(folder_location)\n",
    "\n",
    "# Define the desired image size\n",
    "target_size = (40, 40)\n",
    "\n",
    "# Initialize an empty list to store the processed images\n",
    "processed_images = []\n",
    "\n",
    "# Iterate through each folder\n",
    "for folder in folders:\n",
    "    # Construct the folder path\n",
    "    folder_path = os.path.join(folder_location, folder)\n",
    "    \n",
    "    # List all images in the folder\n",
    "    images = os.listdir(folder_path)\n",
    "    \n",
    "    # Iterate through each image\n",
    "    for image_name in images:\n",
    "        # Construct the image path\n",
    "        image_path = os.path.join(folder_path, image_name)\n",
    "        \n",
    "        # Open the image using PIL\n",
    "        image = Image.open(image_path)\n",
    "        \n",
    "        # Resize the image using TensorFlow\n",
    "        resized_image = tf.image.resize_with_crop_or_pad(\n",
    "            tf.keras.preprocessing.image.img_to_array(image),\n",
    "            target_size[0],\n",
    "            target_size[1]\n",
    "        )\n",
    "        \n",
    "        # Normalize the data for deep learning\n",
    "        normalized_image = (resized_image - 127.5) / 127.5\n",
    "        \n",
    "        # Append the processed image to the list\n",
    "        processed_images.append(normalized_image)\n",
    "\n",
    "# Convert the list of images to a NumPy array\n",
    "processed_images = np.array(processed_images)\n",
    "\n",
    "import os\n",
    "\n",
    "def count_images_in_subdirs(folder_location):\n",
    "    subdir_image_counts = []\n",
    "    \n",
    "    for subdir in os.listdir(folder_location):\n",
    "        subdir_path = os.path.join(folder_location, subdir)\n",
    "        \n",
    "        if os.path.isdir(subdir_path):\n",
    "            image_count = len([f for f in os.listdir(subdir_path) if f.lower().endswith(('.png', '.jpg', '.jpeg', '.gif', '.bmp'))])\n",
    "            subdir_image_counts.append(image_count)\n",
    "    \n",
    "    return subdir_image_counts\n",
    "\n",
    "image_counts = count_images_in_subdirs(folder_location)\n",
    "\n",
    "\n",
    "x = model.predict(processed_images)\n",
    "result = []\n",
    "res_detailed = []\n",
    "y = 0\n",
    "for i in image_counts:\n",
    "    larvae = x[y:y+i]\n",
    "    y = i+y\n",
    "    average = np.mean(larvae, axis=0)\n",
    "    #print((average))\n",
    "    pred = np.argmax(average)\n",
    "    #print(pred)\n",
    "    result.append(pred)\n",
    "    res_detailed.append(average)\n",
    "\n",
    "count_of_ones = result.count(1)\n",
    "\n",
    "print(\"Number of Total Organisms : \",len(result),\"\\n\")\n",
    "\n",
    "print(\"Number of Invasive : \", count_of_ones)"
   ]
  },
  {
   "cell_type": "code",
   "execution_count": 3,
   "id": "178ef8bf",
   "metadata": {},
   "outputs": [],
   "source": [
    "y = []"
   ]
  },
  {
   "cell_type": "code",
   "execution_count": 31,
   "id": "3fbd03a4",
   "metadata": {},
   "outputs": [],
   "source": [
    "import os\n",
    "import tensorflow as tf\n",
    "from PIL import Image\n",
    "import numpy as np\n",
    "\n",
    "\n",
    "    \n",
    "# Define the folder location\n",
    "folder_location = r\"C:\\Users\\shaif\\Downloads\\Compressed\\68 Red Bud Isle Sample 19 Kayak Net 13 min\\68 Red Bud Isle Sample 19 Kayak Net 13 min\\68_59 Red Bud Isle Sample 19 Kayak Net 13 min5-27-2022 1_27PM Image3\\Images_001\"\n",
    "\n",
    "folders = os.listdir(folder_location)\n",
    "\n",
    "# Define the desired image size\n",
    "target_size = (40, 40)\n",
    "\n",
    "# Initialize an empty list to store the processed images\n",
    "processed_images = []\n",
    "\n",
    "# Iterate through each folder\n",
    "for folder in folders:\n",
    "    # Construct the folder path\n",
    "    folder_path = os.path.join(folder_location, folder)\n",
    "    \n",
    "    # List all images in the folder\n",
    "    images = os.listdir(folder_path)\n",
    "    \n",
    "    # Iterate through each image\n",
    "    for image_name in images:\n",
    "        # Construct the image path\n",
    "        image_path = os.path.join(folder_path, image_name)\n",
    "        \n",
    "        # Open the image using PIL\n",
    "        image = Image.open(image_path)\n",
    "        \n",
    "        # Resize the image using TensorFlow\n",
    "        resized_image = tf.image.resize_with_crop_or_pad(\n",
    "            tf.keras.preprocessing.image.img_to_array(image),\n",
    "            target_size[0],\n",
    "            target_size[1]\n",
    "        )\n",
    "        \n",
    "        # Normalize the data for deep learning\n",
    "        normalized_image = (resized_image - 127.5) / 127.5\n",
    "        \n",
    "        # Append the processed image to the list\n",
    "        processed_images.append(normalized_image)\n",
    "\n",
    "# Convert the list of images to a NumPy array\n",
    "processed_images = np.array(processed_images)\n",
    "processed_images.shape\n",
    "x = model.predict(processed_images)\n",
    "y.append(x)"
   ]
  },
  {
   "cell_type": "code",
   "execution_count": 33,
   "id": "64e9e799",
   "metadata": {},
   "outputs": [
    {
     "data": {
      "text/plain": [
       "(10,)"
      ]
     },
     "execution_count": 33,
     "metadata": {},
     "output_type": "execute_result"
    }
   ],
   "source": [
    "np.shape(y)"
   ]
  },
  {
   "cell_type": "code",
   "execution_count": 35,
   "id": "d2470fa9",
   "metadata": {},
   "outputs": [
    {
     "data": {
      "text/plain": [
       "(463417, 3)"
      ]
     },
     "execution_count": 35,
     "metadata": {},
     "output_type": "execute_result"
    }
   ],
   "source": [
    "np.shape(result)"
   ]
  },
  {
   "cell_type": "code",
   "execution_count": 34,
   "id": "a41353bb",
   "metadata": {},
   "outputs": [],
   "source": [
    "import numpy as np\n",
    "result = np.vstack(y)"
   ]
  },
  {
   "cell_type": "code",
   "execution_count": 36,
   "id": "bd07477d",
   "metadata": {},
   "outputs": [
    {
     "data": {
      "image/png": "[encoded data removed]",
      "text/plain": [
       "<Figure size 640x480 with 1 Axes>"
      ]
     },
     "metadata": {},
     "output_type": "display_data"
    }
   ],
   "source": [
    "import matplotlib.pyplot as plt\n",
    "from mpl_toolkits.mplot3d import Axes3D\n",
    "import numpy as np\n",
    "\n",
    "# Assuming `result` is your array with shape (463417, 3)\n",
    "\n",
    "# Create a 3D figure\n",
    "fig = plt.figure()\n",
    "ax = fig.add_subplot(111, projection='3d')\n",
    "\n",
    "# Extract x, y, z coordinates\n",
    "x = result[:, 0]\n",
    "y = result[:, 1]\n",
    "z = result[:, 2]\n",
    "\n",
    "# Scatter plot the points\n",
    "ax.scatter(x, y, z)\n",
    "\n",
    "# Set labels for each axis\n",
    "ax.set_xlabel('X')\n",
    "ax.set_ylabel('Y')\n",
    "ax.set_zlabel('Z')\n",
    "\n",
    "# Show the plot\n",
    "plt.show()\n"
   ]
  },
  {
   "cell_type": "code",
   "execution_count": null,
   "id": "e5678df5",
   "metadata": {},
   "outputs": [],
   "source": []
  },
  {
   "cell_type": "code",
   "execution_count": null,
   "id": "1dac3027",
   "metadata": {},
   "outputs": [],
   "source": []
  },
  {
   "cell_type": "code",
   "execution_count": null,
   "id": "dcd019ff",
   "metadata": {},
   "outputs": [],
   "source": []
  },
  {
   "cell_type": "code",
   "execution_count": null,
   "id": "ffb8b10a",
   "metadata": {},
   "outputs": [],
   "source": []
  },
  {
   "cell_type": "code",
   "execution_count": null,
   "id": "c73fcf38",
   "metadata": {},
   "outputs": [],
   "source": []
  },
  {
   "cell_type": "code",
   "execution_count": null,
   "id": "fab5996a",
   "metadata": {},
   "outputs": [],
   "source": []
  },
  {
   "cell_type": "code",
   "execution_count": null,
   "id": "a7a94a5d",
   "metadata": {},
   "outputs": [],
   "source": []
  },
  {
   "cell_type": "code",
   "execution_count": null,
   "id": "809669d8",
   "metadata": {},
   "outputs": [],
   "source": []
  }
 ],
 "metadata": {
  "kernelspec": {
   "display_name": "Python 3 (ipykernel)",
   "language": "python",
   "name": "python3"
  },
  "language_info": {
   "codemirror_mode": {
    "name": "ipython",
    "version": 3
   },
   "file_extension": ".py",
   "mimetype": "text/x-python",
   "name": "python",
   "nbconvert_exporter": "python",
   "pygments_lexer": "ipython3",
   "version": "3.8.16"
  }
 },
 "nbformat": 4,
 "nbformat_minor": 5
}
