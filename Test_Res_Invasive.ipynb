{
 "cells": [
  {
   "cell_type": "code",
   "execution_count": 17,
   "id": "39c00f3e",
   "metadata": {},
   "outputs": [
    {
     "data": {
      "text/plain": [
       "(449, 40, 40, 3)"
      ]
     },
     "execution_count": 17,
     "metadata": {},
     "output_type": "execute_result"
    }
   ],
   "source": [
    "import os\n",
    "import tensorflow as tf\n",
    "from PIL import Image\n",
    "import numpy as np\n",
    "\n",
    "# Define the folder location\n",
    "folder_location = r\"C:\\Users\\shaif\\Downloads\\Compressed\\Labeled Baylor 8-30-23\\Labeled Baylor 8-30-23\\Zebra Ped 1a Image1a\\D-Hinge\"\n",
    "\n",
    "folders = os.listdir(folder_location)\n",
    "\n",
    "# Define the desired image size\n",
    "target_size = (40, 40)\n",
    "\n",
    "# Initialize an empty list to store the processed images\n",
    "processed_images = []\n",
    "\n",
    "# Iterate through each folder\n",
    "for folder in folders:\n",
    "    # Construct the folder path\n",
    "    folder_path = os.path.join(folder_location, folder)\n",
    "    \n",
    "    # List all images in the folder\n",
    "    images = os.listdir(folder_path)\n",
    "    \n",
    "    # Iterate through each image\n",
    "    for image_name in images:\n",
    "        # Construct the image path\n",
    "        image_path = os.path.join(folder_path, image_name)\n",
    "        \n",
    "        # Open the image using PIL\n",
    "        image = Image.open(image_path)\n",
    "        \n",
    "        # Resize the image using TensorFlow\n",
    "        resized_image = tf.image.resize_with_crop_or_pad(\n",
    "            tf.keras.preprocessing.image.img_to_array(image),\n",
    "            target_size[0],\n",
    "            target_size[1]\n",
    "        )\n",
    "        \n",
    "        # Normalize the data for deep learning\n",
    "        normalized_image = (resized_image - 127.5) / 127.5\n",
    "        \n",
    "        # Append the processed image to the list\n",
    "        processed_images.append(normalized_image)\n",
    "\n",
    "# Convert the list of images to a NumPy array\n",
    "processed_images = np.array(processed_images)\n",
    "processed_images.shape"
   ]
  },
  {
   "cell_type": "code",
   "execution_count": null,
   "id": "585710ff",
   "metadata": {},
   "outputs": [],
   "source": []
  },
  {
   "cell_type": "code",
   "execution_count": 18,
   "id": "8ca0ef52",
   "metadata": {},
   "outputs": [
    {
     "name": "stdout",
     "output_type": "stream",
     "text": [
      "Model: \"sequential_2\"\n",
      "_________________________________________________________________\n",
      " Layer (type)                Output Shape              Param #   \n",
      "=================================================================\n",
      " conv2d_6 (Conv2D)           (None, 38, 38, 32)        896       \n",
      "                                                                 \n",
      " max_pooling2d_4 (MaxPooling  (None, 19, 19, 32)       0         \n",
      " 2D)                                                             \n",
      "                                                                 \n",
      " conv2d_7 (Conv2D)           (None, 17, 17, 32)        9248      \n",
      "                                                                 \n",
      " max_pooling2d_5 (MaxPooling  (None, 8, 8, 32)         0         \n",
      " 2D)                                                             \n",
      "                                                                 \n",
      " conv2d_8 (Conv2D)           (None, 6, 6, 16)          4624      \n",
      "                                                                 \n",
      " flatten_2 (Flatten)         (None, 576)               0         \n",
      "                                                                 \n",
      " dense_6 (Dense)             (None, 64)                36928     \n",
      "                                                                 \n",
      " dense_7 (Dense)             (None, 10)                650       \n",
      "                                                                 \n",
      " dense_8 (Dense)             (None, 3)                 33        \n",
      "                                                                 \n",
      "=================================================================\n",
      "Total params: 52,379\n",
      "Trainable params: 52,379\n",
      "Non-trainable params: 0\n",
      "_________________________________________________________________\n"
     ]
    }
   ],
   "source": [
    "from tensorflow.keras.models import load_model\n",
    "\n",
    "# Define the path to the model file\n",
    "model_path = r'E:\\new_model\\single_image_model.h5'\n",
    "\n",
    "# Define the custom metric function\n",
    "def get_f1(y_true, y_pred):\n",
    "    return 0  # Blank function\n",
    "\n",
    "# Load the model with custom_objects argument\n",
    "model = load_model(model_path, custom_objects={'get_f1': get_f1})\n",
    "\n",
    "# Print the model summary\n",
    "model.summary()\n"
   ]
  },
  {
   "cell_type": "code",
   "execution_count": 78,
   "id": "7ddc1517",
   "metadata": {},
   "outputs": [
    {
     "name": "stdout",
     "output_type": "stream",
     "text": [
      "Count of 0: 7637\n",
      "Count of 1: 9\n",
      "Count of 2: 25501\n"
     ]
    }
   ],
   "source": [
    "x = model.predict(processed_images)\n",
    "result = []\n",
    "\n",
    "for i in x:\n",
    "    arr = []\n",
    "    o = i[0] - .4\n",
    "    n = i[1] - .05\n",
    "    m = i[2] + .45\n",
    "    \n",
    "    arr.append(o)\n",
    "    arr.append(n)\n",
    "    arr.append(m)\n",
    "    \n",
    "    result.append(arr)\n",
    "\n",
    "res = np.argmax(result,axis = 1)\n",
    "count_0 = 0\n",
    "count_1 = 0\n",
    "count_2 = 0\n",
    "# Count the numbers\n",
    "for i in res:\n",
    "    if(i==0):\n",
    "        count_0  = count_0  + 1\n",
    "    elif(i==1):\n",
    "        count_1  = count_1  + 1\n",
    "    else:\n",
    "        count_2  = count_2  + 1\n",
    "\n",
    "# Print the counts\n",
    "print(\"Count of 0:\", count_0)\n",
    "print(\"Count of 1:\", count_1)\n",
    "print(\"Count of 2:\", count_2)"
   ]
  },
  {
   "cell_type": "code",
   "execution_count": 73,
   "id": "ac85bd14",
   "metadata": {},
   "outputs": [],
   "source": []
  },
  {
   "cell_type": "code",
   "execution_count": 19,
   "id": "3572fe3d",
   "metadata": {},
   "outputs": [
    {
     "name": "stdout",
     "output_type": "stream",
     "text": [
      "Count of 0: 1\n",
      "Count of 1: 88\n",
      "Count of 2: 360\n"
     ]
    }
   ],
   "source": [
    "x = model.predict(processed_images)\n",
    "res = np.argmax(x,axis = 1)\n",
    "count_0 = 0\n",
    "count_1 = 0\n",
    "count_2 = 0\n",
    "# Count the numbers\n",
    "for i in res:\n",
    "    if(i==0):\n",
    "        count_0  = count_0  + 1\n",
    "    elif(i==1):\n",
    "        count_1  = count_1  + 1\n",
    "    else:\n",
    "        count_2  = count_2  + 1\n",
    "\n",
    "# Print the counts\n",
    "print(\"Count of 0:\", count_0)\n",
    "print(\"Count of 1:\", count_1)\n",
    "print(\"Count of 2:\", count_2)"
   ]
  },
  {
   "cell_type": "code",
   "execution_count": null,
   "id": "dbf39941",
   "metadata": {},
   "outputs": [],
   "source": []
  },
  {
   "cell_type": "code",
   "execution_count": null,
   "id": "100d2624",
   "metadata": {},
   "outputs": [],
   "source": []
  },
  {
   "cell_type": "code",
   "execution_count": null,
   "id": "4c5c52de",
   "metadata": {},
   "outputs": [],
   "source": []
  },
  {
   "cell_type": "code",
   "execution_count": null,
   "id": "9045916f",
   "metadata": {},
   "outputs": [],
   "source": []
  },
  {
   "cell_type": "code",
   "execution_count": null,
   "id": "178ef8bf",
   "metadata": {},
   "outputs": [],
   "source": []
  },
  {
   "cell_type": "code",
   "execution_count": null,
   "id": "3fbd03a4",
   "metadata": {},
   "outputs": [],
   "source": []
  },
  {
   "cell_type": "code",
   "execution_count": null,
   "id": "64e9e799",
   "metadata": {},
   "outputs": [],
   "source": []
  },
  {
   "cell_type": "code",
   "execution_count": null,
   "id": "d2470fa9",
   "metadata": {},
   "outputs": [],
   "source": []
  },
  {
   "cell_type": "code",
   "execution_count": null,
   "id": "a41353bb",
   "metadata": {},
   "outputs": [],
   "source": []
  },
  {
   "cell_type": "code",
   "execution_count": null,
   "id": "809669d8",
   "metadata": {},
   "outputs": [],
   "source": []
  }
 ],
 "metadata": {
  "kernelspec": {
   "display_name": "Python 3 (ipykernel)",
   "language": "python",
   "name": "python3"
  },
  "language_info": {
   "codemirror_mode": {
    "name": "ipython",
    "version": 3
   },
   "file_extension": ".py",
   "mimetype": "text/x-python",
   "name": "python",
   "nbconvert_exporter": "python",
   "pygments_lexer": "ipython3",
   "version": "3.8.16"
  }
 },
 "nbformat": 4,
 "nbformat_minor": 5
}
