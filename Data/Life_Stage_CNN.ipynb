{
 "cells": [
  {
   "cell_type": "code",
   "execution_count": 1,
   "id": "3e308c4b",
   "metadata": {},
   "outputs": [
    {
     "name": "stderr",
     "output_type": "stream",
     "text": [
      "C:\\Users\\chowd\\AppData\\Roaming\\Python\\Python39\\site-packages\\tensorflow_addons\\utils\\ensure_tf_install.py:53: UserWarning: Tensorflow Addons supports using Python ops for all Tensorflow versions above or equal to 2.9.0 and strictly below 2.12.0 (nightly versions are not supported). \n",
      " The versions of TensorFlow you are currently using is 2.7.0 and is not supported. \n",
      "Some things might work, some things might not.\n",
      "If you were to encounter a bug, do not file an issue.\n",
      "If you want to make sure you're using a tested and supported configuration, either change the TensorFlow version or the TensorFlow Addons's version. \n",
      "You can find the compatibility matrix in TensorFlow Addon's readme:\n",
      "https://github.com/tensorflow/addons\n",
      "  warnings.warn(\n"
     ]
    }
   ],
   "source": [
    "import numpy as np # linear algebra\n",
    "import pandas as pd # data processing, CSV file I/O (e.g. pd.read_csv)\n",
    "import os\n",
    "from sklearn.model_selection import train_test_split\n",
    "import json\n",
    "\n",
    "import glob\n",
    "import random\n",
    "import collections\n",
    "from glob import glob\n",
    "import numpy as np\n",
    "import pandas as pd\n",
    "\n",
    "#import cv2\n",
    "import matplotlib.pyplot as plt\n",
    "import numpy as np\n",
    "import pandas as pd\n",
    "from sklearn.utils import shuffle\n",
    "\n",
    "from skimage.io import imread\n",
    "from skimage.transform import resize\n",
    "from keras import layers\n",
    "from keras import models\n",
    "import keras\n",
    "from keras.layers import LeakyReLU\n",
    "from keras.models import Sequential, Model, load_model\n",
    "from keras.layers import Input, Conv1D, Conv2D, MaxPooling1D, MaxPooling2D, Dense, Dropout, Activation, Flatten\n",
    "import tensorflow as tf\n",
    "from tensorflow import keras\n",
    "from tensorflow.keras import layers\n",
    "\n",
    "import shutil\n",
    "import keras\n",
    "from PIL import Image\n",
    "#import cv2\n",
    "import numpy as np\n",
    "import matplotlib.pyplot as plt\n",
    "import pandas as pd\n",
    "import keras\n",
    "import json\n",
    "import tensorflow as tf \n",
    "from keras.layers import Input\n",
    "from keras import Sequential\n",
    "from keras.layers import Dense, LSTM,Flatten, TimeDistributed, Conv2D, Dropout\n",
    "from keras.applications.inception_v3 import InceptionV3\n",
    "from keras.applications.vgg16 import VGG16\n",
    "import tensorflow_datasets as tfds\n",
    "import tensorflow as tf\n",
    "from tensorflow import keras\n",
    "from tensorflow.keras import layers\n",
    "import matplotlib.pyplot as plt\n",
    "import re\n",
    "import string\n",
    "\n",
    "from keras.models import load_model\n",
    "from keras.callbacks import Callback,ModelCheckpoint\n",
    "from keras.models import Sequential,load_model\n",
    "from keras.layers import Dense, Dropout\n",
    "from keras.wrappers.scikit_learn import KerasClassifier\n",
    "import keras.backend as K\n",
    "import numpy as np\n",
    "import pandas as pd\n",
    "\n",
    "from skimage.io import imread\n",
    "from skimage.transform import resize\n",
    "from keras import layers\n",
    "from keras import models\n",
    "import keras\n",
    "from keras.layers import LeakyReLU\n",
    "from keras.models import Sequential, Model, load_model\n",
    "from keras.layers import Input, Conv1D,Reshape, Conv2D, MaxPooling1D, MaxPooling2D, Dense, Dropout, Activation, Flatten, UpSampling2D\n",
    "import tensorflow as tf\n",
    "from tensorflow import keras\n",
    "from tensorflow.keras import layers\n",
    "\n",
    "import numpy as np\n",
    "import pandas as pd\n",
    "\n",
    "from skimage.io import imread\n",
    "from skimage.transform import resize\n",
    "from keras import layers\n",
    "from keras import models\n",
    "import keras\n",
    "from keras.layers import LeakyReLU\n",
    "from keras.models import Sequential, Model, load_model\n",
    "from keras.layers import Input, Conv1D, Conv2D, MaxPooling1D, MaxPooling2D, Dense, Dropout, Activation, Flatten\n",
    "import tensorflow as tf\n",
    "from tensorflow import keras\n",
    "from tensorflow.keras import layers\n",
    "\n",
    "from keras.callbacks import Callback,ModelCheckpoint\n",
    "from keras.models import Sequential,load_model\n",
    "from keras.layers import Dense, Dropout\n",
    "from keras.wrappers.scikit_learn import KerasClassifier\n",
    "import keras.backend as K\n",
    "\n",
    "import tensorflow as tf\n",
    "import tensorflow_addons as tfa\n",
    "import numpy as np\n",
    "from tensorflow import keras\n",
    "from tensorflow.keras import layers\n",
    "from keras.datasets import cifar10\n",
    "from tensorflow.keras.utils import to_categorical\n",
    "from tensorflow.keras import layers\n",
    "from tensorflow.keras import regularizers\n",
    "import tensorflow as tf\n",
    "import matplotlib.pyplot as plt\n",
    "import numpy as np\n",
    "from tensorflow.keras.layers import Lambda, Conv2D, MaxPooling2D, Flatten, Dense\n",
    "from tensorflow.keras import Input\n",
    "from keras.layers import TimeDistributed, Conv2D, Dense, MaxPooling2D, Flatten, LSTM, Dropout, BatchNormalization\n",
    "from keras import models\n",
    "AUTO = tf.data.AUTOTUNE\n",
    "from sklearn.metrics import confusion_matrix\n",
    "import random\n",
    "\n",
    "AUTO = tf.data.AUTOTUNE\n",
    "BATCH_SIZE = 32\n",
    "EPOCHS = 50\n",
    "CROP_TO = 32\n",
    "SEED = 26\n",
    "\n",
    "PROJECT_DIM = 128\n",
    "LATENT_DIM = 256\n",
    "WEIGHT_DECAY = 0.0005\n",
    "learning_rate = 0.0001\n",
    "batch_size = 64\n",
    "hidden_units = 256\n",
    "projection_units = 128\n",
    "num_epochs = 2\n",
    "dropout_rate = 0.5\n",
    "\n",
    "temperature = 0.05"
   ]
  },
  {
   "cell_type": "code",
   "execution_count": 2,
   "id": "554c4f56",
   "metadata": {},
   "outputs": [],
   "source": [
    "trn10='D:/data/Veligers/Preserved Zebra Ped 1 To Baylor/Preserved Zebra Ped 1 To Baylor/Sorted Images/Not/*/'\n",
    "trn11='E:/USGS Labled Zebra/USGS Labled Zebra/Preserved Zebra D-Hinge 1 Baylor/Preserved Zebra D-Hinge 1 Baylor/Sorted Images/Not/*/'\n",
    "trn12='E:/USGS Labled Zebra/USGS Labled Zebra/Baylor Preserved Zebra Umbo 1a Image1/Baylor Preserved Zebra Umbo 1a Image1/Sorted Images/Not/*/'\n",
    "trn13='D:/data/Veligers/Preserved Zebra Ped 1 To Baylor/Preserved Zebra Ped 1 To Baylor/Sorted Images/Not/*/'\n",
    "trn14='D:/data/Veligers/Preserved Zebra Ped 1a To Baylor/Preserved Zebra Ped 1a To Baylor/Sorted Images/Not/*/'\n",
    "\n",
    "tr1= glob(trn10)\n",
    "tr= glob(trn11)\n",
    "tr1.extend(tr)\n",
    "tr= glob(trn12)\n",
    "tr1.extend(tr)\n",
    "tr= glob(trn13)\n",
    "tr1.extend(tr)\n",
    "tr= glob(trn14)\n",
    "tr1.extend(tr)\n",
    "\n",
    "\n",
    "\n",
    "trn20='E:/USGS Labled Zebra/USGS Labled Zebra/Preserved Zebra D-Hinge 1 Baylor/Preserved Zebra D-Hinge 1 Baylor/Sorted Images/Ostracod/*/'\n",
    "trn21='D:/data/Ostracod/Ostracod Day 2 Image12 Short To Baylor/Ostracod Day 2 Image12 To Baylor/Sorted Images/Ostracods/*/'\n",
    "trn22='D:/data/Ostracod/Ostracods Day 2 Image1 To Baylor/Ostracods Day 2 Image1 To Baylor/Sorted Images/Ostracods/*/'\n",
    "trn23='D:/data/Ostracod/Ostracods Day 2 Image2 To Baylor/Ostracods Day 2 Image2 To Baylor/Sorted Images/Ostracods/*/'\n",
    "trn24='D:/data/Ostracod/Ostracods Day 2 Image3 To Baylor/Ostracods Day 2 Image3 To Baylor/Sorted Images/Ostracods/*/'\n",
    "trn25='D:/data/Ostracod/Ostracods Day 2 Image12 To Baylor/Ostracods Day 2 Image12 To Baylor/Sorted Images/Ostracods/*/'\n",
    "trn26='D:/data/Ostracod/Preserved Ostracods 1 To Baylor/Preserved Ostracods 1 To Baylor/Sorted Images/Preserve Ostracods/*/'\n",
    "trn27='D:/data/Ostracod/Preserved Ostracods 1a To Baylor/Preserved Ostracods 1a To Baylor/Sorted Images/Preserved Ostracods 1a/*/'\n",
    "\n",
    "tr2= glob(trn20)\n",
    "tr= glob(trn21)\n",
    "tr2.extend(tr)\n",
    "tr= glob(trn22)\n",
    "tr2.extend(tr)\n",
    "tr= glob(trn23)\n",
    "tr2.extend(tr)\n",
    "tr= glob(trn24)\n",
    "tr2.extend(tr)\n",
    "tr= glob(trn25)\n",
    "tr2.extend(tr)\n",
    "tr= glob(trn26)\n",
    "tr2.extend(tr)\n",
    "tr= glob(trn27)\n",
    "tr2.extend(tr)\n",
    "\n",
    "\n",
    "\n",
    "trn30='E:/USGS Labled Zebra/USGS Labled Zebra/Preserved Zebra D-Hinge 1 Baylor/Preserved Zebra D-Hinge 1 Baylor/Sorted Images/Zebra D-Hinge/*/'\n",
    "\n",
    "tr3= glob(trn30)\n",
    "\n",
    "\n",
    "trn40='E:/USGS Labled Zebra/USGS Labled Zebra/Baylor Preserved Zebra Umbo 1a Image1/Baylor Preserved Zebra Umbo 1a Image1/Sorted Images/Umbonal/*/'\n",
    "trn41='E:/USGS Labled Zebra/USGS Labled Zebra/Baylor Preserved Zebra Umbo 1 Image1/Baylor Preserved Zebra Umbo 1 Image1/Sorted Images/Umbonal/*/'\n",
    "\n",
    "tr4= glob(trn40)\n",
    "tr= glob(trn41)\n",
    "tr4.extend(tr)\n",
    "\n",
    "\n",
    "\n",
    "\n",
    "trn50='D:/data/Veligers/Preserved Zebra Ped 1 To Baylor/Preserved Zebra Ped 1 To Baylor/Sorted Images/Pedi-Zebra Veligers/*/'\n",
    "trn51='D:/data/Veligers/Preserved Zebra Ped 1a To Baylor/Preserved Zebra Ped 1a To Baylor/Sorted Images/Preserved Zebra Ped 1a/*/'\n",
    "\n",
    "tr5= glob(trn50)\n",
    "tr= glob(trn51)\n",
    "tr5.extend(tr)\n"
   ]
  },
  {
   "cell_type": "code",
   "execution_count": 3,
   "id": "3359d4a5",
   "metadata": {},
   "outputs": [
    {
     "name": "stdout",
     "output_type": "stream",
     "text": [
      "261 91 269 120 108\n"
     ]
    }
   ],
   "source": [
    "print(len(tr1),len(tr2),len(tr3),len(tr4),len(tr5))"
   ]
  },
  {
   "cell_type": "code",
   "execution_count": 3,
   "id": "93e95c08",
   "metadata": {},
   "outputs": [
    {
     "data": {
      "text/plain": [
       "188.0"
      ]
     },
     "execution_count": 3,
     "metadata": {},
     "output_type": "execute_result"
    }
   ],
   "source": [
    "from sklearn.utils import shuffle\n",
    "tr1 = shuffle(tr1)\n",
    "tr2 = shuffle(tr2)\n",
    "tr3 = shuffle(tr3)\n",
    "tr4 = shuffle(tr4)\n",
    "tr5 = shuffle(tr5)\n",
    "\n",
    "tran_index_noninv = np.round( len(tr1)* .7  )\n",
    "tran_index_osc = np.round( len(tr2)* .7  )\n",
    "tran_index_dh = np.round( len(tr3)* .7  )\n",
    "tran_index_obm = np.round( len(tr4)* .7  )\n",
    "tran_index_pd = np.round( len(tr5)* .7  )\n",
    "tran_index_dh"
   ]
  },
  {
   "cell_type": "code",
   "execution_count": 4,
   "id": "45982ea3",
   "metadata": {},
   "outputs": [],
   "source": [
    "data = []\n",
    "label = []\n",
    "\n",
    "for i in tr1[:(int) (tran_index_noninv)]:\n",
    "    for j in glob(i+'/*'):\n",
    "        data.append(j)\n",
    "        label.append(0)\n",
    "\n",
    "\n",
    "for i in tr2[:(int)(tran_index_osc)]:\n",
    "    for j in glob(i+'/*'):\n",
    "        data.append(j)\n",
    "        label.append(1)\n",
    "\n",
    "\n",
    "for i in tr3[:(int)(tran_index_dh)]:\n",
    "    for j in glob(i+'/*'):\n",
    "        data.append(j)\n",
    "        label.append(2)\n",
    "        \n",
    "for i in tr4[:(int)(tran_index_obm)]:\n",
    "    for j in glob(i+'/*'):\n",
    "        data.append(j)\n",
    "        label.append(3)\n",
    "        \n",
    "for i in tr5[:(int)(tran_index_pd)]:\n",
    "    for j in glob(i+'/*'):\n",
    "        data.append(j)\n",
    "        label.append(4)\n",
    "\n",
    "imgdata=[]\n",
    "for i in range(len(data)):\n",
    "    a = Image.open(data[i])\n",
    "    b = tf.image.resize_with_crop_or_pad(tf.keras.preprocessing.image.img_to_array(a), 30, 30)\n",
    "    c = np.array(b)\n",
    "    imgdata.append(c.reshape(30,30,3))\n",
    "    "
   ]
  },
  {
   "cell_type": "code",
   "execution_count": 5,
   "id": "d52af463",
   "metadata": {},
   "outputs": [],
   "source": [
    "from tensorflow.keras.utils import to_categorical\n",
    "idata = np.array(imgdata)\n",
    "X_train = idata\n",
    "X_train = X_train.astype('float32') / 255.\n",
    "X_train = np.reshape(X_train, (len(X_train),30,30,3))\n",
    "# One hot vector representation of labels\n",
    "Y_train = to_categorical (label)\n",
    "\n",
    "X_train,Y_train = shuffle(X_train,Y_train)"
   ]
  },
  {
   "cell_type": "code",
   "execution_count": 6,
   "id": "cf5e4c1d",
   "metadata": {},
   "outputs": [],
   "source": [
    "data = []\n",
    "label = []\n",
    "\n",
    "for i in tr1[(int) (tran_index_noninv) + 1 :]:\n",
    "    for j in glob(i+'/*'):\n",
    "        data.append(j)\n",
    "        label.append(0)\n",
    "\n",
    "\n",
    "for i in tr2[(int)(tran_index_osc) + 1 :]:\n",
    "    for j in glob(i+'/*'):\n",
    "        data.append(j)\n",
    "        label.append(1)\n",
    "\n",
    "\n",
    "for i in tr3[(int)(tran_index_dh) + 1 :]:\n",
    "    for j in glob(i+'/*'):\n",
    "        data.append(j)\n",
    "        label.append(2)\n",
    "        \n",
    "for i in tr4[(int)(tran_index_obm) + 1 :]:\n",
    "    for j in glob(i+'/*'):\n",
    "        data.append(j)\n",
    "        label.append(3)\n",
    "        \n",
    "for i in tr5[(int)(tran_index_pd) + 1 :]:\n",
    "    for j in glob(i+'/*'):\n",
    "        data.append(j)\n",
    "        label.append(4)\n",
    "\n",
    "imgdata=[]\n",
    "for i in range(len(data)):\n",
    "    a = Image.open(data[i])\n",
    "    b = tf.image.resize_with_crop_or_pad(tf.keras.preprocessing.image.img_to_array(a), 30, 30)\n",
    "    c = np.array(b)\n",
    "    imgdata.append(c.reshape(30,30,3))\n",
    "    "
   ]
  },
  {
   "cell_type": "code",
   "execution_count": 7,
   "id": "90ea3c5d",
   "metadata": {},
   "outputs": [],
   "source": [
    "from tensorflow.keras.utils import to_categorical\n",
    "idata = np.array(imgdata)\n",
    "X_test = idata\n",
    "X_test = X_test.astype('float32') / 255.\n",
    "X_test = np.reshape(X_test, (len(X_test),30,30,3))\n",
    "# One hot vector representation of labels\n",
    "Y_test = to_categorical(label)\n",
    "\n",
    "X_test,Y_test = shuffle(X_test , Y_test)"
   ]
  },
  {
   "cell_type": "code",
   "execution_count": 11,
   "id": "099fd10c",
   "metadata": {},
   "outputs": [
    {
     "data": {
      "text/plain": [
       "(38738, 5)"
      ]
     },
     "execution_count": 11,
     "metadata": {},
     "output_type": "execute_result"
    }
   ],
   "source": []
  },
  {
   "cell_type": "code",
   "execution_count": 12,
   "id": "e2318c2a",
   "metadata": {},
   "outputs": [
    {
     "name": "stdout",
     "output_type": "stream",
     "text": [
      "Class 0: 10913 elements\n",
      "Class 1: 3802 elements\n",
      "Class 2: 11827 elements\n",
      "Class 3: 7239 elements\n",
      "Class 4: 4957 elements\n"
     ]
    }
   ],
   "source": [
    "import numpy as np\n",
    "\n",
    "# Combine them\n",
    "Y_combined = np.concatenate((Y_train, Y_test), axis=0)\n",
    "Y_numerical = np.argmax(Y_combined, axis=1)\n",
    "\n",
    "# Now let's get the counts of each category\n",
    "unique, counts = np.unique(Y_numerical, return_counts=True)\n",
    "\n",
    "# Display the count of elements from each class number\n",
    "for u, c in zip(unique, counts):\n",
    "    print(f\"Class {u}: {c} elements\")\n"
   ]
  },
  {
   "cell_type": "code",
   "execution_count": null,
   "id": "59114a1f",
   "metadata": {},
   "outputs": [],
   "source": []
  },
  {
   "cell_type": "code",
   "execution_count": 8,
   "id": "69bd9aa3",
   "metadata": {},
   "outputs": [
    {
     "name": "stdout",
     "output_type": "stream",
     "text": [
      "Model: \"sequential\"\n",
      "_________________________________________________________________\n",
      " Layer (type)                Output Shape              Param #   \n",
      "=================================================================\n",
      " conv2d (Conv2D)             (None, 28, 28, 32)        896       \n",
      "                                                                 \n",
      " max_pooling2d (MaxPooling2D  (None, 14, 14, 32)       0         \n",
      " )                                                               \n",
      "                                                                 \n",
      " conv2d_1 (Conv2D)           (None, 12, 12, 64)        18496     \n",
      "                                                                 \n",
      " max_pooling2d_1 (MaxPooling  (None, 6, 6, 64)         0         \n",
      " 2D)                                                             \n",
      "                                                                 \n",
      " conv2d_2 (Conv2D)           (None, 4, 4, 64)          36928     \n",
      "                                                                 \n",
      " flatten (Flatten)           (None, 1024)              0         \n",
      "                                                                 \n",
      " dense (Dense)               (None, 64)                65600     \n",
      "                                                                 \n",
      " dense_1 (Dense)             (None, 10)                650       \n",
      "                                                                 \n",
      " dense_2 (Dense)             (None, 5)                 55        \n",
      "                                                                 \n",
      "=================================================================\n",
      "Total params: 122,625\n",
      "Trainable params: 122,625\n",
      "Non-trainable params: 0\n",
      "_________________________________________________________________\n"
     ]
    }
   ],
   "source": [
    "from keras.callbacks import Callback,ModelCheckpoint\n",
    "from keras.models import Sequential,load_model\n",
    "from keras.layers import Dense, Dropout\n",
    "from keras.wrappers.scikit_learn import KerasClassifier\n",
    "import keras.backend as K\n",
    "\n",
    "def get_f1(y_true, y_pred): #taken from old keras source code\n",
    "    tp = K.sum(K.round(K.clip(y_true * y_pred, 0, 1)))\n",
    "    \n",
    "    tn = K.sum(K.round(K.clip((1-y_true) * (1-y_pred), 0, 1)))\n",
    "    fp = K.sum(K.round(K.clip((1-y_true) * (y_pred), 0, 1)))\n",
    "    fn = K.sum(K.round(K.clip((y_true) * (1-y_pred), 0, 1)))\n",
    "    \n",
    "\n",
    "    f1_val = tp / ( tp + ( (1/2) * (fp+fn) ) + K.epsilon())\n",
    "    return f1_val\n",
    "\n",
    "import numpy as np\n",
    "import pandas as pd\n",
    "\n",
    "from skimage.io import imread\n",
    "from skimage.transform import resize\n",
    "from keras import layers\n",
    "from keras import models\n",
    "import keras\n",
    "from keras.layers import LeakyReLU\n",
    "from keras.models import Sequential, Model, load_model\n",
    "from keras.layers import Input, Conv1D, Conv2D, MaxPooling1D, MaxPooling2D, Dense, Dropout, Activation, Flatten\n",
    "import tensorflow as tf\n",
    "from tensorflow import keras\n",
    "from tensorflow.keras import layers\n",
    "\n",
    "\n",
    "model = models.Sequential()\n",
    "model.add(layers.Conv2D(32, (3, 3), input_shape=(30, 30, 3)))\n",
    "model.add(layers.MaxPooling2D((2, 2)))\n",
    "model.add(layers.Conv2D(64, (3, 3), activation=\"relu\"))\n",
    "model.add(layers.MaxPooling2D((2, 2)))\n",
    "model.add(layers.Conv2D(64, (3, 3), activation=\"relu\"))\n",
    "model.add(layers.Flatten()) \n",
    "model.add(layers.Dense(64))\n",
    "model.add(layers.Dense(10))\n",
    "model.add(layers.Dense(5, activation=\"softmax\"))\n",
    "model.summary()"
   ]
  },
  {
   "cell_type": "code",
   "execution_count": null,
   "id": "0b960f91",
   "metadata": {},
   "outputs": [],
   "source": []
  },
  {
   "cell_type": "code",
   "execution_count": 9,
   "id": "322d2e3f",
   "metadata": {},
   "outputs": [
    {
     "name": "stdout",
     "output_type": "stream",
     "text": [
      "Epoch 1/50\n",
      "589/589 [==============================] - 16s 11ms/step - loss: 0.6985 - get_f1: 0.7172 - val_loss: 0.5999 - val_get_f1: 0.7755\n",
      "Epoch 2/50\n",
      "589/589 [==============================] - 5s 8ms/step - loss: 0.5206 - get_f1: 0.8083 - val_loss: 0.5277 - val_get_f1: 0.8096\n",
      "Epoch 3/50\n",
      "589/589 [==============================] - 5s 8ms/step - loss: 0.4368 - get_f1: 0.8427 - val_loss: 0.4314 - val_get_f1: 0.8446\n",
      "Epoch 4/50\n",
      "589/589 [==============================] - 5s 8ms/step - loss: 0.3849 - get_f1: 0.8609 - val_loss: 0.4300 - val_get_f1: 0.8444\n",
      "Epoch 5/50\n",
      "589/589 [==============================] - 5s 8ms/step - loss: 0.3406 - get_f1: 0.8772 - val_loss: 0.3523 - val_get_f1: 0.8723\n",
      "Epoch 6/50\n",
      "589/589 [==============================] - 5s 8ms/step - loss: 0.2963 - get_f1: 0.8921 - val_loss: 0.3077 - val_get_f1: 0.8877\n",
      "Epoch 7/50\n",
      "589/589 [==============================] - 6s 11ms/step - loss: 0.2695 - get_f1: 0.9005 - val_loss: 0.3053 - val_get_f1: 0.8888\n",
      "Epoch 8/50\n",
      "589/589 [==============================] - 7s 12ms/step - loss: 0.2471 - get_f1: 0.9108 - val_loss: 0.3216 - val_get_f1: 0.8929\n",
      "Epoch 9/50\n",
      "589/589 [==============================] - 7s 12ms/step - loss: 0.2275 - get_f1: 0.9154 - val_loss: 0.2862 - val_get_f1: 0.8955\n",
      "Epoch 10/50\n",
      "589/589 [==============================] - 6s 11ms/step - loss: 0.2041 - get_f1: 0.9261 - val_loss: 0.2705 - val_get_f1: 0.9045\n",
      "Epoch 11/50\n",
      "589/589 [==============================] - 6s 11ms/step - loss: 0.1870 - get_f1: 0.9298 - val_loss: 0.2622 - val_get_f1: 0.9106\n",
      "Epoch 12/50\n",
      "589/589 [==============================] - 6s 11ms/step - loss: 0.1768 - get_f1: 0.9349 - val_loss: 0.3095 - val_get_f1: 0.8921\n",
      "Epoch 13/50\n",
      "589/589 [==============================] - 6s 11ms/step - loss: 0.1588 - get_f1: 0.9423 - val_loss: 0.3033 - val_get_f1: 0.9037\n",
      "Epoch 14/50\n",
      "589/589 [==============================] - 6s 11ms/step - loss: 0.1550 - get_f1: 0.9427 - val_loss: 0.3532 - val_get_f1: 0.8869\n",
      "Epoch 15/50\n",
      "589/589 [==============================] - 6s 11ms/step - loss: 0.1387 - get_f1: 0.9495 - val_loss: 0.2629 - val_get_f1: 0.9121\n",
      "Epoch 16/50\n",
      "589/589 [==============================] - 6s 11ms/step - loss: 0.1219 - get_f1: 0.9550 - val_loss: 0.3342 - val_get_f1: 0.9032\n",
      "Epoch 17/50\n",
      "589/589 [==============================] - 6s 11ms/step - loss: 0.1209 - get_f1: 0.9551 - val_loss: 0.4155 - val_get_f1: 0.8750\n",
      "Epoch 18/50\n",
      "589/589 [==============================] - 6s 11ms/step - loss: 0.1168 - get_f1: 0.9553 - val_loss: 0.2768 - val_get_f1: 0.9179\n",
      "Epoch 19/50\n",
      "589/589 [==============================] - 7s 13ms/step - loss: 0.1021 - get_f1: 0.9631 - val_loss: 0.4144 - val_get_f1: 0.8796\n",
      "Epoch 20/50\n",
      "589/589 [==============================] - 8s 13ms/step - loss: 0.1113 - get_f1: 0.9588 - val_loss: 0.3450 - val_get_f1: 0.9034\n",
      "Epoch 21/50\n",
      "589/589 [==============================] - 7s 11ms/step - loss: 0.0905 - get_f1: 0.9684 - val_loss: 0.3607 - val_get_f1: 0.9002\n",
      "Epoch 22/50\n",
      "589/589 [==============================] - 7s 11ms/step - loss: 0.0873 - get_f1: 0.9686 - val_loss: 0.3408 - val_get_f1: 0.9148\n",
      "Epoch 23/50\n",
      "589/589 [==============================] - 7s 11ms/step - loss: 0.0778 - get_f1: 0.9708 - val_loss: 0.3456 - val_get_f1: 0.9141\n",
      "Epoch 24/50\n",
      "589/589 [==============================] - 7s 11ms/step - loss: 0.0766 - get_f1: 0.9716 - val_loss: 0.3332 - val_get_f1: 0.9188\n",
      "Epoch 25/50\n",
      "589/589 [==============================] - 7s 12ms/step - loss: 0.0733 - get_f1: 0.9724 - val_loss: 0.3684 - val_get_f1: 0.9126\n",
      "Epoch 26/50\n",
      "589/589 [==============================] - 7s 12ms/step - loss: 0.0797 - get_f1: 0.9714 - val_loss: 0.3732 - val_get_f1: 0.9156\n",
      "Epoch 27/50\n",
      "589/589 [==============================] - 6s 11ms/step - loss: 0.0782 - get_f1: 0.9732 - val_loss: 0.3516 - val_get_f1: 0.9140\n",
      "Epoch 28/50\n",
      "589/589 [==============================] - 6s 11ms/step - loss: 0.0590 - get_f1: 0.9776 - val_loss: 0.4045 - val_get_f1: 0.9096\n",
      "Epoch 29/50\n",
      "589/589 [==============================] - 6s 11ms/step - loss: 0.0710 - get_f1: 0.9756 - val_loss: 0.4162 - val_get_f1: 0.9088\n",
      "Epoch 30/50\n",
      "589/589 [==============================] - 7s 12ms/step - loss: 0.0684 - get_f1: 0.9766 - val_loss: 0.4002 - val_get_f1: 0.9167\n",
      "Epoch 31/50\n",
      "589/589 [==============================] - 7s 12ms/step - loss: 0.0552 - get_f1: 0.9798 - val_loss: 0.3967 - val_get_f1: 0.9125\n",
      "Epoch 32/50\n",
      "589/589 [==============================] - 7s 11ms/step - loss: 0.0619 - get_f1: 0.9773 - val_loss: 0.3748 - val_get_f1: 0.9202\n",
      "Epoch 33/50\n",
      "589/589 [==============================] - 6s 11ms/step - loss: 0.0462 - get_f1: 0.9836 - val_loss: 0.3794 - val_get_f1: 0.9174\n",
      "Epoch 34/50\n",
      "589/589 [==============================] - 6s 11ms/step - loss: 0.0496 - get_f1: 0.9824 - val_loss: 0.3952 - val_get_f1: 0.9169\n",
      "Epoch 35/50\n",
      "589/589 [==============================] - 7s 11ms/step - loss: 0.0636 - get_f1: 0.9777 - val_loss: 0.4097 - val_get_f1: 0.9139\n",
      "Epoch 36/50\n",
      "589/589 [==============================] - 6s 11ms/step - loss: 0.0525 - get_f1: 0.9806 - val_loss: 0.4257 - val_get_f1: 0.9181\n",
      "Epoch 37/50\n",
      "589/589 [==============================] - 6s 11ms/step - loss: 0.0532 - get_f1: 0.9826 - val_loss: 0.3859 - val_get_f1: 0.9197\n",
      "Epoch 38/50\n",
      "589/589 [==============================] - 7s 11ms/step - loss: 0.0557 - get_f1: 0.9813 - val_loss: 0.4092 - val_get_f1: 0.9118\n",
      "Epoch 39/50\n",
      "589/589 [==============================] - 6s 10ms/step - loss: 0.0275 - get_f1: 0.9899 - val_loss: 0.4125 - val_get_f1: 0.9228\n",
      "Epoch 40/50\n",
      "589/589 [==============================] - 6s 11ms/step - loss: 0.0538 - get_f1: 0.9810 - val_loss: 0.4214 - val_get_f1: 0.9155\n",
      "Epoch 41/50\n",
      "589/589 [==============================] - 6s 10ms/step - loss: 0.0373 - get_f1: 0.9862 - val_loss: 0.4183 - val_get_f1: 0.9219\n",
      "Epoch 42/50\n",
      "589/589 [==============================] - 6s 11ms/step - loss: 0.0484 - get_f1: 0.9830 - val_loss: 0.3795 - val_get_f1: 0.9258\n",
      "Epoch 43/50\n",
      "589/589 [==============================] - 6s 11ms/step - loss: 0.0356 - get_f1: 0.9867 - val_loss: 0.5352 - val_get_f1: 0.9097\n",
      "Epoch 44/50\n",
      "589/589 [==============================] - 6s 11ms/step - loss: 0.0431 - get_f1: 0.9856 - val_loss: 0.4514 - val_get_f1: 0.9193\n",
      "Epoch 45/50\n",
      "589/589 [==============================] - 6s 11ms/step - loss: 0.0500 - get_f1: 0.9844 - val_loss: 0.4486 - val_get_f1: 0.9162\n",
      "Epoch 46/50\n",
      "589/589 [==============================] - 6s 11ms/step - loss: 0.0372 - get_f1: 0.9873 - val_loss: 0.4223 - val_get_f1: 0.9216\n",
      "Epoch 47/50\n",
      "589/589 [==============================] - 7s 11ms/step - loss: 0.0413 - get_f1: 0.9852 - val_loss: 0.4315 - val_get_f1: 0.9195\n",
      "Epoch 48/50\n",
      "589/589 [==============================] - 7s 11ms/step - loss: 0.0343 - get_f1: 0.9885 - val_loss: 0.4992 - val_get_f1: 0.9013\n",
      "Epoch 49/50\n",
      "589/589 [==============================] - 6s 11ms/step - loss: 0.0370 - get_f1: 0.9869 - val_loss: 0.5671 - val_get_f1: 0.8958\n",
      "Epoch 50/50\n",
      "589/589 [==============================] - 6s 10ms/step - loss: 0.0385 - get_f1: 0.9863 - val_loss: 0.5529 - val_get_f1: 0.9005\n"
     ]
    },
    {
     "data": {
      "text/plain": [
       "<keras.callbacks.History at 0x17609445070>"
      ]
     },
     "execution_count": 9,
     "metadata": {},
     "output_type": "execute_result"
    }
   ],
   "source": [
    "model.compile(optimizer='Adam',loss='categorical_crossentropy',metrics=([get_f1]))\n",
    "model.fit( np.array(X_train) , np.array(Y_train).astype('float32') , epochs=50, batch_size=32, validation_split = .3, verbose = 1)"
   ]
  },
  {
   "cell_type": "code",
   "execution_count": null,
   "id": "758b1f07",
   "metadata": {},
   "outputs": [],
   "source": []
  },
  {
   "cell_type": "code",
   "execution_count": null,
   "id": "15e259eb",
   "metadata": {},
   "outputs": [],
   "source": []
  },
  {
   "cell_type": "code",
   "execution_count": 10,
   "id": "e7b422bc",
   "metadata": {
    "scrolled": true
   },
   "outputs": [
    {
     "data": {
      "image/png": "[encoded data removed]",
      "text/plain": [
       "<Figure size 800x600 with 2 Axes>"
      ]
     },
     "metadata": {},
     "output_type": "display_data"
    }
   ],
   "source": [
    "import seaborn as sns\n",
    "import matplotlib.pyplot as plt\n",
    "from sklearn.metrics import confusion_matrix\n",
    "\n",
    "class_names = ['Non-Invasive', 'Ostracod', 'Invasive-D_hinge', 'Invasive-Umbonal', 'Invasive-Pedi-Zebra']\n",
    "\n",
    "te_df = model.predict(np.array(X_test), batch_size=16)\n",
    "y_pred = np.argmax(te_df, axis=1)\n",
    "y_true = np.argmax(Y_test, axis=1)\n",
    "\n",
    "# Compute confusion matrix\n",
    "cm = confusion_matrix(y_true, y_pred)\n",
    "\n",
    "# plot confusion matrix as heatmap\n",
    "fig, ax = plt.subplots(figsize=(8, 6))\n",
    "sns.heatmap(cm, annot=True, fmt='d', cmap='Blues', ax=ax, xticklabels=class_names, yticklabels=class_names)\n",
    "ax.set_xlabel('Predicted Labels')\n",
    "ax.set_ylabel('True Labels')\n",
    "ax.set_title('Confusion Matrix')\n",
    "plt.show()\n"
   ]
  },
  {
   "cell_type": "code",
   "execution_count": 11,
   "id": "a22d9a3c",
   "metadata": {},
   "outputs": [
    {
     "data": {
      "text/plain": [
       "array([[2984,   70,  134,   35,   73],\n",
       "       [ 175,  738,   20,    8,   72],\n",
       "       [ 411,   14, 2904,  270,   37],\n",
       "       [  97,   91,  349, 1696,  185],\n",
       "       [  59,   24,   24,  295, 1040]], dtype=int64)"
      ]
     },
     "execution_count": 11,
     "metadata": {},
     "output_type": "execute_result"
    }
   ],
   "source": [
    "cm"
   ]
  },
  {
   "cell_type": "code",
   "execution_count": 13,
   "id": "addaaebf",
   "metadata": {},
   "outputs": [
    {
     "name": "stdout",
     "output_type": "stream",
     "text": [
      "F1 score for class 1: 77.54%\n"
     ]
    }
   ],
   "source": [
    "from sklearn.metrics import f1_score\n",
    "\n",
    "# Calculate F1 score for class 1\n",
    "f1_class1 = f1_score(y_true, y_pred, average='macro')\n",
    "print(\"F1 score for class 1: {:.2f}%\".format(f1_class1 * 100))"
   ]
  },
  {
   "cell_type": "code",
   "execution_count": null,
   "id": "afbd87d9",
   "metadata": {},
   "outputs": [],
   "source": []
  },
  {
   "cell_type": "code",
   "execution_count": 30,
   "id": "74823801",
   "metadata": {},
   "outputs": [
    {
     "name": "stdout",
     "output_type": "stream",
     "text": [
      "Accuracy for class 0: 0.7497200447928332\n",
      "Accuracy for class 1: 0.656093489148581\n",
      "Accuracy for class 2: 0.7466927976482116\n",
      "Accuracy for class 3: 0.5742857142857143\n",
      "Accuracy for class 4: 0.5921052631578947\n"
     ]
    }
   ],
   "source": [
    "num_classes = cm.shape[0]\n",
    "\n",
    "# Calculate per-class accuracy\n",
    "per_class_accuracy = np.diag(cm) / (np.sum(cm, axis=1) + np.sum(cm, axis=0) - np.diag(cm))\n",
    "\n",
    "# Print per-class accuracy\n",
    "for i in range(num_classes):\n",
    "    print(f\"Accuracy for class {i}: {per_class_accuracy[i]}\")\n"
   ]
  },
  {
   "cell_type": "code",
   "execution_count": null,
   "id": "b3c4ff09",
   "metadata": {},
   "outputs": [],
   "source": []
  },
  {
   "cell_type": "code",
   "execution_count": null,
   "id": "5aabfdee",
   "metadata": {},
   "outputs": [],
   "source": []
  },
  {
   "cell_type": "code",
   "execution_count": null,
   "id": "e6baa2ff",
   "metadata": {},
   "outputs": [],
   "source": []
  },
  {
   "cell_type": "code",
   "execution_count": 14,
   "id": "95405a77",
   "metadata": {},
   "outputs": [],
   "source": [
    "import tensorflow as tf\n",
    "from keras.models import load_model\n",
    "\n",
    "# Define the custom object function\n",
    "def get_f1(y_true, y_pred):\n",
    "    # Custom F1 score calculation\n",
    "    # Define your custom F1 score implementation here\n",
    "    return f1_score\n",
    "\n",
    "# Load the model with the custom object function\n",
    "model = load_model('my_model.h5', custom_objects={'get_f1': get_f1})\n"
   ]
  },
  {
   "cell_type": "code",
   "execution_count": 15,
   "id": "5a27c6fc",
   "metadata": {},
   "outputs": [
    {
     "name": "stdout",
     "output_type": "stream",
     "text": [
      "Model: \"model\"\n",
      "_________________________________________________________________\n",
      " Layer (type)                Output Shape              Param #   \n",
      "=================================================================\n",
      " conv2d_3_input (InputLayer)  [(None, 30, 30, 3)]      0         \n",
      "                                                                 \n",
      " conv2d_3 (Conv2D)           (None, 28, 28, 32)        896       \n",
      "                                                                 \n",
      " max_pooling2d_2 (MaxPooling  (None, 14, 14, 32)       0         \n",
      " 2D)                                                             \n",
      "                                                                 \n",
      " conv2d_4 (Conv2D)           (None, 12, 12, 64)        18496     \n",
      "                                                                 \n",
      " max_pooling2d_3 (MaxPooling  (None, 6, 6, 64)         0         \n",
      " 2D)                                                             \n",
      "                                                                 \n",
      " conv2d_5 (Conv2D)           (None, 4, 4, 64)          36928     \n",
      "                                                                 \n",
      " flatten_1 (Flatten)         (None, 1024)              0         \n",
      "                                                                 \n",
      " dense_3 (Dense)             (None, 64)                65600     \n",
      "                                                                 \n",
      " dense_4 (Dense)             (None, 10)                650       \n",
      "                                                                 \n",
      " final (Dense)               (None, 5)                 55        \n",
      "                                                                 \n",
      "=================================================================\n",
      "Total params: 122,625\n",
      "Trainable params: 122,625\n",
      "Non-trainable params: 0\n",
      "_________________________________________________________________\n"
     ]
    }
   ],
   "source": [
    "from tensorflow.keras.models import Model\n",
    "from tensorflow.keras.layers import Dense\n",
    "\n",
    "\n",
    "def get_f1(y_true, y_pred): #taken from old keras source code\n",
    "    tp = K.sum(K.round(K.clip(y_true * y_pred, 0, 1)))\n",
    "    \n",
    "    tn = K.sum(K.round(K.clip((1-y_true) * (1-y_pred), 0, 1)))\n",
    "    fp = K.sum(K.round(K.clip((1-y_true) * (y_pred), 0, 1)))\n",
    "    fn = K.sum(K.round(K.clip((y_true) * (1-y_pred), 0, 1)))\n",
    "    \n",
    "\n",
    "    f1_val = tp / ( tp + ( (1/2) * (fp+fn) ) + K.epsilon())\n",
    "    return f1_val\n",
    "\n",
    "\n",
    "# Remove the last layer\n",
    "new_model_layers = model.layers[:-1]\n",
    "\n",
    "# Add a new Dense layer for classification with 5 classes\n",
    "num_classes = 5\n",
    "new_output = Dense(num_classes, activation='softmax',name=\"final\")(new_model_layers[-1].output)\n",
    "\n",
    "# Create a new model with the modified architecture\n",
    "new_model = Model(inputs=model.input, outputs=new_output)\n",
    "\n",
    "new_model.summary()"
   ]
  },
  {
   "cell_type": "code",
   "execution_count": 16,
   "id": "27da7a06",
   "metadata": {},
   "outputs": [
    {
     "name": "stdout",
     "output_type": "stream",
     "text": [
      "Epoch 1/50\n",
      "589/589 [==============================] - 8s 9ms/step - loss: 1.1954 - get_f1: 0.7178 - val_loss: 0.6167 - val_get_f1: 0.7724\n",
      "Epoch 2/50\n",
      "589/589 [==============================] - 5s 8ms/step - loss: 0.5256 - get_f1: 0.8065 - val_loss: 0.5016 - val_get_f1: 0.8173\n",
      "Epoch 3/50\n",
      "589/589 [==============================] - 5s 8ms/step - loss: 0.4301 - get_f1: 0.8435 - val_loss: 0.4408 - val_get_f1: 0.8430\n",
      "Epoch 4/50\n",
      "589/589 [==============================] - 4s 7ms/step - loss: 0.3728 - get_f1: 0.8632 - val_loss: 0.4147 - val_get_f1: 0.8514\n",
      "Epoch 5/50\n",
      "589/589 [==============================] - 6s 9ms/step - loss: 0.3213 - get_f1: 0.8826 - val_loss: 0.3908 - val_get_f1: 0.8660\n",
      "Epoch 6/50\n",
      "589/589 [==============================] - 6s 11ms/step - loss: 0.2985 - get_f1: 0.8893 - val_loss: 0.3982 - val_get_f1: 0.8613\n",
      "Epoch 7/50\n",
      "589/589 [==============================] - 6s 11ms/step - loss: 0.2575 - get_f1: 0.9048 - val_loss: 0.3710 - val_get_f1: 0.8703\n",
      "Epoch 8/50\n",
      "589/589 [==============================] - 6s 11ms/step - loss: 0.2355 - get_f1: 0.9116 - val_loss: 0.3866 - val_get_f1: 0.8764\n",
      "Epoch 9/50\n",
      "589/589 [==============================] - 6s 11ms/step - loss: 0.2056 - get_f1: 0.9223 - val_loss: 0.3797 - val_get_f1: 0.8803\n",
      "Epoch 10/50\n",
      "589/589 [==============================] - 6s 10ms/step - loss: 0.1969 - get_f1: 0.9260 - val_loss: 0.4071 - val_get_f1: 0.8792\n",
      "Epoch 11/50\n",
      "589/589 [==============================] - 6s 11ms/step - loss: 0.1813 - get_f1: 0.9319 - val_loss: 0.3728 - val_get_f1: 0.8817\n",
      "Epoch 12/50\n",
      "589/589 [==============================] - 6s 10ms/step - loss: 0.1572 - get_f1: 0.9411 - val_loss: 0.3489 - val_get_f1: 0.8963\n",
      "Epoch 13/50\n",
      "589/589 [==============================] - 6s 11ms/step - loss: 0.1468 - get_f1: 0.9456 - val_loss: 0.3605 - val_get_f1: 0.8950\n",
      "Epoch 14/50\n",
      "589/589 [==============================] - 6s 11ms/step - loss: 0.1354 - get_f1: 0.9509 - val_loss: 0.4187 - val_get_f1: 0.8870\n",
      "Epoch 15/50\n",
      "589/589 [==============================] - 6s 10ms/step - loss: 0.1166 - get_f1: 0.9561 - val_loss: 0.4349 - val_get_f1: 0.8879\n",
      "Epoch 16/50\n",
      "589/589 [==============================] - 6s 11ms/step - loss: 0.1122 - get_f1: 0.9579 - val_loss: 0.4149 - val_get_f1: 0.8934\n",
      "Epoch 17/50\n",
      "589/589 [==============================] - 6s 10ms/step - loss: 0.1150 - get_f1: 0.9589 - val_loss: 0.4384 - val_get_f1: 0.8880\n",
      "Epoch 18/50\n",
      "589/589 [==============================] - 6s 10ms/step - loss: 0.0958 - get_f1: 0.9650 - val_loss: 0.4638 - val_get_f1: 0.8893\n",
      "Epoch 19/50\n",
      "589/589 [==============================] - 6s 10ms/step - loss: 0.0990 - get_f1: 0.9648 - val_loss: 0.4366 - val_get_f1: 0.8939\n",
      "Epoch 20/50\n",
      "589/589 [==============================] - 6s 11ms/step - loss: 0.0818 - get_f1: 0.9706 - val_loss: 0.4302 - val_get_f1: 0.9004\n",
      "Epoch 21/50\n",
      "589/589 [==============================] - 6s 11ms/step - loss: 0.0822 - get_f1: 0.9688 - val_loss: 0.4730 - val_get_f1: 0.8979\n",
      "Epoch 22/50\n",
      "589/589 [==============================] - 6s 10ms/step - loss: 0.0755 - get_f1: 0.9722 - val_loss: 0.5427 - val_get_f1: 0.8828\n",
      "Epoch 23/50\n",
      "589/589 [==============================] - 7s 11ms/step - loss: 0.0892 - get_f1: 0.9683 - val_loss: 0.5097 - val_get_f1: 0.8939\n",
      "Epoch 24/50\n",
      "589/589 [==============================] - 6s 11ms/step - loss: 0.0651 - get_f1: 0.9762 - val_loss: 0.4877 - val_get_f1: 0.9037\n",
      "Epoch 25/50\n",
      "589/589 [==============================] - 6s 11ms/step - loss: 0.0702 - get_f1: 0.9764 - val_loss: 0.5177 - val_get_f1: 0.8927\n",
      "Epoch 26/50\n",
      "589/589 [==============================] - 6s 11ms/step - loss: 0.0645 - get_f1: 0.9787 - val_loss: 0.5402 - val_get_f1: 0.8909\n",
      "Epoch 27/50\n",
      "589/589 [==============================] - 6s 11ms/step - loss: 0.0611 - get_f1: 0.9791 - val_loss: 0.5054 - val_get_f1: 0.8944\n",
      "Epoch 28/50\n",
      "589/589 [==============================] - 6s 11ms/step - loss: 0.0583 - get_f1: 0.9796 - val_loss: 0.5534 - val_get_f1: 0.8979\n",
      "Epoch 29/50\n",
      "589/589 [==============================] - 6s 10ms/step - loss: 0.0613 - get_f1: 0.9798 - val_loss: 0.5506 - val_get_f1: 0.8942\n",
      "Epoch 30/50\n",
      "589/589 [==============================] - 6s 11ms/step - loss: 0.0713 - get_f1: 0.9770 - val_loss: 0.5380 - val_get_f1: 0.8975\n",
      "Epoch 31/50\n",
      "589/589 [==============================] - 6s 11ms/step - loss: 0.0475 - get_f1: 0.9843 - val_loss: 0.6009 - val_get_f1: 0.8893\n",
      "Epoch 32/50\n",
      "589/589 [==============================] - 6s 11ms/step - loss: 0.0473 - get_f1: 0.9828 - val_loss: 0.5515 - val_get_f1: 0.8945\n",
      "Epoch 33/50\n",
      "589/589 [==============================] - 6s 11ms/step - loss: 0.0710 - get_f1: 0.9766 - val_loss: 0.5676 - val_get_f1: 0.8898\n",
      "Epoch 34/50\n",
      "589/589 [==============================] - 6s 11ms/step - loss: 0.0390 - get_f1: 0.9865 - val_loss: 0.5571 - val_get_f1: 0.9018\n",
      "Epoch 35/50\n",
      "589/589 [==============================] - 6s 11ms/step - loss: 0.0507 - get_f1: 0.9834 - val_loss: 0.5575 - val_get_f1: 0.9020\n",
      "Epoch 36/50\n",
      "589/589 [==============================] - 6s 11ms/step - loss: 0.0350 - get_f1: 0.9880 - val_loss: 0.6175 - val_get_f1: 0.8986\n",
      "Epoch 37/50\n",
      "589/589 [==============================] - 7s 11ms/step - loss: 0.0467 - get_f1: 0.9836 - val_loss: 0.5988 - val_get_f1: 0.8992\n",
      "Epoch 38/50\n",
      "589/589 [==============================] - 7s 11ms/step - loss: 0.0331 - get_f1: 0.9875 - val_loss: 0.7331 - val_get_f1: 0.8812\n",
      "Epoch 39/50\n",
      "589/589 [==============================] - 7s 12ms/step - loss: 0.0518 - get_f1: 0.9820 - val_loss: 0.6475 - val_get_f1: 0.8943\n",
      "Epoch 40/50\n",
      "589/589 [==============================] - 7s 11ms/step - loss: 0.0396 - get_f1: 0.9862 - val_loss: 0.6127 - val_get_f1: 0.9028\n",
      "Epoch 41/50\n",
      "589/589 [==============================] - 6s 11ms/step - loss: 0.0592 - get_f1: 0.9814 - val_loss: 0.5943 - val_get_f1: 0.8962\n",
      "Epoch 42/50\n",
      "589/589 [==============================] - 6s 11ms/step - loss: 0.0261 - get_f1: 0.9909 - val_loss: 0.6235 - val_get_f1: 0.8976\n",
      "Epoch 43/50\n",
      "589/589 [==============================] - 6s 11ms/step - loss: 0.0400 - get_f1: 0.9853 - val_loss: 0.6109 - val_get_f1: 0.9004\n",
      "Epoch 44/50\n",
      "589/589 [==============================] - 6s 11ms/step - loss: 0.0346 - get_f1: 0.9893 - val_loss: 0.6415 - val_get_f1: 0.8987\n",
      "Epoch 45/50\n",
      "589/589 [==============================] - 6s 11ms/step - loss: 0.0468 - get_f1: 0.9839 - val_loss: 0.6161 - val_get_f1: 0.9022\n",
      "Epoch 46/50\n",
      "589/589 [==============================] - 6s 11ms/step - loss: 0.0399 - get_f1: 0.9867 - val_loss: 0.6767 - val_get_f1: 0.8939\n",
      "Epoch 47/50\n",
      "589/589 [==============================] - 7s 12ms/step - loss: 0.0322 - get_f1: 0.9890 - val_loss: 0.6905 - val_get_f1: 0.8937\n",
      "Epoch 48/50\n",
      "589/589 [==============================] - 7s 12ms/step - loss: 0.0598 - get_f1: 0.9813 - val_loss: 0.6076 - val_get_f1: 0.8980\n",
      "Epoch 49/50\n",
      "589/589 [==============================] - 6s 11ms/step - loss: 0.0216 - get_f1: 0.9923 - val_loss: 0.7114 - val_get_f1: 0.9014\n",
      "Epoch 50/50\n",
      "589/589 [==============================] - 6s 11ms/step - loss: 0.0335 - get_f1: 0.9887 - val_loss: 0.6187 - val_get_f1: 0.9048\n"
     ]
    },
    {
     "data": {
      "text/plain": [
       "<keras.callbacks.History at 0x176e7bf8e20>"
      ]
     },
     "execution_count": 16,
     "metadata": {},
     "output_type": "execute_result"
    }
   ],
   "source": [
    "new_model.compile(optimizer='Adam',loss='categorical_crossentropy',metrics=([get_f1]))\n",
    "new_model.fit( np.array(X_train) , np.array(Y_train).astype('float32') , epochs=50, batch_size=32, validation_split = .3, verbose = 1)"
   ]
  },
  {
   "cell_type": "code",
   "execution_count": 17,
   "id": "14e8223f",
   "metadata": {},
   "outputs": [
    {
     "data": {
      "text/plain": [
       "array([[2984,   70,  134,   35,   73],\n",
       "       [ 175,  738,   20,    8,   72],\n",
       "       [ 411,   14, 2904,  270,   37],\n",
       "       [  97,   91,  349, 1696,  185],\n",
       "       [  59,   24,   24,  295, 1040]], dtype=int64)"
      ]
     },
     "execution_count": 17,
     "metadata": {},
     "output_type": "execute_result"
    }
   ],
   "source": [
    "cm"
   ]
  },
  {
   "cell_type": "code",
   "execution_count": 19,
   "id": "a2712192",
   "metadata": {},
   "outputs": [
    {
     "data": {
      "image/png": "[encoded data removed]",
      "text/plain": [
       "<Figure size 800x600 with 2 Axes>"
      ]
     },
     "metadata": {},
     "output_type": "display_data"
    }
   ],
   "source": [
    "import seaborn as sns\n",
    "import matplotlib.pyplot as plt\n",
    "from sklearn.metrics import confusion_matrix\n",
    "\n",
    "class_names = ['Non-Invasive', 'Ostracod', 'Invasive-D_hinge', 'Invasive-Umbonal', 'Invasive-Pedi-Zebra']\n",
    "\n",
    "te_df = new_model.predict(np.array(X_test), batch_size=16)\n",
    "y_pred = np.argmax(te_df, axis=1)\n",
    "y_true = np.argmax(Y_test, axis=1)\n",
    "\n",
    "# Compute confusion matrix\n",
    "cm = confusion_matrix(y_true, y_pred)\n",
    "\n",
    "# plot confusion matrix as heatmap\n",
    "fig, ax = plt.subplots(figsize=(8, 6))\n",
    "sns.heatmap(cm, annot=True, fmt='d', cmap='Blues', ax=ax, xticklabels=class_names, yticklabels=class_names)\n",
    "ax.set_xlabel('Predicted Labels')\n",
    "ax.set_ylabel('True Labels')\n",
    "ax.set_title('Confusion Matrix')\n",
    "plt.show()\n"
   ]
  },
  {
   "cell_type": "code",
   "execution_count": 18,
   "id": "a9734332",
   "metadata": {},
   "outputs": [
    {
     "name": "stdout",
     "output_type": "stream",
     "text": [
      "F1 score for class 1: 77.54%\n"
     ]
    }
   ],
   "source": [
    "\n",
    "\n",
    "from sklearn.metrics import f1_score\n",
    "\n",
    "# Calculate F1 score for class 1\n",
    "f1_class1 = f1_score(y_true, y_pred, average='macro')\n",
    "print(\"F1 score for class 1: {:.2f}%\".format(f1_class1 * 100))\n",
    "\n"
   ]
  },
  {
   "cell_type": "code",
   "execution_count": 23,
   "id": "bb1bbb1b",
   "metadata": {},
   "outputs": [
    {
     "name": "stdout",
     "output_type": "stream",
     "text": [
      "Accuracy for class 0: 0.7195571955719557\n",
      "Accuracy for class 1: 0.5463743676222597\n",
      "Accuracy for class 2: 0.7421722113502935\n",
      "Accuracy for class 3: 0.5563293732077018\n",
      "Accuracy for class 4: 0.5352112676056338\n"
     ]
    }
   ],
   "source": [
    "num_classes = cm.shape[0]\n",
    "\n",
    "# Calculate per-class accuracy\n",
    "per_class_accuracy = np.diag(cm) / (np.sum(cm, axis=1) + np.sum(cm, axis=0) - np.diag(cm))\n",
    "\n",
    "# Print per-class accuracy\n",
    "for i in range(num_classes):\n",
    "    print(f\"Accuracy for class {i}: {per_class_accuracy[i]}\")\n"
   ]
  },
  {
   "cell_type": "code",
   "execution_count": null,
   "id": "b07c9fb4",
   "metadata": {},
   "outputs": [],
   "source": []
  },
  {
   "cell_type": "code",
   "execution_count": null,
   "id": "e1e17dc9",
   "metadata": {},
   "outputs": [],
   "source": []
  }
 ],
 "metadata": {
  "kernelspec": {
   "display_name": "Python 3 (ipykernel)",
   "language": "python",
   "name": "python3"
  },
  "language_info": {
   "codemirror_mode": {
    "name": "ipython",
    "version": 3
   },
   "file_extension": ".py",
   "mimetype": "text/x-python",
   "name": "python",
   "nbconvert_exporter": "python",
   "pygments_lexer": "ipython3",
   "version": "3.9.13"
  }
 },
 "nbformat": 4,
 "nbformat_minor": 5
}
