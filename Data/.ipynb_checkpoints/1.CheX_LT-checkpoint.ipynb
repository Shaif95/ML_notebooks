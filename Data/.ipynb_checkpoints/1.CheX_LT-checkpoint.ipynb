{
 "cells": [
  {
   "cell_type": "code",
   "execution_count": 1,
   "id": "d1381389",
   "metadata": {},
   "outputs": [
    {
     "name": "stderr",
     "output_type": "stream",
     "text": [
      "100%|█████████████████████████████████████████████████████████████████████| 2/2 [01:55<00:00, 57.73s/it]"
     ]
    },
    {
     "name": "stdout",
     "output_type": "stream",
     "text": [
      "X_train shape: (5216, 32, 32, 3)\n",
      "Y_train shape: (5216,)\n"
     ]
    },
    {
     "name": "stderr",
     "output_type": "stream",
     "text": [
      "\n"
     ]
    }
   ],
   "source": [
    "import os\n",
    "from PIL import Image\n",
    "import numpy as np\n",
    "from sklearn.preprocessing import LabelEncoder, OneHotEncoder\n",
    "from tqdm import tqdm\n",
    "\n",
    "# Define the path to the directory\n",
    "directory_path = r\"C:\\Users\\shaif\\Downloads\\Compressed\\che\\chest_xray\\train\"\n",
    "\n",
    "# Initialize empty lists for images and labels\n",
    "X_train = []\n",
    "Y_train = []\n",
    "class_label = 0\n",
    "\n",
    "# Loop through subdirectories (classes)\n",
    "for class_folder in tqdm(sorted(os.listdir(directory_path))):\n",
    "    class_path = os.path.join(directory_path, class_folder)\n",
    "    \n",
    "    for image_file in os.listdir(class_path):\n",
    "        if image_file.endswith('.jpeg'):\n",
    "            image_path = os.path.join(class_path, image_file)\n",
    "            \n",
    "            # Load image, convert to RGB and resize\n",
    "            img = Image.open(image_path).convert('RGB')\n",
    "            img = img.resize((32, 32))\n",
    "            img_array = np.array(img)\n",
    "            \n",
    "            # Append image and label to lists\n",
    "            X_train.append(img_array)\n",
    "            Y_train.append(class_label)\n",
    "            \n",
    "    class_label = class_label + 1\n",
    "\n",
    "    \n",
    "# Convert lists to numpy arrays\n",
    "X_train = np.array(X_train)\n",
    "Y_train = np.array(Y_train)\n",
    "\n",
    "print(f'X_train shape: {X_train.shape}')\n",
    "print(f'Y_train shape: {Y_train.shape}')"
   ]
  },
  {
   "cell_type": "code",
   "execution_count": null,
   "id": "932e75f0",
   "metadata": {},
   "outputs": [],
   "source": []
  },
  {
   "cell_type": "code",
   "execution_count": 2,
   "id": "11ea81db",
   "metadata": {},
   "outputs": [
    {
     "name": "stderr",
     "output_type": "stream",
     "text": [
      "100%|█████████████████████████████████████████████████████████████████████| 2/2 [00:00<00:00,  5.50it/s]"
     ]
    },
    {
     "name": "stdout",
     "output_type": "stream",
     "text": [
      "X_train shape: (16, 32, 32, 3)\n",
      "Y_train shape: (16,)\n"
     ]
    },
    {
     "name": "stderr",
     "output_type": "stream",
     "text": [
      "\n"
     ]
    }
   ],
   "source": [
    "import os\n",
    "from PIL import Image\n",
    "import numpy as np\n",
    "from sklearn.preprocessing import LabelEncoder, OneHotEncoder\n",
    "from tqdm import tqdm\n",
    "\n",
    "# Define the path to the directory\n",
    "directory_path = r\"C:\\Users\\shaif\\Downloads\\Compressed\\che\\chest_xray\\val\"\n",
    "\n",
    "# Initialize empty lists for images and labels\n",
    "X_val = []\n",
    "Y_val = []\n",
    "class_label = 0\n",
    "\n",
    "# Loop through subdirectories (classes)\n",
    "for class_folder in tqdm(sorted(os.listdir(directory_path))):\n",
    "    class_path = os.path.join(directory_path, class_folder)\n",
    "    \n",
    "    for image_file in os.listdir(class_path):\n",
    "        if image_file.endswith('.jpeg'):\n",
    "            image_path = os.path.join(class_path, image_file)\n",
    "            \n",
    "            # Load image, convert to RGB and resize\n",
    "            img = Image.open(image_path).convert('RGB')\n",
    "            img = img.resize((32, 32))\n",
    "            img_array = np.array(img)\n",
    "            \n",
    "            # Append image and label to lists\n",
    "            X_val.append(img_array)\n",
    "            Y_val.append(class_label)\n",
    "            \n",
    "    class_label = class_label + 1\n",
    "\n",
    "# Convert lists to numpy arrays\n",
    "X_val = np.array(X_val)\n",
    "Y_val = np.array(Y_val)\n",
    "\n",
    "print(f'X_train shape: {X_val.shape}')\n",
    "print(f'Y_train shape: {Y_val.shape}')"
   ]
  },
  {
   "cell_type": "code",
   "execution_count": 3,
   "id": "f9b1aa4f",
   "metadata": {},
   "outputs": [],
   "source": [
    "import tensorflow as tf\n",
    "#tf.keras.backend.clear_session()\n",
    "from tensorflow.keras.utils import to_categorical\n",
    "YT = to_categorical(Y_train)\n",
    "VT = to_categorical(Y_val)"
   ]
  },
  {
   "cell_type": "code",
   "execution_count": 4,
   "id": "19c7e793",
   "metadata": {},
   "outputs": [
    {
     "data": {
      "text/plain": [
       "array([0, 0, 0, 0, 0, 0, 0, 0, 1, 1, 1, 1, 1, 1, 1, 1])"
      ]
     },
     "execution_count": 4,
     "metadata": {},
     "output_type": "execute_result"
    }
   ],
   "source": [
    "Y_val"
   ]
  },
  {
   "cell_type": "code",
   "execution_count": 4,
   "id": "128b248a",
   "metadata": {},
   "outputs": [
    {
     "name": "stdout",
     "output_type": "stream",
     "text": [
      "Epoch 1/50\n",
      "147/147 [==============================] - 23s 59ms/step - loss: 0.2710 - accuracy: 0.9256 - val_loss: 0.9290 - val_accuracy: 0.8448\n",
      "Epoch 2/50\n",
      "147/147 [==============================] - 6s 43ms/step - loss: 0.0979 - accuracy: 0.9672 - val_loss: 0.1380 - val_accuracy: 0.9559\n",
      "Epoch 3/50\n",
      "147/147 [==============================] - 7s 47ms/step - loss: 0.0782 - accuracy: 0.9729 - val_loss: 0.1661 - val_accuracy: 0.9617\n",
      "Epoch 4/50\n",
      "147/147 [==============================] - 7s 47ms/step - loss: 0.0710 - accuracy: 0.9778 - val_loss: 0.0663 - val_accuracy: 0.9828\n",
      "Epoch 5/50\n",
      "147/147 [==============================] - 8s 53ms/step - loss: 0.0605 - accuracy: 0.9800 - val_loss: 0.0740 - val_accuracy: 0.9751\n",
      "Epoch 6/50\n",
      "147/147 [==============================] - 7s 51ms/step - loss: 0.0379 - accuracy: 0.9855 - val_loss: 0.0946 - val_accuracy: 0.9770\n",
      "Epoch 7/50\n",
      "147/147 [==============================] - 7s 50ms/step - loss: 0.0300 - accuracy: 0.9904 - val_loss: 0.0267 - val_accuracy: 0.9943\n",
      "Epoch 8/50\n",
      "147/147 [==============================] - 7s 47ms/step - loss: 0.0347 - accuracy: 0.9898 - val_loss: 0.2267 - val_accuracy: 0.9502\n",
      "Epoch 9/50\n",
      "147/147 [==============================] - 7s 45ms/step - loss: 0.0333 - accuracy: 0.9885 - val_loss: 0.1069 - val_accuracy: 0.9789\n",
      "Epoch 10/50\n",
      "147/147 [==============================] - 7s 45ms/step - loss: 0.0231 - accuracy: 0.9925 - val_loss: 0.0645 - val_accuracy: 0.9808\n",
      "Epoch 11/50\n",
      "147/147 [==============================] - 6s 44ms/step - loss: 0.0288 - accuracy: 0.9902 - val_loss: 0.0050 - val_accuracy: 0.9962\n",
      "Epoch 12/50\n",
      "147/147 [==============================] - 6s 44ms/step - loss: 0.0237 - accuracy: 0.9932 - val_loss: 0.0261 - val_accuracy: 0.9904\n",
      "Epoch 13/50\n",
      "147/147 [==============================] - 6s 43ms/step - loss: 0.0305 - accuracy: 0.9904 - val_loss: 0.3207 - val_accuracy: 0.9579\n",
      "Epoch 14/50\n",
      "147/147 [==============================] - 8s 54ms/step - loss: 0.0273 - accuracy: 0.9906 - val_loss: 0.0832 - val_accuracy: 0.9751\n",
      "Epoch 15/50\n",
      "147/147 [==============================] - 7s 45ms/step - loss: 0.0186 - accuracy: 0.9934 - val_loss: 0.0658 - val_accuracy: 0.9808\n",
      "Epoch 16/50\n",
      "147/147 [==============================] - 7s 47ms/step - loss: 0.0445 - accuracy: 0.9847 - val_loss: 0.0308 - val_accuracy: 0.9847\n",
      "Epoch 17/50\n",
      "147/147 [==============================] - 7s 48ms/step - loss: 0.0337 - accuracy: 0.9885 - val_loss: 0.9118 - val_accuracy: 0.8391\n",
      "Epoch 18/50\n",
      "147/147 [==============================] - 6s 44ms/step - loss: 0.0132 - accuracy: 0.9949 - val_loss: 0.0479 - val_accuracy: 0.9866\n",
      "Epoch 19/50\n",
      "147/147 [==============================] - 7s 50ms/step - loss: 0.0153 - accuracy: 0.9945 - val_loss: 0.0395 - val_accuracy: 0.9866\n",
      "Epoch 20/50\n",
      "147/147 [==============================] - 8s 54ms/step - loss: 0.0148 - accuracy: 0.9947 - val_loss: 0.0752 - val_accuracy: 0.9808\n",
      "Epoch 21/50\n",
      "147/147 [==============================] - 9s 58ms/step - loss: 0.0177 - accuracy: 0.9934 - val_loss: 0.0388 - val_accuracy: 0.9885\n",
      "Epoch 22/50\n",
      "147/147 [==============================] - 8s 54ms/step - loss: 0.0113 - accuracy: 0.9968 - val_loss: 0.0173 - val_accuracy: 0.9943\n",
      "Epoch 23/50\n",
      "147/147 [==============================] - 9s 64ms/step - loss: 0.5294 - accuracy: 0.8801 - val_loss: 7.4351e-04 - val_accuracy: 1.0000\n",
      "Epoch 24/50\n",
      "147/147 [==============================] - 8s 55ms/step - loss: 0.2103 - accuracy: 0.9182 - val_loss: 0.1795 - val_accuracy: 0.9387\n",
      "Epoch 25/50\n",
      "147/147 [==============================] - 7s 50ms/step - loss: 0.1568 - accuracy: 0.9406 - val_loss: 0.3200 - val_accuracy: 0.8908\n",
      "Epoch 26/50\n",
      "147/147 [==============================] - 8s 56ms/step - loss: 0.1259 - accuracy: 0.9529 - val_loss: 0.0351 - val_accuracy: 0.9923\n",
      "Epoch 27/50\n",
      "147/147 [==============================] - 10s 71ms/step - loss: 0.1079 - accuracy: 0.9604 - val_loss: 0.2548 - val_accuracy: 0.8985\n",
      "Epoch 28/50\n",
      "147/147 [==============================] - 8s 52ms/step - loss: 0.0995 - accuracy: 0.9606 - val_loss: 0.0550 - val_accuracy: 0.9828\n",
      "Epoch 29/50\n",
      "147/147 [==============================] - 8s 54ms/step - loss: 0.1145 - accuracy: 0.9572 - val_loss: 0.1619 - val_accuracy: 0.9540\n",
      "Epoch 30/50\n",
      "147/147 [==============================] - 9s 65ms/step - loss: 0.0780 - accuracy: 0.9680 - val_loss: 0.0379 - val_accuracy: 0.9847\n",
      "Epoch 31/50\n",
      "147/147 [==============================] - 9s 58ms/step - loss: 0.0640 - accuracy: 0.9740 - val_loss: 0.0536 - val_accuracy: 0.9808\n",
      "Epoch 32/50\n",
      "147/147 [==============================] - 14s 99ms/step - loss: 0.0549 - accuracy: 0.9768 - val_loss: 0.0755 - val_accuracy: 0.9789\n",
      "Epoch 33/50\n",
      "147/147 [==============================] - 15s 99ms/step - loss: 0.0524 - accuracy: 0.9789 - val_loss: 0.2572 - val_accuracy: 0.9368\n",
      "Epoch 34/50\n",
      "147/147 [==============================] - 14s 98ms/step - loss: 0.0503 - accuracy: 0.9817 - val_loss: 0.0511 - val_accuracy: 0.9904\n",
      "Epoch 35/50\n",
      "147/147 [==============================] - 15s 99ms/step - loss: 0.0361 - accuracy: 0.9868 - val_loss: 0.1789 - val_accuracy: 0.9559\n",
      "Epoch 36/50\n",
      "147/147 [==============================] - 15s 103ms/step - loss: 0.0316 - accuracy: 0.9876 - val_loss: 0.3235 - val_accuracy: 0.9195\n",
      "Epoch 37/50\n",
      "147/147 [==============================] - 15s 99ms/step - loss: 0.0372 - accuracy: 0.9870 - val_loss: 0.0969 - val_accuracy: 0.9713\n",
      "Epoch 38/50\n",
      "147/147 [==============================] - 16s 108ms/step - loss: 0.0309 - accuracy: 0.9883 - val_loss: 0.1174 - val_accuracy: 0.9751\n",
      "Epoch 39/50\n",
      "147/147 [==============================] - 14s 95ms/step - loss: 0.0185 - accuracy: 0.9936 - val_loss: 0.0803 - val_accuracy: 0.9866\n",
      "Epoch 40/50\n",
      "147/147 [==============================] - 12s 84ms/step - loss: 0.1453 - accuracy: 0.9672 - val_loss: 5.4145 - val_accuracy: 0.0575\n",
      "Epoch 41/50\n",
      "147/147 [==============================] - 14s 96ms/step - loss: 0.1348 - accuracy: 0.9489 - val_loss: 0.4842 - val_accuracy: 0.8065\n",
      "Epoch 42/50\n",
      "147/147 [==============================] - 14s 95ms/step - loss: 0.1939 - accuracy: 0.9666 - val_loss: 0.1714 - val_accuracy: 0.9444\n",
      "Epoch 43/50\n",
      "147/147 [==============================] - 13s 86ms/step - loss: 0.0830 - accuracy: 0.9721 - val_loss: 0.0278 - val_accuracy: 0.9904\n",
      "Epoch 44/50\n",
      "147/147 [==============================] - 14s 93ms/step - loss: 0.0483 - accuracy: 0.9838 - val_loss: 0.0487 - val_accuracy: 0.9828\n",
      "Epoch 45/50\n",
      "147/147 [==============================] - 9s 60ms/step - loss: 0.0463 - accuracy: 0.9819 - val_loss: 0.2131 - val_accuracy: 0.9502\n",
      "Epoch 46/50\n",
      "147/147 [==============================] - 11s 75ms/step - loss: 0.0363 - accuracy: 0.9866 - val_loss: 0.2098 - val_accuracy: 0.9406\n",
      "Epoch 47/50\n",
      "147/147 [==============================] - 11s 77ms/step - loss: 0.0283 - accuracy: 0.9896 - val_loss: 0.2657 - val_accuracy: 0.9330\n",
      "Epoch 48/50\n",
      "147/147 [==============================] - 11s 78ms/step - loss: 0.0256 - accuracy: 0.9902 - val_loss: 0.0903 - val_accuracy: 0.9808\n",
      "Epoch 49/50\n",
      "147/147 [==============================] - 12s 81ms/step - loss: 0.0320 - accuracy: 0.9898 - val_loss: 0.0683 - val_accuracy: 0.9828\n",
      "Epoch 50/50\n",
      "147/147 [==============================] - 11s 74ms/step - loss: 0.0208 - accuracy: 0.9911 - val_loss: 0.4143 - val_accuracy: 0.9330\n"
     ]
    },
    {
     "data": {
      "text/plain": [
       "<keras.callbacks.History at 0x1a0eaa1a0a0>"
      ]
     },
     "execution_count": 4,
     "metadata": {},
     "output_type": "execute_result"
    }
   ],
   "source": [
    "from tensorflow.keras.utils import to_categorical\n",
    "from tensorflow.keras.applications.resnet import ResNet50, preprocess_input\n",
    "from tensorflow.keras.models import Sequential\n",
    "from tensorflow.keras.layers import Dense, GlobalAveragePooling2D\n",
    "from tensorflow.keras.optimizers import Adam\n",
    "from tensorflow.keras.preprocessing.image import ImageDataGenerator\n",
    "num_classes = 2\n",
    "# Create the ResNet model without the top (fully connected) layers\n",
    "base_model = ResNet50(weights=\"imagenet\", include_top=False, input_shape=(32, 32, 3))    \n",
    "model = Sequential()\n",
    "model.add(base_model)\n",
    "model.add(GlobalAveragePooling2D())\n",
    "model.add(Dense(num_classes, activation='softmax'))  # Change units to match the number of classes\n",
    "model.compile(optimizer=Adam(learning_rate=0.001), loss='categorical_crossentropy', metrics=['accuracy'])\n",
    "epochs = 50\n",
    "model.fit(X_train,YT, epochs=epochs,batch_size=32, validation_split = .1)"
   ]
  },
  {
   "cell_type": "code",
   "execution_count": 15,
   "id": "ebe1492f",
   "metadata": {},
   "outputs": [
    {
     "name": "stdout",
     "output_type": "stream",
     "text": [
      "Epoch 1/2\n",
      "147/147 [==============================] - 5s 31ms/step - loss: 0.0252 - accuracy: 0.9906 - val_loss: 0.1588 - val_accuracy: 0.9617\n",
      "Epoch 2/2\n",
      "147/147 [==============================] - 4s 28ms/step - loss: 0.0447 - accuracy: 0.9834 - val_loss: 0.0130 - val_accuracy: 0.9923\n"
     ]
    },
    {
     "data": {
      "text/plain": [
       "<keras.callbacks.History at 0x2dd8989ae50>"
      ]
     },
     "execution_count": 15,
     "metadata": {},
     "output_type": "execute_result"
    }
   ],
   "source": [
    "model.fit(X_train,YT, epochs=2,batch_size=32, validation_split = .1)"
   ]
  },
  {
   "cell_type": "code",
   "execution_count": 5,
   "id": "57121335",
   "metadata": {},
   "outputs": [
    {
     "name": "stdout",
     "output_type": "stream",
     "text": [
      "Accuracy: 0.9375\n",
      "F1 Score: 0.9372549019607843\n"
     ]
    }
   ],
   "source": [
    "from sklearn.metrics import accuracy_score, f1_score, confusion_matrix\n",
    "\n",
    "# Make predictions on the test dataset\n",
    "predictions = model.predict(X_val)\n",
    "\n",
    "# Convert one-hot encoded predictions back to class labels\n",
    "predicted_labels = np.argmax(predictions, axis=1)\n",
    "\n",
    "# Calculate accuracy\n",
    "accuracy = accuracy_score(Y_val, predicted_labels)\n",
    "\n",
    "# Calculate F1 score\n",
    "f1 = f1_score(Y_val, predicted_labels, average='weighted')\n",
    "\n",
    "print(f\"Accuracy: {accuracy}\")\n",
    "print(f\"F1 Score: {f1}\")"
   ]
  },
  {
   "cell_type": "code",
   "execution_count": null,
   "id": "5dbd94fc",
   "metadata": {},
   "outputs": [],
   "source": [
    "print(\".......................................................................................\")\n",
    "print(\".......................................................................................\")"
   ]
  },
  {
   "cell_type": "code",
   "execution_count": 6,
   "id": "c2162265",
   "metadata": {},
   "outputs": [
    {
     "name": "stdout",
     "output_type": "stream",
     "text": [
      "Epoch 1/50\n"
     ]
    },
    {
     "name": "stderr",
     "output_type": "stream",
     "text": [
      "C:\\Users\\shaif\\anaconda3\\envs\\tens\\lib\\site-packages\\keras\\optimizer_v2\\adam.py:105: UserWarning: The `lr` argument is deprecated, use `learning_rate` instead.\n",
      "  super(Adam, self).__init__(name, **kwargs)\n"
     ]
    },
    {
     "name": "stdout",
     "output_type": "stream",
     "text": [
      "147/147 [==============================] - 13s 49ms/step - loss: 0.2205 - accuracy: 0.9372 - val_loss: 0.3206 - val_accuracy: 0.9349\n",
      "Epoch 2/50\n",
      "147/147 [==============================] - 7s 51ms/step - loss: 0.0884 - accuracy: 0.9683 - val_loss: 0.0416 - val_accuracy: 0.9847\n",
      "Epoch 3/50\n",
      "147/147 [==============================] - 7s 49ms/step - loss: 0.0560 - accuracy: 0.9757 - val_loss: 0.1471 - val_accuracy: 0.9579\n",
      "Epoch 4/50\n",
      "147/147 [==============================] - 8s 53ms/step - loss: 0.1027 - accuracy: 0.9766 - val_loss: 0.0118 - val_accuracy: 0.9943\n",
      "Epoch 5/50\n",
      "147/147 [==============================] - 8s 51ms/step - loss: 0.1038 - accuracy: 0.9644 - val_loss: 0.1877 - val_accuracy: 0.9598\n",
      "Epoch 6/50\n",
      "147/147 [==============================] - 7s 49ms/step - loss: 0.0539 - accuracy: 0.9821 - val_loss: 0.1857 - val_accuracy: 0.9559\n",
      "Epoch 7/50\n",
      "147/147 [==============================] - 6s 44ms/step - loss: 0.0324 - accuracy: 0.9889 - val_loss: 0.0977 - val_accuracy: 0.9847\n",
      "Epoch 8/50\n",
      "147/147 [==============================] - 6s 42ms/step - loss: 0.0302 - accuracy: 0.9893 - val_loss: 0.0919 - val_accuracy: 0.9713\n",
      "Epoch 9/50\n",
      "147/147 [==============================] - 6s 42ms/step - loss: 0.0269 - accuracy: 0.9908 - val_loss: 0.0368 - val_accuracy: 0.9866\n",
      "Epoch 10/50\n",
      "147/147 [==============================] - 6s 42ms/step - loss: 0.0190 - accuracy: 0.9945 - val_loss: 0.0720 - val_accuracy: 0.9789\n",
      "Epoch 11/50\n",
      "147/147 [==============================] - 6s 43ms/step - loss: 0.0112 - accuracy: 0.9972 - val_loss: 0.0803 - val_accuracy: 0.9847\n",
      "Epoch 12/50\n",
      "147/147 [==============================] - 6s 41ms/step - loss: 0.0043 - accuracy: 0.9987 - val_loss: 0.0763 - val_accuracy: 0.9847\n",
      "Epoch 13/50\n",
      "147/147 [==============================] - 6s 42ms/step - loss: 0.0177 - accuracy: 0.9947 - val_loss: 0.1352 - val_accuracy: 0.9674\n",
      "Epoch 14/50\n",
      "147/147 [==============================] - 6s 44ms/step - loss: 0.0097 - accuracy: 0.9966 - val_loss: 0.1559 - val_accuracy: 0.9732\n",
      "Epoch 15/50\n",
      "147/147 [==============================] - 6s 43ms/step - loss: 0.0284 - accuracy: 0.9902 - val_loss: 0.3250 - val_accuracy: 0.9540\n",
      "Epoch 16/50\n",
      "147/147 [==============================] - 6s 42ms/step - loss: 0.0266 - accuracy: 0.9917 - val_loss: 0.0586 - val_accuracy: 0.9693\n",
      "Epoch 17/50\n",
      "147/147 [==============================] - 7s 46ms/step - loss: 0.0167 - accuracy: 0.9936 - val_loss: 0.3137 - val_accuracy: 0.9425\n",
      "Epoch 18/50\n",
      "147/147 [==============================] - 7s 45ms/step - loss: 0.0096 - accuracy: 0.9966 - val_loss: 0.1886 - val_accuracy: 0.9674\n",
      "Epoch 19/50\n",
      "147/147 [==============================] - 7s 50ms/step - loss: 0.0093 - accuracy: 0.9962 - val_loss: 0.2017 - val_accuracy: 0.9693\n",
      "Epoch 20/50\n",
      "147/147 [==============================] - 8s 55ms/step - loss: 0.0019 - accuracy: 0.9991 - val_loss: 0.1269 - val_accuracy: 0.9789\n",
      "Epoch 21/50\n",
      "147/147 [==============================] - 8s 53ms/step - loss: 0.0075 - accuracy: 0.9981 - val_loss: 0.0890 - val_accuracy: 0.9847\n",
      "Epoch 22/50\n",
      "147/147 [==============================] - 7s 48ms/step - loss: 0.0145 - accuracy: 0.9953 - val_loss: 0.1751 - val_accuracy: 0.9732\n",
      "Epoch 23/50\n",
      "147/147 [==============================] - 7s 46ms/step - loss: 0.0063 - accuracy: 0.9977 - val_loss: 0.2310 - val_accuracy: 0.9655\n",
      "Epoch 24/50\n",
      "147/147 [==============================] - 7s 45ms/step - loss: 0.0041 - accuracy: 0.9981 - val_loss: 0.1216 - val_accuracy: 0.9847\n",
      "Epoch 25/50\n",
      "147/147 [==============================] - 7s 48ms/step - loss: 0.0216 - accuracy: 0.9932 - val_loss: 0.2974 - val_accuracy: 0.9559\n",
      "Epoch 26/50\n",
      "147/147 [==============================] - 7s 48ms/step - loss: 0.0072 - accuracy: 0.9977 - val_loss: 0.2150 - val_accuracy: 0.9636\n",
      "Epoch 27/50\n",
      "147/147 [==============================] - 7s 46ms/step - loss: 0.0509 - accuracy: 0.9840 - val_loss: 0.9378 - val_accuracy: 0.9444\n",
      "Epoch 28/50\n",
      "147/147 [==============================] - 7s 49ms/step - loss: 0.0353 - accuracy: 0.9889 - val_loss: 0.1698 - val_accuracy: 0.9713\n",
      "Epoch 29/50\n",
      "147/147 [==============================] - 7s 49ms/step - loss: 0.0084 - accuracy: 0.9966 - val_loss: 0.2517 - val_accuracy: 0.9598\n",
      "Epoch 30/50\n",
      "147/147 [==============================] - 8s 54ms/step - loss: 0.0533 - accuracy: 0.9855 - val_loss: 0.1329 - val_accuracy: 0.9464\n",
      "Epoch 31/50\n",
      "147/147 [==============================] - 7s 47ms/step - loss: 0.0322 - accuracy: 0.9876 - val_loss: 0.1019 - val_accuracy: 0.9770\n",
      "Epoch 32/50\n",
      "147/147 [==============================] - 7s 47ms/step - loss: 0.0150 - accuracy: 0.9957 - val_loss: 0.0638 - val_accuracy: 0.9885\n",
      "Epoch 33/50\n",
      "147/147 [==============================] - 7s 48ms/step - loss: 0.0100 - accuracy: 0.9966 - val_loss: 0.0922 - val_accuracy: 0.9808\n",
      "Epoch 34/50\n",
      "147/147 [==============================] - 7s 45ms/step - loss: 0.0077 - accuracy: 0.9972 - val_loss: 0.5230 - val_accuracy: 0.9004\n",
      "Epoch 35/50\n",
      "147/147 [==============================] - 7s 48ms/step - loss: 0.0075 - accuracy: 0.9972 - val_loss: 0.1108 - val_accuracy: 0.9828\n",
      "Epoch 36/50\n",
      "147/147 [==============================] - 8s 52ms/step - loss: 0.0059 - accuracy: 0.9983 - val_loss: 0.1081 - val_accuracy: 0.9808\n",
      "Epoch 37/50\n",
      "147/147 [==============================] - 7s 45ms/step - loss: 0.0047 - accuracy: 0.9985 - val_loss: 0.1023 - val_accuracy: 0.9770\n",
      "Epoch 38/50\n",
      "147/147 [==============================] - 6s 43ms/step - loss: 0.0020 - accuracy: 0.9991 - val_loss: 0.1549 - val_accuracy: 0.9751\n",
      "Epoch 39/50\n",
      "147/147 [==============================] - 7s 46ms/step - loss: 0.0042 - accuracy: 0.9987 - val_loss: 0.1970 - val_accuracy: 0.9713\n",
      "Epoch 40/50\n",
      "147/147 [==============================] - 8s 57ms/step - loss: 0.0026 - accuracy: 0.9994 - val_loss: 0.3362 - val_accuracy: 0.9502\n",
      "Epoch 41/50\n",
      "147/147 [==============================] - 8s 53ms/step - loss: 0.0205 - accuracy: 0.9945 - val_loss: 0.1248 - val_accuracy: 0.9789\n",
      "Epoch 42/50\n",
      "147/147 [==============================] - 8s 55ms/step - loss: 0.0401 - accuracy: 0.9908 - val_loss: 0.1614 - val_accuracy: 0.9713\n",
      "Epoch 43/50\n",
      "147/147 [==============================] - 10s 65ms/step - loss: 0.0159 - accuracy: 0.9957 - val_loss: 0.2259 - val_accuracy: 0.9617\n",
      "Epoch 44/50\n",
      "147/147 [==============================] - 9s 63ms/step - loss: 0.0389 - accuracy: 0.9883 - val_loss: 0.2295 - val_accuracy: 0.9732\n",
      "Epoch 45/50\n",
      "147/147 [==============================] - 9s 58ms/step - loss: 0.0334 - accuracy: 0.9904 - val_loss: 0.0911 - val_accuracy: 0.9808\n",
      "Epoch 46/50\n",
      "147/147 [==============================] - 7s 50ms/step - loss: 0.0098 - accuracy: 0.9957 - val_loss: 0.1475 - val_accuracy: 0.9789\n",
      "Epoch 47/50\n",
      "147/147 [==============================] - 7s 50ms/step - loss: 0.0109 - accuracy: 0.9964 - val_loss: 0.1747 - val_accuracy: 0.9693\n",
      "Epoch 48/50\n",
      "147/147 [==============================] - 7s 46ms/step - loss: 0.0038 - accuracy: 0.9987 - val_loss: 0.1594 - val_accuracy: 0.9770\n",
      "Epoch 49/50\n",
      "147/147 [==============================] - 7s 46ms/step - loss: 0.0063 - accuracy: 0.9974 - val_loss: 0.2024 - val_accuracy: 0.9732\n",
      "Epoch 50/50\n",
      "147/147 [==============================] - 7s 49ms/step - loss: 0.0042 - accuracy: 0.9985 - val_loss: 0.1417 - val_accuracy: 0.9828\n"
     ]
    },
    {
     "data": {
      "text/plain": [
       "<keras.callbacks.History at 0x1a47e36d040>"
      ]
     },
     "execution_count": 6,
     "metadata": {},
     "output_type": "execute_result"
    }
   ],
   "source": [
    "import tensorflow\n",
    "from tensorflow.keras.utils import to_categorical\n",
    "from tensorflow.keras.applications.resnet import ResNet50, preprocess_input\n",
    "from tensorflow.keras.models import Sequential\n",
    "from tensorflow.keras.layers import Dense, GlobalAveragePooling2D\n",
    "from tensorflow.keras.optimizers import Adam\n",
    "from tensorflow.keras.preprocessing.image import ImageDataGenerator\n",
    "num_classes = 2\n",
    "model = tensorflow.keras.models.load_model(r\"D:\\che_model.h5\")\n",
    "\n",
    "x = model.layers[-4].output  # Access the last 4th layer from the end\n",
    "x = GlobalAveragePooling2D(keepdims=False)(x)  # Explicitly specify keepdims\n",
    "output = Dense(num_classes, activation='softmax')(x)\n",
    "new_model = tensorflow.keras.models.Model(inputs=model.input, outputs=output) \n",
    "new_model.compile(optimizer=Adam(lr=0.001), loss='categorical_crossentropy', metrics=['accuracy'])\n",
    "epochs = 50\n",
    "new_model.fit(X_train,YT, epochs=epochs,batch_size=32, validation_split = .1)"
   ]
  },
  {
   "cell_type": "code",
   "execution_count": 9,
   "id": "f4c7b3b3",
   "metadata": {},
   "outputs": [
    {
     "name": "stdout",
     "output_type": "stream",
     "text": [
      "Epoch 1/2\n",
      "147/147 [==============================] - 7s 48ms/step - loss: 1.8576e-04 - accuracy: 1.0000 - val_loss: 0.1706 - val_accuracy: 0.9828\n",
      "Epoch 2/2\n",
      "147/147 [==============================] - 6s 44ms/step - loss: 8.9072e-05 - accuracy: 1.0000 - val_loss: 0.1774 - val_accuracy: 0.9808\n"
     ]
    },
    {
     "data": {
      "text/plain": [
       "<keras.callbacks.History at 0x1a4b0701250>"
      ]
     },
     "execution_count": 9,
     "metadata": {},
     "output_type": "execute_result"
    }
   ],
   "source": [
    "new_model.fit(X_train,YT, epochs=2,batch_size=32, validation_split = .1)"
   ]
  },
  {
   "cell_type": "code",
   "execution_count": 10,
   "id": "46296b9a",
   "metadata": {},
   "outputs": [
    {
     "name": "stdout",
     "output_type": "stream",
     "text": [
      "Accuracy: 0.9375\n",
      "F1 Score: 0.9372549019607843\n"
     ]
    }
   ],
   "source": [
    "from sklearn.metrics import accuracy_score, f1_score, confusion_matrix\n",
    "# Make predictions on the test dataset\n",
    "predictions = new_model.predict(X_val)\n",
    "# Convert one-hot encoded predictions back to class labels\n",
    "predicted_labels = np.argmax(predictions, axis=1)\n",
    "# Calculate accuracy\n",
    "accuracy = accuracy_score(Y_val, predicted_labels)\n",
    "# Calculate F1 score\n",
    "f1 = f1_score(Y_val, predicted_labels, average='weighted')\n",
    "print(f\"Accuracy: {accuracy}\")\n",
    "print(f\"F1 Score: {f1}\")"
   ]
  },
  {
   "cell_type": "code",
   "execution_count": null,
   "id": "70c96a54",
   "metadata": {},
   "outputs": [],
   "source": [
    "print(\".......................................................................................\")\n",
    "print(\".......................................................................................\")"
   ]
  },
  {
   "cell_type": "code",
   "execution_count": null,
   "id": "34859ff9",
   "metadata": {},
   "outputs": [],
   "source": []
  },
  {
   "cell_type": "code",
   "execution_count": 8,
   "id": "e95e57aa",
   "metadata": {},
   "outputs": [
    {
     "name": "stdout",
     "output_type": "stream",
     "text": [
      "WARNING:tensorflow:No training configuration found in the save file, so the model was *not* compiled. Compile it manually.\n",
      "Epoch 1/50\n",
      "363/363 [==============================] - 42s 68ms/step - loss: 516.2614 - accuracy: 0.1743 - val_loss: 4347.4189 - val_accuracy: 0.0000e+00\n",
      "Epoch 2/50\n",
      "363/363 [==============================] - 21s 58ms/step - loss: 193.0619 - accuracy: 0.1802 - val_loss: 2157.3953 - val_accuracy: 0.0109\n",
      "Epoch 3/50\n",
      "363/363 [==============================] - 22s 61ms/step - loss: 62.5039 - accuracy: 0.1754 - val_loss: 1404.2903 - val_accuracy: 0.1643\n",
      "Epoch 4/50\n",
      "363/363 [==============================] - 23s 63ms/step - loss: 34.9450 - accuracy: 0.1793 - val_loss: 934.8641 - val_accuracy: 0.0000e+00\n",
      "Epoch 5/50\n",
      "363/363 [==============================] - 20s 56ms/step - loss: 20.3900 - accuracy: 0.1827 - val_loss: 715.6703 - val_accuracy: 0.0000e+00\n",
      "Epoch 6/50\n",
      "363/363 [==============================] - 22s 61ms/step - loss: 15.4835 - accuracy: 0.1938 - val_loss: 586.2610 - val_accuracy: 0.0000e+00\n",
      "Epoch 7/50\n",
      "363/363 [==============================] - 23s 65ms/step - loss: 12.3891 - accuracy: 0.2007 - val_loss: 405.6440 - val_accuracy: 0.0000e+00\n",
      "Epoch 8/50\n",
      "363/363 [==============================] - 23s 63ms/step - loss: 10.8610 - accuracy: 0.2106 - val_loss: 354.6766 - val_accuracy: 0.0000e+00\n",
      "Epoch 9/50\n",
      "363/363 [==============================] - 24s 67ms/step - loss: 9.7738 - accuracy: 0.2126 - val_loss: 303.3064 - val_accuracy: 0.0000e+00\n",
      "Epoch 10/50\n",
      "363/363 [==============================] - 21s 58ms/step - loss: 8.8840 - accuracy: 0.2166 - val_loss: 299.3788 - val_accuracy: 1.7235e-04\n",
      "Epoch 11/50\n",
      "363/363 [==============================] - 22s 61ms/step - loss: 8.6963 - accuracy: 0.2234 - val_loss: 280.6729 - val_accuracy: 0.0000e+00\n",
      "Epoch 12/50\n",
      "363/363 [==============================] - 21s 59ms/step - loss: 7.8841 - accuracy: 0.2225 - val_loss: 249.9208 - val_accuracy: 0.0000e+00\n",
      "Epoch 13/50\n",
      "363/363 [==============================] - 20s 56ms/step - loss: 6.7834 - accuracy: 0.2280 - val_loss: 232.1834 - val_accuracy: 0.0000e+00\n",
      "Epoch 14/50\n",
      "363/363 [==============================] - 24s 67ms/step - loss: 6.1913 - accuracy: 0.2360 - val_loss: 202.2316 - val_accuracy: 3.4471e-04\n",
      "Epoch 15/50\n",
      "363/363 [==============================] - 21s 58ms/step - loss: 5.8539 - accuracy: 0.2414 - val_loss: 189.8287 - val_accuracy: 0.1081\n",
      "Epoch 16/50\n",
      "363/363 [==============================] - 22s 61ms/step - loss: 5.2689 - accuracy: 0.2459 - val_loss: 166.7606 - val_accuracy: 0.0029\n",
      "Epoch 17/50\n",
      "363/363 [==============================] - 22s 60ms/step - loss: 4.6999 - accuracy: 0.2483 - val_loss: 161.6738 - val_accuracy: 0.0000e+00\n",
      "Epoch 18/50\n",
      "363/363 [==============================] - 22s 60ms/step - loss: 4.9571 - accuracy: 0.2511 - val_loss: 141.6791 - val_accuracy: 0.0000e+00\n",
      "Epoch 19/50\n",
      "363/363 [==============================] - 23s 64ms/step - loss: 5.2777 - accuracy: 0.2445 - val_loss: 119.6050 - val_accuracy: 0.0128\n",
      "Epoch 20/50\n",
      "363/363 [==============================] - 23s 64ms/step - loss: 4.2584 - accuracy: 0.2519 - val_loss: 120.8061 - val_accuracy: 0.0000e+00\n",
      "Epoch 21/50\n",
      "363/363 [==============================] - 21s 58ms/step - loss: 3.9708 - accuracy: 0.2634 - val_loss: 94.2480 - val_accuracy: 0.0000e+00\n",
      "Epoch 22/50\n",
      "363/363 [==============================] - 21s 58ms/step - loss: 4.1719 - accuracy: 0.2542 - val_loss: 119.0267 - val_accuracy: 0.0000e+00\n",
      "Epoch 23/50\n",
      "363/363 [==============================] - 22s 59ms/step - loss: 4.2263 - accuracy: 0.2557 - val_loss: 85.6582 - val_accuracy: 0.0016\n",
      "Epoch 24/50\n",
      "363/363 [==============================] - 21s 57ms/step - loss: 3.0151 - accuracy: 0.2717 - val_loss: 85.3932 - val_accuracy: 0.0000e+00\n",
      "Epoch 25/50\n",
      "363/363 [==============================] - 22s 62ms/step - loss: 3.0341 - accuracy: 0.2735 - val_loss: 76.3234 - val_accuracy: 0.0000e+00\n",
      "Epoch 26/50\n",
      "363/363 [==============================] - 22s 60ms/step - loss: 3.1201 - accuracy: 0.2771 - val_loss: 81.1580 - val_accuracy: 0.0733\n",
      "Epoch 27/50\n",
      "363/363 [==============================] - 22s 60ms/step - loss: 2.9204 - accuracy: 0.2781 - val_loss: 74.8186 - val_accuracy: 0.0000e+00\n",
      "Epoch 28/50\n",
      "363/363 [==============================] - 21s 57ms/step - loss: 2.6993 - accuracy: 0.2819 - val_loss: 55.3937 - val_accuracy: 0.0000e+00\n",
      "Epoch 29/50\n",
      "363/363 [==============================] - 22s 60ms/step - loss: 2.8404 - accuracy: 0.2803 - val_loss: 45.4400 - val_accuracy: 0.0403\n",
      "Epoch 30/50\n",
      "363/363 [==============================] - 23s 65ms/step - loss: 2.4638 - accuracy: 0.2966 - val_loss: 46.2611 - val_accuracy: 0.0805\n",
      "Epoch 31/50\n",
      "363/363 [==============================] - 23s 62ms/step - loss: 2.4525 - accuracy: 0.2965 - val_loss: 65.6701 - val_accuracy: 0.0000e+00\n",
      "Epoch 32/50\n",
      "363/363 [==============================] - 21s 58ms/step - loss: 2.4663 - accuracy: 0.2944 - val_loss: 33.8688 - val_accuracy: 0.0090\n",
      "Epoch 33/50\n",
      "363/363 [==============================] - 22s 62ms/step - loss: 2.1426 - accuracy: 0.3132 - val_loss: 20.9173 - val_accuracy: 0.0074\n",
      "Epoch 34/50\n",
      "363/363 [==============================] - 21s 58ms/step - loss: 2.1536 - accuracy: 0.3150 - val_loss: 27.6868 - val_accuracy: 0.0684\n",
      "Epoch 35/50\n",
      "363/363 [==============================] - 19s 52ms/step - loss: 2.0793 - accuracy: 0.3282 - val_loss: 36.6038 - val_accuracy: 1.7235e-04\n",
      "Epoch 36/50\n",
      "363/363 [==============================] - 24s 65ms/step - loss: 1.9870 - accuracy: 0.3361 - val_loss: 30.5608 - val_accuracy: 8.6177e-04\n",
      "Epoch 37/50\n",
      "363/363 [==============================] - 22s 59ms/step - loss: 3.1389 - accuracy: 0.3029 - val_loss: 95.7763 - val_accuracy: 0.0028\n",
      "Epoch 38/50\n",
      "363/363 [==============================] - 20s 55ms/step - loss: 1.9031 - accuracy: 0.3317 - val_loss: 52.8539 - val_accuracy: 0.0179\n",
      "Epoch 39/50\n",
      "363/363 [==============================] - 20s 56ms/step - loss: 1.9114 - accuracy: 0.3409 - val_loss: 47.5003 - val_accuracy: 0.0036\n",
      "Epoch 40/50\n",
      "363/363 [==============================] - 22s 59ms/step - loss: 1.8136 - accuracy: 0.3519 - val_loss: 37.1911 - val_accuracy: 0.0000e+00\n",
      "Epoch 41/50\n",
      "363/363 [==============================] - 24s 65ms/step - loss: 1.8291 - accuracy: 0.3514 - val_loss: 44.2472 - val_accuracy: 3.4471e-04\n",
      "Epoch 42/50\n",
      "363/363 [==============================] - 23s 62ms/step - loss: 1.8563 - accuracy: 0.3428 - val_loss: 29.0198 - val_accuracy: 0.0505\n",
      "Epoch 43/50\n",
      "363/363 [==============================] - 21s 59ms/step - loss: 1.8188 - accuracy: 0.3561 - val_loss: 33.1546 - val_accuracy: 0.0000e+00\n",
      "Epoch 44/50\n",
      "363/363 [==============================] - 21s 58ms/step - loss: 1.8996 - accuracy: 0.3453 - val_loss: 14.1266 - val_accuracy: 0.0036\n",
      "Epoch 45/50\n",
      "363/363 [==============================] - 21s 59ms/step - loss: 2.1184 - accuracy: 0.3414 - val_loss: 291.8795 - val_accuracy: 0.0000e+00\n",
      "Epoch 46/50\n",
      "363/363 [==============================] - 21s 57ms/step - loss: 5.7001 - accuracy: 0.2785 - val_loss: 51.7829 - val_accuracy: 0.0057\n",
      "Epoch 47/50\n",
      "363/363 [==============================] - 24s 65ms/step - loss: 1.8020 - accuracy: 0.3641 - val_loss: 38.8990 - val_accuracy: 0.0000e+00\n",
      "Epoch 48/50\n",
      "363/363 [==============================] - 23s 63ms/step - loss: 2.4314 - accuracy: 0.3252 - val_loss: 61.9072 - val_accuracy: 0.0000e+00\n",
      "Epoch 49/50\n",
      "363/363 [==============================] - 21s 58ms/step - loss: 1.7687 - accuracy: 0.3584 - val_loss: 44.6247 - val_accuracy: 0.0000e+00\n",
      "Epoch 50/50\n",
      "363/363 [==============================] - 20s 56ms/step - loss: 1.7992 - accuracy: 0.3538 - val_loss: 69.6093 - val_accuracy: 0.0376\n"
     ]
    },
    {
     "data": {
      "text/plain": [
       "<keras.callbacks.History at 0x1de895e95e0>"
      ]
     },
     "execution_count": 8,
     "metadata": {},
     "output_type": "execute_result"
    }
   ],
   "source": [
    "from tensorflow import keras\n",
    "from tensorflow.keras.applications import ResNet50\n",
    "from tensorflow.keras.models import Sequential\n",
    "from tensorflow.keras.layers import Dense, GlobalAveragePooling2D\n",
    "    \n",
    "num_classes = 10  \n",
    "model = keras.models.load_model(r\"C:\\Users\\shaif\\Downloads\\imb_ssl.h5\")\n",
    "x = model.layers[-8].output  \n",
    "output = Dense(num_classes, activation='softmax')(x)\n",
    "new_model = keras.models.Model(inputs=model.input, outputs=output)\n",
    "new_model.compile(optimizer='Adam', loss='categorical_crossentropy', metrics=['accuracy'])\n",
    "new_model.fit(X_train, YT, batch_size=64, epochs=50, validation_split = .2)"
   ]
  },
  {
   "cell_type": "code",
   "execution_count": null,
   "id": "00a042bf",
   "metadata": {},
   "outputs": [],
   "source": []
  },
  {
   "cell_type": "code",
   "execution_count": 9,
   "id": "9fca0bb1",
   "metadata": {},
   "outputs": [
    {
     "ename": "NameError",
     "evalue": "name 'V_val' is not defined",
     "output_type": "error",
     "traceback": [
      "\u001b[1;31m---------------------------------------------------------------------------\u001b[0m",
      "\u001b[1;31mNameError\u001b[0m                                 Traceback (most recent call last)",
      "Cell \u001b[1;32mIn[9], line 5\u001b[0m\n\u001b[0;32m      2\u001b[0m \u001b[38;5;28;01mfrom\u001b[39;00m \u001b[38;5;21;01msklearn\u001b[39;00m\u001b[38;5;21;01m.\u001b[39;00m\u001b[38;5;21;01mmetrics\u001b[39;00m \u001b[38;5;28;01mimport\u001b[39;00m accuracy_score, f1_score\n\u001b[0;32m      4\u001b[0m \u001b[38;5;66;03m# Assuming you have trained a model and obtained predicted probabilities on x_test\u001b[39;00m\n\u001b[1;32m----> 5\u001b[0m y_pred_prob \u001b[38;5;241m=\u001b[39m new_model\u001b[38;5;241m.\u001b[39mpredict(\u001b[43mV_val\u001b[49m)\n\u001b[0;32m      7\u001b[0m \u001b[38;5;66;03m# Convert predicted probabilities to predicted labels\u001b[39;00m\n\u001b[0;32m      8\u001b[0m y_pred \u001b[38;5;241m=\u001b[39m np\u001b[38;5;241m.\u001b[39margmax(y_pred_prob, axis\u001b[38;5;241m=\u001b[39m\u001b[38;5;241m1\u001b[39m)\n",
      "\u001b[1;31mNameError\u001b[0m: name 'V_val' is not defined"
     ]
    }
   ],
   "source": [
    "import numpy as np\n",
    "from sklearn.metrics import accuracy_score, f1_score\n",
    "\n",
    "# Assuming you have trained a model and obtained predicted probabilities on x_test\n",
    "y_pred_prob = new_model.predict(V_val)\n",
    "\n",
    "# Convert predicted probabilities to predicted labels\n",
    "y_pred = np.argmax(y_pred_prob, axis=1)\n",
    "\n",
    "# Convert y_test to predicted labels format\n",
    "y_test_labels = np.argmax(y_val, axis=1)\n",
    "\n",
    "# Calculate accuracy\n",
    "accuracy = accuracy_score(y_test_labels, y_pred)\n",
    "print(\"Accuracy:\", accuracy)\n",
    "\n",
    "# Calculate F1 score (micro-average)\n",
    "f1_micro = f1_score(y_test_labels, y_pred, average='micro')\n",
    "print(\"F1 Score (Micro):\", f1_micro)"
   ]
  },
  {
   "cell_type": "code",
   "execution_count": null,
   "id": "8ddafe43",
   "metadata": {},
   "outputs": [],
   "source": []
  },
  {
   "cell_type": "code",
   "execution_count": null,
   "id": "15ef50a1",
   "metadata": {},
   "outputs": [],
   "source": [
    "print(\".......................................................................................\")\n",
    "print(\".......................................................................................\")"
   ]
  },
  {
   "cell_type": "code",
   "execution_count": null,
   "id": "3fcc5f35",
   "metadata": {},
   "outputs": [],
   "source": []
  },
  {
   "cell_type": "code",
   "execution_count": null,
   "id": "aba24554",
   "metadata": {},
   "outputs": [],
   "source": [
    "print(\".......................................................................................\")\n",
    "print(\".......................................................................................\")"
   ]
  },
  {
   "cell_type": "code",
   "execution_count": null,
   "id": "73589b3a",
   "metadata": {},
   "outputs": [],
   "source": []
  },
  {
   "cell_type": "code",
   "execution_count": null,
   "id": "050164ff",
   "metadata": {},
   "outputs": [],
   "source": []
  },
  {
   "cell_type": "code",
   "execution_count": null,
   "id": "c3da1438",
   "metadata": {},
   "outputs": [],
   "source": []
  },
  {
   "cell_type": "code",
   "execution_count": null,
   "id": "407d8bbc",
   "metadata": {},
   "outputs": [],
   "source": []
  }
 ],
 "metadata": {
  "kernelspec": {
   "display_name": "Python 3 (ipykernel)",
   "language": "python",
   "name": "python3"
  },
  "language_info": {
   "codemirror_mode": {
    "name": "ipython",
    "version": 3
   },
   "file_extension": ".py",
   "mimetype": "text/x-python",
   "name": "python",
   "nbconvert_exporter": "python",
   "pygments_lexer": "ipython3",
   "version": "3.8.18"
  }
 },
 "nbformat": 4,
 "nbformat_minor": 5
}
