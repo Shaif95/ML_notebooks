{
 "cells": [
  {
   "cell_type": "code",
   "execution_count": 1,
   "id": "54b9389d",
   "metadata": {},
   "outputs": [
    {
     "data": {
      "text/plain": [
       "400"
      ]
     },
     "execution_count": 1,
     "metadata": {},
     "output_type": "execute_result"
    }
   ],
   "source": [
    "import json\n",
    "import pandas as pd\n",
    "import os\n",
    "from tqdm import tqdm\n",
    "\n",
    "name = \"test\"\n",
    "\n",
    "path = \"K400/\"\n",
    "\n",
    "dir = name + \"/\"\n",
    "\n",
    "# Opening JSON file\n",
    "f = open(\"D:/ML_notebooks/kinetics400/\" + name +\".json\")\n",
    "js = json.load(f)\n",
    "df = pd.read_csv('D:/ML_notebooks/kinetics400/'+name+'.csv')\n",
    "data = df\n",
    "\n",
    "labels = data[\"label\"].drop_duplicates()\n",
    "len(labels)\n"
   ]
  },
  {
   "cell_type": "code",
   "execution_count": 11,
   "id": "219cb4a2",
   "metadata": {},
   "outputs": [],
   "source": [
    "from glob import glob\n",
    "list = glob(\"K400/test/*/\", recursive = True)"
   ]
  },
  {
   "cell_type": "code",
   "execution_count": 14,
   "id": "5630f077",
   "metadata": {},
   "outputs": [
    {
     "data": {
      "text/plain": [
       "1"
      ]
     },
     "execution_count": 14,
     "metadata": {},
     "output_type": "execute_result"
    }
   ],
   "source": [
    "def check(path):\n",
    "    \n",
    "    if len(os.listdir(path)) == 0:\n",
    "        return 0\n",
    "    else:    \n",
    "        return 1\n",
    "k = check('K400/test\\\\abseiling\\\\3ePwnAvORvI\\\\')\n",
    "k"
   ]
  },
  {
   "cell_type": "code",
   "execution_count": 12,
   "id": "cc65a3f1",
   "metadata": {},
   "outputs": [
    {
     "data": {
      "text/plain": [
       "400"
      ]
     },
     "execution_count": 12,
     "metadata": {},
     "output_type": "execute_result"
    }
   ],
   "source": [
    "len(list)"
   ]
  },
  {
   "cell_type": "code",
   "execution_count": 24,
   "id": "ba69c414",
   "metadata": {},
   "outputs": [
    {
     "data": {
      "text/plain": [
       "307"
      ]
     },
     "execution_count": 24,
     "metadata": {},
     "output_type": "execute_result"
    }
   ],
   "source": [
    "c = 0\n",
    "for i in list:\n",
    "    \n",
    "    xl = glob(i+\"*/\", recursive = True)\n",
    "    \n",
    "    for j in xl:\n",
    "        if( check(j) == 1 ):\n",
    "            c = c + 1\n",
    "            break\n",
    "c    "
   ]
  },
  {
   "cell_type": "code",
   "execution_count": null,
   "id": "a126f8cb",
   "metadata": {},
   "outputs": [],
   "source": []
  },
  {
   "cell_type": "code",
   "execution_count": null,
   "id": "7a524d69",
   "metadata": {},
   "outputs": [],
   "source": []
  },
  {
   "cell_type": "code",
   "execution_count": null,
   "id": "268c5ee1",
   "metadata": {},
   "outputs": [],
   "source": []
  },
  {
   "cell_type": "code",
   "execution_count": null,
   "id": "78cfdb7b",
   "metadata": {},
   "outputs": [],
   "source": []
  }
 ],
 "metadata": {
  "kernelspec": {
   "display_name": "Python 3 (ipykernel)",
   "language": "python",
   "name": "python3"
  },
  "language_info": {
   "codemirror_mode": {
    "name": "ipython",
    "version": 3
   },
   "file_extension": ".py",
   "mimetype": "text/x-python",
   "name": "python",
   "nbconvert_exporter": "python",
   "pygments_lexer": "ipython3",
   "version": "3.9.7"
  }
 },
 "nbformat": 4,
 "nbformat_minor": 5
}
