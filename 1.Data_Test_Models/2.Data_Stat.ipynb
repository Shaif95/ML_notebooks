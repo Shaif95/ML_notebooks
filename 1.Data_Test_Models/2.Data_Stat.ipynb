{
 "cells": [
  {
   "cell_type": "code",
   "execution_count": 2,
   "id": "85746246",
   "metadata": {},
   "outputs": [],
   "source": [
    "import numpy as np # linear algebra\n",
    "import pandas as pd # data processing, CSV file I/O (e.g. pd.read_csv)\n",
    "import os\n",
    "from sklearn.model_selection import train_test_split\n",
    "import json\n",
    "import glob\n",
    "import random\n",
    "import collections\n",
    "from glob import glob\n",
    "import numpy as np\n",
    "import pandas as pd\n",
    "import cv2\n",
    "import matplotlib.pyplot as plt\n",
    "import numpy as np\n",
    "import pandas as pd\n",
    "from sklearn.utils import shuffle\n",
    "\n",
    "from skimage.io import imread\n",
    "from skimage.transform import resize\n",
    "from keras import layers\n",
    "from keras import models\n",
    "import keras\n",
    "from keras.layers import LeakyReLU\n",
    "from keras.models import Sequential, Model, load_model\n",
    "from keras.layers import Input, Conv1D, Conv2D, MaxPooling1D, MaxPooling2D, Dense, Dropout, Activation, Flatten\n",
    "import tensorflow as tf\n",
    "from tensorflow import keras\n",
    "from tensorflow.keras import layers\n",
    "\n",
    "import seaborn as sns\n",
    "import shutil\n",
    "import keras\n",
    "from PIL import Image"
   ]
  },
  {
   "cell_type": "code",
   "execution_count": null,
   "id": "93a63b90",
   "metadata": {},
   "outputs": [],
   "source": [
    "D:\\invasive-aquatic-species-data\\"
   ]
  },
  {
   "cell_type": "code",
   "execution_count": 16,
   "id": "2ec8141e",
   "metadata": {},
   "outputs": [],
   "source": [
    "from glob import glob\n",
    "import cv2\n",
    "from PIL import Image, ImageStat\n",
    "import math\n",
    "trn1='D:/invasive-aquatic-species-data/NewData/Baylor 2022-03-21/Baylor 2022-03-21/Davis Dam 2019-07-24/Manually Reviewed/Veligers/*/'\n",
    "trn2='D:/invasive-aquatic-species-data/NewData/Baylor 2022-03-21/Baylor 2022-03-21/Davis Dam 2019-07-24/Manually Reviewed/NonVeligers/*/'\n",
    "tr1= glob(trn1)\n",
    "tr2= glob(trn2)"
   ]
  },
  {
   "cell_type": "code",
   "execution_count": 6,
   "id": "1094ca31",
   "metadata": {},
   "outputs": [],
   "source": [
    "from glob import glob\n",
    "import cv2\n",
    "from PIL import Image, ImageStat\n",
    "import math\n",
    "trn1='D:/invasive-aquatic-species-data/invasive/*/'\n",
    "trn2='D:/invasive-aquatic-species-data/noninvasive/*/'\n",
    "tr1= glob(trn1)\n",
    "tr2= glob(trn2)"
   ]
  },
  {
   "cell_type": "code",
   "execution_count": 4,
   "id": "78db5c4a",
   "metadata": {},
   "outputs": [
    {
     "data": {
      "text/plain": [
       "30.057494996997093"
      ]
     },
     "execution_count": 4,
     "metadata": {},
     "output_type": "execute_result"
    }
   ],
   "source": [
    "\n",
    "imgs = glob(tr1[0]+'/*')\n",
    "im = Image.open(imgs[1])\n",
    "stat = ImageStat.Stat(im)\n",
    "r,g,b = stat.rms\n",
    "x = math.sqrt(0.241*(r**2) + 0.691*(g**2) + 0.068*(b**2))\n",
    "x          "
   ]
  },
  {
   "cell_type": "code",
   "execution_count": 5,
   "id": "9415436e",
   "metadata": {},
   "outputs": [
    {
     "name": "stdout",
     "output_type": "stream",
     "text": [
      "[30.6978022  24.64285714 22.12087912]\n"
     ]
    }
   ],
   "source": [
    "imgs = glob(tr1[0]+'/*')\n",
    "myimg = cv2.imread(imgs[1])\n",
    "avg_color_per_row = np.average(myimg, axis=0)\n",
    "avg_color = np.average(avg_color_per_row, axis=0)\n",
    "print(avg_color)"
   ]
  },
  {
   "cell_type": "code",
   "execution_count": 19,
   "id": "ee12bdd9",
   "metadata": {},
   "outputs": [],
   "source": [
    "from glob import glob\n",
    "import cv2\n",
    "trn1='D:/invasive-aquatic-species-data/test_data/Davis Dam Preserved Sample 2020-07-24/2022-01-29_6th_Vel_3b_No_NR/Veligers/*/'\n",
    "trn2='D:/invasive-aquatic-species-data/test_data/Davis Dam Preserved Sample 2020-07-24/2022-01-29_6th_Vel_3b_No_NR/Non-Veligers/*/'\n",
    "tr1= glob(trn1)\n",
    "tr2= glob(trn2)"
   ]
  },
  {
   "cell_type": "code",
   "execution_count": null,
   "id": "588d962a",
   "metadata": {},
   "outputs": [],
   "source": []
  },
  {
   "cell_type": "code",
   "execution_count": null,
   "id": "4759e49f",
   "metadata": {},
   "outputs": [],
   "source": []
  },
  {
   "cell_type": "code",
   "execution_count": 33,
   "id": "8c9ef598",
   "metadata": {},
   "outputs": [],
   "source": [
    "from glob import glob\n",
    "import cv2\n",
    "trn1='D:/invasive-aquatic-species-data/test_data/Davis Dam Preserved Sample 2020-07-24/2022-01-29_6th_Vel_2c_No_NR/Veligers/*/'\n",
    "trn2='D:/invasive-aquatic-species-data/test_data/Davis Dam Preserved Sample 2020-07-24/2022-01-29_6th_Vel_2c_No_NR/Non-Veligers/*/'\n",
    "tr1= glob(trn1)\n",
    "tr2= glob(trn2)"
   ]
  },
  {
   "cell_type": "code",
   "execution_count": 8,
   "id": "d510759a",
   "metadata": {},
   "outputs": [],
   "source": [
    "from glob import glob\n",
    "import cv2\n",
    "trn1='D:/invasive-aquatic-species-data/test_data/To Baylor 2022-02-04/To Baylor 2022-02-04/Davis Dam Preserved Sample 2020-07-24/2022-01-29_6th_Vel_1f_No_NR/Veligers/*/'\n",
    "trn2='D:/invasive-aquatic-species-data/test_data/To Baylor 2022-02-04/To Baylor 2022-02-04/Davis Dam Preserved Sample 2020-07-24/2022-01-29_6th_Vel_1f_No_NR/Non-Veligers/*/'\n",
    "tr1= glob(trn1)\n",
    "tr2= glob(trn2)"
   ]
  },
  {
   "cell_type": "code",
   "execution_count": 17,
   "id": "c5d905f6",
   "metadata": {},
   "outputs": [
    {
     "name": "stdout",
     "output_type": "stream",
     "text": [
      "129 458\n"
     ]
    }
   ],
   "source": [
    "print(len(tr1),len(tr2))"
   ]
  },
  {
   "cell_type": "code",
   "execution_count": 18,
   "id": "ba113b4a",
   "metadata": {},
   "outputs": [
    {
     "name": "stdout",
     "output_type": "stream",
     "text": [
      "2.8734211233539373 7442 21384\n"
     ]
    }
   ],
   "source": [
    "def count(tr1,tr2):\n",
    "    \n",
    "    inv_c = 0\n",
    "    for i in tr1:\n",
    "        for j in glob(i+'/*'):\n",
    "            inv_c = inv_c + 1\n",
    "\n",
    "    ninv_c = 0\n",
    "    for i in tr2:\n",
    "        for j in glob(i+'/*'):\n",
    "            ninv_c = ninv_c + 1\n",
    "            \n",
    "    return inv_c, ninv_c\n",
    "        \n",
    "inv, n_inv = count(tr1,tr2)\n",
    "\n",
    "x = n_inv/inv\n",
    "\n",
    "print(x,inv,n_inv)"
   ]
  },
  {
   "cell_type": "code",
   "execution_count": 19,
   "id": "3a6c61a2",
   "metadata": {},
   "outputs": [
    {
     "name": "stdout",
     "output_type": "stream",
     "text": [
      "49.10732538330494\n"
     ]
    }
   ],
   "source": [
    "def avg(tr1,tr2):\n",
    "    \n",
    "\n",
    "    f = 0\n",
    "    for i in range(0,len(tr1)):\n",
    "        f = f + len(glob(tr1[i]+'/*'))\n",
    "    \n",
    "    for i in range(0,len(tr2)):\n",
    "        f = f + len(glob(tr2[i]+'/*'))\n",
    "    \n",
    "    a = f/ (len(tr1) + len(tr2))\n",
    "    return a\n",
    "\n",
    "a = avg(tr1,tr2)\n",
    "\n",
    "print(a)"
   ]
  },
  {
   "cell_type": "code",
   "execution_count": null,
   "id": "0198b610",
   "metadata": {},
   "outputs": [],
   "source": [
    "[ 197.53434769  217.88439451  209.63799938]"
   ]
  },
  {
   "cell_type": "code",
   "execution_count": 20,
   "id": "155e1510",
   "metadata": {},
   "outputs": [
    {
     "name": "stdout",
     "output_type": "stream",
     "text": [
      "\n",
      "\n",
      "\n",
      "13.200999098036494 13.75553319919517 3.0\n"
     ]
    }
   ],
   "source": [
    "def size(tr1,tr2):\n",
    "    \n",
    "\n",
    "    f = 0\n",
    "    a = 0\n",
    "    b = 0\n",
    "    c = 0\n",
    "    area = 0\n",
    "    w = 0\n",
    "    v = 0\n",
    "    m = 0\n",
    "    for i in range(0,len(tr1)):\n",
    "        #f = f + len(glob(tr1[i]+'/*'))\n",
    "        x = glob(tr1[i]+'/*')\n",
    "        \n",
    "        for j in x:\n",
    "            f=f+1\n",
    "            w = w+ 1\n",
    "            im = Image.open(j)\n",
    "            \n",
    "            w,v,m = np.shape(im)\n",
    "            \n",
    "            a = a+w\n",
    "            b = b+v\n",
    "            c = c+m\n",
    "            \n",
    "    \n",
    "    for i in range(0,len(tr2)):\n",
    "        #f = f + len(glob(tr2[i]+'/*'))\n",
    "        x = glob(tr2[i]+'/*')\n",
    "        \n",
    "        for j in x:\n",
    "            f=f+1\n",
    "            v = v + 1\n",
    "            im = Image.open(j)\n",
    "            \n",
    "            w,v,m = np.shape(im)\n",
    "            \n",
    "            a = a+w\n",
    "            b = b+v\n",
    "            c = c+m\n",
    "    \n",
    "    a = a/f\n",
    "    b = b/f\n",
    "    c = c/f\n",
    "    \n",
    "    return a,b,c\n",
    "\n",
    "a,b,c= size(tr1,tr2)\n",
    "\n",
    "print(\"\\n\\n\")\n",
    "\n",
    "print(a,b,c)"
   ]
  },
  {
   "cell_type": "code",
   "execution_count": null,
   "id": "70acc645",
   "metadata": {},
   "outputs": [],
   "source": []
  },
  {
   "cell_type": "code",
   "execution_count": 21,
   "id": "93d7210c",
   "metadata": {},
   "outputs": [
    {
     "name": "stdout",
     "output_type": "stream",
     "text": [
      "\n",
      "\n",
      "\n",
      "87.78629303942925 108.1830684598081 80.68786418241153\n"
     ]
    }
   ],
   "source": [
    "def color(tr1,tr2):\n",
    "    \n",
    "\n",
    "    f = 0\n",
    "    a = 0\n",
    "    b = 0\n",
    "    c = 0\n",
    "    area = 0\n",
    "    w = 0\n",
    "    v = 0\n",
    "    m = 0\n",
    "    for i in range(0,len(tr1)):\n",
    "        #f = f + len(glob(tr1[i]+'/*'))\n",
    "        x = glob(tr1[i]+'/*')\n",
    "        \n",
    "        for j in x:\n",
    "            f=f+1\n",
    "            w = w+ 1\n",
    "            im = Image.open(j)\n",
    "            \n",
    "            stat = ImageStat.Stat(im)\n",
    "            r,g,b = stat.rms\n",
    "            x = math.sqrt(0.299*(r**2) + 0.587*(g**2) + 0.114*(b**2))\n",
    "            \n",
    "            a = a + x\n",
    "            \n",
    "            m = m + x\n",
    "            \n",
    "    \n",
    "    for i in range(0,len(tr2)):\n",
    "        #f = f + len(glob(tr2[i]+'/*'))\n",
    "        x = glob(tr2[i]+'/*')\n",
    "        \n",
    "        for j in x:\n",
    "            f=f+1\n",
    "            v = v + 1\n",
    "            im = Image.open(j)\n",
    "            \n",
    "            stat = ImageStat.Stat(im)\n",
    "            r,g,b = stat.rms\n",
    "            x = math.sqrt(0.299*(r**2) + 0.587*(g**2) + 0.114*(b**2))\n",
    "            \n",
    "            a = a + x\n",
    "            c = c + x\n",
    "    \n",
    "    a = a/f\n",
    "    m = m/w\n",
    "    c = c/v\n",
    "    return a,m,c\n",
    "\n",
    "a,b,c= color(tr1,tr2)\n",
    "\n",
    "print(\"\\n\\n\")\n",
    "\n",
    "print(a,b,c)"
   ]
  },
  {
   "cell_type": "code",
   "execution_count": null,
   "id": "3691b37d",
   "metadata": {},
   "outputs": [],
   "source": []
  },
  {
   "cell_type": "code",
   "execution_count": 22,
   "id": "7aa5d871",
   "metadata": {},
   "outputs": [
    {
     "name": "stdout",
     "output_type": "stream",
     "text": [
      "\n",
      "\n",
      "\n",
      "68.13200549825386 85.30436928777817 62.15572737808771\n"
     ]
    }
   ],
   "source": [
    "def color_grey(tr1,tr2):\n",
    "    \n",
    "\n",
    "    f = 0\n",
    "    a = 0\n",
    "    b = 0\n",
    "    c = 0\n",
    "    area = 0\n",
    "    w = 0\n",
    "    v = 0\n",
    "    for i in range(0,len(tr1)):\n",
    "        #f = f + len(glob(tr1[i]+'/*'))\n",
    "        x = glob(tr1[i]+'/*')\n",
    "        \n",
    "        for j in x:\n",
    "            w = w + 1\n",
    "            f=f+1\n",
    "            im = Image.open(j).convert('L')\n",
    "            stat = ImageStat.Stat(im)\n",
    "            x = stat.mean[0]\n",
    "            \n",
    "            a = a + x\n",
    "            \n",
    "            b = b + x\n",
    "            \n",
    "    \n",
    "    for i in range(0,len(tr2)):\n",
    "        #f = f + len(glob(tr2[i]+'/*'))\n",
    "        x = glob(tr2[i]+'/*')\n",
    "        \n",
    "        for j in x:\n",
    "            v = v + 1\n",
    "            f=f+1\n",
    "            im = Image.open(j).convert('L')\n",
    "            stat = ImageStat.Stat(im)\n",
    "            x = stat.mean[0]\n",
    "            \n",
    "            a = a + x\n",
    "            c = c + x\n",
    "    \n",
    "    a = a/f\n",
    "    b = b/w\n",
    "    c = c/v\n",
    "    return a,b,c\n",
    "\n",
    "a,b,c= color_grey(tr1,tr2)\n",
    "\n",
    "print(\"\\n\\n\")\n",
    "\n",
    "print(a,b,c)"
   ]
  },
  {
   "cell_type": "code",
   "execution_count": null,
   "id": "b45eefd6",
   "metadata": {},
   "outputs": [],
   "source": []
  },
  {
   "cell_type": "code",
   "execution_count": null,
   "id": "a92bda00",
   "metadata": {},
   "outputs": [],
   "source": []
  },
  {
   "cell_type": "code",
   "execution_count": 38,
   "id": "b3046136",
   "metadata": {},
   "outputs": [],
   "source": []
  },
  {
   "cell_type": "code",
   "execution_count": null,
   "id": "36a7ca61",
   "metadata": {},
   "outputs": [],
   "source": []
  },
  {
   "cell_type": "code",
   "execution_count": null,
   "id": "315e9121",
   "metadata": {},
   "outputs": [],
   "source": []
  },
  {
   "cell_type": "code",
   "execution_count": null,
   "id": "db654b01",
   "metadata": {},
   "outputs": [],
   "source": []
  },
  {
   "cell_type": "code",
   "execution_count": null,
   "id": "b7b349a1",
   "metadata": {},
   "outputs": [],
   "source": []
  },
  {
   "cell_type": "code",
   "execution_count": null,
   "id": "3c0c7ddf",
   "metadata": {},
   "outputs": [],
   "source": []
  },
  {
   "cell_type": "code",
   "execution_count": null,
   "id": "aafa2561",
   "metadata": {},
   "outputs": [],
   "source": []
  }
 ],
 "metadata": {
  "kernelspec": {
   "display_name": "Python 3 (ipykernel)",
   "language": "python",
   "name": "python3"
  },
  "language_info": {
   "codemirror_mode": {
    "name": "ipython",
    "version": 3
   },
   "file_extension": ".py",
   "mimetype": "text/x-python",
   "name": "python",
   "nbconvert_exporter": "python",
   "pygments_lexer": "ipython3",
   "version": "3.9.7"
  }
 },
 "nbformat": 4,
 "nbformat_minor": 5
}
