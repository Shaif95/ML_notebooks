{
 "cells": [
  {
   "cell_type": "code",
   "execution_count": 34,
   "id": "582aee31",
   "metadata": {},
   "outputs": [],
   "source": [
    "import numpy as np # linear algebra\n",
    "import pandas as pd # data processing, CSV file I/O (e.g. pd.read_csv)\n",
    "import os\n",
    "from sklearn.model_selection import train_test_split\n",
    "import json\n",
    "import glob\n",
    "import random\n",
    "import collections\n",
    "from glob import glob\n",
    "import numpy as np\n",
    "import pandas as pd\n",
    "#import cv2\n",
    "import matplotlib.pyplot as plt\n",
    "import shutil\n",
    "import keras\n",
    "import numpy as np # linear algebra\n",
    "import pandas as pd # data processing, CSV file I/O (e.g. pd.read_csv)\n",
    "import os\n",
    "from sklearn.model_selection import train_test_split\n",
    "import json\n",
    "import glob\n",
    "import random\n",
    "import collections\n",
    "from glob import glob\n",
    "import numpy as np\n",
    "import pandas as pd\n",
    "#import cv2\n",
    "import matplotlib.pyplot as plt\n",
    "import numpy as np\n",
    "import pandas as pd\n",
    "from sklearn.utils import shuffle\n",
    "\n",
    "from keras import layers\n",
    "from keras import models\n",
    "import keras\n",
    "from keras.layers import LeakyReLU\n",
    "from keras.models import Sequential, Model, load_model\n",
    "from keras.layers import Input, Conv1D, Conv2D, MaxPooling1D, MaxPooling2D, Dense, Dropout, Activation, Flatten\n",
    "import tensorflow as tf\n",
    "from tensorflow import keras\n",
    "from tensorflow.keras import layers\n",
    "\n",
    "import shutil\n",
    "import keras\n",
    "from PIL import Image\n",
    "#import cv2\n",
    "import numpy as np\n",
    "import matplotlib.pyplot as plt\n",
    "%matplotlib inline\n",
    "import pandas as pd\n",
    "import keras\n",
    "import json\n",
    "import tensorflow as tf \n",
    "from keras.layers import Input\n",
    "from keras import Sequential\n",
    "from keras.layers import Dense, LSTM,Flatten, TimeDistributed, Conv2D, Dropout\n",
    "from keras.applications.inception_v3 import InceptionV3\n",
    "from keras.applications.vgg16 import VGG16\n",
    "import tensorflow_datasets as tfds\n",
    "import tensorflow as tf\n",
    "from tensorflow import keras\n",
    "from tensorflow.keras import layers\n",
    "import matplotlib.pyplot as plt\n",
    "import re\n",
    "import string\n",
    "\n",
    "from keras.models import load_model\n",
    "from keras.callbacks import Callback,ModelCheckpoint\n",
    "from keras.models import Sequential,load_model\n",
    "from keras.layers import Dense, Dropout\n",
    "from keras.wrappers.scikit_learn import KerasClassifier\n",
    "import keras.backend as K\n",
    "import numpy as np\n",
    "import pandas as pd\n",
    "\n",
    "from keras import layers\n",
    "from keras import models\n",
    "import keras\n",
    "from keras.layers import LeakyReLU\n",
    "from keras.models import Sequential, Model, load_model\n",
    "from keras.layers import Input, Conv1D,Reshape, Conv2D, MaxPooling1D, MaxPooling2D, Dense, Dropout, Activation, Flatten, UpSampling2D\n",
    "import tensorflow as tf\n",
    "from tensorflow import keras\n",
    "from tensorflow.keras import layers\n",
    "\n",
    "import numpy as np\n",
    "import pandas as pd\n",
    "\n",
    "from keras import layers\n",
    "from keras import models\n",
    "import keras\n",
    "from keras.layers import LeakyReLU\n",
    "from keras.models import Sequential, Model, load_model\n",
    "from keras.layers import Input, Conv1D, Conv2D, MaxPooling1D, MaxPooling2D, Dense, Dropout, Activation, Flatten\n",
    "import tensorflow as tf\n",
    "from tensorflow import keras\n",
    "from tensorflow.keras import layers\n",
    "\n",
    "from keras.callbacks import Callback,ModelCheckpoint\n",
    "from keras.models import Sequential,load_model\n",
    "from keras.layers import Dense, Dropout\n",
    "from keras.wrappers.scikit_learn import KerasClassifier\n",
    "import keras.backend as K\n",
    "\n",
    "def get_f1(y_true, y_pred): #taken from old keras source code\n",
    "    tp = K.sum(K.round(K.clip(y_true * y_pred, 0, 1)))\n",
    "    \n",
    "    tn = K.sum(K.round(K.clip((1-y_true) * (1-y_pred), 0, 1)))\n",
    "    fp = K.sum(K.round(K.clip((1-y_true) * (y_pred), 0, 1)))\n",
    "    fn = K.sum(K.round(K.clip((y_true) * (1-y_pred), 0, 1)))\n",
    "    \n",
    "\n",
    "    f1_val = tp / ( tp + ( (1/2) * (fp+fn) ) + K.epsilon())\n",
    "    return f1_val\n",
    "from PIL import Image"
   ]
  },
  {
   "cell_type": "code",
   "execution_count": 35,
   "id": "f19a9fec",
   "metadata": {},
   "outputs": [],
   "source": [
    "from glob import glob\n",
    "trn1='E:/zois-data/jpg/train/*/'\n",
    "trn2='E:/zois-data/jpg/test/*/'\n",
    "\n",
    "tr1= glob(trn1)\n",
    "tr2= glob(trn2)"
   ]
  },
  {
   "cell_type": "code",
   "execution_count": 9,
   "id": "e9ef0bf9",
   "metadata": {},
   "outputs": [
    {
     "name": "stdout",
     "output_type": "stream",
     "text": [
      "Num GPUs Available:  1\n"
     ]
    }
   ],
   "source": [
    "import tensorflow as tf\n",
    "print(\"Num GPUs Available: \", len(tf.config.list_physical_devices('GPU')))\n"
   ]
  },
  {
   "cell_type": "code",
   "execution_count": 8,
   "id": "b5e82a2b",
   "metadata": {},
   "outputs": [],
   "source": []
  },
  {
   "cell_type": "code",
   "execution_count": 74,
   "id": "140366cc",
   "metadata": {},
   "outputs": [
    {
     "name": "stderr",
     "output_type": "stream",
     "text": [
      "C:\\Users\\chowd\\AppData\\Local\\Temp\\ipykernel_17848\\1208724356.py:1: DeprecationWarning: Please use `convolve` from the `scipy.ndimage` namespace, the `scipy.ndimage.filters` namespace is deprecated.\n",
      "  from scipy.ndimage.filters import convolve\n"
     ]
    }
   ],
   "source": [
    "from scipy.ndimage.filters import convolve\n",
    "\n",
    "data = []\n",
    "label = []\n",
    "limit = []\n",
    "l = 0\n",
    "\n",
    "for i in tr1:\n",
    "    s = 0\n",
    "    y = glob(i+'/*')\n",
    "    for j in range(0,len(y)):\n",
    "        \n",
    "        if(y[j][-4:] == 'data'):\n",
    "            continue\n",
    "            \n",
    "        data.append(y[j])\n",
    "        label.append(l)\n",
    "        s = s + 1\n",
    "        \n",
    "    limit.append(s)\n",
    "    l=l+1\n",
    "\n",
    "#kk = []\n",
    "l=0\n",
    "s=0\n",
    "te_label = []\n",
    "te_data = []\n",
    "\n",
    "for i in tr2:\n",
    "    s = 0\n",
    "    y = glob(i+'/*')\n",
    "    for j in range(0,len(y)):\n",
    "        \n",
    "        if(y[j][-4:] == 'data'):\n",
    "            continue\n",
    "            \n",
    "        te_data.append(y[j])\n",
    "        te_label.append(l)\n",
    "        s = s + 1\n",
    "        \n",
    "        if(s>limit[l]-1):\n",
    "            break\n",
    "    l=l+1\n",
    "    #kk.append(s)\n",
    "    \n",
    "imgdata=[]\n",
    "for i in range(len(data)):\n",
    "    a = Image.open(data[i]).convert('L')\n",
    "    b = a.resize((64, 64))\n",
    "    c = np.array(b)\n",
    "    kernel = np.ones((3, 3)) / 9\n",
    "    filtered_img_arr = convolve(c, kernel)\n",
    "    c = Image.fromarray(filtered_img_arr.astype(np.uint8))\n",
    "    c = np.array(c)\n",
    "    imgdata.append(c.reshape(64,64,1))\n",
    "    \n",
    "te_imgdata=[]\n",
    "for i in range(len(te_data)):\n",
    "    a = Image.open(te_data[i]).convert('L')\n",
    "    b = a.resize((64, 64))\n",
    "    c = np.array(b)\n",
    "    kernel = np.ones((3, 3)) / 9\n",
    "    filtered_img_arr = convolve(c, kernel)\n",
    "    c = Image.fromarray(filtered_img_arr.astype(np.uint8))\n",
    "    c = np.array(c)\n",
    "    te_imgdata.append(c.reshape(64,64,1))    "
   ]
  },
  {
   "cell_type": "code",
   "execution_count": 75,
   "id": "128ca859",
   "metadata": {},
   "outputs": [],
   "source": [
    "from tensorflow.keras.utils import to_categorical\n",
    "idata = np.array(imgdata)\n",
    "X_train = idata\n",
    "X_train = X_train.astype('float32') / 255.\n",
    "X_train = np.reshape(X_train, (len(X_train),64,64,1))\n",
    "# One hot vector representation of labels\n",
    "Y_train = to_categorical(label)\n",
    "\n",
    "X_train,Y_train = shuffle(X_train,Y_train)\n",
    "\n",
    "idata = np.array(te_imgdata)\n",
    "X_test = idata\n",
    "X_test = X_test.astype('float32') / 255.\n",
    "X_test = np.reshape(X_test, (len(X_test),64,64,1))\n",
    "# One hot vector representation of labels\n",
    "Y_test = to_categorical(te_label)\n",
    "\n",
    "X_test,Y_test = shuffle(X_test,Y_test)"
   ]
  },
  {
   "cell_type": "code",
   "execution_count": null,
   "id": "742e349a",
   "metadata": {},
   "outputs": [],
   "source": []
  },
  {
   "cell_type": "code",
   "execution_count": 56,
   "id": "c224cdbf",
   "metadata": {},
   "outputs": [
    {
     "name": "stdout",
     "output_type": "stream",
     "text": [
      "Model: \"sequential_8\"\n",
      "_________________________________________________________________\n",
      " Layer (type)                Output Shape              Param #   \n",
      "=================================================================\n",
      " conv2d_12 (Conv2D)          (None, 62, 62, 16)        160       \n",
      "                                                                 \n",
      " conv2d_13 (Conv2D)          (None, 60, 60, 16)        2320      \n",
      "                                                                 \n",
      " max_pooling2d_6 (MaxPooling  (None, 30, 30, 16)       0         \n",
      " 2D)                                                             \n",
      "                                                                 \n",
      " conv2d_14 (Conv2D)          (None, 28, 28, 32)        4640      \n",
      "                                                                 \n",
      " conv2d_15 (Conv2D)          (None, 26, 26, 32)        9248      \n",
      "                                                                 \n",
      " max_pooling2d_7 (MaxPooling  (None, 13, 13, 32)       0         \n",
      " 2D)                                                             \n",
      "                                                                 \n",
      " flatten_8 (Flatten)         (None, 5408)              0         \n",
      "                                                                 \n",
      " dense_15 (Dense)            (None, 2)                 10818     \n",
      "                                                                 \n",
      " dense_16 (Dense)            (None, 7)                 21        \n",
      "                                                                 \n",
      "=================================================================\n",
      "Total params: 27,207\n",
      "Trainable params: 27,207\n",
      "Non-trainable params: 0\n",
      "_________________________________________________________________\n"
     ]
    }
   ],
   "source": [
    "\n",
    "model = models.Sequential()\n",
    "model.add(layers.Conv2D(16, (3, 3), input_shape=(64, 64,1)))\n",
    "model.add(layers.Conv2D(16, (3, 3), activation=\"relu\"))\n",
    "model.add(layers.MaxPooling2D((2, 2)))\n",
    "model.add(layers.Conv2D(32, (3, 3),))\n",
    "model.add(layers.Conv2D(32, (3, 3),))\n",
    "model.add(layers.MaxPooling2D((2, 2)))\n",
    "model.add(layers.Flatten()) \n",
    "model.add(layers.Dense(2))\n",
    "model.add(layers.Dense(7,activation=\"softmax\"))\n",
    "model.summary()"
   ]
  },
  {
   "cell_type": "code",
   "execution_count": 13,
   "id": "c07bc048",
   "metadata": {},
   "outputs": [
    {
     "name": "stdout",
     "output_type": "stream",
     "text": [
      "Epoch 1/20\n",
      "55/55 [==============================] - 2s 17ms/step - loss: 1.6765 - accuracy: 0.3375 - val_loss: 1.4744 - val_accuracy: 0.4498\n",
      "Epoch 2/20\n",
      "55/55 [==============================] - 1s 13ms/step - loss: 1.4192 - accuracy: 0.4615 - val_loss: 1.3267 - val_accuracy: 0.5087\n",
      "Epoch 3/20\n",
      "55/55 [==============================] - 1s 12ms/step - loss: 1.2749 - accuracy: 0.5218 - val_loss: 1.2241 - val_accuracy: 0.5248\n",
      "Epoch 4/20\n",
      "55/55 [==============================] - 1s 13ms/step - loss: 1.1585 - accuracy: 0.5637 - val_loss: 1.1135 - val_accuracy: 0.5837\n",
      "Epoch 5/20\n",
      "55/55 [==============================] - 1s 13ms/step - loss: 1.0394 - accuracy: 0.5907 - val_loss: 1.0181 - val_accuracy: 0.6051\n",
      "Epoch 6/20\n",
      "55/55 [==============================] - 1s 13ms/step - loss: 0.9228 - accuracy: 0.6125 - val_loss: 0.9672 - val_accuracy: 0.5823\n",
      "Epoch 7/20\n",
      "55/55 [==============================] - 1s 13ms/step - loss: 0.8147 - accuracy: 0.6630 - val_loss: 0.8821 - val_accuracy: 0.6386\n",
      "Epoch 8/20\n",
      "55/55 [==============================] - 1s 13ms/step - loss: 0.7750 - accuracy: 0.7072 - val_loss: 0.8493 - val_accuracy: 0.7082\n",
      "Epoch 9/20\n",
      "55/55 [==============================] - 1s 13ms/step - loss: 0.7279 - accuracy: 0.7302 - val_loss: 0.8486 - val_accuracy: 0.7068\n",
      "Epoch 10/20\n",
      "55/55 [==============================] - 1s 13ms/step - loss: 0.6939 - accuracy: 0.7331 - val_loss: 0.7869 - val_accuracy: 0.7363\n",
      "Epoch 11/20\n",
      "55/55 [==============================] - 1s 12ms/step - loss: 0.6553 - accuracy: 0.7635 - val_loss: 0.8359 - val_accuracy: 0.7082\n",
      "Epoch 12/20\n",
      "55/55 [==============================] - 1s 13ms/step - loss: 0.5998 - accuracy: 0.7865 - val_loss: 0.8562 - val_accuracy: 0.6827\n",
      "Epoch 13/20\n",
      "55/55 [==============================] - 1s 13ms/step - loss: 0.5588 - accuracy: 0.7951 - val_loss: 0.7947 - val_accuracy: 0.7390\n",
      "Epoch 14/20\n",
      "55/55 [==============================] - 1s 13ms/step - loss: 0.5419 - accuracy: 0.8100 - val_loss: 0.7891 - val_accuracy: 0.7550\n",
      "Epoch 15/20\n",
      "55/55 [==============================] - 1s 12ms/step - loss: 0.4882 - accuracy: 0.8330 - val_loss: 0.7937 - val_accuracy: 0.7537\n",
      "Epoch 16/20\n",
      "55/55 [==============================] - 1s 13ms/step - loss: 0.4748 - accuracy: 0.8295 - val_loss: 0.7915 - val_accuracy: 0.7818\n",
      "Epoch 17/20\n",
      "55/55 [==============================] - 1s 13ms/step - loss: 0.4177 - accuracy: 0.8542 - val_loss: 0.8539 - val_accuracy: 0.7323\n",
      "Epoch 18/20\n",
      "55/55 [==============================] - 1s 14ms/step - loss: 0.4174 - accuracy: 0.8513 - val_loss: 0.8417 - val_accuracy: 0.7564\n",
      "Epoch 19/20\n",
      "55/55 [==============================] - 1s 13ms/step - loss: 0.3764 - accuracy: 0.8766 - val_loss: 0.7704 - val_accuracy: 0.7738\n",
      "Epoch 20/20\n",
      "55/55 [==============================] - 1s 13ms/step - loss: 0.3435 - accuracy: 0.8869 - val_loss: 0.8402 - val_accuracy: 0.7697\n"
     ]
    },
    {
     "data": {
      "text/plain": [
       "<keras.callbacks.History at 0x197a4928ee0>"
      ]
     },
     "execution_count": 13,
     "metadata": {},
     "output_type": "execute_result"
    }
   ],
   "source": [
    "\n",
    "model.compile(optimizer='Adam',loss='categorical_crossentropy',metrics=('accuracy'))\n",
    "\n",
    "model.fit(X_train, Y_train, epochs=20, batch_size=32, validation_split = .3, verbose = 1)"
   ]
  },
  {
   "cell_type": "code",
   "execution_count": null,
   "id": "c8e8a484",
   "metadata": {},
   "outputs": [],
   "source": []
  },
  {
   "cell_type": "code",
   "execution_count": 14,
   "id": "10887b85",
   "metadata": {},
   "outputs": [
    {
     "name": "stdout",
     "output_type": "stream",
     "text": [
      "72/72 [==============================] - 0s 6ms/step - loss: 3.8498 - accuracy: 0.4229\n",
      "Test score: 3.8497636318206787\n",
      "Test accuracy: 0.42294222116470337\n"
     ]
    }
   ],
   "source": [
    "score, acc = model.evaluate(X_test, Y_test, batch_size=32)\n",
    "print('Test score:', score)\n",
    "print('Test accuracy:', acc)"
   ]
  },
  {
   "cell_type": "code",
   "execution_count": 77,
   "id": "b1b902a5",
   "metadata": {},
   "outputs": [],
   "source": [
    "import os\n",
    "import keras\n",
    "import numpy as np\n",
    "os.environ[\"CUDA_VISIBLE_DEVICES\"] = \"2\"\n",
    "\n",
    "from keras.applications.vgg16 import VGG16\n",
    "from keras.models import load_model, Model\n",
    "from keras.layers import Input, Conv2D, MaxPooling2D\n",
    "\n",
    "model = VGG16(weights='imagenet', include_top=False)"
   ]
  },
  {
   "cell_type": "code",
   "execution_count": 78,
   "id": "5b4cba0c",
   "metadata": {},
   "outputs": [],
   "source": [
    "model = VGG16(weights='imagenet', include_top=False)\n",
    "\n",
    "# Block1_conv1 weights are of the format [3, 3, 3, 64] -> this is for RGB images\n",
    "# For grayscale, format should be [3, 3, 1, 64]. Weighted average of the features has to be calculated across channels.\n",
    "# RGB weights: Red 0.2989, Green 0.5870, Blue 0.1140\n",
    "\n",
    "# getting weights of block1 conv1.\n",
    "block1_conv1 = model.get_layer('block1_conv1').get_weights()\n",
    "weights, biases = block1_conv1\n",
    "\n",
    "# :weights shape = [3, 3, 3, 64] - (0, 1, 2, 3)\n",
    "# convert :weights shape to = [64, 3, 3, 3] - (3, 2, 0, 1)\n",
    "weights = np.transpose(weights, (3, 2, 0, 1))\n",
    "\n",
    "\n",
    "kernel_out_channels, kernel_in_channels, kernel_rows, kernel_columns = weights.shape\n",
    "\n",
    "# Dimensions : [kernel_out_channels, 1 (since grayscale), kernel_rows, kernel_columns]\n",
    "grayscale_weights = np.zeros((kernel_out_channels, 1, kernel_rows, kernel_columns))"
   ]
  },
  {
   "cell_type": "code",
   "execution_count": 79,
   "id": "e1b48996",
   "metadata": {},
   "outputs": [],
   "source": [
    "# iterate out_channels number of times\n",
    "for i in range(kernel_out_channels):\n",
    "\n",
    "\t# get kernel for every out_channel\n",
    "\tget_kernel = weights[i, :, :, :]\n",
    "\n",
    "\ttemp_kernel = np.zeros((3, 3))\n",
    "\n",
    "\t# :get_kernel shape = [3, 3, 3]\n",
    "\t# axis, dims = (0, in_channel), (1, row), (2, col)\n",
    "\n",
    "\t# calculate weighted average across channel axis\n",
    "\tin_channels, in_rows, in_columns = get_kernel.shape\n",
    "\n",
    "\tfor in_row in range(in_rows):\n",
    "\t\tfor in_col in range(in_columns):\n",
    "\t\t\tfeature_red = get_kernel[0, in_row, in_col]\n",
    "\t\t\tfeature_green = get_kernel[1, in_row, in_col]\n",
    "\t\t\tfeature_blue = get_kernel[2, in_row, in_col]\n",
    "\n",
    "\t\t\t# weighted average for RGB filter\n",
    "\t\t\ttotal = (feature_red * 0.2989) + (feature_green * 0.5870) + (feature_blue * 0.1140)\n",
    "\n",
    "\t\t\ttemp_kernel[in_row, in_col] = total\n",
    "\n",
    "\n",
    "\t# :temp_kernel is a 3x3 matrix [rows x columns]\n",
    "\t# add an axis at the end to specify in_channel as 1\n",
    "\n",
    "\t# 2 ways of doing this,\n",
    "\n",
    "\t# First: Add axis directly at the end of :temp_kernel to make its shape: [3, 3, 1], but this might be \n",
    "\t# an issue when concatenating all feature maps\n",
    "\n",
    "\t# Second: Add axis at the start of :temp_kernel to make its shape: [1, 3, 3] which is [in_channel, rows, columns]\n",
    "\ttemp_kernel = np.expand_dims(temp_kernel, axis=0)\n",
    "\n",
    "\t# Now, :temp_kernel shape is [1, 3, 3]\n",
    "\n",
    "\t# Concat :temp_kernel to :grayscale_weights along axis=0\n",
    "\tgrayscale_weights[i, :, :, :] = temp_kernel\n",
    "\n",
    "# Dimension of :grayscale_weights is [64, 1, 3, 3]\n",
    "# In order to bring it to tensorflow or keras weight format, transpose :grayscale_weights\n",
    "\n",
    "# dimension, axis of :grayscale_weights = (out_channels: 0), (in_channels: 1), (rows: 2), (columns: 3)\n",
    "# tf format of weights = (rows: 0), (columns: 1), (in_channels: 2), (out_channels: 3)\n"
   ]
  },
  {
   "cell_type": "code",
   "execution_count": 80,
   "id": "36dbbe63",
   "metadata": {},
   "outputs": [
    {
     "name": "stdout",
     "output_type": "stream",
     "text": [
      "Model: \"model_6\"\n",
      "_________________________________________________________________\n",
      " Layer (type)                Output Shape              Param #   \n",
      "=================================================================\n",
      " 1024_input (InputLayer)     [(None, 64, 64, 1)]       0         \n",
      "                                                                 \n",
      " 1024_block1_conv1 (Conv2D)  (None, 64, 64, 64)        640       \n",
      "                                                                 \n",
      " 1024_block1_conv2 (Conv2D)  (None, 64, 64, 64)        36928     \n",
      "                                                                 \n",
      " 1024_block1_pool (MaxPoolin  (None, 32, 32, 64)       0         \n",
      " g2D)                                                            \n",
      "                                                                 \n",
      " 1024_block2_conv1 (Conv2D)  (None, 32, 32, 128)       73856     \n",
      "                                                                 \n",
      " 1024_block2_conv2 (Conv2D)  (None, 32, 32, 128)       147584    \n",
      "                                                                 \n",
      " 1024_block2_pool (MaxPoolin  (None, 16, 16, 128)      0         \n",
      " g2D)                                                            \n",
      "                                                                 \n",
      "=================================================================\n",
      "Total params: 259,008\n",
      "Trainable params: 259,008\n",
      "Non-trainable params: 0\n",
      "_________________________________________________________________\n"
     ]
    }
   ],
   "source": [
    "\n",
    "# Go from (0, 1, 2, 3) to (2, 3, 1, 0)\n",
    "grayscale_weights = np.transpose(grayscale_weights, (2, 3, 1, 0)) # (3, 3, 1, 64)\n",
    "\n",
    "# combine :grayscale_weights and :biases\n",
    "new_block1_conv1 = [grayscale_weights, biases]\n",
    "\n",
    "\n",
    "# Reconstruct the layers of VGG16 but replace block1_conv1 weights with :grayscale_weights\n",
    "\n",
    "# get weights of all the layers starting from 'block1_conv2'\n",
    "vgg16_weights = {}\n",
    "for layer in model.layers[2:]:\n",
    "\tif \"conv\" in layer.name:\n",
    "\t\tvgg16_weights[\"1024_\" + layer.name] = model.get_layer(layer.name).get_weights()\n",
    "\n",
    "del model\n",
    "\n",
    "\n",
    "# Custom build VGG16\n",
    "input = Input(shape=(64, 64, 1), name='1024_input')\n",
    "# Block 1\n",
    "x = Conv2D(64, (3, 3), activation='relu', padding='same', input_shape=(1024, 1024, 1), data_format=\"channels_last\", name='1024_block1_conv1')(input)\n",
    "x = Conv2D(64, (3, 3), activation='relu', padding='same', name='1024_block1_conv2')(x)\n",
    "x = MaxPooling2D((2, 2), strides=(2, 2), name='1024_block1_pool')(x)\n",
    "\n",
    "# Block 2\n",
    "x = Conv2D(128, (3, 3), activation='relu', padding='same', name='1024_block2_conv1')(x)\n",
    "x = Conv2D(128, (3, 3), activation='relu', padding='same', name='1024_block2_conv2')(x)\n",
    "x = MaxPooling2D((2, 2), strides=(2, 2), name='1024_block2_pool')(x)\n",
    "\n",
    "\n",
    "\n",
    "base_model = Model(inputs=input, outputs=x)\n",
    "\n",
    "base_model.get_layer('1024_block1_conv1').set_weights(new_block1_conv1)\n",
    "for layer in base_model.layers[2:]:\n",
    "\tif 'conv' in layer.name:\n",
    "\t\tbase_model.get_layer(layer.name).set_weights(vgg16_weights[layer.name])\n",
    "\n",
    "base_model.summary()"
   ]
  },
  {
   "cell_type": "code",
   "execution_count": 82,
   "id": "7ed820c1",
   "metadata": {},
   "outputs": [
    {
     "name": "stdout",
     "output_type": "stream",
     "text": [
      "Model: \"sequential_11\"\n",
      "_________________________________________________________________\n",
      " Layer (type)                Output Shape              Param #   \n",
      "=================================================================\n",
      " model_6 (Functional)        (None, 16, 16, 128)       259008    \n",
      "                                                                 \n",
      " flatten_11 (Flatten)        (None, 32768)             0         \n",
      "                                                                 \n",
      " dense_21 (Dense)            (None, 512)               16777728  \n",
      "                                                                 \n",
      " dense_22 (Dense)            (None, 7)                 3591      \n",
      "                                                                 \n",
      "=================================================================\n",
      "Total params: 17,040,327\n",
      "Trainable params: 16,781,319\n",
      "Non-trainable params: 259,008\n",
      "_________________________________________________________________\n"
     ]
    }
   ],
   "source": [
    "from tensorflow.keras.applications.vgg16 import VGG16\n",
    "from tensorflow.keras.models import Sequential\n",
    "from tensorflow.keras.layers import Dense, Flatten\n",
    "from tensorflow.keras.preprocessing.image import ImageDataGenerator\n",
    "\n",
    "    \n",
    "model = Sequential()\n",
    "model.add(base_model)\n",
    "model.add(Flatten())\n",
    "model.add(Dense(512, activation='relu'))\n",
    "model.add(Dense(7, activation='softmax'))\n",
    "model.summary()"
   ]
  },
  {
   "cell_type": "code",
   "execution_count": null,
   "id": "1c10ae9b",
   "metadata": {},
   "outputs": [],
   "source": []
  },
  {
   "cell_type": "code",
   "execution_count": 83,
   "id": "b899e642",
   "metadata": {
    "scrolled": true
   },
   "outputs": [
    {
     "name": "stdout",
     "output_type": "stream",
     "text": [
      "Epoch 1/15\n",
      "70/70 [==============================] - 2s 22ms/step - loss: 66.2850 - accuracy: 0.6491 - val_loss: 25.9362 - val_accuracy: 0.5703\n",
      "Epoch 2/15\n",
      "70/70 [==============================] - 1s 20ms/step - loss: 9.5347 - accuracy: 0.7692 - val_loss: 10.5012 - val_accuracy: 0.7510\n",
      "Epoch 3/15\n",
      "70/70 [==============================] - 1s 20ms/step - loss: 5.5467 - accuracy: 0.8379 - val_loss: 4.7570 - val_accuracy: 0.8675\n",
      "Epoch 4/15\n",
      "70/70 [==============================] - 1s 21ms/step - loss: 2.9544 - accuracy: 0.8808 - val_loss: 4.0528 - val_accuracy: 0.8554\n",
      "Epoch 5/15\n",
      "70/70 [==============================] - 1s 21ms/step - loss: 2.4470 - accuracy: 0.8933 - val_loss: 4.0104 - val_accuracy: 0.8635\n",
      "Epoch 6/15\n",
      "70/70 [==============================] - 2s 22ms/step - loss: 1.9929 - accuracy: 0.9170 - val_loss: 2.4192 - val_accuracy: 0.8916\n",
      "Epoch 7/15\n",
      "70/70 [==============================] - 2s 22ms/step - loss: 1.4190 - accuracy: 0.9129 - val_loss: 15.3914 - val_accuracy: 0.5904\n",
      "Epoch 8/15\n",
      "70/70 [==============================] - 1s 20ms/step - loss: 2.0837 - accuracy: 0.9013 - val_loss: 3.8499 - val_accuracy: 0.8916\n",
      "Epoch 9/15\n",
      "70/70 [==============================] - 1s 19ms/step - loss: 1.2515 - accuracy: 0.9433 - val_loss: 3.5196 - val_accuracy: 0.8916\n",
      "Epoch 10/15\n",
      "70/70 [==============================] - 1s 20ms/step - loss: 0.8529 - accuracy: 0.9424 - val_loss: 2.3961 - val_accuracy: 0.8956\n",
      "Epoch 11/15\n",
      "70/70 [==============================] - 1s 20ms/step - loss: 1.6954 - accuracy: 0.9036 - val_loss: 2.1983 - val_accuracy: 0.9036\n",
      "Epoch 12/15\n",
      "70/70 [==============================] - 1s 20ms/step - loss: 0.5188 - accuracy: 0.9598 - val_loss: 4.3300 - val_accuracy: 0.8353\n",
      "Epoch 13/15\n",
      "70/70 [==============================] - 1s 20ms/step - loss: 1.1020 - accuracy: 0.9371 - val_loss: 2.3560 - val_accuracy: 0.8956\n",
      "Epoch 14/15\n",
      "70/70 [==============================] - 1s 20ms/step - loss: 0.3815 - accuracy: 0.9705 - val_loss: 3.3759 - val_accuracy: 0.8514\n",
      "Epoch 15/15\n",
      "70/70 [==============================] - 1s 20ms/step - loss: 0.3165 - accuracy: 0.9737 - val_loss: 2.9443 - val_accuracy: 0.8996\n"
     ]
    },
    {
     "data": {
      "text/plain": [
       "<keras.callbacks.History at 0x1978c40d910>"
      ]
     },
     "execution_count": 83,
     "metadata": {},
     "output_type": "execute_result"
    }
   ],
   "source": [
    "model.compile(optimizer='Adam',loss='categorical_crossentropy',metrics=('accuracy'))\n",
    "model.fit(X_train, Y_train, epochs=15, batch_size=32, validation_split = .1, verbose = 1)"
   ]
  },
  {
   "cell_type": "code",
   "execution_count": 84,
   "id": "3ea36e77",
   "metadata": {},
   "outputs": [
    {
     "name": "stdout",
     "output_type": "stream",
     "text": [
      "72/72 [==============================] - 1s 14ms/step - loss: 21.4399 - accuracy: 0.4440\n",
      "Test score: 21.439899444580078\n",
      "Test accuracy: 0.44395795464515686\n"
     ]
    }
   ],
   "source": [
    "score, acc = model.evaluate(X_test, Y_test, batch_size=32)\n",
    "print('Test score:', score)\n",
    "print('Test accuracy:', acc)"
   ]
  },
  {
   "cell_type": "code",
   "execution_count": 58,
   "id": "2738a530",
   "metadata": {},
   "outputs": [
    {
     "data": {
      "text/plain": [
       "2284"
      ]
     },
     "execution_count": 58,
     "metadata": {},
     "output_type": "execute_result"
    }
   ],
   "source": [
    "len(X_test)"
   ]
  },
  {
   "cell_type": "code",
   "execution_count": 76,
   "id": "b34e35eb",
   "metadata": {},
   "outputs": [
    {
     "data": {
      "text/plain": [
       "<matplotlib.image.AxesImage at 0x1978c59c0a0>"
      ]
     },
     "execution_count": 76,
     "metadata": {},
     "output_type": "execute_result"
    },
    {
     "data": {
      "image/png": "[encoded data removed]",
      "text/plain": [
       "<Figure size 640x480 with 1 Axes>"
      ]
     },
     "metadata": {},
     "output_type": "display_data"
    }
   ],
   "source": [
    "plt.imshow(X_train[0])"
   ]
  },
  {
   "cell_type": "code",
   "execution_count": null,
   "id": "84528b0b",
   "metadata": {},
   "outputs": [],
   "source": []
  },
  {
   "cell_type": "code",
   "execution_count": null,
   "id": "07310bcc",
   "metadata": {},
   "outputs": [],
   "source": []
  },
  {
   "cell_type": "code",
   "execution_count": null,
   "id": "3b488cfe",
   "metadata": {},
   "outputs": [],
   "source": []
  },
  {
   "cell_type": "code",
   "execution_count": null,
   "id": "ace58933",
   "metadata": {},
   "outputs": [],
   "source": []
  }
 ],
 "metadata": {
  "kernelspec": {
   "display_name": "Python 3 (ipykernel)",
   "language": "python",
   "name": "python3"
  },
  "language_info": {
   "codemirror_mode": {
    "name": "ipython",
    "version": 3
   },
   "file_extension": ".py",
   "mimetype": "text/x-python",
   "name": "python",
   "nbconvert_exporter": "python",
   "pygments_lexer": "ipython3",
   "version": "3.9.13"
  }
 },
 "nbformat": 4,
 "nbformat_minor": 5
}
