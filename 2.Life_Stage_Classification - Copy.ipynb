{
 "cells": [
  {
   "cell_type": "code",
   "execution_count": 1,
   "id": "696d630c",
   "metadata": {},
   "outputs": [
    {
     "name": "stderr",
     "output_type": "stream",
     "text": [
      "C:\\Users\\shaif\\anaconda3\\envs\\tens\\lib\\site-packages\\scipy\\__init__.py:146: UserWarning: A NumPy version >=1.16.5 and <1.23.0 is required for this version of SciPy (detected version 1.24.3\n",
      "  warnings.warn(f\"A NumPy version >={np_minversion} and <{np_maxversion}\"\n"
     ]
    },
    {
     "name": "stdout",
     "output_type": "stream",
     "text": [
      "X_train shape: (49227, 32, 32, 3)\n",
      "Y_train shape: (49227,)\n"
     ]
    }
   ],
   "source": [
    "import os\n",
    "from PIL import Image\n",
    "import numpy as np\n",
    "from sklearn.preprocessing import LabelEncoder, OneHotEncoder\n",
    "\n",
    "# Define the path to the directory\n",
    "directory_path = r'C:\\Users\\shaif\\Downloads\\Compressed\\Invasive_Life_Stage'\n",
    "\n",
    "# Initialize empty lists for images and labels\n",
    "X_train = []\n",
    "Y_train = []\n",
    "class_label = 0\n",
    "\n",
    "# Loop through subdirectories (classes)\n",
    "for folder in os.listdir(directory_path):\n",
    "    #print(class_folder)\n",
    "    clsp = os.path.join(directory_path,folder)  \n",
    "    for class_folder in os.listdir(clsp):\n",
    "        #print(class_folder)\n",
    "        class_path = os.path.join(clsp, class_folder)    \n",
    "        #print(class_path)\n",
    "        for image_file in os.listdir(class_path):\n",
    "            if image_file.endswith('.png'):\n",
    "                image_path = os.path.join(class_path, image_file)\n",
    "            \n",
    "            # Load image, convert to RGB and resize\n",
    "                img = Image.open(image_path).convert('RGB')\n",
    "                img = img.resize((32, 32))\n",
    "                img_array = np.array(img)\n",
    "            \n",
    "            # Append image and label to lists\n",
    "                X_train.append(img_array)\n",
    "                Y_train.append(class_label)\n",
    "                #print(class_label)\n",
    "    class_label = class_label + 1\n",
    "\n",
    "# Convert lists to numpy arrays\n",
    "X_train = np.array(X_train)\n",
    "Y_train = np.array(Y_train)\n",
    "\n",
    "print(f'X_train shape: {X_train.shape}')\n",
    "print(f'Y_train shape: {Y_train.shape}')\n"
   ]
  },
  {
   "cell_type": "code",
   "execution_count": 2,
   "id": "884830c6",
   "metadata": {},
   "outputs": [],
   "source": [
    "import numpy as np\n",
    "from tensorflow.keras.utils import to_categorical\n",
    "from sklearn.model_selection import train_test_split\n",
    "import numpy as np\n",
    "Y_train_encoded = to_categorical(Y_train)\n",
    "indices = np.arange(len(X_train))\n",
    "np.random.shuffle(indices)\n",
    "X_train_shuffled = X_train[indices]\n",
    "Y_train_encoded_shuffled = Y_train_encoded[indices]\n",
    "X_train, X_test, y_train, y_test = train_test_split(X_train_shuffled, Y_train_encoded_shuffled, test_size=0.2, random_state=42)"
   ]
  },
  {
   "cell_type": "code",
   "execution_count": null,
   "id": "3f0102e5",
   "metadata": {},
   "outputs": [],
   "source": []
  },
  {
   "cell_type": "code",
   "execution_count": null,
   "id": "9af25d8d",
   "metadata": {},
   "outputs": [
    {
     "name": "stdout",
     "output_type": "stream",
     "text": [
      "WARNING:tensorflow:No training configuration found in the save file, so the model was *not* compiled. Compile it manually.\n",
      "Epoch 1/150\n",
      "985/985 [==============================] - 66s 56ms/step - loss: 31.7675 - accuracy: 0.4299 - val_loss: 2.1137 - val_accuracy: 0.5473\n",
      "Epoch 2/150\n",
      "985/985 [==============================] - 49s 49ms/step - loss: 2.8954 - accuracy: 0.4932 - val_loss: 2.0357 - val_accuracy: 0.4789\n",
      "Epoch 3/150\n",
      "985/985 [==============================] - 60s 60ms/step - loss: 1.9568 - accuracy: 0.5349 - val_loss: 1.7262 - val_accuracy: 0.5600\n",
      "Epoch 4/150\n",
      "985/985 [==============================] - 56s 57ms/step - loss: 2.0034 - accuracy: 0.5670 - val_loss: 1.7217 - val_accuracy: 0.6227\n",
      "Epoch 5/150\n",
      "985/985 [==============================] - 57s 58ms/step - loss: 1.6519 - accuracy: 0.5866 - val_loss: 2.4593 - val_accuracy: 0.6280\n",
      "Epoch 6/150\n",
      "985/985 [==============================] - 52s 53ms/step - loss: 1.3193 - accuracy: 0.6143 - val_loss: 1.2106 - val_accuracy: 0.6558\n",
      "Epoch 7/150\n",
      "985/985 [==============================] - 60s 61ms/step - loss: 1.3260 - accuracy: 0.6234 - val_loss: 1.1780 - val_accuracy: 0.6614\n",
      "Epoch 8/150\n",
      "985/985 [==============================] - 54s 54ms/step - loss: 1.1663 - accuracy: 0.6491 - val_loss: 0.8987 - val_accuracy: 0.6753\n",
      "Epoch 9/150\n",
      "985/985 [==============================] - 53s 54ms/step - loss: 1.1116 - accuracy: 0.6654 - val_loss: 0.9230 - val_accuracy: 0.6656\n",
      "Epoch 10/150\n",
      "985/985 [==============================] - 59s 60ms/step - loss: 0.9271 - accuracy: 0.6888 - val_loss: 0.8143 - val_accuracy: 0.7276\n",
      "Epoch 11/150\n",
      "985/985 [==============================] - 61s 62ms/step - loss: 1.0145 - accuracy: 0.7056 - val_loss: 0.8674 - val_accuracy: 0.7188\n",
      "Epoch 12/150\n",
      "985/985 [==============================] - 57s 58ms/step - loss: 1.1017 - accuracy: 0.6938 - val_loss: 0.7666 - val_accuracy: 0.7215\n",
      "Epoch 13/150\n",
      "985/985 [==============================] - 54s 55ms/step - loss: 0.9755 - accuracy: 0.6998 - val_loss: 1.0385 - val_accuracy: 0.7027\n",
      "Epoch 14/150\n",
      "985/985 [==============================] - 57s 58ms/step - loss: 0.9760 - accuracy: 0.7095 - val_loss: 0.7339 - val_accuracy: 0.7367\n",
      "Epoch 15/150\n",
      "985/985 [==============================] - 59s 60ms/step - loss: 0.7549 - accuracy: 0.7256 - val_loss: 0.7118 - val_accuracy: 0.7437\n",
      "Epoch 16/150\n",
      "985/985 [==============================] - 58s 59ms/step - loss: 0.7784 - accuracy: 0.7303 - val_loss: 0.7191 - val_accuracy: 0.7271\n",
      "Epoch 17/150\n",
      "985/985 [==============================] - 47s 47ms/step - loss: 0.8280 - accuracy: 0.7288 - val_loss: 0.9359 - val_accuracy: 0.7306\n",
      "Epoch 18/150\n",
      "985/985 [==============================] - 47s 48ms/step - loss: 1.0211 - accuracy: 0.7191 - val_loss: 0.8040 - val_accuracy: 0.7422\n",
      "Epoch 19/150\n",
      "985/985 [==============================] - 53s 53ms/step - loss: 0.7920 - accuracy: 0.7289 - val_loss: 17.4505 - val_accuracy: 0.6792\n",
      "Epoch 20/150\n",
      "985/985 [==============================] - 62s 63ms/step - loss: 0.7402 - accuracy: 0.7347 - val_loss: 0.7635 - val_accuracy: 0.7495\n",
      "Epoch 21/150\n",
      "985/985 [==============================] - 54s 55ms/step - loss: 0.8189 - accuracy: 0.7375 - val_loss: 0.8965 - val_accuracy: 0.7584\n",
      "Epoch 22/150\n",
      "985/985 [==============================] - 50s 51ms/step - loss: 0.7906 - accuracy: 0.7329 - val_loss: 3.3293 - val_accuracy: 0.7571\n",
      "Epoch 23/150\n",
      "985/985 [==============================] - 56s 57ms/step - loss: 0.7597 - accuracy: 0.7410 - val_loss: 507.9315 - val_accuracy: 0.7139\n",
      "Epoch 24/150\n",
      "985/985 [==============================] - 60s 61ms/step - loss: 0.6964 - accuracy: 0.7469 - val_loss: 411.7727 - val_accuracy: 0.7334\n",
      "Epoch 25/150\n",
      "985/985 [==============================] - 62s 63ms/step - loss: 0.8009 - accuracy: 0.7443 - val_loss: 134.9067 - val_accuracy: 0.7222\n",
      "Epoch 26/150\n",
      "985/985 [==============================] - 53s 54ms/step - loss: 0.6986 - accuracy: 0.7477 - val_loss: 1.5936 - val_accuracy: 0.7686\n",
      "Epoch 27/150\n",
      "985/985 [==============================] - 54s 55ms/step - loss: 0.6703 - accuracy: 0.7514 - val_loss: 246.0973 - val_accuracy: 0.7530\n",
      "Epoch 28/150\n",
      "985/985 [==============================] - 56s 57ms/step - loss: 0.7858 - accuracy: 0.7471 - val_loss: 527.6779 - val_accuracy: 0.7486\n",
      "Epoch 29/150\n",
      "985/985 [==============================] - 61s 62ms/step - loss: 0.7162 - accuracy: 0.7582 - val_loss: 3.4608 - val_accuracy: 0.7754\n",
      "Epoch 30/150\n",
      "985/985 [==============================] - 52s 52ms/step - loss: 0.6718 - accuracy: 0.7622 - val_loss: 592.3967 - val_accuracy: 0.7348\n",
      "Epoch 31/150\n",
      "985/985 [==============================] - 57s 58ms/step - loss: 0.6456 - accuracy: 0.7643 - val_loss: 278.9284 - val_accuracy: 0.7596\n",
      "Epoch 32/150\n",
      "985/985 [==============================] - 56s 57ms/step - loss: 0.7171 - accuracy: 0.7679 - val_loss: 1427.4271 - val_accuracy: 0.7530\n",
      "Epoch 33/150\n",
      "985/985 [==============================] - 114s 116ms/step - loss: 0.6464 - accuracy: 0.7738 - val_loss: 3664.7478 - val_accuracy: 0.6916\n",
      "Epoch 34/150\n",
      "985/985 [==============================] - 50s 51ms/step - loss: 0.6461 - accuracy: 0.7727 - val_loss: 744.1376 - val_accuracy: 0.7493\n",
      "Epoch 35/150\n",
      "985/985 [==============================] - 45s 46ms/step - loss: 0.6997 - accuracy: 0.7592 - val_loss: 360.4328 - val_accuracy: 0.7590\n",
      "Epoch 36/150\n",
      "985/985 [==============================] - 45s 46ms/step - loss: 0.6344 - accuracy: 0.7673 - val_loss: 65.9661 - val_accuracy: 0.7574\n",
      "Epoch 37/150\n",
      "985/985 [==============================] - 57s 57ms/step - loss: 0.6418 - accuracy: 0.7729 - val_loss: 0.5744 - val_accuracy: 0.7848\n",
      "Epoch 38/150\n",
      "985/985 [==============================] - 51s 52ms/step - loss: 0.6634 - accuracy: 0.7777 - val_loss: 0.5756 - val_accuracy: 0.7805\n",
      "Epoch 39/150\n",
      "985/985 [==============================] - 49s 50ms/step - loss: 0.6101 - accuracy: 0.7764 - val_loss: 0.5422 - val_accuracy: 0.7893\n",
      "Epoch 40/150\n",
      "985/985 [==============================] - 52s 53ms/step - loss: 0.7139 - accuracy: 0.7766 - val_loss: 0.5477 - val_accuracy: 0.7928\n",
      "Epoch 41/150\n",
      "985/985 [==============================] - 48s 49ms/step - loss: 0.6046 - accuracy: 0.7829 - val_loss: 0.6196 - val_accuracy: 0.7728\n",
      "Epoch 42/150\n",
      "985/985 [==============================] - 50s 50ms/step - loss: 0.6086 - accuracy: 0.7830 - val_loss: 0.6257 - val_accuracy: 0.7519\n",
      "Epoch 43/150\n",
      "985/985 [==============================] - 52s 53ms/step - loss: 0.6408 - accuracy: 0.7816 - val_loss: 0.8670 - val_accuracy: 0.7311\n",
      "Epoch 44/150\n",
      "985/985 [==============================] - 52s 53ms/step - loss: 0.6823 - accuracy: 0.7789 - val_loss: 134.0493 - val_accuracy: 0.7660\n",
      "Epoch 45/150\n",
      "985/985 [==============================] - 46s 46ms/step - loss: 0.5803 - accuracy: 0.7857 - val_loss: 4.1109 - val_accuracy: 0.7978\n",
      "Epoch 46/150\n",
      "985/985 [==============================] - 51s 52ms/step - loss: 0.6484 - accuracy: 0.7781 - val_loss: 23.4733 - val_accuracy: 0.7841\n",
      "Epoch 47/150\n",
      "985/985 [==============================] - 50s 51ms/step - loss: 0.5928 - accuracy: 0.7862 - val_loss: 0.5317 - val_accuracy: 0.7915\n",
      "Epoch 48/150\n",
      "985/985 [==============================] - 48s 49ms/step - loss: 0.5645 - accuracy: 0.7905 - val_loss: 0.5673 - val_accuracy: 0.7891\n",
      "Epoch 49/150\n",
      "985/985 [==============================] - 51s 52ms/step - loss: 0.5681 - accuracy: 0.7920 - val_loss: 0.5474 - val_accuracy: 0.7858\n",
      "Epoch 50/150\n",
      "985/985 [==============================] - 47s 48ms/step - loss: 0.5988 - accuracy: 0.7942 - val_loss: 0.5479 - val_accuracy: 0.7943\n",
      "Epoch 51/150\n",
      "985/985 [==============================] - 52s 53ms/step - loss: 0.6590 - accuracy: 0.7916 - val_loss: 5782.1382 - val_accuracy: 0.7742\n",
      "Epoch 52/150\n",
      "985/985 [==============================] - 55s 56ms/step - loss: 0.5814 - accuracy: 0.7966 - val_loss: 0.5244 - val_accuracy: 0.7952\n",
      "Epoch 53/150\n",
      "985/985 [==============================] - 56s 56ms/step - loss: 0.5516 - accuracy: 0.7973 - val_loss: 2359.8606 - val_accuracy: 0.7776\n",
      "Epoch 54/150\n",
      "985/985 [==============================] - 54s 55ms/step - loss: 0.5841 - accuracy: 0.7948 - val_loss: 1613.9290 - val_accuracy: 0.7672\n",
      "Epoch 55/150\n",
      "985/985 [==============================] - 54s 55ms/step - loss: 0.6112 - accuracy: 0.7925 - val_loss: 1536.0543 - val_accuracy: 0.7814\n",
      "Epoch 56/150\n"
     ]
    },
    {
     "name": "stdout",
     "output_type": "stream",
     "text": [
      "985/985 [==============================] - 54s 55ms/step - loss: 0.6507 - accuracy: 0.7893 - val_loss: 114051.7969 - val_accuracy: 0.7315\n",
      "Epoch 57/150\n",
      "985/985 [==============================] - 49s 50ms/step - loss: 0.5726 - accuracy: 0.7927 - val_loss: 0.5168 - val_accuracy: 0.8008\n",
      "Epoch 58/150\n",
      "725/985 [=====================>........] - ETA: 12s - loss: 0.5271 - accuracy: 0.7972"
     ]
    }
   ],
   "source": [
    "from tensorflow import keras\n",
    "from keras.models import load_model\n",
    "from tensorflow.keras.applications import ResNet50\n",
    "from tensorflow.keras.models import Sequential\n",
    "from tensorflow.keras.layers import Dense, GlobalAveragePooling1D\n",
    "\n",
    "model_path = r\"C:\\Users\\shaif\\Downloads\\invasive_ssl1.h5\"\n",
    "model = load_model(model_path)\n",
    "#model.layers[0].trainable = False\n",
    "x = model.layers[-8].output  \n",
    "output = Dense(5, activation='softmax')(x)\n",
    "new_model = keras.models.Model(inputs=model.input, outputs=output)\n",
    "from keras.callbacks import EarlyStopping\n",
    "early_stopping = EarlyStopping(monitor='val_accuracy', patience=40, mode='max', verbose=1)\n",
    "new_model.compile(optimizer='Adam', loss='categorical_crossentropy', metrics=['accuracy'])\n",
    "history = new_model.fit(X_train, y_train, batch_size=32, epochs=150,validation_split=0.2, callbacks=[early_stopping])"
   ]
  },
  {
   "cell_type": "code",
   "execution_count": 4,
   "id": "17df2a96",
   "metadata": {},
   "outputs": [],
   "source": []
  },
  {
   "cell_type": "code",
   "execution_count": null,
   "id": "527c8253",
   "metadata": {},
   "outputs": [],
   "source": [
    "from sklearn.metrics import accuracy_score\n",
    "from sklearn.metrics import balanced_accuracy_score\n",
    "predictions = new_model.predict(np.array(X_test).astype('float32'))\n",
    "accuracy = accuracy_score(np.argmax(y_test, axis=1), np.argmax(predictions, axis=1))\n",
    "balanced_accuracy = balanced_accuracy_score(np.argmax(y_test, axis=1), np.argmax(predictions, axis=1))\n",
    "print(\"Test Balanced Accuracy:\", balanced_accuracy)\n",
    "print(\"Test Accuracy:\", accuracy)"
   ]
  },
  {
   "cell_type": "code",
   "execution_count": null,
   "id": "e9e13845",
   "metadata": {},
   "outputs": [],
   "source": []
  },
  {
   "cell_type": "code",
   "execution_count": null,
   "id": "e41ffb77",
   "metadata": {},
   "outputs": [],
   "source": []
  },
  {
   "cell_type": "code",
   "execution_count": null,
   "id": "7bc37585",
   "metadata": {},
   "outputs": [],
   "source": [
    "from tensorflow.keras.applications import MobileNetV2, ResNet50\n",
    "from tensorflow.keras.models import Model\n",
    "from tensorflow.keras.layers import Dense, GlobalAveragePooling2D\n",
    "\n",
    "base_model = ResNet50(include_top=False, weights=\"imagenet\", input_shape=(32,32,3), pooling=\"avg\")\n",
    "x =  Dense(500)(base_model.output)\n",
    "output = Dense(5, activation='softmax')(x)\n",
    "ne_model = Model(inputs=base_model.input, outputs=output)\n",
    "early_stopping = EarlyStopping(monitor='val_accuracy', patience=15, mode='max', verbose=1)\n",
    "ne_model.compile(optimizer='Adam', loss='categorical_crossentropy', metrics=['accuracy'])\n",
    "history = ne_model.fit(X_train, y_train, batch_size=32, epochs=150,validation_split=0.2, callbacks=[early_stopping])"
   ]
  },
  {
   "cell_type": "code",
   "execution_count": null,
   "id": "5388753c",
   "metadata": {},
   "outputs": [],
   "source": []
  },
  {
   "cell_type": "code",
   "execution_count": null,
   "id": "7d77dab4",
   "metadata": {},
   "outputs": [],
   "source": [
    "from sklearn.metrics import accuracy_score\n",
    "from sklearn.metrics import balanced_accuracy_score\n",
    "predictions = ne_model.predict(np.array(X_test).astype('float32'))\n",
    "accuracy = accuracy_score(np.argmax(y_test, axis=1), np.argmax(predictions, axis=1))\n",
    "balanced_accuracy = balanced_accuracy_score(np.argmax(y_test, axis=1), np.argmax(predictions, axis=1))\n",
    "print(\"Test Balanced Accuracy:\", balanced_accuracy)\n",
    "print(\"Test Accuracy:\", accuracy)"
   ]
  },
  {
   "cell_type": "code",
   "execution_count": null,
   "id": "942ccc94",
   "metadata": {},
   "outputs": [],
   "source": []
  },
  {
   "cell_type": "code",
   "execution_count": null,
   "id": "e76349b6",
   "metadata": {},
   "outputs": [],
   "source": [
    "from tensorflow.keras.applications import MobileNetV2\n",
    "from tensorflow.keras.models import Model\n",
    "from tensorflow.keras.layers import Dense, GlobalAveragePooling2D\n",
    "\n",
    "base_model = MobileNetV2(include_top=False, weights=None, input_shape=(32,32,3), pooling=\"avg\")\n",
    "x =  Dense(500)(base_model.output)\n",
    "output = Dense(5, activation='softmax')(x) \n",
    "new_model = Model(inputs=base_model.input, outputs=output)\n",
    "new_model.compile(optimizer='Adam', loss='categorical_crossentropy', metrics=['accuracy'])\n",
    "new_model.fit(X_train, y_train, batch_size=32, epochs=100, validation_split=0.2)"
   ]
  },
  {
   "cell_type": "code",
   "execution_count": null,
   "id": "87d64a00",
   "metadata": {},
   "outputs": [],
   "source": []
  },
  {
   "cell_type": "code",
   "execution_count": null,
   "id": "4174111f",
   "metadata": {},
   "outputs": [],
   "source": [
    "from sklearn.metrics import accuracy_score\n",
    "predictions = new_model.predict(np.array(X_test).astype('float32'))\n",
    "accuracy = accuracy_score(np.argmax(y_test, axis=1), np.argmax(predictions, axis=1))\n",
    "print(\"Test Accuracy:\", accuracy)"
   ]
  },
  {
   "cell_type": "code",
   "execution_count": null,
   "id": "b7a46cd7",
   "metadata": {},
   "outputs": [],
   "source": []
  },
  {
   "cell_type": "code",
   "execution_count": null,
   "id": "17b14ce7",
   "metadata": {},
   "outputs": [],
   "source": []
  },
  {
   "cell_type": "code",
   "execution_count": null,
   "id": "dc49d284",
   "metadata": {},
   "outputs": [],
   "source": []
  },
  {
   "cell_type": "code",
   "execution_count": null,
   "id": "03e8f928",
   "metadata": {},
   "outputs": [],
   "source": []
  },
  {
   "cell_type": "code",
   "execution_count": null,
   "id": "9e3c63c8",
   "metadata": {},
   "outputs": [],
   "source": []
  },
  {
   "cell_type": "code",
   "execution_count": null,
   "id": "d552da65",
   "metadata": {},
   "outputs": [],
   "source": []
  }
 ],
 "metadata": {
  "kernelspec": {
   "display_name": "Python 3 (ipykernel)",
   "language": "python",
   "name": "python3"
  },
  "language_info": {
   "codemirror_mode": {
    "name": "ipython",
    "version": 3
   },
   "file_extension": ".py",
   "mimetype": "text/x-python",
   "name": "python",
   "nbconvert_exporter": "python",
   "pygments_lexer": "ipython3",
   "version": "3.8.18"
  }
 },
 "nbformat": 4,
 "nbformat_minor": 5
}
