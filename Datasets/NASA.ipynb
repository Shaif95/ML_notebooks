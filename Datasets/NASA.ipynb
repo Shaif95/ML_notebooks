{
 "cells": [
  {
   "cell_type": "code",
   "execution_count": 1,
   "id": "6a302dcf",
   "metadata": {},
   "outputs": [
    {
     "name": "stderr",
     "output_type": "stream",
     "text": [
      "22184it [22:17, 16.58it/s]\n",
      "3698it [06:26,  9.56it/s]\n"
     ]
    },
    {
     "name": "stdout",
     "output_type": "stream",
     "text": [
      "Shape of X_train: (22184, 32, 32, 3)\n",
      "Shape of Y_train: (22184,)\n",
      "Shape of X_test: (3698, 32, 32, 3)\n",
      "Shape of Y_test: (3698,)\n"
     ]
    }
   ],
   "source": [
    "import tensorflow as tf\n",
    "from tensorflow import keras\n",
    "from tensorflow.keras.applications import MobileNet\n",
    "from tensorflow.keras.models import Sequential\n",
    "from tensorflow.keras.layers import Dense, GlobalAveragePooling2D\n",
    "from tensorflow.keras.optimizers import Adam\n",
    "from tensorflow.keras.preprocessing.image import ImageDataGenerator\n",
    "import os\n",
    "import pandas as pd\n",
    "from PIL import Image\n",
    "import numpy as np\n",
    "from sklearn.preprocessing import LabelEncoder\n",
    "from tqdm import tqdm\n",
    "\n",
    "# Define the paths to your dataset\n",
    "dataset_dir = r\"D:\\datasets\\Underwater_Image\\understanding_cloud_organization\"\n",
    "train_images_dir = os.path.join(dataset_dir, \"train_images\")\n",
    "test_images_dir = os.path.join(dataset_dir, \"test_images\")\n",
    "train_csv_path = os.path.join(dataset_dir, \"train.csv\")\n",
    "\n",
    "# Create empty lists to store images and labels\n",
    "X_train = []\n",
    "Y_train = []\n",
    "X_test = []\n",
    "Y_test = []  # Placeholder for test labels\n",
    "\n",
    "# Read the CSV file to get image-label pairs\n",
    "df = pd.read_csv(train_csv_path)\n",
    "\n",
    "# Function to read, resize, and append images to X_train and labels to Y_train\n",
    "def process_images_and_labels(image_dir, label_df, label_encoder, is_test=False):\n",
    "    for index, row in tqdm(label_df.iterrows()):\n",
    "        image_path = os.path.join(image_dir, row['Image_Label'].split('_')[0])\n",
    "        image = Image.open(image_path).convert(\"RGB\")\n",
    "        image = image.resize((32, 32))\n",
    "        image_array = np.array(image)\n",
    "        \n",
    "        if is_test:\n",
    "            X_test.append(image_array)\n",
    "            # For test data, you can use a placeholder or any appropriate label.\n",
    "            Y_test.append(0)  # Placeholder label for test images\n",
    "        else:\n",
    "            X_train.append(image_array)\n",
    "            label = row['EncodedPixels'] if not pd.isna(row['EncodedPixels']) else '0'\n",
    "            Y_train.append(label_encoder.transform([label])[0])\n",
    "\n",
    "# Initialize the label encoder\n",
    "label_encoder = LabelEncoder()\n",
    "label_encoder.fit(df['EncodedPixels'].fillna('0'))\n",
    "\n",
    "# Process the training images and labels\n",
    "process_images_and_labels(train_images_dir, df, label_encoder)\n",
    "\n",
    "# Process the test images\n",
    "test_image_files = os.listdir(test_images_dir)\n",
    "process_images_and_labels(test_images_dir, pd.DataFrame({'Image_Label': test_image_files}), label_encoder, is_test=True)\n",
    "\n",
    "# Convert lists to numpy arrays\n",
    "X_train = np.array(X_train)\n",
    "Y_train = np.array(Y_train)\n",
    "X_test = np.array(X_test)\n",
    "Y_test = np.array(Y_test)\n",
    "\n",
    "print(\"Shape of X_train:\", X_train.shape)\n",
    "print(\"Shape of Y_train:\", Y_train.shape)\n",
    "print(\"Shape of X_test:\", X_test.shape)\n",
    "print(\"Shape of Y_test:\", Y_test.shape)"
   ]
  },
  {
   "cell_type": "code",
   "execution_count": null,
   "id": "93e3a648",
   "metadata": {},
   "outputs": [],
   "source": []
  },
  {
   "cell_type": "code",
   "execution_count": 2,
   "id": "fa9bf96a",
   "metadata": {},
   "outputs": [
    {
     "name": "stdout",
     "output_type": "stream",
     "text": [
      "312/312 [==============================] - 33s 59ms/step - loss: 6.3224 - accuracy: 0.4632 - val_loss: 34.0096 - val_accuracy: 0.4588\n"
     ]
    },
    {
     "data": {
      "text/plain": [
       "<keras.callbacks.History at 0x13752fa8520>"
      ]
     },
     "execution_count": 2,
     "metadata": {},
     "output_type": "execute_result"
    }
   ],
   "source": [
    "from tensorflow.keras.applications import ResNet50\n",
    "from tensorflow.keras.models import Sequential\n",
    "from tensorflow.keras.layers import Dense, GlobalAveragePooling2D\n",
    "import os\n",
    "import pandas as pd\n",
    "from PIL import Image\n",
    "import numpy as np\n",
    "from sklearn.preprocessing import LabelEncoder\n",
    "from sklearn.model_selection import train_test_split\n",
    "from keras.utils import to_categorical\n",
    "from keras.applications import ResNet50\n",
    "from keras.models import Sequential\n",
    "from keras.layers import GlobalAveragePooling2D, Dense\n",
    "from keras.optimizers import Adam\n",
    "from keras.utils import to_categorical  # Add this import\n",
    "\n",
    "label_encoder = LabelEncoder()\n",
    "Y_train_encoded = label_encoder.fit_transform(Y_train)\n",
    "\n",
    "# Use to_categorical to one-hot encode the integer labels\n",
    "num_classes = len(label_encoder.classes_)  # Number of unique classes\n",
    "Y_train_one_hot = to_categorical(Y_train_encoded, num_classes=num_classes)\n",
    "\n",
    "# Split your training data into training and validation sets\n",
    "X_train, X_val, Y_train_one_hot, Y_val_one_hot = train_test_split(\n",
    "    X_train, Y_train_one_hot, test_size=0.1, random_state=42\n",
    ")\n",
    "\n",
    "\n",
    "# Create the ResNet model without the top (fully connected) layers\n",
    "base_model = ResNet50(weights='imagenet', include_top=False, input_shape=(32, 32, 3))\n",
    "    \n",
    "# Add the top layers for classification\n",
    "model = Sequential()\n",
    "model.add(base_model)\n",
    "model.add(GlobalAveragePooling2D())\n",
    "model.add(Dense(num_classes, activation='softmax'))  # Change the number of units and activation\n",
    "model.compile(optimizer=Adam(learning_rate=0.001), loss='categorical_crossentropy', metrics=['accuracy'])\n",
    "model.fit(X_train, Y_train_one_hot, batch_size=64, epochs=1, validation_data=(X_val, Y_val_one_hot))"
   ]
  },
  {
   "cell_type": "code",
   "execution_count": 4,
   "id": "dfdc4a22",
   "metadata": {},
   "outputs": [
    {
     "name": "stdout",
     "output_type": "stream",
     "text": [
      "Epoch 1/5\n",
      "312/312 [==============================] - 24s 55ms/step - loss: 5.8173 - accuracy: 0.4673 - val_loss: 7.2301 - val_accuracy: 0.4588\n",
      "Epoch 2/5\n",
      "312/312 [==============================] - 19s 62ms/step - loss: 5.8043 - accuracy: 0.4673 - val_loss: 8.4709 - val_accuracy: 0.4588\n",
      "Epoch 3/5\n",
      "312/312 [==============================] - 19s 59ms/step - loss: 5.6329 - accuracy: 0.4673 - val_loss: 7.7912 - val_accuracy: 0.4588\n",
      "Epoch 4/5\n",
      "312/312 [==============================] - 16s 51ms/step - loss: 5.4539 - accuracy: 0.4673 - val_loss: 8.1457 - val_accuracy: 0.4588\n",
      "Epoch 5/5\n",
      "312/312 [==============================] - 16s 52ms/step - loss: 5.3384 - accuracy: 0.4673 - val_loss: 8.6215 - val_accuracy: 0.4588\n"
     ]
    },
    {
     "data": {
      "text/plain": [
       "<keras.callbacks.History at 0x13b69240a30>"
      ]
     },
     "execution_count": 4,
     "metadata": {},
     "output_type": "execute_result"
    }
   ],
   "source": [
    "model.compile(optimizer=Adam(learning_rate=0.001), loss='categorical_crossentropy', metrics=['accuracy'])\n",
    "model.fit(X_train, Y_train_one_hot, batch_size=64, epochs=5, validation_data=(X_val, Y_val_one_hot))"
   ]
  },
  {
   "cell_type": "code",
   "execution_count": 5,
   "id": "a88d918c",
   "metadata": {},
   "outputs": [
    {
     "name": "stdout",
     "output_type": "stream",
     "text": [
      "116/116 [==============================] - 4s 16ms/step\n",
      "Accuracy: 1.0\n",
      "F1 Score (Micro): 1.0\n"
     ]
    }
   ],
   "source": [
    "import numpy as np\n",
    "from sklearn.metrics import accuracy_score, f1_score\n",
    "\n",
    "# Assuming you have trained a model and obtained predicted probabilities on X_test\n",
    "y_pred_prob = model.predict(X_test)\n",
    "\n",
    "# Convert predicted probabilities to predicted labels\n",
    "y_pred = np.argmax(y_pred_prob, axis=1)\n",
    "\n",
    "# One-hot encode the true labels in Y_test if it's not already one-hot encoded\n",
    "if len(Y_test.shape) == 1:  # Check if Y_test is 1D\n",
    "    num_classes = len(np.unique(Y_test))\n",
    "    Y_test_encoded = np.zeros((len(Y_test), num_classes))\n",
    "    Y_test_encoded[np.arange(len(Y_test)), Y_test] = 1\n",
    "else:\n",
    "    Y_test_encoded = Y_test  # Y_test is already one-hot encoded\n",
    "\n",
    "# Convert Y_test_encoded to predicted labels format\n",
    "y_test_labels = np.argmax(Y_test_encoded, axis=1)\n",
    "\n",
    "# Calculate accuracy\n",
    "accuracy = accuracy_score(y_test_labels, y_pred)\n",
    "print(\"Accuracy:\", accuracy)\n",
    "\n",
    "# Calculate F1 score (micro-average)\n",
    "f1_micro = f1_score(y_test_labels, y_pred, average='micro')\n",
    "print(\"F1 Score (Micro):\", f1_micro)"
   ]
  },
  {
   "cell_type": "code",
   "execution_count": null,
   "id": "164d3470",
   "metadata": {},
   "outputs": [],
   "source": []
  },
  {
   "cell_type": "code",
   "execution_count": null,
   "id": "69923ed4",
   "metadata": {},
   "outputs": [],
   "source": [
    "from tensorflow import keras\n",
    "model = keras.models.load_model(r\"F:\\Pre-Trained_Models\\Pre-Trained_Models\\limuc_32_model.h5\")\n",
    "\n",
    "from tensorflow.keras.applications import ResNet50\n",
    "from tensorflow.keras.models import Sequential\n",
    "from tensorflow.keras.layers import Dense, GlobalAveragePooling2D\n",
    "\n",
    "x = model.layers[-4].output  # Access the last 4th layer from the end\n",
    "x = GlobalAveragePooling2D()(x)\n",
    "output = Dense(num_classes, activation='softmax')(x)\n",
    "\n",
    "# Create the new model with the updated head\n",
    "new_model = keras.models.Model(inputs=model.input, outputs=output)\n",
    "# Compile the model\n",
    "new_model.compile(optimizer=Adam(lr=0.001), loss='categorical_crossentropy', metrics=['accuracy'])\n",
    "# Train the model\n",
    "new_model.fit(X_train, Y_train_one_hot, batch_size=64, epochs=100, validation_split = .2)"
   ]
  },
  {
   "cell_type": "code",
   "execution_count": null,
   "id": "5367101c",
   "metadata": {},
   "outputs": [],
   "source": [
    "import numpy as np\n",
    "from sklearn.metrics import accuracy_score, f1_score\n",
    "\n",
    "# Assuming you have trained a model and obtained predicted probabilities on X_test\n",
    "y_pred_prob = new_model.predict(X_test)\n",
    "\n",
    "# Convert predicted probabilities to predicted labels\n",
    "y_pred = np.argmax(y_pred_prob, axis=1)\n",
    "\n",
    "# One-hot encode the true labels in Y_test if it's not already one-hot encoded\n",
    "if len(Y_test.shape) == 1:  # Check if Y_test is 1D\n",
    "    num_classes = len(np.unique(Y_test))\n",
    "    Y_test_encoded = np.zeros((len(Y_test), num_classes))\n",
    "    Y_test_encoded[np.arange(len(Y_test)), Y_test] = 1\n",
    "else:\n",
    "    Y_test_encoded = Y_test  # Y_test is already one-hot encoded\n",
    "\n",
    "# Convert Y_test_encoded to predicted labels format\n",
    "y_test_labels = np.argmax(Y_test_encoded, axis=1)\n",
    "\n",
    "# Calculate accuracy\n",
    "accuracy = accuracy_score(y_test_labels, y_pred)\n",
    "print(\"Accuracy:\", accuracy)\n",
    "\n",
    "# Calculate F1 score (micro-average)\n",
    "f1_micro = f1_score(y_test_labels, y_pred, average='micro')\n",
    "print(\"F1 Score (Micro):\", f1_micro)"
   ]
  },
  {
   "cell_type": "code",
   "execution_count": null,
   "id": "a1908616",
   "metadata": {},
   "outputs": [],
   "source": []
  },
  {
   "cell_type": "code",
   "execution_count": null,
   "id": "d3e6475c",
   "metadata": {},
   "outputs": [],
   "source": []
  },
  {
   "cell_type": "code",
   "execution_count": null,
   "id": "2cb145f1",
   "metadata": {},
   "outputs": [],
   "source": []
  },
  {
   "cell_type": "code",
   "execution_count": null,
   "id": "7721d286",
   "metadata": {},
   "outputs": [],
   "source": []
  }
 ],
 "metadata": {
  "kernelspec": {
   "display_name": "Python 3 (ipykernel)",
   "language": "python",
   "name": "python3"
  },
  "language_info": {
   "codemirror_mode": {
    "name": "ipython",
    "version": 3
   },
   "file_extension": ".py",
   "mimetype": "text/x-python",
   "name": "python",
   "nbconvert_exporter": "python",
   "pygments_lexer": "ipython3",
   "version": "3.8.18"
  }
 },
 "nbformat": 4,
 "nbformat_minor": 5
}
