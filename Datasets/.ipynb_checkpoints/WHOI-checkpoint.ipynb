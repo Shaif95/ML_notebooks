{
 "cells": [
  {
   "cell_type": "code",
   "execution_count": 1,
   "id": "14666713",
   "metadata": {},
   "outputs": [
    {
     "name": "stdout",
     "output_type": "stream",
     "text": [
      "Shape of X_train: (9590, 32, 32, 3)\n",
      "Shape of Y_train_categorical: (9590, 4)\n",
      "Shape of X_test: (1686, 32, 32, 3)\n",
      "Shape of Y_test_categorical: (1686, 4)\n"
     ]
    }
   ],
   "source": [
    "\n",
    "# Define the path to the directory\n",
    "directory_path = r'C:\\Users\\shaif\\Downloads\\Compressed\\painting\\painting'\n",
    "\n",
    "# Initialize empty lists for images and labels\n",
    "X_train = []\n",
    "Y_train = []\n",
    "class_label = 0\n",
    "\n",
    "# Loop through subdirectories (classes)\n",
    "for class_folder in tqdm(sorted(os.listdir(directory_path))):\n",
    "    class_path = os.path.join(directory_path, class_folder)\n",
    "    \n",
    "    for image_file in os.listdir(class_path):\n",
    "        if image_file.endswith('.jpg'):\n",
    "            image_path = os.path.join(class_path, image_file)\n",
    "            \n",
    "            # Load image, convert to RGB and resize\n",
    "            img = Image.open(image_path).convert('RGB')\n",
    "            img = img.resize((32, 32))\n",
    "            img_array = np.array(img)\n",
    "            \n",
    "            # Append image and label to lists\n",
    "            X_train.append(img_array)\n",
    "            Y_train.append(class_label)\n",
    "            \n",
    "    class_label = class_label + 1\n",
    "\n",
    "# Convert lists to numpy arrays\n",
    "x_train = np.array(x_train)\n",
    "y_train = np.array(y_train)\n",
    "\n",
    "print(f'X_train shape: {X_train.shape}')\n",
    "print(f'Y_train shape: {Y_train.shape}')"
   ]
  },
  {
   "cell_type": "code",
   "execution_count": null,
   "id": "e1f0d56e",
   "metadata": {},
   "outputs": [],
   "source": []
  },
  {
   "cell_type": "code",
   "execution_count": null,
   "id": "905cb7be",
   "metadata": {},
   "outputs": [],
   "source": []
  },
  {
   "cell_type": "code",
   "execution_count": null,
   "id": "4df09538",
   "metadata": {},
   "outputs": [],
   "source": []
  },
  {
   "cell_type": "code",
   "execution_count": 2,
   "id": "df1def5d",
   "metadata": {},
   "outputs": [],
   "source": [
    "# Create the ResNet model without the top (fully connected) layers\n",
    "base_model = ResNet50(weights='imagenet', include_top=False, input_shape=(32, 32, 3))\n",
    "    \n",
    "# Add the top layers for classification\n",
    "model = Sequential()\n",
    "model.add(base_model)\n",
    "model.add(GlobalAveragePooling2D())\n",
    "model.add(Dense(num_classes, activation='softmax'))  # Change units to match the number of classes\n",
    "\n",
    "model.compile(optimizer=Adam(learning_rate=0.001), loss='categorical_crossentropy', metrics=['accuracy'])\n",
    "\n",
    "\n",
    "\n",
    "\n",
    "\n",
    "# Split your data into training and validation sets\n",
    "from sklearn.model_selection import train_test_split\n",
    "\n",
    "X_train, X_valid, Y_train_categorical, Y_valid_categorical = train_test_split(\n",
    "    X_train, Y_train_categorical, test_size=0.1, random_state=42\n",
    ")\n",
    "\n",
    "# Create tf.data.Dataset for training and validation data\n",
    "train_dataset = tf.data.Dataset.from_tensor_slices((X_train, Y_train_categorical))\n",
    "valid_dataset = tf.data.Dataset.from_tensor_slices((X_valid, Y_valid_categorical))\n",
    "\n",
    "# Define batch size and shuffle the datasets\n",
    "batch_size = 64\n",
    "train_dataset = train_dataset.shuffle(buffer_size=len(X_train)).batch(batch_size)\n",
    "valid_dataset = valid_dataset.batch(batch_size)"
   ]
  },
  {
   "cell_type": "code",
   "execution_count": 9,
   "id": "f3add546",
   "metadata": {},
   "outputs": [
    {
     "name": "stdout",
     "output_type": "stream",
     "text": [
      "Epoch 1/10\n",
      "120/120 [==============================] - 11s 91ms/step - loss: 1.0153 - accuracy: 0.5912 - val_loss: 8.2940 - val_accuracy: 0.5474\n",
      "Epoch 2/10\n",
      "120/120 [==============================] - 12s 101ms/step - loss: 0.9423 - accuracy: 0.6174 - val_loss: 1.4003 - val_accuracy: 0.5474\n",
      "Epoch 3/10\n",
      "120/120 [==============================] - 12s 97ms/step - loss: 0.8766 - accuracy: 0.6404 - val_loss: 1.7754 - val_accuracy: 0.5474\n",
      "Epoch 4/10\n",
      "120/120 [==============================] - 10s 86ms/step - loss: 0.9732 - accuracy: 0.6160 - val_loss: 1.3483 - val_accuracy: 0.5474\n",
      "Epoch 5/10\n",
      "120/120 [==============================] - 12s 97ms/step - loss: 0.9081 - accuracy: 0.6444 - val_loss: 1.4124 - val_accuracy: 0.5474\n",
      "Epoch 6/10\n",
      "120/120 [==============================] - 11s 88ms/step - loss: 0.9854 - accuracy: 0.6157 - val_loss: 368.9910 - val_accuracy: 0.5474\n",
      "Epoch 7/10\n",
      "120/120 [==============================] - 11s 90ms/step - loss: 0.8728 - accuracy: 0.6418 - val_loss: 1.5443 - val_accuracy: 0.5490\n",
      "Epoch 8/10\n",
      "120/120 [==============================] - 11s 94ms/step - loss: 0.8101 - accuracy: 0.6588 - val_loss: 1.4174 - val_accuracy: 0.5897\n",
      "Epoch 9/10\n",
      "120/120 [==============================] - 13s 102ms/step - loss: 0.7826 - accuracy: 0.6724 - val_loss: 1.1223 - val_accuracy: 0.6204\n",
      "Epoch 10/10\n",
      "120/120 [==============================] - 11s 92ms/step - loss: 0.8140 - accuracy: 0.6688 - val_loss: 1.5023 - val_accuracy: 0.4943\n"
     ]
    },
    {
     "data": {
      "text/plain": [
       "<keras.callbacks.History at 0x22bd31ef490>"
      ]
     },
     "execution_count": 9,
     "metadata": {},
     "output_type": "execute_result"
    }
   ],
   "source": [
    "# Training the model\n",
    "epochs = 10\n",
    "model.fit(train_dataset, epochs=epochs, validation_data=valid_dataset)"
   ]
  },
  {
   "cell_type": "code",
   "execution_count": 10,
   "id": "394bdf95",
   "metadata": {},
   "outputs": [
    {
     "name": "stdout",
     "output_type": "stream",
     "text": [
      "27/27 [==============================] - 1s 43ms/step - loss: 1.3068 - accuracy: 0.4870\n",
      "Test Loss: 1.3068031072616577\n",
      "Test Accuracy: 0.4869513511657715\n",
      "Accuracy: 0.48695136417556345\n",
      "F1 Score: 0.43797747040908874\n",
      "cohen_kappa_score :\n",
      "0.34470820467801966\n"
     ]
    }
   ],
   "source": [
    "from sklearn.metrics import accuracy_score, f1_score, confusion_matrix\n",
    "\n",
    "# Evaluate the model on the test dataset\n",
    "test_dataset = tf.data.Dataset.from_tensor_slices((X_test, Y_test_categorical))\n",
    "test_dataset = test_dataset.batch(batch_size)\n",
    "\n",
    "test_loss, test_accuracy = model.evaluate(test_dataset)\n",
    "\n",
    "# Make predictions on the test dataset\n",
    "predictions = model.predict(test_dataset)\n",
    "\n",
    "# Convert one-hot encoded predictions back to class labels\n",
    "predicted_labels = np.argmax(predictions, axis=1)\n",
    "\n",
    "# Calculate accuracy\n",
    "accuracy = accuracy_score(Y_test, predicted_labels)\n",
    "\n",
    "# Calculate F1 score\n",
    "f1 = f1_score(Y_test, predicted_labels, average='weighted')\n",
    "\n",
    "# Calculate confusion matrix\n",
    "conf_matrix = confusion_matrix(Y_test, predicted_labels)\n",
    "\n",
    "print(f\"Test Loss: {test_loss}\")\n",
    "print(f\"Test Accuracy: {test_accuracy}\")\n",
    "print(f\"Accuracy: {accuracy}\")\n",
    "print(f\"F1 Score: {f1}\")\n",
    "print(\"cohen_kappa_score :\")\n",
    "from sklearn.metrics import cohen_kappa_score\n",
    "k = cohen_kappa_score(Y_test, predicted_labels, weights='quadratic')\n",
    "print(k)"
   ]
  },
  {
   "cell_type": "code",
   "execution_count": null,
   "id": "e36d9482",
   "metadata": {},
   "outputs": [],
   "source": []
  },
  {
   "cell_type": "code",
   "execution_count": null,
   "id": "26a65728",
   "metadata": {},
   "outputs": [],
   "source": []
  },
  {
   "cell_type": "code",
   "execution_count": null,
   "id": "bc2399a8",
   "metadata": {},
   "outputs": [],
   "source": []
  },
  {
   "cell_type": "code",
   "execution_count": null,
   "id": "013f8666",
   "metadata": {},
   "outputs": [],
   "source": []
  }
 ],
 "metadata": {
  "kernelspec": {
   "display_name": "Python 3 (ipykernel)",
   "language": "python",
   "name": "python3"
  },
  "language_info": {
   "codemirror_mode": {
    "name": "ipython",
    "version": 3
   },
   "file_extension": ".py",
   "mimetype": "text/x-python",
   "name": "python",
   "nbconvert_exporter": "python",
   "pygments_lexer": "ipython3",
   "version": "3.8.18"
  }
 },
 "nbformat": 4,
 "nbformat_minor": 5
}
