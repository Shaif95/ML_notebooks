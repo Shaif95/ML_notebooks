{
 "cells": [
  {
   "cell_type": "code",
   "execution_count": 2,
   "id": "9f4e7c1f",
   "metadata": {},
   "outputs": [
    {
     "ename": "ImportError",
     "evalue": "cannot import name 'tf2' from 'tensorflow.python' (unknown location)",
     "output_type": "error",
     "traceback": [
      "\u001b[1;31m---------------------------------------------------------------------------\u001b[0m",
      "\u001b[1;31mImportError\u001b[0m                               Traceback (most recent call last)",
      "Cell \u001b[1;32mIn[2], line 5\u001b[0m\n\u001b[0;32m      3\u001b[0m \u001b[38;5;28;01mimport\u001b[39;00m \u001b[38;5;21;01mnumpy\u001b[39;00m \u001b[38;5;28;01mas\u001b[39;00m \u001b[38;5;21;01mnp\u001b[39;00m\n\u001b[0;32m      4\u001b[0m \u001b[38;5;28;01mimport\u001b[39;00m \u001b[38;5;21;01mrandom\u001b[39;00m\n\u001b[1;32m----> 5\u001b[0m \u001b[38;5;28;01mfrom\u001b[39;00m \u001b[38;5;21;01mkeras\u001b[39;00m\u001b[38;5;21;01m.\u001b[39;00m\u001b[38;5;21;01mutils\u001b[39;00m \u001b[38;5;28;01mimport\u001b[39;00m to_categorical\n\u001b[0;32m      7\u001b[0m \u001b[38;5;28;01mdef\u001b[39;00m \u001b[38;5;21mlist_subdirectories\u001b[39m(directory_path):\n\u001b[0;32m      8\u001b[0m     \u001b[38;5;28;01mtry\u001b[39;00m:\n",
      "File \u001b[1;32m~\\anaconda3\\envs\\tens\\lib\\site-packages\\keras\\__init__.py:21\u001b[0m\n\u001b[0;32m     15\u001b[0m \u001b[38;5;124;03m\"\"\"Implementation of the Keras API, the high-level API of TensorFlow.\u001b[39;00m\n\u001b[0;32m     16\u001b[0m \n\u001b[0;32m     17\u001b[0m \u001b[38;5;124;03mDetailed documentation and user guides are available at\u001b[39;00m\n\u001b[0;32m     18\u001b[0m \u001b[38;5;124;03m[keras.io](https://keras.io).\u001b[39;00m\n\u001b[0;32m     19\u001b[0m \u001b[38;5;124;03m\"\"\"\u001b[39;00m\n\u001b[0;32m     20\u001b[0m \u001b[38;5;66;03m# pylint: disable=unused-import\u001b[39;00m\n\u001b[1;32m---> 21\u001b[0m \u001b[38;5;28;01mfrom\u001b[39;00m \u001b[38;5;21;01mtensorflow\u001b[39;00m\u001b[38;5;21;01m.\u001b[39;00m\u001b[38;5;21;01mpython\u001b[39;00m \u001b[38;5;28;01mimport\u001b[39;00m tf2\n\u001b[0;32m     22\u001b[0m \u001b[38;5;28;01mfrom\u001b[39;00m \u001b[38;5;21;01mkeras\u001b[39;00m \u001b[38;5;28;01mimport\u001b[39;00m distribute\n\u001b[0;32m     24\u001b[0m \u001b[38;5;66;03m# See b/110718070#comment18 for more details about this import.\u001b[39;00m\n",
      "\u001b[1;31mImportError\u001b[0m: cannot import name 'tf2' from 'tensorflow.python' (unknown location)"
     ]
    }
   ],
   "source": [
    "import os\n",
    "from PIL import Image\n",
    "import numpy as np\n",
    "import random\n",
    "from keras.utils import to_categorical\n",
    "\n",
    "def list_subdirectories(directory_path):\n",
    "    try:\n",
    "        subdirectories = [f.path for f in os.scandir(directory_path) if f.is_dir()]\n",
    "        return subdirectories\n",
    "    except Exception as e:\n",
    "        return str(e)\n",
    "\n",
    "def list_all_subdirectories_with_images(parent_directory):\n",
    "    subdirectories = list_subdirectories(parent_directory)\n",
    "    XT = []  # List to store all images\n",
    "    YT = []  # List to store labels\n",
    "    YT_count = []\n",
    "    #print(subdirectories)\n",
    "    \n",
    "    label= 0\n",
    "    length_list = []\n",
    "    for s in subdirectories:\n",
    "        \n",
    "        sub = [f.path for f in os.scandir(s) if f.is_dir()]\n",
    "        #print(sub)\n",
    "        for f in sub:\n",
    "            count = 0\n",
    "            for img_path in os.listdir(f):\n",
    "            \n",
    "                if img_path.lower().endswith(('.png', '.jpg', '.jpeg', '.gif', '.bmp')):\n",
    "                    img = Image.open(os.path.join(f, img_path))\n",
    "                    if img.mode != 'RGB':\n",
    "                        img = img.convert('RGB')\n",
    "                    img = img.resize((32, 32), Image.ANTIALIAS)\n",
    "                    img = np.array(img).astype('float32') / 255.0\n",
    "                    XT.append(img)\n",
    "                    count = count + 1\n",
    "                    YT.append(label)\n",
    "                #print(np.shape(lst))\n",
    "            length_list.append(count)\n",
    "            YT_count.append(label)\n",
    "        label=label+1    \n",
    "                \n",
    "        \n",
    "    \n",
    "    return XT, YT, YT_count, length_list\n",
    "\n",
    "\n",
    "# Example usage:\n",
    "directory_path = r'C:\\Users\\shaif\\Downloads\\Compressed\\To Baylor 2023-01-30\\To Baylor 2023-01-30'\n",
    "images_list, YT, YT_count, lengths_list = list_all_subdirectories_with_images(directory_path)\n",
    "\n",
    "import random\n",
    "combined_data = list(zip(images_list, YT))\n",
    "random.shuffle(combined_data)\n",
    "images_list, YT = zip(*combined_data)\n",
    "\n",
    "\n",
    "from keras.utils import to_categorical\n",
    "yt = to_categorical(YT)\n",
    "ytc = to_categorical(YT_count)\n",
    "\n",
    "\n",
    "k = int(.7 * len(lengths_list))\n",
    "\n",
    "\n",
    "# Define the number of samples for testing\n",
    "num_test_samples = np.sum(lengths_list[k:])\n",
    "# Split the lists\n",
    "X_test = images_list[:num_test_samples]\n",
    "Y_test = yt[:num_test_samples]\n",
    "X_train = images_list[num_test_samples:]\n",
    "Y_train = yt[num_test_samples:]"
   ]
  },
  {
   "cell_type": "code",
   "execution_count": null,
   "id": "8cc6665a",
   "metadata": {},
   "outputs": [],
   "source": [
    "from tensorflow import keras\n",
    "\n",
    "from tensorflow.keras.applications import ResNet50\n",
    "from tensorflow.keras.models import Sequential\n",
    "from tensorflow.keras.layers import Dense, GlobalAveragePooling1D\n",
    "model = bm.model\n",
    "model.layers[0].trainable = False\n",
    "x = model.layers[-1].output  # Access the last 4th layer from the end\n",
    "output = Dense(2, activation='softmax')(x)\n",
    "\n",
    "new_model = keras.models.Model(inputs=model.input, outputs=output)\n",
    "new_model.compile(optimizer='Adam', loss='categorical_crossentropy', metrics=['accuracy'])\n",
    "new_model.fit(np.array(X_train).astype('float32'),Y_train, batch_size=32, epochs=20, validation_split = .2)\n"
   ]
  },
  {
   "cell_type": "code",
   "execution_count": null,
   "id": "60e3d36c",
   "metadata": {},
   "outputs": [],
   "source": []
  },
  {
   "cell_type": "code",
   "execution_count": null,
   "id": "6502d675",
   "metadata": {},
   "outputs": [],
   "source": [
    "\n",
    "from sklearn.metrics import accuracy_score\n",
    "\n",
    "predictions = new_model.predict(np.array(X_test).astype('float32'))\n",
    "accuracy = accuracy_score(np.argmax(Y_test,axis = 1),np.argmax(predictions,axis = 1))\n",
    "print(\"Test Accuracy:\", accuracy)\n",
    "from sklearn.metrics import accuracy_score, balanced_accuracy_score\n",
    "\n",
    "# Assuming you have ground truth labels in Y_test and predicted labels in predictions\n",
    "ground_truth_labels = np.argmax(Y_test, axis=1)\n",
    "predicted_labels = np.argmax(predictions, axis=1)\n",
    "\n",
    "# Calculate balanced accuracy\n",
    "balanced_accuracy = balanced_accuracy_score(ground_truth_labels, predicted_labels)\n",
    "\n",
    "# Print the balanced accuracy\n",
    "print(\"Balanced Accuracy:\", balanced_accuracy)\n"
   ]
  },
  {
   "cell_type": "code",
   "execution_count": null,
   "id": "8be73a2f",
   "metadata": {},
   "outputs": [],
   "source": []
  },
  {
   "cell_type": "code",
   "execution_count": null,
   "id": "89185e4e",
   "metadata": {},
   "outputs": [],
   "source": []
  },
  {
   "cell_type": "code",
   "execution_count": null,
   "id": "631c14e3",
   "metadata": {},
   "outputs": [],
   "source": []
  },
  {
   "cell_type": "code",
   "execution_count": null,
   "id": "5c173dc5",
   "metadata": {},
   "outputs": [],
   "source": []
  },
  {
   "cell_type": "code",
   "execution_count": null,
   "id": "4bf8bc2f",
   "metadata": {},
   "outputs": [],
   "source": []
  },
  {
   "cell_type": "code",
   "execution_count": null,
   "id": "b8c2faa5",
   "metadata": {},
   "outputs": [],
   "source": []
  },
  {
   "cell_type": "code",
   "execution_count": null,
   "id": "3509390f",
   "metadata": {},
   "outputs": [],
   "source": []
  },
  {
   "cell_type": "code",
   "execution_count": null,
   "id": "a6746648",
   "metadata": {},
   "outputs": [],
   "source": []
  },
  {
   "cell_type": "code",
   "execution_count": null,
   "id": "f0059f56",
   "metadata": {},
   "outputs": [],
   "source": []
  },
  {
   "cell_type": "code",
   "execution_count": null,
   "id": "f92b40e9",
   "metadata": {},
   "outputs": [],
   "source": []
  },
  {
   "cell_type": "code",
   "execution_count": null,
   "id": "d2124dbb",
   "metadata": {},
   "outputs": [],
   "source": []
  },
  {
   "cell_type": "code",
   "execution_count": null,
   "id": "bf8dcffa",
   "metadata": {},
   "outputs": [],
   "source": []
  },
  {
   "cell_type": "code",
   "execution_count": null,
   "id": "c89467c8",
   "metadata": {},
   "outputs": [],
   "source": []
  },
  {
   "cell_type": "code",
   "execution_count": null,
   "id": "c0e664f0",
   "metadata": {},
   "outputs": [],
   "source": []
  },
  {
   "cell_type": "code",
   "execution_count": null,
   "id": "529984d0",
   "metadata": {},
   "outputs": [],
   "source": []
  }
 ],
 "metadata": {
  "kernelspec": {
   "display_name": "Python 3 (ipykernel)",
   "language": "python",
   "name": "python3"
  },
  "language_info": {
   "codemirror_mode": {
    "name": "ipython",
    "version": 3
   },
   "file_extension": ".py",
   "mimetype": "text/x-python",
   "name": "python",
   "nbconvert_exporter": "python",
   "pygments_lexer": "ipython3",
   "version": "3.8.18"
  }
 },
 "nbformat": 4,
 "nbformat_minor": 5
}
