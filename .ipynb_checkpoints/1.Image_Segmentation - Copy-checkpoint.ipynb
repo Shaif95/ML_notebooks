{
 "cells": [
  {
   "cell_type": "code",
   "execution_count": null,
   "id": "235db8ca",
   "metadata": {},
   "outputs": [],
   "source": [
    "pip install -U albumentations"
   ]
  },
  {
   "cell_type": "code",
   "execution_count": 86,
   "id": "221b540c",
   "metadata": {},
   "outputs": [],
   "source": [
    "import os\n",
    "import numpy as np\n",
    "from tensorflow.keras.utils import Sequence\n",
    "from PIL import Image\n",
    "\n",
    "class ImageDataGenerator(Sequence):\n",
    "    def __init__(self, image_filenames, mask_filenames, image_size=(160, 160), batch_size=32, shuffle=True):\n",
    "        self.image_filenames = image_filenames\n",
    "        self.mask_filenames = mask_filenames\n",
    "        self.image_size = image_size\n",
    "        self.batch_size = batch_size\n",
    "        self.shuffle = shuffle\n",
    "        self.on_epoch_end()\n",
    "\n",
    "    def __len__(self):\n",
    "        return int(np.ceil(len(self.image_filenames) / float(self.batch_size)))\n",
    "\n",
    "    def on_epoch_end(self):\n",
    "        if self.shuffle:\n",
    "            zipped_lists = list(zip(self.image_filenames, self.mask_filenames))\n",
    "            np.random.shuffle(zipped_lists)\n",
    "            self.image_filenames, self.mask_filenames = zip(*zipped_lists)\n",
    "\n",
    "    def __getitem__(self, idx):\n",
    "        batch_x_indices = self.image_filenames[idx * self.batch_size:(idx + 1) * self.batch_size]\n",
    "        batch_y_indices = self.mask_filenames[idx * self.batch_size:(idx + 1) * self.batch_size]\n",
    "        \n",
    "        batch_x = np.array([self.transform_image(Image.open(fname).resize(self.image_size)) for fname in batch_x_indices])\n",
    "        batch_y = np.array([self.transform_mask(Image.open(fname).resize(self.image_size)) for fname in batch_y_indices])\n",
    "        \n",
    "        return batch_x, batch_y\n",
    "\n",
    "    def transform_image(self, img):\n",
    "        if img.mode != 'RGB':\n",
    "            img = img.convert('RGB')\n",
    "        img = np.array(img, dtype=np.float32)\n",
    "        img /= 255.0\n",
    "        return img\n",
    "\n",
    "    def transform_mask(self, img):\n",
    "        if img.mode != 'L':\n",
    "            img = img.convert('L')\n",
    "        img = np.array(img, dtype=np.float32)\n",
    "        img /= 255.0\n",
    "        img = np.round(img)\n",
    "        return img\n",
    "\n",
    "import os\n",
    "\n",
    "def load_filenames(image_dir, mask_dir):\n",
    "    image_filenames = sorted([os.path.join(image_dir, fname) for fname in os.listdir(image_dir)])\n",
    "    mask_filenames = sorted([os.path.join(mask_dir, fname) for fname in os.listdir(mask_dir)])\n",
    "    \n",
    "    # Assuming filenames without the directory and extension are the same for images and masks:\n",
    "    image_filenames.sort(key=lambda x: os.path.splitext(os.path.basename(x))[0])\n",
    "    mask_filenames.sort(key=lambda x: os.path.splitext(os.path.basename(x))[0])\n",
    "    \n",
    "    return image_filenames, mask_filenames\n",
    "\n",
    "# Load filenames\n",
    "image_dir = r'C:\\Users\\shaif\\Downloads\\Compressed\\DUTS-TE\\DUTS-TE\\DUTS-TE-Image'\n",
    "mask_dir = r'C:\\Users\\shaif\\Downloads\\Compressed\\DUTS-TE\\DUTS-TE\\DUTS-TE-Mask'\n",
    "image_filenames, mask_filenames = load_filenames(image_dir, mask_dir)\n",
    "\n",
    "# Verify that images and masks are correctly matched\n",
    "for img, mask in zip(image_filenames, mask_filenames):\n",
    "    assert os.path.splitext(os.path.basename(img))[0] == os.path.splitext(os.path.basename(mask))[0], \"Mismatched files\"\n",
    "\n",
    "# Shuffle and split the data\n",
    "indices = list(range(len(image_filenames)))\n",
    "np.random.shuffle(indices)\n",
    "split_idx = int(0.8 * len(indices))  # 80% training, 20% validation\n",
    "\n",
    "train_image_filenames = [image_filenames[i] for i in indices[:split_idx]]\n",
    "train_mask_filenames = [mask_filenames[i] for i in indices[:split_idx]]\n",
    "val_image_filenames = [image_filenames[i] for i in indices[split_idx:]]\n",
    "val_mask_filenames = [mask_filenames[i] for i in indices[split_idx:]]\n",
    "\n",
    "# Create data generators\n",
    "train_gen = ImageDataGenerator(train_image_filenames, train_mask_filenames)\n",
    "val_gen = ImageDataGenerator(val_image_filenames, val_mask_filenames)\n"
   ]
  },
  {
   "cell_type": "code",
   "execution_count": null,
   "id": "d2bad53b",
   "metadata": {},
   "outputs": [],
   "source": []
  },
  {
   "cell_type": "code",
   "execution_count": 107,
   "id": "8bcb8852",
   "metadata": {},
   "outputs": [
    {
     "name": "stdout",
     "output_type": "stream",
     "text": [
      "Loaded 5019 images and 5019 masks\n"
     ]
    }
   ],
   "source": [
    "import os\n",
    "from PIL import Image\n",
    "import numpy as np\n",
    "\n",
    "# Directories containing the images and masks\n",
    "image_dir = r'C:\\Users\\shaif\\Downloads\\Compressed\\DUTS-TE\\DUTS-TE\\DUTS-TE-Image'\n",
    "mask_dir = r'C:\\Users\\shaif\\Downloads\\Compressed\\DUTS-TE\\DUTS-TE\\DUTS-TE-Mask'\n",
    "\n",
    "# Function to load images from a directory into a list\n",
    "def load_images(directory, is_mask=False):\n",
    "    images = []\n",
    "    filenames = sorted(os.listdir(directory))  # Sorting to ensure matching images and masks\n",
    "    for filename in filenames:\n",
    "        if filename.endswith(('.jpg', '.png')):  # Check for both jpg and png files\n",
    "            file_path = os.path.join(directory, filename)\n",
    "            image = Image.open(file_path)\n",
    "            if is_mask:\n",
    "                image = image.convert('L')  # Convert mask to grayscale\n",
    "            image = image.resize((224, 224))  # Resize images if required\n",
    "            images.append(np.array(image))\n",
    "    return images\n",
    "\n",
    "# Load images and masks\n",
    "x_train = load_images(image_dir)\n",
    "y_train = load_images(mask_dir, is_mask=True)\n",
    "\n",
    "# Convert lists to numpy arrays if needed\n",
    "x_train = np.array(x_train)\n",
    "y_train = np.array(y_train)\n",
    "\n",
    "print(f'Loaded {len(x_train)} images and {len(y_train)} masks')\n"
   ]
  },
  {
   "cell_type": "code",
   "execution_count": 108,
   "id": "6d892b7c",
   "metadata": {},
   "outputs": [],
   "source": [
    "y_train= y_train/255\n",
    "x_train= x_train/255\n",
    "\n",
    "X_train, X_val, y_train, y_val = train_test_split(x_train, y_train, test_size=0.2)\n",
    "batch_size = 128"
   ]
  },
  {
   "cell_type": "code",
   "execution_count": null,
   "id": "8488b6fe",
   "metadata": {},
   "outputs": [],
   "source": []
  },
  {
   "cell_type": "code",
   "execution_count": null,
   "id": "cad2c883",
   "metadata": {},
   "outputs": [],
   "source": []
  },
  {
   "cell_type": "code",
   "execution_count": 90,
   "id": "76304bfd",
   "metadata": {},
   "outputs": [],
   "source": []
  },
  {
   "cell_type": "code",
   "execution_count": null,
   "id": "9a9640e4",
   "metadata": {},
   "outputs": [],
   "source": []
  },
  {
   "cell_type": "code",
   "execution_count": 114,
   "id": "ab081331",
   "metadata": {},
   "outputs": [],
   "source": []
  },
  {
   "cell_type": "code",
   "execution_count": null,
   "id": "dc0cbe38",
   "metadata": {},
   "outputs": [],
   "source": []
  },
  {
   "cell_type": "code",
   "execution_count": null,
   "id": "c6e696c5",
   "metadata": {},
   "outputs": [],
   "source": []
  },
  {
   "cell_type": "code",
   "execution_count": null,
   "id": "e04c54a9",
   "metadata": {},
   "outputs": [],
   "source": []
  },
  {
   "cell_type": "code",
   "execution_count": 73,
   "id": "c47dd760",
   "metadata": {},
   "outputs": [],
   "source": []
  },
  {
   "cell_type": "code",
   "execution_count": null,
   "id": "a94bef9a",
   "metadata": {},
   "outputs": [],
   "source": []
  },
  {
   "cell_type": "code",
   "execution_count": null,
   "id": "ecd6f8e0",
   "metadata": {},
   "outputs": [],
   "source": []
  },
  {
   "cell_type": "code",
   "execution_count": null,
   "id": "b7901743",
   "metadata": {},
   "outputs": [],
   "source": []
  },
  {
   "cell_type": "code",
   "execution_count": null,
   "id": "f4d13131",
   "metadata": {},
   "outputs": [],
   "source": []
  },
  {
   "cell_type": "code",
   "execution_count": null,
   "id": "162d9312",
   "metadata": {},
   "outputs": [],
   "source": []
  },
  {
   "cell_type": "code",
   "execution_count": null,
   "id": "94d132ee",
   "metadata": {},
   "outputs": [],
   "source": []
  },
  {
   "cell_type": "code",
   "execution_count": null,
   "id": "0cd40f62",
   "metadata": {},
   "outputs": [],
   "source": []
  },
  {
   "cell_type": "code",
   "execution_count": null,
   "id": "ec1c42cb",
   "metadata": {},
   "outputs": [],
   "source": []
  },
  {
   "cell_type": "code",
   "execution_count": null,
   "id": "7dd846f1",
   "metadata": {},
   "outputs": [],
   "source": []
  },
  {
   "cell_type": "code",
   "execution_count": null,
   "id": "cf72f41c",
   "metadata": {},
   "outputs": [],
   "source": []
  },
  {
   "cell_type": "code",
   "execution_count": null,
   "id": "5fadf02b",
   "metadata": {},
   "outputs": [],
   "source": []
  },
  {
   "cell_type": "code",
   "execution_count": null,
   "id": "734b90da",
   "metadata": {},
   "outputs": [],
   "source": []
  },
  {
   "cell_type": "code",
   "execution_count": null,
   "id": "05dc819e",
   "metadata": {},
   "outputs": [],
   "source": []
  },
  {
   "cell_type": "code",
   "execution_count": null,
   "id": "f816f767",
   "metadata": {},
   "outputs": [],
   "source": []
  },
  {
   "cell_type": "code",
   "execution_count": null,
   "id": "b6b4c305",
   "metadata": {},
   "outputs": [],
   "source": []
  },
  {
   "cell_type": "code",
   "execution_count": null,
   "id": "6d6c22f3",
   "metadata": {},
   "outputs": [],
   "source": []
  },
  {
   "cell_type": "code",
   "execution_count": null,
   "id": "56f964a7",
   "metadata": {},
   "outputs": [],
   "source": []
  },
  {
   "cell_type": "code",
   "execution_count": null,
   "id": "6e3fdac2",
   "metadata": {},
   "outputs": [],
   "source": []
  },
  {
   "cell_type": "code",
   "execution_count": null,
   "id": "936c0515",
   "metadata": {},
   "outputs": [],
   "source": []
  },
  {
   "cell_type": "code",
   "execution_count": null,
   "id": "72e55f36",
   "metadata": {},
   "outputs": [],
   "source": []
  }
 ],
 "metadata": {
  "kernelspec": {
   "display_name": "Python 3 (ipykernel)",
   "language": "python",
   "name": "python3"
  },
  "language_info": {
   "codemirror_mode": {
    "name": "ipython",
    "version": 3
   },
   "file_extension": ".py",
   "mimetype": "text/x-python",
   "name": "python",
   "nbconvert_exporter": "python",
   "pygments_lexer": "ipython3",
   "version": "3.8.18"
  }
 },
 "nbformat": 4,
 "nbformat_minor": 5
}
