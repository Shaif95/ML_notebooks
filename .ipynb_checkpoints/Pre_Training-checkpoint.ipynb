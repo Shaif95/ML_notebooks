{
 "cells": [
  {
   "cell_type": "code",
   "execution_count": 1,
   "id": "3a78b9b6",
   "metadata": {},
   "outputs": [
    {
     "name": "stdout",
     "output_type": "stream",
     "text": [
      "Combo list loaded successfully.\n",
      "['D:/data/imagenet\\\\n03450230\\\\', 'D:/data/imagenet\\\\n04273569\\\\', 'D:/data/imagenet\\\\n07836838\\\\', 'D:/data/imagenet\\\\n02510455\\\\', 'D:/data/imagenet\\\\n04146614\\\\', 'D:/data/imagenet\\\\n02085782\\\\', 'D:/data/imagenet\\\\n02328150\\\\', 'D:/data/imagenet\\\\n01491361\\\\', 'D:/data/imagenet\\\\n01776313\\\\', 'D:/data/imagenet\\\\n04392985\\\\', 'D:/data/imagenet\\\\n03590841\\\\', 'D:/data/imagenet\\\\n02667093\\\\', 'D:/data/imagenet\\\\n03344393\\\\', 'D:/data/imagenet\\\\n04525305\\\\', 'D:/data/imagenet\\\\n03769881\\\\', 'D:/data/imagenet\\\\n03459775\\\\', 'D:/data/imagenet\\\\n07831146\\\\', 'D:/data/imagenet\\\\n03197337\\\\', 'D:/data/imagenet\\\\n04591157\\\\', 'D:/data/imagenet\\\\n04069434\\\\', 'D:/data/imagenet\\\\n03393912\\\\', 'D:/data/imagenet\\\\n02018795\\\\', 'D:/data/imagenet\\\\n03692522\\\\', 'D:/data/imagenet\\\\n02100877\\\\', 'D:/data/imagenet\\\\n03494278\\\\', 'D:/data/imagenet\\\\n02009912\\\\', 'D:/data/imagenet\\\\n03127747\\\\', 'D:/data/imagenet\\\\n03180011\\\\', 'D:/data/imagenet\\\\n10148035\\\\', 'D:/data/imagenet\\\\n03314780\\\\', 'D:/data/imagenet\\\\n09421951\\\\', 'D:/data/imagenet\\\\n03930630\\\\', 'D:/data/imagenet\\\\n04515003\\\\', 'D:/data/imagenet\\\\n04418357\\\\', 'D:/data/imagenet\\\\n09288635\\\\', 'D:/data/imagenet\\\\n01798484\\\\', 'D:/data/imagenet\\\\n11939491\\\\', 'D:/data/imagenet\\\\n02093647\\\\', 'D:/data/imagenet\\\\n03787032\\\\', 'D:/data/imagenet\\\\n03706229\\\\', 'D:/data/imagenet\\\\n11879895\\\\', 'D:/data/imagenet\\\\n07920052\\\\', 'D:/data/imagenet\\\\n03250847\\\\', 'D:/data/imagenet\\\\n04604644\\\\', 'D:/data/imagenet\\\\n04428191\\\\', 'D:/data/imagenet\\\\n03670208\\\\', 'D:/data/imagenet\\\\n04579432\\\\', 'D:/data/imagenet\\\\n04326547\\\\', 'D:/data/imagenet\\\\n03967562\\\\', 'D:/data/imagenet\\\\n02488702\\\\', 'D:/data/imagenet\\\\n04243546\\\\', 'D:/data/imagenet\\\\n02749479\\\\', 'D:/data/imagenet\\\\n04336792\\\\', 'D:/data/imagenet\\\\n03733281\\\\', 'D:/data/imagenet\\\\n03016953\\\\', 'D:/data/imagenet\\\\n04479046\\\\', 'D:/data/imagenet\\\\n04483307\\\\', 'D:/data/imagenet\\\\n07579787\\\\', 'D:/data/imagenet\\\\n04019541\\\\', 'D:/data/imagenet\\\\n01968897\\\\', 'D:/data/imagenet\\\\n01950731\\\\', 'D:/data/imagenet\\\\n09468604\\\\', 'D:/data/imagenet\\\\n02422699\\\\', 'D:/data/imagenet\\\\n04147183\\\\', 'D:/data/imagenet\\\\n02109525\\\\', 'D:/data/imagenet\\\\n02105641\\\\', 'D:/data/imagenet\\\\n02106166\\\\', 'D:/data/imagenet\\\\n02097130\\\\', 'D:/data/imagenet\\\\n01685808\\\\', 'D:/data/imagenet\\\\n04328186\\\\', 'D:/data/imagenet\\\\n03717622\\\\', 'D:/data/imagenet\\\\n02916936\\\\', 'D:/data/imagenet\\\\n03874293\\\\', 'D:/data/imagenet\\\\n01910747\\\\', 'D:/data/imagenet\\\\n03272562\\\\', 'D:/data/imagenet\\\\n02948072\\\\', 'D:/data/imagenet\\\\n01697457\\\\', 'D:/data/imagenet\\\\n04264628\\\\', 'D:/data/imagenet\\\\n02095314\\\\', 'D:/data/imagenet\\\\n02111889\\\\', 'D:/data/imagenet\\\\n02655020\\\\', 'D:/data/imagenet\\\\n03796401\\\\', 'D:/data/imagenet\\\\n09428293\\\\', 'D:/data/imagenet\\\\n02981792\\\\', 'D:/data/imagenet\\\\n04239074\\\\', 'D:/data/imagenet\\\\n02841315\\\\', 'D:/data/imagenet\\\\n03662601\\\\', 'D:/data/imagenet\\\\n01644373\\\\', 'D:/data/imagenet\\\\n07565083\\\\', 'D:/data/imagenet\\\\n03485407\\\\', 'D:/data/imagenet\\\\n03673027\\\\', 'D:/data/imagenet\\\\n03207743\\\\', 'D:/data/imagenet\\\\n02099429\\\\', 'D:/data/imagenet\\\\n01484850\\\\', 'D:/data/imagenet\\\\n02690373\\\\', 'D:/data/imagenet\\\\n07932039\\\\', 'D:/data/imagenet\\\\n03347037\\\\', 'D:/data/imagenet\\\\n07697313\\\\', 'D:/data/imagenet\\\\n04162706\\\\', 'D:/data/imagenet\\\\n03594734\\\\', 'D:/data/imagenet\\\\n02883205\\\\', 'D:/data/imagenet\\\\n03400231\\\\', 'D:/data/imagenet\\\\n01795545\\\\', 'D:/data/imagenet\\\\n02105056\\\\', 'D:/data/imagenet\\\\n03240683\\\\', 'D:/data/imagenet\\\\n04252077\\\\', 'D:/data/imagenet\\\\n04356056\\\\', 'D:/data/imagenet\\\\n02028035\\\\', 'D:/data/imagenet\\\\n09332890\\\\', 'D:/data/imagenet\\\\n02074367\\\\', 'D:/data/imagenet\\\\n02894605\\\\', 'D:/data/imagenet\\\\n01601694\\\\', 'D:/data/imagenet\\\\n04252225\\\\', 'D:/data/imagenet\\\\n04152593\\\\', 'D:/data/imagenet\\\\n02037110\\\\', 'D:/data/imagenet\\\\n02099267\\\\', 'D:/data/imagenet\\\\n02027492\\\\', 'D:/data/imagenet\\\\n04350905\\\\', 'D:/data/imagenet\\\\n02769748\\\\', 'D:/data/imagenet\\\\n04286575\\\\', 'D:/data/imagenet\\\\n02483708\\\\', 'D:/data/imagenet\\\\n04404412\\\\', 'D:/data/imagenet\\\\n02281406\\\\', 'D:/data/imagenet\\\\n04044716\\\\', 'D:/data/imagenet\\\\n04275548\\\\', 'D:/data/imagenet\\\\n03788365\\\\', 'D:/data/imagenet\\\\n01843383\\\\', 'D:/data/imagenet\\\\n04550184\\\\', 'D:/data/imagenet\\\\n03617480\\\\', 'D:/data/imagenet\\\\n04209239\\\\', 'D:/data/imagenet\\\\n02669723\\\\', 'D:/data/imagenet\\\\n03998194\\\\', 'D:/data/imagenet\\\\n02892201\\\\', 'D:/data/imagenet\\\\n03297495\\\\', 'D:/data/imagenet\\\\n03792972\\\\', 'D:/data/imagenet\\\\n04552348\\\\', 'D:/data/imagenet\\\\n01689811\\\\', 'D:/data/imagenet\\\\n02233338\\\\', 'D:/data/imagenet\\\\n01773549\\\\', 'D:/data/imagenet\\\\n06359193\\\\', 'D:/data/imagenet\\\\n01855032\\\\', 'D:/data/imagenet\\\\n12985857\\\\', 'D:/data/imagenet\\\\n03691459\\\\', 'D:/data/imagenet\\\\n02108551\\\\', 'D:/data/imagenet\\\\n02025239\\\\', 'D:/data/imagenet\\\\n04613696\\\\', 'D:/data/imagenet\\\\n02699494\\\\', 'D:/data/imagenet\\\\n04310018\\\\', 'D:/data/imagenet\\\\n01582220\\\\', 'D:/data/imagenet\\\\n03424325\\\\', 'D:/data/imagenet\\\\n03100240\\\\', 'D:/data/imagenet\\\\n01807496\\\\', 'D:/data/imagenet\\\\n07860988\\\\', 'D:/data/imagenet\\\\n02280649\\\\', 'D:/data/imagenet\\\\n03089624\\\\', 'D:/data/imagenet\\\\n02107683\\\\', 'D:/data/imagenet\\\\n03485794\\\\', 'D:/data/imagenet\\\\n02500267\\\\', 'D:/data/imagenet\\\\n02006656\\\\', 'D:/data/imagenet\\\\n01622779\\\\', 'D:/data/imagenet\\\\n07802026\\\\', 'D:/data/imagenet\\\\n03478589\\\\', 'D:/data/imagenet\\\\n09399592\\\\', 'D:/data/imagenet\\\\n04023962\\\\', 'D:/data/imagenet\\\\n02090721\\\\', 'D:/data/imagenet\\\\n02096585\\\\', 'D:/data/imagenet\\\\n03216828\\\\', 'D:/data/imagenet\\\\n03208938\\\\', 'D:/data/imagenet\\\\n02951358\\\\', 'D:/data/imagenet\\\\n02095889\\\\', 'D:/data/imagenet\\\\n03160309\\\\', 'D:/data/imagenet\\\\n10565667\\\\', 'D:/data/imagenet\\\\n02860847\\\\', 'D:/data/imagenet\\\\n02730930\\\\', 'D:/data/imagenet\\\\n01494475\\\\', 'D:/data/imagenet\\\\n03788195\\\\', 'D:/data/imagenet\\\\n03496892\\\\', 'D:/data/imagenet\\\\n01882714\\\\', 'D:/data/imagenet\\\\n02817516\\\\', 'D:/data/imagenet\\\\n02101556\\\\', 'D:/data/imagenet\\\\n03825788\\\\', 'D:/data/imagenet\\\\n02804610\\\\', 'D:/data/imagenet\\\\n03958227\\\\', 'D:/data/imagenet\\\\n01737021\\\\', 'D:/data/imagenet\\\\n04584207\\\\', 'D:/data/imagenet\\\\n02086646\\\\', 'D:/data/imagenet\\\\n03095699\\\\', 'D:/data/imagenet\\\\n02018207\\\\', 'D:/data/imagenet\\\\n04486054\\\\', 'D:/data/imagenet\\\\n12057211\\\\', 'D:/data/imagenet\\\\n03404251\\\\', 'D:/data/imagenet\\\\n02033041\\\\', 'D:/data/imagenet\\\\n01498041\\\\', 'D:/data/imagenet\\\\n04259630\\\\', 'D:/data/imagenet\\\\n02104029\\\\', 'D:/data/imagenet\\\\n03947888\\\\', 'D:/data/imagenet\\\\n02423022\\\\', 'D:/data/imagenet\\\\n03337140\\\\', 'D:/data/imagenet\\\\n01496331\\\\', 'D:/data/imagenet\\\\n03929855\\\\', 'D:/data/imagenet\\\\n02445715\\\\', 'D:/data/imagenet\\\\n04355933\\\\', 'D:/data/imagenet\\\\n02130308\\\\', 'D:/data/imagenet\\\\n03223299\\\\', 'D:/data/imagenet\\\\n02102973\\\\', 'D:/data/imagenet\\\\n02704792\\\\', 'D:/data/imagenet\\\\n03977966\\\\', 'D:/data/imagenet\\\\n03782006\\\\', 'D:/data/imagenet\\\\n02105162\\\\', 'D:/data/imagenet\\\\n03345487\\\\', 'D:/data/imagenet\\\\n03109150\\\\', 'D:/data/imagenet\\\\n03902125\\\\', 'D:/data/imagenet\\\\n02110627\\\\', 'D:/data/imagenet\\\\n03814639\\\\', 'D:/data/imagenet\\\\n02397096\\\\', 'D:/data/imagenet\\\\n03776460\\\\', 'D:/data/imagenet\\\\n01914609\\\\', 'D:/data/imagenet\\\\n03018349\\\\', 'D:/data/imagenet\\\\n03131574\\\\', 'D:/data/imagenet\\\\n02134418\\\\', 'D:/data/imagenet\\\\n03976467\\\\', 'D:/data/imagenet\\\\n02117135\\\\', 'D:/data/imagenet\\\\n01873310\\\\', 'D:/data/imagenet\\\\n02791270\\\\', 'D:/data/imagenet\\\\n01739381\\\\', 'D:/data/imagenet\\\\n02326432\\\\', 'D:/data/imagenet\\\\n02492660\\\\', 'D:/data/imagenet\\\\n02325366\\\\', 'D:/data/imagenet\\\\n03188531\\\\', 'D:/data/imagenet\\\\n04041544\\\\', 'D:/data/imagenet\\\\n02111277\\\\', 'D:/data/imagenet\\\\n02687172\\\\', 'D:/data/imagenet\\\\n04435653\\\\', 'D:/data/imagenet\\\\n02108000\\\\', 'D:/data/imagenet\\\\n02980441\\\\', 'D:/data/imagenet\\\\n02167151\\\\', 'D:/data/imagenet\\\\n02814533\\\\', 'D:/data/imagenet\\\\n03742115\\\\', 'D:/data/imagenet\\\\n04229816\\\\', 'D:/data/imagenet\\\\n01698640\\\\', 'D:/data/imagenet\\\\n03388043\\\\', 'D:/data/imagenet\\\\n04501370\\\\', 'D:/data/imagenet\\\\n09193705\\\\', 'D:/data/imagenet\\\\n09246464\\\\', 'D:/data/imagenet\\\\n02093859\\\\', 'D:/data/imagenet\\\\n04285008\\\\', 'D:/data/imagenet\\\\n03888257\\\\', 'D:/data/imagenet\\\\n01695060\\\\', 'D:/data/imagenet\\\\n02794156\\\\', 'D:/data/imagenet\\\\n02398521\\\\', 'D:/data/imagenet\\\\n07880968\\\\', 'D:/data/imagenet\\\\n04606251\\\\', 'D:/data/imagenet\\\\n04589890\\\\', 'D:/data/imagenet\\\\n09256479\\\\', 'D:/data/imagenet\\\\n09472597\\\\', 'D:/data/imagenet\\\\n02834397\\\\', 'D:/data/imagenet\\\\n04090263\\\\', 'D:/data/imagenet\\\\n02859443\\\\', 'D:/data/imagenet\\\\n03584254\\\\', 'D:/data/imagenet\\\\n01631663\\\\', 'D:/data/imagenet\\\\n04344873\\\\', 'D:/data/imagenet\\\\n02486410\\\\', 'D:/data/imagenet\\\\n02606052\\\\', 'D:/data/imagenet\\\\n04487081\\\\', 'D:/data/imagenet\\\\n02276258\\\\', 'D:/data/imagenet\\\\n04612504\\\\', 'D:/data/imagenet\\\\n02129165\\\\', 'D:/data/imagenet\\\\n02454379\\\\', 'D:/data/imagenet\\\\n04335435\\\\', 'D:/data/imagenet\\\\n04592741\\\\', 'D:/data/imagenet\\\\n01753488\\\\', 'D:/data/imagenet\\\\n02009229\\\\', 'D:/data/imagenet\\\\n02281787\\\\', 'D:/data/imagenet\\\\n04238763\\\\', 'D:/data/imagenet\\\\n01751748\\\\', 'D:/data/imagenet\\\\n03868242\\\\', 'D:/data/imagenet\\\\n02422106\\\\', 'D:/data/imagenet\\\\n02115913\\\\', 'D:/data/imagenet\\\\n04467665\\\\', 'D:/data/imagenet\\\\n01592084\\\\', 'D:/data/imagenet\\\\n01665541\\\\', 'D:/data/imagenet\\\\n02011460\\\\', 'D:/data/imagenet\\\\n03290653\\\\', 'D:/data/imagenet\\\\n02701002\\\\', 'D:/data/imagenet\\\\n03792782\\\\', 'D:/data/imagenet\\\\n02119022\\\\', 'D:/data/imagenet\\\\n03042490\\\\', 'D:/data/imagenet\\\\n01770081\\\\', 'D:/data/imagenet\\\\n02066245\\\\', 'D:/data/imagenet\\\\n01692333\\\\', 'D:/data/imagenet\\\\n01917289\\\\', 'D:/data/imagenet\\\\n02268853\\\\', 'D:/data/imagenet\\\\n01984695\\\\', 'D:/data/imagenet\\\\n04204347\\\\', 'D:/data/imagenet\\\\n02119789\\\\', 'D:/data/imagenet\\\\n01443537\\\\', 'D:/data/imagenet\\\\n02114855\\\\', 'D:/data/imagenet\\\\n03127925\\\\', 'D:/data/imagenet\\\\n01796340\\\\', 'D:/data/imagenet\\\\n02120505\\\\']\n"
     ]
    }
   ],
   "source": [
    "import pickle\n",
    "\n",
    "# Loading the list from the pickle file\n",
    "file_path = r\"D:\\combo_list.pickle\"  # Update the file path if necessary\n",
    "\n",
    "with open(file_path, 'rb') as file:\n",
    "    loaded_combo_list = pickle.load(file)\n",
    "\n",
    "print(\"Combo list loaded successfully.\")\n",
    "print(loaded_combo_list)\n"
   ]
  },
  {
   "cell_type": "code",
   "execution_count": 2,
   "id": "0230d816",
   "metadata": {},
   "outputs": [
    {
     "data": {
      "text/plain": [
       "300"
      ]
     },
     "execution_count": 2,
     "metadata": {},
     "output_type": "execute_result"
    }
   ],
   "source": [
    "len(loaded_combo_list)"
   ]
  },
  {
   "cell_type": "code",
   "execution_count": null,
   "id": "cc51a9ed",
   "metadata": {},
   "outputs": [
    {
     "name": "stderr",
     "output_type": "stream",
     "text": [
      "\r",
      "  0%|                                                                                            | 0/2 [00:00<?, ?it/s]"
     ]
    }
   ],
   "source": [
    "import os\n",
    "from PIL import Image\n",
    "import numpy as np\n",
    "from sklearn.preprocessing import LabelEncoder, OneHotEncoder\n",
    "from tqdm import tqdm\n",
    "\n",
    "# Define the target size for resizing the images\n",
    "target_size = (32, 32)\n",
    "\n",
    "# Initialize empty lists to store resized images and labels\n",
    "resized_images = []\n",
    "labels = []\n",
    "\n",
    "# Iterate over each directory in the loaded_combo_list\n",
    "for directory in tqdm(loaded_combo_list[:2]):\n",
    "    \n",
    "    # Iterate over each file in the directory\n",
    "    for filename in os.listdir(directory):\n",
    "        # Construct the full file path\n",
    "        file_path = os.path.join(directory, filename)\n",
    "        \n",
    "        # Open the image using PIL\n",
    "        image = Image.open(file_path)\n",
    "        \n",
    "        # Convert the image to RGB if it's not already in RGB format\n",
    "        if image.mode != 'RGB':\n",
    "            image = image.convert('RGB')\n",
    "        \n",
    "        # Resize the image to the target size using PIL\n",
    "        resized_image = image.resize(target_size)\n",
    "        \n",
    "        # Convert the image to a NumPy array\n",
    "        resized_image = np.array(resized_image)\n",
    "        \n",
    "        # Append the resized image to the list\n",
    "        resized_images.append(resized_image)\n",
    "        \n",
    "        # Append the corresponding label to the labels list\n",
    "        labels.append(directory)\n",
    "\n",
    "# Convert the list of resized images to a NumPy array\n",
    "resized_images = np.array(resized_images)\n",
    "\n",
    "# Normalize the pixel values between 0 and 1\n",
    "resized_images = resized_images.astype('float32') / 255.0\n",
    "\n",
    "# Convert labels to categorical using LabelEncoder and OneHotEncoder\n",
    "label_encoder = LabelEncoder()\n",
    "integer_encoded = label_encoder.fit_transform(labels)\n",
    "onehot_encoder = OneHotEncoder(sparse=False)\n",
    "categorical_labels = onehot_encoder.fit_transform(integer_encoded.reshape(-1, 1))\n",
    "\n",
    "# Print the shape of the resized images and categorical labels arrays\n",
    "print(\"Shape of resized images array:\", resized_images.shape)\n",
    "print(\"Shape of categorical labels array:\", categorical_labels.shape)\n"
   ]
  },
  {
   "cell_type": "code",
   "execution_count": 10,
   "id": "2563ffbf",
   "metadata": {},
   "outputs": [
    {
     "data": {
      "text/plain": [
       "'D:/data/imagenet\\\\n03450230\\\\'"
      ]
     },
     "execution_count": 10,
     "metadata": {},
     "output_type": "execute_result"
    }
   ],
   "source": [
    "labels[0]"
   ]
  },
  {
   "cell_type": "code",
   "execution_count": 12,
   "id": "814f6df2",
   "metadata": {},
   "outputs": [],
   "source": [
    "import numpy as np\n",
    "from PIL import Image\n",
    "from sklearn.preprocessing import LabelEncoder, OneHotEncoder\n",
    "from tensorflow.keras.applications.resnet50 import ResNet50\n",
    "from tensorflow.keras.models import Model\n",
    "from tensorflow.keras.layers import Dense, GlobalAveragePooling2D\n",
    "from tensorflow.keras.optimizers import Adam\n",
    "\n",
    "\n",
    "# Load the pre-trained ResNet50 model (excluding the top layer)\n",
    "base_model = ResNet50(weights=None, include_top=False, input_shape=(32, 32, 3))\n",
    "\n",
    "# Add a global average pooling layer\n",
    "x = base_model.output\n",
    "x = GlobalAveragePooling2D()(x)\n",
    "\n",
    "# Add a fully connected layer\n",
    "x = Dense(512, activation='relu')(x)\n",
    "\n",
    "# Add the output layer with the number of classes\n",
    "output = Dense(categorical_labels.shape[1], activation='softmax')(x)\n",
    "\n",
    "# Create the model\n",
    "model = Model(inputs=base_model.input, outputs=output)\n"
   ]
  },
  {
   "cell_type": "code",
   "execution_count": 14,
   "id": "0f910cca",
   "metadata": {},
   "outputs": [
    {
     "name": "stderr",
     "output_type": "stream",
     "text": [
      "C:\\Users\\shaif\\anaconda3\\envs\\tens\\lib\\site-packages\\keras\\optimizer_v2\\gradient_descent.py:102: UserWarning: The `lr` argument is deprecated, use `learning_rate` instead.\n",
      "  super(SGD, self).__init__(name, **kwargs)\n"
     ]
    },
    {
     "name": "stdout",
     "output_type": "stream",
     "text": [
      "Epoch 1/50\n",
      "17/17 [==============================] - 10s 144ms/step - loss: 3.7733 - accuracy: 0.5851 - val_loss: 2257759905579607785472.0000 - val_accuracy: 0.0000e+00 - lr: 0.1000\n",
      "Epoch 2/50\n",
      "17/17 [==============================] - 1s 67ms/step - loss: 5.4670 - accuracy: 0.5913 - val_loss: 1763471927734697984.0000 - val_accuracy: 0.0000e+00 - lr: 0.1000\n",
      "Epoch 3/50\n",
      "17/17 [==============================] - 1s 68ms/step - loss: 9.3298 - accuracy: 0.6000 - val_loss: 225255964672.0000 - val_accuracy: 0.0000e+00 - lr: 0.1000\n",
      "Epoch 4/50\n",
      "17/17 [==============================] - 1s 56ms/step - loss: 0.5114 - accuracy: 0.7615 - val_loss: 138568976.0000 - val_accuracy: 0.0000e+00 - lr: 0.1000\n",
      "Epoch 5/50\n",
      "17/17 [==============================] - 1s 66ms/step - loss: 0.3649 - accuracy: 0.8548 - val_loss: 1233500.6250 - val_accuracy: 0.0000e+00 - lr: 0.1000\n",
      "Epoch 6/50\n",
      "17/17 [==============================] - 1s 63ms/step - loss: 0.3851 - accuracy: 0.8519 - val_loss: 89014.4844 - val_accuracy: 0.0000e+00 - lr: 0.1000\n",
      "Epoch 7/50\n",
      "17/17 [==============================] - 1s 68ms/step - loss: 0.3621 - accuracy: 0.8764 - val_loss: 11385.0195 - val_accuracy: 0.0000e+00 - lr: 0.1000\n",
      "Epoch 8/50\n",
      "17/17 [==============================] - 1s 71ms/step - loss: 0.2869 - accuracy: 0.8976 - val_loss: 2258.9373 - val_accuracy: 0.0231 - lr: 0.1000\n",
      "Epoch 9/50\n",
      "17/17 [==============================] - 1s 59ms/step - loss: 0.2518 - accuracy: 0.9067 - val_loss: 573.1866 - val_accuracy: 0.2250 - lr: 0.1000\n",
      "Epoch 10/50\n",
      "17/17 [==============================] - 1s 57ms/step - loss: 0.2448 - accuracy: 0.9106 - val_loss: 131.2699 - val_accuracy: 0.5692 - lr: 0.1000\n",
      "Epoch 11/50\n",
      "17/17 [==============================] - 1s 58ms/step - loss: 0.3010 - accuracy: 0.8837 - val_loss: 32.9243 - val_accuracy: 0.6558 - lr: 0.0100\n",
      "Epoch 12/50\n",
      "17/17 [==============================] - 1s 59ms/step - loss: 0.2842 - accuracy: 0.8952 - val_loss: 8.6033 - val_accuracy: 0.7577 - lr: 0.0100\n",
      "Epoch 13/50\n",
      "17/17 [==============================] - 1s 59ms/step - loss: 0.2432 - accuracy: 0.9111 - val_loss: 2.6846 - val_accuracy: 0.8077 - lr: 0.0100\n",
      "Epoch 14/50\n",
      "17/17 [==============================] - 1s 57ms/step - loss: 0.2345 - accuracy: 0.9101 - val_loss: 1.1814 - val_accuracy: 0.8519 - lr: 0.0100\n",
      "Epoch 15/50\n",
      "17/17 [==============================] - 1s 53ms/step - loss: 0.2222 - accuracy: 0.9159 - val_loss: 0.5629 - val_accuracy: 0.8731 - lr: 0.0100\n",
      "Epoch 16/50\n",
      "17/17 [==============================] - 1s 58ms/step - loss: 0.2219 - accuracy: 0.9149 - val_loss: 0.3857 - val_accuracy: 0.8808 - lr: 0.0100\n",
      "Epoch 17/50\n",
      "17/17 [==============================] - 1s 57ms/step - loss: 0.2141 - accuracy: 0.9202 - val_loss: 0.3991 - val_accuracy: 0.8558 - lr: 0.0100\n",
      "Epoch 18/50\n",
      "17/17 [==============================] - 1s 60ms/step - loss: 0.2033 - accuracy: 0.9260 - val_loss: 0.3115 - val_accuracy: 0.8731 - lr: 0.0100\n",
      "Epoch 19/50\n",
      "17/17 [==============================] - 1s 64ms/step - loss: 0.2044 - accuracy: 0.9236 - val_loss: 0.3782 - val_accuracy: 0.8481 - lr: 0.0100\n",
      "Epoch 20/50\n",
      " 2/17 [==>...........................] - ETA: 1s - loss: 0.2136 - accuracy: 0.9219"
     ]
    },
    {
     "ename": "KeyboardInterrupt",
     "evalue": "",
     "output_type": "error",
     "traceback": [
      "\u001b[1;31m---------------------------------------------------------------------------\u001b[0m",
      "\u001b[1;31mKeyboardInterrupt\u001b[0m                         Traceback (most recent call last)",
      "Cell \u001b[1;32mIn[14], line 21\u001b[0m\n\u001b[0;32m     18\u001b[0m lr_scheduler \u001b[38;5;241m=\u001b[39m LearningRateScheduler(learning_rate_decay)\n\u001b[0;32m     20\u001b[0m \u001b[38;5;66;03m# Train the model\u001b[39;00m\n\u001b[1;32m---> 21\u001b[0m \u001b[43mmodel\u001b[49m\u001b[38;5;241;43m.\u001b[39;49m\u001b[43mfit\u001b[49m\u001b[43m(\u001b[49m\u001b[43mresized_images\u001b[49m\u001b[43m,\u001b[49m\u001b[43m \u001b[49m\u001b[43mcategorical_labels\u001b[49m\u001b[43m,\u001b[49m\u001b[43m \u001b[49m\u001b[43mbatch_size\u001b[49m\u001b[38;5;241;43m=\u001b[39;49m\u001b[38;5;241;43m128\u001b[39;49m\u001b[43m,\u001b[49m\u001b[43m \u001b[49m\u001b[43mepochs\u001b[49m\u001b[38;5;241;43m=\u001b[39;49m\u001b[38;5;241;43m50\u001b[39;49m\u001b[43m,\u001b[49m\u001b[43m \u001b[49m\u001b[43mvalidation_split\u001b[49m\u001b[38;5;241;43m=\u001b[39;49m\u001b[38;5;241;43m0.2\u001b[39;49m\u001b[43m,\u001b[49m\u001b[43m \u001b[49m\u001b[43mcallbacks\u001b[49m\u001b[38;5;241;43m=\u001b[39;49m\u001b[43m[\u001b[49m\u001b[43mlr_scheduler\u001b[49m\u001b[43m]\u001b[49m\u001b[43m)\u001b[49m\n",
      "File \u001b[1;32m~\\anaconda3\\envs\\tens\\lib\\site-packages\\keras\\utils\\traceback_utils.py:64\u001b[0m, in \u001b[0;36mfilter_traceback.<locals>.error_handler\u001b[1;34m(*args, **kwargs)\u001b[0m\n\u001b[0;32m     62\u001b[0m filtered_tb \u001b[38;5;241m=\u001b[39m \u001b[38;5;28;01mNone\u001b[39;00m\n\u001b[0;32m     63\u001b[0m \u001b[38;5;28;01mtry\u001b[39;00m:\n\u001b[1;32m---> 64\u001b[0m   \u001b[38;5;28;01mreturn\u001b[39;00m \u001b[43mfn\u001b[49m\u001b[43m(\u001b[49m\u001b[38;5;241;43m*\u001b[39;49m\u001b[43margs\u001b[49m\u001b[43m,\u001b[49m\u001b[43m \u001b[49m\u001b[38;5;241;43m*\u001b[39;49m\u001b[38;5;241;43m*\u001b[39;49m\u001b[43mkwargs\u001b[49m\u001b[43m)\u001b[49m\n\u001b[0;32m     65\u001b[0m \u001b[38;5;28;01mexcept\u001b[39;00m \u001b[38;5;167;01mException\u001b[39;00m \u001b[38;5;28;01mas\u001b[39;00m e:  \u001b[38;5;66;03m# pylint: disable=broad-except\u001b[39;00m\n\u001b[0;32m     66\u001b[0m   filtered_tb \u001b[38;5;241m=\u001b[39m _process_traceback_frames(e\u001b[38;5;241m.\u001b[39m__traceback__)\n",
      "File \u001b[1;32m~\\anaconda3\\envs\\tens\\lib\\site-packages\\keras\\engine\\training.py:1216\u001b[0m, in \u001b[0;36mModel.fit\u001b[1;34m(self, x, y, batch_size, epochs, verbose, callbacks, validation_split, validation_data, shuffle, class_weight, sample_weight, initial_epoch, steps_per_epoch, validation_steps, validation_batch_size, validation_freq, max_queue_size, workers, use_multiprocessing)\u001b[0m\n\u001b[0;32m   1209\u001b[0m \u001b[38;5;28;01mwith\u001b[39;00m tf\u001b[38;5;241m.\u001b[39mprofiler\u001b[38;5;241m.\u001b[39mexperimental\u001b[38;5;241m.\u001b[39mTrace(\n\u001b[0;32m   1210\u001b[0m     \u001b[38;5;124m'\u001b[39m\u001b[38;5;124mtrain\u001b[39m\u001b[38;5;124m'\u001b[39m,\n\u001b[0;32m   1211\u001b[0m     epoch_num\u001b[38;5;241m=\u001b[39mepoch,\n\u001b[0;32m   1212\u001b[0m     step_num\u001b[38;5;241m=\u001b[39mstep,\n\u001b[0;32m   1213\u001b[0m     batch_size\u001b[38;5;241m=\u001b[39mbatch_size,\n\u001b[0;32m   1214\u001b[0m     _r\u001b[38;5;241m=\u001b[39m\u001b[38;5;241m1\u001b[39m):\n\u001b[0;32m   1215\u001b[0m   callbacks\u001b[38;5;241m.\u001b[39mon_train_batch_begin(step)\n\u001b[1;32m-> 1216\u001b[0m   tmp_logs \u001b[38;5;241m=\u001b[39m \u001b[38;5;28;43mself\u001b[39;49m\u001b[38;5;241;43m.\u001b[39;49m\u001b[43mtrain_function\u001b[49m\u001b[43m(\u001b[49m\u001b[43miterator\u001b[49m\u001b[43m)\u001b[49m\n\u001b[0;32m   1217\u001b[0m   \u001b[38;5;28;01mif\u001b[39;00m data_handler\u001b[38;5;241m.\u001b[39mshould_sync:\n\u001b[0;32m   1218\u001b[0m     context\u001b[38;5;241m.\u001b[39masync_wait()\n",
      "File \u001b[1;32m~\\anaconda3\\envs\\tens\\lib\\site-packages\\tensorflow\\python\\util\\traceback_utils.py:150\u001b[0m, in \u001b[0;36mfilter_traceback.<locals>.error_handler\u001b[1;34m(*args, **kwargs)\u001b[0m\n\u001b[0;32m    148\u001b[0m filtered_tb \u001b[38;5;241m=\u001b[39m \u001b[38;5;28;01mNone\u001b[39;00m\n\u001b[0;32m    149\u001b[0m \u001b[38;5;28;01mtry\u001b[39;00m:\n\u001b[1;32m--> 150\u001b[0m   \u001b[38;5;28;01mreturn\u001b[39;00m \u001b[43mfn\u001b[49m\u001b[43m(\u001b[49m\u001b[38;5;241;43m*\u001b[39;49m\u001b[43margs\u001b[49m\u001b[43m,\u001b[49m\u001b[43m \u001b[49m\u001b[38;5;241;43m*\u001b[39;49m\u001b[38;5;241;43m*\u001b[39;49m\u001b[43mkwargs\u001b[49m\u001b[43m)\u001b[49m\n\u001b[0;32m    151\u001b[0m \u001b[38;5;28;01mexcept\u001b[39;00m \u001b[38;5;167;01mException\u001b[39;00m \u001b[38;5;28;01mas\u001b[39;00m e:\n\u001b[0;32m    152\u001b[0m   filtered_tb \u001b[38;5;241m=\u001b[39m _process_traceback_frames(e\u001b[38;5;241m.\u001b[39m__traceback__)\n",
      "File \u001b[1;32m~\\anaconda3\\envs\\tens\\lib\\site-packages\\tensorflow\\python\\eager\\def_function.py:910\u001b[0m, in \u001b[0;36mFunction.__call__\u001b[1;34m(self, *args, **kwds)\u001b[0m\n\u001b[0;32m    907\u001b[0m compiler \u001b[38;5;241m=\u001b[39m \u001b[38;5;124m\"\u001b[39m\u001b[38;5;124mxla\u001b[39m\u001b[38;5;124m\"\u001b[39m \u001b[38;5;28;01mif\u001b[39;00m \u001b[38;5;28mself\u001b[39m\u001b[38;5;241m.\u001b[39m_jit_compile \u001b[38;5;28;01melse\u001b[39;00m \u001b[38;5;124m\"\u001b[39m\u001b[38;5;124mnonXla\u001b[39m\u001b[38;5;124m\"\u001b[39m\n\u001b[0;32m    909\u001b[0m \u001b[38;5;28;01mwith\u001b[39;00m OptionalXlaContext(\u001b[38;5;28mself\u001b[39m\u001b[38;5;241m.\u001b[39m_jit_compile):\n\u001b[1;32m--> 910\u001b[0m   result \u001b[38;5;241m=\u001b[39m \u001b[38;5;28;43mself\u001b[39;49m\u001b[38;5;241;43m.\u001b[39;49m\u001b[43m_call\u001b[49m\u001b[43m(\u001b[49m\u001b[38;5;241;43m*\u001b[39;49m\u001b[43margs\u001b[49m\u001b[43m,\u001b[49m\u001b[43m \u001b[49m\u001b[38;5;241;43m*\u001b[39;49m\u001b[38;5;241;43m*\u001b[39;49m\u001b[43mkwds\u001b[49m\u001b[43m)\u001b[49m\n\u001b[0;32m    912\u001b[0m new_tracing_count \u001b[38;5;241m=\u001b[39m \u001b[38;5;28mself\u001b[39m\u001b[38;5;241m.\u001b[39mexperimental_get_tracing_count()\n\u001b[0;32m    913\u001b[0m without_tracing \u001b[38;5;241m=\u001b[39m (tracing_count \u001b[38;5;241m==\u001b[39m new_tracing_count)\n",
      "File \u001b[1;32m~\\anaconda3\\envs\\tens\\lib\\site-packages\\tensorflow\\python\\eager\\def_function.py:942\u001b[0m, in \u001b[0;36mFunction._call\u001b[1;34m(self, *args, **kwds)\u001b[0m\n\u001b[0;32m    939\u001b[0m   \u001b[38;5;28mself\u001b[39m\u001b[38;5;241m.\u001b[39m_lock\u001b[38;5;241m.\u001b[39mrelease()\n\u001b[0;32m    940\u001b[0m   \u001b[38;5;66;03m# In this case we have created variables on the first call, so we run the\u001b[39;00m\n\u001b[0;32m    941\u001b[0m   \u001b[38;5;66;03m# defunned version which is guaranteed to never create variables.\u001b[39;00m\n\u001b[1;32m--> 942\u001b[0m   \u001b[38;5;28;01mreturn\u001b[39;00m \u001b[38;5;28;43mself\u001b[39;49m\u001b[38;5;241;43m.\u001b[39;49m\u001b[43m_stateless_fn\u001b[49m\u001b[43m(\u001b[49m\u001b[38;5;241;43m*\u001b[39;49m\u001b[43margs\u001b[49m\u001b[43m,\u001b[49m\u001b[43m \u001b[49m\u001b[38;5;241;43m*\u001b[39;49m\u001b[38;5;241;43m*\u001b[39;49m\u001b[43mkwds\u001b[49m\u001b[43m)\u001b[49m  \u001b[38;5;66;03m# pylint: disable=not-callable\u001b[39;00m\n\u001b[0;32m    943\u001b[0m \u001b[38;5;28;01melif\u001b[39;00m \u001b[38;5;28mself\u001b[39m\u001b[38;5;241m.\u001b[39m_stateful_fn \u001b[38;5;129;01mis\u001b[39;00m \u001b[38;5;129;01mnot\u001b[39;00m \u001b[38;5;28;01mNone\u001b[39;00m:\n\u001b[0;32m    944\u001b[0m   \u001b[38;5;66;03m# Release the lock early so that multiple threads can perform the call\u001b[39;00m\n\u001b[0;32m    945\u001b[0m   \u001b[38;5;66;03m# in parallel.\u001b[39;00m\n\u001b[0;32m    946\u001b[0m   \u001b[38;5;28mself\u001b[39m\u001b[38;5;241m.\u001b[39m_lock\u001b[38;5;241m.\u001b[39mrelease()\n",
      "File \u001b[1;32m~\\anaconda3\\envs\\tens\\lib\\site-packages\\tensorflow\\python\\eager\\function.py:3130\u001b[0m, in \u001b[0;36mFunction.__call__\u001b[1;34m(self, *args, **kwargs)\u001b[0m\n\u001b[0;32m   3127\u001b[0m \u001b[38;5;28;01mwith\u001b[39;00m \u001b[38;5;28mself\u001b[39m\u001b[38;5;241m.\u001b[39m_lock:\n\u001b[0;32m   3128\u001b[0m   (graph_function,\n\u001b[0;32m   3129\u001b[0m    filtered_flat_args) \u001b[38;5;241m=\u001b[39m \u001b[38;5;28mself\u001b[39m\u001b[38;5;241m.\u001b[39m_maybe_define_function(args, kwargs)\n\u001b[1;32m-> 3130\u001b[0m \u001b[38;5;28;01mreturn\u001b[39;00m \u001b[43mgraph_function\u001b[49m\u001b[38;5;241;43m.\u001b[39;49m\u001b[43m_call_flat\u001b[49m\u001b[43m(\u001b[49m\n\u001b[0;32m   3131\u001b[0m \u001b[43m    \u001b[49m\u001b[43mfiltered_flat_args\u001b[49m\u001b[43m,\u001b[49m\u001b[43m \u001b[49m\u001b[43mcaptured_inputs\u001b[49m\u001b[38;5;241;43m=\u001b[39;49m\u001b[43mgraph_function\u001b[49m\u001b[38;5;241;43m.\u001b[39;49m\u001b[43mcaptured_inputs\u001b[49m\u001b[43m)\u001b[49m\n",
      "File \u001b[1;32m~\\anaconda3\\envs\\tens\\lib\\site-packages\\tensorflow\\python\\eager\\function.py:1959\u001b[0m, in \u001b[0;36mConcreteFunction._call_flat\u001b[1;34m(self, args, captured_inputs, cancellation_manager)\u001b[0m\n\u001b[0;32m   1955\u001b[0m possible_gradient_type \u001b[38;5;241m=\u001b[39m gradients_util\u001b[38;5;241m.\u001b[39mPossibleTapeGradientTypes(args)\n\u001b[0;32m   1956\u001b[0m \u001b[38;5;28;01mif\u001b[39;00m (possible_gradient_type \u001b[38;5;241m==\u001b[39m gradients_util\u001b[38;5;241m.\u001b[39mPOSSIBLE_GRADIENT_TYPES_NONE\n\u001b[0;32m   1957\u001b[0m     \u001b[38;5;129;01mand\u001b[39;00m executing_eagerly):\n\u001b[0;32m   1958\u001b[0m   \u001b[38;5;66;03m# No tape is watching; skip to running the function.\u001b[39;00m\n\u001b[1;32m-> 1959\u001b[0m   \u001b[38;5;28;01mreturn\u001b[39;00m \u001b[38;5;28mself\u001b[39m\u001b[38;5;241m.\u001b[39m_build_call_outputs(\u001b[38;5;28;43mself\u001b[39;49m\u001b[38;5;241;43m.\u001b[39;49m\u001b[43m_inference_function\u001b[49m\u001b[38;5;241;43m.\u001b[39;49m\u001b[43mcall\u001b[49m\u001b[43m(\u001b[49m\n\u001b[0;32m   1960\u001b[0m \u001b[43m      \u001b[49m\u001b[43mctx\u001b[49m\u001b[43m,\u001b[49m\u001b[43m \u001b[49m\u001b[43margs\u001b[49m\u001b[43m,\u001b[49m\u001b[43m \u001b[49m\u001b[43mcancellation_manager\u001b[49m\u001b[38;5;241;43m=\u001b[39;49m\u001b[43mcancellation_manager\u001b[49m\u001b[43m)\u001b[49m)\n\u001b[0;32m   1961\u001b[0m forward_backward \u001b[38;5;241m=\u001b[39m \u001b[38;5;28mself\u001b[39m\u001b[38;5;241m.\u001b[39m_select_forward_and_backward_functions(\n\u001b[0;32m   1962\u001b[0m     args,\n\u001b[0;32m   1963\u001b[0m     possible_gradient_type,\n\u001b[0;32m   1964\u001b[0m     executing_eagerly)\n\u001b[0;32m   1965\u001b[0m forward_function, args_with_tangents \u001b[38;5;241m=\u001b[39m forward_backward\u001b[38;5;241m.\u001b[39mforward()\n",
      "File \u001b[1;32m~\\anaconda3\\envs\\tens\\lib\\site-packages\\tensorflow\\python\\eager\\function.py:598\u001b[0m, in \u001b[0;36m_EagerDefinedFunction.call\u001b[1;34m(self, ctx, args, cancellation_manager)\u001b[0m\n\u001b[0;32m    596\u001b[0m \u001b[38;5;28;01mwith\u001b[39;00m _InterpolateFunctionError(\u001b[38;5;28mself\u001b[39m):\n\u001b[0;32m    597\u001b[0m   \u001b[38;5;28;01mif\u001b[39;00m cancellation_manager \u001b[38;5;129;01mis\u001b[39;00m \u001b[38;5;28;01mNone\u001b[39;00m:\n\u001b[1;32m--> 598\u001b[0m     outputs \u001b[38;5;241m=\u001b[39m \u001b[43mexecute\u001b[49m\u001b[38;5;241;43m.\u001b[39;49m\u001b[43mexecute\u001b[49m\u001b[43m(\u001b[49m\n\u001b[0;32m    599\u001b[0m \u001b[43m        \u001b[49m\u001b[38;5;28;43mstr\u001b[39;49m\u001b[43m(\u001b[49m\u001b[38;5;28;43mself\u001b[39;49m\u001b[38;5;241;43m.\u001b[39;49m\u001b[43msignature\u001b[49m\u001b[38;5;241;43m.\u001b[39;49m\u001b[43mname\u001b[49m\u001b[43m)\u001b[49m\u001b[43m,\u001b[49m\n\u001b[0;32m    600\u001b[0m \u001b[43m        \u001b[49m\u001b[43mnum_outputs\u001b[49m\u001b[38;5;241;43m=\u001b[39;49m\u001b[38;5;28;43mself\u001b[39;49m\u001b[38;5;241;43m.\u001b[39;49m\u001b[43m_num_outputs\u001b[49m\u001b[43m,\u001b[49m\n\u001b[0;32m    601\u001b[0m \u001b[43m        \u001b[49m\u001b[43minputs\u001b[49m\u001b[38;5;241;43m=\u001b[39;49m\u001b[43margs\u001b[49m\u001b[43m,\u001b[49m\n\u001b[0;32m    602\u001b[0m \u001b[43m        \u001b[49m\u001b[43mattrs\u001b[49m\u001b[38;5;241;43m=\u001b[39;49m\u001b[43mattrs\u001b[49m\u001b[43m,\u001b[49m\n\u001b[0;32m    603\u001b[0m \u001b[43m        \u001b[49m\u001b[43mctx\u001b[49m\u001b[38;5;241;43m=\u001b[39;49m\u001b[43mctx\u001b[49m\u001b[43m)\u001b[49m\n\u001b[0;32m    604\u001b[0m   \u001b[38;5;28;01melse\u001b[39;00m:\n\u001b[0;32m    605\u001b[0m     outputs \u001b[38;5;241m=\u001b[39m execute\u001b[38;5;241m.\u001b[39mexecute_with_cancellation(\n\u001b[0;32m    606\u001b[0m         \u001b[38;5;28mstr\u001b[39m(\u001b[38;5;28mself\u001b[39m\u001b[38;5;241m.\u001b[39msignature\u001b[38;5;241m.\u001b[39mname),\n\u001b[0;32m    607\u001b[0m         num_outputs\u001b[38;5;241m=\u001b[39m\u001b[38;5;28mself\u001b[39m\u001b[38;5;241m.\u001b[39m_num_outputs,\n\u001b[1;32m   (...)\u001b[0m\n\u001b[0;32m    610\u001b[0m         ctx\u001b[38;5;241m=\u001b[39mctx,\n\u001b[0;32m    611\u001b[0m         cancellation_manager\u001b[38;5;241m=\u001b[39mcancellation_manager)\n",
      "File \u001b[1;32m~\\anaconda3\\envs\\tens\\lib\\site-packages\\tensorflow\\python\\eager\\execute.py:58\u001b[0m, in \u001b[0;36mquick_execute\u001b[1;34m(op_name, num_outputs, inputs, attrs, ctx, name)\u001b[0m\n\u001b[0;32m     56\u001b[0m \u001b[38;5;28;01mtry\u001b[39;00m:\n\u001b[0;32m     57\u001b[0m   ctx\u001b[38;5;241m.\u001b[39mensure_initialized()\n\u001b[1;32m---> 58\u001b[0m   tensors \u001b[38;5;241m=\u001b[39m \u001b[43mpywrap_tfe\u001b[49m\u001b[38;5;241;43m.\u001b[39;49m\u001b[43mTFE_Py_Execute\u001b[49m\u001b[43m(\u001b[49m\u001b[43mctx\u001b[49m\u001b[38;5;241;43m.\u001b[39;49m\u001b[43m_handle\u001b[49m\u001b[43m,\u001b[49m\u001b[43m \u001b[49m\u001b[43mdevice_name\u001b[49m\u001b[43m,\u001b[49m\u001b[43m \u001b[49m\u001b[43mop_name\u001b[49m\u001b[43m,\u001b[49m\n\u001b[0;32m     59\u001b[0m \u001b[43m                                      \u001b[49m\u001b[43minputs\u001b[49m\u001b[43m,\u001b[49m\u001b[43m \u001b[49m\u001b[43mattrs\u001b[49m\u001b[43m,\u001b[49m\u001b[43m \u001b[49m\u001b[43mnum_outputs\u001b[49m\u001b[43m)\u001b[49m\n\u001b[0;32m     60\u001b[0m \u001b[38;5;28;01mexcept\u001b[39;00m core\u001b[38;5;241m.\u001b[39m_NotOkStatusException \u001b[38;5;28;01mas\u001b[39;00m e:\n\u001b[0;32m     61\u001b[0m   \u001b[38;5;28;01mif\u001b[39;00m name \u001b[38;5;129;01mis\u001b[39;00m \u001b[38;5;129;01mnot\u001b[39;00m \u001b[38;5;28;01mNone\u001b[39;00m:\n",
      "\u001b[1;31mKeyboardInterrupt\u001b[0m: "
     ]
    }
   ],
   "source": [
    "from tensorflow.keras.optimizers import SGD\n",
    "from tensorflow.keras.callbacks import LearningRateScheduler\n",
    "\n",
    "# Define the optimizer with SGD and momentum\n",
    "optimizer = SGD(lr=0.1, momentum=0.9)\n",
    "\n",
    "# Compile the model\n",
    "model.compile(optimizer=optimizer, loss='categorical_crossentropy', metrics=['accuracy'])\n",
    "\n",
    "# Define a learning rate decay schedule\n",
    "def learning_rate_decay(epoch):\n",
    "    initial_lr = 0.1\n",
    "    drop = 0.1\n",
    "    epochs_drop = 10\n",
    "    lr = initial_lr * (drop ** (epoch // epochs_drop))\n",
    "    return lr\n",
    "\n",
    "lr_scheduler = LearningRateScheduler(learning_rate_decay)\n",
    "\n",
    "# Train the model\n",
    "model.fit(resized_images, categorical_labels, batch_size=128, epochs=50, validation_split=0.2, callbacks=[lr_scheduler])"
   ]
  },
  {
   "cell_type": "code",
   "execution_count": null,
   "id": "ee78e79c",
   "metadata": {},
   "outputs": [],
   "source": []
  },
  {
   "cell_type": "code",
   "execution_count": null,
   "id": "3a358d6a",
   "metadata": {},
   "outputs": [],
   "source": []
  },
  {
   "cell_type": "code",
   "execution_count": null,
   "id": "7c429cb0",
   "metadata": {},
   "outputs": [],
   "source": []
  },
  {
   "cell_type": "code",
   "execution_count": null,
   "id": "b6411849",
   "metadata": {},
   "outputs": [],
   "source": []
  },
  {
   "cell_type": "code",
   "execution_count": null,
   "id": "aadb2906",
   "metadata": {},
   "outputs": [],
   "source": []
  },
  {
   "cell_type": "code",
   "execution_count": null,
   "id": "b5351814",
   "metadata": {},
   "outputs": [],
   "source": []
  },
  {
   "cell_type": "code",
   "execution_count": null,
   "id": "b95c586b",
   "metadata": {},
   "outputs": [],
   "source": []
  },
  {
   "cell_type": "code",
   "execution_count": null,
   "id": "2184cb8e",
   "metadata": {},
   "outputs": [],
   "source": []
  },
  {
   "cell_type": "code",
   "execution_count": null,
   "id": "426a0112",
   "metadata": {},
   "outputs": [],
   "source": []
  },
  {
   "cell_type": "code",
   "execution_count": null,
   "id": "7019d437",
   "metadata": {},
   "outputs": [],
   "source": []
  },
  {
   "cell_type": "code",
   "execution_count": null,
   "id": "6814a21a",
   "metadata": {},
   "outputs": [],
   "source": []
  },
  {
   "cell_type": "code",
   "execution_count": null,
   "id": "75498c8b",
   "metadata": {},
   "outputs": [],
   "source": []
  },
  {
   "cell_type": "code",
   "execution_count": null,
   "id": "e2665d6e",
   "metadata": {},
   "outputs": [],
   "source": []
  },
  {
   "cell_type": "code",
   "execution_count": null,
   "id": "7ecf2570",
   "metadata": {},
   "outputs": [],
   "source": []
  },
  {
   "cell_type": "code",
   "execution_count": null,
   "id": "7b0371b6",
   "metadata": {},
   "outputs": [],
   "source": []
  },
  {
   "cell_type": "code",
   "execution_count": null,
   "id": "cc17f63b",
   "metadata": {},
   "outputs": [],
   "source": []
  }
 ],
 "metadata": {
  "kernelspec": {
   "display_name": "Python 3 (ipykernel)",
   "language": "python",
   "name": "python3"
  },
  "language_info": {
   "codemirror_mode": {
    "name": "ipython",
    "version": 3
   },
   "file_extension": ".py",
   "mimetype": "text/x-python",
   "name": "python",
   "nbconvert_exporter": "python",
   "pygments_lexer": "ipython3",
   "version": "3.8.16"
  }
 },
 "nbformat": 4,
 "nbformat_minor": 5
}
