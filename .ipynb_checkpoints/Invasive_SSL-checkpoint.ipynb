{
 "cells": [
  {
   "cell_type": "code",
   "execution_count": 1,
   "id": "4044afab",
   "metadata": {},
   "outputs": [
    {
     "name": "stderr",
     "output_type": "stream",
     "text": [
      "C:\\Users\\shaif\\anaconda3\\envs\\tens\\lib\\site-packages\\tensorflow_addons\\utils\\tfa_eol_msg.py:23: UserWarning: \n",
      "\n",
      "TensorFlow Addons (TFA) has ended development and introduction of new features.\n",
      "TFA has entered a minimal maintenance and release mode until a planned end of life in May 2024.\n",
      "Please modify downstream libraries to take dependencies from other repositories in our TensorFlow community (e.g. Keras, Keras-CV, and Keras-NLP). \n",
      "\n",
      "For more information see: https://github.com/tensorflow/addons/issues/2807 \n",
      "\n",
      "  warnings.warn(\n",
      "C:\\Users\\shaif\\anaconda3\\envs\\tens\\lib\\site-packages\\tensorflow_addons\\utils\\ensure_tf_install.py:53: UserWarning: Tensorflow Addons supports using Python ops for all Tensorflow versions above or equal to 2.10.0 and strictly below 2.13.0 (nightly versions are not supported). \n",
      " The versions of TensorFlow you are currently using is 2.9.0 and is not supported. \n",
      "Some things might work, some things might not.\n",
      "If you were to encounter a bug, do not file an issue.\n",
      "If you want to make sure you're using a tested and supported configuration, either change the TensorFlow version or the TensorFlow Addons's version. \n",
      "You can find the compatibility matrix in TensorFlow Addon's readme:\n",
      "https://github.com/tensorflow/addons\n",
      "  warnings.warn(\n"
     ]
    }
   ],
   "source": [
    "import numpy as np # linear algebra\n",
    "import pandas as pd # data processing, CSV file I/O (e.g. pd.read_csv)\n",
    "import os\n",
    "from sklearn.model_selection import train_test_split\n",
    "import json\n",
    "\n",
    "import glob\n",
    "import random\n",
    "import collections\n",
    "from glob import glob\n",
    "import numpy as np\n",
    "import pandas as pd\n",
    "\n",
    "#import cv2\n",
    "import matplotlib.pyplot as plt\n",
    "import numpy as np\n",
    "import pandas as pd\n",
    "from sklearn.utils import shuffle\n",
    "\n",
    "from skimage.io import imread\n",
    "from skimage.transform import resize\n",
    "from keras import layers\n",
    "from keras import models\n",
    "import keras\n",
    "from keras.layers import LeakyReLU\n",
    "from keras.models import Sequential, Model, load_model\n",
    "from keras.layers import Input, Conv1D, Conv2D, MaxPooling1D, MaxPooling2D, Dense, Dropout, Activation, Flatten\n",
    "import tensorflow as tf\n",
    "from tensorflow import keras\n",
    "from tensorflow.keras import layers\n",
    "\n",
    "import shutil\n",
    "import keras\n",
    "from PIL import Image\n",
    "#import cv2\n",
    "import numpy as np\n",
    "import matplotlib.pyplot as plt\n",
    "import pandas as pd\n",
    "import keras\n",
    "import json\n",
    "import tensorflow as tf \n",
    "from keras.layers import Input\n",
    "from keras import Sequential\n",
    "from keras.layers import Dense, LSTM,Flatten, TimeDistributed, Conv2D, Dropout\n",
    "from keras.applications.inception_v3 import InceptionV3\n",
    "from keras.applications.vgg16 import VGG16\n",
    "import tensorflow_datasets as tfds\n",
    "import tensorflow as tf\n",
    "from tensorflow import keras\n",
    "from tensorflow.keras import layers\n",
    "import matplotlib.pyplot as plt\n",
    "import re\n",
    "import string\n",
    "\n",
    "from keras.models import load_model\n",
    "from keras.callbacks import Callback,ModelCheckpoint\n",
    "from keras.models import Sequential,load_model\n",
    "from keras.layers import Dense, Dropout\n",
    "from keras.wrappers.scikit_learn import KerasClassifier\n",
    "import keras.backend as K\n",
    "import numpy as np\n",
    "import pandas as pd\n",
    "\n",
    "from skimage.io import imread\n",
    "from skimage.transform import resize\n",
    "from keras import layers\n",
    "from keras import models\n",
    "import keras\n",
    "from keras.layers import LeakyReLU\n",
    "from keras.models import Sequential, Model, load_model\n",
    "from keras.layers import Input, Conv1D,Reshape, Conv2D, MaxPooling1D, MaxPooling2D, Dense, Dropout, Activation, Flatten, UpSampling2D\n",
    "import tensorflow as tf\n",
    "from tensorflow import keras\n",
    "from tensorflow.keras import layers\n",
    "\n",
    "import numpy as np\n",
    "import pandas as pd\n",
    "\n",
    "from skimage.io import imread\n",
    "from skimage.transform import resize\n",
    "from keras import layers\n",
    "from keras import models\n",
    "import keras\n",
    "from keras.layers import LeakyReLU\n",
    "from keras.models import Sequential, Model, load_model\n",
    "from keras.layers import Input, Conv1D, Conv2D, MaxPooling1D, MaxPooling2D, Dense, Dropout, Activation, Flatten\n",
    "import tensorflow as tf\n",
    "from tensorflow import keras\n",
    "from tensorflow.keras import layers\n",
    "\n",
    "from keras.callbacks import Callback,ModelCheckpoint\n",
    "from keras.models import Sequential,load_model\n",
    "from keras.layers import Dense, Dropout\n",
    "from keras.wrappers.scikit_learn import KerasClassifier\n",
    "import keras.backend as K\n",
    "\n",
    "import tensorflow as tf\n",
    "import tensorflow_addons as tfa\n",
    "import numpy as np\n",
    "from tensorflow import keras\n",
    "from tensorflow.keras import layers\n",
    "from keras.datasets import cifar10\n",
    "from tensorflow.keras.utils import to_categorical\n",
    "from tensorflow.keras import layers\n",
    "from tensorflow.keras import regularizers\n",
    "import tensorflow as tf\n",
    "import matplotlib.pyplot as plt\n",
    "import numpy as np\n",
    "from tensorflow.keras.layers import Lambda, Conv2D, MaxPooling2D, Flatten, Dense\n",
    "from tensorflow.keras import Input\n",
    "from keras.layers import TimeDistributed, Conv2D, Dense, MaxPooling2D, Flatten, LSTM, Dropout, BatchNormalization\n",
    "from keras import models\n",
    "AUTO = tf.data.AUTOTUNE\n",
    "from sklearn.metrics import confusion_matrix\n",
    "import random\n",
    "import tensorflow as tf  # framework\n",
    "from tensorflow import keras  # for tf.keras\n",
    "import tensorflow_addons as tfa  # LAMB optimizer and gaussian_blur_2d function\n",
    "import numpy as np  # np.random.random\n",
    "import matplotlib.pyplot as plt  # graphs\n",
    "import datetime  # tensorboard logs naming\n",
    "\n",
    "AUTO = tf.data.AUTOTUNE\n",
    "BATCH_SIZE = 32\n",
    "EPOCHS = 50\n",
    "CROP_TO = 32\n",
    "SEED = 26\n",
    "\n",
    "PROJECT_DIM = 128\n",
    "LATENT_DIM = 512\n",
    "WEIGHT_DECAY = 0.0005\n",
    "learning_rate = 0.0001\n",
    "batch_size = 128\n",
    "hidden_units = 512\n",
    "projection_units = 256\n",
    "num_epochs = 2\n",
    "dropout_rate = 0.5\n",
    "\n",
    "temperature = 0.05"
   ]
  },
  {
   "cell_type": "code",
   "execution_count": null,
   "id": "2ed4dfc2",
   "metadata": {},
   "outputs": [],
   "source": []
  },
  {
   "cell_type": "code",
   "execution_count": 2,
   "id": "3f8e92fb",
   "metadata": {},
   "outputs": [
    {
     "name": "stderr",
     "output_type": "stream",
     "text": [
      "C:\\Users\\shaif\\AppData\\Local\\Temp\\ipykernel_22592\\706252393.py:32: DeprecationWarning: ANTIALIAS is deprecated and will be removed in Pillow 10 (2023-07-01). Use LANCZOS or Resampling.LANCZOS instead.\n",
      "  img = img.resize((32, 32), Image.ANTIALIAS)  # Resize to 16x16\n"
     ]
    }
   ],
   "source": [
    "import os\n",
    "from PIL import Image\n",
    "import numpy as np\n",
    "\n",
    "def list_lowest_level_subdirectories(directory_path):\n",
    "    lowest_level_subdirectories = []\n",
    "\n",
    "    for root, dirs, files in os.walk(directory_path):\n",
    "        for dir in dirs:\n",
    "            dir_path = os.path.join(root, dir)\n",
    "            # Check if the current directory doesn't contain any subdirectories\n",
    "            if not any(os.path.isdir(os.path.join(dir_path, sub_dir)) for sub_dir in os.listdir(dir_path)):\n",
    "                lowest_level_subdirectories.append(dir_path)\n",
    "\n",
    "    return lowest_level_subdirectories\n",
    "\n",
    "def collect_images_and_lengths(directory_paths):\n",
    "    images_list = []\n",
    "    lengths_list = []\n",
    "    train_features = []\n",
    "    for directory_path in directory_paths:\n",
    "        image_paths = [os.path.join(directory_path, file) for file in os.listdir(directory_path) if file.lower().endswith(('.png', '.jpg', '.jpeg', '.bmp', '.gif'))]\n",
    "\n",
    "        image = 0\n",
    "\n",
    "        for image_path in image_paths:\n",
    "            try:\n",
    "                with Image.open(image_path) as img:\n",
    "                    # Check if the image is not in RGB mode\n",
    "                    if img.mode != 'RGB':\n",
    "                        img = img.convert('RGB')\n",
    "                    img = img.resize((32, 32), Image.ANTIALIAS)  # Resize to 16x16\n",
    "                    img = np.array(img).astype('float32') / 255.0  # Convert to float and normalize\n",
    "                    images_list.append(img)\n",
    "                    if(image == 0 ):\n",
    "                        train_features.append(img)\n",
    "                    image= image + 1\n",
    "            except Exception as e:\n",
    "                print(f\"Error reading or converting image '{image_path}': {e}\")\n",
    "        lengths_list.append((image))\n",
    "        \n",
    "    return images_list, lengths_list\n",
    "\n",
    "# Specify the directory path\n",
    "start_directory = r'E:\\invasive-aquatic-species-data'\n",
    "\n",
    "# Get a list of lowest-level subdirectories\n",
    "lowest_level_subdirectories = list_lowest_level_subdirectories(start_directory)\n",
    "\n",
    "# Collect images and lengths for subdirectories\n",
    "images_list, lengths_list = collect_images_and_lengths(lowest_level_subdirectories)"
   ]
  },
  {
   "cell_type": "code",
   "execution_count": null,
   "id": "e068de83",
   "metadata": {},
   "outputs": [],
   "source": [
    "#np.shape(images_list)"
   ]
  },
  {
   "cell_type": "code",
   "execution_count": 3,
   "id": "f55037c0",
   "metadata": {},
   "outputs": [],
   "source": [
    "a = np.sum(lengths_list)\n",
    "#a"
   ]
  },
  {
   "cell_type": "code",
   "execution_count": 4,
   "id": "4b154664",
   "metadata": {},
   "outputs": [],
   "source": [
    "BATCH_SIZE = 16\n",
    "# Width and height of image\n",
    "IMAGE_SIZE = 32"
   ]
  },
  {
   "cell_type": "code",
   "execution_count": null,
   "id": "23774f59",
   "metadata": {},
   "outputs": [],
   "source": []
  },
  {
   "cell_type": "code",
   "execution_count": 5,
   "id": "9cabe2cf",
   "metadata": {
    "scrolled": true
   },
   "outputs": [
    {
     "name": "stdout",
     "output_type": "stream",
     "text": [
      "(112788, 2, 32, 32, 3)\n"
     ]
    }
   ],
   "source": [
    "dataset = []\n",
    "\n",
    "for i in range(0,len(lengths_list)):\n",
    "    a = int(np.sum(lengths_list[:i])) #0,  27, 65, 95\n",
    "    \n",
    "    b = a+lengths_list[i]    # 27, 65, 95\n",
    "    lst = images_list[a:b]\n",
    "    \n",
    "    #print(np.shape(lst))\n",
    "    \n",
    "    for k in lst:\n",
    "        pairs = []\n",
    "        augment = random.choice(lst)\n",
    "        pairs.append(k)\n",
    "        pairs.append(augment)\n",
    "        dataset.append(pairs)\n",
    "        \n",
    "print(np.shape(dataset))"
   ]
  },
  {
   "cell_type": "code",
   "execution_count": null,
   "id": "936c3082",
   "metadata": {},
   "outputs": [],
   "source": [
    "#plt.imshow(dataset[150][0])"
   ]
  },
  {
   "cell_type": "code",
   "execution_count": null,
   "id": "f46ec392",
   "metadata": {},
   "outputs": [],
   "source": []
  },
  {
   "cell_type": "code",
   "execution_count": 6,
   "id": "eea59887",
   "metadata": {},
   "outputs": [],
   "source": [
    "import tensorflow as tf\n",
    "\n",
    "class BTDatasetCreator:\n",
    "    def __init__(self, seed: int = 1024):\n",
    "        self.seed = seed\n",
    "\n",
    "    def split_pairs(self, ds: list) -> tf.data.Dataset:\n",
    "        # Split pairs into a1 and a2\n",
    "        a1 = [pair[0] for pair in ds]\n",
    "        a2 = [pair[1] for pair in ds]\n",
    "\n",
    "        return (tf.data.Dataset.from_tensor_slices((a1, a2))\n",
    "                .shuffle(1000, seed=self.seed)\n",
    "                .batch(BATCH_SIZE, drop_remainder=True)\n",
    "                .prefetch(tf.data.AUTOTUNE))\n",
    "\n",
    "    def __call__(self, ds: list) -> tf.data.Dataset:\n",
    "        return self.split_pairs(ds)\n",
    "\n",
    "bt_creator = BTDatasetCreator()\n",
    "augment_versions = bt_creator(dataset)"
   ]
  },
  {
   "cell_type": "code",
   "execution_count": null,
   "id": "865a26b1",
   "metadata": {},
   "outputs": [],
   "source": []
  },
  {
   "cell_type": "code",
   "execution_count": 7,
   "id": "e1ac8a86",
   "metadata": {},
   "outputs": [],
   "source": [
    "sample_augment_versions = iter(augment_versions)\n",
    "\n",
    "\n",
    "def plot_values(batch: tuple):\n",
    "    fig, axs = plt.subplots(3, 3)\n",
    "    fig1, axs1 = plt.subplots(3, 3)\n",
    "\n",
    "    fig.suptitle(\"Augmentation 1\")\n",
    "    fig1.suptitle(\"Augmentation 2\")\n",
    "\n",
    "    a1, a2 = batch\n",
    "\n",
    "    # plots images on both tables\n",
    "    for i in range(3):\n",
    "        for j in range(3):\n",
    "            # CHANGE(add / 255)\n",
    "            axs[i][j].imshow(a1[3 * i + j])\n",
    "            axs[i][j].axis(\"off\")\n",
    "            axs1[i][j].imshow(a2[3 * i + j])\n",
    "            axs1[i][j].axis(\"off\")\n",
    "\n",
    "    plt.show()\n",
    "\n",
    "#for _ in range(2):  # Plot 5 different batches\n",
    "    #batch = next(sample_augment_versions)\n",
    "    #plot_values(batch)"
   ]
  },
  {
   "cell_type": "code",
   "execution_count": null,
   "id": "726395e7",
   "metadata": {},
   "outputs": [],
   "source": []
  },
  {
   "cell_type": "code",
   "execution_count": null,
   "id": "8a1d2951",
   "metadata": {},
   "outputs": [],
   "source": []
  },
  {
   "cell_type": "code",
   "execution_count": 8,
   "id": "e5ae6345",
   "metadata": {},
   "outputs": [],
   "source": [
    "class BarlowLoss(keras.losses.Loss):\n",
    "\n",
    "\n",
    "    def __init__(self, batch_size: int):\n",
    "\n",
    "        super().__init__()\n",
    "        self.lambda_amt = 5e-3\n",
    "        self.batch_size = batch_size\n",
    "\n",
    "    def get_off_diag(self, c: tf.Tensor) -> tf.Tensor:\n",
    "   \n",
    "        zero_diag = tf.zeros(c.shape[-1])\n",
    "        return tf.linalg.set_diag(c, zero_diag)\n",
    "\n",
    "    def cross_corr_matrix_loss(self, c: tf.Tensor) -> tf.Tensor:\n",
    "     \n",
    "        # subtracts diagonals by one and squares them(first part)\n",
    "        c_diff = tf.pow(tf.linalg.diag_part(c) - 1, 2)\n",
    "\n",
    "        # takes off diagonal, squares it, multiplies with lambda(second part)\n",
    "        off_diag = tf.pow(self.get_off_diag(c), 2) * self.lambda_amt\n",
    "\n",
    "        # sum first and second parts together\n",
    "        loss = tf.reduce_sum(c_diff) + tf.reduce_sum(off_diag)\n",
    "\n",
    "        return loss\n",
    "\n",
    "    def normalize(self, output: tf.Tensor) -> tf.Tensor:\n",
    "    \n",
    "\n",
    "        return (output - tf.reduce_mean(output, axis=0)) / tf.math.reduce_std(\n",
    "            output, axis=0\n",
    "        )\n",
    "\n",
    "    def cross_corr_matrix(self, z_a_norm: tf.Tensor, z_b_norm: tf.Tensor) -> tf.Tensor:\n",
    "        \n",
    "        return (tf.transpose(z_a_norm) @ z_b_norm) / self.batch_size\n",
    "\n",
    "    def call(self, z_a: tf.Tensor, z_b: tf.Tensor) -> tf.Tensor:\n",
    "        \n",
    "        z_a_norm, z_b_norm = self.normalize(z_a), self.normalize(z_b)\n",
    "        c = self.cross_corr_matrix(z_a_norm, z_b_norm)\n",
    "        loss = self.cross_corr_matrix_loss(c)\n",
    "        return loss"
   ]
  },
  {
   "cell_type": "code",
   "execution_count": 9,
   "id": "86d7dea6",
   "metadata": {},
   "outputs": [],
   "source": [
    "import tensorflow as tf\n",
    "from tensorflow.keras.applications import ResNet50\n",
    "from tensorflow.keras.models import Model\n",
    "from tensorflow.keras.layers import Input, Dense, GlobalAveragePooling2D\n",
    "\n",
    "class ResNet34:\n",
    "\n",
    "    def __call__(self, shape=(32, 32, 3)):\n",
    "        \n",
    "        inputs = Input(shape=shape)\n",
    "        base_model = ResNet50(include_top=False, weights=\"imagenet\", input_shape=shape, pooling=\"avg\")\n",
    "        x = base_model(inputs)\n",
    "        output = Dense(2048)(x)\n",
    "        new_model = Model(inputs=inputs, outputs=output)\n",
    "\n",
    "        return new_model\n",
    "\n",
    "resnet = ResNet34()()\n",
    "#resnet.summary()"
   ]
  },
  {
   "cell_type": "code",
   "execution_count": 10,
   "id": "0e2e7ac9",
   "metadata": {},
   "outputs": [],
   "source": [
    "def build_twin() -> keras.Model:\n",
    "\n",
    "\n",
    "    # number of dense neurons in the projector\n",
    "    n_dense_neurons = 5000\n",
    "\n",
    "    # encoder network\n",
    "    resnet = ResNet34()()\n",
    "    last_layer = resnet.layers[-1].output\n",
    "\n",
    "    # intermediate layers of the projector network\n",
    "    n_layers = 2\n",
    "    for i in range(n_layers):\n",
    "        dense = tf.keras.layers.Dense(n_dense_neurons, name=f\"projector_dense_{i}\")\n",
    "        if i == 0:\n",
    "            x = dense(last_layer)\n",
    "        else:\n",
    "            x = dense(x)\n",
    "        x = tf.keras.layers.BatchNormalization(name=f\"projector_bn_{i}\")(x)\n",
    "        x = tf.keras.layers.ReLU(name=f\"projector_relu_{i}\")(x)\n",
    "\n",
    "    x = tf.keras.layers.Dense(n_dense_neurons, name=f\"projector_dense_{n_layers}\")(x)\n",
    "\n",
    "    model = keras.Model(resnet.input, x)\n",
    "    return model"
   ]
  },
  {
   "cell_type": "code",
   "execution_count": 11,
   "id": "b95a32c2",
   "metadata": {},
   "outputs": [],
   "source": [
    "class BarlowModel(keras.Model):\n",
    "   \n",
    "\n",
    "    def __init__(self):\n",
    "        super().__init__()\n",
    "        self.model = build_twin()\n",
    "        self.loss_tracker = keras.metrics.Mean(name=\"loss\")\n",
    "\n",
    "    @property\n",
    "    def metrics(self):\n",
    "        return [self.loss_tracker]\n",
    "\n",
    "    def train_step(self, batch: tf.Tensor) -> tf.Tensor:\n",
    "       \n",
    "        # get the two augmentations from the batch\n",
    "        y_a, y_b = batch\n",
    "\n",
    "        with tf.GradientTape() as tape:\n",
    "            # get two versions of predictions\n",
    "            z_a, z_b = self.model(y_a, training=True), self.model(y_b, training=True)\n",
    "            loss = self.loss(z_a, z_b)\n",
    "\n",
    "        grads_model = tape.gradient(loss, self.model.trainable_variables)\n",
    "\n",
    "        self.optimizer.apply_gradients(zip(grads_model, self.model.trainable_variables))\n",
    "        self.loss_tracker.update_state(loss)\n",
    "\n",
    "        return {\"loss\": self.loss_tracker.result()}"
   ]
  },
  {
   "cell_type": "code",
   "execution_count": 12,
   "id": "45528b92",
   "metadata": {},
   "outputs": [
    {
     "name": "stdout",
     "output_type": "stream",
     "text": [
      "7049/7049 [==============================] - 2617s 363ms/step - loss: 13345.6670\n"
     ]
    },
    {
     "data": {
      "image/png": "[encoded data removed]",
      "text/plain": [
       "<Figure size 640x480 with 1 Axes>"
      ]
     },
     "metadata": {},
     "output_type": "display_data"
    }
   ],
   "source": [
    "# sets up model, optimizer, loss\n",
    "\n",
    "bm = BarlowModel()\n",
    "# chose the LAMB optimizer due to high batch sizes. Converged MUCH faster\n",
    "# than ADAM or SGD\n",
    "optimizer = tfa.optimizers.LAMB()\n",
    "loss = BarlowLoss(BATCH_SIZE)\n",
    "\n",
    "bm.compile(optimizer=optimizer, loss=loss)\n",
    "\n",
    "# Expected training time: 1 hours 30 min\n",
    "\n",
    "history = bm.fit(augment_versions, epochs=1)\n",
    "plt.plot(history.history[\"loss\"])\n",
    "plt.show()"
   ]
  },
  {
   "cell_type": "code",
   "execution_count": null,
   "id": "077a5e91",
   "metadata": {},
   "outputs": [],
   "source": []
  },
  {
   "cell_type": "code",
   "execution_count": 83,
   "id": "1b388cb5",
   "metadata": {},
   "outputs": [
    {
     "name": "stderr",
     "output_type": "stream",
     "text": [
      "C:\\Users\\shaif\\AppData\\Local\\Temp\\ipykernel_22592\\1045525047.py:33: DeprecationWarning: ANTIALIAS is deprecated and will be removed in Pillow 10 (2023-07-01). Use LANCZOS or Resampling.LANCZOS instead.\n",
      "  img = img.resize((32, 32), Image.ANTIALIAS)\n"
     ]
    }
   ],
   "source": [
    "import os\n",
    "from PIL import Image\n",
    "import numpy as np\n",
    "\n",
    "def list_subdirectories(directory_path):\n",
    "    try:\n",
    "        subdirectories = [f.path for f in os.scandir(directory_path) if f.is_dir()]\n",
    "        return subdirectories\n",
    "    except Exception as e:\n",
    "        return str(e)\n",
    "\n",
    "def list_all_subdirectories_with_images(parent_directory):\n",
    "    subdirectories = list_subdirectories(parent_directory)\n",
    "    XT = []  # List to store all images\n",
    "    YT = []  # List to store labels\n",
    "    YT_count = []\n",
    "    #print(subdirectories)\n",
    "    \n",
    "    label= 0\n",
    "    length_list = []\n",
    "    for s in subdirectories:\n",
    "        \n",
    "        sub = [f.path for f in os.scandir(s) if f.is_dir()]\n",
    "        #print(sub)\n",
    "        for f in sub:\n",
    "            count = 0\n",
    "            for img_path in os.listdir(f):\n",
    "            \n",
    "                if img_path.lower().endswith(('.png', '.jpg', '.jpeg', '.gif', '.bmp')):\n",
    "                    img = Image.open(os.path.join(f, img_path))\n",
    "                    if img.mode != 'RGB':\n",
    "                        img = img.convert('RGB')\n",
    "                    img = img.resize((32, 32), Image.ANTIALIAS)\n",
    "                    img = np.array(img).astype('float32') / 255.0\n",
    "                    XT.append(img)\n",
    "                    count = count + 1\n",
    "                    YT.append(label)\n",
    "                #print(np.shape(lst))\n",
    "            length_list.append(count)\n",
    "            YT_count.append(label)\n",
    "        label=label+1    \n",
    "                \n",
    "        \n",
    "    \n",
    "    return XT, YT, YT_count, length_list\n",
    "\n",
    "# Example usage:\n",
    "directory_path = r'C:\\Users\\shaif\\Downloads\\Compressed\\Labeled Baylor 8-30-23\\Labeled Baylor 8-30-23\\Zebra Umbo 1a Image1a'\n",
    "images_list, YT, YT_count, lengths_list = list_all_subdirectories_with_images(directory_path)"
   ]
  },
  {
   "cell_type": "code",
   "execution_count": 84,
   "id": "cb154f6f",
   "metadata": {},
   "outputs": [],
   "source": [
    "from keras.utils import to_categorical\n",
    "yt = to_categorical(YT)\n",
    "ytc = to_categorical(YT_count)\n"
   ]
  },
  {
   "cell_type": "code",
   "execution_count": 85,
   "id": "26a12583",
   "metadata": {},
   "outputs": [],
   "source": [
    "# Define the number of samples for testing\n",
    "num_test_samples = np.sum(lengths_list[75:])\n",
    "# Split the lists\n",
    "X_test = images_list[:num_test_samples]\n",
    "Y_test = yt[:num_test_samples]\n",
    "X_train = images_list[num_test_samples:]\n",
    "Y_train = yt[num_test_samples:]\n",
    "y_train = ytc[num_test_samples:]\n",
    "y_test = ytc[:num_test_samples]"
   ]
  },
  {
   "cell_type": "code",
   "execution_count": 82,
   "id": "05f54924",
   "metadata": {},
   "outputs": [
    {
     "data": {
      "text/plain": [
       "(179,)"
      ]
     },
     "execution_count": 82,
     "metadata": {},
     "output_type": "execute_result"
    }
   ],
   "source": []
  },
  {
   "cell_type": "code",
   "execution_count": 89,
   "id": "99488fc2",
   "metadata": {},
   "outputs": [
    {
     "name": "stdout",
     "output_type": "stream",
     "text": [
      "Epoch 1/3\n",
      "75/75 [==============================] - 14s 76ms/step - loss: 0.0501 - accuracy: 0.9958 - val_loss: 0.0000e+00 - val_accuracy: 1.0000\n",
      "Epoch 2/3\n",
      "75/75 [==============================] - 4s 52ms/step - loss: 0.0000e+00 - accuracy: 1.0000 - val_loss: 0.0000e+00 - val_accuracy: 1.0000\n",
      "Epoch 3/3\n",
      "75/75 [==============================] - 4s 53ms/step - loss: 0.0000e+00 - accuracy: 1.0000 - val_loss: 0.0000e+00 - val_accuracy: 1.0000\n"
     ]
    },
    {
     "data": {
      "text/plain": [
       "<keras.callbacks.History at 0x279411eb850>"
      ]
     },
     "execution_count": 89,
     "metadata": {},
     "output_type": "execute_result"
    }
   ],
   "source": [
    "from tensorflow import keras\n",
    "\n",
    "from tensorflow.keras.applications import ResNet50\n",
    "from tensorflow.keras.models import Sequential\n",
    "from tensorflow.keras.layers import Dense, GlobalAveragePooling1D\n",
    "model = bm.model\n",
    "    \n",
    "num_classes = 10  # Update with the actual number of classes in your target data\n",
    "model.layers[0].trainable = False\n",
    "x = model.layers[-1].output  # Access the last 4th layer from the end\n",
    "output = Dense(2, activation='softmax')(x)\n",
    "\n",
    "# Create the new model with the updated head\n",
    "new_model = keras.models.Model(inputs=model.input, outputs=output)\n",
    "# Compile the model\n",
    "new_model.compile(optimizer='Adam', loss='categorical_crossentropy', metrics=['accuracy'])\n",
    "\n",
    "\n",
    "# Train the model\n",
    "new_model.fit(np.array(X_train).astype('float32'),Y_train, batch_size=32, epochs=3, validation_split = .2)"
   ]
  },
  {
   "cell_type": "code",
   "execution_count": null,
   "id": "21edce96",
   "metadata": {},
   "outputs": [],
   "source": []
  },
  {
   "cell_type": "code",
   "execution_count": 92,
   "id": "4ca09f40",
   "metadata": {},
   "outputs": [
    {
     "name": "stdout",
     "output_type": "stream",
     "text": [
      "150/150 [==============================] - 2s 15ms/step\n",
      "Test Accuracy: 0.20242576327896278\n"
     ]
    }
   ],
   "source": [
    "from sklearn.metrics import accuracy_score\n",
    "\n",
    "predictions = new_model.predict(np.array(X_test).astype('float32'))\n",
    "accuracy = accuracy_score(Y_test,predictions)\n",
    "print(\"Test Accuracy:\", accuracy)"
   ]
  },
  {
   "cell_type": "code",
   "execution_count": null,
   "id": "88e84da6",
   "metadata": {},
   "outputs": [],
   "source": []
  },
  {
   "cell_type": "code",
   "execution_count": null,
   "id": "f2fc5b5a",
   "metadata": {},
   "outputs": [],
   "source": []
  }
 ],
 "metadata": {
  "kernelspec": {
   "display_name": "Python 3 (ipykernel)",
   "language": "python",
   "name": "python3"
  },
  "language_info": {
   "codemirror_mode": {
    "name": "ipython",
    "version": 3
   },
   "file_extension": ".py",
   "mimetype": "text/x-python",
   "name": "python",
   "nbconvert_exporter": "python",
   "pygments_lexer": "ipython3",
   "version": "3.8.18"
  }
 },
 "nbformat": 4,
 "nbformat_minor": 5
}
