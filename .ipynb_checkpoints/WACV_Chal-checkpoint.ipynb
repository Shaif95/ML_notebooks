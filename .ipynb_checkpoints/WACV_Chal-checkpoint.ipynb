{
 "cells": [
  {
   "cell_type": "code",
   "execution_count": 3,
   "id": "22c66c14",
   "metadata": {},
   "outputs": [
    {
     "name": "stdout",
     "output_type": "stream",
     "text": [
      "JSON files generated successfully in the 'C:\\Users\\shaif\\Downloads\\Compressed\\dacl10k_v2_devphase\\dacl10k_v2_devphase\\images\\testdev\\New_JSON' folder!\n"
     ]
    }
   ],
   "source": [
    "import os\n",
    "import json\n",
    "import random\n",
    "\n",
    "# Define the directory path for images and new JSON folder\n",
    "directory_path = r'C:\\Users\\shaif\\Downloads\\Compressed\\dacl10k_v2_devphase\\dacl10k_v2_devphase\\images\\testdev'\n",
    "new_json_folder_path = os.path.join(directory_path, 'New_JSON')\n",
    "\n",
    "# Create the new JSON folder if it doesn't exist\n",
    "os.makedirs(new_json_folder_path, exist_ok=True)\n",
    "\n",
    "# Initialize an empty list to store image information\n",
    "image_info_list = []\n",
    "\n",
    "# Iterate through files in the directory\n",
    "for filename in os.listdir(directory_path):\n",
    "    if filename.endswith('.jpg') or filename.endswith('.png'):  # Add other supported image extensions if needed\n",
    "        image_path = os.path.join(directory_path, filename)\n",
    "        image_name = os.path.splitext(filename)[0] + '.jpg'  # Add .jpg to the image name\n",
    "        image_info_list.append({'name': image_name, 'path': image_path})\n",
    "\n",
    "# Generate JSON for each image\n",
    "for image_info in image_info_list:\n",
    "    json_data = {\n",
    "        \"imageWidth\": 1600,\n",
    "        \"imageHeight\": 1200,\n",
    "        \"imageName\": image_info['name'],\n",
    "        \"imagePath\": image_info['path'],\n",
    "        \"split\": \"testdev\",\n",
    "        \"version\": \"1\",\n",
    "        \"shapes\": [\n",
    "            {\n",
    "                \"label\": \"PEquipment\",\n",
    "                \"points\": [\n",
    "                    [random.uniform(0, 1600), random.uniform(0, 1200)],\n",
    "                    [random.uniform(0, 1600), random.uniform(0, 1200)],\n",
    "                    [random.uniform(0, 1600), random.uniform(0, 1200)],\n",
    "                    [random.uniform(0, 1600), random.uniform(0, 1200)]\n",
    "                ],\n",
    "                \"shape_type\": \"polygon\"\n",
    "            },\n",
    "            {\n",
    "                \"label\": \"Rust\",\n",
    "                \"points\": [\n",
    "                    [random.uniform(0, 1600), random.uniform(0, 1200)],\n",
    "                    [random.uniform(0, 1600), random.uniform(0, 1200)],\n",
    "                    [random.uniform(0, 1600), random.uniform(0, 1200)],\n",
    "                    [random.uniform(0, 1600), random.uniform(0, 1200)]\n",
    "                ],\n",
    "                \"shape_type\": \"polygon\"\n",
    "            }\n",
    "        ]\n",
    "    }\n",
    "\n",
    "    # Create JSON file in the new folder\n",
    "    json_filename = os.path.join(new_json_folder_path, os.path.splitext(image_info['name'])[0] + '.json')\n",
    "    with open(json_filename, 'w') as json_file:\n",
    "        json.dump(json_data, json_file, indent=4)\n",
    "\n",
    "print(f\"JSON files generated successfully in the '{new_json_folder_path}' folder!\")\n"
   ]
  },
  {
   "cell_type": "code",
   "execution_count": 4,
   "id": "87dedb30",
   "metadata": {},
   "outputs": [
    {
     "name": "stdout",
     "output_type": "stream",
     "text": [
      "Combined JSON files into 'C:\\Users\\shaif\\Downloads\\Compressed\\dacl10k_v2_devphase\\dacl10k_v2_devphase\\images\\testdev\\predictions.jsonl'\n"
     ]
    }
   ],
   "source": [
    "from pathlib import Path\n",
    "\n",
    "def jsons2jsonl(jsons_dir, jsonl_path):\n",
    "    \"\"\"Combine multiple json files to a jsonl ('json lines') file.\"\"\"\n",
    "    with open(jsonl_path, 'w') as f:\n",
    "        for json_path in sorted(Path(jsons_dir).glob(\"*.json\")):\n",
    "            with open(json_path, \"r\") as ff:\n",
    "                f.write(ff.read() + \"\\n\")\n",
    "\n",
    "# Define paths\n",
    "jsons_dir = r'C:\\Users\\shaif\\Downloads\\Compressed\\dacl10k_v2_devphase\\dacl10k_v2_devphase\\images\\testdev\\New_JSON'\n",
    "jsonl_path = r'C:\\Users\\shaif\\Downloads\\Compressed\\dacl10k_v2_devphase\\dacl10k_v2_devphase\\images\\testdev\\predictions.jsonl'\n",
    "\n",
    "# Combine the JSON files to a JSONL file\n",
    "jsons2jsonl(jsons_dir, jsonl_path)\n",
    "\n",
    "print(f\"Combined JSON files into '{jsonl_path}'\")\n"
   ]
  },
  {
   "cell_type": "code",
   "execution_count": null,
   "id": "7ba78d88",
   "metadata": {},
   "outputs": [],
   "source": []
  },
  {
   "cell_type": "code",
   "execution_count": null,
   "id": "ab306bc6",
   "metadata": {},
   "outputs": [],
   "source": []
  },
  {
   "cell_type": "code",
   "execution_count": null,
   "id": "e2cf8a52",
   "metadata": {},
   "outputs": [],
   "source": []
  },
  {
   "cell_type": "code",
   "execution_count": null,
   "id": "97d23f10",
   "metadata": {},
   "outputs": [],
   "source": []
  },
  {
   "cell_type": "code",
   "execution_count": 9,
   "id": "e7163337",
   "metadata": {},
   "outputs": [],
   "source": []
  },
  {
   "cell_type": "code",
   "execution_count": 49,
   "id": "56cbee72",
   "metadata": {},
   "outputs": [],
   "source": []
  },
  {
   "cell_type": "code",
   "execution_count": 50,
   "id": "b26c0697",
   "metadata": {},
   "outputs": [],
   "source": []
  },
  {
   "cell_type": "code",
   "execution_count": null,
   "id": "ebb9f04d",
   "metadata": {},
   "outputs": [],
   "source": []
  },
  {
   "cell_type": "code",
   "execution_count": 52,
   "id": "3a0c9d3f",
   "metadata": {},
   "outputs": [],
   "source": []
  },
  {
   "cell_type": "code",
   "execution_count": 53,
   "id": "c79c97b7",
   "metadata": {},
   "outputs": [],
   "source": []
  },
  {
   "cell_type": "code",
   "execution_count": null,
   "id": "7fe4708d",
   "metadata": {},
   "outputs": [],
   "source": []
  },
  {
   "cell_type": "code",
   "execution_count": 55,
   "id": "b98980f8",
   "metadata": {},
   "outputs": [],
   "source": []
  },
  {
   "cell_type": "code",
   "execution_count": null,
   "id": "a4747499",
   "metadata": {},
   "outputs": [],
   "source": []
  },
  {
   "cell_type": "code",
   "execution_count": null,
   "id": "b8668a42",
   "metadata": {},
   "outputs": [],
   "source": []
  },
  {
   "cell_type": "code",
   "execution_count": null,
   "id": "dce56bfa",
   "metadata": {},
   "outputs": [],
   "source": []
  },
  {
   "cell_type": "code",
   "execution_count": null,
   "id": "db010f55",
   "metadata": {},
   "outputs": [],
   "source": []
  },
  {
   "cell_type": "code",
   "execution_count": null,
   "id": "79324537",
   "metadata": {},
   "outputs": [],
   "source": []
  },
  {
   "cell_type": "code",
   "execution_count": null,
   "id": "aff17b35",
   "metadata": {},
   "outputs": [],
   "source": []
  },
  {
   "cell_type": "code",
   "execution_count": null,
   "id": "990186ca",
   "metadata": {},
   "outputs": [],
   "source": []
  },
  {
   "cell_type": "code",
   "execution_count": null,
   "id": "3a4d4f77",
   "metadata": {},
   "outputs": [],
   "source": []
  },
  {
   "cell_type": "code",
   "execution_count": null,
   "id": "8500db15",
   "metadata": {},
   "outputs": [],
   "source": []
  },
  {
   "cell_type": "code",
   "execution_count": null,
   "id": "e2d4e708",
   "metadata": {},
   "outputs": [],
   "source": []
  },
  {
   "cell_type": "code",
   "execution_count": null,
   "id": "f0e60fad",
   "metadata": {},
   "outputs": [],
   "source": []
  },
  {
   "cell_type": "code",
   "execution_count": null,
   "id": "790d2550",
   "metadata": {},
   "outputs": [],
   "source": []
  },
  {
   "cell_type": "code",
   "execution_count": null,
   "id": "888605cd",
   "metadata": {},
   "outputs": [],
   "source": []
  },
  {
   "cell_type": "code",
   "execution_count": null,
   "id": "fda4ab13",
   "metadata": {},
   "outputs": [],
   "source": []
  },
  {
   "cell_type": "code",
   "execution_count": null,
   "id": "d046688b",
   "metadata": {},
   "outputs": [],
   "source": []
  },
  {
   "cell_type": "code",
   "execution_count": null,
   "id": "423bdb36",
   "metadata": {},
   "outputs": [],
   "source": []
  },
  {
   "cell_type": "code",
   "execution_count": null,
   "id": "ecfb633e",
   "metadata": {},
   "outputs": [],
   "source": []
  },
  {
   "cell_type": "code",
   "execution_count": null,
   "id": "5bb408ec",
   "metadata": {},
   "outputs": [],
   "source": []
  },
  {
   "cell_type": "code",
   "execution_count": null,
   "id": "8b03286a",
   "metadata": {},
   "outputs": [],
   "source": []
  },
  {
   "cell_type": "code",
   "execution_count": null,
   "id": "05cf88f4",
   "metadata": {},
   "outputs": [],
   "source": []
  }
 ],
 "metadata": {
  "kernelspec": {
   "display_name": "Python 3 (ipykernel)",
   "language": "python",
   "name": "python3"
  },
  "language_info": {
   "codemirror_mode": {
    "name": "ipython",
    "version": 3
   },
   "file_extension": ".py",
   "mimetype": "text/x-python",
   "name": "python",
   "nbconvert_exporter": "python",
   "pygments_lexer": "ipython3",
   "version": "3.8.16"
  }
 },
 "nbformat": 4,
 "nbformat_minor": 5
}
