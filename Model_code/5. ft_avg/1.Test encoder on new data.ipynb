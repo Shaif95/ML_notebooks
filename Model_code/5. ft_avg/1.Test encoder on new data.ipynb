{
 "cells": [
  {
   "cell_type": "code",
   "execution_count": 1,
   "id": "2da25552",
   "metadata": {},
   "outputs": [],
   "source": [
    "import numpy as np # linear algebra\n",
    "import pandas as pd # data processing, CSV file I/O (e.g. pd.read_csv)\n",
    "import os\n",
    "from sklearn.model_selection import train_test_split\n",
    "import json\n",
    "import glob\n",
    "import random\n",
    "import collections\n",
    "from glob import glob\n",
    "import numpy as np\n",
    "import pandas as pd\n",
    "import cv2\n",
    "import matplotlib.pyplot as plt\n",
    "import numpy as np\n",
    "import pandas as pd\n",
    "from sklearn.utils import shuffle\n",
    "\n",
    "from skimage.io import imread\n",
    "from skimage.transform import resize\n",
    "from keras import layers\n",
    "from keras import models\n",
    "import keras\n",
    "from keras.layers import LeakyReLU\n",
    "from keras.models import Sequential, Model, load_model\n",
    "from keras.layers import Input, Conv1D, Conv2D, MaxPooling1D, MaxPooling2D, Dense, Dropout, Activation, Flatten\n",
    "import tensorflow as tf\n",
    "from tensorflow import keras\n",
    "from tensorflow.keras import layers\n",
    "\n",
    "import seaborn as sns\n",
    "import shutil\n",
    "import keras\n",
    "from PIL import Image"
   ]
  },
  {
   "cell_type": "code",
   "execution_count": 2,
   "id": "cd6e4c57",
   "metadata": {},
   "outputs": [],
   "source": [
    "from glob import glob\n",
    "trn1='D:/invasive-aquatic-species-data/test_data/invasive/*/'\n",
    "trn2='D:/invasive-aquatic-species-data/test_data/noninvasive/*/'\n",
    "tr1= glob(trn1)\n",
    "tr2= glob(trn2)"
   ]
  },
  {
   "cell_type": "code",
   "execution_count": null,
   "id": "df0dca10",
   "metadata": {},
   "outputs": [],
   "source": []
  },
  {
   "cell_type": "code",
   "execution_count": 3,
   "id": "b60c0686",
   "metadata": {},
   "outputs": [
    {
     "data": {
      "text/plain": [
       "3653"
      ]
     },
     "execution_count": 3,
     "metadata": {},
     "output_type": "execute_result"
    }
   ],
   "source": [
    "imgs = glob(tr1[9]+'/*')\n",
    "len(tr2)"
   ]
  },
  {
   "cell_type": "code",
   "execution_count": 4,
   "id": "1b15a935",
   "metadata": {},
   "outputs": [
    {
     "data": {
      "text/plain": [
       "46.24"
      ]
     },
     "execution_count": 4,
     "metadata": {},
     "output_type": "execute_result"
    }
   ],
   "source": [
    "f = 0\n",
    "for i in range(0,len(tr1)):\n",
    "    f = f + len(glob(tr1[i]+'/*'))\n",
    "    \n",
    "a = f/ len(tr1)\n",
    "a"
   ]
  },
  {
   "cell_type": "code",
   "execution_count": 3,
   "id": "6b9d38a0",
   "metadata": {},
   "outputs": [
    {
     "data": {
      "text/plain": [
       "411.0"
      ]
     },
     "execution_count": 3,
     "metadata": {},
     "output_type": "execute_result"
    }
   ],
   "source": [
    "tran_index_inv = np.round( len(tr1)* .9 )\n",
    "tran_index_noninv = np.round( len(tr2)* .9  )\n",
    "tran_index_noninv"
   ]
  },
  {
   "cell_type": "code",
   "execution_count": 4,
   "id": "ac1c76b8",
   "metadata": {},
   "outputs": [
    {
     "name": "stdout",
     "output_type": "stream",
     "text": [
      "WARNING:tensorflow:No training configuration found in the save file, so the model was *not* compiled. Compile it manually.\n"
     ]
    }
   ],
   "source": [
    "from keras.models import load_model\n",
    "from keras.callbacks import Callback,ModelCheckpoint\n",
    "from keras.models import Sequential,load_model\n",
    "from keras.layers import Dense, Dropout\n",
    "from keras.wrappers.scikit_learn import KerasClassifier\n",
    "import keras.backend as K\n",
    "import numpy as np\n",
    "import pandas as pd\n",
    "\n",
    "from skimage.io import imread\n",
    "from skimage.transform import resize\n",
    "from keras import layers\n",
    "from keras import models\n",
    "import keras\n",
    "from keras.layers import LeakyReLU\n",
    "from keras.models import Sequential, Model, load_model\n",
    "from keras.layers import Input, Conv1D,Reshape, Conv2D, MaxPooling1D, MaxPooling2D, Dense, Dropout, Activation, Flatten, UpSampling2D\n",
    "import tensorflow as tf\n",
    "from tensorflow import keras\n",
    "from tensorflow.keras import layers\n",
    "\n",
    "\n",
    "encoder = load_model('encoder48.h5')\n",
    "#model = load_model('encoder80.h5')\n",
    "#encoder = Model(inputs=model.input, outputs=model.get_layer('encoder').output)"
   ]
  },
  {
   "cell_type": "code",
   "execution_count": null,
   "id": "48727108",
   "metadata": {},
   "outputs": [],
   "source": []
  },
  {
   "cell_type": "code",
   "execution_count": 5,
   "id": "122b9f69",
   "metadata": {},
   "outputs": [
    {
     "data": {
      "text/plain": [
       "array([-0.06021745,  0.01729329, -0.00257478,  0.04691028,  0.053579  ,\n",
       "       -0.06395623,  0.03128548,  0.07539868, -0.0112652 ,  0.02422661,\n",
       "       -0.0428224 ,  0.00888517,  0.09590003,  0.08035707,  0.01714872,\n",
       "       -0.06256178, -0.12277011,  0.10851271,  0.10482202, -0.01704998,\n",
       "        0.04836305, -0.08110195, -0.08291037,  0.11618997,  0.12639362,\n",
       "        0.0219192 ,  0.06186473, -0.03086461,  0.01473914,  0.11666664,\n",
       "        0.00780036, -0.02140031,  0.01210834, -0.190374  ,  0.02243346,\n",
       "        0.03675771, -0.10962085,  0.06970019, -0.01675796, -0.00954722,\n",
       "        0.02685912,  0.1673231 , -0.20077865, -0.01616453, -0.06989853,\n",
       "       -0.0423028 ,  0.05984613,  0.16963139], dtype=float32)"
      ]
     },
     "execution_count": 5,
     "metadata": {},
     "output_type": "execute_result"
    }
   ],
   "source": [
    "data = []\n",
    "label = []\n",
    "breath = []\n",
    "total = 0\n",
    "\n",
    "for j in tr1[:(int) (tran_index_inv)]:\n",
    "    label.append(1)\n",
    "    a = glob(j+'/*')\n",
    "    breath.append(len(a))\n",
    "    total = total + len(a)\n",
    "    \n",
    "for j in tr2[:(int) (tran_index_noninv)]:\n",
    "    label.append(0)\n",
    "    a = glob(j+'/*')\n",
    "    breath.append(len(a)) \n",
    "    total = total + len(a)\n",
    "\n",
    "for j in range(0,len(tr1[:(int) (tran_index_inv)])):\n",
    "    a = glob(tr1[j]+'/*')\n",
    "    for k in range(0,len(a)):\n",
    "        data.append(a[k])\n",
    "\n",
    "for j in range(0,len(tr2[:(int) (tran_index_noninv)])):\n",
    "    a = glob(tr2[j]+'/*')\n",
    "    for k in range(0,len(a)):\n",
    "        data.append(a[k])        \n",
    "        \n",
    "\n",
    "imgdata=[]\n",
    "for i in range(len(data)):\n",
    "    a = Image.open(data[i])\n",
    "    b = a.resize((40, 40))\n",
    "    c = np.array(b)\n",
    "    imgdata.append(c.reshape(40,40,3))\n",
    "    \n",
    "from tensorflow.keras.utils import to_categorical\n",
    "idata = np.array(imgdata)\n",
    "X_train = idata\n",
    "X_train = X_train.astype('float32') / 255.\n",
    "X_train = np.reshape(X_train, (len(X_train),40,40,3))\n",
    "\n",
    "encoded = encoder.predict(X_train)\n",
    "\n",
    "encoded[5]"
   ]
  },
  {
   "cell_type": "code",
   "execution_count": 44,
   "id": "4ba987d5",
   "metadata": {},
   "outputs": [
    {
     "data": {
      "text/plain": [
       "[22,\n",
       " 26,\n",
       " 20,\n",
       " 29,\n",
       " 32,\n",
       " 30,\n",
       " 28,\n",
       " 25,\n",
       " 27,\n",
       " 30,\n",
       " 25,\n",
       " 28,\n",
       " 35,\n",
       " 38,\n",
       " 44,\n",
       " 39,\n",
       " 37,\n",
       " 38,\n",
       " 37,\n",
       " 37,\n",
       " 34,\n",
       " 38,\n",
       " 39,\n",
       " 49,\n",
       " 29,\n",
       " 37,\n",
       " 38,\n",
       " 27,\n",
       " 54,\n",
       " 35,\n",
       " 32,\n",
       " 43,\n",
       " 40,\n",
       " 26,\n",
       " 33,\n",
       " 42,\n",
       " 36,\n",
       " 27,\n",
       " 25,\n",
       " 29,\n",
       " 29,\n",
       " 41,\n",
       " 41,\n",
       " 36,\n",
       " 31,\n",
       " 24,\n",
       " 18,\n",
       " 26,\n",
       " 22,\n",
       " 24,\n",
       " 18,\n",
       " 21,\n",
       " 25,\n",
       " 26,\n",
       " 26,\n",
       " 29,\n",
       " 20,\n",
       " 22,\n",
       " 23,\n",
       " 18,\n",
       " 19,\n",
       " 20,\n",
       " 20,\n",
       " 21,\n",
       " 21,\n",
       " 26,\n",
       " 29,\n",
       " 21,\n",
       " 28,\n",
       " 22,\n",
       " 24,\n",
       " 19,\n",
       " 17,\n",
       " 20,\n",
       " 18,\n",
       " 25,\n",
       " 31,\n",
       " 19,\n",
       " 14,\n",
       " 21,\n",
       " 23,\n",
       " 20,\n",
       " 24,\n",
       " 25,\n",
       " 26,\n",
       " 29,\n",
       " 21,\n",
       " 20,\n",
       " 22,\n",
       " 21,\n",
       " 14,\n",
       " 22,\n",
       " 25,\n",
       " 22,\n",
       " 25,\n",
       " 28,\n",
       " 26,\n",
       " 20,\n",
       " 22,\n",
       " 25,\n",
       " 7,\n",
       " 23,\n",
       " 20,\n",
       " 22,\n",
       " 21,\n",
       " 23,\n",
       " 19,\n",
       " 29,\n",
       " 14,\n",
       " 20,\n",
       " 24,\n",
       " 25,\n",
       " 21,\n",
       " 37,\n",
       " 21,\n",
       " 25,\n",
       " 19,\n",
       " 28,\n",
       " 31,\n",
       " 29,\n",
       " 18,\n",
       " 26,\n",
       " 23,\n",
       " 17,\n",
       " 22,\n",
       " 30,\n",
       " 24,\n",
       " 21,\n",
       " 24,\n",
       " 33,\n",
       " 24,\n",
       " 25,\n",
       " 25,\n",
       " 23,\n",
       " 22,\n",
       " 31,\n",
       " 25,\n",
       " 25,\n",
       " 20,\n",
       " 19,\n",
       " 26,\n",
       " 21,\n",
       " 25,\n",
       " 15,\n",
       " 25,\n",
       " 27,\n",
       " 24,\n",
       " 24,\n",
       " 19,\n",
       " 23,\n",
       " 24,\n",
       " 26,\n",
       " 27,\n",
       " 27,\n",
       " 21,\n",
       " 20,\n",
       " 16,\n",
       " 26,\n",
       " 24,\n",
       " 22,\n",
       " 22,\n",
       " 26,\n",
       " 20,\n",
       " 35,\n",
       " 21,\n",
       " 23,\n",
       " 20,\n",
       " 20,\n",
       " 26,\n",
       " 28,\n",
       " 24,\n",
       " 25,\n",
       " 20,\n",
       " 24,\n",
       " 21,\n",
       " 21,\n",
       " 23,\n",
       " 25,\n",
       " 13,\n",
       " 28,\n",
       " 21,\n",
       " 24,\n",
       " 12,\n",
       " 27,\n",
       " 24,\n",
       " 24,\n",
       " 23,\n",
       " 22,\n",
       " 22,\n",
       " 24,\n",
       " 25,\n",
       " 26,\n",
       " 21,\n",
       " 25,\n",
       " 24,\n",
       " 22,\n",
       " 22,\n",
       " 29,\n",
       " 26,\n",
       " 23,\n",
       " 25,\n",
       " 27,\n",
       " 21,\n",
       " 20,\n",
       " 22,\n",
       " 43,\n",
       " 21,\n",
       " 26,\n",
       " 25,\n",
       " 40,\n",
       " 18,\n",
       " 26,\n",
       " 15,\n",
       " 22,\n",
       " 25]"
      ]
     },
     "execution_count": 44,
     "metadata": {},
     "output_type": "execute_result"
    }
   ],
   "source": [
    "breath"
   ]
  },
  {
   "cell_type": "code",
   "execution_count": 6,
   "id": "8666bad3",
   "metadata": {},
   "outputs": [
    {
     "data": {
      "text/plain": [
       "(527, 48)"
      ]
     },
     "execution_count": 6,
     "metadata": {},
     "output_type": "execute_result"
    }
   ],
   "source": [
    "end= 0\n",
    "train_df= []\n",
    "for i in range(0, len(breath)):\n",
    "    \n",
    "    y = end+breath[i]\n",
    "    en_sum = [sum(x) for x in zip(*encoded[end:y])]\n",
    "    res = [(x/breath[i]) for x in (en_sum)]\n",
    "    train_df.append(res)\n",
    "    #print(en_sum)\n",
    "    #print(res)\n",
    "    end = end + breath[i]\n",
    "        \n",
    "Y_train = to_categorical(label)\n",
    "train_df = np.array(train_df,dtype=object)\n",
    "train_df,Y_train = shuffle(train_df,Y_train)\n",
    "np.shape(train_df)"
   ]
  },
  {
   "cell_type": "code",
   "execution_count": 9,
   "id": "ead04f77",
   "metadata": {},
   "outputs": [
    {
     "data": {
      "text/plain": [
       "(527, 48)"
      ]
     },
     "execution_count": 9,
     "metadata": {},
     "output_type": "execute_result"
    }
   ],
   "source": [
    "np.shape(train_df)"
   ]
  },
  {
   "cell_type": "code",
   "execution_count": null,
   "id": "60d64f33",
   "metadata": {},
   "outputs": [],
   "source": []
  },
  {
   "cell_type": "code",
   "execution_count": 7,
   "id": "d3f433df",
   "metadata": {},
   "outputs": [],
   "source": [
    "import numpy as np\n",
    "import pandas as pd\n",
    "\n",
    "from skimage.io import imread\n",
    "from skimage.transform import resize\n",
    "from keras import layers\n",
    "from keras import models\n",
    "import keras\n",
    "from keras.layers import LeakyReLU\n",
    "from keras.models import Sequential, Model, load_model\n",
    "from keras.layers import Input, Conv1D, Conv2D, MaxPooling1D, MaxPooling2D, Dense, Dropout, Activation, Flatten\n",
    "import tensorflow as tf\n",
    "from tensorflow import keras\n",
    "from tensorflow.keras import layers\n",
    "\n",
    "from keras.callbacks import Callback,ModelCheckpoint\n",
    "from keras.models import Sequential,load_model\n",
    "from keras.layers import Dense, Dropout\n",
    "from keras.wrappers.scikit_learn import KerasClassifier\n",
    "import keras.backend as K\n",
    "\n",
    "def get_f1(y_true, y_pred): #taken from old keras source code\n",
    "    tp = K.sum(K.round(K.clip(y_true * y_pred, 0, 1)))\n",
    "    \n",
    "    tn = K.sum(K.round(K.clip((1-y_true) * (1-y_pred), 0, 1)))\n",
    "    fp = K.sum(K.round(K.clip((1-y_true) * (y_pred), 0, 1)))\n",
    "    fn = K.sum(K.round(K.clip((y_true) * (1-y_pred), 0, 1)))\n",
    "    \n",
    "\n",
    "    f1_val = tp / ( tp + ( (1/2) * (fp+fn) ) + K.epsilon())\n",
    "    return f1_val"
   ]
  },
  {
   "cell_type": "code",
   "execution_count": 12,
   "id": "5d7728ed",
   "metadata": {},
   "outputs": [],
   "source": [
    "from keras.models import load_model\n",
    "\n",
    "model = load_model('classifier.h5') "
   ]
  },
  {
   "cell_type": "code",
   "execution_count": 55,
   "id": "b738458a",
   "metadata": {},
   "outputs": [],
   "source": [
    "Y_train = to_categorical(label)"
   ]
  },
  {
   "cell_type": "code",
   "execution_count": 13,
   "id": "ab7f4472",
   "metadata": {},
   "outputs": [
    {
     "data": {
      "text/plain": [
       "array([[411,   0],\n",
       "       [115,   1]], dtype=int64)"
      ]
     },
     "execution_count": 13,
     "metadata": {},
     "output_type": "execute_result"
    }
   ],
   "source": [
    "Y_test = np.array(Y_train)\n",
    "test_df = np.array(train_df).astype('float32')\n",
    "pred = model.predict(test_df)\n",
    "p = np.round(pred)\n",
    "#f1 = get_f1(Y_test, p)\n",
    "#f1\n",
    "\n",
    "y_p = []\n",
    "for i in range(len(p)):\n",
    "    if ( p[i][0] == 0 ):\n",
    "        y_p.append(1)\n",
    "    else :\n",
    "        y_p.append(0)\n",
    "y_p = np.array(y_p)\n",
    "y_t = []\n",
    "for i in range(len(Y_test)):\n",
    "    if ( Y_test[i][0] == 0 ):\n",
    "        y_t.append(1)\n",
    "    else :\n",
    "        y_t.append(0)\n",
    "y_t = np.array(y_t)\n",
    "\n",
    "from sklearn.metrics import confusion_matrix\n",
    "a=(confusion_matrix(y_t, y_p , labels=[0,1]))\n",
    "a"
   ]
  },
  {
   "cell_type": "code",
   "execution_count": null,
   "id": "97103597",
   "metadata": {},
   "outputs": [],
   "source": []
  },
  {
   "cell_type": "code",
   "execution_count": null,
   "id": "6bc0e16c",
   "metadata": {},
   "outputs": [],
   "source": []
  },
  {
   "cell_type": "code",
   "execution_count": null,
   "id": "d95efafa",
   "metadata": {},
   "outputs": [],
   "source": []
  },
  {
   "cell_type": "code",
   "execution_count": null,
   "id": "59b8fe9e",
   "metadata": {},
   "outputs": [],
   "source": []
  },
  {
   "cell_type": "code",
   "execution_count": null,
   "id": "c2c0926e",
   "metadata": {},
   "outputs": [],
   "source": []
  },
  {
   "cell_type": "code",
   "execution_count": null,
   "id": "3a280aed",
   "metadata": {},
   "outputs": [],
   "source": []
  },
  {
   "cell_type": "code",
   "execution_count": null,
   "id": "13f034b9",
   "metadata": {},
   "outputs": [],
   "source": []
  },
  {
   "cell_type": "code",
   "execution_count": null,
   "id": "e60e6263",
   "metadata": {},
   "outputs": [],
   "source": []
  },
  {
   "cell_type": "code",
   "execution_count": null,
   "id": "c1f61aad",
   "metadata": {},
   "outputs": [],
   "source": []
  },
  {
   "cell_type": "code",
   "execution_count": null,
   "id": "14e82585",
   "metadata": {},
   "outputs": [],
   "source": []
  },
  {
   "cell_type": "code",
   "execution_count": null,
   "id": "4766dc2d",
   "metadata": {},
   "outputs": [],
   "source": []
  },
  {
   "cell_type": "code",
   "execution_count": null,
   "id": "30bd84e3",
   "metadata": {},
   "outputs": [],
   "source": []
  },
  {
   "cell_type": "code",
   "execution_count": null,
   "id": "7b2446ee",
   "metadata": {},
   "outputs": [],
   "source": []
  },
  {
   "cell_type": "code",
   "execution_count": null,
   "id": "f3282fb1",
   "metadata": {},
   "outputs": [],
   "source": []
  },
  {
   "cell_type": "code",
   "execution_count": null,
   "id": "852fa429",
   "metadata": {},
   "outputs": [],
   "source": []
  },
  {
   "cell_type": "code",
   "execution_count": null,
   "id": "ef63182a",
   "metadata": {},
   "outputs": [],
   "source": []
  }
 ],
 "metadata": {
  "kernelspec": {
   "display_name": "Python 3",
   "language": "python",
   "name": "python3"
  },
  "language_info": {
   "codemirror_mode": {
    "name": "ipython",
    "version": 3
   },
   "file_extension": ".py",
   "mimetype": "text/x-python",
   "name": "python",
   "nbconvert_exporter": "python",
   "pygments_lexer": "ipython3",
   "version": "3.8.8"
  }
 },
 "nbformat": 4,
 "nbformat_minor": 5
}
