{
 "cells": [
  {
   "cell_type": "code",
   "execution_count": 1,
   "id": "6b8741ed",
   "metadata": {},
   "outputs": [],
   "source": [
    "import numpy as np # linear algebra\n",
    "import pandas as pd # data processing, CSV file I/O (e.g. pd.read_csv)\n",
    "import os\n",
    "from sklearn.model_selection import train_test_split\n",
    "import json\n",
    "import glob\n",
    "import random\n",
    "import collections\n",
    "from glob import glob\n",
    "import numpy as np\n",
    "import pandas as pd\n",
    "import cv2\n",
    "import matplotlib.pyplot as plt\n",
    "import numpy as np\n",
    "import pandas as pd\n",
    "from sklearn.utils import shuffle\n",
    "\n",
    "from skimage.io import imread\n",
    "from skimage.transform import resize\n",
    "from keras import layers\n",
    "from keras import models\n",
    "import keras\n",
    "from keras.layers import LeakyReLU\n",
    "from keras.models import Sequential, Model, load_model\n",
    "from keras.layers import Input, Conv1D, Conv2D, MaxPooling1D, MaxPooling2D, Dense, Dropout, Activation, Flatten\n",
    "import tensorflow as tf\n",
    "from tensorflow import keras\n",
    "from tensorflow.keras import layers\n",
    "\n",
    "import seaborn as sns\n",
    "import shutil\n",
    "import keras\n",
    "from PIL import Image\n",
    "import cv2\n",
    "import numpy as np\n",
    "import matplotlib.pyplot as plt\n",
    "%matplotlib inline\n",
    "import pandas as pd\n",
    "import keras\n",
    "import json\n",
    "import tensorflow as tf \n",
    "from keras.layers import Input\n",
    "from keras import Sequential\n",
    "from keras.layers import Dense, LSTM,Flatten, TimeDistributed, Conv2D, Dropout\n",
    "from keras.applications.inception_v3 import InceptionV3\n",
    "from keras.applications.vgg16 import VGG16"
   ]
  },
  {
   "cell_type": "code",
   "execution_count": 2,
   "id": "066136f4",
   "metadata": {},
   "outputs": [],
   "source": [
    "from glob import glob\n",
    "import cv2\n",
    "from PIL import Image, ImageStat\n",
    "import math\n",
    "from glob import glob\n",
    "import cv2\n",
    "trn1='D:/Inv_Data_Imbalance/data/invasive-aquatic-species-data/invasive/*/'\n",
    "trn2='D:/Inv_Data_Imbalance/data/invasive-aquatic-species-data/noninvasive/*/'\n",
    "tr1= glob(trn1)\n",
    "tr2= glob(trn2)"
   ]
  },
  {
   "cell_type": "code",
   "execution_count": 5,
   "id": "a6b20c05",
   "metadata": {},
   "outputs": [
    {
     "data": {
      "text/plain": [
       "740.0"
      ]
     },
     "execution_count": 5,
     "metadata": {},
     "output_type": "execute_result"
    }
   ],
   "source": [
    "tran_index_inv = np.round( len(tr1)* .20  )\n",
    "tran_index_noninv = np.round( len(tr2)* .20  )\n",
    "tran_index_noninv"
   ]
  },
  {
   "cell_type": "code",
   "execution_count": 6,
   "id": "1b755c1a",
   "metadata": {},
   "outputs": [],
   "source": [
    "data = []\n",
    "label = []\n",
    "for i in tr1[:(int) (tran_index_inv)]:\n",
    "    for j in glob(i+'/*'):\n",
    "        data.append(j)\n",
    "        label.append(1)\n",
    "\n",
    "\n",
    "for i in tr2[:(int)(tran_index_noninv)]:\n",
    "    for j in glob(i+'/*'):\n",
    "        data.append(j)\n",
    "        label.append(0)\n",
    "\n",
    "imgdata=[]\n",
    "for i in range(len(data)):\n",
    "    a = Image.open(data[i])\n",
    "    b = a.resize((48, 48))\n",
    "    c = np.array(b)\n",
    "    imgdata.append(c.reshape(48,48,3))\n",
    "    "
   ]
  },
  {
   "cell_type": "code",
   "execution_count": 7,
   "id": "e87669b2",
   "metadata": {},
   "outputs": [],
   "source": [
    "from tensorflow.keras.utils import to_categorical\n",
    "idata = np.array(imgdata)\n",
    "X_train = idata\n",
    "X_train = X_train.astype('float32') / 255.\n",
    "X_train = np.reshape(X_train, (len(X_train),48,48,3))\n",
    "# One hot vector representation of labels\n",
    "Y_train = to_categorical(label)\n",
    "\n",
    "X_train,Y_train = shuffle(X_train,Y_train)"
   ]
  },
  {
   "cell_type": "code",
   "execution_count": null,
   "id": "e54bc633",
   "metadata": {},
   "outputs": [],
   "source": [
    "import numpy as np\n",
    "import pandas as pd\n",
    "\n",
    "\n",
    "from skimage.io import imread\n",
    "from skimage.transform import resize\n",
    "from keras import layers\n",
    "from keras import models\n",
    "import keras\n",
    "from keras.layers import LeakyReLU\n",
    "from keras.models import Sequential, Model, load_model\n",
    "from keras.layers import Input, Conv1D, Conv2D, MaxPooling1D, MaxPooling2D, Dense, Dropout, Activation, Flatten\n",
    "import tensorflow as tf\n",
    "from tensorflow import keras\n",
    "from tensorflow.keras import layers\n",
    "\n",
    "from keras.callbacks import Callback,ModelCheckpoint\n",
    "from keras.models import Sequential,load_model\n",
    "from keras.layers import Dense, Dropout\n",
    "from keras.wrappers.scikit_learn import KerasClassifier\n",
    "import keras.backend as K\n",
    "\n",
    "def get_f1(y_true, y_pred): #taken from old keras source code\n",
    "    tp = K.sum(K.round(K.clip(y_true * y_pred, 0, 1)))\n",
    "    \n",
    "    tn = K.sum(K.round(K.clip((1-y_true) * (1-y_pred), 0, 1)))\n",
    "    fp = K.sum(K.round(K.clip((1-y_true) * (y_pred), 0, 1)))\n",
    "    fn = K.sum(K.round(K.clip((y_true) * (1-y_pred), 0, 1)))\n",
    "    \n",
    "    \n",
    "    f1_val = tp / ( tp + ( (1/2) * (fp+fn) ) + K.epsilon())\n",
    "    return f1_val"
   ]
  },
  {
   "cell_type": "code",
   "execution_count": 14,
   "id": "38585cf2",
   "metadata": {},
   "outputs": [],
   "source": [
    "from keras.models import load_model\n",
    "\n",
    "model = tf.keras.models.load_model('models/model_d3_fold2.h5') "
   ]
  },
  {
   "cell_type": "code",
   "execution_count": 22,
   "id": "5093387e",
   "metadata": {},
   "outputs": [],
   "source": [
    "pred = model.predict(X_train)\n",
    "predictions = pred[:,0]"
   ]
  },
  {
   "cell_type": "code",
   "execution_count": 23,
   "id": "0dcaee8a",
   "metadata": {},
   "outputs": [],
   "source": [
    "count  = np.size(predictions)\n",
    "mean   = np.mean(predictions)\n",
    "stdev  = np.std(predictions)\n",
    "median = np.median(predictions)\n",
    "min    = np.min(predictions)\n",
    "max    = np.max(predictions)"
   ]
  },
  {
   "cell_type": "code",
   "execution_count": 25,
   "id": "8fd2f224",
   "metadata": {},
   "outputs": [
    {
     "data": {
      "text/plain": [
       "0.3396333"
      ]
     },
     "execution_count": 25,
     "metadata": {},
     "output_type": "execute_result"
    }
   ],
   "source": [
    "stdev"
   ]
  },
  {
   "cell_type": "code",
   "execution_count": 18,
   "id": "c3434fdf",
   "metadata": {},
   "outputs": [
    {
     "data": {
      "text/plain": [
       "array([[7.8825063e-01, 2.1174936e-01],\n",
       "       [6.2836293e-04, 9.9937171e-01],\n",
       "       [9.6614689e-01, 3.3853129e-02],\n",
       "       ...,\n",
       "       [2.1570355e-01, 7.8429645e-01],\n",
       "       [9.9959415e-01, 4.0590530e-04],\n",
       "       [4.9594074e-01, 5.0405920e-01]], dtype=float32)"
      ]
     },
     "execution_count": 18,
     "metadata": {},
     "output_type": "execute_result"
    }
   ],
   "source": [
    "predictions"
   ]
  },
  {
   "cell_type": "code",
   "execution_count": 21,
   "id": "e51b7625",
   "metadata": {},
   "outputs": [
    {
     "data": {
      "text/plain": [
       "array([7.8825063e-01, 6.2836293e-04, 9.6614689e-01, ..., 2.1570355e-01,\n",
       "       9.9959415e-01, 4.9594074e-01], dtype=float32)"
      ]
     },
     "execution_count": 21,
     "metadata": {},
     "output_type": "execute_result"
    }
   ],
   "source": [
    "predictions[:,0]"
   ]
  },
  {
   "cell_type": "code",
   "execution_count": null,
   "id": "5d8faa67",
   "metadata": {},
   "outputs": [],
   "source": []
  },
  {
   "cell_type": "code",
   "execution_count": null,
   "id": "b34b099c",
   "metadata": {},
   "outputs": [],
   "source": []
  }
 ],
 "metadata": {
  "kernelspec": {
   "display_name": "Python 3 (ipykernel)",
   "language": "python",
   "name": "python3"
  },
  "language_info": {
   "codemirror_mode": {
    "name": "ipython",
    "version": 3
   },
   "file_extension": ".py",
   "mimetype": "text/x-python",
   "name": "python",
   "nbconvert_exporter": "python",
   "pygments_lexer": "ipython3",
   "version": "3.9.7"
  }
 },
 "nbformat": 4,
 "nbformat_minor": 5
}
