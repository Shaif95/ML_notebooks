{
 "cells": [
  {
   "cell_type": "code",
   "execution_count": 22,
   "id": "b8006509",
   "metadata": {},
   "outputs": [],
   "source": [
    "import glob\n",
    "\n",
    "# Invasive category\n",
    "invasive_dirs = [\n",
    "    r'D:\\VeligerData\\Baylor 2022-03-21_2\\Veligers',\n",
    "    r'D:\\VeligerData\\invasive',\n",
    "    r'D:\\VeligerData\\Ostracod vs Pedi-Veliger Examples\\Ostracod vs Pedi-Veliger Examples\\Preserved Zebra Ped 1 To Baylor\\Preserved Zebra Ped 1 To Baylor\\Sorted Images\\Pedi-Zebra Veligers',\n",
    "    r'D:\\VeligerData\\Ostracod vs Pedi-Veliger Examples\\Ostracod vs Pedi-Veliger Examples\\Preserved Zebra Ped 1a To Baylor\\Preserved Zebra Ped 1a To Baylor\\Sorted Images\\Preserved Zebra Ped 1a',\n",
    "    r'D:\\VeligerData\\To Baylor 2023-01-30\\To Baylor 2023-01-30\\Zebra Pediveliger Image1a\\Zebra Pediveligers',\n",
    "    r'D:\\VeligerData\\USGS Labled Zebra\\USGS Labled Zebra\\Baylor Preserved Zebra Umbo 1 Image1\\Baylor Preserved Zebra Umbo 1 Image1\\Sorted Images\\Umbonal',\n",
    "    r'D:\\VeligerData\\USGS Labled Zebra\\USGS Labled Zebra\\Baylor Preserved Zebra Umbo 1a Image1\\Baylor Preserved Zebra Umbo 1a Image1\\Sorted Images\\Umbonal',\n",
    "    r'D:\\VeligerData\\USGS Labled Zebra\\USGS Labled Zebra\\Preserved Zebra D-Hinge 1 Baylor\\Preserved Zebra D-Hinge 1 Baylor\\Sorted Images\\Zebra D-Hinge',\n",
    "    r'D:\\VeligerData\\USGS Labled Zebra\\USGS Labled Zebra\\Baylor Preserved Zebra Umbo 1 Image1\\Baylor Preserved Zebra Umbo 1 Image1\\Sorted Images\\Umbonal'\n",
    "]\n",
    "\n",
    "# Non-Invasive category\n",
    "non_invasive_dirs = [\n",
    "    r'D:\\VeligerData\\USGS Labled Zebra\\USGS Labled Zebra\\Baylor Preserved Zebra Umbo 1 Image1\\Baylor Preserved Zebra Umbo 1 Image1\\Sorted Images\\Not',\n",
    "    r'D:\\VeligerData\\Baylor 2022-03-21_2\\NonVeligers\\Images_001',\n",
    "    r'D:\\VeligerData\\noninvasive',\n",
    "    r'D:\\VeligerData\\Ostracod vs Pedi-Veliger Examples\\Ostracod vs Pedi-Veliger Examples\\Preserved Ostracods 1 To Baylor\\Preserved Ostracods 1 To Baylor\\Sorted Images\\Not',\n",
    "    r'D:\\VeligerData\\Ostracod vs Pedi-Veliger Examples\\Ostracod vs Pedi-Veliger Examples\\Preserved Ostracods 1a To Baylor\\Preserved Ostracods 1a To Baylor\\Sorted Images\\Not',\n",
    "    r'D:\\VeligerData\\Ostracod vs Pedi-Veliger Examples\\Ostracod vs Pedi-Veliger Examples\\Preserved Zebra Ped 1 To Baylor\\Preserved Zebra Ped 1 To Baylor\\Sorted Images\\Not',\n",
    "    r'D:\\VeligerData\\USGS Labled Zebra\\USGS Labled Zebra\\Preserved Zebra D-Hinge 1 Baylor\\Preserved Zebra D-Hinge 1 Baylor\\Sorted Images\\Not',\n",
    "    r'D:\\VeligerData\\Ostracods Day 2 Image1 To Baylor\\Not',\n",
    "    r'D:\\VeligerData\\Ostracods Day 2 Image2 To Baylor\\Not',\n",
    "    r'D:\\VeligerData\\Ostracods Day 2 Image12 To Baylor_3\\Ostracods Day 2 Image12 To Baylor\\Sorted Images\\Not',\n",
    "    r'D:\\VeligerData\\To Baylor 2023-01-30\\To Baylor 2023-01-30\\Not Veligers\\O1',\n",
    "    r'D:\\VeligerData\\USGS Labled Zebra\\USGS Labled Zebra\\Baylor Preserved Zebra Umbo 1 Image1\\Baylor Preserved Zebra Umbo 1 Image1\\Sorted Images\\Not',\n",
    "    r'D:\\VeligerData\\USGS Labled Zebra\\USGS Labled Zebra\\Baylor Preserved Zebra Umbo 1a Image1\\Baylor Preserved Zebra Umbo 1a Image1\\Sorted Images\\Not'\n",
    "]\n",
    "\n",
    "# Ostracod category\n",
    "ostracod_dirs = [\n",
    "    r'D:\\VeligerData\\Ostracod Day 2 Image12 Short To Baylor\\Ostracod Day 2 Image12 To Baylor\\Sorted Images\\Ostracods',\n",
    "    r'D:\\VeligerData\\Ostracod vs Pedi-Veliger Examples\\Ostracod vs Pedi-Veliger Examples\\Preserved Ostracods 1 To Baylor\\Preserved Ostracods 1 To Baylor\\Sorted Images\\Preserve Ostracods',\n",
    "    r'D:\\VeligerData\\Ostracod vs Pedi-Veliger Examples\\Ostracod vs Pedi-Veliger Examples\\Preserved Ostracods 1a To Baylor\\Preserved Ostracods 1a To Baylor\\Sorted Images\\Preserved Ostracods 1a',\n",
    "    r'D:\\VeligerData\\To Baylor 2023-01-30\\To Baylor 2023-01-30\\Ostracod Image1\\Ostracods1',\n",
    "    r'D:\\VeligerData\\Ostracods Day 2 Image1 To Baylor\\Ostracods',\n",
    "    r'D:\\VeligerData\\Ostracods Day 2 Image3 To Baylor_2\\Ostracods Day 2 Image3 To Baylor\\Sorted Images\\Ostracods',\n",
    "    r'D:\\VeligerData\\Ostracods Day 2 Image12 To Baylor_3\\Ostracods Day 2 Image12 To Baylor\\Sorted Images\\Ostracods',\n",
    "    r'D:\\VeligerData\\Ostracods Day 2 Image2 To Baylor\\Ostracods',\n",
    "    r'D:\\VeligerData\\USGS Labled Zebra\\USGS Labled Zebra\\Preserved Zebra D-Hinge 1 Baylor\\Preserved Zebra D-Hinge 1 Baylor\\Sorted Images\\Ostracod'\n",
    "]\n",
    "\n",
    "# List to store subdirectories\n",
    "invasive_subdirs = []\n",
    "non_invasive_subdirs = []\n",
    "ostracod_subdirs = []\n",
    "\n",
    "# Collect subdirectories in the invasive category\n",
    "for invasive_dir in invasive_dirs:\n",
    "    invasive_subdirs.extend(glob.glob(invasive_dir))\n",
    "\n",
    "# Collect subdirectories in the non-invasive category\n",
    "for non_invasive_dir in non_invasive_dirs:\n",
    "    non_invasive_subdirs.extend(glob.glob(non_invasive_dir))\n",
    "    \n",
    "for ostracod_dir in ostracod_dirs:\n",
    "    ostracod_subdirs.extend(glob.glob(ostracod_dir))"
   ]
  },
  {
   "cell_type": "code",
   "execution_count": 23,
   "id": "c551bf36",
   "metadata": {},
   "outputs": [
    {
     "data": {
      "text/plain": [
       "['D:\\\\VeligerData\\\\Ostracod Day 2 Image12 Short To Baylor\\\\Ostracod Day 2 Image12 To Baylor\\\\Sorted Images\\\\Ostracods',\n",
       " 'D:\\\\VeligerData\\\\Ostracod vs Pedi-Veliger Examples\\\\Ostracod vs Pedi-Veliger Examples\\\\Preserved Ostracods 1 To Baylor\\\\Preserved Ostracods 1 To Baylor\\\\Sorted Images\\\\Preserve Ostracods',\n",
       " 'D:\\\\VeligerData\\\\Ostracod vs Pedi-Veliger Examples\\\\Ostracod vs Pedi-Veliger Examples\\\\Preserved Ostracods 1a To Baylor\\\\Preserved Ostracods 1a To Baylor\\\\Sorted Images\\\\Preserved Ostracods 1a',\n",
       " 'D:\\\\VeligerData\\\\To Baylor 2023-01-30\\\\To Baylor 2023-01-30\\\\Ostracod Image1\\\\Ostracods1',\n",
       " 'D:\\\\VeligerData\\\\Ostracods Day 2 Image1 To Baylor\\\\Ostracods',\n",
       " 'D:\\\\VeligerData\\\\Ostracods Day 2 Image3 To Baylor_2\\\\Ostracods Day 2 Image3 To Baylor\\\\Sorted Images\\\\Ostracods',\n",
       " 'D:\\\\VeligerData\\\\Ostracods Day 2 Image12 To Baylor_3\\\\Ostracods Day 2 Image12 To Baylor\\\\Sorted Images\\\\Ostracods',\n",
       " 'D:\\\\VeligerData\\\\Ostracods Day 2 Image2 To Baylor\\\\Ostracods',\n",
       " 'D:\\\\VeligerData\\\\USGS Labled Zebra\\\\USGS Labled Zebra\\\\Preserved Zebra D-Hinge 1 Baylor\\\\Preserved Zebra D-Hinge 1 Baylor\\\\Sorted Images\\\\Ostracod']"
      ]
     },
     "execution_count": 23,
     "metadata": {},
     "output_type": "execute_result"
    }
   ],
   "source": [
    "ostracod_subdirs"
   ]
  },
  {
   "cell_type": "code",
   "execution_count": null,
   "id": "43ee351d",
   "metadata": {},
   "outputs": [],
   "source": []
  },
  {
   "cell_type": "code",
   "execution_count": 38,
   "id": "00fb7e19",
   "metadata": {},
   "outputs": [],
   "source": [
    "import glob\n",
    "\n",
    "# List of directories in x\n",
    "x = non_invasive_subdirs\n",
    "\n",
    "# List to store subdirectories\n",
    "y1 = []\n",
    "\n",
    "# Read subdirectories for each directory in x\n",
    "for directory in x:\n",
    "    subdirectories = glob.glob(directory + r'\\*')\n",
    "    y1.extend(subdirectories)\n"
   ]
  },
  {
   "cell_type": "code",
   "execution_count": 31,
   "id": "53c71e45",
   "metadata": {},
   "outputs": [],
   "source": [
    "import glob\n",
    "\n",
    "# List of directories in x\n",
    "x = invasive_subdirs\n",
    "\n",
    "# List to store subdirectories\n",
    "y2 = []\n",
    "\n",
    "# Read subdirectories for each directory in x\n",
    "for directory in x:\n",
    "    subdirectories = glob.glob(directory + r'\\*')\n",
    "    y2.extend(subdirectories)\n"
   ]
  },
  {
   "cell_type": "code",
   "execution_count": 32,
   "id": "cbfa5d2e",
   "metadata": {},
   "outputs": [],
   "source": [
    "import glob\n",
    "\n",
    "# List of directories in x\n",
    "x = ostracod_subdirs\n",
    "\n",
    "# List to store subdirectories\n",
    "y3 = []\n",
    "\n",
    "# Read subdirectories for each directory in x\n",
    "for directory in x:\n",
    "    subdirectories = glob.glob(directory + r'\\*')\n",
    "    y3.extend(subdirectories)\n"
   ]
  },
  {
   "cell_type": "code",
   "execution_count": 24,
   "id": "7c618878",
   "metadata": {},
   "outputs": [],
   "source": []
  },
  {
   "cell_type": "code",
   "execution_count": 83,
   "id": "57630f59",
   "metadata": {},
   "outputs": [],
   "source": [
    "import os\n",
    "import numpy as np\n",
    "import tensorflow as tf\n",
    "from PIL import Image\n",
    "\n",
    "def preprocess_images(y1, label_num, target_size=(40, 40)):\n",
    "    # List to store image files\n",
    "    image_files = []\n",
    "    # List to store labels\n",
    "    labels = []\n",
    "\n",
    "    # Retrieve image files and create labels for each directory in y1\n",
    "    for directory in y1:\n",
    "        for root, dirs, files in os.walk(directory):\n",
    "            for file in files:\n",
    "                # Check if the file has an image extension\n",
    "                if file.lower().endswith(('.jpg', '.jpeg', '.png')):\n",
    "                    # Add the file path to the image_files list\n",
    "                    image_files.append(os.path.join(root, file))\n",
    "                    # Add the label to the labels list\n",
    "                    \n",
    "\n",
    "    # List to store preprocessed images\n",
    "    images = []\n",
    "\n",
    "    # Preprocess each image\n",
    "    for file in image_files:\n",
    "        try:\n",
    "            # Read the image using PIL\n",
    "            image = Image.open(file)\n",
    "            # Resize the image using tf.image.resize_with_crop_or_pad()\n",
    "            image = tf.image.resize_with_crop_or_pad(\n",
    "                tf.keras.preprocessing.image.img_to_array(image),\n",
    "                target_size[0],\n",
    "                target_size[1]\n",
    "            )\n",
    "            # Normalize the image pixels for ML training\n",
    "            image = image / 255.0\n",
    "            # Add the preprocessed image to the images list\n",
    "            images.append(image)\n",
    "            labels.append(label_num)\n",
    "        except Exception as e:\n",
    "            print(f\"Error processing image: {file}. Skipping...\")\n",
    "            continue\n",
    "\n",
    "    # Convert the images and labels lists to numpy arrays\n",
    "    images = np.array(images)\n",
    "    labels = np.array(labels)\n",
    "\n",
    "    return images, labels\n"
   ]
  },
  {
   "cell_type": "code",
   "execution_count": 53,
   "id": "98357dab",
   "metadata": {},
   "outputs": [],
   "source": [
    "X0,Y0 = preprocess_images(y1, label_num = 0)"
   ]
  },
  {
   "cell_type": "code",
   "execution_count": 54,
   "id": "62dadda6",
   "metadata": {},
   "outputs": [],
   "source": [
    "X1,Y1 = preprocess_images(y2, label_num = 1)"
   ]
  },
  {
   "cell_type": "code",
   "execution_count": 84,
   "id": "67320be0",
   "metadata": {},
   "outputs": [
    {
     "name": "stdout",
     "output_type": "stream",
     "text": [
      "Error processing image: D:\\VeligerData\\Ostracod Day 2 Image12 Short To Baylor\\Ostracod Day 2 Image12 To Baylor\\Sorted Images\\Ostracods\\Object_002\\._Image_032.png. Skipping...\n",
      "Error processing image: D:\\VeligerData\\Ostracod Day 2 Image12 Short To Baylor\\Ostracod Day 2 Image12 To Baylor\\Sorted Images\\Ostracods\\Object_002\\._Image_036.png. Skipping...\n"
     ]
    }
   ],
   "source": [
    "X2,Y2 = preprocess_images(y3, label_num = 2)"
   ]
  },
  {
   "cell_type": "code",
   "execution_count": 86,
   "id": "df616550",
   "metadata": {},
   "outputs": [
    {
     "data": {
      "text/plain": [
       "(4865,)"
      ]
     },
     "execution_count": 86,
     "metadata": {},
     "output_type": "execute_result"
    }
   ],
   "source": [
    "Y2.shape"
   ]
  },
  {
   "cell_type": "code",
   "execution_count": null,
   "id": "79f15b61",
   "metadata": {},
   "outputs": [],
   "source": []
  },
  {
   "cell_type": "code",
   "execution_count": 87,
   "id": "76d708bb",
   "metadata": {},
   "outputs": [],
   "source": [
    "import numpy as np\n",
    "from sklearn.model_selection import train_test_split\n",
    "from tensorflow.keras.utils import to_categorical\n",
    "\n",
    "# Concatenate the image arrays\n",
    "train_images = np.concatenate((X0, X1, X2), axis=0)\n",
    "\n",
    "# Combine the label arrays\n",
    "train_labels = np.concatenate((Y0, Y1, Y2), axis=0)\n",
    "\n",
    "# Convert the labels to categorical\n",
    "train_labels_categorical = to_categorical(train_labels)\n",
    "\n",
    "# Set the dtype of train_images to float32\n",
    "train_images = train_images.astype('float32')\n",
    "\n"
   ]
  },
  {
   "cell_type": "code",
   "execution_count": 148,
   "id": "1214559a",
   "metadata": {},
   "outputs": [],
   "source": [
    "# Split the data into train and test sets\n",
    "from sklearn.utils import shuffle\n",
    "\n",
    "# Assuming you have the original train_images and train_labels_categorical\n",
    "\n",
    "# Shuffle the data\n",
    "train_images, train_labels_categorical = shuffle(train_images, train_labels_categorical)\n",
    "\n",
    "# Now the shuffled data is assigned to the same variable names\n",
    "\n",
    "X_train, X_test, Y_train, Y_test = train_test_split(train_images, train_labels_categorical, test_size=0.1, random_state=42)"
   ]
  },
  {
   "cell_type": "code",
   "execution_count": 149,
   "id": "437e18bf",
   "metadata": {},
   "outputs": [],
   "source": [
    "from keras.callbacks import Callback,ModelCheckpoint\n",
    "from keras.models import Sequential,load_model\n",
    "from keras.layers import Dense, Dropout\n",
    "from keras.wrappers.scikit_learn import KerasClassifier\n",
    "import keras.backend as K\n",
    "\n",
    "def get_f1(y_true, y_pred): #taken from old keras source code\n",
    "    tp = K.sum(K.round(K.clip(y_true * y_pred, 0, 1)))\n",
    "    \n",
    "    tn = K.sum(K.round(K.clip((1-y_true) * (1-y_pred), 0, 1)))\n",
    "    fp = K.sum(K.round(K.clip((1-y_true) * (y_pred), 0, 1)))\n",
    "    fn = K.sum(K.round(K.clip((y_true) * (1-y_pred), 0, 1)))\n",
    "    \n",
    "\n",
    "    f1_val = tp / ( tp + ( (1/2) * (fp+fn) ) + K.epsilon())\n",
    "    return f1_val"
   ]
  },
  {
   "cell_type": "code",
   "execution_count": 52,
   "id": "3018b7cb",
   "metadata": {},
   "outputs": [
    {
     "data": {
      "text/plain": [
       "(42055, 40, 40, 3)"
      ]
     },
     "execution_count": 52,
     "metadata": {},
     "output_type": "execute_result"
    }
   ],
   "source": []
  },
  {
   "cell_type": "code",
   "execution_count": 150,
   "id": "ac6d82b7",
   "metadata": {},
   "outputs": [
    {
     "name": "stdout",
     "output_type": "stream",
     "text": [
      "Class weights: [ 0.44761988  1.45657671 12.59122987]\n"
     ]
    }
   ],
   "source": [
    "class_weights = np.zeros(3)\n",
    "\n",
    "unique_labels, counts = np.unique(train_labels, return_counts=True)\n",
    "\n",
    "total_samples = np.sum(counts)\n",
    "\n",
    "for i, label in enumerate(unique_labels):\n",
    "    class_weights[label] = total_samples / (len(unique_labels) * counts[i])\n",
    "\n",
    "print(\"Class weights:\", class_weights)\n"
   ]
  },
  {
   "cell_type": "code",
   "execution_count": 279,
   "id": "524a3892",
   "metadata": {},
   "outputs": [],
   "source": [
    "class_weights = [.45,1.5,1]"
   ]
  },
  {
   "cell_type": "code",
   "execution_count": null,
   "id": "51977492",
   "metadata": {},
   "outputs": [],
   "source": []
  },
  {
   "cell_type": "code",
   "execution_count": 281,
   "id": "7778ec5d",
   "metadata": {},
   "outputs": [
    {
     "name": "stdout",
     "output_type": "stream",
     "text": [
      "Model: \"sequential_4\"\n",
      "_________________________________________________________________\n",
      " Layer (type)                Output Shape              Param #   \n",
      "=================================================================\n",
      " conv2d_12 (Conv2D)          (None, 38, 38, 32)        896       \n",
      "                                                                 \n",
      " max_pooling2d_8 (MaxPooling  (None, 19, 19, 32)       0         \n",
      " 2D)                                                             \n",
      "                                                                 \n",
      " conv2d_13 (Conv2D)          (None, 17, 17, 32)        9248      \n",
      "                                                                 \n",
      " max_pooling2d_9 (MaxPooling  (None, 8, 8, 32)         0         \n",
      " 2D)                                                             \n",
      "                                                                 \n",
      " conv2d_14 (Conv2D)          (None, 6, 6, 16)          4624      \n",
      "                                                                 \n",
      " flatten_4 (Flatten)         (None, 576)               0         \n",
      "                                                                 \n",
      " dense_12 (Dense)            (None, 64)                36928     \n",
      "                                                                 \n",
      " dense_13 (Dense)            (None, 10)                650       \n",
      "                                                                 \n",
      " dense_14 (Dense)            (None, 3)                 33        \n",
      "                                                                 \n",
      "=================================================================\n",
      "Total params: 52,379\n",
      "Trainable params: 52,379\n",
      "Non-trainable params: 0\n",
      "_________________________________________________________________\n"
     ]
    }
   ],
   "source": [
    "import numpy as np\n",
    "import pandas as pd\n",
    "from skimage.io import imread\n",
    "from skimage.transform import resize\n",
    "from keras import layers\n",
    "from keras import models\n",
    "from keras.layers import LeakyReLU\n",
    "from keras.models import Sequential, Model, load_model\n",
    "from keras.layers import Input, Conv1D, Conv2D, MaxPooling1D, MaxPooling2D, Dense, Dropout, Activation, Flatten\n",
    "import tensorflow as tf\n",
    "from tensorflow import keras\n",
    "from tensorflow.keras import layers\n",
    "\n",
    "model = models.Sequential()\n",
    "model.add(layers.Conv2D(32, (3, 3), input_shape=(40, 40, 3)))\n",
    "model.add(layers.MaxPooling2D((2, 2)))\n",
    "model.add(layers.Conv2D(32, (3, 3), activation=\"relu\"))\n",
    "model.add(layers.MaxPooling2D((2, 2)))\n",
    "model.add(layers.Conv2D(16, (3, 3)))\n",
    "model.add(layers.Flatten())\n",
    "model.add(layers.Dense(64))\n",
    "model.add(layers.Dense(10))\n",
    "model.add(layers.Dense(3, activation=\"softmax\"))\n",
    "model.summary()"
   ]
  },
  {
   "cell_type": "code",
   "execution_count": 153,
   "id": "56fd0d21",
   "metadata": {},
   "outputs": [],
   "source": [
    "import tensorflow as tf\n",
    "tf.compat.v1.disable_eager_execution()\n"
   ]
  },
  {
   "cell_type": "code",
   "execution_count": 283,
   "id": "b7bc989d",
   "metadata": {},
   "outputs": [
    {
     "name": "stdout",
     "output_type": "stream",
     "text": [
      "Train on 148852 samples, validate on 16540 samples\n",
      "Epoch 1/50\n",
      "148852/148852 [==============================] - 43s 291us/sample - loss: 0.1193 - get_f1: 0.9399 - val_loss: 0.1346 - val_get_f1: 0.9320\n",
      "Epoch 2/50\n",
      "148852/148852 [==============================] - 53s 355us/sample - loss: 0.1142 - get_f1: 0.9432 - val_loss: 0.1094 - val_get_f1: 0.9450\n",
      "Epoch 3/50\n",
      "148852/148852 [==============================] - 52s 351us/sample - loss: 0.1092 - get_f1: 0.9458 - val_loss: 0.1171 - val_get_f1: 0.9282\n",
      "Epoch 4/50\n",
      "148852/148852 [==============================] - 38s 253us/sample - loss: 0.1058 - get_f1: 0.9468 - val_loss: 0.1164 - val_get_f1: 0.9527\n",
      "Epoch 5/50\n",
      "148852/148852 [==============================] - 32s 215us/sample - loss: 0.1023 - get_f1: 0.9483 - val_loss: 0.1126 - val_get_f1: 0.9499\n",
      "Epoch 6/50\n",
      "148852/148852 [==============================] - 40s 267us/sample - loss: 0.0998 - get_f1: 0.9490 - val_loss: 0.1180 - val_get_f1: 0.9250\n",
      "Epoch 7/50\n",
      "148852/148852 [==============================] - 36s 241us/sample - loss: 0.0981 - get_f1: 0.9502 - val_loss: 0.1090 - val_get_f1: 0.9448\n",
      "Epoch 8/50\n",
      "148852/148852 [==============================] - 42s 283us/sample - loss: 0.0954 - get_f1: 0.9520 - val_loss: 0.1088 - val_get_f1: 0.9528\n",
      "Epoch 9/50\n",
      "148852/148852 [==============================] - 37s 251us/sample - loss: 0.0942 - get_f1: 0.9521 - val_loss: 0.1023 - val_get_f1: 0.9507\n",
      "Epoch 10/50\n",
      "148852/148852 [==============================] - 46s 308us/sample - loss: 0.0917 - get_f1: 0.9536 - val_loss: 0.1238 - val_get_f1: 0.9281\n",
      "Epoch 11/50\n",
      "148852/148852 [==============================] - 61s 409us/sample - loss: 0.0910 - get_f1: 0.9534 - val_loss: 0.1041 - val_get_f1: 0.9420\n",
      "Epoch 12/50\n",
      "148852/148852 [==============================] - 56s 373us/sample - loss: 0.0891 - get_f1: 0.9546 - val_loss: 0.0981 - val_get_f1: 0.9529\n",
      "Epoch 13/50\n",
      "148852/148852 [==============================] - 78s 526us/sample - loss: 0.0877 - get_f1: 0.9556 - val_loss: 0.1007 - val_get_f1: 0.9517\n",
      "Epoch 14/50\n",
      "148852/148852 [==============================] - 47s 317us/sample - loss: 0.0867 - get_f1: 0.9559 - val_loss: 0.1017 - val_get_f1: 0.9494\n",
      "Epoch 15/50\n",
      "148852/148852 [==============================] - 54s 363us/sample - loss: 0.0853 - get_f1: 0.9562 - val_loss: 0.1461 - val_get_f1: 0.9542\n",
      "Epoch 16/50\n",
      "148852/148852 [==============================] - 30s 204us/sample - loss: 0.0846 - get_f1: 0.9569 - val_loss: 0.1054 - val_get_f1: 0.9393\n",
      "Epoch 17/50\n",
      "148852/148852 [==============================] - 46s 309us/sample - loss: 0.0831 - get_f1: 0.9571 - val_loss: 0.1016 - val_get_f1: 0.9523\n",
      "Epoch 18/50\n",
      "148852/148852 [==============================] - 65s 433us/sample - loss: 0.0826 - get_f1: 0.9577 - val_loss: 0.1109 - val_get_f1: 0.9475\n",
      "Epoch 19/50\n",
      "148852/148852 [==============================] - 61s 409us/sample - loss: 0.0807 - get_f1: 0.9586 - val_loss: 0.1088 - val_get_f1: 0.9586\n",
      "Epoch 20/50\n",
      "148852/148852 [==============================] - 53s 355us/sample - loss: 0.0807 - get_f1: 0.9586 - val_loss: 0.1032 - val_get_f1: 0.9538\n",
      "Epoch 21/50\n",
      "148852/148852 [==============================] - 55s 371us/sample - loss: 0.0796 - get_f1: 0.9593 - val_loss: 0.1222 - val_get_f1: 0.9569\n",
      "Epoch 22/50\n",
      "148852/148852 [==============================] - 46s 307us/sample - loss: 0.0789 - get_f1: 0.9590 - val_loss: 0.1083 - val_get_f1: 0.9539\n",
      "Epoch 23/50\n",
      "148852/148852 [==============================] - 39s 265us/sample - loss: 0.0787 - get_f1: 0.9595 - val_loss: 0.0992 - val_get_f1: 0.9471\n",
      "Epoch 24/50\n",
      "148852/148852 [==============================] - 52s 349us/sample - loss: 0.0776 - get_f1: 0.9600 - val_loss: 0.1109 - val_get_f1: 0.9517\n",
      "Epoch 25/50\n",
      "148852/148852 [==============================] - 34s 231us/sample - loss: 0.0764 - get_f1: 0.9605 - val_loss: 0.1024 - val_get_f1: 0.9396\n",
      "Epoch 26/50\n",
      "148852/148852 [==============================] - 31s 210us/sample - loss: 0.0758 - get_f1: 0.9611 - val_loss: 0.1154 - val_get_f1: 0.9409\n",
      "Epoch 27/50\n",
      "148852/148852 [==============================] - 42s 284us/sample - loss: 0.0755 - get_f1: 0.9614 - val_loss: 0.1048 - val_get_f1: 0.9486\n",
      "Epoch 28/50\n",
      "148852/148852 [==============================] - 32s 215us/sample - loss: 0.0740 - get_f1: 0.9613 - val_loss: 0.1003 - val_get_f1: 0.9477\n",
      "Epoch 29/50\n",
      "148852/148852 [==============================] - 58s 392us/sample - loss: 0.0736 - get_f1: 0.9621 - val_loss: 0.1018 - val_get_f1: 0.9532\n",
      "Epoch 30/50\n",
      "148852/148852 [==============================] - 54s 360us/sample - loss: 0.0737 - get_f1: 0.9615 - val_loss: 0.1148 - val_get_f1: 0.9584\n",
      "Epoch 31/50\n",
      "148852/148852 [==============================] - 44s 294us/sample - loss: 0.0723 - get_f1: 0.9625 - val_loss: 0.1014 - val_get_f1: 0.9550\n",
      "Epoch 32/50\n",
      "148852/148852 [==============================] - 52s 352us/sample - loss: 0.0719 - get_f1: 0.9633 - val_loss: 0.1048 - val_get_f1: 0.9515\n",
      "Epoch 33/50\n",
      "148852/148852 [==============================] - 64s 429us/sample - loss: 0.0716 - get_f1: 0.9630 - val_loss: 0.1104 - val_get_f1: 0.9451\n",
      "Epoch 34/50\n",
      "148852/148852 [==============================] - 57s 382us/sample - loss: 0.0711 - get_f1: 0.9627 - val_loss: 0.1227 - val_get_f1: 0.9578\n",
      "Epoch 35/50\n",
      "148852/148852 [==============================] - 45s 301us/sample - loss: 0.0705 - get_f1: 0.9631 - val_loss: 0.1056 - val_get_f1: 0.9480\n",
      "Epoch 36/50\n",
      "148852/148852 [==============================] - 57s 384us/sample - loss: 0.0703 - get_f1: 0.9636 - val_loss: 0.1091 - val_get_f1: 0.9495\n",
      "Epoch 37/50\n",
      "148852/148852 [==============================] - 75s 503us/sample - loss: 0.0692 - get_f1: 0.9641 - val_loss: 0.1066 - val_get_f1: 0.9571\n",
      "Epoch 38/50\n",
      "148852/148852 [==============================] - 69s 466us/sample - loss: 0.0689 - get_f1: 0.9639 - val_loss: 0.1158 - val_get_f1: 0.9407\n",
      "Epoch 39/50\n",
      "148852/148852 [==============================] - 63s 424us/sample - loss: 0.0681 - get_f1: 0.9645 - val_loss: 0.1160 - val_get_f1: 0.9400\n",
      "Epoch 40/50\n",
      "148852/148852 [==============================] - 51s 346us/sample - loss: 0.0677 - get_f1: 0.9647 - val_loss: 0.1027 - val_get_f1: 0.9570\n",
      "Epoch 41/50\n",
      "148852/148852 [==============================] - 36s 243us/sample - loss: 0.0672 - get_f1: 0.9647 - val_loss: 0.1018 - val_get_f1: 0.9456\n",
      "Epoch 42/50\n",
      "148852/148852 [==============================] - 37s 246us/sample - loss: 0.0668 - get_f1: 0.9652 - val_loss: 0.1094 - val_get_f1: 0.9541\n",
      "Epoch 43/50\n",
      "148852/148852 [==============================] - 30s 202us/sample - loss: 0.0664 - get_f1: 0.9653 - val_loss: 0.1125 - val_get_f1: 0.9547\n",
      "Epoch 44/50\n",
      "148852/148852 [==============================] - 31s 209us/sample - loss: 0.0667 - get_f1: 0.9657 - val_loss: 0.1157 - val_get_f1: 0.9531\n",
      "Epoch 45/50\n",
      "148852/148852 [==============================] - 29s 195us/sample - loss: 0.0662 - get_f1: 0.9657 - val_loss: 0.1142 - val_get_f1: 0.9580\n",
      "Epoch 46/50\n",
      "148852/148852 [==============================] - 29s 195us/sample - loss: 0.0654 - get_f1: 0.9660 - val_loss: 0.1138 - val_get_f1: 0.9429\n",
      "Epoch 47/50\n",
      "148852/148852 [==============================] - 30s 201us/sample - loss: 0.0651 - get_f1: 0.9662 - val_loss: 0.1117 - val_get_f1: 0.9557\n",
      "Epoch 48/50\n",
      "148852/148852 [==============================] - 31s 208us/sample - loss: 0.0644 - get_f1: 0.9666 - val_loss: 0.1149 - val_get_f1: 0.9511\n",
      "Epoch 49/50\n",
      "148852/148852 [==============================] - 30s 200us/sample - loss: 0.0641 - get_f1: 0.9671 - val_loss: 0.1131 - val_get_f1: 0.9486\n",
      "Epoch 50/50\n",
      "148852/148852 [==============================] - 28s 187us/sample - loss: 0.0640 - get_f1: 0.9663 - val_loss: 0.1114 - val_get_f1: 0.9571\n"
     ]
    },
    {
     "data": {
      "text/plain": [
       "<keras.callbacks.History at 0x1357d13b430>"
      ]
     },
     "execution_count": 283,
     "metadata": {},
     "output_type": "execute_result"
    }
   ],
   "source": [
    "model.compile(optimizer='Adam',loss='categorical_crossentropy',metrics=([get_f1]))\n",
    "class_weights_dict = {i: class_weights[i] for i in range(len(class_weights))}\n",
    "model.fit(X_train, Y_train, epochs=300, batch_size=32, validation_split=0.1, verbose=1, class_weight=class_weights_dict)"
   ]
  },
  {
   "cell_type": "code",
   "execution_count": null,
   "id": "61973c3f",
   "metadata": {},
   "outputs": [],
   "source": []
  },
  {
   "cell_type": "code",
   "execution_count": 284,
   "id": "74022949",
   "metadata": {},
   "outputs": [
    {
     "name": "stderr",
     "output_type": "stream",
     "text": [
      "C:\\Users\\shaif\\anaconda3\\envs\\tens\\lib\\site-packages\\keras\\engine\\training_v1.py:2079: UserWarning: `Model.state_updates` will be removed in a future version. This property should not be used in TensorFlow 2.0, as `updates` are applied automatically.\n",
      "  updates=self.state_updates,\n"
     ]
    }
   ],
   "source": [
    "pred = model.predict(X_test)\n",
    "p = np.round(pred)"
   ]
  },
  {
   "cell_type": "code",
   "execution_count": 206,
   "id": "d4726fd5",
   "metadata": {},
   "outputs": [
    {
     "data": {
      "text/plain": [
       "(2000, 3)"
      ]
     },
     "execution_count": 206,
     "metadata": {},
     "output_type": "execute_result"
    }
   ],
   "source": [
    "p.shape"
   ]
  },
  {
   "cell_type": "code",
   "execution_count": 285,
   "id": "e725def2",
   "metadata": {},
   "outputs": [],
   "source": [
    "res = []\n",
    "for i in p:\n",
    "    if(i[0]==1):\n",
    "        res.append(0)\n",
    "    elif(i[1]==1):\n",
    "        res.append(1)\n",
    "    else:\n",
    "        res.append(2)"
   ]
  },
  {
   "cell_type": "code",
   "execution_count": 286,
   "id": "4e522ce6",
   "metadata": {},
   "outputs": [],
   "source": [
    "test = []\n",
    "for i in Y_test:\n",
    "    if(i[0]==1):\n",
    "        test.append(0)\n",
    "    elif(i[1]==1):\n",
    "        test.append(1)\n",
    "    else:\n",
    "        test.append(2)\n"
   ]
  },
  {
   "cell_type": "code",
   "execution_count": null,
   "id": "da0ad9ce",
   "metadata": {},
   "outputs": [],
   "source": []
  },
  {
   "cell_type": "code",
   "execution_count": 287,
   "id": "8bdc929d",
   "metadata": {},
   "outputs": [
    {
     "name": "stdout",
     "output_type": "stream",
     "text": [
      "Accuracy: 0.9605485117266148\n"
     ]
    }
   ],
   "source": [
    "from sklearn.metrics import accuracy_score\n",
    "\n",
    "accuracy = accuracy_score(test, res)\n",
    "print(\"Accuracy:\", accuracy)\n"
   ]
  },
  {
   "cell_type": "code",
   "execution_count": null,
   "id": "e6ca166c",
   "metadata": {},
   "outputs": [],
   "source": []
  },
  {
   "cell_type": "code",
   "execution_count": 289,
   "id": "6cc1d2f5",
   "metadata": {},
   "outputs": [
    {
     "name": "stdout",
     "output_type": "stream",
     "text": [
      "Accuracy for Class 1: 0.9710762002642783\n"
     ]
    }
   ],
   "source": [
    "total_samples = len(test)\n",
    "correct_predictions = 0\n",
    "class_1_count = 0\n",
    "num = 0\n",
    "for i in range(total_samples):\n",
    "    if test[i] == num:\n",
    "        class_1_count += 1\n",
    "        if res[i] == test[i]:\n",
    "            correct_predictions += 1\n",
    "\n",
    "class_1_accuracy = correct_predictions / class_1_count\n",
    "print(\"Accuracy for Class 1:\", class_1_accuracy)\n"
   ]
  },
  {
   "cell_type": "code",
   "execution_count": null,
   "id": "b77ccaf5",
   "metadata": {},
   "outputs": [],
   "source": []
  },
  {
   "cell_type": "code",
   "execution_count": 290,
   "id": "eaf140b1",
   "metadata": {},
   "outputs": [
    {
     "data": {
      "text/plain": [
       "array([[6.4890896e-04, 9.9934930e-01, 1.8288661e-06]], dtype=float32)"
      ]
     },
     "execution_count": 290,
     "metadata": {},
     "output_type": "execute_result"
    }
   ],
   "source": [
    "# Define the image path\n",
    "image_path = r\"D:\\VeligerData\\Baylor 2022-03-21_2\\Veligers\\Object_031\\Image_009.png\"\n",
    "# Read the image using PIL\n",
    "image = Image.open(image_path)\n",
    "# Define the target size for resizing\n",
    "target_size = (40, 40)\n",
    "# Resize the image using TensorFlow's resize_with_crop_or_pad function\n",
    "resized_image = tf.image.resize_with_crop_or_pad( tf.keras.preprocessing.image.img_to_array(image), target_size[0],   target_size[1]\n",
    ")\n",
    "# Expand the dimensions to match the model's input shape\n",
    "expanded_image = tf.expand_dims(resized_image, axis=0)\n",
    "# Evaluate the TensorFlow tensor and obtain the NumPy array\n",
    "resized_array = tf.keras.backend.eval(expanded_image)\n",
    "normalized_image = resized_array / 255.0\n",
    "x = model.predict(normalized_image)\n",
    "x"
   ]
  },
  {
   "cell_type": "code",
   "execution_count": 221,
   "id": "742115f5",
   "metadata": {},
   "outputs": [
    {
     "data": {
      "text/plain": [
       "array([[7.2788095e-01, 2.7207914e-01, 3.9928880e-05]], dtype=float32)"
      ]
     },
     "execution_count": 221,
     "metadata": {},
     "output_type": "execute_result"
    }
   ],
   "source": [
    "x"
   ]
  },
  {
   "cell_type": "code",
   "execution_count": 224,
   "id": "aec22f94",
   "metadata": {},
   "outputs": [
    {
     "name": "stdout",
     "output_type": "stream",
     "text": [
      "6\n",
      "11\n",
      "34\n",
      "55\n",
      "58\n",
      "71\n",
      "83\n",
      "162\n",
      "182\n",
      "324\n",
      "359\n",
      "375\n",
      "389\n",
      "410\n",
      "456\n",
      "479\n",
      "507\n",
      "509\n",
      "520\n",
      "602\n",
      "610\n",
      "642\n",
      "644\n",
      "668\n",
      "715\n",
      "734\n",
      "809\n",
      "827\n",
      "838\n",
      "842\n",
      "853\n",
      "882\n",
      "896\n",
      "908\n",
      "944\n",
      "945\n",
      "1058\n",
      "1065\n",
      "1157\n",
      "1166\n",
      "1171\n",
      "1175\n",
      "1186\n",
      "1277\n",
      "1280\n",
      "1352\n",
      "1466\n",
      "1541\n",
      "1556\n",
      "1558\n",
      "1561\n",
      "1581\n",
      "1598\n",
      "1611\n",
      "1682\n",
      "1715\n",
      "1740\n",
      "1789\n",
      "1790\n",
      "1812\n",
      "1851\n",
      "1881\n",
      "1889\n",
      "1940\n",
      "1948\n",
      "1977\n",
      "2068\n",
      "2129\n",
      "2141\n",
      "2182\n",
      "2195\n",
      "2255\n",
      "2264\n",
      "2312\n",
      "2357\n",
      "2394\n",
      "2417\n",
      "2530\n",
      "2539\n",
      "2562\n",
      "2580\n",
      "2601\n",
      "2605\n",
      "2613\n",
      "2659\n",
      "2825\n",
      "2843\n",
      "2904\n",
      "2954\n",
      "3046\n",
      "3063\n",
      "3126\n",
      "3148\n",
      "3152\n",
      "3185\n",
      "3196\n",
      "3197\n",
      "3220\n",
      "3286\n",
      "3292\n",
      "3312\n",
      "3361\n",
      "3382\n",
      "3425\n",
      "3428\n",
      "3446\n",
      "3451\n",
      "3478\n",
      "3482\n",
      "3501\n",
      "3515\n",
      "3566\n",
      "3579\n",
      "3601\n",
      "3710\n",
      "3722\n",
      "3727\n",
      "3753\n",
      "3757\n",
      "3777\n",
      "3788\n",
      "3809\n",
      "3827\n",
      "3881\n",
      "3889\n",
      "3897\n",
      "3927\n",
      "3961\n",
      "3992\n",
      "4038\n",
      "4049\n",
      "4062\n",
      "4218\n",
      "4361\n",
      "4392\n",
      "4404\n",
      "4479\n",
      "4554\n",
      "4570\n",
      "4590\n",
      "4810\n",
      "4887\n",
      "4942\n",
      "4955\n",
      "4987\n"
     ]
    }
   ],
   "source": [
    "total_samples = len(res)\n",
    "correct_predictions = 0\n",
    "class_1_count = 0\n",
    "num = 2\n",
    "for i in range(total_samples):\n",
    "    if test[i] == num:\n",
    "        print(i)"
   ]
  },
  {
   "cell_type": "code",
   "execution_count": 184,
   "id": "8910e498",
   "metadata": {},
   "outputs": [
    {
     "data": {
      "text/plain": [
       "1"
      ]
     },
     "execution_count": 184,
     "metadata": {},
     "output_type": "execute_result"
    }
   ],
   "source": [
    "res[25]"
   ]
  },
  {
   "cell_type": "code",
   "execution_count": null,
   "id": "c1e24e25",
   "metadata": {},
   "outputs": [],
   "source": []
  },
  {
   "cell_type": "code",
   "execution_count": 291,
   "id": "2142de87",
   "metadata": {},
   "outputs": [],
   "source": [
    "from tensorflow.keras.models import load_model\n",
    "# Assuming you have a Keras model named \"model\"\n",
    "model.save(\"single_image_model.h5\")"
   ]
  },
  {
   "cell_type": "code",
   "execution_count": null,
   "id": "0a74a25b",
   "metadata": {},
   "outputs": [],
   "source": []
  },
  {
   "cell_type": "code",
   "execution_count": null,
   "id": "ca8d6e82",
   "metadata": {},
   "outputs": [],
   "source": []
  },
  {
   "cell_type": "code",
   "execution_count": null,
   "id": "1b6cf186",
   "metadata": {},
   "outputs": [],
   "source": []
  }
 ],
 "metadata": {
  "kernelspec": {
   "display_name": "Python 3 (ipykernel)",
   "language": "python",
   "name": "python3"
  },
  "language_info": {
   "codemirror_mode": {
    "name": "ipython",
    "version": 3
   },
   "file_extension": ".py",
   "mimetype": "text/x-python",
   "name": "python",
   "nbconvert_exporter": "python",
   "pygments_lexer": "ipython3",
   "version": "3.8.16"
  }
 },
 "nbformat": 4,
 "nbformat_minor": 5
}
