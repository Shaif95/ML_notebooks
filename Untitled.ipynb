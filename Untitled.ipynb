{
 "cells": [
  {
   "cell_type": "code",
   "execution_count": 1,
   "id": "bbb6abab",
   "metadata": {},
   "outputs": [
    {
     "name": "stdout",
     "output_type": "stream",
     "text": [
      "Annexure.pdf\n",
      "Listing_Titles.tsv.gz\n",
      "Train_Tagged_Titles.tsv.gz\n"
     ]
    }
   ],
   "source": [
    "import os\n",
    "\n",
    "directory = r'E:\\2023_eBay_ML_Challenge_Data\\2023 eBay ML Challenge Data'\n",
    "\n",
    "# Get the contents of the directory\n",
    "contents = os.listdir(directory)\n",
    "\n",
    "# Print the contents\n",
    "for item in contents:\n",
    "    print(item)\n",
    "\n",
    "    "
   ]
  },
  {
   "cell_type": "code",
   "execution_count": 10,
   "id": "8c9643ed",
   "metadata": {},
   "outputs": [
    {
     "name": "stdout",
     "output_type": "stream",
     "text": [
      "   Record Number                                              Title\n",
      "0              1  Supreme Nike SB Dunk High By any Means Red US1...\n",
      "1              2  New Balance 530 Männer und Frauen Laufschuhe m...\n",
      "2              3                     ♥ MICHAEL KORS Sneaker Gr 39 ♥\n",
      "3              4             New Balance ML 574 EGO Turnschuhe grün\n",
      "4              5  Nike air jordan 9 og , space jam , hare , bugs...\n"
     ]
    }
   ],
   "source": [
    "import pandas as pd\n",
    "import gzip\n",
    "\n",
    "file_path = r'E:\\2023_eBay_ML_Challenge_Data\\2023 eBay ML Challenge Data\\Listing_Titles.tsv.gz'\n",
    "\n",
    "# Read the gzipped TSV file using pandas and gzip module\n",
    "with gzip.open(file_path, 'rt', encoding='utf-8') as file:\n",
    "    data_frame = pd.read_csv(file, sep='\\t')\n",
    "\n",
    "# Print the contents of the dataframe\n",
    "print(data_frame.head())\n"
   ]
  },
  {
   "cell_type": "code",
   "execution_count": null,
   "id": "013c317a",
   "metadata": {},
   "outputs": [],
   "source": []
  },
  {
   "cell_type": "code",
   "execution_count": 20,
   "id": "677d9b4c",
   "metadata": {},
   "outputs": [
    {
     "name": "stdout",
     "output_type": "stream",
     "text": [
      "Subset of Valid Data (0 to 10):\n",
      "['Record Number', 'Title', 'Token', 'Tag']\n",
      "['1', 'Supreme Nike SB Dunk High By any Means Red US10 EU44 Supreme Box Logo Air Force', 'Supreme', 'Modell']\n",
      "['1', 'Supreme Nike SB Dunk High By any Means Red US10 EU44 Supreme Box Logo Air Force', 'Nike', 'Marke']\n",
      "['1', 'Supreme Nike SB Dunk High By any Means Red US10 EU44 Supreme Box Logo Air Force', 'SB', 'Produktlinie']\n",
      "['1', 'Supreme Nike SB Dunk High By any Means Red US10 EU44 Supreme Box Logo Air Force', 'Dunk']\n",
      "['1', 'Supreme Nike SB Dunk High By any Means Red US10 EU44 Supreme Box Logo Air Force', 'High', 'Schuhschaft-Typ']\n",
      "['1', 'Supreme Nike SB Dunk High By any Means Red US10 EU44 Supreme Box Logo Air Force', 'By', 'Modell']\n",
      "['1', 'Supreme Nike SB Dunk High By any Means Red US10 EU44 Supreme Box Logo Air Force', 'any']\n",
      "['1', 'Supreme Nike SB Dunk High By any Means Red US10 EU44 Supreme Box Logo Air Force', 'Means']\n",
      "['1', 'Supreme Nike SB Dunk High By any Means Red US10 EU44 Supreme Box Logo Air Force', 'Red', 'Farbe']\n",
      "\n",
      "Skipped Lines:\n"
     ]
    }
   ],
   "source": [
    "import pandas as pd\n",
    "import gzip\n",
    "\n",
    "file_path = r\"E:\\2023_eBay_ML_Challenge_Data\\2023 eBay ML Challenge Data\\Train_Tagged_Titles.tsv.gz\"\n",
    "\n",
    "# Read the gzipped TSV file using pandas and gzip module, skipping problematic lines\n",
    "skipped_lines = []\n",
    "valid_data = []\n",
    "with gzip.open(file_path, 'rt', encoding='utf-8') as file:\n",
    "    for line_num, line in enumerate(file, start=1):\n",
    "        try:\n",
    "            data = line.strip().split('\\t')\n",
    "            # Process the data as needed\n",
    "            valid_data.append(data)\n",
    "        except Exception as e:\n",
    "            skipped_lines.append((line_num, line))\n",
    "\n",
    "# Print a subset of the valid data\n",
    "start_index = 0  # Adjust the start index as needed\n",
    "end_index = 10  # Adjust the end index as needed\n",
    "\n",
    "print(f\"Subset of Valid Data ({start_index} to {end_index}):\")\n",
    "for data_entry in valid_data[start_index:end_index]:\n",
    "    print(data_entry)\n",
    "\n",
    "# Print the skipped lines\n",
    "print(\"\\nSkipped Lines:\")\n",
    "for line_num, line in skipped_lines:\n",
    "    print(f\"Skipped line {line_num}: {line}\")\n"
   ]
  },
  {
   "cell_type": "code",
   "execution_count": null,
   "id": "ba3820bd",
   "metadata": {},
   "outputs": [],
   "source": []
  },
  {
   "cell_type": "code",
   "execution_count": null,
   "id": "3a2ff3b5",
   "metadata": {},
   "outputs": [],
   "source": []
  },
  {
   "cell_type": "code",
   "execution_count": null,
   "id": "ecb9790c",
   "metadata": {},
   "outputs": [],
   "source": []
  },
  {
   "cell_type": "code",
   "execution_count": null,
   "id": "4bdc937e",
   "metadata": {},
   "outputs": [],
   "source": []
  }
 ],
 "metadata": {
  "kernelspec": {
   "display_name": "Python 3 (ipykernel)",
   "language": "python",
   "name": "python3"
  },
  "language_info": {
   "codemirror_mode": {
    "name": "ipython",
    "version": 3
   },
   "file_extension": ".py",
   "mimetype": "text/x-python",
   "name": "python",
   "nbconvert_exporter": "python",
   "pygments_lexer": "ipython3",
   "version": "3.9.13"
  }
 },
 "nbformat": 4,
 "nbformat_minor": 5
}
