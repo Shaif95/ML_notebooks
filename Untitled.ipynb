{
 "cells": [
  {
   "cell_type": "code",
   "execution_count": 2,
   "id": "18a095d1",
   "metadata": {},
   "outputs": [],
   "source": [
    "#!/usr/bin/env python\n",
    "# coding: utf-8\n",
    "\n",
    "# In[6]:\n",
    "\n",
    "\n",
    "import os\n",
    "import tensorflow as tf\n",
    "from PIL import Image\n",
    "import numpy as np\n",
    "\n",
    "# Define the folder location\n",
    "folder_location = \"D:\\Not-Invasive Images\"\n",
    "\n",
    "# List all folders in the given location\n",
    "folders = os.listdir(folder_location)\n",
    "\n",
    "# Define the desired image size\n",
    "target_size = (40, 40)\n",
    "\n",
    "# Initialize an empty list to store the processed images\n",
    "processed_images = []\n",
    "\n",
    "# Iterate through each folder\n",
    "for folder in folders:\n",
    "    # Construct the folder path\n",
    "    folder_path = os.path.join(folder_location, folder)\n",
    "    \n",
    "    # List all images in the folder\n",
    "    images = os.listdir(folder_path)\n",
    "    \n",
    "    # Iterate through each image\n",
    "    for image_name in images:\n",
    "        # Construct the image path\n",
    "        image_path = os.path.join(folder_path, image_name)\n",
    "        \n",
    "        # Open the image using PIL\n",
    "        image = Image.open(image_path)\n",
    "        \n",
    "        # Resize the image using TensorFlow\n",
    "        resized_image = tf.image.resize_with_crop_or_pad(\n",
    "            tf.keras.preprocessing.image.img_to_array(image),\n",
    "            target_size[0],\n",
    "            target_size[1]\n",
    "        )\n",
    "        \n",
    "        # Normalize the data for deep learning\n",
    "        normalized_image = (resized_image - 127.5) / 127.5\n",
    "        \n",
    "        # Append the processed image to the list\n",
    "        processed_images.append(normalized_image)\n",
    "\n",
    "# Convert the list of images to a NumPy array\n",
    "processed_images = np.array(processed_images)\n"
   ]
  },
  {
   "cell_type": "code",
   "execution_count": 4,
   "id": "96fc9052",
   "metadata": {},
   "outputs": [],
   "source": [
    "print(processed_images.shape)"
   ]
  },
  {
   "cell_type": "code",
   "execution_count": null,
   "id": "b2475bce",
   "metadata": {},
   "outputs": [],
   "source": []
  },
  {
   "cell_type": "code",
   "execution_count": null,
   "id": "ad02c281",
   "metadata": {},
   "outputs": [],
   "source": []
  },
  {
   "cell_type": "code",
   "execution_count": null,
   "id": "c75c04e8",
   "metadata": {},
   "outputs": [],
   "source": [
    "from tensorflow.keras.models import load_model\n",
    "\n",
    "# Define the path to the model file\n",
    "model_path = r'D:\\new_model\\my_model.h5'\n",
    "\n",
    "# Define the custom metric function\n",
    "def get_f1(y_true, y_pred):\n",
    "    return 0  # Blank function\n",
    "\n",
    "# Load the model with custom_objects argument\n",
    "model = load_model(model_path, custom_objects={'get_f1': get_f1})\n",
    "\n",
    "# Print the model summary\n",
    "model.summary()\n",
    "\n",
    "\n",
    "# In[8]:"
   ]
  },
  {
   "cell_type": "code",
   "execution_count": null,
   "id": "08e1fd93",
   "metadata": {},
   "outputs": [],
   "source": []
  },
  {
   "cell_type": "code",
   "execution_count": null,
   "id": "ca25e0fe",
   "metadata": {},
   "outputs": [],
   "source": []
  },
  {
   "cell_type": "code",
   "execution_count": null,
   "id": "bfb914a5",
   "metadata": {},
   "outputs": [],
   "source": []
  },
  {
   "cell_type": "code",
   "execution_count": null,
   "id": "8a8ea16c",
   "metadata": {},
   "outputs": [],
   "source": []
  }
 ],
 "metadata": {
  "kernelspec": {
   "display_name": "Python 3 (ipykernel)",
   "language": "python",
   "name": "python3"
  },
  "language_info": {
   "codemirror_mode": {
    "name": "ipython",
    "version": 3
   },
   "file_extension": ".py",
   "mimetype": "text/x-python",
   "name": "python",
   "nbconvert_exporter": "python",
   "pygments_lexer": "ipython3",
   "version": "3.8.16"
  }
 },
 "nbformat": 4,
 "nbformat_minor": 5
}
