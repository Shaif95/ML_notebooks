{
 "cells": [
  {
   "cell_type": "code",
   "execution_count": 1,
   "id": "bbb6abab",
   "metadata": {},
   "outputs": [
    {
     "name": "stdout",
     "output_type": "stream",
     "text": [
      "Annexure.pdf\n",
      "Listing_Titles.tsv.gz\n",
      "Train_Tagged_Titles.tsv\n",
      "Train_Tagged_Titles.tsv.gz\n"
     ]
    }
   ],
   "source": [
    "import os\n",
    "\n",
    "directory = r'E:\\2023_eBay_ML_Challenge_Data\\2023 eBay ML Challenge Data'\n",
    "\n",
    "# Get the contents of the directory\n",
    "contents = os.listdir(directory)\n",
    "\n",
    "# Print the contents\n",
    "for item in contents:\n",
    "    print(item)\n",
    "\n",
    "    "
   ]
  },
  {
   "cell_type": "code",
   "execution_count": 16,
   "id": "8c9643ed",
   "metadata": {},
   "outputs": [
    {
     "name": "stdout",
     "output_type": "stream",
     "text": [
      "   Record Number                                              Title\n",
      "0              1  Supreme Nike SB Dunk High By any Means Red US1...\n",
      "1              2  New Balance 530 Männer und Frauen Laufschuhe m...\n",
      "2              3                     ♥ MICHAEL KORS Sneaker Gr 39 ♥\n",
      "3              4             New Balance ML 574 EGO Turnschuhe grün\n",
      "4              5  Nike air jordan 9 og , space jam , hare , bugs...\n"
     ]
    }
   ],
   "source": [
    "import pandas as pd\n",
    "import gzip\n",
    "\n",
    "file_path = r'E:\\2023_eBay_ML_Challenge_Data\\2023 eBay ML Challenge Data\\Listing_Titles.tsv.gz'\n",
    "\n",
    "# Read the gzipped TSV file using pandas and gzip module\n",
    "with gzip.open(file_path, 'rt', encoding='utf-8') as file:\n",
    "    data_frame = pd.read_csv(file, sep='\\t')\n",
    "\n",
    "# Print the contents of the dataframe\n",
    "print(data_frame.head())\n"
   ]
  },
  {
   "cell_type": "code",
   "execution_count": 31,
   "id": "013c317a",
   "metadata": {},
   "outputs": [
    {
     "name": "stdout",
     "output_type": "stream",
     "text": [
      "['Record Number', 'Title']\n"
     ]
    }
   ],
   "source": [
    "# Assuming `data_frame` is your DataFrame variable\n",
    "headers = data_frame.columns.tolist()\n",
    "print(headers)\n"
   ]
  },
  {
   "cell_type": "code",
   "execution_count": 17,
   "id": "5305a754",
   "metadata": {},
   "outputs": [
    {
     "name": "stdout",
     "output_type": "stream",
     "text": [
      "   Record Number                                              Title  String1  \\\n",
      "0              1  Supreme Nike SB Dunk High By any Means Red US1...  Supreme   \n",
      "1              2  New Balance 530 Männer und Frauen Laufschuhe m...  Supreme   \n",
      "2              3                     ♥ MICHAEL KORS Sneaker Gr 39 ♥  Supreme   \n",
      "3              4             New Balance ML 574 EGO Turnschuhe grün  Supreme   \n",
      "4              5  Nike air jordan 9 og , space jam , hare , bugs...  Supreme   \n",
      "\n",
      "  String2  \n",
      "0  No Tag  \n",
      "1  No Tag  \n",
      "2  No Tag  \n",
      "3  No Tag  \n",
      "4  No Tag  \n"
     ]
    }
   ],
   "source": [
    "import pandas as pd\n",
    "\n",
    "# Assuming `data_frame` is your original DataFrame\n",
    "headers = data_frame.columns.tolist()\n",
    "\n",
    "# Create a new DataFrame with selected columns\n",
    "#new_df = pd.DataFrame(data_frame[\"Record Number\"], columns=headers)\n",
    "\n",
    "# Add the new columns with fixed values\n",
    "\n",
    "new_df = data_frame\n",
    "new_df[\"String1\"] = \"Supreme\"\n",
    "new_df[\"String2\"] = \"No Tag\"\n",
    "new_df_without_title = new_df\n",
    "# Remove the \"Title\" column from DataFrame\n",
    "#new_df_without_title = new_df.drop(\"Title\", axis=1)\n",
    "# Print the new DataFrame\n",
    "print(new_df.head())\n"
   ]
  },
  {
   "cell_type": "code",
   "execution_count": null,
   "id": "23b9504a",
   "metadata": {},
   "outputs": [],
   "source": [
    "import gzip\n",
    "\n",
    "\n",
    "# Remove headers from DataFrame\n",
    "data_without_headers = new_df_without_title.to_string(header=False)\n",
    "\n",
    "# Define the output file name\n",
    "output_file = \"answers.tsv.gz\"\n",
    "\n",
    "# Save the data as a tab-separated file\n",
    "with gzip.open(output_file, \"wt\", encoding=\"utf-8\") as file:\n",
    "    file.write(data_without_headers)\n"
   ]
  },
  {
   "cell_type": "code",
   "execution_count": 18,
   "id": "24116b9e",
   "metadata": {},
   "outputs": [
    {
     "data": {
      "text/html": [
       "<div>\n",
       "<style scoped>\n",
       "    .dataframe tbody tr th:only-of-type {\n",
       "        vertical-align: middle;\n",
       "    }\n",
       "\n",
       "    .dataframe tbody tr th {\n",
       "        vertical-align: top;\n",
       "    }\n",
       "\n",
       "    .dataframe thead th {\n",
       "        text-align: right;\n",
       "    }\n",
       "</style>\n",
       "<table border=\"1\" class=\"dataframe\">\n",
       "  <thead>\n",
       "    <tr style=\"text-align: right;\">\n",
       "      <th></th>\n",
       "      <th>Record Number</th>\n",
       "      <th>Title</th>\n",
       "      <th>String1</th>\n",
       "      <th>String2</th>\n",
       "    </tr>\n",
       "  </thead>\n",
       "  <tbody>\n",
       "    <tr>\n",
       "      <th>0</th>\n",
       "      <td>1</td>\n",
       "      <td>Supreme Nike SB Dunk High By any Means Red US1...</td>\n",
       "      <td>Supreme</td>\n",
       "      <td>No Tag</td>\n",
       "    </tr>\n",
       "    <tr>\n",
       "      <th>1</th>\n",
       "      <td>2</td>\n",
       "      <td>New Balance 530 Männer und Frauen Laufschuhe m...</td>\n",
       "      <td>Supreme</td>\n",
       "      <td>No Tag</td>\n",
       "    </tr>\n",
       "  </tbody>\n",
       "</table>\n",
       "</div>"
      ],
      "text/plain": [
       "   Record Number                                              Title  String1  \\\n",
       "0              1  Supreme Nike SB Dunk High By any Means Red US1...  Supreme   \n",
       "1              2  New Balance 530 Männer und Frauen Laufschuhe m...  Supreme   \n",
       "\n",
       "  String2  \n",
       "0  No Tag  \n",
       "1  No Tag  "
      ]
     },
     "execution_count": 18,
     "metadata": {},
     "output_type": "execute_result"
    }
   ],
   "source": [
    "new_df_without_title.head(2)"
   ]
  },
  {
   "cell_type": "code",
   "execution_count": null,
   "id": "28a14064",
   "metadata": {},
   "outputs": [],
   "source": []
  },
  {
   "cell_type": "code",
   "execution_count": null,
   "id": "a684d205",
   "metadata": {},
   "outputs": [],
   "source": []
  },
  {
   "cell_type": "code",
   "execution_count": null,
   "id": "867c8e57",
   "metadata": {},
   "outputs": [],
   "source": []
  },
  {
   "cell_type": "code",
   "execution_count": 21,
   "id": "677d9b4c",
   "metadata": {},
   "outputs": [
    {
     "name": "stdout",
     "output_type": "stream",
     "text": [
      "Subset of Valid Data (55150 to 55180):\n",
      "['4998', 'Adidas Superstar Laceless / Adidas Originals / Adidas Sneaker / weiß / schwarz / FV3017', 'Adidas', 'Marke']\n",
      "['4998', 'Adidas Superstar Laceless / Adidas Originals / Adidas Sneaker / weiß / schwarz / FV3017', 'Superstar', 'Produktlinie']\n",
      "['4998', 'Adidas Superstar Laceless / Adidas Originals / Adidas Sneaker / weiß / schwarz / FV3017', 'Laceless', 'Verschluss']\n",
      "['4998', 'Adidas Superstar Laceless / Adidas Originals / Adidas Sneaker / weiß / schwarz / FV3017', '/', 'No Tag']\n",
      "['4998', 'Adidas Superstar Laceless / Adidas Originals / Adidas Sneaker / weiß / schwarz / FV3017', 'Adidas', 'Marke']\n",
      "['4998', 'Adidas Superstar Laceless / Adidas Originals / Adidas Sneaker / weiß / schwarz / FV3017', 'Originals', 'Produktlinie']\n",
      "['4998', 'Adidas Superstar Laceless / Adidas Originals / Adidas Sneaker / weiß / schwarz / FV3017', '/', 'No Tag']\n",
      "['4998', 'Adidas Superstar Laceless / Adidas Originals / Adidas Sneaker / weiß / schwarz / FV3017', 'Adidas', 'Marke']\n",
      "['4998', 'Adidas Superstar Laceless / Adidas Originals / Adidas Sneaker / weiß / schwarz / FV3017', 'Sneaker', 'Stil']\n",
      "['4998', 'Adidas Superstar Laceless / Adidas Originals / Adidas Sneaker / weiß / schwarz / FV3017', '/', 'No Tag']\n",
      "['4998', 'Adidas Superstar Laceless / Adidas Originals / Adidas Sneaker / weiß / schwarz / FV3017', 'weiß', 'Farbe']\n",
      "['4998', 'Adidas Superstar Laceless / Adidas Originals / Adidas Sneaker / weiß / schwarz / FV3017', '/', 'No Tag']\n",
      "['4998', 'Adidas Superstar Laceless / Adidas Originals / Adidas Sneaker / weiß / schwarz / FV3017', 'schwarz', 'Farbe']\n",
      "['4998', 'Adidas Superstar Laceless / Adidas Originals / Adidas Sneaker / weiß / schwarz / FV3017', '/', 'No Tag']\n",
      "['4998', 'Adidas Superstar Laceless / Adidas Originals / Adidas Sneaker / weiß / schwarz / FV3017', 'FV3017', 'Herstellernummer']\n",
      "['4999', 'HUGO BOSS Herren Schuhe Schnürschuhe Sneaker Velocity Runn rbmx2', 'HUGO', 'Marke']\n",
      "['4999', 'HUGO BOSS Herren Schuhe Schnürschuhe Sneaker Velocity Runn rbmx2', 'BOSS']\n",
      "['4999', 'HUGO BOSS Herren Schuhe Schnürschuhe Sneaker Velocity Runn rbmx2', 'Herren', 'Abteilung']\n",
      "['4999', 'HUGO BOSS Herren Schuhe Schnürschuhe Sneaker Velocity Runn rbmx2', 'Schuhe', 'Produktart']\n",
      "['4999', 'HUGO BOSS Herren Schuhe Schnürschuhe Sneaker Velocity Runn rbmx2', 'Schnürschuhe']\n",
      "['4999', 'HUGO BOSS Herren Schuhe Schnürschuhe Sneaker Velocity Runn rbmx2', 'Sneaker', 'Stil']\n",
      "['4999', 'HUGO BOSS Herren Schuhe Schnürschuhe Sneaker Velocity Runn rbmx2', 'Velocity', 'Modell']\n",
      "['4999', 'HUGO BOSS Herren Schuhe Schnürschuhe Sneaker Velocity Runn rbmx2', 'Runn']\n",
      "['4999', 'HUGO BOSS Herren Schuhe Schnürschuhe Sneaker Velocity Runn rbmx2', 'rbmx2']\n",
      "['5000', 'Herren Trekking Schuhe Outdoor Sneaker Sportschuhe Wanderschuh Big Size U37', 'Herren', 'Abteilung']\n",
      "['5000', 'Herren Trekking Schuhe Outdoor Sneaker Sportschuhe Wanderschuh Big Size U37', 'Trekking', 'Aktivität']\n",
      "['5000', 'Herren Trekking Schuhe Outdoor Sneaker Sportschuhe Wanderschuh Big Size U37', 'Schuhe', 'Produktart']\n",
      "['5000', 'Herren Trekking Schuhe Outdoor Sneaker Sportschuhe Wanderschuh Big Size U37', 'Outdoor', 'Anlass']\n",
      "['5000', 'Herren Trekking Schuhe Outdoor Sneaker Sportschuhe Wanderschuh Big Size U37', 'Sneaker', 'Stil']\n",
      "['5000', 'Herren Trekking Schuhe Outdoor Sneaker Sportschuhe Wanderschuh Big Size U37', 'Sportschuhe', 'Produktart']\n",
      "\n",
      "Skipped Lines:\n"
     ]
    }
   ],
   "source": [
    "import pandas as pd\n",
    "import gzip\n",
    "\n",
    "file_path = r\"E:\\2023_eBay_ML_Challenge_Data\\2023 eBay ML Challenge Data\\Train_Tagged_Titles.tsv.gz\"\n",
    "\n",
    "# Read the gzipped TSV file using pandas and gzip module, skipping problematic lines\n",
    "skipped_lines = []\n",
    "valid_data = []\n",
    "with gzip.open(file_path, 'rt', encoding='utf-8') as file:\n",
    "    for line_num, line in enumerate(file, start=1):\n",
    "        try:\n",
    "            data = line.strip().split('\\t')\n",
    "            # Process the data as needed\n",
    "            valid_data.append(data)\n",
    "        except Exception as e:\n",
    "            skipped_lines.append((line_num, line))\n",
    "\n",
    "# Print a subset of the valid data\n",
    "start_index = 55150  # Adjust the start index as needed\n",
    "end_index   = 55180  # Adjust the end index as needed\n",
    "\n",
    "print(f\"Subset of Valid Data ({start_index} to {end_index}):\")\n",
    "for data_entry in valid_data[start_index:end_index]:\n",
    "    print(data_entry)\n",
    "\n",
    "# Print the skipped lines\n",
    "print(\"\\nSkipped Lines:\")\n",
    "for line_num, line in skipped_lines:\n",
    "    print(f\"Skipped line {line_num}: {line}\")\n"
   ]
  },
  {
   "cell_type": "code",
   "execution_count": null,
   "id": "ba3820bd",
   "metadata": {},
   "outputs": [],
   "source": []
  },
  {
   "cell_type": "code",
   "execution_count": null,
   "id": "3a2ff3b5",
   "metadata": {},
   "outputs": [],
   "source": []
  },
  {
   "cell_type": "code",
   "execution_count": null,
   "id": "ecb9790c",
   "metadata": {},
   "outputs": [],
   "source": []
  },
  {
   "cell_type": "code",
   "execution_count": null,
   "id": "4bdc937e",
   "metadata": {},
   "outputs": [],
   "source": []
  }
 ],
 "metadata": {
  "kernelspec": {
   "display_name": "Python 3 (ipykernel)",
   "language": "python",
   "name": "python3"
  },
  "language_info": {
   "codemirror_mode": {
    "name": "ipython",
    "version": 3
   },
   "file_extension": ".py",
   "mimetype": "text/x-python",
   "name": "python",
   "nbconvert_exporter": "python",
   "pygments_lexer": "ipython3",
   "version": "3.9.13"
  }
 },
 "nbformat": 4,
 "nbformat_minor": 5
}
