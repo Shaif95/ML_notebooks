{
 "cells": [
  {
   "cell_type": "code",
   "execution_count": 6,
   "id": "2e469e8f",
   "metadata": {},
   "outputs": [],
   "source": [
    "import json\n",
    "import pandas as pd\n",
    "import os\n",
    "from tqdm import tqdm\n",
    "import shutil\n",
    "\n",
    "low = 1000\n"
   ]
  },
  {
   "cell_type": "code",
   "execution_count": 7,
   "id": "4b07e87c",
   "metadata": {},
   "outputs": [],
   "source": [
    "from glob import glob\n",
    "x = glob(\"E:/HMDB/*/\", recursive = True)"
   ]
  },
  {
   "cell_type": "code",
   "execution_count": 8,
   "id": "bd3c4cbb",
   "metadata": {},
   "outputs": [],
   "source": [
    "import cv2\n",
    "def remove(path):\n",
    "    \"\"\" param <path> could either be relative or absolute. \"\"\"\n",
    "    if os.path.isfile(path) or os.path.islink(path):\n",
    "        os.remove(path)  # remove the file\n",
    "    elif os.path.isdir(path):\n",
    "        shutil.rmtree(path)  # remove dir and all contains\n",
    "    else:\n",
    "        raise ValueError(\"file {} is not a file or dir.\".format(path))\n",
    "        \n",
    "        \n",
    "        \n",
    "def get_frames(title,mypath):\n",
    "    \n",
    "    #print(title)\n",
    "    \n",
    "    vidcap = cv2.VideoCapture(title)\n",
    "    \n",
    "    success,image = vidcap.read()\n",
    "    \n",
    "    #print(success)\n",
    "    count = 0\n",
    "    while success:\n",
    "   \n",
    "        success,image = vidcap.read()\n",
    "        print ('Read a new frame: ', success)\n",
    "        try:\n",
    "            cv2.imwrite( mypath + \"\\\\frame%d.jpg\" % count, image)     # save frame as JPEG file\n",
    "        except Exception:\n",
    "            pass\n",
    "        count = count + 1\n",
    "    #print(\"HEYEEEEEEEEEEEEEEEEEEEEEEEEEEEEEEEEEEEE\",count)\n",
    "        \n",
    "    return count"
   ]
  },
  {
   "cell_type": "code",
   "execution_count": null,
   "id": "2d6d482b",
   "metadata": {},
   "outputs": [],
   "source": [
    "for i in tqdm(x):\n",
    "    print(i)\n",
    "    y = glob(i+'/*')\n",
    "    #print(y)\n",
    "    for j in tqdm(y):\n",
    "        print(\"runs\")\n",
    "        os.makedirs( j.split('.')[0])\n",
    "        c = get_frames(j,j.split('.')[0])\n",
    "        if(c <50):\n",
    "            remove(j.split('.')[0])\n",
    "        if(c<low):\n",
    "            low = c\n",
    "        remove(j)\n",
    "        "
   ]
  },
  {
   "cell_type": "code",
   "execution_count": 10,
   "id": "069571f9",
   "metadata": {},
   "outputs": [
    {
     "data": {
      "text/plain": [
       "18"
      ]
     },
     "execution_count": 10,
     "metadata": {},
     "output_type": "execute_result"
    }
   ],
   "source": [
    "low"
   ]
  },
  {
   "cell_type": "code",
   "execution_count": null,
   "id": "ed695008",
   "metadata": {},
   "outputs": [],
   "source": []
  },
  {
   "cell_type": "code",
   "execution_count": null,
   "id": "eeddbefe",
   "metadata": {},
   "outputs": [],
   "source": []
  },
  {
   "cell_type": "code",
   "execution_count": null,
   "id": "7fe688f1",
   "metadata": {},
   "outputs": [],
   "source": []
  },
  {
   "cell_type": "code",
   "execution_count": 32,
   "id": "26ba5ce6",
   "metadata": {},
   "outputs": [],
   "source": []
  },
  {
   "cell_type": "code",
   "execution_count": 19,
   "id": "c7dc39af",
   "metadata": {},
   "outputs": [],
   "source": []
  },
  {
   "cell_type": "code",
   "execution_count": null,
   "id": "1ad35011",
   "metadata": {},
   "outputs": [],
   "source": []
  },
  {
   "cell_type": "code",
   "execution_count": null,
   "id": "e3946b7f",
   "metadata": {},
   "outputs": [],
   "source": []
  },
  {
   "cell_type": "code",
   "execution_count": null,
   "id": "74edf190",
   "metadata": {},
   "outputs": [],
   "source": []
  },
  {
   "cell_type": "code",
   "execution_count": null,
   "id": "29ce34d1",
   "metadata": {},
   "outputs": [],
   "source": []
  }
 ],
 "metadata": {
  "kernelspec": {
   "display_name": "Python 3 (ipykernel)",
   "language": "python",
   "name": "python3"
  },
  "language_info": {
   "codemirror_mode": {
    "name": "ipython",
    "version": 3
   },
   "file_extension": ".py",
   "mimetype": "text/x-python",
   "name": "python",
   "nbconvert_exporter": "python",
   "pygments_lexer": "ipython3",
   "version": "3.9.7"
  }
 },
 "nbformat": 4,
 "nbformat_minor": 5
}
