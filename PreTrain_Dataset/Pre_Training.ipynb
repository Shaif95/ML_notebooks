{
 "cells": [
  {
   "cell_type": "code",
   "execution_count": 1,
   "id": "3a78b9b6",
   "metadata": {},
   "outputs": [
    {
     "name": "stdout",
     "output_type": "stream",
     "text": [
      "Combo list loaded successfully.\n",
      "['D:/data/imagenet\\\\n03450230\\\\', 'D:/data/imagenet\\\\n04273569\\\\', 'D:/data/imagenet\\\\n07836838\\\\', 'D:/data/imagenet\\\\n02510455\\\\', 'D:/data/imagenet\\\\n04146614\\\\', 'D:/data/imagenet\\\\n02085782\\\\', 'D:/data/imagenet\\\\n02328150\\\\', 'D:/data/imagenet\\\\n01491361\\\\', 'D:/data/imagenet\\\\n01776313\\\\', 'D:/data/imagenet\\\\n04392985\\\\', 'D:/data/imagenet\\\\n03590841\\\\', 'D:/data/imagenet\\\\n02667093\\\\', 'D:/data/imagenet\\\\n03344393\\\\', 'D:/data/imagenet\\\\n04525305\\\\', 'D:/data/imagenet\\\\n03769881\\\\', 'D:/data/imagenet\\\\n03459775\\\\', 'D:/data/imagenet\\\\n07831146\\\\', 'D:/data/imagenet\\\\n03197337\\\\', 'D:/data/imagenet\\\\n04591157\\\\', 'D:/data/imagenet\\\\n04069434\\\\', 'D:/data/imagenet\\\\n03393912\\\\', 'D:/data/imagenet\\\\n02018795\\\\', 'D:/data/imagenet\\\\n03692522\\\\', 'D:/data/imagenet\\\\n02100877\\\\', 'D:/data/imagenet\\\\n03494278\\\\', 'D:/data/imagenet\\\\n02009912\\\\', 'D:/data/imagenet\\\\n03127747\\\\', 'D:/data/imagenet\\\\n03180011\\\\', 'D:/data/imagenet\\\\n10148035\\\\', 'D:/data/imagenet\\\\n03314780\\\\', 'D:/data/imagenet\\\\n09421951\\\\', 'D:/data/imagenet\\\\n03930630\\\\', 'D:/data/imagenet\\\\n04515003\\\\', 'D:/data/imagenet\\\\n04418357\\\\', 'D:/data/imagenet\\\\n09288635\\\\', 'D:/data/imagenet\\\\n01798484\\\\', 'D:/data/imagenet\\\\n11939491\\\\', 'D:/data/imagenet\\\\n02093647\\\\', 'D:/data/imagenet\\\\n03787032\\\\', 'D:/data/imagenet\\\\n03706229\\\\', 'D:/data/imagenet\\\\n11879895\\\\', 'D:/data/imagenet\\\\n07920052\\\\', 'D:/data/imagenet\\\\n03250847\\\\', 'D:/data/imagenet\\\\n04604644\\\\', 'D:/data/imagenet\\\\n04428191\\\\', 'D:/data/imagenet\\\\n03670208\\\\', 'D:/data/imagenet\\\\n04579432\\\\', 'D:/data/imagenet\\\\n04326547\\\\', 'D:/data/imagenet\\\\n03967562\\\\', 'D:/data/imagenet\\\\n02488702\\\\', 'D:/data/imagenet\\\\n04243546\\\\', 'D:/data/imagenet\\\\n02749479\\\\', 'D:/data/imagenet\\\\n04336792\\\\', 'D:/data/imagenet\\\\n03733281\\\\', 'D:/data/imagenet\\\\n03016953\\\\', 'D:/data/imagenet\\\\n04479046\\\\', 'D:/data/imagenet\\\\n04483307\\\\', 'D:/data/imagenet\\\\n07579787\\\\', 'D:/data/imagenet\\\\n04019541\\\\', 'D:/data/imagenet\\\\n01968897\\\\', 'D:/data/imagenet\\\\n01950731\\\\', 'D:/data/imagenet\\\\n09468604\\\\', 'D:/data/imagenet\\\\n02422699\\\\', 'D:/data/imagenet\\\\n04147183\\\\', 'D:/data/imagenet\\\\n02109525\\\\', 'D:/data/imagenet\\\\n02105641\\\\', 'D:/data/imagenet\\\\n02106166\\\\', 'D:/data/imagenet\\\\n02097130\\\\', 'D:/data/imagenet\\\\n01685808\\\\', 'D:/data/imagenet\\\\n04328186\\\\', 'D:/data/imagenet\\\\n03717622\\\\', 'D:/data/imagenet\\\\n02916936\\\\', 'D:/data/imagenet\\\\n03874293\\\\', 'D:/data/imagenet\\\\n01910747\\\\', 'D:/data/imagenet\\\\n03272562\\\\', 'D:/data/imagenet\\\\n02948072\\\\', 'D:/data/imagenet\\\\n01697457\\\\', 'D:/data/imagenet\\\\n04264628\\\\', 'D:/data/imagenet\\\\n02095314\\\\', 'D:/data/imagenet\\\\n02111889\\\\', 'D:/data/imagenet\\\\n02655020\\\\', 'D:/data/imagenet\\\\n03796401\\\\', 'D:/data/imagenet\\\\n09428293\\\\', 'D:/data/imagenet\\\\n02981792\\\\', 'D:/data/imagenet\\\\n04239074\\\\', 'D:/data/imagenet\\\\n02841315\\\\', 'D:/data/imagenet\\\\n03662601\\\\', 'D:/data/imagenet\\\\n01644373\\\\', 'D:/data/imagenet\\\\n07565083\\\\', 'D:/data/imagenet\\\\n03485407\\\\', 'D:/data/imagenet\\\\n03673027\\\\', 'D:/data/imagenet\\\\n03207743\\\\', 'D:/data/imagenet\\\\n02099429\\\\', 'D:/data/imagenet\\\\n01484850\\\\', 'D:/data/imagenet\\\\n02690373\\\\', 'D:/data/imagenet\\\\n07932039\\\\', 'D:/data/imagenet\\\\n03347037\\\\', 'D:/data/imagenet\\\\n07697313\\\\', 'D:/data/imagenet\\\\n04162706\\\\', 'D:/data/imagenet\\\\n03594734\\\\', 'D:/data/imagenet\\\\n02883205\\\\', 'D:/data/imagenet\\\\n03400231\\\\', 'D:/data/imagenet\\\\n01795545\\\\', 'D:/data/imagenet\\\\n02105056\\\\', 'D:/data/imagenet\\\\n03240683\\\\', 'D:/data/imagenet\\\\n04252077\\\\', 'D:/data/imagenet\\\\n04356056\\\\', 'D:/data/imagenet\\\\n02028035\\\\', 'D:/data/imagenet\\\\n09332890\\\\', 'D:/data/imagenet\\\\n02074367\\\\', 'D:/data/imagenet\\\\n02894605\\\\', 'D:/data/imagenet\\\\n01601694\\\\', 'D:/data/imagenet\\\\n04252225\\\\', 'D:/data/imagenet\\\\n04152593\\\\', 'D:/data/imagenet\\\\n02037110\\\\', 'D:/data/imagenet\\\\n02099267\\\\', 'D:/data/imagenet\\\\n02027492\\\\', 'D:/data/imagenet\\\\n04350905\\\\', 'D:/data/imagenet\\\\n02769748\\\\', 'D:/data/imagenet\\\\n04286575\\\\', 'D:/data/imagenet\\\\n02483708\\\\', 'D:/data/imagenet\\\\n04404412\\\\', 'D:/data/imagenet\\\\n02281406\\\\', 'D:/data/imagenet\\\\n04044716\\\\', 'D:/data/imagenet\\\\n04275548\\\\', 'D:/data/imagenet\\\\n03788365\\\\', 'D:/data/imagenet\\\\n01843383\\\\', 'D:/data/imagenet\\\\n04550184\\\\', 'D:/data/imagenet\\\\n03617480\\\\', 'D:/data/imagenet\\\\n04209239\\\\', 'D:/data/imagenet\\\\n02669723\\\\', 'D:/data/imagenet\\\\n03998194\\\\', 'D:/data/imagenet\\\\n02892201\\\\', 'D:/data/imagenet\\\\n03297495\\\\', 'D:/data/imagenet\\\\n03792972\\\\', 'D:/data/imagenet\\\\n04552348\\\\', 'D:/data/imagenet\\\\n01689811\\\\', 'D:/data/imagenet\\\\n02233338\\\\', 'D:/data/imagenet\\\\n01773549\\\\', 'D:/data/imagenet\\\\n06359193\\\\', 'D:/data/imagenet\\\\n01855032\\\\', 'D:/data/imagenet\\\\n12985857\\\\', 'D:/data/imagenet\\\\n03691459\\\\', 'D:/data/imagenet\\\\n02108551\\\\', 'D:/data/imagenet\\\\n02025239\\\\', 'D:/data/imagenet\\\\n04613696\\\\', 'D:/data/imagenet\\\\n02699494\\\\', 'D:/data/imagenet\\\\n04310018\\\\', 'D:/data/imagenet\\\\n01582220\\\\', 'D:/data/imagenet\\\\n03424325\\\\', 'D:/data/imagenet\\\\n03100240\\\\', 'D:/data/imagenet\\\\n01807496\\\\', 'D:/data/imagenet\\\\n07860988\\\\', 'D:/data/imagenet\\\\n02280649\\\\', 'D:/data/imagenet\\\\n03089624\\\\', 'D:/data/imagenet\\\\n02107683\\\\', 'D:/data/imagenet\\\\n03485794\\\\', 'D:/data/imagenet\\\\n02500267\\\\', 'D:/data/imagenet\\\\n02006656\\\\', 'D:/data/imagenet\\\\n01622779\\\\', 'D:/data/imagenet\\\\n07802026\\\\', 'D:/data/imagenet\\\\n03478589\\\\', 'D:/data/imagenet\\\\n09399592\\\\', 'D:/data/imagenet\\\\n04023962\\\\', 'D:/data/imagenet\\\\n02090721\\\\', 'D:/data/imagenet\\\\n02096585\\\\', 'D:/data/imagenet\\\\n03216828\\\\', 'D:/data/imagenet\\\\n03208938\\\\', 'D:/data/imagenet\\\\n02951358\\\\', 'D:/data/imagenet\\\\n02095889\\\\', 'D:/data/imagenet\\\\n03160309\\\\', 'D:/data/imagenet\\\\n10565667\\\\', 'D:/data/imagenet\\\\n02860847\\\\', 'D:/data/imagenet\\\\n02730930\\\\', 'D:/data/imagenet\\\\n01494475\\\\', 'D:/data/imagenet\\\\n03788195\\\\', 'D:/data/imagenet\\\\n03496892\\\\', 'D:/data/imagenet\\\\n01882714\\\\', 'D:/data/imagenet\\\\n02817516\\\\', 'D:/data/imagenet\\\\n02101556\\\\', 'D:/data/imagenet\\\\n03825788\\\\', 'D:/data/imagenet\\\\n02804610\\\\', 'D:/data/imagenet\\\\n03958227\\\\', 'D:/data/imagenet\\\\n01737021\\\\', 'D:/data/imagenet\\\\n04584207\\\\', 'D:/data/imagenet\\\\n02086646\\\\', 'D:/data/imagenet\\\\n03095699\\\\', 'D:/data/imagenet\\\\n02018207\\\\', 'D:/data/imagenet\\\\n04486054\\\\', 'D:/data/imagenet\\\\n12057211\\\\', 'D:/data/imagenet\\\\n03404251\\\\', 'D:/data/imagenet\\\\n02033041\\\\', 'D:/data/imagenet\\\\n01498041\\\\', 'D:/data/imagenet\\\\n04259630\\\\', 'D:/data/imagenet\\\\n02104029\\\\', 'D:/data/imagenet\\\\n03947888\\\\', 'D:/data/imagenet\\\\n02423022\\\\', 'D:/data/imagenet\\\\n03337140\\\\', 'D:/data/imagenet\\\\n01496331\\\\', 'D:/data/imagenet\\\\n03929855\\\\', 'D:/data/imagenet\\\\n02445715\\\\', 'D:/data/imagenet\\\\n04355933\\\\', 'D:/data/imagenet\\\\n02130308\\\\', 'D:/data/imagenet\\\\n03223299\\\\', 'D:/data/imagenet\\\\n02102973\\\\', 'D:/data/imagenet\\\\n02704792\\\\', 'D:/data/imagenet\\\\n03977966\\\\', 'D:/data/imagenet\\\\n03782006\\\\', 'D:/data/imagenet\\\\n02105162\\\\', 'D:/data/imagenet\\\\n03345487\\\\', 'D:/data/imagenet\\\\n03109150\\\\', 'D:/data/imagenet\\\\n03902125\\\\', 'D:/data/imagenet\\\\n02110627\\\\', 'D:/data/imagenet\\\\n03814639\\\\', 'D:/data/imagenet\\\\n02397096\\\\', 'D:/data/imagenet\\\\n03776460\\\\', 'D:/data/imagenet\\\\n01914609\\\\', 'D:/data/imagenet\\\\n03018349\\\\', 'D:/data/imagenet\\\\n03131574\\\\', 'D:/data/imagenet\\\\n02134418\\\\', 'D:/data/imagenet\\\\n03976467\\\\', 'D:/data/imagenet\\\\n02117135\\\\', 'D:/data/imagenet\\\\n01873310\\\\', 'D:/data/imagenet\\\\n02791270\\\\', 'D:/data/imagenet\\\\n01739381\\\\', 'D:/data/imagenet\\\\n02326432\\\\', 'D:/data/imagenet\\\\n02492660\\\\', 'D:/data/imagenet\\\\n02325366\\\\', 'D:/data/imagenet\\\\n03188531\\\\', 'D:/data/imagenet\\\\n04041544\\\\', 'D:/data/imagenet\\\\n02111277\\\\', 'D:/data/imagenet\\\\n02687172\\\\', 'D:/data/imagenet\\\\n04435653\\\\', 'D:/data/imagenet\\\\n02108000\\\\', 'D:/data/imagenet\\\\n02980441\\\\', 'D:/data/imagenet\\\\n02167151\\\\', 'D:/data/imagenet\\\\n02814533\\\\', 'D:/data/imagenet\\\\n03742115\\\\', 'D:/data/imagenet\\\\n04229816\\\\', 'D:/data/imagenet\\\\n01698640\\\\', 'D:/data/imagenet\\\\n03388043\\\\', 'D:/data/imagenet\\\\n04501370\\\\', 'D:/data/imagenet\\\\n09193705\\\\', 'D:/data/imagenet\\\\n09246464\\\\', 'D:/data/imagenet\\\\n02093859\\\\', 'D:/data/imagenet\\\\n04285008\\\\', 'D:/data/imagenet\\\\n03888257\\\\', 'D:/data/imagenet\\\\n01695060\\\\', 'D:/data/imagenet\\\\n02794156\\\\', 'D:/data/imagenet\\\\n02398521\\\\', 'D:/data/imagenet\\\\n07880968\\\\', 'D:/data/imagenet\\\\n04606251\\\\', 'D:/data/imagenet\\\\n04589890\\\\', 'D:/data/imagenet\\\\n09256479\\\\', 'D:/data/imagenet\\\\n09472597\\\\', 'D:/data/imagenet\\\\n02834397\\\\', 'D:/data/imagenet\\\\n04090263\\\\', 'D:/data/imagenet\\\\n02859443\\\\', 'D:/data/imagenet\\\\n03584254\\\\', 'D:/data/imagenet\\\\n01631663\\\\', 'D:/data/imagenet\\\\n04344873\\\\', 'D:/data/imagenet\\\\n02486410\\\\', 'D:/data/imagenet\\\\n02606052\\\\', 'D:/data/imagenet\\\\n04487081\\\\', 'D:/data/imagenet\\\\n02276258\\\\', 'D:/data/imagenet\\\\n04612504\\\\', 'D:/data/imagenet\\\\n02129165\\\\', 'D:/data/imagenet\\\\n02454379\\\\', 'D:/data/imagenet\\\\n04335435\\\\', 'D:/data/imagenet\\\\n04592741\\\\', 'D:/data/imagenet\\\\n01753488\\\\', 'D:/data/imagenet\\\\n02009229\\\\', 'D:/data/imagenet\\\\n02281787\\\\', 'D:/data/imagenet\\\\n04238763\\\\', 'D:/data/imagenet\\\\n01751748\\\\', 'D:/data/imagenet\\\\n03868242\\\\', 'D:/data/imagenet\\\\n02422106\\\\', 'D:/data/imagenet\\\\n02115913\\\\', 'D:/data/imagenet\\\\n04467665\\\\', 'D:/data/imagenet\\\\n01592084\\\\', 'D:/data/imagenet\\\\n01665541\\\\', 'D:/data/imagenet\\\\n02011460\\\\', 'D:/data/imagenet\\\\n03290653\\\\', 'D:/data/imagenet\\\\n02701002\\\\', 'D:/data/imagenet\\\\n03792782\\\\', 'D:/data/imagenet\\\\n02119022\\\\', 'D:/data/imagenet\\\\n03042490\\\\', 'D:/data/imagenet\\\\n01770081\\\\', 'D:/data/imagenet\\\\n02066245\\\\', 'D:/data/imagenet\\\\n01692333\\\\', 'D:/data/imagenet\\\\n01917289\\\\', 'D:/data/imagenet\\\\n02268853\\\\', 'D:/data/imagenet\\\\n01984695\\\\', 'D:/data/imagenet\\\\n04204347\\\\', 'D:/data/imagenet\\\\n02119789\\\\', 'D:/data/imagenet\\\\n01443537\\\\', 'D:/data/imagenet\\\\n02114855\\\\', 'D:/data/imagenet\\\\n03127925\\\\', 'D:/data/imagenet\\\\n01796340\\\\', 'D:/data/imagenet\\\\n02120505\\\\']\n"
     ]
    }
   ],
   "source": [
    "import pickle\n",
    "\n",
    "# Loading the list from the pickle file\n",
    "file_path = r\"D:\\combo_list.pickle\"  # Update the file path if necessary\n",
    "\n",
    "with open(file_path, 'rb') as file:\n",
    "    loaded_combo_list = pickle.load(file)\n",
    "\n",
    "print(\"Combo list loaded successfully.\")\n",
    "print(loaded_combo_list)\n"
   ]
  },
  {
   "cell_type": "code",
   "execution_count": 2,
   "id": "0230d816",
   "metadata": {},
   "outputs": [
    {
     "data": {
      "text/plain": [
       "300"
      ]
     },
     "execution_count": 2,
     "metadata": {},
     "output_type": "execute_result"
    }
   ],
   "source": [
    "len(loaded_combo_list)"
   ]
  },
  {
   "cell_type": "code",
   "execution_count": 3,
   "id": "cc51a9ed",
   "metadata": {},
   "outputs": [
    {
     "name": "stderr",
     "output_type": "stream",
     "text": [
      "100%|██████████████████████████████████████████████████████████████████████████████| 300/300 [1:26:00<00:00, 17.20s/it]\n"
     ]
    },
    {
     "name": "stdout",
     "output_type": "stream",
     "text": [
      "Shape of resized images array: (383733, 32, 32, 3)\n",
      "Shape of categorical labels array: (383733, 300)\n"
     ]
    },
    {
     "name": "stderr",
     "output_type": "stream",
     "text": [
      "C:\\Users\\shaif\\anaconda3\\envs\\tens\\lib\\site-packages\\sklearn\\preprocessing\\_encoders.py:972: FutureWarning: `sparse` was renamed to `sparse_output` in version 1.2 and will be removed in 1.4. `sparse_output` is ignored unless you leave `sparse` to its default value.\n",
      "  warnings.warn(\n"
     ]
    }
   ],
   "source": [
    "import os\n",
    "from PIL import Image\n",
    "import numpy as np\n",
    "from sklearn.preprocessing import LabelEncoder, OneHotEncoder\n",
    "from tqdm import tqdm\n",
    "\n",
    "# Define the target size for resizing the images\n",
    "target_size = (32, 32)\n",
    "\n",
    "# Initialize empty lists to store resized images and labels\n",
    "resized_images = []\n",
    "labels = []\n",
    "\n",
    "# Iterate over each directory in the loaded_combo_list\n",
    "for directory in tqdm(loaded_combo_list):\n",
    "    \n",
    "    # Iterate over each file in the directory\n",
    "    for filename in os.listdir(directory):\n",
    "        # Construct the full file path\n",
    "        file_path = os.path.join(directory, filename)\n",
    "        \n",
    "        # Open the image using PIL\n",
    "        image = Image.open(file_path)\n",
    "        \n",
    "        # Convert the image to RGB if it's not already in RGB format\n",
    "        if image.mode != 'RGB':\n",
    "            image = image.convert('RGB')\n",
    "        \n",
    "        # Resize the image to the target size using PIL\n",
    "        resized_image = image.resize(target_size)\n",
    "        \n",
    "        # Convert the image to a NumPy array\n",
    "        resized_image = np.array(resized_image)\n",
    "        \n",
    "        # Append the resized image to the list\n",
    "        resized_images.append(resized_image)\n",
    "        \n",
    "        # Append the corresponding label to the labels list\n",
    "        labels.append(directory)\n",
    "\n",
    "# Convert the list of resized images to a NumPy array\n",
    "resized_images = np.array(resized_images)\n",
    "\n",
    "# Normalize the pixel values between 0 and 1\n",
    "resized_images = resized_images.astype('float32') / 255.0\n",
    "\n",
    "# Convert labels to categorical using LabelEncoder and OneHotEncoder\n",
    "label_encoder = LabelEncoder()\n",
    "integer_encoded = label_encoder.fit_transform(labels)\n",
    "onehot_encoder = OneHotEncoder(sparse=False)\n",
    "categorical_labels = onehot_encoder.fit_transform(integer_encoded.reshape(-1, 1))\n",
    "\n",
    "# Print the shape of the resized images and categorical labels arrays\n",
    "print(\"Shape of resized images array:\", resized_images.shape)\n",
    "print(\"Shape of categorical labels array:\", categorical_labels.shape)\n"
   ]
  },
  {
   "cell_type": "code",
   "execution_count": 4,
   "id": "2563ffbf",
   "metadata": {},
   "outputs": [
    {
     "data": {
      "text/plain": [
       "'D:/data/imagenet\\\\n03450230\\\\'"
      ]
     },
     "execution_count": 4,
     "metadata": {},
     "output_type": "execute_result"
    }
   ],
   "source": [
    "labels[0]"
   ]
  },
  {
   "cell_type": "code",
   "execution_count": 3,
   "id": "814f6df2",
   "metadata": {},
   "outputs": [],
   "source": [
    "import numpy as np\n",
    "from PIL import Image\n",
    "from sklearn.preprocessing import LabelEncoder, OneHotEncoder\n",
    "from tensorflow.keras.applications.resnet50 import ResNet50\n",
    "from tensorflow.keras.models import Model\n",
    "from tensorflow.keras.layers import Dense, GlobalAveragePooling2D\n",
    "from tensorflow.keras.optimizers import Adam\n",
    "\n",
    "\n",
    "# Load the pre-trained ResNet50 model (excluding the top layer)\n",
    "base_model = ResNet50(weights=None, include_top=False, input_shape=(32, 32, 3))\n",
    "\n",
    "# Add a global average pooling layer\n",
    "x = base_model.output\n",
    "x = GlobalAveragePooling2D()(x)\n",
    "\n",
    "# Add a fully connected layer\n",
    "x = Dense(512, activation='relu')(x)\n",
    "\n",
    "# Add the output layer with the number of classes\n",
    "output = Dense(categorical_labels.shape[1], activation='softmax')(x)\n",
    "\n",
    "# Create the model\n",
    "model = Model(inputs=base_model.input, outputs=output)\n"
   ]
  },
  {
   "cell_type": "code",
   "execution_count": 10,
   "id": "0f910cca",
   "metadata": {},
   "outputs": [
    {
     "name": "stdout",
     "output_type": "stream",
     "text": [
      "Epoch 1/500\n",
      "4797/4797 [==============================] - 294s 60ms/step - loss: 5.2840 - accuracy: 0.0113 - val_loss: 10.5308 - val_accuracy: 0.0000e+00 - lr: 0.1000\n",
      "Epoch 2/500\n",
      "4797/4797 [==============================] - 298s 62ms/step - loss: 4.5292 - accuracy: 0.0667 - val_loss: 11.8799 - val_accuracy: 0.0000e+00 - lr: 0.1000\n",
      "Epoch 3/500\n",
      "4797/4797 [==============================] - 304s 63ms/step - loss: 4.1947 - accuracy: 0.1077 - val_loss: 11.1148 - val_accuracy: 0.0000e+00 - lr: 0.1000\n",
      "Epoch 4/500\n",
      "4797/4797 [==============================] - 308s 64ms/step - loss: 4.1804 - accuracy: 0.1149 - val_loss: 11.4931 - val_accuracy: 0.0000e+00 - lr: 0.1000\n",
      "Epoch 5/500\n",
      "4797/4797 [==============================] - 298s 62ms/step - loss: 4.1344 - accuracy: 0.1208 - val_loss: 12.0917 - val_accuracy: 0.0000e+00 - lr: 0.1000\n",
      "Epoch 6/500\n",
      "4797/4797 [==============================] - 290s 60ms/step - loss: 4.0595 - accuracy: 0.1314 - val_loss: 12.3605 - val_accuracy: 0.0000e+00 - lr: 0.1000\n",
      "Epoch 7/500\n",
      "4797/4797 [==============================] - 291s 61ms/step - loss: 3.9101 - accuracy: 0.1524 - val_loss: 12.3083 - val_accuracy: 1.3030e-05 - lr: 0.1000\n",
      "Epoch 8/500\n",
      "4797/4797 [==============================] - 295s 62ms/step - loss: 3.7860 - accuracy: 0.1702 - val_loss: 12.4176 - val_accuracy: 0.0000e+00 - lr: 0.1000\n",
      "Epoch 9/500\n",
      "2750/4797 [================>.............] - ETA: 1:59 - loss: 3.6989 - accuracy: 0.1838"
     ]
    }
   ],
   "source": [
    "from tensorflow.keras.optimizers import SGD\n",
    "from tensorflow.keras.callbacks import LearningRateScheduler\n",
    "\n",
    "# Define the optimizer with SGD and momentum\n",
    "optimizer = SGD(lr=0.1, momentum=0.9)\n",
    "\n",
    "# Compile the model\n",
    "model.compile(optimizer=optimizer, loss='categorical_crossentropy', metrics=['accuracy'])\n",
    "\n",
    "# Define a learning rate decay schedule\n",
    "def learning_rate_decay(epoch):\n",
    "    initial_lr = 0.1\n",
    "    drop = 0.1\n",
    "    epochs_drop = 10\n",
    "    lr = initial_lr * (drop ** (epoch // epochs_drop))\n",
    "    return lr\n",
    "\n",
    "lr_scheduler = LearningRateScheduler(learning_rate_decay)\n",
    "\n",
    "# Train the model\n",
    "model.fit(resized_images, categorical_labels, batch_size=64, epochs=500, validation_split=0.2, callbacks=[lr_scheduler])"
   ]
  },
  {
   "cell_type": "code",
   "execution_count": null,
   "id": "ee78e79c",
   "metadata": {},
   "outputs": [],
   "source": []
  },
  {
   "cell_type": "code",
   "execution_count": null,
   "id": "3a358d6a",
   "metadata": {},
   "outputs": [],
   "source": []
  },
  {
   "cell_type": "code",
   "execution_count": 2,
   "id": "7c429cb0",
   "metadata": {},
   "outputs": [
    {
     "ename": "NameError",
     "evalue": "name 'model' is not defined",
     "output_type": "error",
     "traceback": [
      "\u001b[1;31m---------------------------------------------------------------------------\u001b[0m",
      "\u001b[1;31mNameError\u001b[0m                                 Traceback (most recent call last)",
      "Cell \u001b[1;32mIn[2], line 1\u001b[0m\n\u001b[1;32m----> 1\u001b[0m \u001b[43mmodel\u001b[49m\u001b[38;5;241m.\u001b[39msave(\u001b[38;5;124m'\u001b[39m\u001b[38;5;124mD:/trained_model.h5\u001b[39m\u001b[38;5;124m'\u001b[39m)\n",
      "\u001b[1;31mNameError\u001b[0m: name 'model' is not defined"
     ]
    }
   ],
   "source": [
    "model.save('D:/trained_model.h5')"
   ]
  },
  {
   "cell_type": "code",
   "execution_count": null,
   "id": "b6411849",
   "metadata": {},
   "outputs": [],
   "source": []
  },
  {
   "cell_type": "code",
   "execution_count": null,
   "id": "aadb2906",
   "metadata": {},
   "outputs": [],
   "source": []
  },
  {
   "cell_type": "code",
   "execution_count": null,
   "id": "b5351814",
   "metadata": {},
   "outputs": [],
   "source": []
  },
  {
   "cell_type": "code",
   "execution_count": null,
   "id": "b95c586b",
   "metadata": {},
   "outputs": [],
   "source": []
  },
  {
   "cell_type": "code",
   "execution_count": null,
   "id": "2184cb8e",
   "metadata": {},
   "outputs": [],
   "source": []
  },
  {
   "cell_type": "code",
   "execution_count": null,
   "id": "426a0112",
   "metadata": {},
   "outputs": [],
   "source": []
  },
  {
   "cell_type": "code",
   "execution_count": null,
   "id": "7019d437",
   "metadata": {},
   "outputs": [],
   "source": []
  },
  {
   "cell_type": "code",
   "execution_count": null,
   "id": "6814a21a",
   "metadata": {},
   "outputs": [],
   "source": []
  },
  {
   "cell_type": "code",
   "execution_count": null,
   "id": "75498c8b",
   "metadata": {},
   "outputs": [],
   "source": []
  },
  {
   "cell_type": "code",
   "execution_count": null,
   "id": "e2665d6e",
   "metadata": {},
   "outputs": [],
   "source": []
  },
  {
   "cell_type": "code",
   "execution_count": null,
   "id": "7ecf2570",
   "metadata": {},
   "outputs": [],
   "source": []
  },
  {
   "cell_type": "code",
   "execution_count": null,
   "id": "7b0371b6",
   "metadata": {},
   "outputs": [],
   "source": []
  },
  {
   "cell_type": "code",
   "execution_count": null,
   "id": "cc17f63b",
   "metadata": {},
   "outputs": [],
   "source": []
  }
 ],
 "metadata": {
  "kernelspec": {
   "display_name": "Python 3 (ipykernel)",
   "language": "python",
   "name": "python3"
  },
  "language_info": {
   "codemirror_mode": {
    "name": "ipython",
    "version": 3
   },
   "file_extension": ".py",
   "mimetype": "text/x-python",
   "name": "python",
   "nbconvert_exporter": "python",
   "pygments_lexer": "ipython3",
   "version": "3.8.16"
  }
 },
 "nbformat": 4,
 "nbformat_minor": 5
}
