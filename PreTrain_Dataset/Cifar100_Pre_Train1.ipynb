{
 "cells": [
  {
   "cell_type": "code",
   "execution_count": 1,
   "id": "379e3cbd",
   "metadata": {},
   "outputs": [],
   "source": [
    "import tensorflow as tf\n",
    "from tensorflow import keras\n",
    "from tensorflow.keras.datasets import cifar100\n",
    "from tensorflow.keras.applications import MobileNet\n",
    "from tensorflow.keras.models import Sequential\n",
    "from tensorflow.keras.layers import Dense, GlobalAveragePooling2D\n",
    "from tensorflow.keras.optimizers import Adam\n",
    "from tensorflow.keras.preprocessing.image import ImageDataGenerator\n",
    "\n",
    "# Load the CIFAR-100 dataset\n",
    "(x_train, y_train), (x_test, y_test) = cifar100.load_data()\n",
    "\n",
    "# Normalize the pixel values between 0 and 1\n",
    "x_train = x_train.astype('float32') / 255.0\n",
    "x_test = x_test.astype('float32') / 255.0\n",
    "\n",
    "# Convert the labels to one-hot encoding\n",
    "y_train = keras.utils.to_categorical(y_train, 100)\n",
    "y_test = keras.utils.to_categorical(y_test, 100)\n"
   ]
  },
  {
   "cell_type": "code",
   "execution_count": 2,
   "id": "0c549f87",
   "metadata": {},
   "outputs": [],
   "source": [
    "import os\n",
    "import numpy as np\n",
    "from PIL import Image\n",
    "from sklearn.model_selection import train_test_split\n",
    "from tensorflow.keras.utils import to_categorical\n",
    "import os\n",
    "from tensorflow.keras.applications.resnet import ResNet50, preprocess_input\n",
    "import glob\n",
    "\n",
    "target_size = (32, 32)  # Change the values as per your requirement\n",
    "\n",
    "# Load the pre-trained ResNet50 model with modified input shape\n",
    "model = ResNet50(weights='imagenet', include_top=False, pooling='avg', input_shape=(target_size[0], target_size[1], 3))"
   ]
  },
  {
   "cell_type": "code",
   "execution_count": 3,
   "id": "d0c9ee00",
   "metadata": {},
   "outputs": [
    {
     "name": "stdout",
     "output_type": "stream",
     "text": [
      "   Feature 0  Feature 1  Feature 2  Feature 3  Feature 4  Feature 5  \\\n",
      "0        0.0        0.0        0.0        0.0        0.0        0.0   \n",
      "\n",
      "   Feature 6  Feature 7  Feature 8  Feature 9  ...  Feature 2038  \\\n",
      "0        0.0        0.0        0.0        0.0  ...           0.0   \n",
      "\n",
      "   Feature 2039  Feature 2040  Feature 2041  Feature 2042  Feature 2043  \\\n",
      "0           0.0      0.009121           0.0           0.0           0.0   \n",
      "\n",
      "   Feature 2044  Feature 2045  Feature 2046  Feature 2047  \n",
      "0           0.0      3.285227           0.0           0.0  \n",
      "\n",
      "[1 rows x 2048 columns]\n"
     ]
    }
   ],
   "source": [
    "import pandas as pd\n",
    "\n",
    "# Define the file path\n",
    "file_path = r\"D:\\feature.csv\"\n",
    "\n",
    "# Read the tab-separated CSV file into a DataFrame\n",
    "df = pd.read_csv(file_path, delimiter='\\t')\n",
    "\n",
    "columns_to_drop = [df.columns[0], df.columns[-1]]\n",
    "data = df.drop(columns_to_drop, axis=1)\n",
    "# Display the head of the DataFrame\n",
    "print(data.head(1))\n"
   ]
  },
  {
   "cell_type": "code",
   "execution_count": 4,
   "id": "424d8e32",
   "metadata": {},
   "outputs": [],
   "source": [
    "from PIL import Image\n",
    "import numpy as np\n",
    "ft = model.predict(x_train)\n"
   ]
  },
  {
   "cell_type": "code",
   "execution_count": 5,
   "id": "e61ee04e",
   "metadata": {},
   "outputs": [
    {
     "name": "stderr",
     "output_type": "stream",
     "text": [
      "C:\\Users\\shaif\\anaconda3\\envs\\tens\\lib\\site-packages\\sklearn\\cluster\\_kmeans.py:1930: FutureWarning: The default value of `n_init` will change from 3 to 'auto' in 1.4. Set the value of `n_init` explicitly to suppress the warning\n",
      "  super()._check_params_vs_input(X, default_n_init=3)\n"
     ]
    }
   ],
   "source": [
    "from sklearn.cluster import MiniBatchKMeans\n",
    "\n",
    "n_clusters = 300\n",
    "batch_size = 100\n",
    "max_iter = 100\n",
    "\n",
    "kmeans = MiniBatchKMeans(n_clusters=n_clusters, batch_size=batch_size, max_iter=max_iter)\n",
    "kmeans.fit(ft)\n",
    "# Retrieve the cluster centers\n",
    "ct = kmeans.cluster_centers_.tolist()"
   ]
  },
  {
   "cell_type": "code",
   "execution_count": 6,
   "id": "400c3f1b",
   "metadata": {},
   "outputs": [
    {
     "name": "stderr",
     "output_type": "stream",
     "text": [
      "100%|████████████████████████████████████████████████████████████████████████████████| 300/300 [01:13<00:00,  4.09it/s]"
     ]
    },
    {
     "name": "stdout",
     "output_type": "stream",
     "text": [
      "['D:/data/imagenet\\\\n03450230\\\\', 'D:/data/imagenet\\\\n04273569\\\\', 'D:/data/imagenet\\\\n07836838\\\\', 'D:/data/imagenet\\\\n02510455\\\\', 'D:/data/imagenet\\\\n04146614\\\\', 'D:/data/imagenet\\\\n02085782\\\\', 'D:/data/imagenet\\\\n02328150\\\\', 'D:/data/imagenet\\\\n01491361\\\\', 'D:/data/imagenet\\\\n01776313\\\\', 'D:/data/imagenet\\\\n04392985\\\\', 'D:/data/imagenet\\\\n03590841\\\\', 'D:/data/imagenet\\\\n02667093\\\\', 'D:/data/imagenet\\\\n03344393\\\\', 'D:/data/imagenet\\\\n04525305\\\\', 'D:/data/imagenet\\\\n03769881\\\\', 'D:/data/imagenet\\\\n03459775\\\\', 'D:/data/imagenet\\\\n07831146\\\\', 'D:/data/imagenet\\\\n03197337\\\\', 'D:/data/imagenet\\\\n04591157\\\\', 'D:/data/imagenet\\\\n04069434\\\\', 'D:/data/imagenet\\\\n03393912\\\\', 'D:/data/imagenet\\\\n02018795\\\\', 'D:/data/imagenet\\\\n03692522\\\\', 'D:/data/imagenet\\\\n02100877\\\\', 'D:/data/imagenet\\\\n03494278\\\\', 'D:/data/imagenet\\\\n02009912\\\\', 'D:/data/imagenet\\\\n03127747\\\\', 'D:/data/imagenet\\\\n03180011\\\\', 'D:/data/imagenet\\\\n10148035\\\\', 'D:/data/imagenet\\\\n03314780\\\\', 'D:/data/imagenet\\\\n09421951\\\\', 'D:/data/imagenet\\\\n03930630\\\\', 'D:/data/imagenet\\\\n04515003\\\\', 'D:/data/imagenet\\\\n04418357\\\\', 'D:/data/imagenet\\\\n09288635\\\\', 'D:/data/imagenet\\\\n01798484\\\\', 'D:/data/imagenet\\\\n11939491\\\\', 'D:/data/imagenet\\\\n02093647\\\\', 'D:/data/imagenet\\\\n03787032\\\\', 'D:/data/imagenet\\\\n03706229\\\\', 'D:/data/imagenet\\\\n11879895\\\\', 'D:/data/imagenet\\\\n07920052\\\\', 'D:/data/imagenet\\\\n03250847\\\\', 'D:/data/imagenet\\\\n04604644\\\\', 'D:/data/imagenet\\\\n04428191\\\\', 'D:/data/imagenet\\\\n03670208\\\\', 'D:/data/imagenet\\\\n04579432\\\\', 'D:/data/imagenet\\\\n04326547\\\\', 'D:/data/imagenet\\\\n03967562\\\\', 'D:/data/imagenet\\\\n02488702\\\\', 'D:/data/imagenet\\\\n04243546\\\\', 'D:/data/imagenet\\\\n02749479\\\\', 'D:/data/imagenet\\\\n04336792\\\\', 'D:/data/imagenet\\\\n03733281\\\\', 'D:/data/imagenet\\\\n03016953\\\\', 'D:/data/imagenet\\\\n04479046\\\\', 'D:/data/imagenet\\\\n04483307\\\\', 'D:/data/imagenet\\\\n07579787\\\\', 'D:/data/imagenet\\\\n04019541\\\\', 'D:/data/imagenet\\\\n01968897\\\\', 'D:/data/imagenet\\\\n01950731\\\\', 'D:/data/imagenet\\\\n09468604\\\\', 'D:/data/imagenet\\\\n02422699\\\\', 'D:/data/imagenet\\\\n04147183\\\\', 'D:/data/imagenet\\\\n02109525\\\\', 'D:/data/imagenet\\\\n02105641\\\\', 'D:/data/imagenet\\\\n02106166\\\\', 'D:/data/imagenet\\\\n02097130\\\\', 'D:/data/imagenet\\\\n01685808\\\\', 'D:/data/imagenet\\\\n04328186\\\\', 'D:/data/imagenet\\\\n03717622\\\\', 'D:/data/imagenet\\\\n02916936\\\\', 'D:/data/imagenet\\\\n03874293\\\\', 'D:/data/imagenet\\\\n01910747\\\\', 'D:/data/imagenet\\\\n03272562\\\\', 'D:/data/imagenet\\\\n02948072\\\\', 'D:/data/imagenet\\\\n01697457\\\\', 'D:/data/imagenet\\\\n04264628\\\\', 'D:/data/imagenet\\\\n02095314\\\\', 'D:/data/imagenet\\\\n02111889\\\\', 'D:/data/imagenet\\\\n02655020\\\\', 'D:/data/imagenet\\\\n03796401\\\\', 'D:/data/imagenet\\\\n09428293\\\\', 'D:/data/imagenet\\\\n02981792\\\\', 'D:/data/imagenet\\\\n04239074\\\\', 'D:/data/imagenet\\\\n02841315\\\\', 'D:/data/imagenet\\\\n03662601\\\\', 'D:/data/imagenet\\\\n01644373\\\\', 'D:/data/imagenet\\\\n07565083\\\\', 'D:/data/imagenet\\\\n03485407\\\\', 'D:/data/imagenet\\\\n03673027\\\\', 'D:/data/imagenet\\\\n03207743\\\\', 'D:/data/imagenet\\\\n02099429\\\\', 'D:/data/imagenet\\\\n01484850\\\\', 'D:/data/imagenet\\\\n02690373\\\\', 'D:/data/imagenet\\\\n07932039\\\\', 'D:/data/imagenet\\\\n03347037\\\\', 'D:/data/imagenet\\\\n07697313\\\\', 'D:/data/imagenet\\\\n04162706\\\\', 'D:/data/imagenet\\\\n03594734\\\\', 'D:/data/imagenet\\\\n02883205\\\\', 'D:/data/imagenet\\\\n03400231\\\\', 'D:/data/imagenet\\\\n01795545\\\\', 'D:/data/imagenet\\\\n02105056\\\\', 'D:/data/imagenet\\\\n03240683\\\\', 'D:/data/imagenet\\\\n04252077\\\\', 'D:/data/imagenet\\\\n04356056\\\\', 'D:/data/imagenet\\\\n02028035\\\\', 'D:/data/imagenet\\\\n09332890\\\\', 'D:/data/imagenet\\\\n02074367\\\\', 'D:/data/imagenet\\\\n02894605\\\\', 'D:/data/imagenet\\\\n01601694\\\\', 'D:/data/imagenet\\\\n04252225\\\\', 'D:/data/imagenet\\\\n04152593\\\\', 'D:/data/imagenet\\\\n02037110\\\\', 'D:/data/imagenet\\\\n02099267\\\\', 'D:/data/imagenet\\\\n02027492\\\\', 'D:/data/imagenet\\\\n04350905\\\\', 'D:/data/imagenet\\\\n02769748\\\\', 'D:/data/imagenet\\\\n04286575\\\\', 'D:/data/imagenet\\\\n02483708\\\\', 'D:/data/imagenet\\\\n04404412\\\\', 'D:/data/imagenet\\\\n02281406\\\\', 'D:/data/imagenet\\\\n04044716\\\\', 'D:/data/imagenet\\\\n04275548\\\\', 'D:/data/imagenet\\\\n03788365\\\\', 'D:/data/imagenet\\\\n01843383\\\\', 'D:/data/imagenet\\\\n04550184\\\\', 'D:/data/imagenet\\\\n03617480\\\\', 'D:/data/imagenet\\\\n04209239\\\\', 'D:/data/imagenet\\\\n02669723\\\\', 'D:/data/imagenet\\\\n03998194\\\\', 'D:/data/imagenet\\\\n02892201\\\\', 'D:/data/imagenet\\\\n03297495\\\\', 'D:/data/imagenet\\\\n03792972\\\\', 'D:/data/imagenet\\\\n04552348\\\\', 'D:/data/imagenet\\\\n01689811\\\\', 'D:/data/imagenet\\\\n02233338\\\\', 'D:/data/imagenet\\\\n01773549\\\\', 'D:/data/imagenet\\\\n06359193\\\\', 'D:/data/imagenet\\\\n01855032\\\\', 'D:/data/imagenet\\\\n12985857\\\\', 'D:/data/imagenet\\\\n03691459\\\\', 'D:/data/imagenet\\\\n02108551\\\\', 'D:/data/imagenet\\\\n02025239\\\\', 'D:/data/imagenet\\\\n04613696\\\\', 'D:/data/imagenet\\\\n02699494\\\\', 'D:/data/imagenet\\\\n04310018\\\\', 'D:/data/imagenet\\\\n01582220\\\\', 'D:/data/imagenet\\\\n03424325\\\\', 'D:/data/imagenet\\\\n03100240\\\\', 'D:/data/imagenet\\\\n01807496\\\\', 'D:/data/imagenet\\\\n07860988\\\\', 'D:/data/imagenet\\\\n02280649\\\\', 'D:/data/imagenet\\\\n03089624\\\\', 'D:/data/imagenet\\\\n02107683\\\\', 'D:/data/imagenet\\\\n03485794\\\\', 'D:/data/imagenet\\\\n02500267\\\\', 'D:/data/imagenet\\\\n02006656\\\\', 'D:/data/imagenet\\\\n01622779\\\\', 'D:/data/imagenet\\\\n07802026\\\\', 'D:/data/imagenet\\\\n03478589\\\\', 'D:/data/imagenet\\\\n09399592\\\\', 'D:/data/imagenet\\\\n04023962\\\\', 'D:/data/imagenet\\\\n02090721\\\\', 'D:/data/imagenet\\\\n02096585\\\\', 'D:/data/imagenet\\\\n03216828\\\\', 'D:/data/imagenet\\\\n03208938\\\\', 'D:/data/imagenet\\\\n02951358\\\\', 'D:/data/imagenet\\\\n02095889\\\\', 'D:/data/imagenet\\\\n03160309\\\\', 'D:/data/imagenet\\\\n10565667\\\\', 'D:/data/imagenet\\\\n02860847\\\\', 'D:/data/imagenet\\\\n02730930\\\\', 'D:/data/imagenet\\\\n01494475\\\\', 'D:/data/imagenet\\\\n03788195\\\\', 'D:/data/imagenet\\\\n03496892\\\\', 'D:/data/imagenet\\\\n01882714\\\\', 'D:/data/imagenet\\\\n02817516\\\\', 'D:/data/imagenet\\\\n02101556\\\\', 'D:/data/imagenet\\\\n03825788\\\\', 'D:/data/imagenet\\\\n02804610\\\\', 'D:/data/imagenet\\\\n03958227\\\\', 'D:/data/imagenet\\\\n01737021\\\\', 'D:/data/imagenet\\\\n04584207\\\\', 'D:/data/imagenet\\\\n02086646\\\\', 'D:/data/imagenet\\\\n03095699\\\\', 'D:/data/imagenet\\\\n02018207\\\\', 'D:/data/imagenet\\\\n04486054\\\\', 'D:/data/imagenet\\\\n12057211\\\\', 'D:/data/imagenet\\\\n03404251\\\\', 'D:/data/imagenet\\\\n02033041\\\\', 'D:/data/imagenet\\\\n01498041\\\\', 'D:/data/imagenet\\\\n04259630\\\\', 'D:/data/imagenet\\\\n02104029\\\\', 'D:/data/imagenet\\\\n03947888\\\\', 'D:/data/imagenet\\\\n02423022\\\\', 'D:/data/imagenet\\\\n03337140\\\\', 'D:/data/imagenet\\\\n01496331\\\\', 'D:/data/imagenet\\\\n03929855\\\\', 'D:/data/imagenet\\\\n02445715\\\\', 'D:/data/imagenet\\\\n04355933\\\\', 'D:/data/imagenet\\\\n02130308\\\\', 'D:/data/imagenet\\\\n03223299\\\\', 'D:/data/imagenet\\\\n02102973\\\\', 'D:/data/imagenet\\\\n02704792\\\\', 'D:/data/imagenet\\\\n03977966\\\\', 'D:/data/imagenet\\\\n03782006\\\\', 'D:/data/imagenet\\\\n02105162\\\\', 'D:/data/imagenet\\\\n03345487\\\\', 'D:/data/imagenet\\\\n03109150\\\\', 'D:/data/imagenet\\\\n03902125\\\\', 'D:/data/imagenet\\\\n02110627\\\\', 'D:/data/imagenet\\\\n03814639\\\\', 'D:/data/imagenet\\\\n02397096\\\\', 'D:/data/imagenet\\\\n03776460\\\\', 'D:/data/imagenet\\\\n01914609\\\\', 'D:/data/imagenet\\\\n03018349\\\\', 'D:/data/imagenet\\\\n03131574\\\\', 'D:/data/imagenet\\\\n02134418\\\\', 'D:/data/imagenet\\\\n03976467\\\\', 'D:/data/imagenet\\\\n02117135\\\\', 'D:/data/imagenet\\\\n01873310\\\\', 'D:/data/imagenet\\\\n02791270\\\\', 'D:/data/imagenet\\\\n01739381\\\\', 'D:/data/imagenet\\\\n02326432\\\\', 'D:/data/imagenet\\\\n02492660\\\\', 'D:/data/imagenet\\\\n02325366\\\\', 'D:/data/imagenet\\\\n03188531\\\\', 'D:/data/imagenet\\\\n04041544\\\\', 'D:/data/imagenet\\\\n02111277\\\\', 'D:/data/imagenet\\\\n02687172\\\\', 'D:/data/imagenet\\\\n04435653\\\\', 'D:/data/imagenet\\\\n02108000\\\\', 'D:/data/imagenet\\\\n02980441\\\\', 'D:/data/imagenet\\\\n02167151\\\\', 'D:/data/imagenet\\\\n02814533\\\\', 'D:/data/imagenet\\\\n03742115\\\\', 'D:/data/imagenet\\\\n04229816\\\\', 'D:/data/imagenet\\\\n01698640\\\\', 'D:/data/imagenet\\\\n03388043\\\\', 'D:/data/imagenet\\\\n04501370\\\\', 'D:/data/imagenet\\\\n09193705\\\\', 'D:/data/imagenet\\\\n09246464\\\\', 'D:/data/imagenet\\\\n02093859\\\\', 'D:/data/imagenet\\\\n04285008\\\\', 'D:/data/imagenet\\\\n03888257\\\\', 'D:/data/imagenet\\\\n01695060\\\\', 'D:/data/imagenet\\\\n02794156\\\\', 'D:/data/imagenet\\\\n02398521\\\\', 'D:/data/imagenet\\\\n07880968\\\\', 'D:/data/imagenet\\\\n04606251\\\\', 'D:/data/imagenet\\\\n04589890\\\\', 'D:/data/imagenet\\\\n09256479\\\\', 'D:/data/imagenet\\\\n09472597\\\\', 'D:/data/imagenet\\\\n02834397\\\\', 'D:/data/imagenet\\\\n04090263\\\\', 'D:/data/imagenet\\\\n02859443\\\\', 'D:/data/imagenet\\\\n03584254\\\\', 'D:/data/imagenet\\\\n01631663\\\\', 'D:/data/imagenet\\\\n04344873\\\\', 'D:/data/imagenet\\\\n02486410\\\\', 'D:/data/imagenet\\\\n02606052\\\\', 'D:/data/imagenet\\\\n04487081\\\\', 'D:/data/imagenet\\\\n02276258\\\\', 'D:/data/imagenet\\\\n04612504\\\\', 'D:/data/imagenet\\\\n02129165\\\\', 'D:/data/imagenet\\\\n02454379\\\\', 'D:/data/imagenet\\\\n04335435\\\\', 'D:/data/imagenet\\\\n04592741\\\\', 'D:/data/imagenet\\\\n01753488\\\\', 'D:/data/imagenet\\\\n02009229\\\\', 'D:/data/imagenet\\\\n02281787\\\\', 'D:/data/imagenet\\\\n04238763\\\\', 'D:/data/imagenet\\\\n01751748\\\\', 'D:/data/imagenet\\\\n03868242\\\\', 'D:/data/imagenet\\\\n02422106\\\\', 'D:/data/imagenet\\\\n02115913\\\\', 'D:/data/imagenet\\\\n04467665\\\\', 'D:/data/imagenet\\\\n01592084\\\\', 'D:/data/imagenet\\\\n01665541\\\\', 'D:/data/imagenet\\\\n02011460\\\\', 'D:/data/imagenet\\\\n03290653\\\\', 'D:/data/imagenet\\\\n02701002\\\\', 'D:/data/imagenet\\\\n03792782\\\\', 'D:/data/imagenet\\\\n02119022\\\\', 'D:/data/imagenet\\\\n03042490\\\\', 'D:/data/imagenet\\\\n01770081\\\\', 'D:/data/imagenet\\\\n02066245\\\\', 'D:/data/imagenet\\\\n01692333\\\\', 'D:/data/imagenet\\\\n01917289\\\\', 'D:/data/imagenet\\\\n02268853\\\\', 'D:/data/imagenet\\\\n01984695\\\\', 'D:/data/imagenet\\\\n04204347\\\\', 'D:/data/imagenet\\\\n02119789\\\\', 'D:/data/imagenet\\\\n01443537\\\\', 'D:/data/imagenet\\\\n02114855\\\\', 'D:/data/imagenet\\\\n03127925\\\\', 'D:/data/imagenet\\\\n01796340\\\\', 'D:/data/imagenet\\\\n02120505\\\\']\n"
     ]
    },
    {
     "name": "stderr",
     "output_type": "stream",
     "text": [
      "\n"
     ]
    }
   ],
   "source": [
    "from tqdm import tqdm\n",
    "\n",
    "combo_list = []  # Initialize combo_list\n",
    "\n",
    "# Iterate over ft\n",
    "for i in tqdm(range(len(ct))):\n",
    "    distances = []\n",
    "\n",
    "    # Calculate distances for each row in data\n",
    "    for index, row in data.iterrows():\n",
    "        row_array = row.to_numpy()  # Convert row to numpy array\n",
    "        distance = np.linalg.norm(ct[i] - row_array)  # Calculate Euclidean distance\n",
    "        distances.append(distance)\n",
    "\n",
    "    # Retrieve shortest indices and select corresponding rows from df\n",
    "    shortest_indices = np.argsort(distances)[:301]\n",
    "    selected_rows = df.loc[shortest_indices]\n",
    "\n",
    "    # Extract values from the first column and add them to the combo_list\n",
    "    first_column_values = selected_rows.iloc[:, 0].tolist()\n",
    "    \n",
    "    k = 0\n",
    "    \n",
    "    for element in first_column_values:\n",
    "        if element not in combo_list:\n",
    "            combo_list.append(element)\n",
    "            break\n",
    "\n",
    "# Printing the combo_list\n",
    "print(combo_list)"
   ]
  },
  {
   "cell_type": "code",
   "execution_count": 7,
   "id": "c5f11d72",
   "metadata": {},
   "outputs": [
    {
     "name": "stdout",
     "output_type": "stream",
     "text": [
      "Combo list saved successfully.\n"
     ]
    }
   ],
   "source": [
    "import pickle\n",
    "\n",
    "# Saving the list to a file in the D: drive\n",
    "file_path = r\"D:\\combo_list.pickle\"  # r prefix is used for raw string to avoid escape characters\n",
    "\n",
    "with open(file_path, 'wb') as file:\n",
    "    pickle.dump(combo_list, file)\n",
    "\n",
    "print(\"Combo list saved successfully.\")\n"
   ]
  },
  {
   "cell_type": "code",
   "execution_count": 8,
   "id": "ebce419a",
   "metadata": {},
   "outputs": [
    {
     "name": "stdout",
     "output_type": "stream",
     "text": [
      "Combo list loaded successfully.\n",
      "['D:/data/imagenet\\\\n03450230\\\\', 'D:/data/imagenet\\\\n04273569\\\\', 'D:/data/imagenet\\\\n07836838\\\\', 'D:/data/imagenet\\\\n02510455\\\\', 'D:/data/imagenet\\\\n04146614\\\\', 'D:/data/imagenet\\\\n02085782\\\\', 'D:/data/imagenet\\\\n02328150\\\\', 'D:/data/imagenet\\\\n01491361\\\\', 'D:/data/imagenet\\\\n01776313\\\\', 'D:/data/imagenet\\\\n04392985\\\\', 'D:/data/imagenet\\\\n03590841\\\\', 'D:/data/imagenet\\\\n02667093\\\\', 'D:/data/imagenet\\\\n03344393\\\\', 'D:/data/imagenet\\\\n04525305\\\\', 'D:/data/imagenet\\\\n03769881\\\\', 'D:/data/imagenet\\\\n03459775\\\\', 'D:/data/imagenet\\\\n07831146\\\\', 'D:/data/imagenet\\\\n03197337\\\\', 'D:/data/imagenet\\\\n04591157\\\\', 'D:/data/imagenet\\\\n04069434\\\\', 'D:/data/imagenet\\\\n03393912\\\\', 'D:/data/imagenet\\\\n02018795\\\\', 'D:/data/imagenet\\\\n03692522\\\\', 'D:/data/imagenet\\\\n02100877\\\\', 'D:/data/imagenet\\\\n03494278\\\\', 'D:/data/imagenet\\\\n02009912\\\\', 'D:/data/imagenet\\\\n03127747\\\\', 'D:/data/imagenet\\\\n03180011\\\\', 'D:/data/imagenet\\\\n10148035\\\\', 'D:/data/imagenet\\\\n03314780\\\\', 'D:/data/imagenet\\\\n09421951\\\\', 'D:/data/imagenet\\\\n03930630\\\\', 'D:/data/imagenet\\\\n04515003\\\\', 'D:/data/imagenet\\\\n04418357\\\\', 'D:/data/imagenet\\\\n09288635\\\\', 'D:/data/imagenet\\\\n01798484\\\\', 'D:/data/imagenet\\\\n11939491\\\\', 'D:/data/imagenet\\\\n02093647\\\\', 'D:/data/imagenet\\\\n03787032\\\\', 'D:/data/imagenet\\\\n03706229\\\\', 'D:/data/imagenet\\\\n11879895\\\\', 'D:/data/imagenet\\\\n07920052\\\\', 'D:/data/imagenet\\\\n03250847\\\\', 'D:/data/imagenet\\\\n04604644\\\\', 'D:/data/imagenet\\\\n04428191\\\\', 'D:/data/imagenet\\\\n03670208\\\\', 'D:/data/imagenet\\\\n04579432\\\\', 'D:/data/imagenet\\\\n04326547\\\\', 'D:/data/imagenet\\\\n03967562\\\\', 'D:/data/imagenet\\\\n02488702\\\\', 'D:/data/imagenet\\\\n04243546\\\\', 'D:/data/imagenet\\\\n02749479\\\\', 'D:/data/imagenet\\\\n04336792\\\\', 'D:/data/imagenet\\\\n03733281\\\\', 'D:/data/imagenet\\\\n03016953\\\\', 'D:/data/imagenet\\\\n04479046\\\\', 'D:/data/imagenet\\\\n04483307\\\\', 'D:/data/imagenet\\\\n07579787\\\\', 'D:/data/imagenet\\\\n04019541\\\\', 'D:/data/imagenet\\\\n01968897\\\\', 'D:/data/imagenet\\\\n01950731\\\\', 'D:/data/imagenet\\\\n09468604\\\\', 'D:/data/imagenet\\\\n02422699\\\\', 'D:/data/imagenet\\\\n04147183\\\\', 'D:/data/imagenet\\\\n02109525\\\\', 'D:/data/imagenet\\\\n02105641\\\\', 'D:/data/imagenet\\\\n02106166\\\\', 'D:/data/imagenet\\\\n02097130\\\\', 'D:/data/imagenet\\\\n01685808\\\\', 'D:/data/imagenet\\\\n04328186\\\\', 'D:/data/imagenet\\\\n03717622\\\\', 'D:/data/imagenet\\\\n02916936\\\\', 'D:/data/imagenet\\\\n03874293\\\\', 'D:/data/imagenet\\\\n01910747\\\\', 'D:/data/imagenet\\\\n03272562\\\\', 'D:/data/imagenet\\\\n02948072\\\\', 'D:/data/imagenet\\\\n01697457\\\\', 'D:/data/imagenet\\\\n04264628\\\\', 'D:/data/imagenet\\\\n02095314\\\\', 'D:/data/imagenet\\\\n02111889\\\\', 'D:/data/imagenet\\\\n02655020\\\\', 'D:/data/imagenet\\\\n03796401\\\\', 'D:/data/imagenet\\\\n09428293\\\\', 'D:/data/imagenet\\\\n02981792\\\\', 'D:/data/imagenet\\\\n04239074\\\\', 'D:/data/imagenet\\\\n02841315\\\\', 'D:/data/imagenet\\\\n03662601\\\\', 'D:/data/imagenet\\\\n01644373\\\\', 'D:/data/imagenet\\\\n07565083\\\\', 'D:/data/imagenet\\\\n03485407\\\\', 'D:/data/imagenet\\\\n03673027\\\\', 'D:/data/imagenet\\\\n03207743\\\\', 'D:/data/imagenet\\\\n02099429\\\\', 'D:/data/imagenet\\\\n01484850\\\\', 'D:/data/imagenet\\\\n02690373\\\\', 'D:/data/imagenet\\\\n07932039\\\\', 'D:/data/imagenet\\\\n03347037\\\\', 'D:/data/imagenet\\\\n07697313\\\\', 'D:/data/imagenet\\\\n04162706\\\\', 'D:/data/imagenet\\\\n03594734\\\\', 'D:/data/imagenet\\\\n02883205\\\\', 'D:/data/imagenet\\\\n03400231\\\\', 'D:/data/imagenet\\\\n01795545\\\\', 'D:/data/imagenet\\\\n02105056\\\\', 'D:/data/imagenet\\\\n03240683\\\\', 'D:/data/imagenet\\\\n04252077\\\\', 'D:/data/imagenet\\\\n04356056\\\\', 'D:/data/imagenet\\\\n02028035\\\\', 'D:/data/imagenet\\\\n09332890\\\\', 'D:/data/imagenet\\\\n02074367\\\\', 'D:/data/imagenet\\\\n02894605\\\\', 'D:/data/imagenet\\\\n01601694\\\\', 'D:/data/imagenet\\\\n04252225\\\\', 'D:/data/imagenet\\\\n04152593\\\\', 'D:/data/imagenet\\\\n02037110\\\\', 'D:/data/imagenet\\\\n02099267\\\\', 'D:/data/imagenet\\\\n02027492\\\\', 'D:/data/imagenet\\\\n04350905\\\\', 'D:/data/imagenet\\\\n02769748\\\\', 'D:/data/imagenet\\\\n04286575\\\\', 'D:/data/imagenet\\\\n02483708\\\\', 'D:/data/imagenet\\\\n04404412\\\\', 'D:/data/imagenet\\\\n02281406\\\\', 'D:/data/imagenet\\\\n04044716\\\\', 'D:/data/imagenet\\\\n04275548\\\\', 'D:/data/imagenet\\\\n03788365\\\\', 'D:/data/imagenet\\\\n01843383\\\\', 'D:/data/imagenet\\\\n04550184\\\\', 'D:/data/imagenet\\\\n03617480\\\\', 'D:/data/imagenet\\\\n04209239\\\\', 'D:/data/imagenet\\\\n02669723\\\\', 'D:/data/imagenet\\\\n03998194\\\\', 'D:/data/imagenet\\\\n02892201\\\\', 'D:/data/imagenet\\\\n03297495\\\\', 'D:/data/imagenet\\\\n03792972\\\\', 'D:/data/imagenet\\\\n04552348\\\\', 'D:/data/imagenet\\\\n01689811\\\\', 'D:/data/imagenet\\\\n02233338\\\\', 'D:/data/imagenet\\\\n01773549\\\\', 'D:/data/imagenet\\\\n06359193\\\\', 'D:/data/imagenet\\\\n01855032\\\\', 'D:/data/imagenet\\\\n12985857\\\\', 'D:/data/imagenet\\\\n03691459\\\\', 'D:/data/imagenet\\\\n02108551\\\\', 'D:/data/imagenet\\\\n02025239\\\\', 'D:/data/imagenet\\\\n04613696\\\\', 'D:/data/imagenet\\\\n02699494\\\\', 'D:/data/imagenet\\\\n04310018\\\\', 'D:/data/imagenet\\\\n01582220\\\\', 'D:/data/imagenet\\\\n03424325\\\\', 'D:/data/imagenet\\\\n03100240\\\\', 'D:/data/imagenet\\\\n01807496\\\\', 'D:/data/imagenet\\\\n07860988\\\\', 'D:/data/imagenet\\\\n02280649\\\\', 'D:/data/imagenet\\\\n03089624\\\\', 'D:/data/imagenet\\\\n02107683\\\\', 'D:/data/imagenet\\\\n03485794\\\\', 'D:/data/imagenet\\\\n02500267\\\\', 'D:/data/imagenet\\\\n02006656\\\\', 'D:/data/imagenet\\\\n01622779\\\\', 'D:/data/imagenet\\\\n07802026\\\\', 'D:/data/imagenet\\\\n03478589\\\\', 'D:/data/imagenet\\\\n09399592\\\\', 'D:/data/imagenet\\\\n04023962\\\\', 'D:/data/imagenet\\\\n02090721\\\\', 'D:/data/imagenet\\\\n02096585\\\\', 'D:/data/imagenet\\\\n03216828\\\\', 'D:/data/imagenet\\\\n03208938\\\\', 'D:/data/imagenet\\\\n02951358\\\\', 'D:/data/imagenet\\\\n02095889\\\\', 'D:/data/imagenet\\\\n03160309\\\\', 'D:/data/imagenet\\\\n10565667\\\\', 'D:/data/imagenet\\\\n02860847\\\\', 'D:/data/imagenet\\\\n02730930\\\\', 'D:/data/imagenet\\\\n01494475\\\\', 'D:/data/imagenet\\\\n03788195\\\\', 'D:/data/imagenet\\\\n03496892\\\\', 'D:/data/imagenet\\\\n01882714\\\\', 'D:/data/imagenet\\\\n02817516\\\\', 'D:/data/imagenet\\\\n02101556\\\\', 'D:/data/imagenet\\\\n03825788\\\\', 'D:/data/imagenet\\\\n02804610\\\\', 'D:/data/imagenet\\\\n03958227\\\\', 'D:/data/imagenet\\\\n01737021\\\\', 'D:/data/imagenet\\\\n04584207\\\\', 'D:/data/imagenet\\\\n02086646\\\\', 'D:/data/imagenet\\\\n03095699\\\\', 'D:/data/imagenet\\\\n02018207\\\\', 'D:/data/imagenet\\\\n04486054\\\\', 'D:/data/imagenet\\\\n12057211\\\\', 'D:/data/imagenet\\\\n03404251\\\\', 'D:/data/imagenet\\\\n02033041\\\\', 'D:/data/imagenet\\\\n01498041\\\\', 'D:/data/imagenet\\\\n04259630\\\\', 'D:/data/imagenet\\\\n02104029\\\\', 'D:/data/imagenet\\\\n03947888\\\\', 'D:/data/imagenet\\\\n02423022\\\\', 'D:/data/imagenet\\\\n03337140\\\\', 'D:/data/imagenet\\\\n01496331\\\\', 'D:/data/imagenet\\\\n03929855\\\\', 'D:/data/imagenet\\\\n02445715\\\\', 'D:/data/imagenet\\\\n04355933\\\\', 'D:/data/imagenet\\\\n02130308\\\\', 'D:/data/imagenet\\\\n03223299\\\\', 'D:/data/imagenet\\\\n02102973\\\\', 'D:/data/imagenet\\\\n02704792\\\\', 'D:/data/imagenet\\\\n03977966\\\\', 'D:/data/imagenet\\\\n03782006\\\\', 'D:/data/imagenet\\\\n02105162\\\\', 'D:/data/imagenet\\\\n03345487\\\\', 'D:/data/imagenet\\\\n03109150\\\\', 'D:/data/imagenet\\\\n03902125\\\\', 'D:/data/imagenet\\\\n02110627\\\\', 'D:/data/imagenet\\\\n03814639\\\\', 'D:/data/imagenet\\\\n02397096\\\\', 'D:/data/imagenet\\\\n03776460\\\\', 'D:/data/imagenet\\\\n01914609\\\\', 'D:/data/imagenet\\\\n03018349\\\\', 'D:/data/imagenet\\\\n03131574\\\\', 'D:/data/imagenet\\\\n02134418\\\\', 'D:/data/imagenet\\\\n03976467\\\\', 'D:/data/imagenet\\\\n02117135\\\\', 'D:/data/imagenet\\\\n01873310\\\\', 'D:/data/imagenet\\\\n02791270\\\\', 'D:/data/imagenet\\\\n01739381\\\\', 'D:/data/imagenet\\\\n02326432\\\\', 'D:/data/imagenet\\\\n02492660\\\\', 'D:/data/imagenet\\\\n02325366\\\\', 'D:/data/imagenet\\\\n03188531\\\\', 'D:/data/imagenet\\\\n04041544\\\\', 'D:/data/imagenet\\\\n02111277\\\\', 'D:/data/imagenet\\\\n02687172\\\\', 'D:/data/imagenet\\\\n04435653\\\\', 'D:/data/imagenet\\\\n02108000\\\\', 'D:/data/imagenet\\\\n02980441\\\\', 'D:/data/imagenet\\\\n02167151\\\\', 'D:/data/imagenet\\\\n02814533\\\\', 'D:/data/imagenet\\\\n03742115\\\\', 'D:/data/imagenet\\\\n04229816\\\\', 'D:/data/imagenet\\\\n01698640\\\\', 'D:/data/imagenet\\\\n03388043\\\\', 'D:/data/imagenet\\\\n04501370\\\\', 'D:/data/imagenet\\\\n09193705\\\\', 'D:/data/imagenet\\\\n09246464\\\\', 'D:/data/imagenet\\\\n02093859\\\\', 'D:/data/imagenet\\\\n04285008\\\\', 'D:/data/imagenet\\\\n03888257\\\\', 'D:/data/imagenet\\\\n01695060\\\\', 'D:/data/imagenet\\\\n02794156\\\\', 'D:/data/imagenet\\\\n02398521\\\\', 'D:/data/imagenet\\\\n07880968\\\\', 'D:/data/imagenet\\\\n04606251\\\\', 'D:/data/imagenet\\\\n04589890\\\\', 'D:/data/imagenet\\\\n09256479\\\\', 'D:/data/imagenet\\\\n09472597\\\\', 'D:/data/imagenet\\\\n02834397\\\\', 'D:/data/imagenet\\\\n04090263\\\\', 'D:/data/imagenet\\\\n02859443\\\\', 'D:/data/imagenet\\\\n03584254\\\\', 'D:/data/imagenet\\\\n01631663\\\\', 'D:/data/imagenet\\\\n04344873\\\\', 'D:/data/imagenet\\\\n02486410\\\\', 'D:/data/imagenet\\\\n02606052\\\\', 'D:/data/imagenet\\\\n04487081\\\\', 'D:/data/imagenet\\\\n02276258\\\\', 'D:/data/imagenet\\\\n04612504\\\\', 'D:/data/imagenet\\\\n02129165\\\\', 'D:/data/imagenet\\\\n02454379\\\\', 'D:/data/imagenet\\\\n04335435\\\\', 'D:/data/imagenet\\\\n04592741\\\\', 'D:/data/imagenet\\\\n01753488\\\\', 'D:/data/imagenet\\\\n02009229\\\\', 'D:/data/imagenet\\\\n02281787\\\\', 'D:/data/imagenet\\\\n04238763\\\\', 'D:/data/imagenet\\\\n01751748\\\\', 'D:/data/imagenet\\\\n03868242\\\\', 'D:/data/imagenet\\\\n02422106\\\\', 'D:/data/imagenet\\\\n02115913\\\\', 'D:/data/imagenet\\\\n04467665\\\\', 'D:/data/imagenet\\\\n01592084\\\\', 'D:/data/imagenet\\\\n01665541\\\\', 'D:/data/imagenet\\\\n02011460\\\\', 'D:/data/imagenet\\\\n03290653\\\\', 'D:/data/imagenet\\\\n02701002\\\\', 'D:/data/imagenet\\\\n03792782\\\\', 'D:/data/imagenet\\\\n02119022\\\\', 'D:/data/imagenet\\\\n03042490\\\\', 'D:/data/imagenet\\\\n01770081\\\\', 'D:/data/imagenet\\\\n02066245\\\\', 'D:/data/imagenet\\\\n01692333\\\\', 'D:/data/imagenet\\\\n01917289\\\\', 'D:/data/imagenet\\\\n02268853\\\\', 'D:/data/imagenet\\\\n01984695\\\\', 'D:/data/imagenet\\\\n04204347\\\\', 'D:/data/imagenet\\\\n02119789\\\\', 'D:/data/imagenet\\\\n01443537\\\\', 'D:/data/imagenet\\\\n02114855\\\\', 'D:/data/imagenet\\\\n03127925\\\\', 'D:/data/imagenet\\\\n01796340\\\\', 'D:/data/imagenet\\\\n02120505\\\\']\n"
     ]
    }
   ],
   "source": [
    "import pickle\n",
    "\n",
    "# Loading the list from the pickle file\n",
    "file_path = r\"D:\\combo_list.pickle\"  # Update the file path if necessary\n",
    "\n",
    "with open(file_path, 'rb') as file:\n",
    "    loaded_combo_list = pickle.load(file)\n",
    "\n",
    "print(\"Combo list loaded successfully.\")\n",
    "print(loaded_combo_list)\n"
   ]
  },
  {
   "cell_type": "code",
   "execution_count": null,
   "id": "0e12fe31",
   "metadata": {},
   "outputs": [],
   "source": []
  },
  {
   "cell_type": "code",
   "execution_count": null,
   "id": "3b9b7ae8",
   "metadata": {},
   "outputs": [],
   "source": []
  },
  {
   "cell_type": "code",
   "execution_count": null,
   "id": "6f6bd347",
   "metadata": {},
   "outputs": [],
   "source": []
  },
  {
   "cell_type": "code",
   "execution_count": null,
   "id": "570fba0a",
   "metadata": {},
   "outputs": [],
   "source": []
  },
  {
   "cell_type": "code",
   "execution_count": null,
   "id": "a60ec790",
   "metadata": {},
   "outputs": [],
   "source": []
  },
  {
   "cell_type": "code",
   "execution_count": null,
   "id": "87186a39",
   "metadata": {},
   "outputs": [],
   "source": []
  },
  {
   "cell_type": "code",
   "execution_count": null,
   "id": "5bc427dd",
   "metadata": {},
   "outputs": [],
   "source": []
  },
  {
   "cell_type": "code",
   "execution_count": null,
   "id": "790a762d",
   "metadata": {},
   "outputs": [],
   "source": []
  },
  {
   "cell_type": "code",
   "execution_count": null,
   "id": "cc8d5acf",
   "metadata": {},
   "outputs": [],
   "source": []
  },
  {
   "cell_type": "code",
   "execution_count": null,
   "id": "f571ec63",
   "metadata": {},
   "outputs": [],
   "source": []
  },
  {
   "cell_type": "code",
   "execution_count": null,
   "id": "96fd7ec5",
   "metadata": {},
   "outputs": [],
   "source": []
  },
  {
   "cell_type": "code",
   "execution_count": null,
   "id": "a25eec36",
   "metadata": {},
   "outputs": [],
   "source": []
  },
  {
   "cell_type": "code",
   "execution_count": null,
   "id": "f1c0f1fc",
   "metadata": {},
   "outputs": [],
   "source": []
  },
  {
   "cell_type": "code",
   "execution_count": null,
   "id": "645e5a6d",
   "metadata": {},
   "outputs": [],
   "source": []
  },
  {
   "cell_type": "code",
   "execution_count": null,
   "id": "fb54915b",
   "metadata": {},
   "outputs": [],
   "source": []
  }
 ],
 "metadata": {
  "kernelspec": {
   "display_name": "Python 3 (ipykernel)",
   "language": "python",
   "name": "python3"
  },
  "language_info": {
   "codemirror_mode": {
    "name": "ipython",
    "version": 3
   },
   "file_extension": ".py",
   "mimetype": "text/x-python",
   "name": "python",
   "nbconvert_exporter": "python",
   "pygments_lexer": "ipython3",
   "version": "3.8.16"
  }
 },
 "nbformat": 4,
 "nbformat_minor": 5
}
