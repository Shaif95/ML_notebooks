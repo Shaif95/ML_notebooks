{
 "cells": [
  {
   "cell_type": "code",
   "execution_count": 1,
   "id": "379e3cbd",
   "metadata": {},
   "outputs": [],
   "source": [
    "import tensorflow as tf\n",
    "from tensorflow import keras\n",
    "from tensorflow.keras.datasets import cifar10\n",
    "from tensorflow.keras.applications import MobileNet\n",
    "from tensorflow.keras.models import Sequential\n",
    "from tensorflow.keras.layers import Dense, GlobalAveragePooling2D\n",
    "from tensorflow.keras.optimizers import Adam\n",
    "from tensorflow.keras.preprocessing.image import ImageDataGenerator\n",
    "\n",
    "# Load the CIFAR-100 dataset\n",
    "(x_train, y_train), (x_test, y_test) = cifar10.load_data()\n",
    "\n",
    "# Normalize the pixel values between 0 and 1\n",
    "x_train = x_train.astype('float32') / 255.0\n",
    "x_test = x_test.astype('float32') / 255.0\n",
    "\n",
    "# Convert the labels to one-hot encoding\n",
    "y_train = keras.utils.to_categorical(y_train, 100)\n",
    "y_test = keras.utils.to_categorical(y_test, 100)\n"
   ]
  },
  {
   "cell_type": "code",
   "execution_count": 1,
   "id": "833ce9bf",
   "metadata": {},
   "outputs": [
    {
     "name": "stdout",
     "output_type": "stream",
     "text": [
      "X_train shape: (13666, 32, 32, 3)\n",
      "Y_train shape: (13666,)\n"
     ]
    }
   ],
   "source": [
    "import os\n",
    "from PIL import Image\n",
    "import numpy as np\n",
    "from sklearn.preprocessing import LabelEncoder, OneHotEncoder\n",
    "\n",
    "# Define the path to the directory\n",
    "directory_path = r'D:\\Underwater_Image\\Sea Animals\\archive'\n",
    "\n",
    "# Initialize empty lists for images and labels\n",
    "X_train = []\n",
    "Y_train = []\n",
    "\n",
    "# Initialize LabelEncoder\n",
    "label_encoder = LabelEncoder()\n",
    "\n",
    "# Loop through subdirectories (classes)\n",
    "for class_folder in os.listdir(directory_path):\n",
    "    class_path = os.path.join(directory_path, class_folder)\n",
    "    class_label = class_folder\n",
    "    \n",
    "    # Encode class labels\n",
    "    encoded_label = label_encoder.fit_transform([class_label])[0]\n",
    "\n",
    "    for image_file in os.listdir(class_path):\n",
    "        if image_file.endswith('.jpg'):\n",
    "            image_path = os.path.join(class_path, image_file)\n",
    "            \n",
    "            # Load image, convert to RGB and resize\n",
    "            img = Image.open(image_path).convert('RGB')\n",
    "            img = img.resize((32, 32))\n",
    "            img_array = np.array(img)\n",
    "            \n",
    "            # Append image and label to lists\n",
    "            X_train.append(img_array)\n",
    "            Y_train.append(encoded_label)\n",
    "\n",
    "# Convert lists to numpy arrays\n",
    "X_train = np.array(X_train)\n",
    "Y_train = np.array(Y_train)\n",
    "\n",
    "print(f'X_train shape: {X_train.shape}')\n",
    "print(f'Y_train shape: {Y_train.shape}')\n"
   ]
  },
  {
   "cell_type": "code",
   "execution_count": null,
   "id": "6bc75184",
   "metadata": {},
   "outputs": [],
   "source": []
  },
  {
   "cell_type": "code",
   "execution_count": 2,
   "id": "0c549f87",
   "metadata": {},
   "outputs": [],
   "source": [
    "import os\n",
    "import numpy as np\n",
    "from PIL import Image\n",
    "from sklearn.model_selection import train_test_split\n",
    "from tensorflow.keras.utils import to_categorical\n",
    "from tensorflow.keras.applications.resnet import ResNet50, preprocess_input\n",
    "import glob\n",
    "\n",
    "target_size = (32, 32)  # Change the values as per your requirement\n",
    "# Load the pre-trained ResNet50 model with modified input shape\n",
    "model = ResNet50(weights='imagenet', include_top=False, pooling='avg', input_shape=(target_size[0], target_size[1], 3))"
   ]
  },
  {
   "cell_type": "code",
   "execution_count": 3,
   "id": "d0c9ee00",
   "metadata": {},
   "outputs": [
    {
     "data": {
      "text/html": [
       "<div>\n",
       "<style scoped>\n",
       "    .dataframe tbody tr th:only-of-type {\n",
       "        vertical-align: middle;\n",
       "    }\n",
       "\n",
       "    .dataframe tbody tr th {\n",
       "        vertical-align: top;\n",
       "    }\n",
       "\n",
       "    .dataframe thead th {\n",
       "        text-align: right;\n",
       "    }\n",
       "</style>\n",
       "<table border=\"1\" class=\"dataframe\">\n",
       "  <thead>\n",
       "    <tr style=\"text-align: right;\">\n",
       "      <th></th>\n",
       "      <th>Feature 0</th>\n",
       "      <th>Feature 1</th>\n",
       "      <th>Feature 2</th>\n",
       "      <th>Feature 3</th>\n",
       "      <th>Feature 4</th>\n",
       "      <th>Feature 5</th>\n",
       "      <th>Feature 6</th>\n",
       "      <th>Feature 7</th>\n",
       "      <th>Feature 8</th>\n",
       "      <th>Feature 9</th>\n",
       "      <th>...</th>\n",
       "      <th>Feature 2038</th>\n",
       "      <th>Feature 2039</th>\n",
       "      <th>Feature 2040</th>\n",
       "      <th>Feature 2041</th>\n",
       "      <th>Feature 2042</th>\n",
       "      <th>Feature 2043</th>\n",
       "      <th>Feature 2044</th>\n",
       "      <th>Feature 2045</th>\n",
       "      <th>Feature 2046</th>\n",
       "      <th>Feature 2047</th>\n",
       "    </tr>\n",
       "  </thead>\n",
       "  <tbody>\n",
       "    <tr>\n",
       "      <th>0</th>\n",
       "      <td>0.0</td>\n",
       "      <td>0.0</td>\n",
       "      <td>0.0</td>\n",
       "      <td>0.0</td>\n",
       "      <td>0.0</td>\n",
       "      <td>0.0</td>\n",
       "      <td>0.0</td>\n",
       "      <td>0.0</td>\n",
       "      <td>0.0</td>\n",
       "      <td>0.0</td>\n",
       "      <td>...</td>\n",
       "      <td>0.0</td>\n",
       "      <td>0.0</td>\n",
       "      <td>0.037739</td>\n",
       "      <td>0.0</td>\n",
       "      <td>0.0</td>\n",
       "      <td>0.0</td>\n",
       "      <td>0.0</td>\n",
       "      <td>3.016108</td>\n",
       "      <td>0.0</td>\n",
       "      <td>0.0</td>\n",
       "    </tr>\n",
       "  </tbody>\n",
       "</table>\n",
       "<p>1 rows × 2048 columns</p>\n",
       "</div>"
      ],
      "text/plain": [
       "   Feature 0  Feature 1  Feature 2  Feature 3  Feature 4  Feature 5  \\\n",
       "0        0.0        0.0        0.0        0.0        0.0        0.0   \n",
       "\n",
       "   Feature 6  Feature 7  Feature 8  Feature 9  ...  Feature 2038  \\\n",
       "0        0.0        0.0        0.0        0.0  ...           0.0   \n",
       "\n",
       "   Feature 2039  Feature 2040  Feature 2041  Feature 2042  Feature 2043  \\\n",
       "0           0.0      0.037739           0.0           0.0           0.0   \n",
       "\n",
       "   Feature 2044  Feature 2045  Feature 2046  Feature 2047  \n",
       "0           0.0      3.016108           0.0           0.0  \n",
       "\n",
       "[1 rows x 2048 columns]"
      ]
     },
     "execution_count": 3,
     "metadata": {},
     "output_type": "execute_result"
    }
   ],
   "source": [
    "import pandas as pd\n",
    "# Define the file path\n",
    "file_path = r\"D:\\21k_avg_feature.csv\"\n",
    "# Read the tab-separated CSV file into a DataFrame\n",
    "df = pd.read_csv(file_path, delimiter='\\t')\n",
    "columns_to_drop = [df.columns[0], df.columns[-1]]\n",
    "data = df.drop(columns_to_drop, axis=1)\n",
    "# Display the head of the DataFrame\n",
    "data.head(1)"
   ]
  },
  {
   "cell_type": "code",
   "execution_count": 7,
   "id": "06649222",
   "metadata": {},
   "outputs": [
    {
     "data": {
      "text/plain": [
       "(9590, 32, 32, 3)"
      ]
     },
     "execution_count": 7,
     "metadata": {},
     "output_type": "execute_result"
    }
   ],
   "source": [
    "np.shape(X_train)"
   ]
  },
  {
   "cell_type": "code",
   "execution_count": 4,
   "id": "6afbd946",
   "metadata": {},
   "outputs": [],
   "source": []
  },
  {
   "cell_type": "code",
   "execution_count": 4,
   "id": "424d8e32",
   "metadata": {},
   "outputs": [
    {
     "name": "stdout",
     "output_type": "stream",
     "text": [
      "1563/1563 [==============================] - 27s 13ms/step\n"
     ]
    }
   ],
   "source": [
    "from PIL import Image\n",
    "import numpy as np\n",
    "ft = model.predict(np.array(x_train).astype(\"float32\"))"
   ]
  },
  {
   "cell_type": "code",
   "execution_count": 5,
   "id": "e61ee04e",
   "metadata": {},
   "outputs": [
    {
     "name": "stderr",
     "output_type": "stream",
     "text": [
      "C:\\Users\\shaif\\anaconda3\\envs\\tens\\lib\\site-packages\\sklearn\\cluster\\_kmeans.py:1930: FutureWarning: The default value of `n_init` will change from 3 to 'auto' in 1.4. Set the value of `n_init` explicitly to suppress the warning\n",
      "  super()._check_params_vs_input(X, default_n_init=3)\n"
     ]
    }
   ],
   "source": [
    "from sklearn.cluster import MiniBatchKMeans\n",
    "\n",
    "n_clusters = 400\n",
    "batch_size = 100\n",
    "max_iter = 100\n",
    "\n",
    "kmeans = MiniBatchKMeans(n_clusters=n_clusters, batch_size=batch_size, max_iter=max_iter)\n",
    "kmeans.fit(ft)\n",
    "# Retrieve the cluster centers\n",
    "ct = kmeans.cluster_centers_.tolist()"
   ]
  },
  {
   "cell_type": "code",
   "execution_count": 6,
   "id": "400c3f1b",
   "metadata": {
    "scrolled": true
   },
   "outputs": [
    {
     "name": "stderr",
     "output_type": "stream",
     "text": [
      "100%|████████████████████████████████████████████████████████████████████████████████| 400/400 [16:14<00:00,  2.44s/it]\n"
     ]
    },
    {
     "name": "stdout",
     "output_type": "stream",
     "text": [
      "(400, 10450)\n",
      "(400, 10450)\n"
     ]
    }
   ],
   "source": [
    "from tqdm import tqdm\n",
    "\n",
    "combo_list = []  # Initialize combo_list\n",
    "tot_dist = []\n",
    "# Iterate over ft\n",
    "for i in tqdm(range(len(ct))):\n",
    "    distances = []\n",
    "\n",
    "    # Calculate distances for each row in data\n",
    "    for index, row in data.iterrows():\n",
    "        row_array = row.to_numpy()  # Convert row to numpy array\n",
    "        distance = np.linalg.norm(ct[i] - row_array)  # Calculate Euclidean distance\n",
    "        distances.append(distance)\n",
    "\n",
    "    tot_dist.append(distances)\n",
    "print(np.shape(tot_dist))\n",
    "#new_shape = (1000, 30)\n",
    "#re_dist = np.transpose(tot_dist, (1, 0))\n",
    "re_dist = tot_dist\n",
    "print(np.shape(re_dist))"
   ]
  },
  {
   "cell_type": "code",
   "execution_count": null,
   "id": "c5ba3d01",
   "metadata": {},
   "outputs": [],
   "source": [
    "import pickle\n",
    "\n",
    "# Saving the list to a file in the D: drive\n",
    "file_path = r\"D:\\dist_list.pickle\"  # r prefix is used for raw string to avoid escape characters\n",
    "\n",
    "with open(file_path, 'wb') as file:\n",
    "    pickle.dump(re_dist, file)\n",
    "\n",
    "print(\"Combo list saved successfully.\")"
   ]
  },
  {
   "cell_type": "code",
   "execution_count": null,
   "id": "c1af5e5d",
   "metadata": {},
   "outputs": [],
   "source": []
  },
  {
   "cell_type": "code",
   "execution_count": null,
   "id": "43511453",
   "metadata": {},
   "outputs": [],
   "source": []
  },
  {
   "cell_type": "code",
   "execution_count": 2,
   "id": "ee431086",
   "metadata": {},
   "outputs": [
    {
     "name": "stdout",
     "output_type": "stream",
     "text": [
      "Combo list loaded successfully.\n",
      "[90, 103, 547, 1040, 1053, 1497, 2040, 2497, 3053, 3497, 4053, 4497, 5497, 6092, 6099, 6106, 6107, 6108, 6126, 6132, 6447, 6450, 6464, 6492, 6997, 7592, 7599, 7606, 7607, 7608, 7626, 7632, 7947, 7950, 7964, 7984, 7992, 8497, 9092, 9099, 9106, 9107, 9108, 9126, 9132, 9447, 9450, 9464, 9492, 9997]\n"
     ]
    }
   ],
   "source": [
    "import pickle\n",
    "\n",
    "# Loading the list from the pickle file\n",
    "file_path = r\"D:\\index_list.pickle\"  # Update the file path if necessary\n",
    "\n",
    "with open(file_path, 'rb') as file:\n",
    "    index_list = pickle.load(file)\n",
    "\n",
    "print(\"Combo list loaded successfully.\")\n",
    "print(index_list)\n"
   ]
  },
  {
   "cell_type": "code",
   "execution_count": 7,
   "id": "eba86a44",
   "metadata": {},
   "outputs": [
    {
     "data": {
      "text/plain": [
       "Index(['Directory', 'Feature 0', 'Feature 1', 'Feature 2', 'Feature 3',\n",
       "       'Feature 4', 'Feature 5', 'Feature 6', 'Feature 7', 'Feature 8',\n",
       "       ...\n",
       "       'Feature 2039', 'Feature 2040', 'Feature 2041', 'Feature 2042',\n",
       "       'Feature 2043', 'Feature 2044', 'Feature 2045', 'Feature 2046',\n",
       "       'Feature 2047', 'Unnamed: 2049'],\n",
       "      dtype='object', length=2050)"
      ]
     },
     "execution_count": 7,
     "metadata": {},
     "output_type": "execute_result"
    }
   ],
   "source": [
    "df.columns"
   ]
  },
  {
   "cell_type": "code",
   "execution_count": 3,
   "id": "8ede097d",
   "metadata": {},
   "outputs": [],
   "source": [
    "selected_data = df.loc[index_list, ['Directory']].to_numpy().flatten()"
   ]
  },
  {
   "cell_type": "code",
   "execution_count": null,
   "id": "e89170a8",
   "metadata": {},
   "outputs": [],
   "source": []
  },
  {
   "cell_type": "code",
   "execution_count": null,
   "id": "81d3dc2d",
   "metadata": {},
   "outputs": [],
   "source": []
  },
  {
   "cell_type": "code",
   "execution_count": 4,
   "id": "c5f11d72",
   "metadata": {},
   "outputs": [
    {
     "name": "stdout",
     "output_type": "stream",
     "text": [
      "Combo list saved successfully.\n"
     ]
    }
   ],
   "source": [
    "import pickle\n",
    "\n",
    "# Saving the list to a file in the D: drive\n",
    "file_path = r\"D:\\combo_list.pickle\"  # r prefix is used for raw string to avoid escape characters\n",
    "\n",
    "with open(file_path, 'wb') as file:\n",
    "    pickle.dump(selected_data, file)\n",
    "\n",
    "print(\"Combo list saved successfully.\")\n"
   ]
  },
  {
   "cell_type": "code",
   "execution_count": 5,
   "id": "ebce419a",
   "metadata": {},
   "outputs": [
    {
     "name": "stdout",
     "output_type": "stream",
     "text": [
      "Combo list loaded successfully.\n",
      "['F:/imagenet21k_resized/imagenet21k_train\\\\n00446311\\\\'\n",
      " 'F:/imagenet21k_resized/imagenet21k_train\\\\n00448748\\\\'\n",
      " 'F:/imagenet21k_resized/imagenet21k_train\\\\n01596608\\\\'\n",
      " 'F:/imagenet21k_resized/imagenet21k_train\\\\n00446311\\\\'\n",
      " 'F:/imagenet21k_resized/imagenet21k_train\\\\n00448748\\\\'\n",
      " 'F:/imagenet21k_resized/imagenet21k_train\\\\n01596608\\\\'\n",
      " 'F:/imagenet21k_resized/imagenet21k_train\\\\n00446311\\\\'\n",
      " 'F:/imagenet21k_resized/imagenet21k_train\\\\n01596608\\\\'\n",
      " 'F:/imagenet21k_resized/imagenet21k_train\\\\n00448748\\\\'\n",
      " 'F:/imagenet21k_resized/imagenet21k_train\\\\n01596608\\\\'\n",
      " 'F:/imagenet21k_resized/imagenet21k_train\\\\n00448748\\\\'\n",
      " 'F:/imagenet21k_resized/imagenet21k_train\\\\n01596608\\\\'\n",
      " 'F:/imagenet21k_resized/imagenet21k_train\\\\n01596608\\\\'\n",
      " 'F:/imagenet21k_resized/imagenet21k_train\\\\n01943899\\\\'\n",
      " 'F:/imagenet21k_resized/imagenet21k_train\\\\n01946630\\\\'\n",
      " 'F:/imagenet21k_resized/imagenet21k_train\\\\n01953361\\\\'\n",
      " 'F:/imagenet21k_resized/imagenet21k_train\\\\n01953594\\\\'\n",
      " 'F:/imagenet21k_resized/imagenet21k_train\\\\n01953762\\\\'\n",
      " 'F:/imagenet21k_resized/imagenet21k_train\\\\n01964271\\\\'\n",
      " 'F:/imagenet21k_resized/imagenet21k_train\\\\n01970667\\\\'\n",
      " 'F:/imagenet21k_resized/imagenet21k_train\\\\n02096585\\\\'\n",
      " 'F:/imagenet21k_resized/imagenet21k_train\\\\n02097130\\\\'\n",
      " 'F:/imagenet21k_resized/imagenet21k_train\\\\n02099429\\\\'\n",
      " 'F:/imagenet21k_resized/imagenet21k_train\\\\n02105056\\\\'\n",
      " 'F:/imagenet21k_resized/imagenet21k_train\\\\n01596608\\\\'\n",
      " 'F:/imagenet21k_resized/imagenet21k_train\\\\n01943899\\\\'\n",
      " 'F:/imagenet21k_resized/imagenet21k_train\\\\n01946630\\\\'\n",
      " 'F:/imagenet21k_resized/imagenet21k_train\\\\n01953361\\\\'\n",
      " 'F:/imagenet21k_resized/imagenet21k_train\\\\n01953594\\\\'\n",
      " 'F:/imagenet21k_resized/imagenet21k_train\\\\n01953762\\\\'\n",
      " 'F:/imagenet21k_resized/imagenet21k_train\\\\n01964271\\\\'\n",
      " 'F:/imagenet21k_resized/imagenet21k_train\\\\n01970667\\\\'\n",
      " 'F:/imagenet21k_resized/imagenet21k_train\\\\n02096585\\\\'\n",
      " 'F:/imagenet21k_resized/imagenet21k_train\\\\n02097130\\\\'\n",
      " 'F:/imagenet21k_resized/imagenet21k_train\\\\n02099429\\\\'\n",
      " 'F:/imagenet21k_resized/imagenet21k_train\\\\n02102973\\\\'\n",
      " 'F:/imagenet21k_resized/imagenet21k_train\\\\n02105056\\\\'\n",
      " 'F:/imagenet21k_resized/imagenet21k_train\\\\n01596608\\\\'\n",
      " 'F:/imagenet21k_resized/imagenet21k_train\\\\n01943899\\\\'\n",
      " 'F:/imagenet21k_resized/imagenet21k_train\\\\n01946630\\\\'\n",
      " 'F:/imagenet21k_resized/imagenet21k_train\\\\n01953361\\\\'\n",
      " 'F:/imagenet21k_resized/imagenet21k_train\\\\n01953594\\\\'\n",
      " 'F:/imagenet21k_resized/imagenet21k_train\\\\n01953762\\\\'\n",
      " 'F:/imagenet21k_resized/imagenet21k_train\\\\n01964271\\\\'\n",
      " 'F:/imagenet21k_resized/imagenet21k_train\\\\n01970667\\\\'\n",
      " 'F:/imagenet21k_resized/imagenet21k_train\\\\n02096585\\\\'\n",
      " 'F:/imagenet21k_resized/imagenet21k_train\\\\n02097130\\\\'\n",
      " 'F:/imagenet21k_resized/imagenet21k_train\\\\n02099429\\\\'\n",
      " 'F:/imagenet21k_resized/imagenet21k_train\\\\n02105056\\\\'\n",
      " 'F:/imagenet21k_resized/imagenet21k_train\\\\n01596608\\\\']\n"
     ]
    }
   ],
   "source": [
    "import pickle\n",
    "\n",
    "# Loading the list from the pickle file\n",
    "file_path = r\"D:\\combo_list.pickle\"  # Update the file path if necessary\n",
    "\n",
    "with open(file_path, 'rb') as file:\n",
    "    loaded_combo_list = pickle.load(file)\n",
    "\n",
    "print(\"Combo list loaded successfully.\")\n",
    "print(loaded_combo_list)\n"
   ]
  },
  {
   "cell_type": "code",
   "execution_count": null,
   "id": "0e12fe31",
   "metadata": {},
   "outputs": [],
   "source": []
  },
  {
   "cell_type": "code",
   "execution_count": null,
   "id": "3b9b7ae8",
   "metadata": {},
   "outputs": [],
   "source": []
  },
  {
   "cell_type": "code",
   "execution_count": null,
   "id": "6f6bd347",
   "metadata": {},
   "outputs": [],
   "source": []
  },
  {
   "cell_type": "code",
   "execution_count": null,
   "id": "570fba0a",
   "metadata": {},
   "outputs": [],
   "source": []
  },
  {
   "cell_type": "code",
   "execution_count": null,
   "id": "a60ec790",
   "metadata": {},
   "outputs": [],
   "source": []
  },
  {
   "cell_type": "code",
   "execution_count": null,
   "id": "87186a39",
   "metadata": {},
   "outputs": [],
   "source": []
  },
  {
   "cell_type": "code",
   "execution_count": null,
   "id": "5bc427dd",
   "metadata": {},
   "outputs": [],
   "source": []
  },
  {
   "cell_type": "code",
   "execution_count": null,
   "id": "790a762d",
   "metadata": {},
   "outputs": [],
   "source": []
  },
  {
   "cell_type": "code",
   "execution_count": null,
   "id": "cc8d5acf",
   "metadata": {},
   "outputs": [],
   "source": []
  },
  {
   "cell_type": "code",
   "execution_count": null,
   "id": "f571ec63",
   "metadata": {},
   "outputs": [],
   "source": []
  },
  {
   "cell_type": "code",
   "execution_count": null,
   "id": "96fd7ec5",
   "metadata": {},
   "outputs": [],
   "source": []
  },
  {
   "cell_type": "code",
   "execution_count": null,
   "id": "a25eec36",
   "metadata": {},
   "outputs": [],
   "source": []
  },
  {
   "cell_type": "code",
   "execution_count": null,
   "id": "f1c0f1fc",
   "metadata": {},
   "outputs": [],
   "source": []
  },
  {
   "cell_type": "code",
   "execution_count": null,
   "id": "645e5a6d",
   "metadata": {},
   "outputs": [],
   "source": []
  },
  {
   "cell_type": "code",
   "execution_count": null,
   "id": "fb54915b",
   "metadata": {},
   "outputs": [],
   "source": []
  }
 ],
 "metadata": {
  "kernelspec": {
   "display_name": "Python 3 (ipykernel)",
   "language": "python",
   "name": "python3"
  },
  "language_info": {
   "codemirror_mode": {
    "name": "ipython",
    "version": 3
   },
   "file_extension": ".py",
   "mimetype": "text/x-python",
   "name": "python",
   "nbconvert_exporter": "python",
   "pygments_lexer": "ipython3",
   "version": "3.8.16"
  }
 },
 "nbformat": 4,
 "nbformat_minor": 5
}
