{
 "cells": [
  {
   "cell_type": "code",
   "execution_count": 1,
   "id": "379e3cbd",
   "metadata": {},
   "outputs": [],
   "source": [
    "import tensorflow as tf\n",
    "from tensorflow import keras\n",
    "from tensorflow.keras.datasets import cifar100\n",
    "from tensorflow.keras.applications import MobileNet\n",
    "from tensorflow.keras.models import Sequential\n",
    "from tensorflow.keras.layers import Dense, GlobalAveragePooling2D\n",
    "from tensorflow.keras.optimizers import Adam\n",
    "from tensorflow.keras.preprocessing.image import ImageDataGenerator\n",
    "\n",
    "# Load the CIFAR-100 dataset\n",
    "(x_train, y_train), (x_test, y_test) = cifar100.load_data()\n",
    "\n",
    "# Normalize the pixel values between 0 and 1\n",
    "x_train = x_train.astype('float32') / 255.0\n",
    "x_test = x_test.astype('float32') / 255.0\n",
    "\n",
    "# Convert the labels to one-hot encoding\n",
    "y_train = keras.utils.to_categorical(y_train, 100)\n",
    "y_test = keras.utils.to_categorical(y_test, 100)\n"
   ]
  },
  {
   "cell_type": "code",
   "execution_count": 1,
   "id": "e329042b",
   "metadata": {},
   "outputs": [
    {
     "name": "stderr",
     "output_type": "stream",
     "text": [
      "100%|██████████████████████████████████████████████████████████████████████████████████| 10/10 [00:09<00:00,  1.11it/s]"
     ]
    },
    {
     "name": "stdout",
     "output_type": "stream",
     "text": [
      "X_train shape: (29009, 32, 32, 3)\n",
      "Y_train shape: (29009,)\n"
     ]
    },
    {
     "name": "stderr",
     "output_type": "stream",
     "text": [
      "\n"
     ]
    }
   ],
   "source": [
    "import os\n",
    "from PIL import Image\n",
    "import numpy as np\n",
    "from sklearn.preprocessing import LabelEncoder, OneHotEncoder\n",
    "from tqdm import tqdm\n",
    "\n",
    "# Define the path to the directory\n",
    "directory_path = r\"E:\\imbcifar\\train\"\n",
    "\n",
    "# Initialize empty lists for images and labels\n",
    "X_train = []\n",
    "Y_train = []\n",
    "class_label = 0\n",
    "\n",
    "# Loop through subdirectories (classes)\n",
    "for class_folder in tqdm(sorted(os.listdir(directory_path))):\n",
    "    class_path = os.path.join(directory_path, class_folder)\n",
    "    \n",
    "    for image_file in os.listdir(class_path):\n",
    "        if image_file.endswith('.png'):\n",
    "            image_path = os.path.join(class_path, image_file)\n",
    "            \n",
    "            # Load image, convert to RGB and resize\n",
    "            img = Image.open(image_path).convert('RGB')\n",
    "            img = img.resize((32, 32))\n",
    "            img_array = np.array(img)\n",
    "            \n",
    "            # Append image and label to lists\n",
    "            X_train.append(img_array)\n",
    "            Y_train.append(class_label)\n",
    "            \n",
    "    class_label = class_label + 1\n",
    "\n",
    "# Convert lists to numpy arrays\n",
    "X_train = np.array(X_train)\n",
    "Y_train = np.array(Y_train)\n",
    "\n",
    "print(f'X_train shape: {X_train.shape}')\n",
    "print(f'Y_train shape: {Y_train.shape}')"
   ]
  },
  {
   "cell_type": "code",
   "execution_count": null,
   "id": "37702c4e",
   "metadata": {},
   "outputs": [],
   "source": []
  },
  {
   "cell_type": "code",
   "execution_count": 2,
   "id": "833ce9bf",
   "metadata": {},
   "outputs": [
    {
     "name": "stderr",
     "output_type": "stream",
     "text": [
      "Processing Imbalance: 100%|████████████████████████████████████████████████████| 50000/50000 [00:20<00:00, 2428.04it/s]\n",
      "Normalizing Data: 100%|████████████████████████████████████████████████████████| 27500/27500 [00:11<00:00, 2333.56it/s]\n"
     ]
    },
    {
     "name": "stdout",
     "output_type": "stream",
     "text": [
      "x_train shape: (27500, 32, 32, 3), y_train shape: (27500,)\n"
     ]
    }
   ],
   "source": [
    "import tensorflow as tf\n",
    "import tensorflow_datasets as tfds\n",
    "import numpy as np\n",
    "from tqdm import tqdm\n",
    "\n",
    "# Load CIFAR-100 dataset\n",
    "(train_data, test_data), ds_info = tfds.load('cifar100', split=['train', 'test'], \n",
    "                                             shuffle_files=True, as_supervised=True,\n",
    "                                             with_info=True)\n",
    "\n",
    "# Function to create class imbalance\n",
    "def create_class_imbalance(dataset, imbalance_ratio=0.1):\n",
    "    class_counts = [500] * 100  # CIFAR-100 has 500 images per class\n",
    "\n",
    "    # Reduce the number of images for every alternate class\n",
    "    imbalanced_class_counts = [int(count * imbalance_ratio) if i % 2 == 0 else count\n",
    "                               for i, count in enumerate(class_counts)]\n",
    "\n",
    "    imbalanced_dataset = []\n",
    "    class_counter = {i: 0 for i in range(100)}  # Track class counts\n",
    "\n",
    "    # Using tqdm to show progress\n",
    "    for image, label in tqdm(dataset, desc=\"Processing Imbalance\"):\n",
    "        label = label.numpy()  # Convert label to numpy for comparison\n",
    "        if class_counter[label] < imbalanced_class_counts[label]:\n",
    "            imbalanced_dataset.append((image, label))\n",
    "            class_counter[label] += 1\n",
    "\n",
    "    return imbalanced_dataset\n",
    "\n",
    "# Create imbalanced CIFAR-100 dataset\n",
    "imbalanced_train_data = create_class_imbalance(train_data)\n",
    "\n",
    "# Preprocessing function (normalize)\n",
    "def preprocess(image, label):\n",
    "    image = tf.cast(image, tf.float32) / 255.0  # Normalize to [0, 1]\n",
    "    return image, label\n",
    "\n",
    "# Apply normalization to the imbalanced dataset\n",
    "x_train, y_train = [], []\n",
    "\n",
    "for image, label in tqdm(imbalanced_train_data, desc=\"Normalizing Data\"):\n",
    "    image, label = preprocess(image, label)\n",
    "    x_train.append(image.numpy())  # Convert image to numpy array\n",
    "    y_train.append(label)  # Directly append the label since it's already an integer\n",
    "\n",
    "X_train = np.array(x_train)\n",
    "y_train = np.array(y_train)\n",
    "\n",
    "# Ready for TensorFlow training\n",
    "print(f'x_train shape: {X_train.shape}, y_train shape: {y_train.shape}')\n"
   ]
  },
  {
   "cell_type": "code",
   "execution_count": null,
   "id": "6bc75184",
   "metadata": {},
   "outputs": [],
   "source": []
  },
  {
   "cell_type": "code",
   "execution_count": null,
   "id": "251b8092",
   "metadata": {},
   "outputs": [],
   "source": []
  },
  {
   "cell_type": "code",
   "execution_count": null,
   "id": "ffc5d638",
   "metadata": {},
   "outputs": [],
   "source": []
  },
  {
   "cell_type": "code",
   "execution_count": null,
   "id": "846c5bf0",
   "metadata": {},
   "outputs": [],
   "source": []
  },
  {
   "cell_type": "code",
   "execution_count": null,
   "id": "78418789",
   "metadata": {},
   "outputs": [],
   "source": []
  },
  {
   "cell_type": "code",
   "execution_count": null,
   "id": "7bc94b54",
   "metadata": {},
   "outputs": [],
   "source": []
  },
  {
   "cell_type": "code",
   "execution_count": null,
   "id": "d31e60f0",
   "metadata": {},
   "outputs": [],
   "source": []
  },
  {
   "cell_type": "code",
   "execution_count": 3,
   "id": "0c549f87",
   "metadata": {},
   "outputs": [],
   "source": [
    "import os\n",
    "import numpy as np\n",
    "from PIL import Image\n",
    "from sklearn.model_selection import train_test_split\n",
    "from tensorflow.keras.utils import to_categorical\n",
    "from tensorflow.keras.applications.resnet import ResNet50, preprocess_input\n",
    "import glob\n",
    "\n",
    "target_size = (32, 32)  # Change the values as per your requirement\n",
    "# Load the pre-trained ResNet50 model with modified input shape\n",
    "model = ResNet50(weights='imagenet', include_top=False, pooling='avg', input_shape=(target_size[0], target_size[1], 3))"
   ]
  },
  {
   "cell_type": "code",
   "execution_count": 1,
   "id": "d0c9ee00",
   "metadata": {},
   "outputs": [
    {
     "data": {
      "text/html": [
       "<div>\n",
       "<style scoped>\n",
       "    .dataframe tbody tr th:only-of-type {\n",
       "        vertical-align: middle;\n",
       "    }\n",
       "\n",
       "    .dataframe tbody tr th {\n",
       "        vertical-align: top;\n",
       "    }\n",
       "\n",
       "    .dataframe thead th {\n",
       "        text-align: right;\n",
       "    }\n",
       "</style>\n",
       "<table border=\"1\" class=\"dataframe\">\n",
       "  <thead>\n",
       "    <tr style=\"text-align: right;\">\n",
       "      <th></th>\n",
       "      <th>Feature 0</th>\n",
       "      <th>Feature 1</th>\n",
       "      <th>Feature 2</th>\n",
       "      <th>Feature 3</th>\n",
       "      <th>Feature 4</th>\n",
       "      <th>Feature 5</th>\n",
       "      <th>Feature 6</th>\n",
       "      <th>Feature 7</th>\n",
       "      <th>Feature 8</th>\n",
       "      <th>Feature 9</th>\n",
       "      <th>...</th>\n",
       "      <th>Feature 2038</th>\n",
       "      <th>Feature 2039</th>\n",
       "      <th>Feature 2040</th>\n",
       "      <th>Feature 2041</th>\n",
       "      <th>Feature 2042</th>\n",
       "      <th>Feature 2043</th>\n",
       "      <th>Feature 2044</th>\n",
       "      <th>Feature 2045</th>\n",
       "      <th>Feature 2046</th>\n",
       "      <th>Feature 2047</th>\n",
       "    </tr>\n",
       "  </thead>\n",
       "  <tbody>\n",
       "    <tr>\n",
       "      <th>0</th>\n",
       "      <td>0.0</td>\n",
       "      <td>0.0</td>\n",
       "      <td>0.0</td>\n",
       "      <td>0.0</td>\n",
       "      <td>0.0</td>\n",
       "      <td>0.0</td>\n",
       "      <td>0.0</td>\n",
       "      <td>0.0</td>\n",
       "      <td>0.0</td>\n",
       "      <td>0.0</td>\n",
       "      <td>...</td>\n",
       "      <td>0.0</td>\n",
       "      <td>0.0</td>\n",
       "      <td>0.009121</td>\n",
       "      <td>0.0</td>\n",
       "      <td>0.0</td>\n",
       "      <td>0.0</td>\n",
       "      <td>0.0</td>\n",
       "      <td>3.285227</td>\n",
       "      <td>0.0</td>\n",
       "      <td>0.0</td>\n",
       "    </tr>\n",
       "  </tbody>\n",
       "</table>\n",
       "<p>1 rows × 2048 columns</p>\n",
       "</div>"
      ],
      "text/plain": [
       "   Feature 0  Feature 1  Feature 2  Feature 3  Feature 4  Feature 5  \\\n",
       "0        0.0        0.0        0.0        0.0        0.0        0.0   \n",
       "\n",
       "   Feature 6  Feature 7  Feature 8  Feature 9  ...  Feature 2038  \\\n",
       "0        0.0        0.0        0.0        0.0  ...           0.0   \n",
       "\n",
       "   Feature 2039  Feature 2040  Feature 2041  Feature 2042  Feature 2043  \\\n",
       "0           0.0      0.009121           0.0           0.0           0.0   \n",
       "\n",
       "   Feature 2044  Feature 2045  Feature 2046  Feature 2047  \n",
       "0           0.0      3.285227           0.0           0.0  \n",
       "\n",
       "[1 rows x 2048 columns]"
      ]
     },
     "execution_count": 1,
     "metadata": {},
     "output_type": "execute_result"
    }
   ],
   "source": [
    "import pandas as pd\n",
    "# Define the file path\n",
    "file_path = r\"D:\\feature.csv\"\n",
    "# Read the tab-separated CSV file into a DataFrame\n",
    "df = pd.read_csv(file_path, delimiter='\\t')\n",
    "columns_to_drop = [df.columns[0], df.columns[-1]]\n",
    "data = df.drop(columns_to_drop, axis=1)\n",
    "# Display the head of the DataFrame\n",
    "data.head(1)"
   ]
  },
  {
   "cell_type": "code",
   "execution_count": 4,
   "id": "06649222",
   "metadata": {},
   "outputs": [
    {
     "data": {
      "text/plain": [
       "(4357, 32, 32, 3)"
      ]
     },
     "execution_count": 4,
     "metadata": {},
     "output_type": "execute_result"
    }
   ],
   "source": [
    "np.shape(X_train)"
   ]
  },
  {
   "cell_type": "code",
   "execution_count": 4,
   "id": "6afbd946",
   "metadata": {},
   "outputs": [],
   "source": []
  },
  {
   "cell_type": "code",
   "execution_count": 5,
   "id": "424d8e32",
   "metadata": {},
   "outputs": [],
   "source": [
    "from PIL import Image\n",
    "import numpy as np\n",
    "ft = model.predict(np.array(X_train).astype(\"float32\"))"
   ]
  },
  {
   "cell_type": "code",
   "execution_count": 6,
   "id": "e61ee04e",
   "metadata": {},
   "outputs": [
    {
     "name": "stderr",
     "output_type": "stream",
     "text": [
      "C:\\Users\\shaif\\anaconda3\\envs\\tens\\lib\\site-packages\\sklearn\\cluster\\_kmeans.py:1934: FutureWarning: The default value of `n_init` will change from 3 to 'auto' in 1.4. Set the value of `n_init` explicitly to suppress the warning\n",
      "  super()._check_params_vs_input(X, default_n_init=3)\n"
     ]
    }
   ],
   "source": [
    "from sklearn.cluster import MiniBatchKMeans\n",
    "\n",
    "n_clusters = 400\n",
    "batch_size = 100\n",
    "max_iter = 100\n",
    "\n",
    "kmeans = MiniBatchKMeans(n_clusters=n_clusters, batch_size=batch_size, max_iter=max_iter)\n",
    "kmeans.fit(ft)\n",
    "# Retrieve the cluster centers\n",
    "ct = kmeans.cluster_centers_.tolist()"
   ]
  },
  {
   "cell_type": "code",
   "execution_count": 7,
   "id": "400c3f1b",
   "metadata": {
    "scrolled": true
   },
   "outputs": [
    {
     "name": "stderr",
     "output_type": "stream",
     "text": [
      "100%|████████████████████████████████████████████████████████████████████████████████| 400/400 [01:29<00:00,  4.49it/s]\n"
     ]
    },
    {
     "name": "stdout",
     "output_type": "stream",
     "text": [
      "(400, 1000)\n",
      "(400, 1000)\n"
     ]
    }
   ],
   "source": [
    "from tqdm import tqdm\n",
    "\n",
    "combo_list = []  # Initialize combo_list\n",
    "tot_dist = []\n",
    "# Iterate over ft\n",
    "for i in tqdm(range(len(ct))):\n",
    "    distances = []\n",
    "\n",
    "    # Calculate distances for each row in data\n",
    "    for index, row in data.iterrows():\n",
    "        row_array = row.to_numpy()  # Convert row to numpy array\n",
    "        distance = np.linalg.norm(ct[i] - row_array)  # Calculate Euclidean distance\n",
    "        distances.append(distance)\n",
    "\n",
    "    tot_dist.append(distances)\n",
    "print(np.shape(tot_dist))\n",
    "#new_shape = (1000, 30)\n",
    "#re_dist = np.transpose(tot_dist, (1, 0))\n",
    "re_dist = tot_dist\n",
    "print(np.shape(re_dist))"
   ]
  },
  {
   "cell_type": "code",
   "execution_count": 8,
   "id": "c5ba3d01",
   "metadata": {},
   "outputs": [
    {
     "name": "stdout",
     "output_type": "stream",
     "text": [
      "Combo list saved successfully.\n"
     ]
    }
   ],
   "source": [
    "import pickle\n",
    "\n",
    "# Saving the list to a file in the D: drive\n",
    "file_path = r\"D:\\dist_list.pickle\"  # r prefix is used for raw string to avoid escape characters\n",
    "\n",
    "with open(file_path, 'wb') as file:\n",
    "    pickle.dump(re_dist, file)\n",
    "\n",
    "print(\"Combo list saved successfully.\")"
   ]
  },
  {
   "cell_type": "code",
   "execution_count": 9,
   "id": "c1af5e5d",
   "metadata": {},
   "outputs": [
    {
     "ename": "NameError",
     "evalue": "name 'index_list' is not defined",
     "output_type": "error",
     "traceback": [
      "\u001b[1;31m---------------------------------------------------------------------------\u001b[0m",
      "\u001b[1;31mNameError\u001b[0m                                 Traceback (most recent call last)",
      "Cell \u001b[1;32mIn[9], line 1\u001b[0m\n\u001b[1;32m----> 1\u001b[0m \u001b[38;5;28mlen\u001b[39m(\u001b[43mindex_list\u001b[49m)\n",
      "\u001b[1;31mNameError\u001b[0m: name 'index_list' is not defined"
     ]
    }
   ],
   "source": [
    "len(index_list)"
   ]
  },
  {
   "cell_type": "code",
   "execution_count": null,
   "id": "43511453",
   "metadata": {},
   "outputs": [],
   "source": []
  },
  {
   "cell_type": "code",
   "execution_count": 2,
   "id": "ee431086",
   "metadata": {},
   "outputs": [
    {
     "name": "stdout",
     "output_type": "stream",
     "text": [
      "Combo list loaded successfully.\n",
      "[0, 1, 2, 3, 4, 5, 6, 10, 14, 18, 20, 21, 25, 27, 29, 31, 33, 34, 41, 44, 45, 49, 50, 55, 57, 58, 59, 65, 66, 70, 73, 78, 80, 81, 83, 85, 86, 92, 93, 96, 98, 103, 105, 106, 107, 108, 109, 115, 117, 123, 127, 128, 129, 131, 132, 133, 136, 137, 138, 139, 140, 141, 142, 143, 147, 148, 149, 152, 153, 155, 156, 157, 159, 165, 166, 179, 181, 183, 188, 190, 195, 197, 199, 205, 206, 210, 213, 214, 216, 217, 221, 224, 225, 229, 232, 239, 240, 241, 244, 247, 252, 256, 268, 272, 274, 276, 277, 278, 280, 291, 293, 299, 302, 306, 314, 315, 317, 318, 320, 321, 324, 325, 326, 330, 331, 332, 343, 344, 347, 350, 351, 352, 353, 361, 363, 368, 369, 375, 379, 384, 388, 392, 393, 397, 399, 400, 403, 404, 406, 408, 409, 411, 413, 414, 417, 424, 426, 431, 432, 436, 439, 441, 444, 447, 449, 450, 451, 453, 457, 458, 460, 465, 466, 470, 472, 475, 479, 482, 483, 484, 493, 495, 498, 500, 501, 510, 511, 512, 518, 519, 520, 525, 527, 528, 529, 531, 532, 533, 535, 536, 537, 539, 540, 547, 548, 550, 551, 553, 554, 555, 556, 557, 561, 562, 563, 564, 565, 567, 568, 569, 570, 574, 575, 576, 581, 586, 590, 591, 592, 593, 594, 595, 597, 598, 600, 603, 605, 606, 607, 608, 610, 624, 625, 627, 628, 630, 632, 633, 634, 635, 636, 639, 640, 643, 646, 648, 650, 654, 656, 660, 664, 666, 667, 668, 669, 671, 672, 675, 676, 678, 679, 680, 682, 686, 688, 690, 698, 701, 703, 705, 707, 710, 715, 716, 717, 718, 721, 724, 726, 728, 729, 730, 732, 734, 741, 743, 746, 747, 750, 751, 754, 755, 757, 759, 760, 764, 779, 780, 782, 785, 789, 791, 794, 796, 798, 800, 802, 803, 809, 810, 814, 815, 817, 818, 819, 820, 825, 826, 829, 831, 833, 834, 836, 837, 844, 847, 848, 851, 852, 853, 854, 856, 858, 863, 864, 867, 869, 871, 874, 880, 881, 884, 886, 891, 894, 895, 902, 903, 904, 905, 906, 908, 912, 913, 914, 915, 916, 921, 922, 923, 925, 927, 928, 933, 934, 936, 958, 959, 960, 967, 969, 970, 972, 973, 974, 975, 976, 977, 978, 979, 980, 982, 983, 984, 985, 986, 991, 992, 995, 996]\n"
     ]
    }
   ],
   "source": [
    "import pickle\n",
    "\n",
    "# Loading the list from the pickle file\n",
    "file_path = r\"D:\\index_list.pickle\"  # Update the file path if necessary\n",
    "\n",
    "with open(file_path, 'rb') as file:\n",
    "    index_list = pickle.load(file)\n",
    "\n",
    "print(\"Combo list loaded successfully.\")\n",
    "print(index_list)\n"
   ]
  },
  {
   "cell_type": "code",
   "execution_count": 5,
   "id": "eba86a44",
   "metadata": {},
   "outputs": [
    {
     "data": {
      "text/plain": [
       "Index(['Directory', 'Feature 0', 'Feature 1', 'Feature 2', 'Feature 3',\n",
       "       'Feature 4', 'Feature 5', 'Feature 6', 'Feature 7', 'Feature 8',\n",
       "       ...\n",
       "       'Feature 2039', 'Feature 2040', 'Feature 2041', 'Feature 2042',\n",
       "       'Feature 2043', 'Feature 2044', 'Feature 2045', 'Feature 2046',\n",
       "       'Feature 2047', 'Unnamed: 2049'],\n",
       "      dtype='object', length=2050)"
      ]
     },
     "execution_count": 5,
     "metadata": {},
     "output_type": "execute_result"
    }
   ],
   "source": [
    "df.columns"
   ]
  },
  {
   "cell_type": "code",
   "execution_count": 3,
   "id": "8ede097d",
   "metadata": {},
   "outputs": [],
   "source": [
    "selected_data = df.loc[index_list, ['Name']].to_numpy().flatten()"
   ]
  },
  {
   "cell_type": "code",
   "execution_count": null,
   "id": "e89170a8",
   "metadata": {},
   "outputs": [],
   "source": []
  },
  {
   "cell_type": "code",
   "execution_count": null,
   "id": "81d3dc2d",
   "metadata": {},
   "outputs": [],
   "source": []
  },
  {
   "cell_type": "code",
   "execution_count": 4,
   "id": "c5f11d72",
   "metadata": {},
   "outputs": [
    {
     "name": "stdout",
     "output_type": "stream",
     "text": [
      "Combo list saved successfully.\n"
     ]
    }
   ],
   "source": [
    "import pickle\n",
    "\n",
    "# Saving the list to a file in the D: drive\n",
    "file_path = r\"D:\\combo_list.pickle\"  # r prefix is used for raw string to avoid escape characters\n",
    "\n",
    "with open(file_path, 'wb') as file:\n",
    "    pickle.dump(selected_data, file)\n",
    "\n",
    "print(\"Combo list saved successfully.\")\n"
   ]
  },
  {
   "cell_type": "code",
   "execution_count": 5,
   "id": "ebce419a",
   "metadata": {},
   "outputs": [
    {
     "name": "stdout",
     "output_type": "stream",
     "text": [
      "Combo list loaded successfully.\n",
      "['D:/data/imagenet\\\\n01440764\\\\' 'D:/data/imagenet\\\\n01443537\\\\'\n",
      " 'D:/data/imagenet\\\\n01484850\\\\' 'D:/data/imagenet\\\\n01491361\\\\'\n",
      " 'D:/data/imagenet\\\\n01494475\\\\' 'D:/data/imagenet\\\\n01496331\\\\'\n",
      " 'D:/data/imagenet\\\\n01498041\\\\' 'D:/data/imagenet\\\\n01530575\\\\'\n",
      " 'D:/data/imagenet\\\\n01537544\\\\' 'D:/data/imagenet\\\\n01582220\\\\'\n",
      " 'D:/data/imagenet\\\\n01601694\\\\' 'D:/data/imagenet\\\\n01608432\\\\'\n",
      " 'D:/data/imagenet\\\\n01629819\\\\' 'D:/data/imagenet\\\\n01631663\\\\'\n",
      " 'D:/data/imagenet\\\\n01632777\\\\' 'D:/data/imagenet\\\\n01644373\\\\'\n",
      " 'D:/data/imagenet\\\\n01664065\\\\' 'D:/data/imagenet\\\\n01665541\\\\'\n",
      " 'D:/data/imagenet\\\\n01685808\\\\' 'D:/data/imagenet\\\\n01689811\\\\'\n",
      " 'D:/data/imagenet\\\\n01692333\\\\' 'D:/data/imagenet\\\\n01697457\\\\'\n",
      " 'D:/data/imagenet\\\\n01698640\\\\' 'D:/data/imagenet\\\\n01729977\\\\'\n",
      " 'D:/data/imagenet\\\\n01735189\\\\' 'D:/data/imagenet\\\\n01737021\\\\'\n",
      " 'D:/data/imagenet\\\\n01739381\\\\' 'D:/data/imagenet\\\\n01751748\\\\'\n",
      " 'D:/data/imagenet\\\\n01753488\\\\' 'D:/data/imagenet\\\\n01770081\\\\'\n",
      " 'D:/data/imagenet\\\\n01773549\\\\' 'D:/data/imagenet\\\\n01776313\\\\'\n",
      " 'D:/data/imagenet\\\\n01795545\\\\' 'D:/data/imagenet\\\\n01796340\\\\'\n",
      " 'D:/data/imagenet\\\\n01798484\\\\' 'D:/data/imagenet\\\\n01806567\\\\'\n",
      " 'D:/data/imagenet\\\\n01807496\\\\' 'D:/data/imagenet\\\\n01828970\\\\'\n",
      " 'D:/data/imagenet\\\\n01829413\\\\' 'D:/data/imagenet\\\\n01843383\\\\'\n",
      " 'D:/data/imagenet\\\\n01855032\\\\' 'D:/data/imagenet\\\\n01873310\\\\'\n",
      " 'D:/data/imagenet\\\\n01882714\\\\' 'D:/data/imagenet\\\\n01883070\\\\'\n",
      " 'D:/data/imagenet\\\\n01910747\\\\' 'D:/data/imagenet\\\\n01914609\\\\'\n",
      " 'D:/data/imagenet\\\\n01917289\\\\' 'D:/data/imagenet\\\\n01950731\\\\'\n",
      " 'D:/data/imagenet\\\\n01968897\\\\' 'D:/data/imagenet\\\\n01984695\\\\'\n",
      " 'D:/data/imagenet\\\\n02002556\\\\' 'D:/data/imagenet\\\\n02002724\\\\'\n",
      " 'D:/data/imagenet\\\\n02006656\\\\' 'D:/data/imagenet\\\\n02009229\\\\'\n",
      " 'D:/data/imagenet\\\\n02009912\\\\' 'D:/data/imagenet\\\\n02011460\\\\'\n",
      " 'D:/data/imagenet\\\\n02017213\\\\' 'D:/data/imagenet\\\\n02018207\\\\'\n",
      " 'D:/data/imagenet\\\\n02018795\\\\' 'D:/data/imagenet\\\\n02025239\\\\'\n",
      " 'D:/data/imagenet\\\\n02027492\\\\' 'D:/data/imagenet\\\\n02028035\\\\'\n",
      " 'D:/data/imagenet\\\\n02033041\\\\' 'D:/data/imagenet\\\\n02037110\\\\'\n",
      " 'D:/data/imagenet\\\\n02066245\\\\' 'D:/data/imagenet\\\\n02071294\\\\'\n",
      " 'D:/data/imagenet\\\\n02074367\\\\' 'D:/data/imagenet\\\\n02085782\\\\'\n",
      " 'D:/data/imagenet\\\\n02085936\\\\' 'D:/data/imagenet\\\\n02086240\\\\'\n",
      " 'D:/data/imagenet\\\\n02086646\\\\' 'D:/data/imagenet\\\\n02086910\\\\'\n",
      " 'D:/data/imagenet\\\\n02087394\\\\' 'D:/data/imagenet\\\\n02089078\\\\'\n",
      " 'D:/data/imagenet\\\\n02089867\\\\' 'D:/data/imagenet\\\\n02093256\\\\'\n",
      " 'D:/data/imagenet\\\\n02093647\\\\' 'D:/data/imagenet\\\\n02093859\\\\'\n",
      " 'D:/data/imagenet\\\\n02095314\\\\' 'D:/data/imagenet\\\\n02095889\\\\'\n",
      " 'D:/data/imagenet\\\\n02096585\\\\' 'D:/data/imagenet\\\\n02097130\\\\'\n",
      " 'D:/data/imagenet\\\\n02097298\\\\' 'D:/data/imagenet\\\\n02099267\\\\'\n",
      " 'D:/data/imagenet\\\\n02099429\\\\' 'D:/data/imagenet\\\\n02100236\\\\'\n",
      " 'D:/data/imagenet\\\\n02100877\\\\' 'D:/data/imagenet\\\\n02101006\\\\'\n",
      " 'D:/data/imagenet\\\\n02101556\\\\' 'D:/data/imagenet\\\\n02102040\\\\'\n",
      " 'D:/data/imagenet\\\\n02102973\\\\' 'D:/data/imagenet\\\\n02105056\\\\'\n",
      " 'D:/data/imagenet\\\\n02105162\\\\' 'D:/data/imagenet\\\\n02105641\\\\'\n",
      " 'D:/data/imagenet\\\\n02106166\\\\' 'D:/data/imagenet\\\\n02107683\\\\'\n",
      " 'D:/data/imagenet\\\\n02107908\\\\' 'D:/data/imagenet\\\\n02108000\\\\'\n",
      " 'D:/data/imagenet\\\\n02108551\\\\' 'D:/data/imagenet\\\\n02109525\\\\'\n",
      " 'D:/data/imagenet\\\\n02110627\\\\' 'D:/data/imagenet\\\\n02111277\\\\'\n",
      " 'D:/data/imagenet\\\\n02113978\\\\' 'D:/data/imagenet\\\\n02114855\\\\'\n",
      " 'D:/data/imagenet\\\\n02115913\\\\' 'D:/data/imagenet\\\\n02117135\\\\'\n",
      " 'D:/data/imagenet\\\\n02119022\\\\' 'D:/data/imagenet\\\\n02119789\\\\'\n",
      " 'D:/data/imagenet\\\\n02120505\\\\' 'D:/data/imagenet\\\\n02129165\\\\'\n",
      " 'D:/data/imagenet\\\\n02130308\\\\' 'D:/data/imagenet\\\\n02138441\\\\'\n",
      " 'D:/data/imagenet\\\\n02167151\\\\' 'D:/data/imagenet\\\\n02174001\\\\'\n",
      " 'D:/data/imagenet\\\\n02233338\\\\' 'D:/data/imagenet\\\\n02236044\\\\'\n",
      " 'D:/data/imagenet\\\\n02259212\\\\' 'D:/data/imagenet\\\\n02264363\\\\'\n",
      " 'D:/data/imagenet\\\\n02268853\\\\' 'D:/data/imagenet\\\\n02276258\\\\'\n",
      " 'D:/data/imagenet\\\\n02280649\\\\' 'D:/data/imagenet\\\\n02281406\\\\'\n",
      " 'D:/data/imagenet\\\\n02281787\\\\' 'D:/data/imagenet\\\\n02325366\\\\'\n",
      " 'D:/data/imagenet\\\\n02326432\\\\' 'D:/data/imagenet\\\\n02328150\\\\'\n",
      " 'D:/data/imagenet\\\\n02397096\\\\' 'D:/data/imagenet\\\\n02398521\\\\'\n",
      " 'D:/data/imagenet\\\\n02410509\\\\' 'D:/data/imagenet\\\\n02417914\\\\'\n",
      " 'D:/data/imagenet\\\\n02422106\\\\' 'D:/data/imagenet\\\\n02422699\\\\'\n",
      " 'D:/data/imagenet\\\\n02423022\\\\' 'D:/data/imagenet\\\\n02445715\\\\'\n",
      " 'D:/data/imagenet\\\\n02454379\\\\' 'D:/data/imagenet\\\\n02483362\\\\'\n",
      " 'D:/data/imagenet\\\\n02483708\\\\' 'D:/data/imagenet\\\\n02488702\\\\'\n",
      " 'D:/data/imagenet\\\\n02492660\\\\' 'D:/data/imagenet\\\\n02500267\\\\'\n",
      " 'D:/data/imagenet\\\\n02510455\\\\' 'D:/data/imagenet\\\\n02606052\\\\'\n",
      " 'D:/data/imagenet\\\\n02607072\\\\' 'D:/data/imagenet\\\\n02655020\\\\'\n",
      " 'D:/data/imagenet\\\\n02667093\\\\' 'D:/data/imagenet\\\\n02669723\\\\'\n",
      " 'D:/data/imagenet\\\\n02687172\\\\' 'D:/data/imagenet\\\\n02690373\\\\'\n",
      " 'D:/data/imagenet\\\\n02699494\\\\' 'D:/data/imagenet\\\\n02704792\\\\'\n",
      " 'D:/data/imagenet\\\\n02708093\\\\' 'D:/data/imagenet\\\\n02730930\\\\'\n",
      " 'D:/data/imagenet\\\\n02749479\\\\' 'D:/data/imagenet\\\\n02769748\\\\'\n",
      " 'D:/data/imagenet\\\\n02782093\\\\' 'D:/data/imagenet\\\\n02791270\\\\'\n",
      " 'D:/data/imagenet\\\\n02794156\\\\' 'D:/data/imagenet\\\\n02804414\\\\'\n",
      " 'D:/data/imagenet\\\\n02804610\\\\' 'D:/data/imagenet\\\\n02814533\\\\'\n",
      " 'D:/data/imagenet\\\\n02817516\\\\' 'D:/data/imagenet\\\\n02823750\\\\'\n",
      " 'D:/data/imagenet\\\\n02835271\\\\' 'D:/data/imagenet\\\\n02841315\\\\'\n",
      " 'D:/data/imagenet\\\\n02859443\\\\' 'D:/data/imagenet\\\\n02860847\\\\'\n",
      " 'D:/data/imagenet\\\\n02865351\\\\' 'D:/data/imagenet\\\\n02870880\\\\'\n",
      " 'D:/data/imagenet\\\\n02883205\\\\' 'D:/data/imagenet\\\\n02892201\\\\'\n",
      " 'D:/data/imagenet\\\\n02894605\\\\' 'D:/data/imagenet\\\\n02916936\\\\'\n",
      " 'D:/data/imagenet\\\\n02917067\\\\' 'D:/data/imagenet\\\\n02948072\\\\'\n",
      " 'D:/data/imagenet\\\\n02951358\\\\' 'D:/data/imagenet\\\\n02965783\\\\'\n",
      " 'D:/data/imagenet\\\\n02974003\\\\' 'D:/data/imagenet\\\\n02979186\\\\'\n",
      " 'D:/data/imagenet\\\\n02980441\\\\' 'D:/data/imagenet\\\\n02981792\\\\'\n",
      " 'D:/data/imagenet\\\\n03016953\\\\' 'D:/data/imagenet\\\\n03018349\\\\'\n",
      " 'D:/data/imagenet\\\\n03032252\\\\' 'D:/data/imagenet\\\\n03042490\\\\'\n",
      " 'D:/data/imagenet\\\\n03045698\\\\' 'D:/data/imagenet\\\\n03095699\\\\'\n",
      " 'D:/data/imagenet\\\\n03100240\\\\' 'D:/data/imagenet\\\\n03109150\\\\'\n",
      " 'D:/data/imagenet\\\\n03127747\\\\' 'D:/data/imagenet\\\\n03127925\\\\'\n",
      " 'D:/data/imagenet\\\\n03131574\\\\' 'D:/data/imagenet\\\\n03160309\\\\'\n",
      " 'D:/data/imagenet\\\\n03180011\\\\' 'D:/data/imagenet\\\\n03187595\\\\'\n",
      " 'D:/data/imagenet\\\\n03188531\\\\' 'D:/data/imagenet\\\\n03197337\\\\'\n",
      " 'D:/data/imagenet\\\\n03201208\\\\' 'D:/data/imagenet\\\\n03207743\\\\'\n",
      " 'D:/data/imagenet\\\\n03208938\\\\' 'D:/data/imagenet\\\\n03216828\\\\'\n",
      " 'D:/data/imagenet\\\\n03218198\\\\' 'D:/data/imagenet\\\\n03223299\\\\'\n",
      " 'D:/data/imagenet\\\\n03240683\\\\' 'D:/data/imagenet\\\\n03272562\\\\'\n",
      " 'D:/data/imagenet\\\\n03290653\\\\' 'D:/data/imagenet\\\\n03297495\\\\'\n",
      " 'D:/data/imagenet\\\\n03314780\\\\' 'D:/data/imagenet\\\\n03337140\\\\'\n",
      " 'D:/data/imagenet\\\\n03344393\\\\' 'D:/data/imagenet\\\\n03345487\\\\'\n",
      " 'D:/data/imagenet\\\\n03347037\\\\' 'D:/data/imagenet\\\\n03355925\\\\'\n",
      " 'D:/data/imagenet\\\\n03384352\\\\' 'D:/data/imagenet\\\\n03388043\\\\'\n",
      " 'D:/data/imagenet\\\\n03388183\\\\' 'D:/data/imagenet\\\\n03388549\\\\'\n",
      " 'D:/data/imagenet\\\\n03393912\\\\' 'D:/data/imagenet\\\\n03400231\\\\'\n",
      " 'D:/data/imagenet\\\\n03404251\\\\' 'D:/data/imagenet\\\\n03417042\\\\'\n",
      " 'D:/data/imagenet\\\\n03424325\\\\' 'D:/data/imagenet\\\\n03445777\\\\'\n",
      " 'D:/data/imagenet\\\\n03445924\\\\' 'D:/data/imagenet\\\\n03447447\\\\'\n",
      " 'D:/data/imagenet\\\\n03459775\\\\' 'D:/data/imagenet\\\\n03478589\\\\'\n",
      " 'D:/data/imagenet\\\\n03485407\\\\' 'D:/data/imagenet\\\\n03485794\\\\'\n",
      " 'D:/data/imagenet\\\\n03492542\\\\' 'D:/data/imagenet\\\\n03494278\\\\'\n",
      " 'D:/data/imagenet\\\\n03495258\\\\' 'D:/data/imagenet\\\\n03496892\\\\'\n",
      " 'D:/data/imagenet\\\\n03527444\\\\' 'D:/data/imagenet\\\\n03529860\\\\'\n",
      " 'D:/data/imagenet\\\\n03532672\\\\' 'D:/data/imagenet\\\\n03538406\\\\'\n",
      " 'D:/data/imagenet\\\\n03584254\\\\' 'D:/data/imagenet\\\\n03584829\\\\'\n",
      " 'D:/data/imagenet\\\\n03590841\\\\' 'D:/data/imagenet\\\\n03594734\\\\'\n",
      " 'D:/data/imagenet\\\\n03595614\\\\' 'D:/data/imagenet\\\\n03661043\\\\'\n",
      " 'D:/data/imagenet\\\\n03662601\\\\' 'D:/data/imagenet\\\\n03670208\\\\'\n",
      " 'D:/data/imagenet\\\\n03673027\\\\' 'D:/data/imagenet\\\\n03680355\\\\'\n",
      " 'D:/data/imagenet\\\\n03691459\\\\' 'D:/data/imagenet\\\\n03692522\\\\'\n",
      " 'D:/data/imagenet\\\\n03697007\\\\' 'D:/data/imagenet\\\\n03706229\\\\'\n",
      " 'D:/data/imagenet\\\\n03709823\\\\' 'D:/data/imagenet\\\\n03710721\\\\'\n",
      " 'D:/data/imagenet\\\\n03717622\\\\' 'D:/data/imagenet\\\\n03724870\\\\'\n",
      " 'D:/data/imagenet\\\\n03733281\\\\' 'D:/data/imagenet\\\\n03742115\\\\'\n",
      " 'D:/data/imagenet\\\\n03759954\\\\' 'D:/data/imagenet\\\\n03769881\\\\'\n",
      " 'D:/data/imagenet\\\\n03770679\\\\' 'D:/data/imagenet\\\\n03776460\\\\'\n",
      " 'D:/data/imagenet\\\\n03782006\\\\' 'D:/data/imagenet\\\\n03786901\\\\'\n",
      " 'D:/data/imagenet\\\\n03787032\\\\' 'D:/data/imagenet\\\\n03788195\\\\'\n",
      " 'D:/data/imagenet\\\\n03788365\\\\' 'D:/data/imagenet\\\\n03792782\\\\'\n",
      " 'D:/data/imagenet\\\\n03792972\\\\' 'D:/data/imagenet\\\\n03796401\\\\'\n",
      " 'D:/data/imagenet\\\\n03803284\\\\' 'D:/data/imagenet\\\\n03814639\\\\'\n",
      " 'D:/data/imagenet\\\\n03814906\\\\' 'D:/data/imagenet\\\\n03825788\\\\'\n",
      " 'D:/data/imagenet\\\\n03837869\\\\' 'D:/data/imagenet\\\\n03843555\\\\'\n",
      " 'D:/data/imagenet\\\\n03857828\\\\' 'D:/data/imagenet\\\\n03868242\\\\'\n",
      " 'D:/data/imagenet\\\\n03877845\\\\' 'D:/data/imagenet\\\\n03888257\\\\'\n",
      " 'D:/data/imagenet\\\\n03891251\\\\' 'D:/data/imagenet\\\\n03895866\\\\'\n",
      " 'D:/data/imagenet\\\\n03902125\\\\' 'D:/data/imagenet\\\\n03908714\\\\'\n",
      " 'D:/data/imagenet\\\\n03929855\\\\' 'D:/data/imagenet\\\\n03930313\\\\'\n",
      " 'D:/data/imagenet\\\\n03930630\\\\' 'D:/data/imagenet\\\\n03933933\\\\'\n",
      " 'D:/data/imagenet\\\\n03938244\\\\' 'D:/data/imagenet\\\\n03947888\\\\'\n",
      " 'D:/data/imagenet\\\\n03954731\\\\' 'D:/data/imagenet\\\\n03958227\\\\'\n",
      " 'D:/data/imagenet\\\\n03961711\\\\' 'D:/data/imagenet\\\\n03967562\\\\'\n",
      " 'D:/data/imagenet\\\\n03976467\\\\' 'D:/data/imagenet\\\\n03977966\\\\'\n",
      " 'D:/data/imagenet\\\\n03998194\\\\' 'D:/data/imagenet\\\\n04005630\\\\'\n",
      " 'D:/data/imagenet\\\\n04019541\\\\' 'D:/data/imagenet\\\\n04023962\\\\'\n",
      " 'D:/data/imagenet\\\\n04033995\\\\' 'D:/data/imagenet\\\\n04037443\\\\'\n",
      " 'D:/data/imagenet\\\\n04041544\\\\' 'D:/data/imagenet\\\\n04044716\\\\'\n",
      " 'D:/data/imagenet\\\\n04065272\\\\' 'D:/data/imagenet\\\\n04069434\\\\'\n",
      " 'D:/data/imagenet\\\\n04070727\\\\' 'D:/data/imagenet\\\\n04090263\\\\'\n",
      " 'D:/data/imagenet\\\\n04146614\\\\' 'D:/data/imagenet\\\\n04147183\\\\'\n",
      " 'D:/data/imagenet\\\\n04152593\\\\' 'D:/data/imagenet\\\\n04162706\\\\'\n",
      " 'D:/data/imagenet\\\\n04201297\\\\' 'D:/data/imagenet\\\\n04204347\\\\'\n",
      " 'D:/data/imagenet\\\\n04209239\\\\' 'D:/data/imagenet\\\\n04229816\\\\'\n",
      " 'D:/data/imagenet\\\\n04238763\\\\' 'D:/data/imagenet\\\\n04243546\\\\'\n",
      " 'D:/data/imagenet\\\\n04252077\\\\' 'D:/data/imagenet\\\\n04252225\\\\'\n",
      " 'D:/data/imagenet\\\\n04263257\\\\' 'D:/data/imagenet\\\\n04264628\\\\'\n",
      " 'D:/data/imagenet\\\\n04273569\\\\' 'D:/data/imagenet\\\\n04275548\\\\'\n",
      " 'D:/data/imagenet\\\\n04285008\\\\' 'D:/data/imagenet\\\\n04286575\\\\'\n",
      " 'D:/data/imagenet\\\\n04296562\\\\' 'D:/data/imagenet\\\\n04310018\\\\'\n",
      " 'D:/data/imagenet\\\\n04326547\\\\' 'D:/data/imagenet\\\\n04328186\\\\'\n",
      " 'D:/data/imagenet\\\\n04335435\\\\' 'D:/data/imagenet\\\\n04344873\\\\'\n",
      " 'D:/data/imagenet\\\\n04347754\\\\' 'D:/data/imagenet\\\\n04350905\\\\'\n",
      " 'D:/data/imagenet\\\\n04355933\\\\' 'D:/data/imagenet\\\\n04356056\\\\'\n",
      " 'D:/data/imagenet\\\\n04372370\\\\' 'D:/data/imagenet\\\\n04389033\\\\'\n",
      " 'D:/data/imagenet\\\\n04392985\\\\' 'D:/data/imagenet\\\\n04404412\\\\'\n",
      " 'D:/data/imagenet\\\\n04409515\\\\' 'D:/data/imagenet\\\\n04417672\\\\'\n",
      " 'D:/data/imagenet\\\\n04418357\\\\' 'D:/data/imagenet\\\\n04428191\\\\'\n",
      " 'D:/data/imagenet\\\\n04435653\\\\' 'D:/data/imagenet\\\\n04458633\\\\'\n",
      " 'D:/data/imagenet\\\\n04461696\\\\' 'D:/data/imagenet\\\\n04467665\\\\'\n",
      " 'D:/data/imagenet\\\\n04479046\\\\' 'D:/data/imagenet\\\\n04483307\\\\'\n",
      " 'D:/data/imagenet\\\\n04487081\\\\' 'D:/data/imagenet\\\\n04509417\\\\'\n",
      " 'D:/data/imagenet\\\\n04515003\\\\' 'D:/data/imagenet\\\\n04523525\\\\'\n",
      " 'D:/data/imagenet\\\\n04525305\\\\' 'D:/data/imagenet\\\\n04542943\\\\'\n",
      " 'D:/data/imagenet\\\\n04550184\\\\' 'D:/data/imagenet\\\\n04552348\\\\'\n",
      " 'D:/data/imagenet\\\\n04579432\\\\' 'D:/data/imagenet\\\\n04584207\\\\'\n",
      " 'D:/data/imagenet\\\\n04589890\\\\' 'D:/data/imagenet\\\\n04590129\\\\'\n",
      " 'D:/data/imagenet\\\\n04591157\\\\' 'D:/data/imagenet\\\\n04592741\\\\'\n",
      " 'D:/data/imagenet\\\\n04604644\\\\' 'D:/data/imagenet\\\\n04606251\\\\'\n",
      " 'D:/data/imagenet\\\\n04612504\\\\' 'D:/data/imagenet\\\\n04613696\\\\'\n",
      " 'D:/data/imagenet\\\\n06359193\\\\' 'D:/data/imagenet\\\\n07248320\\\\'\n",
      " 'D:/data/imagenet\\\\n07565083\\\\' 'D:/data/imagenet\\\\n07579787\\\\'\n",
      " 'D:/data/imagenet\\\\n07584110\\\\' 'D:/data/imagenet\\\\n07613480\\\\'\n",
      " 'D:/data/imagenet\\\\n07614500\\\\' 'D:/data/imagenet\\\\n07697313\\\\'\n",
      " 'D:/data/imagenet\\\\n07697537\\\\' 'D:/data/imagenet\\\\n07714571\\\\'\n",
      " 'D:/data/imagenet\\\\n07802026\\\\' 'D:/data/imagenet\\\\n07831146\\\\'\n",
      " 'D:/data/imagenet\\\\n07836838\\\\' 'D:/data/imagenet\\\\n07920052\\\\'\n",
      " 'D:/data/imagenet\\\\n07932039\\\\' 'D:/data/imagenet\\\\n09193705\\\\'\n",
      " 'D:/data/imagenet\\\\n09246464\\\\' 'D:/data/imagenet\\\\n09256479\\\\'\n",
      " 'D:/data/imagenet\\\\n09288635\\\\' 'D:/data/imagenet\\\\n09332890\\\\'\n",
      " 'D:/data/imagenet\\\\n09399592\\\\' 'D:/data/imagenet\\\\n09421951\\\\'\n",
      " 'D:/data/imagenet\\\\n09428293\\\\' 'D:/data/imagenet\\\\n09468604\\\\'\n",
      " 'D:/data/imagenet\\\\n09472597\\\\' 'D:/data/imagenet\\\\n10148035\\\\'\n",
      " 'D:/data/imagenet\\\\n10565667\\\\' 'D:/data/imagenet\\\\n11879895\\\\'\n",
      " 'D:/data/imagenet\\\\n11939491\\\\' 'D:/data/imagenet\\\\n12057211\\\\'\n",
      " 'D:/data/imagenet\\\\n12985857\\\\' 'D:/data/imagenet\\\\n12998815\\\\'\n",
      " 'D:/data/imagenet\\\\n13044778\\\\' 'D:/data/imagenet\\\\n13052670\\\\']\n"
     ]
    }
   ],
   "source": [
    "import pickle\n",
    "\n",
    "# Loading the list from the pickle file\n",
    "file_path = r\"D:\\combo_list.pickle\"  # Update the file path if necessary\n",
    "\n",
    "with open(file_path, 'rb') as file:\n",
    "    loaded_combo_list = pickle.load(file)\n",
    "\n",
    "print(\"Combo list loaded successfully.\")\n",
    "print(loaded_combo_list)\n"
   ]
  },
  {
   "cell_type": "code",
   "execution_count": null,
   "id": "0e12fe31",
   "metadata": {},
   "outputs": [],
   "source": []
  },
  {
   "cell_type": "code",
   "execution_count": null,
   "id": "3b9b7ae8",
   "metadata": {},
   "outputs": [],
   "source": []
  },
  {
   "cell_type": "code",
   "execution_count": null,
   "id": "6f6bd347",
   "metadata": {},
   "outputs": [],
   "source": []
  },
  {
   "cell_type": "code",
   "execution_count": null,
   "id": "570fba0a",
   "metadata": {},
   "outputs": [],
   "source": []
  },
  {
   "cell_type": "code",
   "execution_count": null,
   "id": "a60ec790",
   "metadata": {},
   "outputs": [],
   "source": []
  },
  {
   "cell_type": "code",
   "execution_count": null,
   "id": "87186a39",
   "metadata": {},
   "outputs": [],
   "source": []
  },
  {
   "cell_type": "code",
   "execution_count": null,
   "id": "5bc427dd",
   "metadata": {},
   "outputs": [],
   "source": []
  },
  {
   "cell_type": "code",
   "execution_count": null,
   "id": "790a762d",
   "metadata": {},
   "outputs": [],
   "source": []
  },
  {
   "cell_type": "code",
   "execution_count": null,
   "id": "cc8d5acf",
   "metadata": {},
   "outputs": [],
   "source": []
  },
  {
   "cell_type": "code",
   "execution_count": null,
   "id": "f571ec63",
   "metadata": {},
   "outputs": [],
   "source": []
  },
  {
   "cell_type": "code",
   "execution_count": 5,
   "id": "96fd7ec5",
   "metadata": {},
   "outputs": [
    {
     "name": "stdout",
     "output_type": "stream",
     "text": [
      "File exists: F:\\D-Video\\Python\n",
      "File is readable: F:\\D-Video\\Python\n"
     ]
    }
   ],
   "source": [
    "import os\n",
    "\n",
    "file_path = r\"F:\\D-Video\\Python\"\n",
    "\n",
    "# Check if the file exists\n",
    "if os.path.exists(file_path):\n",
    "    print(f\"File exists: {file_path}\")\n",
    "else:\n",
    "    print(f\"File does not exist: {file_path}\")\n",
    "\n",
    "# Check if the file is readable\n",
    "if os.access(file_path, os.R_OK):\n",
    "    print(f\"File is readable: {file_path}\")\n",
    "else:\n",
    "    print(f\"File is not readable: {file_path}\")\n"
   ]
  },
  {
   "cell_type": "code",
   "execution_count": null,
   "id": "a25eec36",
   "metadata": {},
   "outputs": [],
   "source": []
  },
  {
   "cell_type": "code",
   "execution_count": null,
   "id": "f1c0f1fc",
   "metadata": {},
   "outputs": [],
   "source": []
  },
  {
   "cell_type": "code",
   "execution_count": null,
   "id": "645e5a6d",
   "metadata": {},
   "outputs": [],
   "source": []
  },
  {
   "cell_type": "code",
   "execution_count": null,
   "id": "fb54915b",
   "metadata": {},
   "outputs": [],
   "source": []
  }
 ],
 "metadata": {
  "kernelspec": {
   "display_name": "Python 3 (ipykernel)",
   "language": "python",
   "name": "python3"
  },
  "language_info": {
   "codemirror_mode": {
    "name": "ipython",
    "version": 3
   },
   "file_extension": ".py",
   "mimetype": "text/x-python",
   "name": "python",
   "nbconvert_exporter": "python",
   "pygments_lexer": "ipython3",
   "version": "3.8.18"
  }
 },
 "nbformat": 4,
 "nbformat_minor": 5
}
