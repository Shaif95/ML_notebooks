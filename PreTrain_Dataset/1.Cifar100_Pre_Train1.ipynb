{
 "cells": [
  {
   "cell_type": "code",
   "execution_count": 1,
   "id": "379e3cbd",
   "metadata": {},
   "outputs": [],
   "source": [
    "import tensorflow as tf\n",
    "from tensorflow import keras\n",
    "from tensorflow.keras.datasets import cifar10\n",
    "from tensorflow.keras.applications import MobileNet\n",
    "from tensorflow.keras.models import Sequential\n",
    "from tensorflow.keras.layers import Dense, GlobalAveragePooling2D\n",
    "from tensorflow.keras.optimizers import Adam\n",
    "from tensorflow.keras.preprocessing.image import ImageDataGenerator\n",
    "\n",
    "# Load the CIFAR-100 dataset\n",
    "(x_train, y_train), (x_test, y_test) = cifar10.load_data()\n",
    "\n",
    "# Normalize the pixel values between 0 and 1\n",
    "x_train = x_train.astype('float32') / 255.0\n",
    "x_test = x_test.astype('float32') / 255.0\n",
    "\n",
    "# Convert the labels to one-hot encoding\n",
    "y_train = keras.utils.to_categorical(y_train, 100)\n",
    "y_test = keras.utils.to_categorical(y_test, 100)\n"
   ]
  },
  {
   "cell_type": "code",
   "execution_count": 1,
   "id": "e329042b",
   "metadata": {},
   "outputs": [
    {
     "name": "stderr",
     "output_type": "stream",
     "text": [
      "100%|██████████████████████████████████████████████████████████████████████████████████| 10/10 [00:09<00:00,  1.11it/s]"
     ]
    },
    {
     "name": "stdout",
     "output_type": "stream",
     "text": [
      "X_train shape: (29009, 32, 32, 3)\n",
      "Y_train shape: (29009,)\n"
     ]
    },
    {
     "name": "stderr",
     "output_type": "stream",
     "text": [
      "\n"
     ]
    }
   ],
   "source": [
    "import os\n",
    "from PIL import Image\n",
    "import numpy as np\n",
    "from sklearn.preprocessing import LabelEncoder, OneHotEncoder\n",
    "from tqdm import tqdm\n",
    "\n",
    "# Define the path to the directory\n",
    "directory_path = r\"E:\\imbcifar\\train\"\n",
    "\n",
    "# Initialize empty lists for images and labels\n",
    "X_train = []\n",
    "Y_train = []\n",
    "class_label = 0\n",
    "\n",
    "# Loop through subdirectories (classes)\n",
    "for class_folder in tqdm(sorted(os.listdir(directory_path))):\n",
    "    class_path = os.path.join(directory_path, class_folder)\n",
    "    \n",
    "    for image_file in os.listdir(class_path):\n",
    "        if image_file.endswith('.png'):\n",
    "            image_path = os.path.join(class_path, image_file)\n",
    "            \n",
    "            # Load image, convert to RGB and resize\n",
    "            img = Image.open(image_path).convert('RGB')\n",
    "            img = img.resize((32, 32))\n",
    "            img_array = np.array(img)\n",
    "            \n",
    "            # Append image and label to lists\n",
    "            X_train.append(img_array)\n",
    "            Y_train.append(class_label)\n",
    "            \n",
    "    class_label = class_label + 1\n",
    "\n",
    "# Convert lists to numpy arrays\n",
    "X_train = np.array(X_train)\n",
    "Y_train = np.array(Y_train)\n",
    "\n",
    "print(f'X_train shape: {X_train.shape}')\n",
    "print(f'Y_train shape: {Y_train.shape}')"
   ]
  },
  {
   "cell_type": "code",
   "execution_count": null,
   "id": "37702c4e",
   "metadata": {},
   "outputs": [],
   "source": []
  },
  {
   "cell_type": "code",
   "execution_count": null,
   "id": "833ce9bf",
   "metadata": {},
   "outputs": [],
   "source": []
  },
  {
   "cell_type": "code",
   "execution_count": 1,
   "id": "6bc75184",
   "metadata": {},
   "outputs": [
    {
     "name": "stderr",
     "output_type": "stream",
     "text": [
      "C:\\Users\\shaif\\AppData\\Local\\Temp\\ipykernel_16216\\1555111213.py:18: DeprecationWarning: ANTIALIAS is deprecated and will be removed in Pillow 10 (2023-07-01). Use LANCZOS or Resampling.LANCZOS instead.\n",
      "  img = img.resize((32, 32), Image.ANTIALIAS)\n"
     ]
    },
    {
     "name": "stdout",
     "output_type": "stream",
     "text": [
      "Cannot open desktop.ini as an image.\n",
      "Cannot open desktop.ini as an image.\n",
      "Cannot open desktop.ini as an image.\n",
      "Cannot open desktop.ini as an image.\n",
      "Cannot open desktop.ini as an image.\n",
      "Cannot open desktop.ini as an image.\n",
      "Cannot open desktop.ini as an image.\n",
      "Cannot open desktop.ini as an image.\n",
      "Cannot open desktop.ini as an image.\n",
      "Cannot open desktop.ini as an image.\n",
      "Cannot open desktop.ini as an image.\n",
      "Cannot open desktop.ini as an image.\n",
      "Cannot open desktop.ini as an image.\n",
      "Cannot open desktop.ini as an image.\n",
      "Cannot open desktop.ini as an image.\n",
      "Cannot open desktop.ini as an image.\n",
      "Cannot open desktop.ini as an image.\n",
      "Cannot open desktop.ini as an image.\n",
      "Cannot open desktop.ini as an image.\n"
     ]
    }
   ],
   "source": [
    "from PIL import Image\n",
    "import numpy as np\n",
    "import os\n",
    "\n",
    "def read_and_process_images(base_dir):\n",
    "    images = []\n",
    "    # Iterate through all subdirectories\n",
    "    for subdir, dirs, files in os.walk(base_dir):\n",
    "        for file in files:\n",
    "            # Construct the full file path\n",
    "            filepath = os.path.join(subdir, file)\n",
    "            try:\n",
    "                # Open the image\n",
    "                with Image.open(filepath) as img:\n",
    "                    # Convert to RGB\n",
    "                    img = img.convert('RGB')\n",
    "                    # Resize to 32x32\n",
    "                    img = img.resize((32, 32), Image.ANTIALIAS)\n",
    "                    # Convert to numpy array and scale\n",
    "                    img_array = np.asarray(img, dtype=np.float32) / 255\n",
    "                    images.append(img_array)\n",
    "            except IOError:\n",
    "                # Handle the case where the file could not be opened as an image\n",
    "                print(f\"Cannot open {file} as an image.\")\n",
    "                \n",
    "    return images\n",
    "\n",
    "base_dir = r\"D:\\datasets\\Underwater_Image\\WHOI\\archive\\dataset_pm\\training\"\n",
    "X_train = read_and_process_images(base_dir)"
   ]
  },
  {
   "cell_type": "code",
   "execution_count": 1,
   "id": "251b8092",
   "metadata": {},
   "outputs": [
    {
     "name": "stdout",
     "output_type": "stream",
     "text": [
      "Shape of X_train: (11276, 32, 32, 3)\n"
     ]
    }
   ],
   "source": [
    "import tensorflow as tf\n",
    "from tensorflow.keras.applications import ResNet50\n",
    "from tensorflow.keras.models import Sequential\n",
    "from tensorflow.keras.layers import Dense, GlobalAveragePooling2D\n",
    "from tensorflow.keras.optimizers import Adam\n",
    "from tensorflow.keras.preprocessing.image import ImageDataGenerator\n",
    "import os\n",
    "from PIL import Image\n",
    "import numpy as np\n",
    "from sklearn.preprocessing import LabelEncoder\n",
    "from tensorflow.keras.utils import to_categorical\n",
    "\n",
    "# Define the paths to your dataset folders\n",
    "train_dataset_dir = r\"D:\\datasets\\Underwater_Image\\LIMUC (Labeled Images for Ulcerative Colitis)\\train_and_validation_sets\\train_and_validation_sets\"\n",
    "test_dataset_dir = r\"D:\\datasets\\Underwater_Image\\LIMUC (Labeled Images for Ulcerative Colitis)\\test_set\\test_set\"\n",
    "\n",
    "# Initialize empty lists for X_train, Y_train, X_test, and Y_test\n",
    "X_train = []\n",
    "Y_train = []\n",
    "X_test = []\n",
    "Y_test = []\n",
    "\n",
    "# Initialize an empty list to store categorical labels\n",
    "categorical_labels = []\n",
    "\n",
    "# Define a function to read and preprocess images\n",
    "def process_images(folder_path, label, is_train_set=True):\n",
    "    for filename in os.listdir(folder_path):\n",
    "        file_path = os.path.join(folder_path, filename)\n",
    "        if os.path.isfile(file_path) and filename.endswith(\".bmp\"):  # Check if it's a file and ends with .bmp\n",
    "            # Open and resize the image to (32, 32, 3)\n",
    "            img = Image.open(file_path)\n",
    "            img = img.resize((32, 32))\n",
    "            img = img.convert(\"RGB\")\n",
    "            \n",
    "            # Convert image data to a NumPy array\n",
    "            img_array = np.array(img).astype('float32')  # Convert to float\n",
    "            \n",
    "            # Normalize the image data (optional)\n",
    "            img_array /= 255.0  # Normalize pixel values to [0, 1]\n",
    "            \n",
    "            # Append the image data to the appropriate list\n",
    "            if is_train_set:\n",
    "                X_train.append(img_array)\n",
    "                Y_train.append(label)  # Append the numerical label\n",
    "            else:\n",
    "                X_test.append(img_array)\n",
    "                Y_test.append(label)  # Append the numerical label\n",
    "            \n",
    "            # Append the label for categorical encoding\n",
    "            categorical_labels.append(label)  # Append the numerical label\n",
    "\n",
    "# List the folders inside the training dataset directory\n",
    "train_folders = os.listdir(train_dataset_dir)\n",
    "\n",
    "# Create a label encoder for categorical labels\n",
    "label_encoder = LabelEncoder()\n",
    "\n",
    "# Loop through the training folders and process images\n",
    "for label, folder_name in enumerate(train_folders):\n",
    "    folder_path = os.path.join(train_dataset_dir, folder_name)\n",
    "    if os.path.isdir(folder_path):  # Check if it's a directory\n",
    "        process_images(folder_path, label)\n",
    "\n",
    "# List the folders inside the test dataset directory\n",
    "test_folders = os.listdir(test_dataset_dir)\n",
    "\n",
    "# Loop through the test folders and process images\n",
    "for label, folder_name in enumerate(test_folders):\n",
    "    folder_path = os.path.join(test_dataset_dir, folder_name)\n",
    "    if os.path.isdir(folder_path):  # Check if it's a directory\n",
    "        process_images(folder_path, label, is_train_set=False)\n",
    "        \n",
    "        \n",
    "        \n",
    "x_train = np.concatenate((X_train, X_test), axis=0)\n",
    "# Check the shape of X_train, Y_train_categorical, X_test, and Y_test_categorical\n",
    "print(\"Shape of X_train:\", np.shape(x_train))"
   ]
  },
  {
   "cell_type": "code",
   "execution_count": null,
   "id": "ffc5d638",
   "metadata": {},
   "outputs": [],
   "source": []
  },
  {
   "cell_type": "code",
   "execution_count": null,
   "id": "d31e60f0",
   "metadata": {},
   "outputs": [],
   "source": []
  },
  {
   "cell_type": "code",
   "execution_count": 2,
   "id": "0c549f87",
   "metadata": {},
   "outputs": [],
   "source": [
    "import os\n",
    "import numpy as np\n",
    "from PIL import Image\n",
    "from sklearn.model_selection import train_test_split\n",
    "from tensorflow.keras.utils import to_categorical\n",
    "from tensorflow.keras.applications.resnet import ResNet50, preprocess_input\n",
    "import glob\n",
    "\n",
    "target_size = (32, 32)  # Change the values as per your requirement\n",
    "# Load the pre-trained ResNet50 model with modified input shape\n",
    "model = ResNet50(weights='imagenet', include_top=False, pooling='avg', input_shape=(target_size[0], target_size[1], 3))"
   ]
  },
  {
   "cell_type": "code",
   "execution_count": 7,
   "id": "d0c9ee00",
   "metadata": {},
   "outputs": [
    {
     "data": {
      "text/html": [
       "<div>\n",
       "<style scoped>\n",
       "    .dataframe tbody tr th:only-of-type {\n",
       "        vertical-align: middle;\n",
       "    }\n",
       "\n",
       "    .dataframe tbody tr th {\n",
       "        vertical-align: top;\n",
       "    }\n",
       "\n",
       "    .dataframe thead th {\n",
       "        text-align: right;\n",
       "    }\n",
       "</style>\n",
       "<table border=\"1\" class=\"dataframe\">\n",
       "  <thead>\n",
       "    <tr style=\"text-align: right;\">\n",
       "      <th></th>\n",
       "      <th>Feature 0</th>\n",
       "      <th>Feature 1</th>\n",
       "      <th>Feature 2</th>\n",
       "      <th>Feature 3</th>\n",
       "      <th>Feature 4</th>\n",
       "      <th>Feature 5</th>\n",
       "      <th>Feature 6</th>\n",
       "      <th>Feature 7</th>\n",
       "      <th>Feature 8</th>\n",
       "      <th>Feature 9</th>\n",
       "      <th>...</th>\n",
       "      <th>Feature 2038</th>\n",
       "      <th>Feature 2039</th>\n",
       "      <th>Feature 2040</th>\n",
       "      <th>Feature 2041</th>\n",
       "      <th>Feature 2042</th>\n",
       "      <th>Feature 2043</th>\n",
       "      <th>Feature 2044</th>\n",
       "      <th>Feature 2045</th>\n",
       "      <th>Feature 2046</th>\n",
       "      <th>Feature 2047</th>\n",
       "    </tr>\n",
       "  </thead>\n",
       "  <tbody>\n",
       "    <tr>\n",
       "      <th>0</th>\n",
       "      <td>0.0</td>\n",
       "      <td>0.0</td>\n",
       "      <td>0.0</td>\n",
       "      <td>0.0</td>\n",
       "      <td>0.0</td>\n",
       "      <td>0.0</td>\n",
       "      <td>0.0</td>\n",
       "      <td>0.0</td>\n",
       "      <td>0.0</td>\n",
       "      <td>0.0</td>\n",
       "      <td>...</td>\n",
       "      <td>0.0</td>\n",
       "      <td>0.0</td>\n",
       "      <td>0.009121</td>\n",
       "      <td>0.0</td>\n",
       "      <td>0.0</td>\n",
       "      <td>0.0</td>\n",
       "      <td>0.0</td>\n",
       "      <td>3.285227</td>\n",
       "      <td>0.0</td>\n",
       "      <td>0.0</td>\n",
       "    </tr>\n",
       "  </tbody>\n",
       "</table>\n",
       "<p>1 rows × 2048 columns</p>\n",
       "</div>"
      ],
      "text/plain": [
       "   Feature 0  Feature 1  Feature 2  Feature 3  Feature 4  Feature 5  \\\n",
       "0        0.0        0.0        0.0        0.0        0.0        0.0   \n",
       "\n",
       "   Feature 6  Feature 7  Feature 8  Feature 9  ...  Feature 2038  \\\n",
       "0        0.0        0.0        0.0        0.0  ...           0.0   \n",
       "\n",
       "   Feature 2039  Feature 2040  Feature 2041  Feature 2042  Feature 2043  \\\n",
       "0           0.0      0.009121           0.0           0.0           0.0   \n",
       "\n",
       "   Feature 2044  Feature 2045  Feature 2046  Feature 2047  \n",
       "0           0.0      3.285227           0.0           0.0  \n",
       "\n",
       "[1 rows x 2048 columns]"
      ]
     },
     "execution_count": 7,
     "metadata": {},
     "output_type": "execute_result"
    }
   ],
   "source": [
    "import pandas as pd\n",
    "# Define the file path\n",
    "file_path = r\"F:\\feature.csv\"\n",
    "# Read the tab-separated CSV file into a DataFrame\n",
    "df = pd.read_csv(file_path, delimiter='\\t')\n",
    "columns_to_drop = [df.columns[0], df.columns[-1]]\n",
    "data = df.drop(columns_to_drop, axis=1)\n",
    "# Display the head of the DataFrame\n",
    "data.head(1)"
   ]
  },
  {
   "cell_type": "code",
   "execution_count": 4,
   "id": "06649222",
   "metadata": {},
   "outputs": [
    {
     "data": {
      "text/plain": [
       "(4357, 32, 32, 3)"
      ]
     },
     "execution_count": 4,
     "metadata": {},
     "output_type": "execute_result"
    }
   ],
   "source": [
    "np.shape(X_train)"
   ]
  },
  {
   "cell_type": "code",
   "execution_count": 4,
   "id": "6afbd946",
   "metadata": {},
   "outputs": [],
   "source": []
  },
  {
   "cell_type": "code",
   "execution_count": 4,
   "id": "424d8e32",
   "metadata": {},
   "outputs": [],
   "source": [
    "from PIL import Image\n",
    "import numpy as np\n",
    "ft = model.predict(np.array(X_train).astype(\"float32\"))"
   ]
  },
  {
   "cell_type": "code",
   "execution_count": 5,
   "id": "e61ee04e",
   "metadata": {},
   "outputs": [
    {
     "name": "stderr",
     "output_type": "stream",
     "text": [
      "C:\\Users\\shaif\\anaconda3\\lib\\site-packages\\sklearn\\cluster\\_kmeans.py:870: FutureWarning: The default value of `n_init` will change from 3 to 'auto' in 1.4. Set the value of `n_init` explicitly to suppress the warning\n",
      "  warnings.warn(\n",
      "C:\\Users\\shaif\\anaconda3\\lib\\site-packages\\sklearn\\cluster\\_kmeans.py:1902: UserWarning: MiniBatchKMeans is known to have a memory leak on Windows with MKL, when there are less chunks than available threads. You can prevent it by setting batch_size >= 5120 or by setting the environment variable OMP_NUM_THREADS=1\n",
      "  warnings.warn(\n"
     ]
    }
   ],
   "source": [
    "from sklearn.cluster import MiniBatchKMeans\n",
    "\n",
    "n_clusters = 15\n",
    "batch_size = 100\n",
    "max_iter = 100\n",
    "\n",
    "kmeans = MiniBatchKMeans(n_clusters=n_clusters, batch_size=batch_size, max_iter=max_iter)\n",
    "kmeans.fit(ft)\n",
    "# Retrieve the cluster centers\n",
    "ct = kmeans.cluster_centers_.tolist()"
   ]
  },
  {
   "cell_type": "code",
   "execution_count": 6,
   "id": "400c3f1b",
   "metadata": {
    "scrolled": true
   },
   "outputs": [
    {
     "name": "stderr",
     "output_type": "stream",
     "text": [
      "100%|███████████████████████████████████████████████████████████| 15/15 [00:33<00:00,  2.25s/it]"
     ]
    },
    {
     "name": "stdout",
     "output_type": "stream",
     "text": [
      "(15, 10450)\n",
      "(15, 10450)\n"
     ]
    },
    {
     "name": "stderr",
     "output_type": "stream",
     "text": [
      "\n"
     ]
    }
   ],
   "source": [
    "from tqdm import tqdm\n",
    "\n",
    "combo_list = []  # Initialize combo_list\n",
    "tot_dist = []\n",
    "# Iterate over ft\n",
    "for i in tqdm(range(len(ct))):\n",
    "    distances = []\n",
    "\n",
    "    # Calculate distances for each row in data\n",
    "    for index, row in data.iterrows():\n",
    "        row_array = row.to_numpy()  # Convert row to numpy array\n",
    "        distance = np.linalg.norm(ct[i] - row_array)  # Calculate Euclidean distance\n",
    "        distances.append(distance)\n",
    "\n",
    "    tot_dist.append(distances)\n",
    "print(np.shape(tot_dist))\n",
    "#new_shape = (1000, 30)\n",
    "#re_dist = np.transpose(tot_dist, (1, 0))\n",
    "re_dist = tot_dist\n",
    "print(np.shape(re_dist))"
   ]
  },
  {
   "cell_type": "code",
   "execution_count": 7,
   "id": "c5ba3d01",
   "metadata": {},
   "outputs": [
    {
     "name": "stdout",
     "output_type": "stream",
     "text": [
      "Combo list saved successfully.\n"
     ]
    }
   ],
   "source": [
    "import pickle\n",
    "\n",
    "# Saving the list to a file in the D: drive\n",
    "file_path = r\"F:\\dist_list.pickle\"  # r prefix is used for raw string to avoid escape characters\n",
    "\n",
    "with open(file_path, 'wb') as file:\n",
    "    pickle.dump(re_dist, file)\n",
    "\n",
    "print(\"Combo list saved successfully.\")"
   ]
  },
  {
   "cell_type": "code",
   "execution_count": 7,
   "id": "c1af5e5d",
   "metadata": {},
   "outputs": [
    {
     "data": {
      "text/plain": [
       "400"
      ]
     },
     "execution_count": 7,
     "metadata": {},
     "output_type": "execute_result"
    }
   ],
   "source": [
    "len(index_list)"
   ]
  },
  {
   "cell_type": "code",
   "execution_count": null,
   "id": "43511453",
   "metadata": {},
   "outputs": [],
   "source": []
  },
  {
   "cell_type": "code",
   "execution_count": 6,
   "id": "ee431086",
   "metadata": {},
   "outputs": [
    {
     "name": "stdout",
     "output_type": "stream",
     "text": [
      "Combo list loaded successfully.\n",
      "[7, 16, 18, 19, 21, 22, 23, 51, 87, 88, 89, 93, 95, 96, 105, 112, 117, 121, 122, 125, 130, 132, 144, 145, 151, 152, 153, 154, 155, 156, 157, 158, 161, 162, 164, 165, 166, 167, 169, 173, 174, 175, 176, 179, 180, 181, 183, 188, 190, 194, 195, 196, 197, 198, 199, 200, 201, 204, 205, 206, 208, 212, 214, 215, 216, 217, 218, 219, 221, 222, 223, 224, 226, 227, 228, 229, 230, 231, 232, 233, 234, 236, 237, 238, 239, 240, 241, 242, 243, 244, 245, 246, 247, 248, 249, 250, 251, 252, 253, 254, 256, 257, 258, 261, 262, 264, 265, 266, 267, 268, 284, 295, 297, 302, 306, 321, 324, 332, 338, 355, 359, 361, 364, 366, 367, 368, 369, 370, 374, 375, 377, 378, 379, 380, 381, 382, 383, 384, 387, 388, 389, 391, 392, 399, 400, 401, 402, 409, 413, 414, 417, 420, 422, 423, 424, 426, 429, 432, 433, 439, 440, 441, 442, 445, 446, 447, 448, 450, 451, 452, 456, 457, 459, 461, 464, 465, 466, 469, 473, 475, 477, 479, 486, 487, 488, 494, 496, 499, 501, 502, 504, 505, 506, 507, 512, 513, 515, 518, 521, 523, 524, 526, 527, 528, 531, 535, 541, 542, 543, 544, 546, 550, 551, 552, 558, 560, 563, 564, 566, 567, 568, 570, 571, 574, 575, 577, 578, 579, 581, 585, 587, 589, 590, 591, 592, 593, 594, 596, 597, 600, 602, 604, 605, 606, 608, 610, 613, 614, 615, 616, 617, 618, 620, 622, 623, 626, 629, 630, 632, 633, 635, 636, 638, 639, 641, 643, 644, 650, 655, 658, 661, 662, 664, 666, 667, 670, 673, 676, 678, 679, 681, 683, 684, 685, 686, 689, 691, 695, 696, 699, 700, 704, 707, 710, 711, 714, 720, 725, 726, 728, 732, 740, 742, 745, 746, 747, 749, 754, 758, 759, 761, 767, 768, 770, 774, 775, 776, 778, 784, 785, 786, 787, 789, 795, 796, 800, 802, 805, 808, 809, 810, 813, 816, 818, 819, 822, 823, 824, 826, 828, 830, 834, 836, 837, 841, 844, 845, 849, 850, 861, 862, 863, 869, 872, 875, 878, 879, 882, 887, 889, 891, 892, 893, 897, 902, 903, 906, 907, 909, 920, 923, 924, 925, 926, 927, 928, 929, 932, 933, 934, 935, 939, 941, 943, 949, 952, 956, 957, 960, 962, 965, 966, 967, 968, 969, 982, 985, 990, 994, 995]\n"
     ]
    }
   ],
   "source": [
    "import pickle\n",
    "\n",
    "# Loading the list from the pickle file\n",
    "file_path = r\"F:\\index_list.pickle\"  # Update the file path if necessary\n",
    "\n",
    "with open(file_path, 'rb') as file:\n",
    "    index_list = pickle.load(file)\n",
    "\n",
    "print(\"Combo list loaded successfully.\")\n",
    "print(index_list)\n"
   ]
  },
  {
   "cell_type": "code",
   "execution_count": 5,
   "id": "eba86a44",
   "metadata": {},
   "outputs": [
    {
     "data": {
      "text/plain": [
       "Index(['Directory', 'Feature 0', 'Feature 1', 'Feature 2', 'Feature 3',\n",
       "       'Feature 4', 'Feature 5', 'Feature 6', 'Feature 7', 'Feature 8',\n",
       "       ...\n",
       "       'Feature 2039', 'Feature 2040', 'Feature 2041', 'Feature 2042',\n",
       "       'Feature 2043', 'Feature 2044', 'Feature 2045', 'Feature 2046',\n",
       "       'Feature 2047', 'Unnamed: 2049'],\n",
       "      dtype='object', length=2050)"
      ]
     },
     "execution_count": 5,
     "metadata": {},
     "output_type": "execute_result"
    }
   ],
   "source": [
    "df.columns"
   ]
  },
  {
   "cell_type": "code",
   "execution_count": 10,
   "id": "8ede097d",
   "metadata": {},
   "outputs": [],
   "source": [
    "selected_data = df.loc[index_list, ['Name']].to_numpy().flatten()"
   ]
  },
  {
   "cell_type": "code",
   "execution_count": null,
   "id": "e89170a8",
   "metadata": {},
   "outputs": [],
   "source": []
  },
  {
   "cell_type": "code",
   "execution_count": null,
   "id": "81d3dc2d",
   "metadata": {},
   "outputs": [],
   "source": []
  },
  {
   "cell_type": "code",
   "execution_count": 11,
   "id": "c5f11d72",
   "metadata": {},
   "outputs": [
    {
     "name": "stdout",
     "output_type": "stream",
     "text": [
      "Combo list saved successfully.\n"
     ]
    }
   ],
   "source": [
    "import pickle\n",
    "\n",
    "# Saving the list to a file in the D: drive\n",
    "file_path = r\"F:\\combo_list.pickle\"  # r prefix is used for raw string to avoid escape characters\n",
    "\n",
    "with open(file_path, 'wb') as file:\n",
    "    pickle.dump(selected_data, file)\n",
    "\n",
    "print(\"Combo list saved successfully.\")\n"
   ]
  },
  {
   "cell_type": "code",
   "execution_count": 12,
   "id": "ebce419a",
   "metadata": {},
   "outputs": [
    {
     "name": "stdout",
     "output_type": "stream",
     "text": [
      "Combo list loaded successfully.\n",
      "['D:/data/imagenet\\\\n01514668\\\\' 'D:/data/imagenet\\\\n01560419\\\\'\n",
      " 'D:/data/imagenet\\\\n01582220\\\\' 'D:/data/imagenet\\\\n01592084\\\\'\n",
      " 'D:/data/imagenet\\\\n01608432\\\\' 'D:/data/imagenet\\\\n01614925\\\\'\n",
      " 'D:/data/imagenet\\\\n01616318\\\\' 'D:/data/imagenet\\\\n01704323\\\\'\n",
      " 'D:/data/imagenet\\\\n01817953\\\\' 'D:/data/imagenet\\\\n01818515\\\\'\n",
      " 'D:/data/imagenet\\\\n01819313\\\\' 'D:/data/imagenet\\\\n01829413\\\\'\n",
      " 'D:/data/imagenet\\\\n01843065\\\\' 'D:/data/imagenet\\\\n01843383\\\\'\n",
      " 'D:/data/imagenet\\\\n01882714\\\\' 'D:/data/imagenet\\\\n01943899\\\\'\n",
      " 'D:/data/imagenet\\\\n01968897\\\\' 'D:/data/imagenet\\\\n01981276\\\\'\n",
      " 'D:/data/imagenet\\\\n01983481\\\\' 'D:/data/imagenet\\\\n01986214\\\\'\n",
      " 'D:/data/imagenet\\\\n02007558\\\\' 'D:/data/imagenet\\\\n02009912\\\\'\n",
      " 'D:/data/imagenet\\\\n02051845\\\\' 'D:/data/imagenet\\\\n02056570\\\\'\n",
      " 'D:/data/imagenet\\\\n02085620\\\\' 'D:/data/imagenet\\\\n02085782\\\\'\n",
      " 'D:/data/imagenet\\\\n02085936\\\\' 'D:/data/imagenet\\\\n02086079\\\\'\n",
      " 'D:/data/imagenet\\\\n02086240\\\\' 'D:/data/imagenet\\\\n02086646\\\\'\n",
      " 'D:/data/imagenet\\\\n02086910\\\\' 'D:/data/imagenet\\\\n02087046\\\\'\n",
      " 'D:/data/imagenet\\\\n02088238\\\\' 'D:/data/imagenet\\\\n02088364\\\\'\n",
      " 'D:/data/imagenet\\\\n02088632\\\\' 'D:/data/imagenet\\\\n02089078\\\\'\n",
      " 'D:/data/imagenet\\\\n02089867\\\\' 'D:/data/imagenet\\\\n02089973\\\\'\n",
      " 'D:/data/imagenet\\\\n02090622\\\\' 'D:/data/imagenet\\\\n02091244\\\\'\n",
      " 'D:/data/imagenet\\\\n02091467\\\\' 'D:/data/imagenet\\\\n02091635\\\\'\n",
      " 'D:/data/imagenet\\\\n02091831\\\\' 'D:/data/imagenet\\\\n02093256\\\\'\n",
      " 'D:/data/imagenet\\\\n02093428\\\\' 'D:/data/imagenet\\\\n02093647\\\\'\n",
      " 'D:/data/imagenet\\\\n02093859\\\\' 'D:/data/imagenet\\\\n02095314\\\\'\n",
      " 'D:/data/imagenet\\\\n02095889\\\\' 'D:/data/imagenet\\\\n02096437\\\\'\n",
      " 'D:/data/imagenet\\\\n02096585\\\\' 'D:/data/imagenet\\\\n02097047\\\\'\n",
      " 'D:/data/imagenet\\\\n02097130\\\\' 'D:/data/imagenet\\\\n02097209\\\\'\n",
      " 'D:/data/imagenet\\\\n02097298\\\\' 'D:/data/imagenet\\\\n02097474\\\\'\n",
      " 'D:/data/imagenet\\\\n02097658\\\\' 'D:/data/imagenet\\\\n02098413\\\\'\n",
      " 'D:/data/imagenet\\\\n02099267\\\\' 'D:/data/imagenet\\\\n02099429\\\\'\n",
      " 'D:/data/imagenet\\\\n02099712\\\\' 'D:/data/imagenet\\\\n02100735\\\\'\n",
      " 'D:/data/imagenet\\\\n02101006\\\\' 'D:/data/imagenet\\\\n02101388\\\\'\n",
      " 'D:/data/imagenet\\\\n02101556\\\\' 'D:/data/imagenet\\\\n02102040\\\\'\n",
      " 'D:/data/imagenet\\\\n02102177\\\\' 'D:/data/imagenet\\\\n02102318\\\\'\n",
      " 'D:/data/imagenet\\\\n02102973\\\\' 'D:/data/imagenet\\\\n02104029\\\\'\n",
      " 'D:/data/imagenet\\\\n02104365\\\\' 'D:/data/imagenet\\\\n02105056\\\\'\n",
      " 'D:/data/imagenet\\\\n02105251\\\\' 'D:/data/imagenet\\\\n02105412\\\\'\n",
      " 'D:/data/imagenet\\\\n02105505\\\\' 'D:/data/imagenet\\\\n02105641\\\\'\n",
      " 'D:/data/imagenet\\\\n02105855\\\\' 'D:/data/imagenet\\\\n02106030\\\\'\n",
      " 'D:/data/imagenet\\\\n02106166\\\\' 'D:/data/imagenet\\\\n02106382\\\\'\n",
      " 'D:/data/imagenet\\\\n02106550\\\\' 'D:/data/imagenet\\\\n02107142\\\\'\n",
      " 'D:/data/imagenet\\\\n02107312\\\\' 'D:/data/imagenet\\\\n02107574\\\\'\n",
      " 'D:/data/imagenet\\\\n02107683\\\\' 'D:/data/imagenet\\\\n02107908\\\\'\n",
      " 'D:/data/imagenet\\\\n02108000\\\\' 'D:/data/imagenet\\\\n02108089\\\\'\n",
      " 'D:/data/imagenet\\\\n02108422\\\\' 'D:/data/imagenet\\\\n02108551\\\\'\n",
      " 'D:/data/imagenet\\\\n02108915\\\\' 'D:/data/imagenet\\\\n02109047\\\\'\n",
      " 'D:/data/imagenet\\\\n02109525\\\\' 'D:/data/imagenet\\\\n02109961\\\\'\n",
      " 'D:/data/imagenet\\\\n02110063\\\\' 'D:/data/imagenet\\\\n02110185\\\\'\n",
      " 'D:/data/imagenet\\\\n02110341\\\\' 'D:/data/imagenet\\\\n02110627\\\\'\n",
      " 'D:/data/imagenet\\\\n02110806\\\\' 'D:/data/imagenet\\\\n02110958\\\\'\n",
      " 'D:/data/imagenet\\\\n02111277\\\\' 'D:/data/imagenet\\\\n02111500\\\\'\n",
      " 'D:/data/imagenet\\\\n02111889\\\\' 'D:/data/imagenet\\\\n02112350\\\\'\n",
      " 'D:/data/imagenet\\\\n02112706\\\\' 'D:/data/imagenet\\\\n02113186\\\\'\n",
      " 'D:/data/imagenet\\\\n02113624\\\\' 'D:/data/imagenet\\\\n02113712\\\\'\n",
      " 'D:/data/imagenet\\\\n02113799\\\\' 'D:/data/imagenet\\\\n02113978\\\\'\n",
      " 'D:/data/imagenet\\\\n02123597\\\\' 'D:/data/imagenet\\\\n02133161\\\\'\n",
      " 'D:/data/imagenet\\\\n02134418\\\\' 'D:/data/imagenet\\\\n02167151\\\\'\n",
      " 'D:/data/imagenet\\\\n02174001\\\\' 'D:/data/imagenet\\\\n02276258\\\\'\n",
      " 'D:/data/imagenet\\\\n02280649\\\\' 'D:/data/imagenet\\\\n02328150\\\\'\n",
      " 'D:/data/imagenet\\\\n02364673\\\\' 'D:/data/imagenet\\\\n02437616\\\\'\n",
      " 'D:/data/imagenet\\\\n02443484\\\\' 'D:/data/imagenet\\\\n02445715\\\\'\n",
      " 'D:/data/imagenet\\\\n02457408\\\\' 'D:/data/imagenet\\\\n02480855\\\\'\n",
      " 'D:/data/imagenet\\\\n02481823\\\\' 'D:/data/imagenet\\\\n02483362\\\\'\n",
      " 'D:/data/imagenet\\\\n02483708\\\\' 'D:/data/imagenet\\\\n02484975\\\\'\n",
      " 'D:/data/imagenet\\\\n02488291\\\\' 'D:/data/imagenet\\\\n02488702\\\\'\n",
      " 'D:/data/imagenet\\\\n02490219\\\\' 'D:/data/imagenet\\\\n02492035\\\\'\n",
      " 'D:/data/imagenet\\\\n02492660\\\\' 'D:/data/imagenet\\\\n02493509\\\\'\n",
      " 'D:/data/imagenet\\\\n02493793\\\\' 'D:/data/imagenet\\\\n02494079\\\\'\n",
      " 'D:/data/imagenet\\\\n02497673\\\\' 'D:/data/imagenet\\\\n02500267\\\\'\n",
      " 'D:/data/imagenet\\\\n02509815\\\\' 'D:/data/imagenet\\\\n02510455\\\\'\n",
      " 'D:/data/imagenet\\\\n02514041\\\\' 'D:/data/imagenet\\\\n02536864\\\\'\n",
      " 'D:/data/imagenet\\\\n02606052\\\\' 'D:/data/imagenet\\\\n02667093\\\\'\n",
      " 'D:/data/imagenet\\\\n02669723\\\\' 'D:/data/imagenet\\\\n02672831\\\\'\n",
      " 'D:/data/imagenet\\\\n02676566\\\\' 'D:/data/imagenet\\\\n02708093\\\\'\n",
      " 'D:/data/imagenet\\\\n02749479\\\\' 'D:/data/imagenet\\\\n02769748\\\\'\n",
      " 'D:/data/imagenet\\\\n02782093\\\\' 'D:/data/imagenet\\\\n02787622\\\\'\n",
      " 'D:/data/imagenet\\\\n02790996\\\\' 'D:/data/imagenet\\\\n02791124\\\\'\n",
      " 'D:/data/imagenet\\\\n02791270\\\\' 'D:/data/imagenet\\\\n02794156\\\\'\n",
      " 'D:/data/imagenet\\\\n02799071\\\\' 'D:/data/imagenet\\\\n02804610\\\\'\n",
      " 'D:/data/imagenet\\\\n02807133\\\\' 'D:/data/imagenet\\\\n02817516\\\\'\n",
      " 'D:/data/imagenet\\\\n02823428\\\\' 'D:/data/imagenet\\\\n02823750\\\\'\n",
      " 'D:/data/imagenet\\\\n02825657\\\\' 'D:/data/imagenet\\\\n02837789\\\\'\n",
      " 'D:/data/imagenet\\\\n02840245\\\\' 'D:/data/imagenet\\\\n02841315\\\\'\n",
      " 'D:/data/imagenet\\\\n02843684\\\\' 'D:/data/imagenet\\\\n02860847\\\\'\n",
      " 'D:/data/imagenet\\\\n02865351\\\\' 'D:/data/imagenet\\\\n02869837\\\\'\n",
      " 'D:/data/imagenet\\\\n02879718\\\\' 'D:/data/imagenet\\\\n02883205\\\\'\n",
      " 'D:/data/imagenet\\\\n02892767\\\\' 'D:/data/imagenet\\\\n02895154\\\\'\n",
      " 'D:/data/imagenet\\\\n02910353\\\\' 'D:/data/imagenet\\\\n02916936\\\\'\n",
      " 'D:/data/imagenet\\\\n02917067\\\\' 'D:/data/imagenet\\\\n02939185\\\\'\n",
      " 'D:/data/imagenet\\\\n02951585\\\\' 'D:/data/imagenet\\\\n02965783\\\\'\n",
      " 'D:/data/imagenet\\\\n02966687\\\\' 'D:/data/imagenet\\\\n02974003\\\\'\n",
      " 'D:/data/imagenet\\\\n02992211\\\\' 'D:/data/imagenet\\\\n02992529\\\\'\n",
      " 'D:/data/imagenet\\\\n02999410\\\\' 'D:/data/imagenet\\\\n03017168\\\\'\n",
      " 'D:/data/imagenet\\\\n03026506\\\\' 'D:/data/imagenet\\\\n03041632\\\\'\n",
      " 'D:/data/imagenet\\\\n03045698\\\\' 'D:/data/imagenet\\\\n03047690\\\\'\n",
      " 'D:/data/imagenet\\\\n03063599\\\\' 'D:/data/imagenet\\\\n03063689\\\\'\n",
      " 'D:/data/imagenet\\\\n03065424\\\\' 'D:/data/imagenet\\\\n03075370\\\\'\n",
      " 'D:/data/imagenet\\\\n03109150\\\\' 'D:/data/imagenet\\\\n03110669\\\\'\n",
      " 'D:/data/imagenet\\\\n03124170\\\\' 'D:/data/imagenet\\\\n03127747\\\\'\n",
      " 'D:/data/imagenet\\\\n03133878\\\\' 'D:/data/imagenet\\\\n03141823\\\\'\n",
      " 'D:/data/imagenet\\\\n03146219\\\\' 'D:/data/imagenet\\\\n03179701\\\\'\n",
      " 'D:/data/imagenet\\\\n03180011\\\\' 'D:/data/imagenet\\\\n03187595\\\\'\n",
      " 'D:/data/imagenet\\\\n03197337\\\\' 'D:/data/imagenet\\\\n03208938\\\\'\n",
      " 'D:/data/imagenet\\\\n03249569\\\\' 'D:/data/imagenet\\\\n03250847\\\\'\n",
      " 'D:/data/imagenet\\\\n03255030\\\\' 'D:/data/imagenet\\\\n03259280\\\\'\n",
      " 'D:/data/imagenet\\\\n03272010\\\\' 'D:/data/imagenet\\\\n03297495\\\\'\n",
      " 'D:/data/imagenet\\\\n03314780\\\\' 'D:/data/imagenet\\\\n03325584\\\\'\n",
      " 'D:/data/imagenet\\\\n03372029\\\\' 'D:/data/imagenet\\\\n03379051\\\\'\n",
      " 'D:/data/imagenet\\\\n03388183\\\\' 'D:/data/imagenet\\\\n03388549\\\\'\n",
      " 'D:/data/imagenet\\\\n03394916\\\\' 'D:/data/imagenet\\\\n03400231\\\\'\n",
      " 'D:/data/imagenet\\\\n03404251\\\\' 'D:/data/imagenet\\\\n03424325\\\\'\n",
      " 'D:/data/imagenet\\\\n03425413\\\\' 'D:/data/imagenet\\\\n03445777\\\\'\n",
      " 'D:/data/imagenet\\\\n03445924\\\\' 'D:/data/imagenet\\\\n03447721\\\\'\n",
      " 'D:/data/imagenet\\\\n03450230\\\\' 'D:/data/imagenet\\\\n03452741\\\\'\n",
      " 'D:/data/imagenet\\\\n03459775\\\\' 'D:/data/imagenet\\\\n03476991\\\\'\n",
      " 'D:/data/imagenet\\\\n03481172\\\\' 'D:/data/imagenet\\\\n03483316\\\\'\n",
      " 'D:/data/imagenet\\\\n03485407\\\\' 'D:/data/imagenet\\\\n03485794\\\\'\n",
      " 'D:/data/imagenet\\\\n03492542\\\\' 'D:/data/imagenet\\\\n03494278\\\\'\n",
      " 'D:/data/imagenet\\\\n03495258\\\\' 'D:/data/imagenet\\\\n03498962\\\\'\n",
      " 'D:/data/imagenet\\\\n03527444\\\\' 'D:/data/imagenet\\\\n03532672\\\\'\n",
      " 'D:/data/imagenet\\\\n03535780\\\\' 'D:/data/imagenet\\\\n03544143\\\\'\n",
      " 'D:/data/imagenet\\\\n03584254\\\\' 'D:/data/imagenet\\\\n03584829\\\\'\n",
      " 'D:/data/imagenet\\\\n03594734\\\\' 'D:/data/imagenet\\\\n03595614\\\\'\n",
      " 'D:/data/imagenet\\\\n03602883\\\\' 'D:/data/imagenet\\\\n03617480\\\\'\n",
      " 'D:/data/imagenet\\\\n03623198\\\\' 'D:/data/imagenet\\\\n03627232\\\\'\n",
      " 'D:/data/imagenet\\\\n03630383\\\\' 'D:/data/imagenet\\\\n03633091\\\\'\n",
      " 'D:/data/imagenet\\\\n03642806\\\\' 'D:/data/imagenet\\\\n03657121\\\\'\n",
      " 'D:/data/imagenet\\\\n03658185\\\\' 'D:/data/imagenet\\\\n03666591\\\\'\n",
      " 'D:/data/imagenet\\\\n03676483\\\\' 'D:/data/imagenet\\\\n03680355\\\\'\n",
      " 'D:/data/imagenet\\\\n03691459\\\\' 'D:/data/imagenet\\\\n03692522\\\\'\n",
      " 'D:/data/imagenet\\\\n03706229\\\\' 'D:/data/imagenet\\\\n03709823\\\\'\n",
      " 'D:/data/imagenet\\\\n03710637\\\\' 'D:/data/imagenet\\\\n03710721\\\\'\n",
      " 'D:/data/imagenet\\\\n03720891\\\\' 'D:/data/imagenet\\\\n03724870\\\\'\n",
      " 'D:/data/imagenet\\\\n03729826\\\\' 'D:/data/imagenet\\\\n03759954\\\\'\n",
      " 'D:/data/imagenet\\\\n03770439\\\\' 'D:/data/imagenet\\\\n03775071\\\\'\n",
      " 'D:/data/imagenet\\\\n03777568\\\\' 'D:/data/imagenet\\\\n03777754\\\\'\n",
      " 'D:/data/imagenet\\\\n03782006\\\\' 'D:/data/imagenet\\\\n03786901\\\\'\n",
      " 'D:/data/imagenet\\\\n03787032\\\\' 'D:/data/imagenet\\\\n03791053\\\\'\n",
      " 'D:/data/imagenet\\\\n03793489\\\\' 'D:/data/imagenet\\\\n03803284\\\\'\n",
      " 'D:/data/imagenet\\\\n03814639\\\\' 'D:/data/imagenet\\\\n03814906\\\\'\n",
      " 'D:/data/imagenet\\\\n03832673\\\\' 'D:/data/imagenet\\\\n03838899\\\\'\n",
      " 'D:/data/imagenet\\\\n03840681\\\\' 'D:/data/imagenet\\\\n03841143\\\\'\n",
      " 'D:/data/imagenet\\\\n03843555\\\\' 'D:/data/imagenet\\\\n03866082\\\\'\n",
      " 'D:/data/imagenet\\\\n03868863\\\\' 'D:/data/imagenet\\\\n03874599\\\\'\n",
      " 'D:/data/imagenet\\\\n03876231\\\\' 'D:/data/imagenet\\\\n03884397\\\\'\n",
      " 'D:/data/imagenet\\\\n03887697\\\\' 'D:/data/imagenet\\\\n03891332\\\\'\n",
      " 'D:/data/imagenet\\\\n03902125\\\\' 'D:/data/imagenet\\\\n03908714\\\\'\n",
      " 'D:/data/imagenet\\\\n03916031\\\\' 'D:/data/imagenet\\\\n03929660\\\\'\n",
      " 'D:/data/imagenet\\\\n03937543\\\\' 'D:/data/imagenet\\\\n03950228\\\\'\n",
      " 'D:/data/imagenet\\\\n03954731\\\\' 'D:/data/imagenet\\\\n03958227\\\\'\n",
      " 'D:/data/imagenet\\\\n03976467\\\\' 'D:/data/imagenet\\\\n03995372\\\\'\n",
      " 'D:/data/imagenet\\\\n04004767\\\\' 'D:/data/imagenet\\\\n04009552\\\\'\n",
      " 'D:/data/imagenet\\\\n04019541\\\\' 'D:/data/imagenet\\\\n04023962\\\\'\n",
      " 'D:/data/imagenet\\\\n04033901\\\\' 'D:/data/imagenet\\\\n04041544\\\\'\n",
      " 'D:/data/imagenet\\\\n04067472\\\\' 'D:/data/imagenet\\\\n04069434\\\\'\n",
      " 'D:/data/imagenet\\\\n04074963\\\\' 'D:/data/imagenet\\\\n04116512\\\\'\n",
      " 'D:/data/imagenet\\\\n04118538\\\\' 'D:/data/imagenet\\\\n04120489\\\\'\n",
      " 'D:/data/imagenet\\\\n04133789\\\\' 'D:/data/imagenet\\\\n04136333\\\\'\n",
      " 'D:/data/imagenet\\\\n04141076\\\\' 'D:/data/imagenet\\\\n04141975\\\\'\n",
      " 'D:/data/imagenet\\\\n04154565\\\\' 'D:/data/imagenet\\\\n04162706\\\\'\n",
      " 'D:/data/imagenet\\\\n04179913\\\\' 'D:/data/imagenet\\\\n04192698\\\\'\n",
      " 'D:/data/imagenet\\\\n04201297\\\\' 'D:/data/imagenet\\\\n04228054\\\\'\n",
      " 'D:/data/imagenet\\\\n04229816\\\\' 'D:/data/imagenet\\\\n04243546\\\\'\n",
      " 'D:/data/imagenet\\\\n04252077\\\\' 'D:/data/imagenet\\\\n04254680\\\\'\n",
      " 'D:/data/imagenet\\\\n04259630\\\\' 'D:/data/imagenet\\\\n04263257\\\\'\n",
      " 'D:/data/imagenet\\\\n04264628\\\\' 'D:/data/imagenet\\\\n04270147\\\\'\n",
      " 'D:/data/imagenet\\\\n04277352\\\\' 'D:/data/imagenet\\\\n04286575\\\\'\n",
      " 'D:/data/imagenet\\\\n04296562\\\\' 'D:/data/imagenet\\\\n04311174\\\\'\n",
      " 'D:/data/imagenet\\\\n04317175\\\\' 'D:/data/imagenet\\\\n04325704\\\\'\n",
      " 'D:/data/imagenet\\\\n04328186\\\\' 'D:/data/imagenet\\\\n04332243\\\\'\n",
      " 'D:/data/imagenet\\\\n04336792\\\\' 'D:/data/imagenet\\\\n04350905\\\\'\n",
      " 'D:/data/imagenet\\\\n04355933\\\\' 'D:/data/imagenet\\\\n04356056\\\\'\n",
      " 'D:/data/imagenet\\\\n04370456\\\\' 'D:/data/imagenet\\\\n04372370\\\\'\n",
      " 'D:/data/imagenet\\\\n04376876\\\\' 'D:/data/imagenet\\\\n04398044\\\\'\n",
      " 'D:/data/imagenet\\\\n04399382\\\\' 'D:/data/imagenet\\\\n04447861\\\\'\n",
      " 'D:/data/imagenet\\\\n04456115\\\\' 'D:/data/imagenet\\\\n04458633\\\\'\n",
      " 'D:/data/imagenet\\\\n04479046\\\\' 'D:/data/imagenet\\\\n04485082\\\\'\n",
      " 'D:/data/imagenet\\\\n04487394\\\\' 'D:/data/imagenet\\\\n04505470\\\\'\n",
      " 'D:/data/imagenet\\\\n04507155\\\\' 'D:/data/imagenet\\\\n04517823\\\\'\n",
      " 'D:/data/imagenet\\\\n04532106\\\\' 'D:/data/imagenet\\\\n04536866\\\\'\n",
      " 'D:/data/imagenet\\\\n04542943\\\\' 'D:/data/imagenet\\\\n04548280\\\\'\n",
      " 'D:/data/imagenet\\\\n04548362\\\\' 'D:/data/imagenet\\\\n04554684\\\\'\n",
      " 'D:/data/imagenet\\\\n04579432\\\\' 'D:/data/imagenet\\\\n04584207\\\\'\n",
      " 'D:/data/imagenet\\\\n04591157\\\\' 'D:/data/imagenet\\\\n04591713\\\\'\n",
      " 'D:/data/imagenet\\\\n04596742\\\\' 'D:/data/imagenet\\\\n06874185\\\\'\n",
      " 'D:/data/imagenet\\\\n07579787\\\\' 'D:/data/imagenet\\\\n07583066\\\\'\n",
      " 'D:/data/imagenet\\\\n07584110\\\\' 'D:/data/imagenet\\\\n07590611\\\\'\n",
      " 'D:/data/imagenet\\\\n07613480\\\\' 'D:/data/imagenet\\\\n07614500\\\\'\n",
      " 'D:/data/imagenet\\\\n07615774\\\\' 'D:/data/imagenet\\\\n07695742\\\\'\n",
      " 'D:/data/imagenet\\\\n07697313\\\\' 'D:/data/imagenet\\\\n07697537\\\\'\n",
      " 'D:/data/imagenet\\\\n07711569\\\\' 'D:/data/imagenet\\\\n07716358\\\\'\n",
      " 'D:/data/imagenet\\\\n07717410\\\\' 'D:/data/imagenet\\\\n07718472\\\\'\n",
      " 'D:/data/imagenet\\\\n07745940\\\\' 'D:/data/imagenet\\\\n07753113\\\\'\n",
      " 'D:/data/imagenet\\\\n07760859\\\\' 'D:/data/imagenet\\\\n07768694\\\\'\n",
      " 'D:/data/imagenet\\\\n07836838\\\\' 'D:/data/imagenet\\\\n07871810\\\\'\n",
      " 'D:/data/imagenet\\\\n07880968\\\\' 'D:/data/imagenet\\\\n07892512\\\\'\n",
      " 'D:/data/imagenet\\\\n07920052\\\\' 'D:/data/imagenet\\\\n07930864\\\\'\n",
      " 'D:/data/imagenet\\\\n07932039\\\\' 'D:/data/imagenet\\\\n10148035\\\\'\n",
      " 'D:/data/imagenet\\\\n11939491\\\\' 'D:/data/imagenet\\\\n12768682\\\\'\n",
      " 'D:/data/imagenet\\\\n13040303\\\\' 'D:/data/imagenet\\\\n13044778\\\\']\n"
     ]
    }
   ],
   "source": [
    "import pickle\n",
    "\n",
    "# Loading the list from the pickle file\n",
    "file_path = r\"F:\\combo_list.pickle\"  # Update the file path if necessary\n",
    "\n",
    "with open(file_path, 'rb') as file:\n",
    "    loaded_combo_list = pickle.load(file)\n",
    "\n",
    "print(\"Combo list loaded successfully.\")\n",
    "print(loaded_combo_list)\n"
   ]
  },
  {
   "cell_type": "code",
   "execution_count": null,
   "id": "0e12fe31",
   "metadata": {},
   "outputs": [],
   "source": []
  },
  {
   "cell_type": "code",
   "execution_count": null,
   "id": "3b9b7ae8",
   "metadata": {},
   "outputs": [],
   "source": []
  },
  {
   "cell_type": "code",
   "execution_count": null,
   "id": "6f6bd347",
   "metadata": {},
   "outputs": [],
   "source": []
  },
  {
   "cell_type": "code",
   "execution_count": null,
   "id": "570fba0a",
   "metadata": {},
   "outputs": [],
   "source": []
  },
  {
   "cell_type": "code",
   "execution_count": null,
   "id": "a60ec790",
   "metadata": {},
   "outputs": [],
   "source": []
  },
  {
   "cell_type": "code",
   "execution_count": null,
   "id": "87186a39",
   "metadata": {},
   "outputs": [],
   "source": []
  },
  {
   "cell_type": "code",
   "execution_count": null,
   "id": "5bc427dd",
   "metadata": {},
   "outputs": [],
   "source": []
  },
  {
   "cell_type": "code",
   "execution_count": null,
   "id": "790a762d",
   "metadata": {},
   "outputs": [],
   "source": []
  },
  {
   "cell_type": "code",
   "execution_count": null,
   "id": "cc8d5acf",
   "metadata": {},
   "outputs": [],
   "source": []
  },
  {
   "cell_type": "code",
   "execution_count": null,
   "id": "f571ec63",
   "metadata": {},
   "outputs": [],
   "source": []
  },
  {
   "cell_type": "code",
   "execution_count": 5,
   "id": "96fd7ec5",
   "metadata": {},
   "outputs": [
    {
     "name": "stdout",
     "output_type": "stream",
     "text": [
      "File exists: F:\\D-Video\\Python\n",
      "File is readable: F:\\D-Video\\Python\n"
     ]
    }
   ],
   "source": [
    "import os\n",
    "\n",
    "file_path = r\"F:\\D-Video\\Python\"\n",
    "\n",
    "# Check if the file exists\n",
    "if os.path.exists(file_path):\n",
    "    print(f\"File exists: {file_path}\")\n",
    "else:\n",
    "    print(f\"File does not exist: {file_path}\")\n",
    "\n",
    "# Check if the file is readable\n",
    "if os.access(file_path, os.R_OK):\n",
    "    print(f\"File is readable: {file_path}\")\n",
    "else:\n",
    "    print(f\"File is not readable: {file_path}\")\n"
   ]
  },
  {
   "cell_type": "code",
   "execution_count": null,
   "id": "a25eec36",
   "metadata": {},
   "outputs": [],
   "source": []
  },
  {
   "cell_type": "code",
   "execution_count": null,
   "id": "f1c0f1fc",
   "metadata": {},
   "outputs": [],
   "source": []
  },
  {
   "cell_type": "code",
   "execution_count": null,
   "id": "645e5a6d",
   "metadata": {},
   "outputs": [],
   "source": []
  },
  {
   "cell_type": "code",
   "execution_count": null,
   "id": "fb54915b",
   "metadata": {},
   "outputs": [],
   "source": []
  }
 ],
 "metadata": {
  "kernelspec": {
   "display_name": "Python 3 (ipykernel)",
   "language": "python",
   "name": "python3"
  },
  "language_info": {
   "codemirror_mode": {
    "name": "ipython",
    "version": 3
   },
   "file_extension": ".py",
   "mimetype": "text/x-python",
   "name": "python",
   "nbconvert_exporter": "python",
   "pygments_lexer": "ipython3",
   "version": "3.8.18"
  }
 },
 "nbformat": 4,
 "nbformat_minor": 5
}
