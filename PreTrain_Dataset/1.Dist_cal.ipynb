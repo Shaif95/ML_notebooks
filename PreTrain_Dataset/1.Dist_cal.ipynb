{
 "cells": [
  {
   "cell_type": "code",
   "execution_count": 1,
   "id": "22ce4ced",
   "metadata": {},
   "outputs": [],
   "source": [
    "from ortools.linear_solver import pywraplp"
   ]
  },
  {
   "cell_type": "code",
   "execution_count": 2,
   "id": "3835b0af",
   "metadata": {},
   "outputs": [
    {
     "name": "stdout",
     "output_type": "stream",
     "text": [
      "Dist list loaded successfully.\n",
      "(1000, 30)\n"
     ]
    }
   ],
   "source": [
    "import pickle\n",
    "import numpy as np\n",
    "\n",
    "# Loading the list from the pickle file\n",
    "file_path = r\"D:\\dist_list.pickle\"  # Update the file path if necessary\n",
    "\n",
    "with open(file_path, 'rb') as file:\n",
    "    dist_list = pickle.load(file)\n",
    "\n",
    "print(\"Dist list loaded successfully.\")\n",
    "print(np.shape(dist_list))"
   ]
  },
  {
   "cell_type": "code",
   "execution_count": 15,
   "id": "af2214b5",
   "metadata": {},
   "outputs": [
    {
     "name": "stdout",
     "output_type": "stream",
     "text": [
      "Total cost = 240.0\n",
      "\n",
      "Worker 0 assigned to task 1. Cost: 80\n",
      "Worker 1 assigned to task 3. Cost: 65\n",
      "Worker 3 assigned to task 0. Cost: 45\n",
      "Worker 4 assigned to task 2. Cost: 50\n"
     ]
    }
   ],
   "source": [
    "costs = [\n",
    "    [90, 80, 75, 70],\n",
    "    [35, 85, 55, 65],\n",
    "    [125, 95, 90, 95],\n",
    "    [45, 110, 95, 115],\n",
    "    [60, 120, 50, 100],\n",
    "    [50, 100, 90, 400],\n",
    "    [50, 200, 170, 120],\n",
    "    [50, 200, 190, 160]\n",
    "]\n",
    "num_workers = len(costs)\n",
    "num_tasks = len(costs[0])\n",
    "# Create the mip solver with the SCIP backend.\n",
    "solver = pywraplp.Solver.CreateSolver(\"SCIP\")\n",
    "\n",
    "# x[i, j] is an array of 0-1 variables, which will be 1\n",
    "# if worker i is assigned to task j.\n",
    "x = {}\n",
    "for i in range(num_workers):\n",
    "    for j in range(num_tasks):\n",
    "        x[i, j] = solver.IntVar(0, 1, \"\")\n",
    "        \n",
    "# Each worker is assigned to at most 1 task.\n",
    "for i in range(num_workers):\n",
    "    solver.Add(solver.Sum([x[i, j] for j in range(num_tasks)]) <= 1)\n",
    "\n",
    "# Each task is assigned to exactly one worker.\n",
    "for j in range(num_tasks):\n",
    "    solver.Add(solver.Sum([x[i, j] for i in range(num_workers)]) == 1)\n",
    "    \n",
    "objective_terms = []\n",
    "for i in range(num_workers):\n",
    "    for j in range(num_tasks):\n",
    "        objective_terms.append(costs[i][j] * x[i, j])\n",
    "solver.Minimize(solver.Sum(objective_terms))\n",
    "status = solver.Solve()\n",
    "if status == pywraplp.Solver.OPTIMAL or status == pywraplp.Solver.FEASIBLE:\n",
    "    print(f\"Total cost = {solver.Objective().Value()}\\n\")\n",
    "    for i in range(num_workers):\n",
    "        for j in range(num_tasks):\n",
    "            # Test if x[i,j] is 1 (with tolerance for floating point arithmetic).\n",
    "            if x[i, j].solution_value() > 0.5:\n",
    "                print(f\"Worker {i} assigned to task {j}.\" + f\" Cost: {costs[i][j]}\")\n",
    "else:\n",
    "    print(\"No solution found.\")\n"
   ]
  },
  {
   "cell_type": "code",
   "execution_count": 23,
   "id": "6d93bdf5",
   "metadata": {},
   "outputs": [],
   "source": []
  },
  {
   "cell_type": "code",
   "execution_count": null,
   "id": "7858d6a6",
   "metadata": {},
   "outputs": [],
   "source": []
  },
  {
   "cell_type": "code",
   "execution_count": 5,
   "id": "36f18a72",
   "metadata": {},
   "outputs": [
    {
     "name": "stderr",
     "output_type": "stream",
     "text": [
      "100%|████████████████████████████████████████████████████████████████████████████| 1000/1000 [00:00<00:00, 1003.90it/s]\n"
     ]
    },
    {
     "name": "stdout",
     "output_type": "stream",
     "text": [
      "Total cost = 64.79905481447462\n",
      "\n",
      "Cluster 3 assigned to Class 12. Cost: 0.5094905210488739\n",
      "Cluster 14 assigned to Class 138. Cost: 1.040097755517661\n",
      "Cluster 4 assigned to Class 141. Cost: 1.1388163172823567\n",
      "Cluster 6 assigned to Class 213. Cost: 1.8573074080960692\n",
      "Cluster 10 assigned to Class 293. Cost: 0.7503711424557015\n",
      "Cluster 27 assigned to Class 324. Cost: 1.3669484152967335\n",
      "Cluster 28 assigned to Class 332. Cost: 1.7005315193766848\n",
      "Cluster 17 assigned to Class 378. Cost: 1.071241963666841\n",
      "Cluster 21 assigned to Class 388. Cost: 2.9081358354401257\n",
      "Cluster 9 assigned to Class 399. Cost: 3.257879085319286\n",
      "Cluster 25 assigned to Class 413. Cost: 1.9758723975682282\n",
      "Cluster 18 assigned to Class 495. Cost: 1.0468155658406406\n",
      "Cluster 20 assigned to Class 531. Cost: 4.002222275445114\n",
      "Cluster 23 assigned to Class 565. Cost: 2.0446087601355836\n",
      "Cluster 26 assigned to Class 581. Cost: 1.2675617619130868\n",
      "Cluster 0 assigned to Class 586. Cost: 2.8871978198926658\n",
      "Cluster 29 assigned to Class 607. Cost: 1.2316330217907805\n",
      "Cluster 1 assigned to Class 633. Cost: 4.453560112939891\n",
      "Cluster 22 assigned to Class 635. Cost: 3.3578294067002714\n",
      "Cluster 24 assigned to Class 669. Cost: 1.0821052704751641\n",
      "Cluster 2 assigned to Class 759. Cost: 1.3036166992645617\n",
      "Cluster 7 assigned to Class 779. Cost: 2.5858690677879745\n",
      "Cluster 5 assigned to Class 847. Cost: 1.1795089014614304\n",
      "Cluster 15 assigned to Class 902. Cost: 1.3135070515260434\n",
      "Cluster 12 assigned to Class 960. Cost: 8.721624718910723\n",
      "Cluster 16 assigned to Class 974. Cost: 1.1018128301510777\n",
      "Cluster 19 assigned to Class 977. Cost: 1.8332209590178359\n",
      "Cluster 11 assigned to Class 979. Cost: 2.1540849608277632\n",
      "Cluster 13 assigned to Class 982. Cost: 1.6938715716072161\n",
      "Cluster 8 assigned to Class 985. Cost: 3.961711697718227\n"
     ]
    }
   ],
   "source": [
    "from tqdm import tqdm\n",
    "\n",
    "costs = dist_list\n",
    "\n",
    "num_workers = len(costs)\n",
    "num_tasks = len(costs[0])\n",
    "# Create the mip solver with the SCIP backend.\n",
    "solver = pywraplp.Solver.CreateSolver(\"SCIP\")\n",
    "\n",
    "# x[i, j] is an array of 0-1 variables, which will be 1\n",
    "# if worker i is assigned to task j.\n",
    "x = {}\n",
    "for i in range(num_workers):\n",
    "    for j in range(num_tasks):\n",
    "        x[i, j] = solver.IntVar(0, 1, \"\")\n",
    "        \n",
    "# Each worker is assigned to at most 1 task.\n",
    "for i in range(num_workers):\n",
    "    solver.Add(solver.Sum([x[i, j] for j in range(num_tasks)]) <= 1)\n",
    "\n",
    "# Each task is assigned to exactly one worker.\n",
    "for j in range(num_tasks):\n",
    "    solver.Add(solver.Sum([x[i, j] for i in range(num_workers)]) == 1)\n",
    "    \n",
    "objective_terms = []\n",
    "for i in tqdm(range(num_workers)):\n",
    "    for j in range(num_tasks):\n",
    "        objective_terms.append(costs[i][j] * x[i, j])\n",
    "solver.Minimize(solver.Sum(objective_terms))\n",
    "\n",
    "status = solver.Solve()\n",
    "\n",
    "sol_indexes = []\n",
    "if status == pywraplp.Solver.OPTIMAL or status == pywraplp.Solver.FEASIBLE:\n",
    "    print(f\"Total cost = {solver.Objective().Value()}\\n\")\n",
    "    for i in range(num_workers):\n",
    "        for j in range(num_tasks):\n",
    "            # Test if x[i,j] is 1 (with tolerance for floating point arithmetic).\n",
    "            if x[i, j].solution_value() > 0.1:\n",
    "                print(f\"Cluster {j} assigned to Class {i}.\" + f\" Cost: {costs[i][j]}\")\n",
    "                sol_indexes.append(i)\n",
    "else:\n",
    "    print(\"No solution found.\")"
   ]
  },
  {
   "cell_type": "code",
   "execution_count": 6,
   "id": "ab5a5bea",
   "metadata": {},
   "outputs": [
    {
     "name": "stdout",
     "output_type": "stream",
     "text": [
      "Combo list saved successfully.\n"
     ]
    }
   ],
   "source": [
    "import pickle\n",
    "\n",
    "# Saving the list to a file in the D: drive\n",
    "file_path = r\"D:\\index_list.pickle\"  # r prefix is used for raw string to avoid escape characters\n",
    "\n",
    "with open(file_path, 'wb') as file:\n",
    "    pickle.dump(sol_indexes, file)\n",
    "\n",
    "print(\"Combo list saved successfully.\")\n"
   ]
  },
  {
   "cell_type": "code",
   "execution_count": null,
   "id": "9c7d99eb",
   "metadata": {},
   "outputs": [],
   "source": []
  },
  {
   "cell_type": "code",
   "execution_count": null,
   "id": "31420d93",
   "metadata": {},
   "outputs": [],
   "source": []
  },
  {
   "cell_type": "code",
   "execution_count": null,
   "id": "f2257c87",
   "metadata": {},
   "outputs": [],
   "source": []
  }
 ],
 "metadata": {
  "kernelspec": {
   "display_name": "Python 3 (ipykernel)",
   "language": "python",
   "name": "python3"
  },
  "language_info": {
   "codemirror_mode": {
    "name": "ipython",
    "version": 3
   },
   "file_extension": ".py",
   "mimetype": "text/x-python",
   "name": "python",
   "nbconvert_exporter": "python",
   "pygments_lexer": "ipython3",
   "version": "3.8.16"
  }
 },
 "nbformat": 4,
 "nbformat_minor": 5
}
