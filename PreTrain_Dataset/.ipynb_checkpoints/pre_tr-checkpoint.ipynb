{
 "cells": [
  {
   "cell_type": "code",
   "execution_count": 1,
   "id": "2ca56c03",
   "metadata": {},
   "outputs": [],
   "source": [
    "import tensorflow as tf\n",
    "from tensorflow import keras\n",
    "from tensorflow.keras.datasets import cifar100\n",
    "from tensorflow.keras.applications import MobileNet\n",
    "from tensorflow.keras.models import Sequential\n",
    "from tensorflow.keras.layers import Dense, GlobalAveragePooling2D\n",
    "from tensorflow.keras.optimizers import Adam\n",
    "from tensorflow.keras.preprocessing.image import ImageDataGenerator\n",
    "\n",
    "import os\n",
    "import numpy as np\n",
    "from PIL import Image\n",
    "from sklearn.model_selection import train_test_split\n",
    "from tensorflow.keras.utils import to_categorical\n",
    "import os\n",
    "from tensorflow.keras.applications.resnet import ResNet50, preprocess_input\n",
    "import glob\n",
    "\n",
    "target_size = (32, 32)  # Change the values as per your requirement\n",
    "\n",
    "# Load the pre-trained ResNet50 model with modified input shape\n",
    "model = ResNet50(weights='imagenet', include_top=False, pooling='avg', input_shape=(target_size[0], target_size[1], 3))\n",
    "\n",
    "# Define the path to the ImageNet dataset\n",
    "dataset_path = 'D:/data/imagenet'\n",
    "\n",
    "# Get the list of class folders in the dataset\n",
    "class_folders = glob.glob(dataset_path+'/*/')"
   ]
  },
  {
   "cell_type": "code",
   "execution_count": null,
   "id": "37c7758b",
   "metadata": {},
   "outputs": [],
   "source": []
  },
  {
   "cell_type": "code",
   "execution_count": 4,
   "id": "ac02a137",
   "metadata": {},
   "outputs": [],
   "source": [
    "#img_folders[0]"
   ]
  },
  {
   "cell_type": "code",
   "execution_count": null,
   "id": "98e11fbd",
   "metadata": {},
   "outputs": [],
   "source": []
  },
  {
   "cell_type": "code",
   "execution_count": 23,
   "id": "0228e189",
   "metadata": {},
   "outputs": [],
   "source": [
    "import csv\n",
    "import glob\n",
    "import os\n",
    "import numpy as np\n",
    "import gc\n",
    "from PIL import Image\n",
    "from tqdm import tqdm\n",
    "\n",
    "def extract_features_from_directory(directory, csv_file):\n",
    "    \n",
    "    total_features = []\n",
    "    array = []\n",
    "    image_path=(glob.glob(directory + '/*'))\n",
    "    l = len(image_path)\n",
    "    \n",
    "    for i in image_path:\n",
    "        \n",
    "        image = Image.open(i)\n",
    "        \n",
    "        if image.mode != 'RGB':\n",
    "            image = image.convert('RGB')\n",
    "                    \n",
    "        image = image.resize((32, 32))\n",
    "\n",
    "        image = np.array(image).astype(\"float\") / 255\n",
    "        array.append(image)\n",
    "    \n",
    "    feature = model.predict((np.array(array)).reshape(l,32,32,3))\n",
    "    avg_feature = np.mean(feature, axis = 0)\n",
    "    print(np.shape(avg_feature))"
   ]
  },
  {
   "cell_type": "code",
   "execution_count": 24,
   "id": "5ace15da",
   "metadata": {},
   "outputs": [
    {
     "name": "stderr",
     "output_type": "stream",
     "text": [
      " 33%|████████████████████████████                                                        | 1/3 [00:07<00:14,  7.37s/it]"
     ]
    },
    {
     "name": "stdout",
     "output_type": "stream",
     "text": [
      "(2048,)\n"
     ]
    },
    {
     "name": "stderr",
     "output_type": "stream",
     "text": [
      "\r",
      " 67%|████████████████████████████████████████████████████████                            | 2/3 [00:13<00:06,  6.44s/it]"
     ]
    },
    {
     "name": "stdout",
     "output_type": "stream",
     "text": [
      "(2048,)\n"
     ]
    },
    {
     "name": "stderr",
     "output_type": "stream",
     "text": [
      "100%|████████████████████████████████████████████████████████████████████████████████████| 3/3 [00:19<00:00,  6.37s/it]"
     ]
    },
    {
     "name": "stdout",
     "output_type": "stream",
     "text": [
      "(2048,)\n"
     ]
    },
    {
     "name": "stderr",
     "output_type": "stream",
     "text": [
      "\n"
     ]
    }
   ],
   "source": [
    "from tqdm import tqdm\n",
    "import csv\n",
    "\n",
    "file_path = 'D:/21k_avg_feature.csv'\n",
    "#header = [\"Directory\"] + [\"Name\"] + ['Feature {}'.format(i) for i in range(2048)]  # Example header\n",
    "header = [\"Directory\"] + ['Feature {}'.format(i) for i in range(2048)]  # Example header\n",
    "\n",
    "with open(file_path, 'w') as file:\n",
    "    \n",
    "    for value in header:\n",
    "        file.write(str(value) + '\\t')\n",
    "    file.write('\\n')\n",
    "\n",
    "z = None\n",
    "\n",
    "for k in tqdm(range(len(class_folders[:3]))):\n",
    "    extract_features_from_directory(class_folders[k], file_path)\n"
   ]
  },
  {
   "cell_type": "code",
   "execution_count": null,
   "id": "08fdd6a8",
   "metadata": {},
   "outputs": [],
   "source": [
    "import pandas as pd\n",
    "\n",
    "# Define the file path\n",
    "file_path = r\"D:\\feature.csv\"\n",
    "\n",
    "# Read the tab-separated CSV file into a DataFrame\n",
    "data = pd.read_csv(file_path, delimiter='\\t')\n",
    "\n",
    "# Display the head of the DataFrame\n",
    "print(data.head(1))\n"
   ]
  },
  {
   "cell_type": "code",
   "execution_count": null,
   "id": "f947aae8",
   "metadata": {},
   "outputs": [],
   "source": []
  },
  {
   "cell_type": "code",
   "execution_count": null,
   "id": "fb62fce5",
   "metadata": {},
   "outputs": [],
   "source": []
  },
  {
   "cell_type": "code",
   "execution_count": null,
   "id": "77dcf336",
   "metadata": {},
   "outputs": [],
   "source": []
  },
  {
   "cell_type": "code",
   "execution_count": 21,
   "id": "229280ec",
   "metadata": {},
   "outputs": [
    {
     "name": "stdout",
     "output_type": "stream",
     "text": [
      "[[1 2]\n",
      " [3 4]]\n",
      "[2. 3.]\n"
     ]
    }
   ],
   "source": [
    "import numpy as np\n",
    "\n",
    "# Create a 2D array\n",
    "array = np.array([[1, 2], [3, 4]])\n",
    "print(array)\n",
    "# Calculate the average\n",
    "average = np.mean(array, axis = 0)\n",
    "\n",
    "# Print the average\n",
    "print(average)\n"
   ]
  },
  {
   "cell_type": "code",
   "execution_count": 22,
   "id": "a2f8a9a0",
   "metadata": {},
   "outputs": [
    {
     "data": {
      "text/plain": [
       "(2, 2)"
      ]
     },
     "execution_count": 22,
     "metadata": {},
     "output_type": "execute_result"
    }
   ],
   "source": [
    "np.shape(array)"
   ]
  },
  {
   "cell_type": "code",
   "execution_count": null,
   "id": "8d9138bb",
   "metadata": {},
   "outputs": [],
   "source": []
  },
  {
   "cell_type": "code",
   "execution_count": null,
   "id": "8851076d",
   "metadata": {},
   "outputs": [],
   "source": []
  },
  {
   "cell_type": "code",
   "execution_count": null,
   "id": "ebe4f932",
   "metadata": {},
   "outputs": [],
   "source": []
  },
  {
   "cell_type": "code",
   "execution_count": null,
   "id": "388430bc",
   "metadata": {},
   "outputs": [],
   "source": []
  },
  {
   "cell_type": "code",
   "execution_count": null,
   "id": "8ceb1097",
   "metadata": {},
   "outputs": [],
   "source": []
  },
  {
   "cell_type": "code",
   "execution_count": null,
   "id": "cd66d4f3",
   "metadata": {},
   "outputs": [],
   "source": []
  },
  {
   "cell_type": "code",
   "execution_count": null,
   "id": "4ef9dae0",
   "metadata": {},
   "outputs": [],
   "source": []
  },
  {
   "cell_type": "code",
   "execution_count": null,
   "id": "3cb976db",
   "metadata": {},
   "outputs": [],
   "source": []
  },
  {
   "cell_type": "code",
   "execution_count": null,
   "id": "532aafd8",
   "metadata": {},
   "outputs": [],
   "source": []
  },
  {
   "cell_type": "code",
   "execution_count": null,
   "id": "74d00ffb",
   "metadata": {},
   "outputs": [],
   "source": []
  },
  {
   "cell_type": "code",
   "execution_count": null,
   "id": "f73a30a5",
   "metadata": {},
   "outputs": [],
   "source": []
  }
 ],
 "metadata": {
  "kernelspec": {
   "display_name": "Python 3 (ipykernel)",
   "language": "python",
   "name": "python3"
  },
  "language_info": {
   "codemirror_mode": {
    "name": "ipython",
    "version": 3
   },
   "file_extension": ".py",
   "mimetype": "text/x-python",
   "name": "python",
   "nbconvert_exporter": "python",
   "pygments_lexer": "ipython3",
   "version": "3.8.16"
  }
 },
 "nbformat": 4,
 "nbformat_minor": 5
}
