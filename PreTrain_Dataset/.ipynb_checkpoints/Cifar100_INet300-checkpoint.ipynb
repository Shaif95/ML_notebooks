{
 "cells": [
  {
   "cell_type": "code",
   "execution_count": 13,
   "id": "2666249e",
   "metadata": {},
   "outputs": [
    {
     "name": "stdout",
     "output_type": "stream",
     "text": [
      "\u001b[1mDownloading and preparing dataset Unknown size (download: Unknown size, generated: Unknown size, total: Unknown size) to C:\\Users\\shaif\\tensorflow_datasets\\fashion_mnist\\3.0.1...\u001b[0m\n"
     ]
    },
    {
     "data": {
      "application/vnd.jupyter.widget-view+json": {
       "model_id": "d4ad2b64a6f74d03a2297e3fbc0543db",
       "version_major": 2,
       "version_minor": 0
      },
      "text/plain": [
       "Dl Completed...: 0 url [00:00, ? url/s]"
      ]
     },
     "metadata": {},
     "output_type": "display_data"
    },
    {
     "data": {
      "application/vnd.jupyter.widget-view+json": {
       "model_id": "ed4bf295ce004e09b89c32a2bb57ba9f",
       "version_major": 2,
       "version_minor": 0
      },
      "text/plain": [
       "Dl Size...: 0 MiB [00:00, ? MiB/s]"
      ]
     },
     "metadata": {},
     "output_type": "display_data"
    },
    {
     "data": {
      "application/vnd.jupyter.widget-view+json": {
       "model_id": "8bb2122aab2c4004bc584b534b703d2c",
       "version_major": 2,
       "version_minor": 0
      },
      "text/plain": [
       "Extraction completed...: 0 file [00:00, ? file/s]"
      ]
     },
     "metadata": {},
     "output_type": "display_data"
    },
    {
     "data": {
      "application/vnd.jupyter.widget-view+json": {
       "model_id": "",
       "version_major": 2,
       "version_minor": 0
      },
      "text/plain": [
       "Generating splits...:   0%|          | 0/2 [00:00<?, ? splits/s]"
      ]
     },
     "metadata": {},
     "output_type": "display_data"
    },
    {
     "data": {
      "application/vnd.jupyter.widget-view+json": {
       "model_id": "",
       "version_major": 2,
       "version_minor": 0
      },
      "text/plain": [
       "Generating train examples...: 0 examples [00:00, ? examples/s]"
      ]
     },
     "metadata": {},
     "output_type": "display_data"
    },
    {
     "data": {
      "application/vnd.jupyter.widget-view+json": {
       "model_id": "",
       "version_major": 2,
       "version_minor": 0
      },
      "text/plain": [
       "Shuffling C:\\Users\\shaif\\tensorflow_datasets\\fashion_mnist\\3.0.1.incompleteW4YWL6\\fashion_mnist-train.tfrecord…"
      ]
     },
     "metadata": {},
     "output_type": "display_data"
    },
    {
     "data": {
      "application/vnd.jupyter.widget-view+json": {
       "model_id": "",
       "version_major": 2,
       "version_minor": 0
      },
      "text/plain": [
       "Generating test examples...: 0 examples [00:00, ? examples/s]"
      ]
     },
     "metadata": {},
     "output_type": "display_data"
    },
    {
     "data": {
      "application/vnd.jupyter.widget-view+json": {
       "model_id": "",
       "version_major": 2,
       "version_minor": 0
      },
      "text/plain": [
       "Shuffling C:\\Users\\shaif\\tensorflow_datasets\\fashion_mnist\\3.0.1.incompleteW4YWL6\\fashion_mnist-test.tfrecord*…"
      ]
     },
     "metadata": {},
     "output_type": "display_data"
    },
    {
     "name": "stdout",
     "output_type": "stream",
     "text": [
      "\u001b[1mDataset fashion_mnist downloaded and prepared to C:\\Users\\shaif\\tensorflow_datasets\\fashion_mnist\\3.0.1. Subsequent calls will reuse this data.\u001b[0m\n"
     ]
    }
   ],
   "source": [
    "import tensorflow as tf\n",
    "from tensorflow import keras\n",
    "from tensorflow.keras.datasets import cifar100\n",
    "from tensorflow.keras.applications import MobileNet\n",
    "from tensorflow.keras.models import Sequential\n",
    "from tensorflow.keras.layers import Dense, GlobalAveragePooling2D\n",
    "from tensorflow.keras.optimizers import Adam\n",
    "from tensorflow.keras.preprocessing.image import ImageDataGenerator\n",
    "import numpy as np\n",
    "import tensorflow as tf\n",
    "import tensorflow_datasets as tfds\n",
    "from tensorflow.keras.utils import to_categorical\n",
    "\n",
    "def preprocess_image(image, label):\n",
    "    image = tf.image.resize(image, (32, 32))\n",
    "    image = tf.repeat(image, 3, axis=-1)\n",
    "    return image, label\n",
    "\n",
    "(ds_train, ds_test), ds_info = tfds.load(\n",
    "    'fashion_mnist',\n",
    "    split=['train', 'test'],\n",
    "    as_supervised=True,\n",
    "    with_info=True\n",
    ")\n",
    "\n",
    "ds_train = ds_train.map(preprocess_image)\n",
    "ds_test = ds_test.map(preprocess_image)\n",
    "\n",
    "X_train, Y_train = [], []\n",
    "for image, label in ds_train:\n",
    "    X_train.append(image.numpy())\n",
    "    Y_train.append(label.numpy())\n",
    "\n",
    "X_test, Y_test = [], []\n",
    "for image, label in ds_test:\n",
    "    X_test.append(image.numpy())\n",
    "    Y_test.append(label.numpy())\n",
    "\n",
    "X_train = np.array(X_train)\n",
    "Y_train = np.array(Y_train)\n",
    "X_test = np.array(X_test)\n",
    "Y_test = np.array(Y_test)\n",
    "\n",
    "# Convert the labels to one-hot encoded categorical format\n",
    "num_classes = ds_info.features['label'].num_classes\n",
    "Y_train = to_categorical(Y_train, num_classes)\n",
    "Y_test = to_categorical(Y_test, num_classes)\n"
   ]
  },
  {
   "cell_type": "code",
   "execution_count": 14,
   "id": "3fe20ab2",
   "metadata": {},
   "outputs": [
    {
     "name": "stdout",
     "output_type": "stream",
     "text": [
      "(60000, 32, 32, 3)\n",
      "(60000, 10)\n",
      "(10000, 32, 32, 3)\n",
      "(10000, 10)\n"
     ]
    }
   ],
   "source": [
    "print( np.shape(X_train))\n",
    "print(np.shape(Y_train)) \n",
    "print(np.shape(X_test)) \n",
    "print(np.shape(Y_test)) "
   ]
  },
  {
   "cell_type": "code",
   "execution_count": 33,
   "id": "2f9dda49",
   "metadata": {},
   "outputs": [],
   "source": [
    "from tensorflow import keras\n",
    "model = keras.models.load_model(r'D:\\Python\\1000class_model.h5')\n",
    "#model = keras.models.load_model(r'D:\\Python\\300class_model.h5')"
   ]
  },
  {
   "cell_type": "code",
   "execution_count": 34,
   "id": "a07a19a9",
   "metadata": {},
   "outputs": [
    {
     "name": "stdout",
     "output_type": "stream",
     "text": [
      "Epoch 1/20\n",
      "750/750 [==============================] - 43s 50ms/step - loss: 0.5520 - accuracy: 0.8370 - val_loss: 2.4598 - val_accuracy: 0.7139\n",
      "Epoch 2/20\n",
      "750/750 [==============================] - 34s 45ms/step - loss: 0.3666 - accuracy: 0.8789 - val_loss: 0.3011 - val_accuracy: 0.8920\n",
      "Epoch 3/20\n",
      "750/750 [==============================] - 34s 46ms/step - loss: 0.2841 - accuracy: 0.8985 - val_loss: 0.2666 - val_accuracy: 0.8995\n",
      "Epoch 4/20\n",
      "750/750 [==============================] - 35s 47ms/step - loss: 0.2526 - accuracy: 0.9108 - val_loss: 0.2569 - val_accuracy: 0.9057\n",
      "Epoch 5/20\n",
      "750/750 [==============================] - 39s 52ms/step - loss: 0.4026 - accuracy: 0.8694 - val_loss: 0.4759 - val_accuracy: 0.8210\n",
      "Epoch 6/20\n",
      "750/750 [==============================] - 38s 51ms/step - loss: 0.4849 - accuracy: 0.8601 - val_loss: 0.3337 - val_accuracy: 0.8801\n",
      "Epoch 7/20\n",
      "750/750 [==============================] - 38s 51ms/step - loss: 0.3419 - accuracy: 0.8889 - val_loss: 0.2921 - val_accuracy: 0.8919\n",
      "Epoch 8/20\n",
      "750/750 [==============================] - 42s 56ms/step - loss: 0.2576 - accuracy: 0.9073 - val_loss: 0.2528 - val_accuracy: 0.9067\n",
      "Epoch 9/20\n",
      "750/750 [==============================] - 39s 52ms/step - loss: 0.2296 - accuracy: 0.9178 - val_loss: 0.2441 - val_accuracy: 0.9118\n",
      "Epoch 10/20\n",
      "750/750 [==============================] - 40s 54ms/step - loss: 0.2774 - accuracy: 0.9081 - val_loss: 0.2330 - val_accuracy: 0.9168\n",
      "Epoch 11/20\n",
      "750/750 [==============================] - 43s 57ms/step - loss: 0.2627 - accuracy: 0.9124 - val_loss: 127.9442 - val_accuracy: 0.2988\n",
      "Epoch 12/20\n",
      "750/750 [==============================] - 41s 54ms/step - loss: 0.3096 - accuracy: 0.8912 - val_loss: 0.2809 - val_accuracy: 0.8978\n",
      "Epoch 13/20\n",
      "750/750 [==============================] - 39s 52ms/step - loss: 0.2338 - accuracy: 0.9170 - val_loss: 0.2648 - val_accuracy: 0.8983\n",
      "Epoch 14/20\n",
      "750/750 [==============================] - 44s 59ms/step - loss: 0.2151 - accuracy: 0.9248 - val_loss: 0.2526 - val_accuracy: 0.9100\n",
      "Epoch 15/20\n",
      "750/750 [==============================] - 39s 51ms/step - loss: 0.1957 - accuracy: 0.9309 - val_loss: 0.2415 - val_accuracy: 0.9116\n",
      "Epoch 16/20\n",
      "750/750 [==============================] - 40s 53ms/step - loss: 0.2991 - accuracy: 0.9058 - val_loss: 0.2482 - val_accuracy: 0.9102\n",
      "Epoch 17/20\n",
      "750/750 [==============================] - 42s 56ms/step - loss: 0.3517 - accuracy: 0.8836 - val_loss: 0.3138 - val_accuracy: 0.8811\n",
      "Epoch 18/20\n",
      "750/750 [==============================] - 37s 50ms/step - loss: 0.2603 - accuracy: 0.9072 - val_loss: 0.2376 - val_accuracy: 0.9122\n",
      "Epoch 19/20\n",
      "750/750 [==============================] - 39s 52ms/step - loss: 0.2029 - accuracy: 0.9248 - val_loss: 0.2391 - val_accuracy: 0.9141\n",
      "Epoch 20/20\n",
      "750/750 [==============================] - 39s 51ms/step - loss: 0.2226 - accuracy: 0.9233 - val_loss: 0.2365 - val_accuracy: 0.9129\n"
     ]
    },
    {
     "data": {
      "text/plain": [
       "<keras.callbacks.History at 0x1bfaf13df70>"
      ]
     },
     "execution_count": 34,
     "metadata": {},
     "output_type": "execute_result"
    }
   ],
   "source": [
    "from tensorflow.keras.applications import ResNet50\n",
    "from tensorflow.keras.models import Sequential\n",
    "from tensorflow.keras.layers import Dense, GlobalAveragePooling2D\n",
    "    \n",
    "num_classes = 10  # Update with the actual number of classes in your target data\n",
    "x = model.layers[-4].output  # Access the last 4th layer from the end\n",
    "x = GlobalAveragePooling2D()(x)\n",
    "output = Dense(num_classes, activation='softmax')(x)\n",
    "\n",
    "# Create the new model with the updated head\n",
    "new_model = keras.models.Model(inputs=model.input, outputs=output)\n",
    "\n",
    "# Compile the model\n",
    "new_model.compile(optimizer='adam', loss='categorical_crossentropy', metrics=['accuracy'])\n",
    "\n",
    "# Train the model\n",
    "new_model.fit(X_train, Y_train, batch_size=64, epochs=20, validation_split=0.2)"
   ]
  },
  {
   "cell_type": "code",
   "execution_count": 35,
   "id": "89cd60d5",
   "metadata": {},
   "outputs": [
    {
     "name": "stdout",
     "output_type": "stream",
     "text": [
      "Accuracy: 0.8983\n",
      "F1 Score (Micro): 0.8983\n"
     ]
    }
   ],
   "source": [
    "import numpy as np\n",
    "from sklearn.metrics import accuracy_score, f1_score\n",
    "\n",
    "# Assuming you have trained a model and obtained predicted probabilities on x_test\n",
    "y_pred_prob = new_model.predict(X_test)\n",
    "\n",
    "# Convert predicted probabilities to predicted labels\n",
    "y_pred = np.argmax(y_pred_prob, axis=1)\n",
    "\n",
    "# Convert y_test to predicted labels format\n",
    "y_test_labels = np.argmax(Y_test, axis=1)\n",
    "\n",
    "# Calculate accuracy\n",
    "accuracy = accuracy_score(y_test_labels, y_pred)\n",
    "print(\"Accuracy:\", accuracy)\n",
    "\n",
    "# Calculate F1 score (micro-average)\n",
    "f1_micro = f1_score(y_test_labels, y_pred, average='micro')\n",
    "print(\"F1 Score (Micro):\", f1_micro)"
   ]
  },
  {
   "cell_type": "code",
   "execution_count": null,
   "id": "960bd789",
   "metadata": {},
   "outputs": [],
   "source": []
  },
  {
   "cell_type": "code",
   "execution_count": null,
   "id": "bed19658",
   "metadata": {},
   "outputs": [],
   "source": []
  },
  {
   "cell_type": "code",
   "execution_count": null,
   "id": "37bb84f1",
   "metadata": {},
   "outputs": [],
   "source": []
  },
  {
   "cell_type": "code",
   "execution_count": null,
   "id": "dd0d6e0e",
   "metadata": {},
   "outputs": [],
   "source": []
  },
  {
   "cell_type": "code",
   "execution_count": null,
   "id": "59bf6c5f",
   "metadata": {},
   "outputs": [],
   "source": []
  },
  {
   "cell_type": "code",
   "execution_count": null,
   "id": "dd0e08c8",
   "metadata": {},
   "outputs": [],
   "source": []
  },
  {
   "cell_type": "code",
   "execution_count": null,
   "id": "a13d1eb1",
   "metadata": {},
   "outputs": [],
   "source": []
  },
  {
   "cell_type": "code",
   "execution_count": null,
   "id": "bcaeb1e4",
   "metadata": {},
   "outputs": [],
   "source": []
  },
  {
   "cell_type": "code",
   "execution_count": null,
   "id": "5fd75a3b",
   "metadata": {},
   "outputs": [],
   "source": []
  },
  {
   "cell_type": "code",
   "execution_count": null,
   "id": "d0ab04b4",
   "metadata": {},
   "outputs": [],
   "source": []
  },
  {
   "cell_type": "code",
   "execution_count": null,
   "id": "e4aaefb3",
   "metadata": {},
   "outputs": [],
   "source": []
  },
  {
   "cell_type": "code",
   "execution_count": null,
   "id": "4c9fe711",
   "metadata": {},
   "outputs": [],
   "source": []
  },
  {
   "cell_type": "code",
   "execution_count": null,
   "id": "0e2d3286",
   "metadata": {},
   "outputs": [],
   "source": []
  },
  {
   "cell_type": "code",
   "execution_count": null,
   "id": "d5f1b34d",
   "metadata": {},
   "outputs": [],
   "source": []
  }
 ],
 "metadata": {
  "kernelspec": {
   "display_name": "Python 3 (ipykernel)",
   "language": "python",
   "name": "python3"
  },
  "language_info": {
   "codemirror_mode": {
    "name": "ipython",
    "version": 3
   },
   "file_extension": ".py",
   "mimetype": "text/x-python",
   "name": "python",
   "nbconvert_exporter": "python",
   "pygments_lexer": "ipython3",
   "version": "3.8.16"
  }
 },
 "nbformat": 4,
 "nbformat_minor": 5
}
