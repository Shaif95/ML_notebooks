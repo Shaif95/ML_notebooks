{
 "cells": [
  {
   "cell_type": "code",
   "execution_count": null,
   "id": "896f6083",
   "metadata": {},
   "outputs": [],
   "source": [
    "import numpy as np # linear algebra\n",
    "import pandas as pd # data processing, CSV file I/O (e.g. pd.read_csv)\n",
    "import os\n",
    "from sklearn.model_selection import train_test_split\n",
    "import json\n",
    "import glob\n",
    "import random\n",
    "import collections\n",
    "from glob import glob\n",
    "import numpy as np\n",
    "import pandas as pd\n",
    "#import cv2\n",
    "import matplotlib.pyplot as plt\n",
    "import seaborn as sns\n",
    "import shutil\n",
    "import keras\n",
    "import numpy as np # linear algebra\n",
    "import pandas as pd # data processing, CSV file I/O (e.g. pd.read_csv)\n",
    "import os\n",
    "from sklearn.model_selection import train_test_split\n",
    "import json\n",
    "import glob\n",
    "import random\n",
    "import collections\n",
    "from glob import glob\n",
    "import numpy as np\n",
    "import pandas as pd\n",
    "#import cv2\n",
    "import matplotlib.pyplot as plt\n",
    "import numpy as np\n",
    "import pandas as pd\n",
    "from sklearn.utils import shuffle\n",
    "\n",
    "from skimage.io import imread\n",
    "from skimage.transform import resize\n",
    "from keras import layers\n",
    "from keras import models\n",
    "import keras\n",
    "from keras.layers import LeakyReLU\n",
    "from keras.models import Sequential, Model, load_model\n",
    "from keras.layers import Input, Conv1D, Conv2D, MaxPooling1D, MaxPooling2D, Dense, Dropout, Activation, Flatten\n",
    "import tensorflow as tf\n",
    "from tensorflow import keras\n",
    "from tensorflow.keras import layers\n",
    "\n",
    "import seaborn as sns\n",
    "import shutil\n",
    "import keras\n",
    "from PIL import Image\n",
    "#import cv2\n",
    "import numpy as np\n",
    "import matplotlib.pyplot as plt\n",
    "%matplotlib inline\n",
    "import pandas as pd\n",
    "import keras\n",
    "import json\n",
    "import tensorflow as tf \n",
    "from keras.layers import Input\n",
    "from keras import Sequential\n",
    "from keras.layers import Dense, LSTM,Flatten, TimeDistributed, Conv2D, Dropout\n",
    "from keras.applications.inception_v3 import InceptionV3\n",
    "from keras.applications.vgg16 import VGG16\n",
    "import tensorflow_datasets as tfds\n",
    "import tensorflow as tf\n",
    "from tensorflow import keras\n",
    "from tensorflow.keras import layers\n",
    "import matplotlib.pyplot as plt\n",
    "import re\n",
    "import string\n",
    "\n",
    "tfds.disable_progress_bar()\n",
    "from keras.models import load_model\n",
    "from keras.callbacks import Callback,ModelCheckpoint\n",
    "from keras.models import Sequential,load_model\n",
    "from keras.layers import Dense, Dropout\n",
    "from keras.wrappers.scikit_learn import KerasClassifier\n",
    "import keras.backend as K\n",
    "import numpy as np\n",
    "import pandas as pd\n",
    "\n",
    "from skimage.io import imread\n",
    "from skimage.transform import resize\n",
    "from keras import layers\n",
    "from keras import models\n",
    "import keras\n",
    "from keras.layers import LeakyReLU\n",
    "from keras.models import Sequential, Model, load_model\n",
    "from keras.layers import Input, Conv1D,Reshape, Conv2D, MaxPooling1D, MaxPooling2D, Dense, Dropout, Activation, Flatten, UpSampling2D\n",
    "import tensorflow as tf\n",
    "from tensorflow import keras\n",
    "from tensorflow.keras import layers\n",
    "\n",
    "import numpy as np\n",
    "import pandas as pd\n",
    "\n",
    "from skimage.io import imread\n",
    "from skimage.transform import resize\n",
    "from keras import layers\n",
    "from keras import models\n",
    "import keras\n",
    "from keras.layers import LeakyReLU\n",
    "from keras.models import Sequential, Model, load_model\n",
    "from keras.layers import Input, Conv1D, Conv2D, MaxPooling1D, MaxPooling2D, Dense, Dropout, Activation, Flatten\n",
    "import tensorflow as tf\n",
    "from tensorflow import keras\n",
    "from tensorflow.keras import layers\n",
    "\n",
    "from keras.callbacks import Callback,ModelCheckpoint\n",
    "from keras.models import Sequential,load_model\n",
    "from keras.layers import Dense, Dropout\n",
    "from keras.wrappers.scikit_learn import KerasClassifier\n",
    "import keras.backend as K\n",
    "\n",
    "def get_f1(y_true, y_pred): #taken from old keras source code\n",
    "    tp = K.sum(K.round(K.clip(y_true * y_pred, 0, 1)))\n",
    "    \n",
    "    tn = K.sum(K.round(K.clip((1-y_true) * (1-y_pred), 0, 1)))\n",
    "    fp = K.sum(K.round(K.clip((1-y_true) * (y_pred), 0, 1)))\n",
    "    fn = K.sum(K.round(K.clip((y_true) * (1-y_pred), 0, 1)))\n",
    "    \n",
    "\n",
    "    f1_val = tp / ( tp + ( (1/2) * (fp+fn) ) + K.epsilon())\n",
    "    return f1_val\n",
    "from PIL import Image"
   ]
  },
  {
   "cell_type": "code",
   "execution_count": 2,
   "id": "1a4944a4",
   "metadata": {},
   "outputs": [],
   "source": [
    "from glob import glob\n",
    "trn1='E:/zois-data/2021-09-22_106_OceanFrontPark/OceanFront/ASF/*/'\n",
    "\n",
    "tr1= glob(trn1)"
   ]
  },
  {
   "cell_type": "code",
   "execution_count": 3,
   "id": "d329a5c5",
   "metadata": {},
   "outputs": [
    {
     "data": {
      "text/plain": [
       "['E:/zois-data/2021-09-22_106_OceanFrontPark/OceanFront/ASF\\\\Bubbles\\\\',\n",
       " 'E:/zois-data/2021-09-22_106_OceanFrontPark/OceanFront/ASF\\\\chaetognath\\\\',\n",
       " 'E:/zois-data/2021-09-22_106_OceanFrontPark/OceanFront/ASF\\\\Copepod\\\\',\n",
       " 'E:/zois-data/2021-09-22_106_OceanFrontPark/OceanFront/ASF\\\\ctenophore\\\\',\n",
       " 'E:/zois-data/2021-09-22_106_OceanFrontPark/OceanFront/ASF\\\\phytoplankton\\\\',\n",
       " 'E:/zois-data/2021-09-22_106_OceanFrontPark/OceanFront/ASF\\\\trichodesmium\\\\']"
      ]
     },
     "execution_count": 3,
     "metadata": {},
     "output_type": "execute_result"
    }
   ],
   "source": [
    "tr1"
   ]
  },
  {
   "cell_type": "code",
   "execution_count": 6,
   "id": "02b8ee59",
   "metadata": {},
   "outputs": [],
   "source": [
    "data = []\n",
    "label = []\n",
    "limit = []\n",
    "l = 0\n",
    "\n",
    "for i in tr1:\n",
    "    s = 0\n",
    "    y = glob(i+'/*')\n",
    "    for j in range(0,len(y)):\n",
    "            \n",
    "        data.append(y[j])\n",
    "        label.append(l)\n",
    "        s = s + 1\n",
    "        \n",
    "    limit.append(s)\n",
    "    l=l+1\n",
    "\n",
    "    \n",
    "imgdata=[]\n",
    "for i in range(len(data)):\n",
    "    a = Image.open(data[i])\n",
    "    b = a.resize((32, 32))\n",
    "    c = np.array(b)\n",
    "    imgdata.append(c.reshape(32,32,1))\n"
   ]
  },
  {
   "cell_type": "code",
   "execution_count": 7,
   "id": "deff7d25",
   "metadata": {},
   "outputs": [],
   "source": [
    "from tensorflow.keras.utils import to_categorical\n",
    "idata = np.array(imgdata)\n",
    "idata = idata.astype('float32') / 255.\n",
    "idata = np.reshape(idata, (len(idata),32,32,1))\n",
    "# One hot vector representation of labels\n",
    "yt = to_categorical(label)\n",
    "\n",
    "idata,yt = shuffle(idata,yt)\n",
    "\n",
    "X_train, X_test, Y_train, Y_test = train_test_split( idata,yt  , test_size=0.2, random_state=40 )"
   ]
  },
  {
   "cell_type": "code",
   "execution_count": 9,
   "id": "9db503db",
   "metadata": {},
   "outputs": [
    {
     "data": {
      "text/plain": [
       "(27336, 32, 32, 1)"
      ]
     },
     "execution_count": 9,
     "metadata": {},
     "output_type": "execute_result"
    }
   ],
   "source": [
    "np.shape(X_test)"
   ]
  },
  {
   "cell_type": "code",
   "execution_count": 11,
   "id": "3c206aaa",
   "metadata": {},
   "outputs": [
    {
     "name": "stdout",
     "output_type": "stream",
     "text": [
      "Model: \"sequential_1\"\n",
      "_________________________________________________________________\n",
      " Layer (type)                Output Shape              Param #   \n",
      "=================================================================\n",
      " conv2d_4 (Conv2D)           (None, 30, 30, 16)        160       \n",
      "                                                                 \n",
      " conv2d_5 (Conv2D)           (None, 28, 28, 16)        2320      \n",
      "                                                                 \n",
      " max_pooling2d_2 (MaxPooling  (None, 14, 14, 16)       0         \n",
      " 2D)                                                             \n",
      "                                                                 \n",
      " conv2d_6 (Conv2D)           (None, 12, 12, 32)        4640      \n",
      "                                                                 \n",
      " conv2d_7 (Conv2D)           (None, 10, 10, 32)        9248      \n",
      "                                                                 \n",
      " max_pooling2d_3 (MaxPooling  (None, 5, 5, 32)         0         \n",
      " 2D)                                                             \n",
      "                                                                 \n",
      " flatten_1 (Flatten)         (None, 800)               0         \n",
      "                                                                 \n",
      " dense_2 (Dense)             (None, 20)                16020     \n",
      "                                                                 \n",
      " dense_3 (Dense)             (None, 6)                 126       \n",
      "                                                                 \n",
      "=================================================================\n",
      "Total params: 32,514\n",
      "Trainable params: 32,514\n",
      "Non-trainable params: 0\n",
      "_________________________________________________________________\n"
     ]
    }
   ],
   "source": [
    "\n",
    "model = models.Sequential()\n",
    "model.add(layers.Conv2D(16, (3, 3), input_shape=(32, 32,1)))\n",
    "model.add(layers.Conv2D(16, (3, 3), activation=\"relu\"))\n",
    "model.add(layers.MaxPooling2D((2, 2)))\n",
    "model.add(layers.Conv2D(32, (3, 3),))\n",
    "model.add(layers.Conv2D(32, (3, 3),))\n",
    "model.add(layers.MaxPooling2D((2, 2)))\n",
    "model.add(layers.Flatten()) \n",
    "model.add(layers.Dense(20))\n",
    "model.add(layers.Dense(6,activation=\"softmax\"))\n",
    "model.summary()"
   ]
  },
  {
   "cell_type": "code",
   "execution_count": 12,
   "id": "3523d86d",
   "metadata": {},
   "outputs": [
    {
     "name": "stdout",
     "output_type": "stream",
     "text": [
      "Epoch 1/20\n",
      "2392/2392 [==============================] - 78s 32ms/step - loss: 0.7069 - accuracy: 0.7380 - val_loss: 0.6204 - val_accuracy: 0.7696\n",
      "Epoch 2/20\n",
      "2392/2392 [==============================] - 76s 32ms/step - loss: 0.5924 - accuracy: 0.7758 - val_loss: 0.5702 - val_accuracy: 0.7828\n",
      "Epoch 3/20\n",
      "2392/2392 [==============================] - 77s 32ms/step - loss: 0.5612 - accuracy: 0.7854 - val_loss: 0.5522 - val_accuracy: 0.7867\n",
      "Epoch 4/20\n",
      "2392/2392 [==============================] - 84s 35ms/step - loss: 0.5415 - accuracy: 0.7913 - val_loss: 0.5449 - val_accuracy: 0.7899\n",
      "Epoch 5/20\n",
      "2392/2392 [==============================] - 90s 38ms/step - loss: 0.5279 - accuracy: 0.7971 - val_loss: 0.5862 - val_accuracy: 0.7727\n",
      "Epoch 6/20\n",
      "2392/2392 [==============================] - 82s 34ms/step - loss: 0.5161 - accuracy: 0.8007 - val_loss: 0.5337 - val_accuracy: 0.7978\n",
      "Epoch 7/20\n",
      "2392/2392 [==============================] - 76s 32ms/step - loss: 0.5057 - accuracy: 0.8053 - val_loss: 0.5630 - val_accuracy: 0.7846\n",
      "Epoch 8/20\n",
      "2392/2392 [==============================] - 77s 32ms/step - loss: 0.4970 - accuracy: 0.8066 - val_loss: 0.5345 - val_accuracy: 0.7980\n",
      "Epoch 9/20\n",
      "2392/2392 [==============================] - 81s 34ms/step - loss: 0.4885 - accuracy: 0.8108 - val_loss: 0.5404 - val_accuracy: 0.7931\n",
      "Epoch 10/20\n",
      "2392/2392 [==============================] - 91s 38ms/step - loss: 0.4807 - accuracy: 0.8128 - val_loss: 0.5406 - val_accuracy: 0.7926\n",
      "Epoch 11/20\n",
      "2392/2392 [==============================] - 74s 31ms/step - loss: 0.4764 - accuracy: 0.8141 - val_loss: 0.5496 - val_accuracy: 0.7962\n",
      "Epoch 12/20\n",
      "2392/2392 [==============================] - 70s 29ms/step - loss: 0.4670 - accuracy: 0.8167 - val_loss: 0.5597 - val_accuracy: 0.7931\n",
      "Epoch 13/20\n",
      "2392/2392 [==============================] - 70s 29ms/step - loss: 0.4603 - accuracy: 0.8202 - val_loss: 0.5585 - val_accuracy: 0.7864\n",
      "Epoch 14/20\n",
      "2392/2392 [==============================] - 69s 29ms/step - loss: 0.4563 - accuracy: 0.8227 - val_loss: 0.5605 - val_accuracy: 0.7881\n",
      "Epoch 15/20\n",
      "2392/2392 [==============================] - 71s 30ms/step - loss: 0.4507 - accuracy: 0.8241 - val_loss: 0.5614 - val_accuracy: 0.7874\n",
      "Epoch 16/20\n",
      "2392/2392 [==============================] - 69s 29ms/step - loss: 0.4458 - accuracy: 0.8254 - val_loss: 0.5628 - val_accuracy: 0.7917\n",
      "Epoch 17/20\n",
      "2392/2392 [==============================] - 71s 30ms/step - loss: 0.4391 - accuracy: 0.8289 - val_loss: 0.5829 - val_accuracy: 0.7893\n",
      "Epoch 18/20\n",
      "2392/2392 [==============================] - 79s 33ms/step - loss: 0.4362 - accuracy: 0.8297 - val_loss: 0.5766 - val_accuracy: 0.7896\n",
      "Epoch 19/20\n",
      "2392/2392 [==============================] - 85s 35ms/step - loss: 0.4312 - accuracy: 0.8323 - val_loss: 0.5784 - val_accuracy: 0.7832\n",
      "Epoch 20/20\n",
      "2392/2392 [==============================] - 94s 39ms/step - loss: 0.4272 - accuracy: 0.8331 - val_loss: 0.5875 - val_accuracy: 0.7912\n"
     ]
    },
    {
     "data": {
      "text/plain": [
       "<keras.callbacks.History at 0x171fa00ad90>"
      ]
     },
     "execution_count": 12,
     "metadata": {},
     "output_type": "execute_result"
    }
   ],
   "source": [
    "model.compile(optimizer='Adam',loss='categorical_crossentropy',metrics=('accuracy'))\n",
    "model.fit(X_train, Y_train, epochs=20, batch_size=32, validation_split = .3, verbose = 1)"
   ]
  },
  {
   "cell_type": "code",
   "execution_count": null,
   "id": "6c3b90fe",
   "metadata": {},
   "outputs": [],
   "source": []
  },
  {
   "cell_type": "code",
   "execution_count": null,
   "id": "8ad8c80d",
   "metadata": {},
   "outputs": [],
   "source": [
    "score, acc = model.evaluate(X_test, Y_test,\n",
    "                            batch_size=32)\n",
    "print('Test score:', score)\n",
    "print('Test accuracy:', acc)"
   ]
  },
  {
   "cell_type": "code",
   "execution_count": null,
   "id": "91ea8e9d",
   "metadata": {},
   "outputs": [],
   "source": []
  },
  {
   "cell_type": "code",
   "execution_count": null,
   "id": "d60e2f40",
   "metadata": {},
   "outputs": [],
   "source": []
  },
  {
   "cell_type": "code",
   "execution_count": null,
   "id": "c455bf7f",
   "metadata": {},
   "outputs": [],
   "source": []
  },
  {
   "cell_type": "code",
   "execution_count": null,
   "id": "757452db",
   "metadata": {},
   "outputs": [],
   "source": []
  },
  {
   "cell_type": "code",
   "execution_count": null,
   "id": "925f0077",
   "metadata": {},
   "outputs": [],
   "source": []
  },
  {
   "cell_type": "code",
   "execution_count": null,
   "id": "d5c27d1f",
   "metadata": {},
   "outputs": [],
   "source": []
  }
 ],
 "metadata": {
  "kernelspec": {
   "display_name": "Python 3 (ipykernel)",
   "language": "python",
   "name": "python3"
  },
  "language_info": {
   "codemirror_mode": {
    "name": "ipython",
    "version": 3
   },
   "file_extension": ".py",
   "mimetype": "text/x-python",
   "name": "python",
   "nbconvert_exporter": "python",
   "pygments_lexer": "ipython3",
   "version": "3.9.13"
  }
 },
 "nbformat": 4,
 "nbformat_minor": 5
}
