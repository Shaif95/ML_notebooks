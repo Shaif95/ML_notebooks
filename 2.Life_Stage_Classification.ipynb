{
 "cells": [
  {
   "cell_type": "code",
   "execution_count": 4,
   "id": "696d630c",
   "metadata": {},
   "outputs": [
    {
     "name": "stdout",
     "output_type": "stream",
     "text": [
      "X_train shape: (49227, 32, 32, 3)\n",
      "Y_train shape: (49227,)\n"
     ]
    }
   ],
   "source": [
    "import os\n",
    "from PIL import Image\n",
    "import numpy as np\n",
    "from sklearn.preprocessing import LabelEncoder, OneHotEncoder\n",
    "\n",
    "# Define the path to the directory\n",
    "directory_path = r'C:\\Users\\shaif\\Downloads\\Compressed\\Invasive_Life_Stage'\n",
    "\n",
    "# Initialize empty lists for images and labels\n",
    "X_train = []\n",
    "Y_train = []\n",
    "class_label = 0\n",
    "\n",
    "# Loop through subdirectories (classes)\n",
    "for folder in os.listdir(directory_path):\n",
    "    #print(class_folder)\n",
    "    clsp = os.path.join(directory_path,folder)  \n",
    "    for class_folder in os.listdir(clsp):\n",
    "        #print(class_folder)\n",
    "        class_path = os.path.join(clsp, class_folder)    \n",
    "        #print(class_path)\n",
    "        for image_file in os.listdir(class_path):\n",
    "            if image_file.endswith('.png'):\n",
    "                image_path = os.path.join(class_path, image_file)\n",
    "            \n",
    "            # Load image, convert to RGB and resize\n",
    "                img = Image.open(image_path).convert('RGB')\n",
    "                img = img.resize((32, 32))\n",
    "                img_array = np.array(img)\n",
    "            \n",
    "            # Append image and label to lists\n",
    "                X_train.append(img_array)\n",
    "                Y_train.append(class_label)\n",
    "                #print(class_label)\n",
    "    class_label = class_label + 1\n",
    "\n",
    "# Convert lists to numpy arrays\n",
    "X_train = np.array(X_train)\n",
    "Y_train = np.array(Y_train)\n",
    "\n",
    "print(f'X_train shape: {X_train.shape}')\n",
    "print(f'Y_train shape: {Y_train.shape}')\n"
   ]
  },
  {
   "cell_type": "code",
   "execution_count": 5,
   "id": "884830c6",
   "metadata": {},
   "outputs": [],
   "source": [
    "import numpy as np\n",
    "from tensorflow.keras.utils import to_categorical\n",
    "from sklearn.model_selection import train_test_split\n",
    "import numpy as np\n",
    "Y_train_encoded = to_categorical(Y_train)\n",
    "indices = np.arange(len(X_train))\n",
    "np.random.shuffle(indices)\n",
    "X_train_shuffled = X_train[indices]\n",
    "Y_train_encoded_shuffled = Y_train_encoded[indices]\n",
    "X_train, X_test, y_train, y_test = train_test_split(X_train_shuffled, Y_train_encoded_shuffled, test_size=0.2, random_state=42)"
   ]
  },
  {
   "cell_type": "code",
   "execution_count": null,
   "id": "3f0102e5",
   "metadata": {},
   "outputs": [],
   "source": []
  },
  {
   "cell_type": "code",
   "execution_count": 11,
   "id": "9af25d8d",
   "metadata": {},
   "outputs": [
    {
     "name": "stdout",
     "output_type": "stream",
     "text": [
      "WARNING:tensorflow:No training configuration found in the save file, so the model was *not* compiled. Compile it manually.\n",
      "Epoch 1/100\n",
      "985/985 [==============================] - 63s 55ms/step - loss: 157.0787 - accuracy: 0.4077 - val_loss: 29.1292 - val_accuracy: 0.4146\n",
      "Epoch 2/100\n",
      "985/985 [==============================] - 50s 51ms/step - loss: 21.4489 - accuracy: 0.4315 - val_loss: 12.7934 - val_accuracy: 0.3812\n",
      "Epoch 3/100\n",
      "985/985 [==============================] - 54s 55ms/step - loss: 7.3389 - accuracy: 0.4578 - val_loss: 8.3072 - val_accuracy: 0.5475\n",
      "Epoch 4/100\n",
      "985/985 [==============================] - 55s 56ms/step - loss: 12.6336 - accuracy: 0.4612 - val_loss: 8.6090 - val_accuracy: 0.4286\n",
      "Epoch 5/100\n",
      "985/985 [==============================] - 64s 65ms/step - loss: 5.0935 - accuracy: 0.4775 - val_loss: 2.3090 - val_accuracy: 0.5732\n",
      "Epoch 6/100\n",
      "985/985 [==============================] - 76s 78ms/step - loss: 2.9578 - accuracy: 0.4925 - val_loss: 1.9954 - val_accuracy: 0.4822\n",
      "Epoch 7/100\n",
      "985/985 [==============================] - 69s 70ms/step - loss: 2.6602 - accuracy: 0.5003 - val_loss: 5.9289 - val_accuracy: 0.5016\n",
      "Epoch 8/100\n",
      "985/985 [==============================] - 69s 70ms/step - loss: 3.2498 - accuracy: 0.5001 - val_loss: 4.7282 - val_accuracy: 0.5290\n",
      "Epoch 9/100\n",
      "985/985 [==============================] - 62s 63ms/step - loss: 2.8939 - accuracy: 0.5455 - val_loss: 46.7463 - val_accuracy: 0.2477\n",
      "Epoch 10/100\n",
      "985/985 [==============================] - 62s 63ms/step - loss: 2.2680 - accuracy: 0.5426 - val_loss: 8.7033 - val_accuracy: 0.5291\n",
      "Epoch 11/100\n",
      "985/985 [==============================] - 53s 54ms/step - loss: 1.4462 - accuracy: 0.5516 - val_loss: 36.6344 - val_accuracy: 0.5233\n",
      "Epoch 12/100\n",
      "985/985 [==============================] - 52s 53ms/step - loss: 3.0699 - accuracy: 0.5274 - val_loss: 195.7518 - val_accuracy: 0.5488\n",
      "Epoch 13/100\n",
      "985/985 [==============================] - 58s 59ms/step - loss: 5.0363 - accuracy: 0.5498 - val_loss: 97.4637 - val_accuracy: 0.4014\n",
      "Epoch 14/100\n",
      "985/985 [==============================] - 62s 63ms/step - loss: 2.2691 - accuracy: 0.5460 - val_loss: 1021.9914 - val_accuracy: 0.4660\n",
      "Epoch 15/100\n",
      "985/985 [==============================] - 64s 65ms/step - loss: 1.3905 - accuracy: 0.5701 - val_loss: 556.8237 - val_accuracy: 0.5324\n",
      "Epoch 15: early stopping\n"
     ]
    }
   ],
   "source": [
    "from tensorflow import keras\n",
    "from keras.models import load_model\n",
    "from tensorflow.keras.applications import ResNet50\n",
    "from tensorflow.keras.models import Sequential\n",
    "from tensorflow.keras.layers import Dense, GlobalAveragePooling1D\n",
    "\n",
    "model_path = r\"C:\\Users\\shaif\\Downloads\\invasive_ssl.h5\"\n",
    "model = load_model(model_path)\n",
    "#model.layers[0].trainable = False\n",
    "x = model.layers[-8].output  \n",
    "output = Dense(5, activation='softmax')(x)\n",
    "new_model = keras.models.Model(inputs=model.input, outputs=output)\n",
    "from keras.callbacks import EarlyStopping\n",
    "early_stopping = EarlyStopping(monitor='val_accuracy', patience=10, mode='max', verbose=1)\n",
    "new_model.compile(optimizer='Adam', loss='categorical_crossentropy', metrics=['accuracy'])\n",
    "history = new_model.fit(X_train, y_train, batch_size=32, epochs=100,validation_split=0.2, callbacks=[early_stopping])"
   ]
  },
  {
   "cell_type": "code",
   "execution_count": null,
   "id": "17df2a96",
   "metadata": {},
   "outputs": [],
   "source": []
  },
  {
   "cell_type": "code",
   "execution_count": 12,
   "id": "527c8253",
   "metadata": {},
   "outputs": [
    {
     "name": "stdout",
     "output_type": "stream",
     "text": [
      "Test Balanced Accuracy: 0.3002308718757795\n",
      "Test Accuracy: 0.5384927889498273\n"
     ]
    }
   ],
   "source": [
    "from sklearn.metrics import accuracy_score\n",
    "from sklearn.metrics import balanced_accuracy_score\n",
    "predictions = new_model.predict(np.array(X_test).astype('float32'))\n",
    "accuracy = accuracy_score(np.argmax(y_test, axis=1), np.argmax(predictions, axis=1))\n",
    "balanced_accuracy = balanced_accuracy_score(np.argmax(y_test, axis=1), np.argmax(predictions, axis=1))\n",
    "print(\"Test Balanced Accuracy:\", balanced_accuracy)\n",
    "print(\"Test Accuracy:\", accuracy)"
   ]
  },
  {
   "cell_type": "code",
   "execution_count": null,
   "id": "e9e13845",
   "metadata": {},
   "outputs": [],
   "source": []
  },
  {
   "cell_type": "code",
   "execution_count": null,
   "id": "e41ffb77",
   "metadata": {},
   "outputs": [],
   "source": []
  },
  {
   "cell_type": "code",
   "execution_count": null,
   "id": "7bc37585",
   "metadata": {},
   "outputs": [
    {
     "name": "stdout",
     "output_type": "stream",
     "text": [
      "Epoch 1/100\n",
      "985/985 [==============================] - 59s 55ms/step - loss: 1.3516 - accuracy: 0.6551 - val_loss: 2.1893 - val_accuracy: 0.6652\n",
      "Epoch 2/100\n",
      "985/985 [==============================] - 55s 55ms/step - loss: 0.7126 - accuracy: 0.7301 - val_loss: 0.5955 - val_accuracy: 0.7899\n",
      "Epoch 3/100\n",
      "985/985 [==============================] - 59s 60ms/step - loss: 0.6249 - accuracy: 0.7663 - val_loss: 0.8270 - val_accuracy: 0.6770\n",
      "Epoch 4/100\n",
      "985/985 [==============================] - 60s 60ms/step - loss: 0.6286 - accuracy: 0.7662 - val_loss: 1.3351 - val_accuracy: 0.5413\n",
      "Epoch 5/100\n",
      "985/985 [==============================] - 54s 55ms/step - loss: 0.6261 - accuracy: 0.7673 - val_loss: 8.4699 - val_accuracy: 0.7075\n",
      "Epoch 6/100\n",
      "985/985 [==============================] - 51s 51ms/step - loss: 0.7215 - accuracy: 0.7354 - val_loss: 1.1967 - val_accuracy: 0.6633\n",
      "Epoch 7/100\n",
      "985/985 [==============================] - 58s 59ms/step - loss: 0.6004 - accuracy: 0.7748 - val_loss: 0.9703 - val_accuracy: 0.5799\n",
      "Epoch 8/100\n",
      "985/985 [==============================] - 49s 50ms/step - loss: 0.5417 - accuracy: 0.7970 - val_loss: 0.6515 - val_accuracy: 0.7364\n",
      "Epoch 9/100\n",
      "985/985 [==============================] - 50s 51ms/step - loss: 0.5630 - accuracy: 0.7917 - val_loss: 1.6968 - val_accuracy: 0.5354\n",
      "Epoch 10/100\n",
      "332/985 [=========>....................] - ETA: 27s - loss: 0.6117 - accuracy: 0.7803"
     ]
    }
   ],
   "source": [
    "from tensorflow.keras.applications import MobileNetV2, ResNet50\n",
    "from tensorflow.keras.models import Model\n",
    "from tensorflow.keras.layers import Dense, GlobalAveragePooling2D\n",
    "\n",
    "base_model = ResNet50(include_top=False, weights=None, input_shape=(32,32,3), pooling=\"avg\")\n",
    "x =  Dense(500)(base_model.output)\n",
    "output = Dense(5, activation='softmax')(x)\n",
    "ne_model = Model(inputs=base_model.input, outputs=output)\n",
    "early_stopping = EarlyStopping(monitor='val_accuracy', patience=10, mode='max', verbose=1)\n",
    "ne_model.compile(optimizer='Adam', loss='categorical_crossentropy', metrics=['accuracy'])\n",
    "history = ne_model.fit(X_train, y_train, batch_size=32, epochs=100,validation_split=0.2, callbacks=[early_stopping])"
   ]
  },
  {
   "cell_type": "code",
   "execution_count": null,
   "id": "5388753c",
   "metadata": {},
   "outputs": [],
   "source": []
  },
  {
   "cell_type": "code",
   "execution_count": 28,
   "id": "7d77dab4",
   "metadata": {},
   "outputs": [
    {
     "name": "stdout",
     "output_type": "stream",
     "text": [
      "Test Accuracy: 0.6181190331098924\n"
     ]
    }
   ],
   "source": [
    "from sklearn.metrics import accuracy_score\n",
    "predictions = ne_model.predict(np.array(X_test).astype('float32'))\n",
    "accuracy = accuracy_score(np.argmax(y_test, axis=1), np.argmax(predictions, axis=1))\n",
    "print(\"Test Accuracy:\", accuracy)"
   ]
  },
  {
   "cell_type": "code",
   "execution_count": null,
   "id": "942ccc94",
   "metadata": {},
   "outputs": [],
   "source": []
  },
  {
   "cell_type": "code",
   "execution_count": null,
   "id": "e76349b6",
   "metadata": {},
   "outputs": [],
   "source": [
    "from tensorflow.keras.applications import MobileNetV2\n",
    "from tensorflow.keras.models import Model\n",
    "from tensorflow.keras.layers import Dense, GlobalAveragePooling2D\n",
    "\n",
    "base_model = MobileNetV2(include_top=False, weights=None, input_shape=(32,32,3), pooling=\"avg\")\n",
    "x =  Dense(500)(base_model.output)\n",
    "output = Dense(5, activation='softmax')(x) \n",
    "new_model = Model(inputs=base_model.input, outputs=output)\n",
    "new_model.compile(optimizer='Adam', loss='categorical_crossentropy', metrics=['accuracy'])\n",
    "new_model.fit(X_train, y_train, batch_size=32, epochs=100, validation_split=0.2)"
   ]
  },
  {
   "cell_type": "code",
   "execution_count": null,
   "id": "87d64a00",
   "metadata": {},
   "outputs": [],
   "source": []
  },
  {
   "cell_type": "code",
   "execution_count": null,
   "id": "4174111f",
   "metadata": {},
   "outputs": [],
   "source": [
    "from sklearn.metrics import accuracy_score\n",
    "predictions = new_model.predict(np.array(X_test).astype('float32'))\n",
    "accuracy = accuracy_score(np.argmax(y_test, axis=1), np.argmax(predictions, axis=1))\n",
    "print(\"Test Accuracy:\", accuracy)"
   ]
  },
  {
   "cell_type": "code",
   "execution_count": null,
   "id": "b7a46cd7",
   "metadata": {},
   "outputs": [],
   "source": []
  },
  {
   "cell_type": "code",
   "execution_count": null,
   "id": "17b14ce7",
   "metadata": {},
   "outputs": [],
   "source": []
  },
  {
   "cell_type": "code",
   "execution_count": null,
   "id": "dc49d284",
   "metadata": {},
   "outputs": [],
   "source": []
  },
  {
   "cell_type": "code",
   "execution_count": null,
   "id": "03e8f928",
   "metadata": {},
   "outputs": [],
   "source": []
  },
  {
   "cell_type": "code",
   "execution_count": null,
   "id": "9e3c63c8",
   "metadata": {},
   "outputs": [],
   "source": []
  },
  {
   "cell_type": "code",
   "execution_count": null,
   "id": "d552da65",
   "metadata": {},
   "outputs": [],
   "source": []
  }
 ],
 "metadata": {
  "kernelspec": {
   "display_name": "Python 3 (ipykernel)",
   "language": "python",
   "name": "python3"
  },
  "language_info": {
   "codemirror_mode": {
    "name": "ipython",
    "version": 3
   },
   "file_extension": ".py",
   "mimetype": "text/x-python",
   "name": "python",
   "nbconvert_exporter": "python",
   "pygments_lexer": "ipython3",
   "version": "3.8.18"
  }
 },
 "nbformat": 4,
 "nbformat_minor": 5
}
