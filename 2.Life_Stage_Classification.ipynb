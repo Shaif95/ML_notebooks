{
 "cells": [
  {
   "cell_type": "code",
   "execution_count": 1,
   "id": "696d630c",
   "metadata": {},
   "outputs": [
    {
     "name": "stderr",
     "output_type": "stream",
     "text": [
      "C:\\Users\\shaif\\anaconda3\\envs\\tens\\lib\\site-packages\\scipy\\__init__.py:146: UserWarning: A NumPy version >=1.16.5 and <1.23.0 is required for this version of SciPy (detected version 1.24.3\n",
      "  warnings.warn(f\"A NumPy version >={np_minversion} and <{np_maxversion}\"\n"
     ]
    },
    {
     "name": "stdout",
     "output_type": "stream",
     "text": [
      "X_train shape: (49227, 32, 32, 3)\n",
      "Y_train shape: (49227,)\n"
     ]
    }
   ],
   "source": [
    "import os\n",
    "from PIL import Image\n",
    "import numpy as np\n",
    "from sklearn.preprocessing import LabelEncoder, OneHotEncoder\n",
    "\n",
    "# Define the path to the directory\n",
    "directory_path = r'C:\\Users\\shaif\\Downloads\\Compressed\\Invasive_Life_Stage'\n",
    "\n",
    "# Initialize empty lists for images and labels\n",
    "X_train = []\n",
    "Y_train = []\n",
    "class_label = 0\n",
    "\n",
    "# Loop through subdirectories (classes)\n",
    "for folder in os.listdir(directory_path):\n",
    "    #print(class_folder)\n",
    "    clsp = os.path.join(directory_path,folder)  \n",
    "    for class_folder in os.listdir(clsp):\n",
    "        #print(class_folder)\n",
    "        class_path = os.path.join(clsp, class_folder)    \n",
    "        #print(class_path)\n",
    "        for image_file in os.listdir(class_path):\n",
    "            if image_file.endswith('.png'):\n",
    "                image_path = os.path.join(class_path, image_file)\n",
    "            \n",
    "            # Load image, convert to RGB and resize\n",
    "                img = Image.open(image_path).convert('RGB')\n",
    "                img = img.resize((32, 32))\n",
    "                img_array = np.array(img)\n",
    "            \n",
    "            # Append image and label to lists\n",
    "                X_train.append(img_array)\n",
    "                Y_train.append(class_label)\n",
    "                #print(class_label)\n",
    "    class_label = class_label + 1\n",
    "\n",
    "# Convert lists to numpy arrays\n",
    "X_train = np.array(X_train)\n",
    "Y_train = np.array(Y_train)\n",
    "\n",
    "print(f'X_train shape: {X_train.shape}')\n",
    "print(f'Y_train shape: {Y_train.shape}')\n"
   ]
  },
  {
   "cell_type": "code",
   "execution_count": 2,
   "id": "884830c6",
   "metadata": {},
   "outputs": [],
   "source": [
    "import numpy as np\n",
    "from tensorflow.keras.utils import to_categorical\n",
    "from sklearn.model_selection import train_test_split\n",
    "import numpy as np\n",
    "Y_train_encoded = to_categorical(Y_train)\n",
    "indices = np.arange(len(X_train))\n",
    "np.random.shuffle(indices)\n",
    "X_train_shuffled = X_train[indices]\n",
    "Y_train_encoded_shuffled = Y_train_encoded[indices]\n",
    "X_train, X_test, y_train, y_test = train_test_split(X_train_shuffled, Y_train_encoded_shuffled, test_size=0.2, random_state=42)"
   ]
  },
  {
   "cell_type": "code",
   "execution_count": null,
   "id": "3f0102e5",
   "metadata": {},
   "outputs": [],
   "source": []
  },
  {
   "cell_type": "code",
   "execution_count": null,
   "id": "9af25d8d",
   "metadata": {},
   "outputs": [
    {
     "name": "stdout",
     "output_type": "stream",
     "text": [
      "WARNING:tensorflow:No training configuration found in the save file, so the model was *not* compiled. Compile it manually.\n",
      "Epoch 1/100\n",
      "985/985 [==============================] - 81s 56ms/step - loss: 30.2644 - accuracy: 0.4280 - val_loss: 3.2980 - val_accuracy: 0.5002\n",
      "Epoch 2/100\n",
      "985/985 [==============================] - 51s 51ms/step - loss: 2.7378 - accuracy: 0.4884 - val_loss: 2.9760 - val_accuracy: 0.5248\n",
      "Epoch 3/100\n",
      "985/985 [==============================] - 49s 49ms/step - loss: 1.8192 - accuracy: 0.5430 - val_loss: 2.1368 - val_accuracy: 0.5599\n",
      "Epoch 4/100\n",
      "985/985 [==============================] - 49s 50ms/step - loss: 1.4590 - accuracy: 0.6007 - val_loss: 1.2664 - val_accuracy: 0.6208\n",
      "Epoch 5/100\n",
      "985/985 [==============================] - 49s 50ms/step - loss: 1.2583 - accuracy: 0.6411 - val_loss: 1.2571 - val_accuracy: 0.6792\n",
      "Epoch 6/100\n",
      "985/985 [==============================] - 48s 48ms/step - loss: 1.1210 - accuracy: 0.6714 - val_loss: 0.9377 - val_accuracy: 0.7036\n",
      "Epoch 7/100\n",
      "985/985 [==============================] - 49s 50ms/step - loss: 0.9997 - accuracy: 0.6894 - val_loss: 1.2494 - val_accuracy: 0.7015\n",
      "Epoch 8/100\n",
      "985/985 [==============================] - 46s 47ms/step - loss: 0.8941 - accuracy: 0.7051 - val_loss: 0.9326 - val_accuracy: 0.6732\n",
      "Epoch 9/100\n",
      "985/985 [==============================] - 49s 50ms/step - loss: 0.8510 - accuracy: 0.7114 - val_loss: 0.7497 - val_accuracy: 0.7218\n",
      "Epoch 10/100\n",
      "985/985 [==============================] - 48s 49ms/step - loss: 0.8082 - accuracy: 0.7209 - val_loss: 0.8648 - val_accuracy: 0.7057\n",
      "Epoch 11/100\n",
      "985/985 [==============================] - 49s 49ms/step - loss: 0.7874 - accuracy: 0.7238 - val_loss: 0.7460 - val_accuracy: 0.7142\n",
      "Epoch 12/100\n",
      "985/985 [==============================] - 54s 55ms/step - loss: 0.7474 - accuracy: 0.7298 - val_loss: 0.6721 - val_accuracy: 0.7497\n",
      "Epoch 13/100\n",
      "985/985 [==============================] - 45s 46ms/step - loss: 0.7022 - accuracy: 0.7381 - val_loss: 0.6984 - val_accuracy: 0.7333\n",
      "Epoch 14/100\n",
      "328/985 [========>.....................] - ETA: 27s - loss: 0.6950 - accuracy: 0.7349"
     ]
    }
   ],
   "source": [
    "from tensorflow import keras\n",
    "from keras.models import load_model\n",
    "from tensorflow.keras.applications import ResNet50\n",
    "from tensorflow.keras.models import Sequential\n",
    "from tensorflow.keras.layers import Dense, GlobalAveragePooling1D\n",
    "\n",
    "model_path = r\"C:\\Users\\shaif\\Downloads\\invasive_ssl1.h5\"\n",
    "model = load_model(model_path)\n",
    "#model.layers[0].trainable = False\n",
    "x = model.layers[-8].output  \n",
    "output = Dense(5, activation='softmax')(x)\n",
    "new_model = keras.models.Model(inputs=model.input, outputs=output)\n",
    "from keras.callbacks import EarlyStopping\n",
    "early_stopping = EarlyStopping(monitor='val_accuracy', patience=40, mode='max', verbose=1)\n",
    "new_model.compile(optimizer='Adam', loss='categorical_crossentropy', metrics=['accuracy'])\n",
    "history = new_model.fit(X_train, y_train, batch_size=32, epochs=100,validation_split=0.2, callbacks=[early_stopping])"
   ]
  },
  {
   "cell_type": "code",
   "execution_count": null,
   "id": "17df2a96",
   "metadata": {},
   "outputs": [],
   "source": []
  },
  {
   "cell_type": "code",
   "execution_count": 8,
   "id": "527c8253",
   "metadata": {},
   "outputs": [
    {
     "name": "stdout",
     "output_type": "stream",
     "text": [
      "Test Balanced Accuracy: 0.6675141948108747\n",
      "Test Accuracy: 0.774730855169612\n"
     ]
    }
   ],
   "source": [
    "from sklearn.metrics import accuracy_score\n",
    "from sklearn.metrics import balanced_accuracy_score\n",
    "predictions = new_model.predict(np.array(X_test).astype('float32'))\n",
    "accuracy = accuracy_score(np.argmax(y_test, axis=1), np.argmax(predictions, axis=1))\n",
    "balanced_accuracy = balanced_accuracy_score(np.argmax(y_test, axis=1), np.argmax(predictions, axis=1))\n",
    "print(\"Test Balanced Accuracy:\", balanced_accuracy)\n",
    "print(\"Test Accuracy:\", accuracy)"
   ]
  },
  {
   "cell_type": "code",
   "execution_count": null,
   "id": "e9e13845",
   "metadata": {},
   "outputs": [],
   "source": []
  },
  {
   "cell_type": "code",
   "execution_count": null,
   "id": "e41ffb77",
   "metadata": {},
   "outputs": [],
   "source": []
  },
  {
   "cell_type": "code",
   "execution_count": 9,
   "id": "7bc37585",
   "metadata": {},
   "outputs": [
    {
     "name": "stdout",
     "output_type": "stream",
     "text": [
      "Epoch 1/100\n",
      "985/985 [==============================] - 34s 31ms/step - loss: 1.0901 - accuracy: 0.7428 - val_loss: 1.4774 - val_accuracy: 0.6698\n",
      "Epoch 2/100\n",
      "985/985 [==============================] - 29s 29ms/step - loss: 0.9699 - accuracy: 0.7064 - val_loss: 1.3887 - val_accuracy: 0.6094\n",
      "Epoch 3/100\n",
      "985/985 [==============================] - 31s 31ms/step - loss: 0.6043 - accuracy: 0.7750 - val_loss: 0.5550 - val_accuracy: 0.7861\n",
      "Epoch 4/100\n",
      "985/985 [==============================] - 30s 31ms/step - loss: 0.5980 - accuracy: 0.7785 - val_loss: 0.8406 - val_accuracy: 0.7234\n",
      "Epoch 5/100\n",
      "985/985 [==============================] - 30s 31ms/step - loss: 0.5311 - accuracy: 0.8042 - val_loss: 0.7774 - val_accuracy: 0.6925\n",
      "Epoch 6/100\n",
      "985/985 [==============================] - 31s 32ms/step - loss: 0.6719 - accuracy: 0.7843 - val_loss: 1.4250 - val_accuracy: 0.6217\n",
      "Epoch 7/100\n",
      "985/985 [==============================] - 30s 30ms/step - loss: 0.7341 - accuracy: 0.7482 - val_loss: 0.7321 - val_accuracy: 0.7749\n",
      "Epoch 8/100\n",
      "985/985 [==============================] - 31s 31ms/step - loss: 0.5948 - accuracy: 0.7879 - val_loss: 0.6697 - val_accuracy: 0.7287\n",
      "Epoch 9/100\n",
      "985/985 [==============================] - 29s 30ms/step - loss: 0.4959 - accuracy: 0.8211 - val_loss: 0.5397 - val_accuracy: 0.7838\n",
      "Epoch 10/100\n",
      "985/985 [==============================] - 29s 29ms/step - loss: 0.7514 - accuracy: 0.7442 - val_loss: 0.6422 - val_accuracy: 0.7580\n",
      "Epoch 11/100\n",
      "985/985 [==============================] - 30s 30ms/step - loss: 0.5750 - accuracy: 0.7854 - val_loss: 0.4742 - val_accuracy: 0.8218\n",
      "Epoch 12/100\n",
      "985/985 [==============================] - 32s 33ms/step - loss: 0.4774 - accuracy: 0.8241 - val_loss: 1.5419 - val_accuracy: 0.5371\n",
      "Epoch 13/100\n",
      "985/985 [==============================] - 33s 33ms/step - loss: 0.7551 - accuracy: 0.7536 - val_loss: 0.6186 - val_accuracy: 0.7640\n",
      "Epoch 14/100\n",
      "985/985 [==============================] - 32s 32ms/step - loss: 0.6316 - accuracy: 0.7613 - val_loss: 0.6820 - val_accuracy: 0.7438\n",
      "Epoch 15/100\n",
      "985/985 [==============================] - 30s 31ms/step - loss: 0.5265 - accuracy: 0.8035 - val_loss: 0.6222 - val_accuracy: 0.7725\n",
      "Epoch 16/100\n",
      "985/985 [==============================] - 31s 32ms/step - loss: 0.5987 - accuracy: 0.7879 - val_loss: 0.6970 - val_accuracy: 0.7385\n",
      "Epoch 17/100\n",
      "985/985 [==============================] - 30s 31ms/step - loss: 0.5234 - accuracy: 0.8036 - val_loss: 0.5363 - val_accuracy: 0.8012\n",
      "Epoch 18/100\n",
      "985/985 [==============================] - 31s 31ms/step - loss: 0.4379 - accuracy: 0.8413 - val_loss: 0.4935 - val_accuracy: 0.8129\n",
      "Epoch 19/100\n",
      "985/985 [==============================] - 30s 31ms/step - loss: 0.4047 - accuracy: 0.8496 - val_loss: 0.7281 - val_accuracy: 0.7182\n",
      "Epoch 20/100\n",
      "985/985 [==============================] - 30s 31ms/step - loss: 0.4072 - accuracy: 0.8496 - val_loss: 0.8410 - val_accuracy: 0.6590\n",
      "Epoch 21/100\n",
      "985/985 [==============================] - 30s 31ms/step - loss: 0.3580 - accuracy: 0.8677 - val_loss: 1.7135 - val_accuracy: 0.6456\n",
      "Epoch 21: early stopping\n"
     ]
    }
   ],
   "source": [
    "from tensorflow.keras.applications import MobileNetV2, ResNet50\n",
    "from tensorflow.keras.models import Model\n",
    "from tensorflow.keras.layers import Dense, GlobalAveragePooling2D\n",
    "\n",
    "base_model = ResNet50(include_top=False, weights=\"imagenet\", input_shape=(32,32,3), pooling=\"avg\")\n",
    "x =  Dense(500)(base_model.output)\n",
    "output = Dense(5, activation='softmax')(x)\n",
    "ne_model = Model(inputs=base_model.input, outputs=output)\n",
    "early_stopping = EarlyStopping(monitor='val_accuracy', patience=10, mode='max', verbose=1)\n",
    "ne_model.compile(optimizer='Adam', loss='categorical_crossentropy', metrics=['accuracy'])\n",
    "history = ne_model.fit(X_train, y_train, batch_size=32, epochs=100,validation_split=0.2, callbacks=[early_stopping])"
   ]
  },
  {
   "cell_type": "code",
   "execution_count": null,
   "id": "5388753c",
   "metadata": {},
   "outputs": [],
   "source": []
  },
  {
   "cell_type": "code",
   "execution_count": 11,
   "id": "7d77dab4",
   "metadata": {},
   "outputs": [
    {
     "name": "stdout",
     "output_type": "stream",
     "text": [
      "Test Accuracy: 0.6446272598009344\n"
     ]
    }
   ],
   "source": [
    "from sklearn.metrics import accuracy_score\n",
    "predictions = ne_model.predict(np.array(X_test).astype('float32'))\n",
    "accuracy = accuracy_score(np.argmax(y_test, axis=1), np.argmax(predictions, axis=1))\n",
    "print(\"Test Accuracy:\", accuracy)"
   ]
  },
  {
   "cell_type": "code",
   "execution_count": null,
   "id": "942ccc94",
   "metadata": {},
   "outputs": [],
   "source": []
  },
  {
   "cell_type": "code",
   "execution_count": null,
   "id": "e76349b6",
   "metadata": {},
   "outputs": [],
   "source": [
    "from tensorflow.keras.applications import MobileNetV2\n",
    "from tensorflow.keras.models import Model\n",
    "from tensorflow.keras.layers import Dense, GlobalAveragePooling2D\n",
    "\n",
    "base_model = MobileNetV2(include_top=False, weights=None, input_shape=(32,32,3), pooling=\"avg\")\n",
    "x =  Dense(500)(base_model.output)\n",
    "output = Dense(5, activation='softmax')(x) \n",
    "new_model = Model(inputs=base_model.input, outputs=output)\n",
    "new_model.compile(optimizer='Adam', loss='categorical_crossentropy', metrics=['accuracy'])\n",
    "new_model.fit(X_train, y_train, batch_size=32, epochs=100, validation_split=0.2)"
   ]
  },
  {
   "cell_type": "code",
   "execution_count": null,
   "id": "87d64a00",
   "metadata": {},
   "outputs": [],
   "source": []
  },
  {
   "cell_type": "code",
   "execution_count": null,
   "id": "4174111f",
   "metadata": {},
   "outputs": [],
   "source": [
    "from sklearn.metrics import accuracy_score\n",
    "predictions = new_model.predict(np.array(X_test).astype('float32'))\n",
    "accuracy = accuracy_score(np.argmax(y_test, axis=1), np.argmax(predictions, axis=1))\n",
    "print(\"Test Accuracy:\", accuracy)"
   ]
  },
  {
   "cell_type": "code",
   "execution_count": null,
   "id": "b7a46cd7",
   "metadata": {},
   "outputs": [],
   "source": []
  },
  {
   "cell_type": "code",
   "execution_count": null,
   "id": "17b14ce7",
   "metadata": {},
   "outputs": [],
   "source": []
  },
  {
   "cell_type": "code",
   "execution_count": null,
   "id": "dc49d284",
   "metadata": {},
   "outputs": [],
   "source": []
  },
  {
   "cell_type": "code",
   "execution_count": null,
   "id": "03e8f928",
   "metadata": {},
   "outputs": [],
   "source": []
  },
  {
   "cell_type": "code",
   "execution_count": null,
   "id": "9e3c63c8",
   "metadata": {},
   "outputs": [],
   "source": []
  },
  {
   "cell_type": "code",
   "execution_count": null,
   "id": "d552da65",
   "metadata": {},
   "outputs": [],
   "source": []
  }
 ],
 "metadata": {
  "kernelspec": {
   "display_name": "Python 3 (ipykernel)",
   "language": "python",
   "name": "python3"
  },
  "language_info": {
   "codemirror_mode": {
    "name": "ipython",
    "version": 3
   },
   "file_extension": ".py",
   "mimetype": "text/x-python",
   "name": "python",
   "nbconvert_exporter": "python",
   "pygments_lexer": "ipython3",
   "version": "3.8.18"
  }
 },
 "nbformat": 4,
 "nbformat_minor": 5
}
