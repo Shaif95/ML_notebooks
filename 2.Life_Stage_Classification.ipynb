{
 "cells": [
  {
   "cell_type": "code",
   "execution_count": 1,
   "id": "696d630c",
   "metadata": {},
   "outputs": [
    {
     "name": "stderr",
     "output_type": "stream",
     "text": [
      "C:\\Users\\shaif\\anaconda3\\envs\\tens\\lib\\site-packages\\scipy\\__init__.py:146: UserWarning: A NumPy version >=1.16.5 and <1.23.0 is required for this version of SciPy (detected version 1.24.3\n",
      "  warnings.warn(f\"A NumPy version >={np_minversion} and <{np_maxversion}\"\n"
     ]
    },
    {
     "name": "stdout",
     "output_type": "stream",
     "text": [
      "X_train shape: (49227, 32, 32, 3)\n",
      "Y_train shape: (49227,)\n"
     ]
    }
   ],
   "source": [
    "import os\n",
    "from PIL import Image\n",
    "import numpy as np\n",
    "from sklearn.preprocessing import LabelEncoder, OneHotEncoder\n",
    "\n",
    "# Define the path to the directory\n",
    "directory_path = r'C:\\Users\\shaif\\Downloads\\Compressed\\Invasive_Life_Stage'\n",
    "\n",
    "# Initialize empty lists for images and labels\n",
    "X_train = []\n",
    "Y_train = []\n",
    "class_label = 0\n",
    "\n",
    "# Loop through subdirectories (classes)\n",
    "for folder in os.listdir(directory_path):\n",
    "    #print(class_folder)\n",
    "    clsp = os.path.join(directory_path,folder)  \n",
    "    for class_folder in os.listdir(clsp):\n",
    "        #print(class_folder)\n",
    "        class_path = os.path.join(clsp, class_folder)    \n",
    "        #print(class_path)\n",
    "        for image_file in os.listdir(class_path):\n",
    "            if image_file.endswith('.png'):\n",
    "                image_path = os.path.join(class_path, image_file)\n",
    "            \n",
    "            # Load image, convert to RGB and resize\n",
    "                img = Image.open(image_path).convert('RGB')\n",
    "                img = img.resize((32, 32))\n",
    "                img_array = np.array(img)\n",
    "            \n",
    "            # Append image and label to lists\n",
    "                X_train.append(img_array)\n",
    "                Y_train.append(class_label)\n",
    "                #print(class_label)\n",
    "    class_label = class_label + 1\n",
    "\n",
    "# Convert lists to numpy arrays\n",
    "X_train = np.array(X_train)\n",
    "Y_train = np.array(Y_train)\n",
    "\n",
    "print(f'X_train shape: {X_train.shape}')\n",
    "print(f'Y_train shape: {Y_train.shape}')\n"
   ]
  },
  {
   "cell_type": "code",
   "execution_count": 2,
   "id": "884830c6",
   "metadata": {},
   "outputs": [],
   "source": [
    "import numpy as np\n",
    "from tensorflow.keras.utils import to_categorical\n",
    "from sklearn.model_selection import train_test_split\n",
    "import numpy as np\n",
    "Y_train_encoded = to_categorical(Y_train)\n",
    "indices = np.arange(len(X_train))\n",
    "np.random.shuffle(indices)\n",
    "X_train_shuffled = X_train[indices]\n",
    "Y_train_encoded_shuffled = Y_train_encoded[indices]\n",
    "X_train, X_test, y_train, y_test = train_test_split(X_train_shuffled, Y_train_encoded_shuffled, test_size=0.2, random_state=42)"
   ]
  },
  {
   "cell_type": "code",
   "execution_count": null,
   "id": "3f0102e5",
   "metadata": {},
   "outputs": [],
   "source": []
  },
  {
   "cell_type": "code",
   "execution_count": null,
   "id": "9af25d8d",
   "metadata": {},
   "outputs": [
    {
     "name": "stdout",
     "output_type": "stream",
     "text": [
      "WARNING:tensorflow:No training configuration found in the save file, so the model was *not* compiled. Compile it manually.\n",
      "Epoch 1/100\n",
      "985/985 [==============================] - 75s 51ms/step - loss: 10.3268 - accuracy: 0.4243 - val_loss: 1.8753 - val_accuracy: 0.4828\n",
      "Epoch 2/100\n",
      "985/985 [==============================] - 52s 53ms/step - loss: 1.8586 - accuracy: 0.5126 - val_loss: 1.8448 - val_accuracy: 0.5025\n",
      "Epoch 3/100\n",
      "985/985 [==============================] - 47s 48ms/step - loss: 1.6875 - accuracy: 0.5755 - val_loss: 1.3346 - val_accuracy: 0.6057\n",
      "Epoch 4/100\n",
      "985/985 [==============================] - 52s 53ms/step - loss: 1.2253 - accuracy: 0.6232 - val_loss: 1.0673 - val_accuracy: 0.6264\n",
      "Epoch 5/100\n",
      "985/985 [==============================] - 56s 56ms/step - loss: 1.1455 - accuracy: 0.6503 - val_loss: 236.2982 - val_accuracy: 0.4099\n",
      "Epoch 6/100\n",
      "985/985 [==============================] - 63s 64ms/step - loss: 1.5874 - accuracy: 0.6266 - val_loss: 6.8404 - val_accuracy: 0.5651\n",
      "Epoch 7/100\n",
      "985/985 [==============================] - 55s 56ms/step - loss: 1.2529 - accuracy: 0.6417 - val_loss: 1.3288 - val_accuracy: 0.6585\n",
      "Epoch 8/100\n",
      "985/985 [==============================] - 66s 67ms/step - loss: 1.0546 - accuracy: 0.6557 - val_loss: 22.3810 - val_accuracy: 0.5831\n",
      "Epoch 9/100\n",
      "985/985 [==============================] - 66s 67ms/step - loss: 1.0120 - accuracy: 0.6563 - val_loss: 17.4184 - val_accuracy: 0.6301\n",
      "Epoch 10/100\n",
      "985/985 [==============================] - 82s 83ms/step - loss: 0.9607 - accuracy: 0.6737 - val_loss: 1202.7426 - val_accuracy: 0.5982\n",
      "Epoch 11/100\n",
      "985/985 [==============================] - 88s 89ms/step - loss: 0.9297 - accuracy: 0.6865 - val_loss: 3.9608 - val_accuracy: 0.6708\n",
      "Epoch 12/100\n",
      "985/985 [==============================] - 67s 68ms/step - loss: 0.9800 - accuracy: 0.6745 - val_loss: 74.0827 - val_accuracy: 0.6548\n",
      "Epoch 13/100\n",
      "985/985 [==============================] - 45s 46ms/step - loss: 0.8852 - accuracy: 0.6915 - val_loss: 120.6274 - val_accuracy: 0.6852\n",
      "Epoch 14/100\n",
      "985/985 [==============================] - 46s 47ms/step - loss: 0.8316 - accuracy: 0.7104 - val_loss: 2.1911 - val_accuracy: 0.7117\n",
      "Epoch 15/100\n",
      "985/985 [==============================] - 48s 49ms/step - loss: 0.9091 - accuracy: 0.7031 - val_loss: 407.9825 - val_accuracy: 0.6841\n",
      "Epoch 16/100\n",
      "985/985 [==============================] - 50s 51ms/step - loss: 0.8563 - accuracy: 0.7144 - val_loss: 114.1748 - val_accuracy: 0.6873\n",
      "Epoch 17/100\n",
      "985/985 [==============================] - 47s 48ms/step - loss: 0.8338 - accuracy: 0.7177 - val_loss: 520.0519 - val_accuracy: 0.6779\n",
      "Epoch 18/100\n",
      "985/985 [==============================] - 50s 51ms/step - loss: 0.9855 - accuracy: 0.7003 - val_loss: 1916.1045 - val_accuracy: 0.6918\n",
      "Epoch 19/100\n",
      "985/985 [==============================] - 46s 47ms/step - loss: 0.8519 - accuracy: 0.6994 - val_loss: 3657.5217 - val_accuracy: 0.6114\n",
      "Epoch 20/100\n",
      "985/985 [==============================] - 44s 45ms/step - loss: 1.1215 - accuracy: 0.6718 - val_loss: 140.0039 - val_accuracy: 0.6833\n",
      "Epoch 21/100\n",
      "985/985 [==============================] - 51s 51ms/step - loss: 0.9657 - accuracy: 0.6570 - val_loss: 712.0416 - val_accuracy: 0.6808\n",
      "Epoch 22/100\n",
      "985/985 [==============================] - 47s 48ms/step - loss: 0.8942 - accuracy: 0.6780 - val_loss: 133.0068 - val_accuracy: 0.6920\n",
      "Epoch 23/100\n",
      "985/985 [==============================] - 51s 52ms/step - loss: 0.8905 - accuracy: 0.6780 - val_loss: 871.5406 - val_accuracy: 0.6867\n",
      "Epoch 24/100\n",
      "985/985 [==============================] - 50s 51ms/step - loss: 0.8456 - accuracy: 0.6981 - val_loss: 342.3998 - val_accuracy: 0.7151\n",
      "Epoch 25/100\n",
      "985/985 [==============================] - 48s 48ms/step - loss: 0.8066 - accuracy: 0.7097 - val_loss: 39.6999 - val_accuracy: 0.7301\n",
      "Epoch 26/100\n",
      "985/985 [==============================] - 52s 53ms/step - loss: 1.0222 - accuracy: 0.6850 - val_loss: 9.1238 - val_accuracy: 0.7059\n",
      "Epoch 27/100\n",
      "985/985 [==============================] - 54s 54ms/step - loss: 0.8057 - accuracy: 0.7000 - val_loss: 5.4049 - val_accuracy: 0.7105\n",
      "Epoch 28/100\n",
      "985/985 [==============================] - 49s 50ms/step - loss: 0.8525 - accuracy: 0.6990 - val_loss: 131.6436 - val_accuracy: 0.6989\n",
      "Epoch 29/100\n",
      "985/985 [==============================] - 45s 46ms/step - loss: 0.9591 - accuracy: 0.6686 - val_loss: 106.9272 - val_accuracy: 0.6829\n",
      "Epoch 30/100\n",
      "985/985 [==============================] - 55s 56ms/step - loss: 0.8244 - accuracy: 0.6936 - val_loss: 150.4655 - val_accuracy: 0.7118\n",
      "Epoch 31/100\n",
      "904/985 [==========================>...] - ETA: 4s - loss: 0.8191 - accuracy: 0.7067"
     ]
    }
   ],
   "source": [
    "from tensorflow import keras\n",
    "from keras.models import load_model\n",
    "from tensorflow.keras.applications import ResNet50\n",
    "from tensorflow.keras.models import Sequential\n",
    "from tensorflow.keras.layers import Dense, GlobalAveragePooling1D\n",
    "\n",
    "model_path = r\"C:\\Users\\shaif\\Downloads\\invasive_ssl.h5\"\n",
    "model = load_model(model_path)\n",
    "#model.layers[0].trainable = False\n",
    "x = model.layers[-8].output  \n",
    "output = Dense(5, activation='softmax')(x)\n",
    "new_model = keras.models.Model(inputs=model.input, outputs=output)\n",
    "from keras.callbacks import EarlyStopping\n",
    "early_stopping = EarlyStopping(monitor='val_accuracy', patience=20, mode='max', verbose=1)\n",
    "new_model.compile(optimizer='Adam', loss='categorical_crossentropy', metrics=['accuracy'])\n",
    "history = new_model.fit(X_train, y_train, batch_size=32, epochs=100,validation_split=0.2)"
   ]
  },
  {
   "cell_type": "code",
   "execution_count": null,
   "id": "17df2a96",
   "metadata": {},
   "outputs": [],
   "source": []
  },
  {
   "cell_type": "code",
   "execution_count": 12,
   "id": "527c8253",
   "metadata": {},
   "outputs": [
    {
     "name": "stdout",
     "output_type": "stream",
     "text": [
      "Test Balanced Accuracy: 0.3002308718757795\n",
      "Test Accuracy: 0.5384927889498273\n"
     ]
    }
   ],
   "source": [
    "from sklearn.metrics import accuracy_score\n",
    "from sklearn.metrics import balanced_accuracy_score\n",
    "predictions = new_model.predict(np.array(X_test).astype('float32'))\n",
    "accuracy = accuracy_score(np.argmax(y_test, axis=1), np.argmax(predictions, axis=1))\n",
    "balanced_accuracy = balanced_accuracy_score(np.argmax(y_test, axis=1), np.argmax(predictions, axis=1))\n",
    "print(\"Test Balanced Accuracy:\", balanced_accuracy)\n",
    "print(\"Test Accuracy:\", accuracy)"
   ]
  },
  {
   "cell_type": "code",
   "execution_count": null,
   "id": "e9e13845",
   "metadata": {},
   "outputs": [],
   "source": []
  },
  {
   "cell_type": "code",
   "execution_count": null,
   "id": "e41ffb77",
   "metadata": {},
   "outputs": [],
   "source": []
  },
  {
   "cell_type": "code",
   "execution_count": 15,
   "id": "7bc37585",
   "metadata": {},
   "outputs": [
    {
     "name": "stdout",
     "output_type": "stream",
     "text": [
      "Epoch 1/100\n",
      "985/985 [==============================] - 62s 57ms/step - loss: 1.7658 - accuracy: 0.6626 - val_loss: 0.8498 - val_accuracy: 0.6814\n",
      "Epoch 2/100\n",
      "985/985 [==============================] - 61s 62ms/step - loss: 0.7940 - accuracy: 0.7362 - val_loss: 0.6543 - val_accuracy: 0.7664\n",
      "Epoch 3/100\n",
      "985/985 [==============================] - 87s 89ms/step - loss: 0.8166 - accuracy: 0.7447 - val_loss: 0.6059 - val_accuracy: 0.7703\n",
      "Epoch 4/100\n",
      "985/985 [==============================] - 62s 63ms/step - loss: 0.6791 - accuracy: 0.7905 - val_loss: 0.8801 - val_accuracy: 0.6943\n",
      "Epoch 5/100\n",
      "985/985 [==============================] - 61s 62ms/step - loss: 0.5768 - accuracy: 0.8208 - val_loss: 0.5125 - val_accuracy: 0.8074\n",
      "Epoch 6/100\n",
      "985/985 [==============================] - 62s 63ms/step - loss: 0.5363 - accuracy: 0.8299 - val_loss: 0.5318 - val_accuracy: 0.7983\n",
      "Epoch 7/100\n",
      "985/985 [==============================] - 66s 67ms/step - loss: 0.6805 - accuracy: 0.7753 - val_loss: 0.5508 - val_accuracy: 0.8183\n",
      "Epoch 8/100\n",
      "985/985 [==============================] - 40s 40ms/step - loss: 0.5348 - accuracy: 0.8095 - val_loss: 0.5777 - val_accuracy: 0.7857\n",
      "Epoch 9/100\n",
      "985/985 [==============================] - 47s 48ms/step - loss: 0.5206 - accuracy: 0.8181 - val_loss: 0.8703 - val_accuracy: 0.7601\n",
      "Epoch 10/100\n",
      "985/985 [==============================] - 44s 45ms/step - loss: 0.5488 - accuracy: 0.8083 - val_loss: 1.4708 - val_accuracy: 0.5326\n",
      "Epoch 11/100\n",
      "985/985 [==============================] - 37s 38ms/step - loss: 0.5872 - accuracy: 0.7956 - val_loss: 0.7156 - val_accuracy: 0.7193\n",
      "Epoch 12/100\n",
      "985/985 [==============================] - 46s 46ms/step - loss: 0.5505 - accuracy: 0.8074 - val_loss: 0.9978 - val_accuracy: 0.6131\n",
      "Epoch 13/100\n",
      "985/985 [==============================] - 44s 45ms/step - loss: 0.5646 - accuracy: 0.7975 - val_loss: 1.0043 - val_accuracy: 0.7142\n",
      "Epoch 14/100\n",
      "985/985 [==============================] - 40s 41ms/step - loss: 0.4645 - accuracy: 0.8308 - val_loss: 3.0964 - val_accuracy: 0.3858\n",
      "Epoch 15/100\n",
      "985/985 [==============================] - 50s 51ms/step - loss: 0.5864 - accuracy: 0.8073 - val_loss: 1.0789 - val_accuracy: 0.5359\n",
      "Epoch 16/100\n",
      "985/985 [==============================] - 59s 60ms/step - loss: 0.6555 - accuracy: 0.7580 - val_loss: 0.5262 - val_accuracy: 0.8067\n",
      "Epoch 17/100\n",
      "985/985 [==============================] - 67s 68ms/step - loss: 0.5101 - accuracy: 0.8128 - val_loss: 0.6749 - val_accuracy: 0.7430\n",
      "Epoch 17: early stopping\n"
     ]
    }
   ],
   "source": [
    "from tensorflow.keras.applications import MobileNetV2, ResNet50\n",
    "from tensorflow.keras.models import Model\n",
    "from tensorflow.keras.layers import Dense, GlobalAveragePooling2D\n",
    "\n",
    "base_model = ResNet50(include_top=False, weights=\"imagenet\", input_shape=(32,32,3), pooling=\"avg\")\n",
    "x =  Dense(500)(base_model.output)\n",
    "output = Dense(5, activation='softmax')(x)\n",
    "ne_model = Model(inputs=base_model.input, outputs=output)\n",
    "early_stopping = EarlyStopping(monitor='val_accuracy', patience=10, mode='max', verbose=1)\n",
    "ne_model.compile(optimizer='Adam', loss='categorical_crossentropy', metrics=['accuracy'])\n",
    "history = ne_model.fit(X_train, y_train, batch_size=32, epochs=100,validation_split=0.2)"
   ]
  },
  {
   "cell_type": "code",
   "execution_count": null,
   "id": "5388753c",
   "metadata": {},
   "outputs": [],
   "source": []
  },
  {
   "cell_type": "code",
   "execution_count": 17,
   "id": "7d77dab4",
   "metadata": {},
   "outputs": [
    {
     "name": "stdout",
     "output_type": "stream",
     "text": [
      "Test Accuracy: 0.7316676823075361\n"
     ]
    }
   ],
   "source": [
    "from sklearn.metrics import accuracy_score\n",
    "predictions = ne_model.predict(np.array(X_test).astype('float32'))\n",
    "accuracy = accuracy_score(np.argmax(y_test, axis=1), np.argmax(predictions, axis=1))\n",
    "print(\"Test Accuracy:\", accuracy)"
   ]
  },
  {
   "cell_type": "code",
   "execution_count": null,
   "id": "942ccc94",
   "metadata": {},
   "outputs": [],
   "source": []
  },
  {
   "cell_type": "code",
   "execution_count": null,
   "id": "e76349b6",
   "metadata": {},
   "outputs": [],
   "source": [
    "from tensorflow.keras.applications import MobileNetV2\n",
    "from tensorflow.keras.models import Model\n",
    "from tensorflow.keras.layers import Dense, GlobalAveragePooling2D\n",
    "\n",
    "base_model = MobileNetV2(include_top=False, weights=None, input_shape=(32,32,3), pooling=\"avg\")\n",
    "x =  Dense(500)(base_model.output)\n",
    "output = Dense(5, activation='softmax')(x) \n",
    "new_model = Model(inputs=base_model.input, outputs=output)\n",
    "new_model.compile(optimizer='Adam', loss='categorical_crossentropy', metrics=['accuracy'])\n",
    "new_model.fit(X_train, y_train, batch_size=32, epochs=100, validation_split=0.2)"
   ]
  },
  {
   "cell_type": "code",
   "execution_count": null,
   "id": "87d64a00",
   "metadata": {},
   "outputs": [],
   "source": []
  },
  {
   "cell_type": "code",
   "execution_count": null,
   "id": "4174111f",
   "metadata": {},
   "outputs": [],
   "source": [
    "from sklearn.metrics import accuracy_score\n",
    "predictions = new_model.predict(np.array(X_test).astype('float32'))\n",
    "accuracy = accuracy_score(np.argmax(y_test, axis=1), np.argmax(predictions, axis=1))\n",
    "print(\"Test Accuracy:\", accuracy)"
   ]
  },
  {
   "cell_type": "code",
   "execution_count": null,
   "id": "b7a46cd7",
   "metadata": {},
   "outputs": [],
   "source": []
  },
  {
   "cell_type": "code",
   "execution_count": null,
   "id": "17b14ce7",
   "metadata": {},
   "outputs": [],
   "source": []
  },
  {
   "cell_type": "code",
   "execution_count": null,
   "id": "dc49d284",
   "metadata": {},
   "outputs": [],
   "source": []
  },
  {
   "cell_type": "code",
   "execution_count": null,
   "id": "03e8f928",
   "metadata": {},
   "outputs": [],
   "source": []
  },
  {
   "cell_type": "code",
   "execution_count": null,
   "id": "9e3c63c8",
   "metadata": {},
   "outputs": [],
   "source": []
  },
  {
   "cell_type": "code",
   "execution_count": null,
   "id": "d552da65",
   "metadata": {},
   "outputs": [],
   "source": []
  }
 ],
 "metadata": {
  "kernelspec": {
   "display_name": "Python 3 (ipykernel)",
   "language": "python",
   "name": "python3"
  },
  "language_info": {
   "codemirror_mode": {
    "name": "ipython",
    "version": 3
   },
   "file_extension": ".py",
   "mimetype": "text/x-python",
   "name": "python",
   "nbconvert_exporter": "python",
   "pygments_lexer": "ipython3",
   "version": "3.8.18"
  }
 },
 "nbformat": 4,
 "nbformat_minor": 5
}
