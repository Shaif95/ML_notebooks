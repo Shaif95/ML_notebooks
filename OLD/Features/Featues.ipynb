{
 "cells": [
  {
   "cell_type": "code",
   "execution_count": null,
   "id": "72d2b2aa",
   "metadata": {},
   "outputs": [],
   "source": []
  },
  {
   "cell_type": "code",
   "execution_count": 9,
   "id": "735cbada",
   "metadata": {},
   "outputs": [],
   "source": [
    "import numpy as np\n",
    "import tensorflow as tf\n",
    "from skimage.feature import hog\n",
    "from tensorflow.keras.datasets import cifar10\n",
    "from concurrent.futures import ThreadPoolExecutor\n",
    "\n",
    "# Load the CIFAR-10 dataset\n",
    "(x_train, y_train), (x_test, y_test) = cifar10.load_data()\n",
    "\n",
    "# Function to compute HOG features for a single image\n",
    "def compute_hog_features(image):\n",
    "    # Convert image to grayscale\n",
    "    grayscale_image = tf.image.rgb_to_grayscale(image)\n",
    "    # Compute HOG features\n",
    "    feature = hog(grayscale_image.numpy(), pixels_per_cell=(8, 8),\n",
    "                  cells_per_block=(2, 2), visualize=False, channel_axis=-1)\n",
    "    return feature\n",
    "\n",
    "# Function to process a batch of images using multithreading\n",
    "def process_images_multithread(images):\n",
    "    with ThreadPoolExecutor() as executor:\n",
    "        # Map compute_hog_features function across all images in the batch\n",
    "        hog_features = list(executor.map(compute_hog_features, images))\n",
    "    return np.array(hog_features)\n",
    "\n"
   ]
  },
  {
   "cell_type": "code",
   "execution_count": null,
   "id": "35e70e1e",
   "metadata": {},
   "outputs": [],
   "source": []
  },
  {
   "cell_type": "code",
   "execution_count": 10,
   "id": "8a55658c",
   "metadata": {},
   "outputs": [
    {
     "ename": "KeyboardInterrupt",
     "evalue": "",
     "output_type": "error",
     "traceback": [
      "\u001b[1;31m---------------------------------------------------------------------------\u001b[0m",
      "\u001b[1;31mKeyboardInterrupt\u001b[0m                         Traceback (most recent call last)",
      "Cell \u001b[1;32mIn[10], line 2\u001b[0m\n\u001b[0;32m      1\u001b[0m \u001b[38;5;66;03m# Process HOG features for the training set and print its shape\u001b[39;00m\n\u001b[1;32m----> 2\u001b[0m x_train_hog \u001b[38;5;241m=\u001b[39m \u001b[43mprocess_images_multithread\u001b[49m\u001b[43m(\u001b[49m\u001b[43mx_train\u001b[49m\u001b[43m)\u001b[49m\n\u001b[0;32m      3\u001b[0m \u001b[38;5;28mprint\u001b[39m(x_train_hog\u001b[38;5;241m.\u001b[39mshape)\n\u001b[0;32m      5\u001b[0m \u001b[38;5;66;03m# Process HOG features for the testing set and print its shape\u001b[39;00m\n",
      "Cell \u001b[1;32mIn[9], line 23\u001b[0m, in \u001b[0;36mprocess_images_multithread\u001b[1;34m(images)\u001b[0m\n\u001b[0;32m     20\u001b[0m \u001b[38;5;28;01mdef\u001b[39;00m \u001b[38;5;21mprocess_images_multithread\u001b[39m(images):\n\u001b[0;32m     21\u001b[0m     \u001b[38;5;28;01mwith\u001b[39;00m ThreadPoolExecutor() \u001b[38;5;28;01mas\u001b[39;00m executor:\n\u001b[0;32m     22\u001b[0m         \u001b[38;5;66;03m# Map compute_hog_features function across all images in the batch\u001b[39;00m\n\u001b[1;32m---> 23\u001b[0m         hog_features \u001b[38;5;241m=\u001b[39m \u001b[38;5;28;43mlist\u001b[39;49m\u001b[43m(\u001b[49m\u001b[43mexecutor\u001b[49m\u001b[38;5;241;43m.\u001b[39;49m\u001b[43mmap\u001b[49m\u001b[43m(\u001b[49m\u001b[43mcompute_hog_features\u001b[49m\u001b[43m,\u001b[49m\u001b[43m \u001b[49m\u001b[43mimages\u001b[49m\u001b[43m)\u001b[49m\u001b[43m)\u001b[49m\n\u001b[0;32m     24\u001b[0m     \u001b[38;5;28;01mreturn\u001b[39;00m np\u001b[38;5;241m.\u001b[39marray(hog_features)\n",
      "File \u001b[1;32m~\\anaconda3\\envs\\tens\\lib\\concurrent\\futures\\_base.py:619\u001b[0m, in \u001b[0;36mExecutor.map.<locals>.result_iterator\u001b[1;34m()\u001b[0m\n\u001b[0;32m    616\u001b[0m \u001b[38;5;28;01mwhile\u001b[39;00m fs:\n\u001b[0;32m    617\u001b[0m     \u001b[38;5;66;03m# Careful not to keep a reference to the popped future\u001b[39;00m\n\u001b[0;32m    618\u001b[0m     \u001b[38;5;28;01mif\u001b[39;00m timeout \u001b[38;5;129;01mis\u001b[39;00m \u001b[38;5;28;01mNone\u001b[39;00m:\n\u001b[1;32m--> 619\u001b[0m         \u001b[38;5;28;01myield\u001b[39;00m \u001b[43mfs\u001b[49m\u001b[38;5;241;43m.\u001b[39;49m\u001b[43mpop\u001b[49m\u001b[43m(\u001b[49m\u001b[43m)\u001b[49m\u001b[38;5;241;43m.\u001b[39;49m\u001b[43mresult\u001b[49m\u001b[43m(\u001b[49m\u001b[43m)\u001b[49m\n\u001b[0;32m    620\u001b[0m     \u001b[38;5;28;01melse\u001b[39;00m:\n\u001b[0;32m    621\u001b[0m         \u001b[38;5;28;01myield\u001b[39;00m fs\u001b[38;5;241m.\u001b[39mpop()\u001b[38;5;241m.\u001b[39mresult(end_time \u001b[38;5;241m-\u001b[39m time\u001b[38;5;241m.\u001b[39mmonotonic())\n",
      "File \u001b[1;32m~\\anaconda3\\envs\\tens\\lib\\concurrent\\futures\\_base.py:439\u001b[0m, in \u001b[0;36mFuture.result\u001b[1;34m(self, timeout)\u001b[0m\n\u001b[0;32m    436\u001b[0m \u001b[38;5;28;01melif\u001b[39;00m \u001b[38;5;28mself\u001b[39m\u001b[38;5;241m.\u001b[39m_state \u001b[38;5;241m==\u001b[39m FINISHED:\n\u001b[0;32m    437\u001b[0m     \u001b[38;5;28;01mreturn\u001b[39;00m \u001b[38;5;28mself\u001b[39m\u001b[38;5;241m.\u001b[39m__get_result()\n\u001b[1;32m--> 439\u001b[0m \u001b[38;5;28;43mself\u001b[39;49m\u001b[38;5;241;43m.\u001b[39;49m\u001b[43m_condition\u001b[49m\u001b[38;5;241;43m.\u001b[39;49m\u001b[43mwait\u001b[49m\u001b[43m(\u001b[49m\u001b[43mtimeout\u001b[49m\u001b[43m)\u001b[49m\n\u001b[0;32m    441\u001b[0m \u001b[38;5;28;01mif\u001b[39;00m \u001b[38;5;28mself\u001b[39m\u001b[38;5;241m.\u001b[39m_state \u001b[38;5;129;01min\u001b[39;00m [CANCELLED, CANCELLED_AND_NOTIFIED]:\n\u001b[0;32m    442\u001b[0m     \u001b[38;5;28;01mraise\u001b[39;00m CancelledError()\n",
      "File \u001b[1;32m~\\anaconda3\\envs\\tens\\lib\\threading.py:302\u001b[0m, in \u001b[0;36mCondition.wait\u001b[1;34m(self, timeout)\u001b[0m\n\u001b[0;32m    300\u001b[0m \u001b[38;5;28;01mtry\u001b[39;00m:    \u001b[38;5;66;03m# restore state no matter what (e.g., KeyboardInterrupt)\u001b[39;00m\n\u001b[0;32m    301\u001b[0m     \u001b[38;5;28;01mif\u001b[39;00m timeout \u001b[38;5;129;01mis\u001b[39;00m \u001b[38;5;28;01mNone\u001b[39;00m:\n\u001b[1;32m--> 302\u001b[0m         \u001b[43mwaiter\u001b[49m\u001b[38;5;241;43m.\u001b[39;49m\u001b[43macquire\u001b[49m\u001b[43m(\u001b[49m\u001b[43m)\u001b[49m\n\u001b[0;32m    303\u001b[0m         gotit \u001b[38;5;241m=\u001b[39m \u001b[38;5;28;01mTrue\u001b[39;00m\n\u001b[0;32m    304\u001b[0m     \u001b[38;5;28;01melse\u001b[39;00m:\n",
      "\u001b[1;31mKeyboardInterrupt\u001b[0m: "
     ]
    }
   ],
   "source": [
    "# Process HOG features for the training set and print its shape\n",
    "x_train_hog = process_images_multithread(x_train)\n",
    "print(x_train_hog.shape)\n",
    "\n",
    "# Process HOG features for the testing set and print its shape\n",
    "x_test_hog = process_images_multithread(x_test)\n",
    "print(x_test_hog.shape)\n"
   ]
  },
  {
   "cell_type": "code",
   "execution_count": null,
   "id": "3df5bfe8",
   "metadata": {},
   "outputs": [],
   "source": []
  },
  {
   "cell_type": "code",
   "execution_count": 11,
   "id": "c5cb8a90",
   "metadata": {},
   "outputs": [],
   "source": [
    "import numpy as np\n",
    "import matplotlib.pyplot as plt\n",
    "from skimage.feature import local_binary_pattern\n",
    "from skimage.color import rgb2gray\n",
    "from tensorflow.keras.datasets import cifar10\n",
    "\n",
    "# Load CIFAR-10 dataset\n",
    "(x_train, y_train), (x_test, y_test) = cifar10.load_data()\n",
    "\n",
    "# Parameters for LBP\n",
    "radius = 3  # LBP radius\n",
    "n_points = 24 * radius  # Number of points in the LBP pattern\n",
    "METHOD = 'uniform'  # LBP method\n",
    "\n",
    "def compute_lbp_histogram(images, num_bins=100):\n",
    "    histograms = []\n",
    "    for image in images:\n",
    "        # Convert image to grayscale\n",
    "        image_gray = rgb2gray(image)\n",
    "        # Compute LBP\n",
    "        lbp = local_binary_pattern(image_gray, n_points, radius, METHOD)\n",
    "        # Build histogram of the LBP result with fixed bins\n",
    "        hist, _ = np.histogram(lbp, density=True, bins=num_bins, range=(0, n_points + 1))\n",
    "        histograms.append(hist)\n",
    "    return np.array(histograms)\n",
    "\n"
   ]
  },
  {
   "cell_type": "code",
   "execution_count": 15,
   "id": "3e892ab2",
   "metadata": {},
   "outputs": [],
   "source": [
    "lbp = local_binary_pattern(rgb2gray(x_train[0]), n_points, radius, METHOD)"
   ]
  },
  {
   "cell_type": "code",
   "execution_count": 12,
   "id": "18194e9a",
   "metadata": {},
   "outputs": [
    {
     "name": "stdout",
     "output_type": "stream",
     "text": [
      "(50000, 100)\n",
      "(10000, 100)\n"
     ]
    }
   ],
   "source": [
    "x_train_lbp = compute_lbp_histogram(x_train)\n",
    "print(x_train_lbp.shape)\n",
    "x_test_lbp = compute_lbp_histogram(x_test)\n",
    "print(x_test_lbp.shape)"
   ]
  },
  {
   "cell_type": "code",
   "execution_count": 18,
   "id": "1eae460c",
   "metadata": {},
   "outputs": [
    {
     "data": {
      "text/plain": [
       "32"
      ]
     },
     "execution_count": 18,
     "metadata": {},
     "output_type": "execute_result"
    }
   ],
   "source": [
    "len(lbp)"
   ]
  },
  {
   "cell_type": "code",
   "execution_count": 16,
   "id": "b4c6f92a",
   "metadata": {},
   "outputs": [
    {
     "data": {
      "text/plain": [
       "array([[ 0., 17., 21., ...,  1.,  1.,  1.],\n",
       "       [26., 72., 73., ..., 16., 15., 14.],\n",
       "       [32., 73., 73., ..., 73., 16., 17.],\n",
       "       ...,\n",
       "       [ 0., 73., 73., ...,  9., 73., 34.],\n",
       "       [73., 28., 73., ...,  6., 73., 24.],\n",
       "       [19., 23., 73., ...,  0.,  5., 13.]])"
      ]
     },
     "execution_count": 16,
     "metadata": {},
     "output_type": "execute_result"
    }
   ],
   "source": [
    "lbp"
   ]
  },
  {
   "cell_type": "code",
   "execution_count": 17,
   "id": "d4a82f17",
   "metadata": {},
   "outputs": [
    {
     "data": {
      "text/plain": [
       "array([[ 0., 17., 21., 73., 20.,  4.,  2.,  0.,  0.,  0., 73., 73.,  1.,\n",
       "         0.,  0.,  2., 73., 73., 73.,  0.,  0.,  2., 73., 73.,  2.,  0.,\n",
       "         0.,  0.,  1.,  1.,  1.,  1.],\n",
       "       [26., 72., 73., 73., 33.,  8.,  4.,  3., 73., 73., 73., 47., 73.,\n",
       "        73., 73., 73., 73., 73., 47., 73., 73., 73., 73., 46., 46., 73.,\n",
       "        73., 73., 73., 16., 15., 14.],\n",
       "       [32., 73., 73., 35., 73.,  5.,  4., 73., 73., 73., 73., 73., 73.,\n",
       "        73., 73., 73., 73., 73., 73., 73., 73., 73., 73., 73., 73., 73.,\n",
       "        73., 73., 73., 73., 16., 17.],\n",
       "       [73., 48., 37., 41., 73., 73., 59., 72., 72., 73., 73., 73., 73.,\n",
       "         7., 12., 73., 73., 73., 73., 73., 73., 12., 13., 73., 73., 73.,\n",
       "        73., 73., 73., 28., 25., 24.],\n",
       "       [29., 36., 36., 73., 73., 73., 73., 69., 66.,  8., 73., 73., 73.,\n",
       "        73.,  9., 73., 73., 73., 73., 73., 13.,  0.,  6.,  4., 73., 73.,\n",
       "        54., 50., 73., 53., 47., 39.],\n",
       "       [29., 35., 35., 73., 73., 73., 73., 73., 67., 73., 73., 53., 44.,\n",
       "        73., 73., 73., 73., 73., 73., 73., 73., 43., 49., 48., 73.,  0.,\n",
       "        73., 60., 62., 57., 51., 43.],\n",
       "       [28., 34., 73., 73., 73., 73., 56., 61., 73.,  4., 73., 73., 40.,\n",
       "        54., 63., 73., 73., 73., 72., 72., 72., 73., 73., 44., 73.,  0.,\n",
       "        73., 60., 60., 52., 45., 38.],\n",
       "       [26., 35., 18., 18., 73., 73., 73., 73., 14., 73.,  6., 73., 65.,\n",
       "        72., 72., 66.,  0.,  0., 73., 72., 72., 73., 73., 73., 73.,  0.,\n",
       "         2., 73., 54., 41., 73., 18.],\n",
       "       [15., 73., 22., 73., 73., 73., 73., 73., 73., 73.,  8., 62., 72.,\n",
       "        72., 72., 62.,  0.,  0., 73., 73., 73., 68., 66., 72., 73., 73.,\n",
       "        73., 73., 73., 33., 24.,  3.],\n",
       "       [ 0.,  0.,  0., 73., 73., 73., 73., 73.,  3., 73., 57., 64., 66.,\n",
       "        67., 45., 46., 31., 32., 73., 45., 73., 61., 64., 72., 64., 73.,\n",
       "        73., 73., 73., 73., 27.,  8.],\n",
       "       [ 3.,  5.,  2., 73., 73., 73., 73.,  0.,  0., 73., 64., 59., 58.,\n",
       "        73., 73., 73., 73., 73., 73., 73., 73., 18., 24., 63., 60., 73.,\n",
       "        73., 73.,  1.,  4., 73., 73.],\n",
       "       [ 0.,  5., 73., 73., 73., 73., 73., 73., 12., 73., 73., 73., 73.,\n",
       "        73., 33., 73., 73., 73., 38., 40., 24., 19., 22., 55., 62., 24.,\n",
       "        73., 73., 73., 73., 73., 73.],\n",
       "       [73., 73., 73., 28., 73., 73., 63., 61., 73., 73., 73., 73., 73.,\n",
       "        20., 16., 29., 30., 35., 31., 73., 32., 32., 34., 58., 62., 61.,\n",
       "        73., 73., 73., 73., 73., 73.],\n",
       "       [ 0.,  2., 73., 29., 42., 73., 70., 67., 66., 73., 73., 73., 73.,\n",
       "        23., 12., 20., 23., 35., 37., 73., 73., 73., 73., 38., 35., 36.,\n",
       "        73., 73., 73., 11., 73.,  0.],\n",
       "       [ 1.,  4., 73., 22., 32., 72., 72., 73., 61., 73., 73., 73., 51.,\n",
       "        73., 23.,  6.,  0.,  5., 12., 73., 73., 73., 73.,  4., 73., 73.,\n",
       "        66., 73., 73., 20., 73., 73.],\n",
       "       [ 0., 73., 73., 29., 73., 72., 72., 72., 73., 73.,  6., 56., 64.,\n",
       "        73., 73.,  0.,  0.,  0.,  1., 73., 73., 73.,  2.,  0.,  0., 27.,\n",
       "        73., 73., 73., 73., 45., 38.],\n",
       "       [ 5., 73., 73., 24., 73., 72., 58., 53., 73.,  7., 73., 63., 73.,\n",
       "        73., 73.,  5.,  0.,  0., 10., 11., 73., 64., 73.,  0.,  5., 31.,\n",
       "        26., 19., 10., 73., 73., 73.],\n",
       "       [ 3., 73., 73., 73., 73., 60., 57., 36., 11.,  0., 73., 73., 73.,\n",
       "        14., 15., 16., 20., 35., 73., 49., 49., 54., 73.,  0., 73., 35.,\n",
       "        73., 73., 73.,  3.,  4., 73.],\n",
       "       [ 1., 46., 73., 73., 73., 73., 62., 73.,  0.,  0., 73., 73., 73.,\n",
       "         6., 15., 73., 38., 43., 47., 73., 44., 35., 12.,  7.,  8., 32.,\n",
       "        64., 67., 69., 73., 73.,  3.],\n",
       "       [ 2., 73., 73., 73., 73., 73., 22.,  0.,  0.,  0., 67., 73., 73.,\n",
       "        11., 72., 72., 72., 37., 40., 70., 73., 73.,  2.,  3.,  7., 32.,\n",
       "        68., 69., 72., 58., 47.,  7.]])"
      ]
     },
     "execution_count": 17,
     "metadata": {},
     "output_type": "execute_result"
    }
   ],
   "source": [
    "lbp[:20]"
   ]
  },
  {
   "cell_type": "code",
   "execution_count": null,
   "id": "65b083e7",
   "metadata": {},
   "outputs": [],
   "source": []
  },
  {
   "cell_type": "code",
   "execution_count": null,
   "id": "3566d5a4",
   "metadata": {},
   "outputs": [],
   "source": []
  }
 ],
 "metadata": {
  "kernelspec": {
   "display_name": "Python 3 (ipykernel)",
   "language": "python",
   "name": "python3"
  },
  "language_info": {
   "codemirror_mode": {
    "name": "ipython",
    "version": 3
   },
   "file_extension": ".py",
   "mimetype": "text/x-python",
   "name": "python",
   "nbconvert_exporter": "python",
   "pygments_lexer": "ipython3",
   "version": "3.8.18"
  }
 },
 "nbformat": 4,
 "nbformat_minor": 5
}
