{
 "cells": [
  {
   "cell_type": "code",
   "execution_count": 1,
   "id": "2b0f0c08",
   "metadata": {},
   "outputs": [],
   "source": [
    "import glob\n",
    "invasive_dirs = [\n",
    "    r'E:\\VeligerData\\invasive',\n",
    "    r'E:\\VeligerData\\Baylor 2022-03-21_2\\Veligers',\n",
    "    r'E:\\VeligerData\\Ostracod vs Pedi-Veliger Examples\\Ostracod vs Pedi-Veliger Examples\\Preserved Zebra Ped 1 To Baylor\\Preserved Zebra Ped 1 To Baylor\\Sorted Images\\Pedi-Zebra Veligers',\n",
    "    r'E:\\VeligerData\\Ostracod vs Pedi-Veliger Examples\\Ostracod vs Pedi-Veliger Examples\\Preserved Zebra Ped 1a To Baylor\\Preserved Zebra Ped 1a To Baylor\\Sorted Images\\Preserved Zebra Ped 1a',    \n",
    "    r'E:\\VeligerData\\To Baylor 2023-01-30\\To Baylor 2023-01-30\\Zebra Pediveliger Image1a\\Zebra Pediveligers',\n",
    "  ]\n",
    "\n",
    "# Non-Invasive category\n",
    "non_invasive_dirs = [\n",
    "    r'E:\\VeligerData\\noninvasive',\n",
    "    r'E:\\VeligerData\\Baylor 2022-03-21_2\\NonVeligers\\Images_001',\n",
    "    r'E:\\VeligerData\\Ostracod vs Pedi-Veliger Examples\\Ostracod vs Pedi-Veliger Examples\\Preserved Zebra Ped 1 To Baylor\\Preserved Zebra Ped 1 To Baylor\\Sorted Images\\Not',\n",
    "    r'E:\\VeligerData\\Ostracod vs Pedi-Veliger Examples\\Ostracod vs Pedi-Veliger Examples\\Preserved Zebra Ped 1a To Baylor\\Preserved Zebra Ped 1a To Baylor\\Sorted Images\\Not',  \n",
    "  ]\n",
    "\n",
    "# Ostracod category\n",
    "ostracod_dirs = [\n",
    "    r'E:\\VeligerData\\Ostracods Day 2 Image1 To Baylor\\Ostracods',\n",
    "    r'E:\\VeligerData\\To Baylor 2023-01-30\\To Baylor 2023-01-30\\Ostracod Image1\\Ostracods1',\n",
    "]\n",
    "\n",
    "# List to store subdirectories\n",
    "invasive_subdirs = []\n",
    "non_invasive_subdirs = []\n",
    "ostracod_subdirs = []\n",
    "\n",
    "# Collect subdirectories in the invasive category\n",
    "for invasive_dir in invasive_dirs:\n",
    "    invasive_subdirs.extend(glob.glob(invasive_dir))\n",
    "\n",
    "# Collect subdirectories in the non-invasive category\n",
    "for non_invasive_dir in non_invasive_dirs:\n",
    "    non_invasive_subdirs.extend(glob.glob(non_invasive_dir))\n",
    "    \n",
    "for ostracod_dir in ostracod_dirs:\n",
    "    ostracod_subdirs.extend(glob.glob(ostracod_dir))\n",
    "    \n",
    "import glob\n",
    "from PIL import Image\n",
    "\n",
    "# List of directories in x\n",
    "x = non_invasive_subdirs\n",
    "\n",
    "# List to store subdirectories\n",
    "y1 = []\n",
    "\n",
    "# Read subdirectories for each directory in x\n",
    "for directory in x:\n",
    "    subdirectories = glob.glob(directory + r'\\*')\n",
    "    y1.extend(subdirectories)\n",
    "\n",
    "import glob\n",
    "\n",
    "# List of directories in x\n",
    "x = invasive_subdirs\n",
    "\n",
    "# List to store subdirectories\n",
    "y2 = []\n",
    "\n",
    "# Read subdirectories for each directory in x\n",
    "for directory in x:\n",
    "    subdirectories = glob.glob(directory + r'\\*')\n",
    "    y2.extend(subdirectories)\n",
    "\n",
    "    \n",
    "import glob\n",
    "\n",
    "# List of directories in x\n",
    "x = ostracod_subdirs\n",
    "\n",
    "# List to store subdirectories\n",
    "y3 = []\n",
    "\n",
    "# Read subdirectories for each directory in x\n",
    "for directory in x:\n",
    "    subdirectories = glob.glob(directory + r'\\*')\n",
    "    y3.extend(subdirectories)\n",
    "\n",
    "    "
   ]
  },
  {
   "cell_type": "code",
   "execution_count": null,
   "id": "35c4d41a",
   "metadata": {},
   "outputs": [],
   "source": []
  },
  {
   "cell_type": "code",
   "execution_count": null,
   "id": "cebf57a1",
   "metadata": {},
   "outputs": [],
   "source": []
  },
  {
   "cell_type": "code",
   "execution_count": 3,
   "id": "228e004f",
   "metadata": {},
   "outputs": [
    {
     "name": "stderr",
     "output_type": "stream",
     "text": [
      "100%|███████████████████████████████████████████████████████████████████| 119711/119711 [16:51<00:00, 118.34it/s]\n",
      "100%|█████████████████████████████████████████████████████████████████████| 19270/19270 [02:52<00:00, 111.65it/s]\n",
      "100%|███████████████████████████████████████████████████████████████████████| 1626/1626 [00:09<00:00, 164.85it/s]\n"
     ]
    }
   ],
   "source": [
    "\n",
    "import os\n",
    "import numpy as np\n",
    "import tensorflow as tf\n",
    "from PIL import Image\n",
    "from tqdm import tqdm\n",
    "\n",
    "def preprocess_images(y1, label_num, target_size=(40, 40)):\n",
    "    # List to store image files\n",
    "    image_files = []\n",
    "    # List to store labels\n",
    "    labels = []\n",
    "\n",
    "    # Retrieve image files and create labels for each directory in y1\n",
    "    for directory in y1:\n",
    "        for root, dirs, files in os.walk(directory):\n",
    "            for file in files:\n",
    "                # Check if the file has an image extension\n",
    "                if file.lower().endswith(('.jpg', '.jpeg', '.png')):\n",
    "                    # Add the file path to the image_files list\n",
    "                    image_files.append(os.path.join(root, file))\n",
    "                    # Add the label to the labels list\n",
    "                    \n",
    "\n",
    "    # List to store preprocessed images\n",
    "    images = []\n",
    "\n",
    "    # Preprocess each image\n",
    "    for file in tqdm(image_files):\n",
    "        try:\n",
    "            # Read the image using PIL\n",
    "            image = Image.open(file)\n",
    "            # Resize the image using tf.image.resize_with_crop_or_pad()\n",
    "            image = tf.image.resize_with_crop_or_pad(\n",
    "                tf.keras.preprocessing.image.img_to_array(image),\n",
    "                target_size[0],\n",
    "                target_size[1]\n",
    "            )\n",
    "            # Normalize the image pixels for ML training\n",
    "            image = image / 255.0\n",
    "            # Add the preprocessed image to the images list\n",
    "            images.append(image)\n",
    "            labels.append(label_num)\n",
    "        except Exception as e:\n",
    "            print(f\"Error processing image: {file}. Skipping...\")\n",
    "            continue\n",
    "\n",
    "    # Convert the images and labels lists to numpy arrays\n",
    "    images = np.array(images)\n",
    "    labels = np.array(labels)\n",
    "\n",
    "    return images, labels\n",
    "\n",
    "\n",
    "X0,Y0 = preprocess_images(y1, label_num = 0)\n",
    "X1,Y1 = preprocess_images(y2, label_num = 1)\n",
    "X2,Y2 = preprocess_images(y3, label_num = 2)"
   ]
  },
  {
   "cell_type": "code",
   "execution_count": 4,
   "id": "c9f73b10",
   "metadata": {},
   "outputs": [],
   "source": [
    "import numpy as np\n",
    "from sklearn.model_selection import train_test_split\n",
    "from tensorflow.keras.utils import to_categorical\n",
    "\n",
    "# Concatenate the image arrays\n",
    "train_images = np.concatenate((X0, X1, X2), axis=0)\n",
    "\n",
    "# Combine the label arrays\n",
    "train_labels = np.concatenate((Y0, Y1, Y2), axis=0)\n",
    "\n",
    "# Convert the labels to categorical\n",
    "train_labels_categorical = to_categorical(train_labels)\n",
    "\n",
    "# Set the dtype of train_images to float32\n",
    "train_images = train_images.astype('float32')\n",
    "\n",
    "# Split the data into train and test sets\n",
    "from sklearn.utils import shuffle\n",
    "\n",
    "# Shuffle the data\n",
    "train_images, train_labels_categorical = shuffle(train_images, train_labels_categorical)\n",
    "\n",
    "# Now the shuffled data is assigned to the same variable names\n",
    "X_train, X_test, Y_train, Y_test = train_test_split(train_images, train_labels_categorical, test_size=0.01, random_state=42)"
   ]
  },
  {
   "cell_type": "code",
   "execution_count": 5,
   "id": "485149fe",
   "metadata": {},
   "outputs": [
    {
     "data": {
      "text/plain": [
       "(139200, 40, 40, 3)"
      ]
     },
     "execution_count": 5,
     "metadata": {},
     "output_type": "execute_result"
    }
   ],
   "source": [
    "np.shape(X_train)"
   ]
  },
  {
   "cell_type": "code",
   "execution_count": null,
   "id": "38d57838",
   "metadata": {},
   "outputs": [],
   "source": []
  },
  {
   "cell_type": "code",
   "execution_count": 6,
   "id": "3f13ecf4",
   "metadata": {},
   "outputs": [
    {
     "name": "stdout",
     "output_type": "stream",
     "text": [
      "Model: \"sequential\"\n",
      "_________________________________________________________________\n",
      " Layer (type)                Output Shape              Param #   \n",
      "=================================================================\n",
      " conv2d (Conv2D)             (None, 38, 38, 32)        896       \n",
      "                                                                 \n",
      " max_pooling2d (MaxPooling2D  (None, 19, 19, 32)       0         \n",
      " )                                                               \n",
      "                                                                 \n",
      " conv2d_1 (Conv2D)           (None, 17, 17, 32)        9248      \n",
      "                                                                 \n",
      " max_pooling2d_1 (MaxPooling  (None, 8, 8, 32)         0         \n",
      " 2D)                                                             \n",
      "                                                                 \n",
      " conv2d_2 (Conv2D)           (None, 6, 6, 16)          4624      \n",
      "                                                                 \n",
      " flatten (Flatten)           (None, 576)               0         \n",
      "                                                                 \n",
      " dense (Dense)               (None, 64)                36928     \n",
      "                                                                 \n",
      " dense_1 (Dense)             (None, 10)                650       \n",
      "                                                                 \n",
      " dense_2 (Dense)             (None, 3)                 33        \n",
      "                                                                 \n",
      "=================================================================\n",
      "Total params: 52,379\n",
      "Trainable params: 52,379\n",
      "Non-trainable params: 0\n",
      "_________________________________________________________________\n"
     ]
    }
   ],
   "source": [
    "import numpy as np\n",
    "import pandas as pd\n",
    "from skimage.io import imread\n",
    "from skimage.transform import resize\n",
    "from keras import layers\n",
    "from keras import models\n",
    "from keras.layers import LeakyReLU\n",
    "from keras.models import Sequential, Model, load_model\n",
    "from keras.layers import Input, Conv1D, Conv2D, MaxPooling1D, MaxPooling2D, Dense, Dropout, Activation, Flatten\n",
    "import tensorflow as tf\n",
    "from tensorflow import keras\n",
    "from tensorflow.keras import layers\n",
    "\n",
    "model = models.Sequential()\n",
    "model.add(layers.Conv2D(32, (3, 3), input_shape=(40, 40, 3)))\n",
    "model.add(layers.MaxPooling2D((2, 2)))\n",
    "model.add(layers.Conv2D(32, (3, 3), activation=\"relu\"))\n",
    "model.add(layers.MaxPooling2D((2, 2)))\n",
    "model.add(layers.Conv2D(16, (3, 3)))\n",
    "model.add(layers.Flatten())\n",
    "model.add(layers.Dense(64))\n",
    "model.add(layers.Dense(10))\n",
    "model.add(layers.Dense(3, activation=\"softmax\"))\n",
    "model.summary()"
   ]
  },
  {
   "cell_type": "code",
   "execution_count": 6,
   "id": "240d76e7",
   "metadata": {},
   "outputs": [
    {
     "name": "stdout",
     "output_type": "stream",
     "text": [
      "Class weights: [ 0.44741921  1.47039785 11.78250591]\n"
     ]
    }
   ],
   "source": [
    "class_weights = np.zeros(3)\n",
    "\n",
    "unique_labels, counts = np.unique(train_labels, return_counts=True)\n",
    "\n",
    "total_samples = np.sum(counts)\n",
    "\n",
    "for i, label in enumerate(unique_labels):\n",
    "    class_weights[label] = total_samples / (len(unique_labels) * counts[i])\n",
    "\n",
    "print(\"Class weights:\", class_weights)"
   ]
  },
  {
   "cell_type": "code",
   "execution_count": null,
   "id": "06f16b4b",
   "metadata": {},
   "outputs": [],
   "source": []
  },
  {
   "cell_type": "code",
   "execution_count": 7,
   "id": "28aad665",
   "metadata": {},
   "outputs": [
    {
     "name": "stdout",
     "output_type": "stream",
     "text": [
      "Epoch 1/50\n",
      "3480/3480 [==============================] - 58s 14ms/step - loss: 0.1625 - accuracy: 0.9402 - val_loss: 0.1449 - val_accuracy: 0.9474\n",
      "Epoch 2/50\n",
      "3480/3480 [==============================] - 54s 15ms/step - loss: 0.1276 - accuracy: 0.9514 - val_loss: 0.1141 - val_accuracy: 0.9568\n",
      "Epoch 3/50\n",
      "3480/3480 [==============================] - 36s 10ms/step - loss: 0.1169 - accuracy: 0.9552 - val_loss: 0.1100 - val_accuracy: 0.9597\n",
      "Epoch 4/50\n",
      "3480/3480 [==============================] - 46s 13ms/step - loss: 0.1088 - accuracy: 0.9576 - val_loss: 0.1107 - val_accuracy: 0.9577\n",
      "Epoch 5/50\n",
      "3480/3480 [==============================] - 51s 15ms/step - loss: 0.1041 - accuracy: 0.9592 - val_loss: 0.1016 - val_accuracy: 0.9625\n",
      "Epoch 6/50\n",
      "3480/3480 [==============================] - 55s 16ms/step - loss: 0.1001 - accuracy: 0.9614 - val_loss: 0.1033 - val_accuracy: 0.9615\n",
      "Epoch 7/50\n",
      "3480/3480 [==============================] - 28s 8ms/step - loss: 0.0966 - accuracy: 0.9626 - val_loss: 0.0966 - val_accuracy: 0.9619\n",
      "Epoch 8/50\n",
      "3480/3480 [==============================] - 45s 13ms/step - loss: 0.0929 - accuracy: 0.9639 - val_loss: 0.0949 - val_accuracy: 0.9651\n",
      "Epoch 9/50\n",
      "3480/3480 [==============================] - 49s 14ms/step - loss: 0.0903 - accuracy: 0.9649 - val_loss: 0.0931 - val_accuracy: 0.9643\n",
      "Epoch 10/50\n",
      "3480/3480 [==============================] - 51s 15ms/step - loss: 0.0889 - accuracy: 0.9659 - val_loss: 0.0942 - val_accuracy: 0.9656\n",
      "Epoch 11/50\n",
      "3480/3480 [==============================] - 62s 18ms/step - loss: 0.0863 - accuracy: 0.9668 - val_loss: 0.0922 - val_accuracy: 0.9652\n",
      "Epoch 12/50\n",
      "3480/3480 [==============================] - 81s 23ms/step - loss: 0.0838 - accuracy: 0.9673 - val_loss: 0.0945 - val_accuracy: 0.9644\n",
      "Epoch 13/50\n",
      "3480/3480 [==============================] - 57s 16ms/step - loss: 0.0820 - accuracy: 0.9679 - val_loss: 0.0931 - val_accuracy: 0.9655\n",
      "Epoch 14/50\n",
      "3480/3480 [==============================] - 63s 18ms/step - loss: 0.0798 - accuracy: 0.9692 - val_loss: 0.0993 - val_accuracy: 0.9636\n",
      "Epoch 15/50\n",
      "3480/3480 [==============================] - 68s 20ms/step - loss: 0.0797 - accuracy: 0.9686 - val_loss: 0.0927 - val_accuracy: 0.9651\n",
      "Epoch 16/50\n",
      "3480/3480 [==============================] - 80s 23ms/step - loss: 0.0771 - accuracy: 0.9700 - val_loss: 0.0986 - val_accuracy: 0.9648\n",
      "Epoch 17/50\n",
      " 112/3480 [..............................] - ETA: 55s - loss: 0.0785 - accuracy: 0.9682"
     ]
    }
   ],
   "source": [
    "model.compile(optimizer='Adam',loss='categorical_crossentropy',metrics='accuracy')\n",
    "class_weights = [1,1,1]\n",
    "model.fit(X_train, Y_train, epochs=50, batch_size=32, validation_split=0.2, verbose=1)"
   ]
  },
  {
   "cell_type": "code",
   "execution_count": 8,
   "id": "87928d8a",
   "metadata": {},
   "outputs": [],
   "source": [
    "from tensorflow.keras.models import load_model\n",
    "# Assuming you have a Keras model named \"model\"\n",
    "model.save(\"full_single_image.h5\")"
   ]
  },
  {
   "cell_type": "code",
   "execution_count": null,
   "id": "a97d0ffb",
   "metadata": {},
   "outputs": [],
   "source": []
  },
  {
   "cell_type": "code",
   "execution_count": null,
   "id": "e1b6ecc0",
   "metadata": {},
   "outputs": [],
   "source": []
  },
  {
   "cell_type": "code",
   "execution_count": 28,
   "id": "fadf0724",
   "metadata": {},
   "outputs": [],
   "source": [
    "from tensorflow.keras.models import load_model\n",
    "\n",
    "# Define the path to the model file\n",
    "model_path = r'E:\\ML_notebooks\\premodel.h5'\n",
    "\n",
    "# Load the model with custom_objects argument\n",
    "#model = load_model(model_path)"
   ]
  },
  {
   "cell_type": "code",
   "execution_count": null,
   "id": "6944258e",
   "metadata": {},
   "outputs": [],
   "source": []
  },
  {
   "cell_type": "code",
   "execution_count": 29,
   "id": "e7cef385",
   "metadata": {},
   "outputs": [],
   "source": [
    "invasive_dirs = [\n",
    "    r'D:\\VeligerData\\To Baylor 2023-01-30\\To Baylor 2023-01-30\\Zebra Pediveliger Image1a\\Zebra Pediveligers',\n",
    "    r'E:\\VeligerData\\USGS Labled Zebra\\USGS Labled Zebra\\Baylor Preserved Zebra Umbo 1 Image1\\Baylor Preserved Zebra Umbo 1 Image1\\Sorted Images\\Umbonal',\n",
    "    r'E:\\VeligerData\\USGS Labled Zebra\\USGS Labled Zebra\\Baylor Preserved Zebra Umbo 1a Image1\\Baylor Preserved Zebra Umbo 1a Image1\\Sorted Images\\Umbonal',\n",
    "    r'E:\\VeligerData\\USGS Labled Zebra\\USGS Labled Zebra\\Preserved Zebra D-Hinge 1 Baylor\\Preserved Zebra D-Hinge 1 Baylor\\Sorted Images\\Zebra D-Hinge',\n",
    "    r'C:\\Users\\shaif\\Downloads\\Compressed\\Labeled Baylor 8-30-23\\Labeled Baylor 8-30-23\\Zebra Ped 1a Image1a\\Pedi',\n",
    "    r'C:\\Users\\shaif\\Downloads\\Compressed\\Labeled Baylor 8-30-23\\Labeled Baylor 8-30-23\\Zebra Ped 1a Image1a\\D-Hinge'\n",
    "]\n",
    "\n",
    "# Non-Invasive category\n",
    "non_invasive_dirs = [\n",
    "    r'D:\\VeligerData\\To Baylor 2023-01-30\\To Baylor 2023-01-30\\Not Veligers\\Z-P',\n",
    "    r'E:\\VeligerData\\USGS Labled Zebra\\USGS Labled Zebra\\Baylor Preserved Zebra Umbo 1 Image1\\Baylor Preserved Zebra Umbo 1 Image1\\Sorted Images\\Not',\n",
    "    r'E:\\VeligerData\\USGS Labled Zebra\\USGS Labled Zebra\\Baylor Preserved Zebra Umbo 1a Image1\\Baylor Preserved Zebra Umbo 1a Image1\\Sorted Images\\Not',\n",
    "    r'E:\\VeligerData\\USGS Labled Zebra\\USGS Labled Zebra\\Preserved Zebra D-Hinge 1 Baylor\\Preserved Zebra D-Hinge 1 Baylor\\Sorted Images\\Not',\n",
    "    r'D:\\2.Veliger_Data\\1.Samples 1 - 3\\Samples 1 - 3\\2 Below Lake Waco Deep 28_8 Concentrated\\2_38 Below Lake Waco Deep 28_8 Gal 9-17-21 Image2a\\Images_001'\n",
    "]\n",
    "\n",
    "# Ostracod category\n",
    "ostracod_dirs = [\n",
    "    r'D:\\VeligerData\\Ostracod Day 2 Image12 Short To Baylor\\Ostracod Day 2 Image12 To Baylor\\Sorted Images\\Ostracods',\n",
    "    r'E:\\VeligerData\\USGS Labled Zebra\\USGS Labled Zebra\\Preserved Zebra D-Hinge 1 Baylor\\Preserved Zebra D-Hinge 1 Baylor\\Sorted Images\\Ostracod',\n",
    "    r'E:\\VeligerData\\Ostracod Day 2 Image12 Short To Baylor\\Ostracod Day 2 Image12 To Baylor\\Sorted Images\\Ostracods',\n",
    "    r'E:\\VeligerData\\Ostracod vs Pedi-Veliger Examples\\Ostracod vs Pedi-Veliger Examples\\Preserved Ostracods 1 To Baylor\\Preserved Ostracods 1 To Baylor\\Sorted Images\\Preserve Ostracods',\n",
    "    r'E:\\VeligerData\\Ostracod vs Pedi-Veliger Examples\\Ostracod vs Pedi-Veliger Examples\\Preserved Ostracods 1a To Baylor\\Preserved Ostracods 1a To Baylor\\Sorted Images\\Preserved Ostracods 1a',\n",
    "    r'E:\\VeligerData\\Ostracods Day 2 Image3 To Baylor_2\\Ostracods Day 2 Image3 To Baylor\\Sorted Images\\Ostracods',\n",
    "    r'E:\\VeligerData\\Ostracods Day 2 Image12 To Baylor_3\\Ostracods Day 2 Image12 To Baylor\\Sorted Images\\Ostracods',  \n",
    "\n",
    "  ]\n",
    "\n",
    "# List to store subdirectories\n",
    "invasive_subdirs = []\n",
    "non_invasive_subdirs = []\n",
    "ostracod_subdirs = []\n",
    "\n",
    "# Collect subdirectories in the invasive category\n",
    "for invasive_dir in invasive_dirs:\n",
    "    invasive_subdirs.extend(glob.glob(invasive_dir))\n",
    "\n",
    "# Collect subdirectories in the non-invasive category\n",
    "for non_invasive_dir in non_invasive_dirs:\n",
    "    non_invasive_subdirs.extend(glob.glob(non_invasive_dir))\n",
    "    \n",
    "for ostracod_dir in ostracod_dirs:\n",
    "    ostracod_subdirs.extend(glob.glob(ostracod_dir))"
   ]
  },
  {
   "cell_type": "code",
   "execution_count": null,
   "id": "eabc1ebd",
   "metadata": {},
   "outputs": [],
   "source": []
  },
  {
   "cell_type": "code",
   "execution_count": 30,
   "id": "82d08ad8",
   "metadata": {},
   "outputs": [
    {
     "name": "stdout",
     "output_type": "stream",
     "text": [
      "Error processing image: D:\\VeligerData\\Ostracod Day 2 Image12 Short To Baylor\\Ostracod Day 2 Image12 To Baylor\\Sorted Images\\Ostracods\\Object_002\\._Image_032.png. Skipping...\n",
      "Error processing image: D:\\VeligerData\\Ostracod Day 2 Image12 Short To Baylor\\Ostracod Day 2 Image12 To Baylor\\Sorted Images\\Ostracods\\Object_002\\._Image_036.png. Skipping...\n"
     ]
    }
   ],
   "source": [
    "import glob\n",
    "from PIL import Image\n",
    "\n",
    "# List of directories in x\n",
    "x = non_invasive_subdirs\n",
    "\n",
    "# List to store subdirectories\n",
    "y1 = []\n",
    "\n",
    "# Read subdirectories for each directory in x\n",
    "for directory in x:\n",
    "    subdirectories = glob.glob(directory + r'\\*')\n",
    "    y1.extend(subdirectories)\n",
    "\n",
    "import glob\n",
    "\n",
    "# List of directories in x\n",
    "x = invasive_subdirs\n",
    "\n",
    "# List to store subdirectories\n",
    "y2 = []\n",
    "\n",
    "# Read subdirectories for each directory in x\n",
    "for directory in x:\n",
    "    subdirectories = glob.glob(directory + r'\\*')\n",
    "    y2.extend(subdirectories)\n",
    "\n",
    "    \n",
    "import glob\n",
    "\n",
    "# List of directories in x\n",
    "x = ostracod_subdirs\n",
    "\n",
    "# List to store subdirectories\n",
    "y3 = []\n",
    "\n",
    "# Read subdirectories for each directory in x\n",
    "for directory in x:\n",
    "    subdirectories = glob.glob(directory + r'\\*')\n",
    "    y3.extend(subdirectories)\n",
    "\n",
    "    \n",
    "\n",
    "    \n",
    "import os\n",
    "import numpy as np\n",
    "import tensorflow as tf\n",
    "from PIL import Image\n",
    "\n",
    "def preprocess_images(y1, label_num, target_size=(40, 40)):\n",
    "    # List to store image files\n",
    "    image_files = []\n",
    "    # List to store labels\n",
    "    labels = []\n",
    "\n",
    "    # Retrieve image files and create labels for each directory in y1\n",
    "    for directory in y1:\n",
    "        for root, dirs, files in os.walk(directory):\n",
    "            for file in files:\n",
    "                # Check if the file has an image extension\n",
    "                if file.lower().endswith(('.jpg', '.jpeg', '.png')):\n",
    "                    # Add the file path to the image_files list\n",
    "                    image_files.append(os.path.join(root, file))\n",
    "                    # Add the label to the labels list\n",
    "                    \n",
    "\n",
    "    # List to store preprocessed images\n",
    "    images = []\n",
    "\n",
    "    # Preprocess each image\n",
    "    for file in tqdm(image_files):\n",
    "        try:\n",
    "            # Read the image using PIL\n",
    "            image = Image.open(file)\n",
    "            # Resize the image using tf.image.resize_with_crop_or_pad()\n",
    "            image = tf.image.resize_with_crop_or_pad(\n",
    "                tf.keras.preprocessing.image.img_to_array(image),\n",
    "                target_size[0],\n",
    "                target_size[1]\n",
    "            )\n",
    "            # Normalize the image pixels for ML training\n",
    "            image = image / 255.0\n",
    "            # Add the preprocessed image to the images list\n",
    "            images.append(image)\n",
    "            labels.append(label_num)\n",
    "        except Exception as e:\n",
    "            print(f\"Error processing image: {file}. Skipping...\")\n",
    "            continue\n",
    "\n",
    "    # Convert the images and labels lists to numpy arrays\n",
    "    images = np.array(images)\n",
    "    labels = np.array(labels)\n",
    "\n",
    "    return images, labels\n",
    "\n",
    "\n",
    "X0,Y0 = preprocess_images(y1, label_num = 0)\n",
    "X1,Y1 = preprocess_images(y2, label_num = 1)\n",
    "X2,Y2 = preprocess_images(y3, label_num = 2)"
   ]
  },
  {
   "cell_type": "code",
   "execution_count": null,
   "id": "db23670c",
   "metadata": {},
   "outputs": [],
   "source": []
  },
  {
   "cell_type": "code",
   "execution_count": 31,
   "id": "ef91f19a",
   "metadata": {},
   "outputs": [],
   "source": [
    "import numpy as np\n",
    "from sklearn.model_selection import train_test_split\n",
    "from tensorflow.keras.utils import to_categorical\n",
    "\n",
    "# Concatenate the image arrays\n",
    "train_images = np.concatenate((X0, X1, X2), axis=0)\n",
    "\n",
    "# Combine the label arrays\n",
    "train_labels = np.concatenate((Y0, Y1, Y2), axis=0)\n",
    "\n",
    "# Convert the labels to categorical\n",
    "train_labels_categorical = to_categorical(train_labels)\n",
    "\n",
    "# Set the dtype of train_images to float32\n",
    "train_images = train_images.astype('float32')\n",
    "\n",
    "\n",
    "# Split the data into train and test sets\n",
    "from sklearn.utils import shuffle\n",
    "\n",
    "# Assuming you have the original train_images and train_labels_categorical\n",
    "\n",
    "# Shuffle the data\n",
    "train_images, train_labels_categorical = shuffle(train_images, train_labels_categorical)\n",
    "\n",
    "# Now the shuffled data is assigned to the same variable names\n",
    "\n",
    "X_train, X_test1, Y_train, Y_test1 = train_test_split(train_images, train_labels_categorical, test_size=0.01, random_state=42)\n"
   ]
  },
  {
   "cell_type": "code",
   "execution_count": null,
   "id": "dde28d96",
   "metadata": {},
   "outputs": [],
   "source": []
  },
  {
   "cell_type": "code",
   "execution_count": 12,
   "id": "65ac6ae8",
   "metadata": {},
   "outputs": [],
   "source": [
    "from tensorflow.keras.models import load_model\n",
    "# Assuming you have a Keras model named \"model\"\n",
    "model.save(\"premodel.h5\")"
   ]
  },
  {
   "cell_type": "code",
   "execution_count": 32,
   "id": "f396a53b",
   "metadata": {},
   "outputs": [
    {
     "data": {
      "text/plain": [
       "(62657, 40, 40, 3)"
      ]
     },
     "execution_count": 32,
     "metadata": {},
     "output_type": "execute_result"
    }
   ],
   "source": [
    "np.shape(X_train)"
   ]
  },
  {
   "cell_type": "code",
   "execution_count": null,
   "id": "279b9c7c",
   "metadata": {},
   "outputs": [],
   "source": []
  },
  {
   "cell_type": "code",
   "execution_count": 33,
   "id": "a10bb4b3",
   "metadata": {},
   "outputs": [
    {
     "name": "stdout",
     "output_type": "stream",
     "text": [
      "Class weights: [0.51307619 1.11912719 6.35250427]\n"
     ]
    }
   ],
   "source": [
    "class_weights = np.zeros(3)\n",
    "\n",
    "unique_labels, counts = np.unique(train_labels, return_counts=True)\n",
    "\n",
    "total_samples = np.sum(counts)\n",
    "\n",
    "for i, label in enumerate(unique_labels):\n",
    "    class_weights[label] = total_samples / (len(unique_labels) * counts[i])\n",
    "\n",
    "print(\"Class weights:\", class_weights)"
   ]
  },
  {
   "cell_type": "code",
   "execution_count": null,
   "id": "33a28019",
   "metadata": {},
   "outputs": [],
   "source": []
  },
  {
   "cell_type": "code",
   "execution_count": 34,
   "id": "1b47e44d",
   "metadata": {},
   "outputs": [
    {
     "name": "stdout",
     "output_type": "stream",
     "text": [
      "Epoch 1/50\n",
      "1763/1763 [==============================] - 19s 11ms/step - loss: 0.3414 - accuracy: 0.8741 - val_loss: 0.3145 - val_accuracy: 0.8726\n",
      "Epoch 2/50\n",
      "1763/1763 [==============================] - 18s 10ms/step - loss: 0.2565 - accuracy: 0.8975 - val_loss: 0.2602 - val_accuracy: 0.8974\n",
      "Epoch 3/50\n",
      "1763/1763 [==============================] - 19s 11ms/step - loss: 0.2364 - accuracy: 0.9075 - val_loss: 0.2490 - val_accuracy: 0.8995\n",
      "Epoch 4/50\n",
      "1763/1763 [==============================] - 15s 9ms/step - loss: 0.2257 - accuracy: 0.9107 - val_loss: 0.2619 - val_accuracy: 0.8974\n",
      "Epoch 5/50\n",
      "1763/1763 [==============================] - 17s 10ms/step - loss: 0.2126 - accuracy: 0.9161 - val_loss: 0.2389 - val_accuracy: 0.9055\n",
      "Epoch 6/50\n",
      "1763/1763 [==============================] - 17s 9ms/step - loss: 0.2043 - accuracy: 0.9189 - val_loss: 0.2602 - val_accuracy: 0.9015\n",
      "Epoch 7/50\n",
      "1763/1763 [==============================] - 18s 10ms/step - loss: 0.1962 - accuracy: 0.9217 - val_loss: 0.3115 - val_accuracy: 0.8832\n",
      "Epoch 8/50\n",
      "1763/1763 [==============================] - 18s 10ms/step - loss: 0.1907 - accuracy: 0.9248 - val_loss: 0.2224 - val_accuracy: 0.9138\n",
      "Epoch 9/50\n",
      "1763/1763 [==============================] - 14s 8ms/step - loss: 0.1862 - accuracy: 0.9270 - val_loss: 0.2138 - val_accuracy: 0.9188\n",
      "Epoch 10/50\n",
      "1763/1763 [==============================] - 12s 7ms/step - loss: 0.1811 - accuracy: 0.9284 - val_loss: 0.2257 - val_accuracy: 0.9116\n",
      "Epoch 11/50\n",
      "1763/1763 [==============================] - 12s 7ms/step - loss: 0.1776 - accuracy: 0.9296 - val_loss: 0.2275 - val_accuracy: 0.9143\n",
      "Epoch 12/50\n",
      "1763/1763 [==============================] - 12s 7ms/step - loss: 0.1737 - accuracy: 0.9314 - val_loss: 0.2177 - val_accuracy: 0.9149\n",
      "Epoch 13/50\n",
      "1763/1763 [==============================] - 11s 6ms/step - loss: 0.1693 - accuracy: 0.9328 - val_loss: 0.2519 - val_accuracy: 0.9052\n",
      "Epoch 14/50\n",
      "1763/1763 [==============================] - 13s 8ms/step - loss: 0.1680 - accuracy: 0.9337 - val_loss: 0.2253 - val_accuracy: 0.9157\n",
      "Epoch 15/50\n",
      "1763/1763 [==============================] - 11s 6ms/step - loss: 0.1662 - accuracy: 0.9356 - val_loss: 0.2106 - val_accuracy: 0.9192\n",
      "Epoch 16/50\n",
      "1763/1763 [==============================] - 11s 6ms/step - loss: 0.1632 - accuracy: 0.9353 - val_loss: 0.2229 - val_accuracy: 0.9138\n",
      "Epoch 17/50\n",
      "1763/1763 [==============================] - 12s 7ms/step - loss: 0.1599 - accuracy: 0.9374 - val_loss: 0.2239 - val_accuracy: 0.9138\n",
      "Epoch 18/50\n",
      "1763/1763 [==============================] - 13s 7ms/step - loss: 0.1589 - accuracy: 0.9382 - val_loss: 0.2229 - val_accuracy: 0.9135\n",
      "Epoch 19/50\n",
      "1763/1763 [==============================] - 14s 8ms/step - loss: 0.1568 - accuracy: 0.9387 - val_loss: 0.2170 - val_accuracy: 0.9172\n",
      "Epoch 20/50\n",
      "1763/1763 [==============================] - 14s 8ms/step - loss: 0.1541 - accuracy: 0.9397 - val_loss: 0.2197 - val_accuracy: 0.9159\n",
      "Epoch 21/50\n",
      "1763/1763 [==============================] - 14s 8ms/step - loss: 0.1546 - accuracy: 0.9393 - val_loss: 0.2080 - val_accuracy: 0.9186\n",
      "Epoch 22/50\n",
      "1763/1763 [==============================] - 13s 7ms/step - loss: 0.1503 - accuracy: 0.9406 - val_loss: 0.2224 - val_accuracy: 0.9183\n",
      "Epoch 23/50\n",
      "1763/1763 [==============================] - 18s 10ms/step - loss: 0.1520 - accuracy: 0.9402 - val_loss: 0.2229 - val_accuracy: 0.9213\n",
      "Epoch 24/50\n",
      "1763/1763 [==============================] - 19s 11ms/step - loss: 0.1481 - accuracy: 0.9428 - val_loss: 0.2084 - val_accuracy: 0.9199\n",
      "Epoch 25/50\n",
      "1763/1763 [==============================] - 15s 8ms/step - loss: 0.1482 - accuracy: 0.9419 - val_loss: 0.2376 - val_accuracy: 0.9181\n",
      "Epoch 26/50\n",
      "1763/1763 [==============================] - 10s 6ms/step - loss: 0.1452 - accuracy: 0.9433 - val_loss: 0.2206 - val_accuracy: 0.9170\n",
      "Epoch 27/50\n",
      "1763/1763 [==============================] - 11s 6ms/step - loss: 0.1441 - accuracy: 0.9436 - val_loss: 0.2330 - val_accuracy: 0.9162\n",
      "Epoch 28/50\n",
      "1763/1763 [==============================] - 16s 9ms/step - loss: 0.1410 - accuracy: 0.9445 - val_loss: 0.2292 - val_accuracy: 0.9180\n",
      "Epoch 29/50\n",
      "1763/1763 [==============================] - 15s 8ms/step - loss: 0.1427 - accuracy: 0.9439 - val_loss: 0.2510 - val_accuracy: 0.9106\n",
      "Epoch 30/50\n",
      "1763/1763 [==============================] - 17s 10ms/step - loss: 0.1403 - accuracy: 0.9453 - val_loss: 0.2159 - val_accuracy: 0.9212\n",
      "Epoch 31/50\n",
      "1763/1763 [==============================] - 14s 8ms/step - loss: 0.1381 - accuracy: 0.9450 - val_loss: 0.2391 - val_accuracy: 0.9109\n",
      "Epoch 32/50\n",
      "1763/1763 [==============================] - 14s 8ms/step - loss: 0.1382 - accuracy: 0.9458 - val_loss: 0.2175 - val_accuracy: 0.9210\n",
      "Epoch 33/50\n",
      "1763/1763 [==============================] - 17s 10ms/step - loss: 0.1354 - accuracy: 0.9476 - val_loss: 0.2331 - val_accuracy: 0.9208\n",
      "Epoch 34/50\n",
      "1763/1763 [==============================] - 21s 12ms/step - loss: 0.1325 - accuracy: 0.9484 - val_loss: 0.2584 - val_accuracy: 0.9156\n",
      "Epoch 35/50\n",
      "1763/1763 [==============================] - 19s 11ms/step - loss: 0.1357 - accuracy: 0.9462 - val_loss: 0.2644 - val_accuracy: 0.9086\n",
      "Epoch 36/50\n",
      "1763/1763 [==============================] - 21s 12ms/step - loss: 0.1328 - accuracy: 0.9490 - val_loss: 0.2132 - val_accuracy: 0.9215\n",
      "Epoch 37/50\n",
      "1763/1763 [==============================] - 13s 8ms/step - loss: 0.1301 - accuracy: 0.9490 - val_loss: 0.2286 - val_accuracy: 0.9175\n",
      "Epoch 38/50\n",
      "1763/1763 [==============================] - 14s 8ms/step - loss: 0.1314 - accuracy: 0.9485 - val_loss: 0.2124 - val_accuracy: 0.9199\n",
      "Epoch 39/50\n",
      "1763/1763 [==============================] - 14s 8ms/step - loss: 0.1278 - accuracy: 0.9507 - val_loss: 0.2203 - val_accuracy: 0.9208\n",
      "Epoch 40/50\n",
      "1763/1763 [==============================] - 19s 10ms/step - loss: 0.1282 - accuracy: 0.9491 - val_loss: 0.2298 - val_accuracy: 0.9202\n",
      "Epoch 41/50\n",
      "1763/1763 [==============================] - 16s 9ms/step - loss: 0.1266 - accuracy: 0.9498 - val_loss: 0.2233 - val_accuracy: 0.9226\n",
      "Epoch 42/50\n",
      "1763/1763 [==============================] - 15s 8ms/step - loss: 0.1260 - accuracy: 0.9509 - val_loss: 0.2313 - val_accuracy: 0.9220\n",
      "Epoch 43/50\n",
      "1763/1763 [==============================] - 12s 7ms/step - loss: 0.1235 - accuracy: 0.9521 - val_loss: 0.2376 - val_accuracy: 0.9208\n",
      "Epoch 44/50\n",
      "1763/1763 [==============================] - 12s 7ms/step - loss: 0.1240 - accuracy: 0.9518 - val_loss: 0.2182 - val_accuracy: 0.9237\n",
      "Epoch 45/50\n",
      "1763/1763 [==============================] - 11s 6ms/step - loss: 0.1237 - accuracy: 0.9512 - val_loss: 0.2231 - val_accuracy: 0.9229\n",
      "Epoch 46/50\n",
      "1763/1763 [==============================] - 11s 6ms/step - loss: 0.1203 - accuracy: 0.9529 - val_loss: 0.2430 - val_accuracy: 0.9157\n",
      "Epoch 47/50\n",
      "1763/1763 [==============================] - 17s 10ms/step - loss: 0.1200 - accuracy: 0.9530 - val_loss: 0.2263 - val_accuracy: 0.9186\n",
      "Epoch 48/50\n",
      "1763/1763 [==============================] - 13s 7ms/step - loss: 0.1199 - accuracy: 0.9535 - val_loss: 0.2342 - val_accuracy: 0.9199\n",
      "Epoch 49/50\n",
      "1763/1763 [==============================] - 16s 9ms/step - loss: 0.1182 - accuracy: 0.9537 - val_loss: 0.2248 - val_accuracy: 0.9247\n",
      "Epoch 50/50\n",
      "1763/1763 [==============================] - 20s 12ms/step - loss: 0.1173 - accuracy: 0.9541 - val_loss: 0.2315 - val_accuracy: 0.9180\n"
     ]
    },
    {
     "data": {
      "text/plain": [
       "<keras.callbacks.History at 0x1740c5d9910>"
      ]
     },
     "execution_count": 34,
     "metadata": {},
     "output_type": "execute_result"
    }
   ],
   "source": [
    "model.compile(optimizer='Adam',loss='categorical_crossentropy',metrics='accuracy')\n",
    "class_weights = [1,1,1]\n",
    "model.fit(X_train, Y_train, epochs=50, batch_size=32, validation_split=0.1, verbose=1)"
   ]
  },
  {
   "cell_type": "code",
   "execution_count": null,
   "id": "adebf030",
   "metadata": {},
   "outputs": [],
   "source": []
  },
  {
   "cell_type": "code",
   "execution_count": 35,
   "id": "2d1e4030",
   "metadata": {},
   "outputs": [
    {
     "name": "stdout",
     "output_type": "stream",
     "text": [
      "Accuracy: 1.0\n"
     ]
    }
   ],
   "source": []
  },
  {
   "cell_type": "code",
   "execution_count": null,
   "id": "b9b9ca5c",
   "metadata": {},
   "outputs": [],
   "source": []
  },
  {
   "cell_type": "code",
   "execution_count": null,
   "id": "1d18ca6c",
   "metadata": {},
   "outputs": [],
   "source": []
  },
  {
   "cell_type": "code",
   "execution_count": null,
   "id": "5c56058d",
   "metadata": {},
   "outputs": [],
   "source": []
  },
  {
   "cell_type": "code",
   "execution_count": null,
   "id": "99f3a4e1",
   "metadata": {},
   "outputs": [],
   "source": []
  },
  {
   "cell_type": "code",
   "execution_count": 36,
   "id": "2728b65a",
   "metadata": {},
   "outputs": [],
   "source": [
    "from tensorflow.keras.models import load_model\n",
    "# Assuming you have a Keras model named \"model\"\n",
    "model.save(\"single_image_model.h5\")"
   ]
  },
  {
   "cell_type": "code",
   "execution_count": null,
   "id": "323db2e7",
   "metadata": {},
   "outputs": [],
   "source": []
  },
  {
   "cell_type": "code",
   "execution_count": null,
   "id": "718b43a9",
   "metadata": {},
   "outputs": [],
   "source": []
  },
  {
   "cell_type": "code",
   "execution_count": null,
   "id": "d176ce90",
   "metadata": {},
   "outputs": [],
   "source": []
  },
  {
   "cell_type": "code",
   "execution_count": null,
   "id": "40858074",
   "metadata": {},
   "outputs": [],
   "source": []
  },
  {
   "cell_type": "code",
   "execution_count": null,
   "id": "b83318ee",
   "metadata": {},
   "outputs": [],
   "source": []
  },
  {
   "cell_type": "code",
   "execution_count": null,
   "id": "c959fa5e",
   "metadata": {},
   "outputs": [],
   "source": []
  },
  {
   "cell_type": "code",
   "execution_count": null,
   "id": "01e72d5e",
   "metadata": {},
   "outputs": [],
   "source": []
  },
  {
   "cell_type": "code",
   "execution_count": null,
   "id": "9b3390b2",
   "metadata": {},
   "outputs": [],
   "source": []
  },
  {
   "cell_type": "code",
   "execution_count": null,
   "id": "51a9c0e9",
   "metadata": {},
   "outputs": [],
   "source": []
  },
  {
   "cell_type": "code",
   "execution_count": null,
   "id": "b851f28c",
   "metadata": {},
   "outputs": [],
   "source": []
  },
  {
   "cell_type": "code",
   "execution_count": null,
   "id": "66ce8676",
   "metadata": {},
   "outputs": [],
   "source": []
  },
  {
   "cell_type": "code",
   "execution_count": null,
   "id": "5a4e28fa",
   "metadata": {},
   "outputs": [],
   "source": []
  },
  {
   "cell_type": "code",
   "execution_count": null,
   "id": "685075ad",
   "metadata": {},
   "outputs": [],
   "source": []
  },
  {
   "cell_type": "code",
   "execution_count": null,
   "id": "fc0cb231",
   "metadata": {},
   "outputs": [],
   "source": []
  },
  {
   "cell_type": "code",
   "execution_count": null,
   "id": "8530aff4",
   "metadata": {},
   "outputs": [],
   "source": []
  },
  {
   "cell_type": "code",
   "execution_count": null,
   "id": "06d803ae",
   "metadata": {},
   "outputs": [],
   "source": []
  },
  {
   "cell_type": "code",
   "execution_count": null,
   "id": "dfa8568f",
   "metadata": {},
   "outputs": [],
   "source": []
  },
  {
   "cell_type": "code",
   "execution_count": null,
   "id": "f1f519a7",
   "metadata": {},
   "outputs": [],
   "source": []
  },
  {
   "cell_type": "code",
   "execution_count": null,
   "id": "03133f98",
   "metadata": {},
   "outputs": [],
   "source": []
  },
  {
   "cell_type": "code",
   "execution_count": null,
   "id": "f7cd83d8",
   "metadata": {},
   "outputs": [],
   "source": []
  },
  {
   "cell_type": "code",
   "execution_count": null,
   "id": "899ed44e",
   "metadata": {},
   "outputs": [],
   "source": []
  },
  {
   "cell_type": "code",
   "execution_count": null,
   "id": "c22da3d6",
   "metadata": {},
   "outputs": [],
   "source": []
  },
  {
   "cell_type": "code",
   "execution_count": null,
   "id": "bc00c417",
   "metadata": {},
   "outputs": [],
   "source": []
  },
  {
   "cell_type": "code",
   "execution_count": null,
   "id": "38d2f255",
   "metadata": {},
   "outputs": [],
   "source": []
  }
 ],
 "metadata": {
  "kernelspec": {
   "display_name": "Python 3 (ipykernel)",
   "language": "python",
   "name": "python3"
  },
  "language_info": {
   "codemirror_mode": {
    "name": "ipython",
    "version": 3
   },
   "file_extension": ".py",
   "mimetype": "text/x-python",
   "name": "python",
   "nbconvert_exporter": "python",
   "pygments_lexer": "ipython3",
   "version": "3.8.16"
  }
 },
 "nbformat": 4,
 "nbformat_minor": 5
}
