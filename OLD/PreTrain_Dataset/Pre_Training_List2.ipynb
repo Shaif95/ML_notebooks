{
 "cells": [
  {
   "cell_type": "code",
   "execution_count": 1,
   "id": "6eac45f4",
   "metadata": {},
   "outputs": [],
   "source": [
    "import tensorflow as tf\n",
    "from tensorflow import keras\n",
    "from tensorflow.keras.datasets import cifar100\n",
    "from tensorflow.keras.applications import MobileNet\n",
    "from tensorflow.keras.models import Sequential\n",
    "from tensorflow.keras.layers import Dense, GlobalAveragePooling2D\n",
    "from tensorflow.keras.optimizers import Adam\n",
    "from tensorflow.keras.preprocessing.image import ImageDataGenerator\n"
   ]
  },
  {
   "cell_type": "code",
   "execution_count": null,
   "id": "f2c8cbe5",
   "metadata": {},
   "outputs": [],
   "source": []
  },
  {
   "cell_type": "code",
   "execution_count": 3,
   "id": "b141ce8b",
   "metadata": {},
   "outputs": [
    {
     "data": {
      "text/plain": [
       "50000"
      ]
     },
     "execution_count": 3,
     "metadata": {},
     "output_type": "execute_result"
    }
   ],
   "source": [
    "len(x_train)"
   ]
  },
  {
   "cell_type": "code",
   "execution_count": null,
   "id": "d749fa9b",
   "metadata": {},
   "outputs": [],
   "source": []
  },
  {
   "cell_type": "code",
   "execution_count": null,
   "id": "91357301",
   "metadata": {},
   "outputs": [],
   "source": []
  },
  {
   "cell_type": "code",
   "execution_count": null,
   "id": "e90dc4a4",
   "metadata": {},
   "outputs": [],
   "source": [
    "#Method 1 "
   ]
  },
  {
   "cell_type": "code",
   "execution_count": 2,
   "id": "aa9663a6",
   "metadata": {},
   "outputs": [],
   "source": [
    "import os\n",
    "import numpy as np\n",
    "from PIL import Image\n",
    "from sklearn.model_selection import train_test_split\n",
    "from tensorflow.keras.utils import to_categorical\n",
    "import os\n",
    "from tensorflow.keras.applications.resnet import ResNet50, preprocess_input\n",
    "import glob\n",
    "\n",
    "target_size = (32, 32)  # Change the values as per your requirement\n",
    "\n",
    "# Load the pre-trained ResNet50 model with modified input shape\n",
    "model = ResNet50(weights='imagenet', include_top=False, pooling='avg', input_shape=(target_size[0], target_size[1], 3))\n",
    "\n",
    "# Define the path to the ImageNet dataset\n",
    "dataset_path = 'D:/data/imagenet'\n",
    "\n",
    "# Get the list of class folders in the dataset\n",
    "class_folders = glob.glob(dataset_path+'/*/')"
   ]
  },
  {
   "cell_type": "code",
   "execution_count": null,
   "id": "d71d8c6c",
   "metadata": {},
   "outputs": [],
   "source": []
  },
  {
   "cell_type": "code",
   "execution_count": 231,
   "id": "be060a6f",
   "metadata": {},
   "outputs": [],
   "source": [
    "import csv\n",
    "import glob\n",
    "import os\n",
    "import numpy as np\n",
    "import gc\n",
    "from PIL import Image\n",
    "from tqdm import tqdm\n",
    "\n",
    "def get_features(image_path):\n",
    "    \n",
    "    image = Image.open(image_path)\n",
    "    if image.mode != 'RGB':\n",
    "        image = image.convert('RGB')\n",
    "                    \n",
    "    image = image.resize((32, 32))\n",
    "\n",
    "    image = np.array(image).astype(\"float\") / 255\n",
    "\n",
    "    feature = model.predict((image).reshape(1,32,32,3))\n",
    "    \n",
    "    return feature\n",
    "\n",
    "\n",
    "\n",
    "def extract_features_from_directory(directory, csv_file):\n",
    "    \n",
    "    total_features = []\n",
    "    i = 0\n",
    "    \n",
    "    for image_path in tqdm(glob.glob(directory + '/*')):\n",
    "        if (i>100):\n",
    "            break\n",
    "        try:\n",
    "            f = get_features(image_path)\n",
    "            total_features.append(f)\n",
    "            i = i + 1\n",
    "        except Exception as e:\n",
    "            print(f\"Error message: {str(e)}\")\n",
    "            continue\n",
    "            \n",
    "    average_features =  np.mean(total_features,axis = 0)\n",
    "    \n",
    "    \n",
    "    with open(csv_file, 'a') as file:\n",
    "        \n",
    "        file.write(directory + '\\t')\n",
    "        \n",
    "        for value in average_features[0]:\n",
    "            file.write(str(value) + '\\t')\n",
    "        file.write('\\n')\n",
    "        \n",
    "    return average_features\n"
   ]
  },
  {
   "cell_type": "code",
   "execution_count": null,
   "id": "22ee446f",
   "metadata": {},
   "outputs": [],
   "source": []
  },
  {
   "cell_type": "code",
   "execution_count": null,
   "id": "1df73c06",
   "metadata": {},
   "outputs": [],
   "source": []
  },
  {
   "cell_type": "code",
   "execution_count": 239,
   "id": "61880a8f",
   "metadata": {},
   "outputs": [
    {
     "name": "stderr",
     "output_type": "stream",
     "text": [
      "Processing directories:   0%|                                                                    | 0/1 [00:00<?, ?it/s]\n",
      "  0%|                                                                                         | 0/1300 [00:00<?, ?it/s]\u001b[A\n",
      "  0%|                                                                                 | 1/1300 [00:00<02:40,  8.07it/s]\u001b[A\n",
      "  0%|                                                                                 | 2/1300 [00:00<02:52,  7.51it/s]\u001b[A\n",
      "  0%|▏                                                                                | 3/1300 [00:00<03:02,  7.11it/s]\u001b[A\n",
      "  0%|▏                                                                                | 4/1300 [00:00<03:04,  7.03it/s]\u001b[A\n",
      "  0%|▎                                                                                | 5/1300 [00:00<03:18,  6.52it/s]\u001b[A\n",
      "  0%|▎                                                                                | 6/1300 [00:00<03:05,  6.98it/s]\u001b[A\n",
      "Processing directories: 100%|████████████████████████████████████████████████████████████| 1/1 [00:00<00:00,  1.12it/s]"
     ]
    },
    {
     "name": "stdout",
     "output_type": "stream",
     "text": [
      "[[0.        0.        0.        ... 3.6929557 0.        0.       ]]\n"
     ]
    },
    {
     "name": "stderr",
     "output_type": "stream",
     "text": [
      "\n"
     ]
    }
   ],
   "source": [
    "\n",
    "from tqdm import tqdm\n",
    "\n",
    "import csv\n",
    "\n",
    "import csv\n",
    "\n",
    "file_path = 'D:/feature.csv'\n",
    "header = [\"Name\"] + ['Feature {}'.format(i) for i in range(2048)]  # Example header\n",
    "\n",
    "with open(file_path, 'w') as file:\n",
    "    \n",
    "    for value in header:\n",
    "        file.write(str(value) + '\\t')\n",
    "    file.write('\\n')\n",
    "    \n",
    "\n",
    "\n",
    "z = None\n",
    "# Iterate over all directories in class_folders\n",
    "for directory in tqdm(class_folders, desc='Processing directories'):\n",
    "    # Call the function to extract features and store them in the CSV file\n",
    "    z = extract_features_from_directory(directory, file_path)\n"
   ]
  },
  {
   "cell_type": "code",
   "execution_count": null,
   "id": "d38a93ff",
   "metadata": {},
   "outputs": [],
   "source": []
  },
  {
   "cell_type": "code",
   "execution_count": 3,
   "id": "5097431f",
   "metadata": {},
   "outputs": [
    {
     "name": "stdout",
     "output_type": "stream",
     "text": [
      "                          Name  Feature 0  Feature 1  Feature 2  Feature 3  \\\n",
      "0  D:/data/imagenet\\n01440764\\        0.0        0.0        0.0        0.0   \n",
      "1  D:/data/imagenet\\n01443537\\        0.0        0.0        0.0        0.0   \n",
      "\n",
      "   Feature 4  Feature 5  Feature 6  Feature 7  Feature 8  ...  Feature 2039  \\\n",
      "0        0.0        0.0        0.0        0.0        0.0  ...           0.0   \n",
      "1        0.0        0.0        0.0        0.0        0.0  ...           0.0   \n",
      "\n",
      "   Feature 2040  Feature 2041  Feature 2042  Feature 2043  Feature 2044  \\\n",
      "0      0.009121           0.0           0.0           0.0           0.0   \n",
      "1      0.038430           0.0           0.0           0.0           0.0   \n",
      "\n",
      "   Feature 2045  Feature 2046  Feature 2047  Unnamed: 2049  \n",
      "0      3.285227           0.0           0.0            NaN  \n",
      "1      3.061372           0.0           0.0            NaN  \n",
      "\n",
      "[2 rows x 2050 columns]\n"
     ]
    }
   ],
   "source": [
    "import pandas as pd\n",
    "\n",
    "# Define the file path\n",
    "file_path = r\"D:\\feature.csv\"\n",
    "\n",
    "# Read the tab-separated CSV file into a DataFrame\n",
    "data = pd.read_csv(file_path, delimiter='\\t')\n",
    "\n",
    "# Display the head of the DataFrame\n",
    "print(data.head(2))\n"
   ]
  },
  {
   "cell_type": "code",
   "execution_count": null,
   "id": "8593f1fc",
   "metadata": {},
   "outputs": [],
   "source": []
  },
  {
   "cell_type": "code",
   "execution_count": 5,
   "id": "ef88d80a",
   "metadata": {},
   "outputs": [],
   "source": [
    "from PIL import Image\n",
    "import numpy as np\n",
    "\n",
    "# Load the image\n",
    "image_path = r'D:\\data\\imagenet\\n01440764\\n01440764_36.JPEG'\n",
    "image = Image.open(image_path)\n",
    "\n",
    "# Resize the image to a desired size\n",
    "desired_size = (32, 32)  # Adjust the size as per your deep learning model requirements\n",
    "image = image.resize(desired_size)\n",
    "\n",
    "# Convert the image to a numpy array\n",
    "image_array = np.array(image)\n",
    "\n",
    "# Normalize the image\n",
    "image_array = image_array / 255.0  # Normalize pixel values to the range [0, 1]\n",
    "\n",
    "# If required, reshape the image array to match the input shape of your deep learning model\n",
    "image_array = np.reshape(image_array, (1, 32, 32, 3))  # Example reshaping for a CNN model\n",
    "\n",
    "# Now you can use the prepared image_array for deep learning tasks\n"
   ]
  },
  {
   "cell_type": "code",
   "execution_count": 6,
   "id": "78b4039b",
   "metadata": {},
   "outputs": [],
   "source": [
    "a = model.predict(image_array)"
   ]
  },
  {
   "cell_type": "code",
   "execution_count": null,
   "id": "197a19e8",
   "metadata": {},
   "outputs": [],
   "source": []
  },
  {
   "cell_type": "code",
   "execution_count": null,
   "id": "eea61e0b",
   "metadata": {},
   "outputs": [],
   "source": []
  }
 ],
 "metadata": {
  "kernelspec": {
   "display_name": "Python 3 (ipykernel)",
   "language": "python",
   "name": "python3"
  },
  "language_info": {
   "codemirror_mode": {
    "name": "ipython",
    "version": 3
   },
   "file_extension": ".py",
   "mimetype": "text/x-python",
   "name": "python",
   "nbconvert_exporter": "python",
   "pygments_lexer": "ipython3",
   "version": "3.8.18"
  }
 },
 "nbformat": 4,
 "nbformat_minor": 5
}
