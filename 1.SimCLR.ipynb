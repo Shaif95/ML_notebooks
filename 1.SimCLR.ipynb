{
 "cells": [
  {
   "cell_type": "code",
   "execution_count": 9,
   "id": "09cb393a",
   "metadata": {},
   "outputs": [],
   "source": [
    "import tensorflow as tf\n",
    "import tensorflow_datasets as tfds\n",
    "\n",
    "# Load CIFAR-10 dataset as NumPy arrays\n",
    "(x_train, y_train), (x_test, y_test) = tfds.as_numpy(tfds.load(\n",
    "    'cifar10',\n",
    "    split=['train', 'test'],\n",
    "    batch_size=-1,\n",
    "    as_supervised=True,\n",
    "))\n",
    "\n",
    "# Normalize the images\n",
    "x_train = x_train.astype('float32') / 255.0\n",
    "x_test = x_test.astype('float32') / 255.0\n"
   ]
  },
  {
   "cell_type": "code",
   "execution_count": null,
   "id": "78d05fa0",
   "metadata": {},
   "outputs": [],
   "source": []
  },
  {
   "cell_type": "code",
   "execution_count": 2,
   "id": "d5235352",
   "metadata": {},
   "outputs": [],
   "source": [
    "from tensorflow.keras import layers, Model\n",
    "from tensorflow.keras.applications import ResNet50\n",
    "\n",
    "def get_augmenter():\n",
    "    return tf.keras.Sequential([\n",
    "        layers.RandomFlip('horizontal'),\n",
    "        layers.RandomRotation(0.2),\n",
    "        layers.RandomZoom(0.3),\n",
    "        layers.RandomContrast(0.1),\n",
    "    ])\n",
    "\n",
    "def generate_positive_pairs(images):\n",
    "    augmenter = get_augmenter()\n",
    "    augmented_images_1 = augmenter(images)\n",
    "    augmented_images_2 = augmenter(images)\n",
    "    return augmented_images_1, augmented_images_2\n",
    "\n",
    "# Create a TensorFlow dataset\n",
    "train_dataset = tf.data.Dataset.from_tensor_slices(x_train)\n",
    "train_dataset = train_dataset.shuffle(buffer_size=1024).batch(256)\n",
    "\n",
    "# Apply augmentations to generate positive pairs\n",
    "train_dataset = train_dataset.map(lambda x: generate_positive_pairs(x), \n",
    "                                  num_parallel_calls=tf.data.experimental.AUTOTUNE)\n",
    "train_dataset = train_dataset.prefetch(tf.data.experimental.AUTOTUNE)\n"
   ]
  },
  {
   "cell_type": "code",
   "execution_count": 3,
   "id": "a389ccad",
   "metadata": {},
   "outputs": [
    {
     "name": "stdout",
     "output_type": "stream",
     "text": [
      "Model: \"model\"\n",
      "__________________________________________________________________________________________________\n",
      " Layer (type)                   Output Shape         Param #     Connected to                     \n",
      "==================================================================================================\n",
      " input_1 (InputLayer)           [(None, 32, 32, 3)]  0           []                               \n",
      "                                                                                                  \n",
      " input_2 (InputLayer)           [(None, 32, 32, 3)]  0           []                               \n",
      "                                                                                                  \n",
      " resnet50 (Functional)          (None, 1, 1, 2048)   23587712    ['input_1[0][0]',                \n",
      "                                                                  'input_2[0][0]']                \n",
      "                                                                                                  \n",
      " global_average_pooling2d (Glob  (None, 2048)        0           ['resnet50[0][0]']               \n",
      " alAveragePooling2D)                                                                              \n",
      "                                                                                                  \n",
      " global_average_pooling2d_1 (Gl  (None, 2048)        0           ['resnet50[1][0]']               \n",
      " obalAveragePooling2D)                                                                            \n",
      "                                                                                                  \n",
      " dense (Dense)                  (None, 128)          262272      ['global_average_pooling2d[0][0]'\n",
      "                                                                 ]                                \n",
      "                                                                                                  \n",
      " dense_2 (Dense)                (None, 128)          262272      ['global_average_pooling2d_1[0][0\n",
      "                                                                 ]']                              \n",
      "                                                                                                  \n",
      " dense_1 (Dense)                (None, 128)          16512       ['dense[0][0]']                  \n",
      "                                                                                                  \n",
      " dense_3 (Dense)                (None, 128)          16512       ['dense_2[0][0]']                \n",
      "                                                                                                  \n",
      "==================================================================================================\n",
      "Total params: 24,145,280\n",
      "Trainable params: 557,568\n",
      "Non-trainable params: 23,587,712\n",
      "__________________________________________________________________________________________________\n"
     ]
    }
   ],
   "source": [
    "def create_simclr_model(input_shape=(32, 32, 3)):\n",
    "    # Input layers for the two augmented images\n",
    "    inputs_1 = layers.Input(shape=input_shape)\n",
    "    inputs_2 = layers.Input(shape=input_shape)\n",
    "\n",
    "    # Shared base model with ResNet50\n",
    "    base_model = ResNet50(include_top=False, weights='imagenet', input_shape=input_shape)\n",
    "    base_model.trainable = False  # Freeze the base model\n",
    "\n",
    "    # Pass both inputs through the same base model\n",
    "    features_1 = base_model(inputs_1)\n",
    "    features_2 = base_model(inputs_2)\n",
    "\n",
    "    # Global average pooling\n",
    "    pooled_features_1 = layers.GlobalAveragePooling2D()(features_1)\n",
    "    pooled_features_2 = layers.GlobalAveragePooling2D()(features_2)\n",
    "\n",
    "    # Projection head\n",
    "    projection_1 = layers.Dense(128, activation='relu')(pooled_features_1)\n",
    "    projection_1 = layers.Dense(128)(projection_1)\n",
    "    \n",
    "    projection_2 = layers.Dense(128, activation='relu')(pooled_features_2)\n",
    "    projection_2 = layers.Dense(128)(projection_2)\n",
    "\n",
    "    # Final SimCLR model\n",
    "    simclr_model = Model(inputs=[inputs_1, inputs_2], outputs=[projection_1, projection_2])\n",
    "\n",
    "    return simclr_model\n",
    "\n",
    "# Create the SimCLR model\n",
    "simclr_model = create_simclr_model()\n",
    "simclr_model.summary()\n"
   ]
  },
  {
   "cell_type": "code",
   "execution_count": null,
   "id": "7ba07864",
   "metadata": {},
   "outputs": [],
   "source": []
  },
  {
   "cell_type": "code",
   "execution_count": 4,
   "id": "e362eac4",
   "metadata": {},
   "outputs": [],
   "source": [
    "def contrastive_loss(projection_1, projection_2, temperature=0.1):\n",
    "    # Normalize the projections\n",
    "    projection_1 = tf.math.l2_normalize(projection_1, axis=1)\n",
    "    projection_2 = tf.math.l2_normalize(projection_2, axis=1)\n",
    "    \n",
    "    # Concatenate both projections\n",
    "    projections = tf.concat([projection_1, projection_2], axis=0)\n",
    "    \n",
    "    # Compute the similarity matrix\n",
    "    similarity_matrix = tf.matmul(projections, projections, transpose_b=True)\n",
    "    \n",
    "    # Create the labels for contrastive loss\n",
    "    batch_size = tf.shape(projection_1)[0]\n",
    "    labels = tf.concat([tf.range(batch_size), tf.range(batch_size)], axis=0)\n",
    "    \n",
    "    # Temperature scaling\n",
    "    logits = similarity_matrix / temperature\n",
    "    \n",
    "    # Compute contrastive loss\n",
    "    contrastive_labels = tf.one_hot(labels, depth=2*batch_size)\n",
    "    loss = tf.nn.softmax_cross_entropy_with_logits(contrastive_labels, logits)\n",
    "    return tf.reduce_mean(loss)\n",
    "\n",
    "# Custom training step to use the contrastive loss\n",
    "@tf.function\n",
    "def train_step(images_1, images_2):\n",
    "    with tf.GradientTape() as tape:\n",
    "        projection_1, projection_2 = simclr_model([images_1, images_2], training=True)\n",
    "        loss = contrastive_loss(projection_1, projection_2)\n",
    "    \n",
    "    gradients = tape.gradient(loss, simclr_model.trainable_variables)\n",
    "    simclr_model.optimizer.apply_gradients(zip(gradients, simclr_model.trainable_variables))\n",
    "    return loss\n"
   ]
  },
  {
   "cell_type": "code",
   "execution_count": null,
   "id": "ab64555a",
   "metadata": {},
   "outputs": [],
   "source": []
  },
  {
   "cell_type": "code",
   "execution_count": 5,
   "id": "cb2629e6",
   "metadata": {},
   "outputs": [
    {
     "name": "stdout",
     "output_type": "stream",
     "text": [
      "Epoch 1, Loss: 4.764829158782959\n",
      "Epoch 2, Loss: 3.6147899627685547\n",
      "Epoch 3, Loss: 3.283618211746216\n"
     ]
    }
   ],
   "source": [
    "# Set up optimizer\n",
    "simclr_model.optimizer = tf.keras.optimizers.Adam()\n",
    "\n",
    "# Training loop\n",
    "for epoch in range(3):  # Adjust the number of epochs as needed\n",
    "    for images_1, images_2 in train_dataset:\n",
    "        loss = train_step(images_1, images_2)\n",
    "    print(f\"Epoch {epoch + 1}, Loss: {loss.numpy()}\")\n"
   ]
  },
  {
   "cell_type": "code",
   "execution_count": null,
   "id": "77496c83",
   "metadata": {},
   "outputs": [],
   "source": []
  },
  {
   "cell_type": "code",
   "execution_count": 6,
   "id": "2062a509",
   "metadata": {},
   "outputs": [
    {
     "name": "stdout",
     "output_type": "stream",
     "text": [
      "Model: \"model_1\"\n",
      "_________________________________________________________________\n",
      " Layer (type)                Output Shape              Param #   \n",
      "=================================================================\n",
      " input_1 (InputLayer)        [(None, 32, 32, 3)]       0         \n",
      "                                                                 \n",
      " resnet50 (Functional)       (None, 1, 1, 2048)        23587712  \n",
      "                                                                 \n",
      " global_average_pooling2d (G  (None, 2048)             0         \n",
      " lobalAveragePooling2D)                                          \n",
      "                                                                 \n",
      " dense (Dense)               (None, 128)               262272    \n",
      "                                                                 \n",
      " dense_1 (Dense)             (None, 128)               16512     \n",
      "                                                                 \n",
      " dense_4 (Dense)             (None, 256)               33024     \n",
      "                                                                 \n",
      " dropout (Dropout)           (None, 256)               0         \n",
      "                                                                 \n",
      " dense_5 (Dense)             (None, 10)                2570      \n",
      "                                                                 \n",
      "=================================================================\n",
      "Total params: 23,902,090\n",
      "Trainable params: 314,378\n",
      "Non-trainable params: 23,587,712\n",
      "_________________________________________________________________\n"
     ]
    }
   ],
   "source": [
    "# Function to create the classification model\n",
    "def create_classification_model(simclr_model, num_classes=10):\n",
    "    # Take the base model from SimCLR (up to the projection layer)\n",
    "    base_input_1 = simclr_model.get_layer(index=0).input\n",
    "    base_input_2 = simclr_model.get_layer(index=1).input\n",
    "    \n",
    "    # Use only one of the branches since they are identical\n",
    "    base_output = simclr_model.get_layer(index=-2).output  # Output before the last projection layer\n",
    "    \n",
    "    # Create a new model using the base and add a classification head\n",
    "    x = layers.Dense(256, activation='relu')(base_output)\n",
    "    x = layers.Dropout(0.5)(x)\n",
    "    classification_output = layers.Dense(num_classes, activation='softmax')(x)\n",
    "\n",
    "    # Build the new model\n",
    "    classification_model = Model(inputs=base_input_1, outputs=classification_output)\n",
    "\n",
    "    return classification_model\n",
    "\n",
    "# Create the classification model\n",
    "classification_model = create_classification_model(simclr_model)\n",
    "classification_model.summary()\n"
   ]
  },
  {
   "cell_type": "code",
   "execution_count": 7,
   "id": "a1fbebef",
   "metadata": {},
   "outputs": [
    {
     "name": "stdout",
     "output_type": "stream",
     "text": [
      "Epoch 1/5\n",
      "157/157 [==============================] - 11s 47ms/step - loss: 2.2283 - accuracy: 0.1757 - val_loss: 2.0582 - val_accuracy: 0.2630\n",
      "Epoch 2/5\n",
      "157/157 [==============================] - 5s 32ms/step - loss: 2.0809 - accuracy: 0.2340 - val_loss: 2.0061 - val_accuracy: 0.2723\n",
      "Epoch 3/5\n",
      "157/157 [==============================] - 5s 33ms/step - loss: 2.0394 - accuracy: 0.2512 - val_loss: 1.9766 - val_accuracy: 0.2857\n",
      "Epoch 4/5\n",
      "157/157 [==============================] - 5s 33ms/step - loss: 2.0119 - accuracy: 0.2630 - val_loss: 1.9604 - val_accuracy: 0.2912\n",
      "Epoch 5/5\n",
      "157/157 [==============================] - 6s 37ms/step - loss: 1.9882 - accuracy: 0.2718 - val_loss: 1.9406 - val_accuracy: 0.2963\n"
     ]
    },
    {
     "data": {
      "text/plain": [
       "<keras.callbacks.History at 0x11d09b83f70>"
      ]
     },
     "execution_count": 7,
     "metadata": {},
     "output_type": "execute_result"
    }
   ],
   "source": [
    "# Compile the classification model\n",
    "classification_model.compile(optimizer=tf.keras.optimizers.Adam(learning_rate=1e-4),\n",
    "                             loss='sparse_categorical_crossentropy',\n",
    "                             metrics=['accuracy'])\n",
    "\n",
    "# Fine-tune the model using the labeled dataset\n",
    "classification_model.fit(x_train, y_train, batch_size=256, epochs=5, validation_split=0.2)\n"
   ]
  },
  {
   "cell_type": "code",
   "execution_count": 8,
   "id": "78b2307d",
   "metadata": {},
   "outputs": [
    {
     "name": "stdout",
     "output_type": "stream",
     "text": [
      "313/313 [==============================] - 7s 20ms/step - loss: 1.9277 - accuracy: 0.3058\n",
      "Test Accuracy: 30.58%\n"
     ]
    }
   ],
   "source": [
    "# Evaluate the classification model on the test set\n",
    "test_loss, test_accuracy = classification_model.evaluate(x_test, y_test)\n",
    "\n",
    "# Print the test accuracy\n",
    "print(f\"Test Accuracy: {test_accuracy * 100:.2f}%\")\n"
   ]
  },
  {
   "cell_type": "code",
   "execution_count": null,
   "id": "3e6e8097",
   "metadata": {},
   "outputs": [],
   "source": []
  },
  {
   "cell_type": "code",
   "execution_count": null,
   "id": "f0d524bc",
   "metadata": {},
   "outputs": [],
   "source": []
  },
  {
   "cell_type": "code",
   "execution_count": 1,
   "id": "c8352cd4",
   "metadata": {},
   "outputs": [
    {
     "name": "stderr",
     "output_type": "stream",
     "text": [
      "100%|██████████████████████████████████████████████████████████████████████████████████| 10/10 [02:09<00:00, 12.96s/it]"
     ]
    },
    {
     "name": "stdout",
     "output_type": "stream",
     "text": [
      "X_train shape: (29009, 32, 32, 3)\n",
      "Y_train shape: (29009,)\n"
     ]
    },
    {
     "name": "stderr",
     "output_type": "stream",
     "text": [
      "\n"
     ]
    }
   ],
   "source": [
    "import os\n",
    "from PIL import Image\n",
    "import numpy as np\n",
    "from sklearn.preprocessing import LabelEncoder, OneHotEncoder\n",
    "from tqdm import tqdm\n",
    "\n",
    "# Define the path to the directory\n",
    "directory_path = r\"E:\\imbcifar\\train\"\n",
    "\n",
    "# Initialize empty lists for images and labels\n",
    "X_train = []\n",
    "Y_train = []\n",
    "class_label = 0\n",
    "\n",
    "# Loop through subdirectories (classes)\n",
    "for class_folder in tqdm(sorted(os.listdir(directory_path))):\n",
    "    class_path = os.path.join(directory_path, class_folder)\n",
    "    \n",
    "    for image_file in os.listdir(class_path):\n",
    "        if image_file.endswith('.png'):\n",
    "            image_path = os.path.join(class_path, image_file)\n",
    "            \n",
    "            # Load image, convert to RGB and resize\n",
    "            img = Image.open(image_path).convert('RGB')\n",
    "            img = img.resize((32, 32))\n",
    "            img_array = np.array(img)\n",
    "            \n",
    "            # Append image and label to lists\n",
    "            X_train.append(img_array)\n",
    "            Y_train.append(class_label)\n",
    "            \n",
    "    class_label = class_label + 1\n",
    "\n",
    "    \n",
    "# Convert lists to numpy arrays\n",
    "X_train = np.array(X_train)\n",
    "Y_train = np.array(Y_train)\n",
    "\n",
    "print(f'X_train shape: {X_train.shape}')\n",
    "print(f'Y_train shape: {Y_train.shape}')"
   ]
  },
  {
   "cell_type": "code",
   "execution_count": 14,
   "id": "ad3d6eb9",
   "metadata": {},
   "outputs": [
    {
     "name": "stderr",
     "output_type": "stream",
     "text": [
      "100%|██████████████████████████████████████████████████████████████████████████████████| 10/10 [00:18<00:00,  1.86s/it]"
     ]
    },
    {
     "name": "stdout",
     "output_type": "stream",
     "text": [
      "X_train shape: (3222, 32, 32, 3)\n",
      "Y_train shape: (3222,)\n"
     ]
    },
    {
     "name": "stderr",
     "output_type": "stream",
     "text": [
      "\n"
     ]
    }
   ],
   "source": [
    "import os\n",
    "from PIL import Image\n",
    "import numpy as np\n",
    "from sklearn.preprocessing import LabelEncoder, OneHotEncoder\n",
    "from tqdm import tqdm\n",
    "\n",
    "# Define the path to the directory\n",
    "directory_path = r\"E:\\imbcifar\\valid\"\n",
    "\n",
    "# Initialize empty lists for images and labels\n",
    "X_val = []\n",
    "Y_val = []\n",
    "class_label = 0\n",
    "\n",
    "# Loop through subdirectories (classes)\n",
    "for class_folder in tqdm(sorted(os.listdir(directory_path))):\n",
    "    class_path = os.path.join(directory_path, class_folder)\n",
    "    \n",
    "    for image_file in os.listdir(class_path):\n",
    "        if image_file.endswith('.png'):\n",
    "            image_path = os.path.join(class_path, image_file)\n",
    "            \n",
    "            # Load image, convert to RGB and resize\n",
    "            img = Image.open(image_path).convert('RGB')\n",
    "            img = img.resize((32, 32))\n",
    "            img_array = np.array(img)\n",
    "            \n",
    "            # Append image and label to lists\n",
    "            X_val.append(img_array)\n",
    "            Y_val.append(class_label)\n",
    "            \n",
    "    class_label = class_label + 1\n",
    "\n",
    "# Convert lists to numpy arrays\n",
    "X_val = np.array(X_val)\n",
    "Y_val = np.array(Y_val)\n",
    "\n",
    "print(f'X_train shape: {X_val.shape}')\n",
    "print(f'Y_train shape: {Y_val.shape}')"
   ]
  },
  {
   "cell_type": "code",
   "execution_count": 9,
   "id": "85b9cdac",
   "metadata": {},
   "outputs": [
    {
     "name": "stdout",
     "output_type": "stream",
     "text": [
      "WARNING:tensorflow:No training configuration found in the save file, so the model was *not* compiled. Compile it manually.\n"
     ]
    }
   ],
   "source": [
    "import tensorflow as tf\n",
    "from tensorflow.keras.models import load_model\n",
    "from tensorflow.keras import layers, Model\n",
    "\n",
    "# Load the pre-trained SimCLR model\n",
    "simclr_model = load_model(r\"C:\\Users\\shaif\\Downloads\\imb_ssl.h5\")\n",
    "\n",
    "# Extract the input and output from one branch of the SimCLR model\n",
    "base_input = simclr_model.input[0]  # Input from the first branch\n",
    "base_output = simclr_model.get_layer(\"global_average_pooling2d\").output  # Output before projection head of the first branch\n",
    "\n",
    "# Create a new model using the extracted backbone\n",
    "backbone_model = Model(inputs=base_input, outputs=base_output)\n"
   ]
  },
  {
   "cell_type": "code",
   "execution_count": 10,
   "id": "dac84aaf",
   "metadata": {},
   "outputs": [
    {
     "name": "stdout",
     "output_type": "stream",
     "text": [
      "Model: \"model_5\"\n",
      "_________________________________________________________________\n",
      " Layer (type)                Output Shape              Param #   \n",
      "=================================================================\n",
      " input_1 (InputLayer)        [(None, 32, 32, 3)]       0         \n",
      "                                                                 \n",
      " resnet50 (Functional)       (None, 1, 1, 2048)        23587712  \n",
      "                                                                 \n",
      " global_average_pooling2d (G  (None, 2048)             0         \n",
      " lobalAveragePooling2D)                                          \n",
      "                                                                 \n",
      " dense_6 (Dense)             (None, 256)               524544    \n",
      "                                                                 \n",
      " dropout_3 (Dropout)         (None, 256)               0         \n",
      "                                                                 \n",
      " dense_7 (Dense)             (None, 10)                2570      \n",
      "                                                                 \n",
      "=================================================================\n",
      "Total params: 24,114,826\n",
      "Trainable params: 24,061,706\n",
      "Non-trainable params: 53,120\n",
      "_________________________________________________________________\n"
     ]
    }
   ],
   "source": [
    "def create_classification_model(backbone_model, num_classes=10):\n",
    "    # Add a classification head\n",
    "    x = layers.Dense(256, activation='relu')(backbone_model.output)\n",
    "    x = layers.Dropout(0.5)(x)\n",
    "    classification_output = layers.Dense(10, activation='softmax')(x)\n",
    "\n",
    "    # Build the new model\n",
    "    classification_model = Model(inputs=backbone_model.input, outputs=classification_output)\n",
    "\n",
    "    return classification_model\n",
    "\n",
    "# Create the classification model\n",
    "classification_model = create_classification_model(backbone_model)\n",
    "classification_model.summary()\n"
   ]
  },
  {
   "cell_type": "code",
   "execution_count": 13,
   "id": "b84bb522",
   "metadata": {},
   "outputs": [
    {
     "name": "stdout",
     "output_type": "stream",
     "text": [
      "Epoch 1/50\n",
      "363/363 [==============================] - 23s 47ms/step - loss: 1.7874 - accuracy: 0.3700 - val_loss: 8.1000 - val_accuracy: 1.7235e-04\n",
      "Epoch 2/50\n",
      "363/363 [==============================] - 15s 42ms/step - loss: 1.6586 - accuracy: 0.4139 - val_loss: 8.8425 - val_accuracy: 0.0012\n",
      "Epoch 3/50\n",
      "363/363 [==============================] - 16s 44ms/step - loss: 1.5760 - accuracy: 0.4456 - val_loss: 9.4090 - val_accuracy: 0.0017\n",
      "Epoch 4/50\n",
      "363/363 [==============================] - 19s 51ms/step - loss: 1.5185 - accuracy: 0.4666 - val_loss: 9.9816 - val_accuracy: 0.0026\n",
      "Epoch 5/50\n",
      "363/363 [==============================] - 22s 62ms/step - loss: 1.4593 - accuracy: 0.4911 - val_loss: 10.4965 - val_accuracy: 0.0052\n",
      "Epoch 6/50\n",
      "363/363 [==============================] - 23s 63ms/step - loss: 1.4042 - accuracy: 0.5090 - val_loss: 10.7543 - val_accuracy: 0.0064\n",
      "Epoch 7/50\n",
      "363/363 [==============================] - 24s 65ms/step - loss: 1.3597 - accuracy: 0.5265 - val_loss: 11.3540 - val_accuracy: 0.0086\n",
      "Epoch 8/50\n",
      "363/363 [==============================] - 23s 64ms/step - loss: 1.3144 - accuracy: 0.5379 - val_loss: 11.6480 - val_accuracy: 0.0112\n",
      "Epoch 9/50\n",
      "363/363 [==============================] - 25s 69ms/step - loss: 1.2630 - accuracy: 0.5596 - val_loss: 12.5207 - val_accuracy: 0.0107\n",
      "Epoch 10/50\n",
      "363/363 [==============================] - 30s 83ms/step - loss: 1.2121 - accuracy: 0.5787 - val_loss: 12.7759 - val_accuracy: 0.0138\n",
      "Epoch 11/50\n",
      "363/363 [==============================] - 34s 94ms/step - loss: 1.1692 - accuracy: 0.5921 - val_loss: 12.9161 - val_accuracy: 0.0240\n",
      "Epoch 12/50\n",
      "363/363 [==============================] - 36s 100ms/step - loss: 1.1284 - accuracy: 0.6035 - val_loss: 13.4641 - val_accuracy: 0.0228\n",
      "Epoch 13/50\n",
      "363/363 [==============================] - 44s 121ms/step - loss: 1.0979 - accuracy: 0.6178 - val_loss: 13.6761 - val_accuracy: 0.0259\n",
      "Epoch 14/50\n",
      "363/363 [==============================] - 41s 114ms/step - loss: 1.0577 - accuracy: 0.6274 - val_loss: 14.3958 - val_accuracy: 0.0234\n",
      "Epoch 15/50\n",
      "363/363 [==============================] - 45s 124ms/step - loss: 1.0347 - accuracy: 0.6364 - val_loss: 14.9445 - val_accuracy: 0.0364\n",
      "Epoch 16/50\n",
      "363/363 [==============================] - 43s 117ms/step - loss: 1.0025 - accuracy: 0.6476 - val_loss: 15.1165 - val_accuracy: 0.0253\n",
      "Epoch 17/50\n",
      "363/363 [==============================] - 45s 125ms/step - loss: 0.9740 - accuracy: 0.6595 - val_loss: 15.2527 - val_accuracy: 0.0445\n",
      "Epoch 18/50\n",
      "363/363 [==============================] - 40s 111ms/step - loss: 0.9496 - accuracy: 0.6679 - val_loss: 16.0619 - val_accuracy: 0.0495\n",
      "Epoch 19/50\n",
      "363/363 [==============================] - 46s 126ms/step - loss: 0.9333 - accuracy: 0.6724 - val_loss: 16.0316 - val_accuracy: 0.0515\n",
      "Epoch 20/50\n",
      "363/363 [==============================] - 40s 111ms/step - loss: 0.9067 - accuracy: 0.6785 - val_loss: 16.1329 - val_accuracy: 0.0731\n",
      "Epoch 21/50\n",
      "363/363 [==============================] - 41s 113ms/step - loss: 0.8766 - accuracy: 0.6931 - val_loss: 17.0034 - val_accuracy: 0.0727\n",
      "Epoch 22/50\n",
      "363/363 [==============================] - 41s 113ms/step - loss: 0.8614 - accuracy: 0.6988 - val_loss: 17.1613 - val_accuracy: 0.0651\n",
      "Epoch 23/50\n",
      "363/363 [==============================] - 40s 111ms/step - loss: 0.8455 - accuracy: 0.6997 - val_loss: 17.4955 - val_accuracy: 0.0670\n",
      "Epoch 24/50\n",
      "363/363 [==============================] - 39s 108ms/step - loss: 0.8199 - accuracy: 0.7113 - val_loss: 18.0392 - val_accuracy: 0.0789\n",
      "Epoch 25/50\n",
      "363/363 [==============================] - 45s 125ms/step - loss: 0.8037 - accuracy: 0.7156 - val_loss: 18.8683 - val_accuracy: 0.0684\n",
      "Epoch 26/50\n",
      "363/363 [==============================] - 41s 112ms/step - loss: 0.7858 - accuracy: 0.7226 - val_loss: 19.8755 - val_accuracy: 0.0634\n",
      "Epoch 27/50\n",
      "363/363 [==============================] - 38s 103ms/step - loss: 0.7693 - accuracy: 0.7297 - val_loss: 19.2400 - val_accuracy: 0.0720\n",
      "Epoch 28/50\n",
      "363/363 [==============================] - 42s 116ms/step - loss: 0.7440 - accuracy: 0.7352 - val_loss: 20.1293 - val_accuracy: 0.0707\n",
      "Epoch 29/50\n",
      "363/363 [==============================] - 41s 113ms/step - loss: 0.7416 - accuracy: 0.7387 - val_loss: 20.4928 - val_accuracy: 0.0688\n",
      "Epoch 30/50\n",
      "363/363 [==============================] - 42s 117ms/step - loss: 0.7136 - accuracy: 0.7505 - val_loss: 21.0889 - val_accuracy: 0.0915\n",
      "Epoch 31/50\n",
      "363/363 [==============================] - 42s 117ms/step - loss: 0.6928 - accuracy: 0.7556 - val_loss: 21.5485 - val_accuracy: 0.0836\n",
      "Epoch 32/50\n",
      "363/363 [==============================] - 45s 123ms/step - loss: 0.6797 - accuracy: 0.7586 - val_loss: 22.3222 - val_accuracy: 0.0801\n",
      "Epoch 33/50\n",
      "363/363 [==============================] - 46s 126ms/step - loss: 0.6663 - accuracy: 0.7626 - val_loss: 22.1620 - val_accuracy: 0.1017\n",
      "Epoch 34/50\n",
      "363/363 [==============================] - 45s 124ms/step - loss: 0.6511 - accuracy: 0.7674 - val_loss: 22.6432 - val_accuracy: 0.0927\n",
      "Epoch 35/50\n",
      "363/363 [==============================] - 44s 121ms/step - loss: 0.6468 - accuracy: 0.7716 - val_loss: 23.7759 - val_accuracy: 0.0910\n",
      "Epoch 36/50\n",
      "363/363 [==============================] - 50s 138ms/step - loss: 0.6202 - accuracy: 0.7810 - val_loss: 23.8250 - val_accuracy: 0.0955\n",
      "Epoch 37/50\n",
      "363/363 [==============================] - 44s 122ms/step - loss: 0.6113 - accuracy: 0.7814 - val_loss: 24.3863 - val_accuracy: 0.0808\n",
      "Epoch 38/50\n",
      "363/363 [==============================] - 44s 121ms/step - loss: 0.5925 - accuracy: 0.7899 - val_loss: 24.6724 - val_accuracy: 0.0903\n",
      "Epoch 39/50\n",
      "363/363 [==============================] - 47s 130ms/step - loss: 0.5793 - accuracy: 0.7955 - val_loss: 25.7798 - val_accuracy: 0.0832\n",
      "Epoch 40/50\n",
      "363/363 [==============================] - 40s 111ms/step - loss: 0.5668 - accuracy: 0.7994 - val_loss: 25.5290 - val_accuracy: 0.1000\n",
      "Epoch 41/50\n",
      "363/363 [==============================] - 44s 122ms/step - loss: 0.5610 - accuracy: 0.7997 - val_loss: 26.2188 - val_accuracy: 0.0924\n",
      "Epoch 42/50\n",
      "363/363 [==============================] - 47s 131ms/step - loss: 0.5394 - accuracy: 0.8063 - val_loss: 26.8859 - val_accuracy: 0.1146\n",
      "Epoch 43/50\n",
      "363/363 [==============================] - 47s 130ms/step - loss: 0.5239 - accuracy: 0.8146 - val_loss: 27.5211 - val_accuracy: 0.0981\n",
      "Epoch 44/50\n",
      "363/363 [==============================] - 47s 128ms/step - loss: 0.5081 - accuracy: 0.8195 - val_loss: 27.5829 - val_accuracy: 0.1081\n",
      "Epoch 45/50\n",
      "363/363 [==============================] - 45s 124ms/step - loss: 0.4993 - accuracy: 0.8218 - val_loss: 28.2344 - val_accuracy: 0.0931\n",
      "Epoch 46/50\n",
      "363/363 [==============================] - 46s 126ms/step - loss: 0.4914 - accuracy: 0.8250 - val_loss: 28.4430 - val_accuracy: 0.1120\n",
      "Epoch 47/50\n",
      "363/363 [==============================] - 43s 117ms/step - loss: 0.4743 - accuracy: 0.8332 - val_loss: 29.7060 - val_accuracy: 0.0979\n",
      "Epoch 48/50\n",
      "363/363 [==============================] - 41s 113ms/step - loss: 0.4643 - accuracy: 0.8329 - val_loss: 30.7861 - val_accuracy: 0.1070\n",
      "Epoch 49/50\n",
      "363/363 [==============================] - 45s 123ms/step - loss: 0.4472 - accuracy: 0.8417 - val_loss: 30.1820 - val_accuracy: 0.1055\n",
      "Epoch 50/50\n",
      "363/363 [==============================] - 46s 127ms/step - loss: 0.4296 - accuracy: 0.8448 - val_loss: 31.1255 - val_accuracy: 0.0917\n"
     ]
    },
    {
     "data": {
      "text/plain": [
       "<keras.callbacks.History at 0x17f03b5e790>"
      ]
     },
     "execution_count": 13,
     "metadata": {},
     "output_type": "execute_result"
    }
   ],
   "source": [
    "from tensorflow.keras.utils import to_categorical\n",
    "YT = to_categorical(Y_train)\n",
    "# Compile the classification model\n",
    "classification_model.compile(optimizer=tf.keras.optimizers.Adam(learning_rate=1e-4),loss='categorical_crossentropy', metrics=['accuracy'])\n",
    "\n",
    "# Fine-tune the model using the labeled dataset\n",
    "classification_model.fit(X_train, YT, batch_size=64, epochs=50, validation_split=0.2)"
   ]
  },
  {
   "cell_type": "code",
   "execution_count": 18,
   "id": "51c8bed7",
   "metadata": {},
   "outputs": [
    {
     "name": "stdout",
     "output_type": "stream",
     "text": [
      "Accuracy: 0.5791433891992551\n",
      "F1 Score: 0.5316798784589036\n"
     ]
    }
   ],
   "source": [
    "from sklearn.metrics import accuracy_score, f1_score, confusion_matrix\n",
    "predictions = classification_model.predict(X_val)\n",
    "predicted_labels = np.argmax(predictions, axis=1)\n",
    "accuracy = accuracy_score(Y_val, predicted_labels)\n",
    "f1 = f1_score(Y_val, predicted_labels, average='weighted')\n",
    "print(f\"Accuracy: {accuracy}\")\n",
    "print(f\"F1 Score: {f1}\")"
   ]
  },
  {
   "cell_type": "code",
   "execution_count": null,
   "id": "54099ec4",
   "metadata": {},
   "outputs": [],
   "source": []
  },
  {
   "cell_type": "code",
   "execution_count": 17,
   "id": "d26e4ee2",
   "metadata": {},
   "outputs": [
    {
     "name": "stdout",
     "output_type": "stream",
     "text": [
      "Epoch 1/50\n",
      "363/363 [==============================] - 21s 57ms/step - loss: 0.4212 - accuracy: 0.8534 - val_loss: 31.4637 - val_accuracy: 0.1001\n",
      "Epoch 2/50\n",
      "363/363 [==============================] - 20s 54ms/step - loss: 0.4122 - accuracy: 0.8529 - val_loss: 32.3651 - val_accuracy: 0.1022\n",
      "Epoch 3/50\n",
      "363/363 [==============================] - 22s 60ms/step - loss: 0.4002 - accuracy: 0.8582 - val_loss: 32.2697 - val_accuracy: 0.1062\n",
      "Epoch 4/50\n",
      "363/363 [==============================] - 39s 107ms/step - loss: 0.3911 - accuracy: 0.8586 - val_loss: 32.7328 - val_accuracy: 0.1060\n",
      "Epoch 5/50\n",
      "363/363 [==============================] - 41s 113ms/step - loss: 0.3811 - accuracy: 0.8637 - val_loss: 33.4194 - val_accuracy: 0.1081\n",
      "Epoch 6/50\n",
      "363/363 [==============================] - 42s 115ms/step - loss: 0.3718 - accuracy: 0.8693 - val_loss: 33.5095 - val_accuracy: 0.1108\n",
      "Epoch 7/50\n",
      "363/363 [==============================] - 42s 115ms/step - loss: 0.3446 - accuracy: 0.8785 - val_loss: 34.6046 - val_accuracy: 0.0976\n",
      "Epoch 8/50\n",
      "363/363 [==============================] - 45s 125ms/step - loss: 0.3427 - accuracy: 0.8787 - val_loss: 35.0029 - val_accuracy: 0.1024\n",
      "Epoch 9/50\n",
      "363/363 [==============================] - 47s 130ms/step - loss: 0.3399 - accuracy: 0.8792 - val_loss: 35.3164 - val_accuracy: 0.1124\n",
      "Epoch 10/50\n",
      "363/363 [==============================] - 49s 135ms/step - loss: 0.3254 - accuracy: 0.8849 - val_loss: 36.2256 - val_accuracy: 0.1020\n",
      "Epoch 11/50\n",
      "363/363 [==============================] - 50s 138ms/step - loss: 0.3132 - accuracy: 0.8878 - val_loss: 36.9568 - val_accuracy: 0.1100\n",
      "Epoch 12/50\n",
      "363/363 [==============================] - 57s 157ms/step - loss: 0.3072 - accuracy: 0.8916 - val_loss: 37.7571 - val_accuracy: 0.0946\n",
      "Epoch 13/50\n",
      "363/363 [==============================] - 58s 160ms/step - loss: 0.2977 - accuracy: 0.8962 - val_loss: 38.2285 - val_accuracy: 0.1113\n",
      "Epoch 14/50\n",
      "363/363 [==============================] - 60s 166ms/step - loss: 0.2787 - accuracy: 0.9006 - val_loss: 37.6960 - val_accuracy: 0.1120\n",
      "Epoch 15/50\n",
      "363/363 [==============================] - 49s 135ms/step - loss: 0.2819 - accuracy: 0.8981 - val_loss: 38.9759 - val_accuracy: 0.1079\n",
      "Epoch 16/50\n",
      "363/363 [==============================] - 39s 106ms/step - loss: 0.2659 - accuracy: 0.9056 - val_loss: 39.2875 - val_accuracy: 0.0977\n",
      "Epoch 17/50\n",
      "363/363 [==============================] - 37s 102ms/step - loss: 0.2605 - accuracy: 0.9074 - val_loss: 38.0809 - val_accuracy: 0.1224\n",
      "Epoch 18/50\n",
      "363/363 [==============================] - 33s 91ms/step - loss: 0.2551 - accuracy: 0.9077 - val_loss: 39.2457 - val_accuracy: 0.1070\n",
      "Epoch 19/50\n",
      "363/363 [==============================] - 35s 97ms/step - loss: 0.2455 - accuracy: 0.9124 - val_loss: 39.1976 - val_accuracy: 0.1146\n",
      "Epoch 20/50\n",
      "363/363 [==============================] - 37s 102ms/step - loss: 0.2301 - accuracy: 0.9176 - val_loss: 39.3230 - val_accuracy: 0.1155\n",
      "Epoch 21/50\n",
      "363/363 [==============================] - 34s 92ms/step - loss: 0.2202 - accuracy: 0.9192 - val_loss: 41.5874 - val_accuracy: 0.1081\n",
      "Epoch 22/50\n",
      "363/363 [==============================] - 32s 88ms/step - loss: 0.2224 - accuracy: 0.9199 - val_loss: 41.6180 - val_accuracy: 0.1074\n",
      "Epoch 23/50\n",
      "363/363 [==============================] - 33s 92ms/step - loss: 0.2215 - accuracy: 0.9204 - val_loss: 41.0476 - val_accuracy: 0.1098\n",
      "Epoch 24/50\n",
      "363/363 [==============================] - 33s 92ms/step - loss: 0.2111 - accuracy: 0.9255 - val_loss: 40.1627 - val_accuracy: 0.1094\n",
      "Epoch 25/50\n",
      "363/363 [==============================] - 37s 102ms/step - loss: 0.2019 - accuracy: 0.9288 - val_loss: 40.8826 - val_accuracy: 0.1193\n",
      "Epoch 26/50\n",
      "363/363 [==============================] - 36s 99ms/step - loss: 0.1922 - accuracy: 0.9342 - val_loss: 40.7731 - val_accuracy: 0.1217\n",
      "Epoch 27/50\n",
      "363/363 [==============================] - 37s 101ms/step - loss: 0.1822 - accuracy: 0.9353 - val_loss: 42.3821 - val_accuracy: 0.1131\n",
      "Epoch 28/50\n",
      "363/363 [==============================] - 25s 70ms/step - loss: 0.1861 - accuracy: 0.9351 - val_loss: 41.4264 - val_accuracy: 0.1029\n",
      "Epoch 29/50\n",
      "363/363 [==============================] - 29s 80ms/step - loss: 0.1716 - accuracy: 0.9414 - val_loss: 42.1202 - val_accuracy: 0.1075\n",
      "Epoch 30/50\n",
      "363/363 [==============================] - 33s 91ms/step - loss: 0.1721 - accuracy: 0.9398 - val_loss: 43.0224 - val_accuracy: 0.1124\n",
      "Epoch 31/50\n",
      "363/363 [==============================] - 32s 88ms/step - loss: 0.1636 - accuracy: 0.9429 - val_loss: 44.1639 - val_accuracy: 0.1103\n",
      "Epoch 32/50\n",
      "363/363 [==============================] - 24s 67ms/step - loss: 0.1579 - accuracy: 0.9463 - val_loss: 42.6829 - val_accuracy: 0.1224\n",
      "Epoch 33/50\n",
      "363/363 [==============================] - 25s 68ms/step - loss: 0.1560 - accuracy: 0.9447 - val_loss: 43.2214 - val_accuracy: 0.1120\n",
      "Epoch 34/50\n",
      "363/363 [==============================] - 30s 84ms/step - loss: 0.1614 - accuracy: 0.9445 - val_loss: 41.9158 - val_accuracy: 0.1156\n",
      "Epoch 35/50\n",
      "363/363 [==============================] - 28s 78ms/step - loss: 0.1471 - accuracy: 0.9476 - val_loss: 43.4571 - val_accuracy: 0.1155\n",
      "Epoch 36/50\n",
      "363/363 [==============================] - 31s 86ms/step - loss: 0.1375 - accuracy: 0.9512 - val_loss: 43.4539 - val_accuracy: 0.1212\n",
      "Epoch 37/50\n",
      "363/363 [==============================] - 30s 82ms/step - loss: 0.1387 - accuracy: 0.9506 - val_loss: 43.5665 - val_accuracy: 0.1163\n",
      "Epoch 38/50\n",
      "363/363 [==============================] - 30s 83ms/step - loss: 0.1304 - accuracy: 0.9560 - val_loss: 44.4861 - val_accuracy: 0.1203\n",
      "Epoch 39/50\n",
      "363/363 [==============================] - 29s 81ms/step - loss: 0.1281 - accuracy: 0.9543 - val_loss: 45.1762 - val_accuracy: 0.1196\n",
      "Epoch 40/50\n",
      "363/363 [==============================] - 31s 85ms/step - loss: 0.1280 - accuracy: 0.9542 - val_loss: 44.5108 - val_accuracy: 0.1096\n",
      "Epoch 41/50\n",
      "363/363 [==============================] - 30s 82ms/step - loss: 0.1239 - accuracy: 0.9569 - val_loss: 45.1798 - val_accuracy: 0.1041\n",
      "Epoch 42/50\n",
      "363/363 [==============================] - 33s 91ms/step - loss: 0.1197 - accuracy: 0.9582 - val_loss: 44.9785 - val_accuracy: 0.1177\n",
      "Epoch 43/50\n",
      "363/363 [==============================] - 35s 98ms/step - loss: 0.1147 - accuracy: 0.9603 - val_loss: 45.7870 - val_accuracy: 0.1368\n",
      "Epoch 44/50\n",
      "363/363 [==============================] - 32s 88ms/step - loss: 0.1051 - accuracy: 0.9629 - val_loss: 46.4793 - val_accuracy: 0.1100\n",
      "Epoch 45/50\n",
      "363/363 [==============================] - 35s 96ms/step - loss: 0.1104 - accuracy: 0.9625 - val_loss: 46.3506 - val_accuracy: 0.1148\n",
      "Epoch 46/50\n",
      "363/363 [==============================] - 30s 83ms/step - loss: 0.1125 - accuracy: 0.9612 - val_loss: 45.9084 - val_accuracy: 0.1172\n",
      "Epoch 47/50\n",
      "363/363 [==============================] - 34s 94ms/step - loss: 0.1129 - accuracy: 0.9607 - val_loss: 46.4635 - val_accuracy: 0.1132\n",
      "Epoch 48/50\n",
      "363/363 [==============================] - 34s 93ms/step - loss: 0.0983 - accuracy: 0.9652 - val_loss: 46.4460 - val_accuracy: 0.1205\n",
      "Epoch 49/50\n",
      "363/363 [==============================] - 34s 95ms/step - loss: 0.0885 - accuracy: 0.9703 - val_loss: 47.5950 - val_accuracy: 0.1046\n",
      "Epoch 50/50\n",
      "363/363 [==============================] - 37s 101ms/step - loss: 0.0883 - accuracy: 0.9705 - val_loss: 48.4513 - val_accuracy: 0.1022\n"
     ]
    },
    {
     "data": {
      "text/plain": [
       "<keras.callbacks.History at 0x17fbb337e20>"
      ]
     },
     "execution_count": 17,
     "metadata": {},
     "output_type": "execute_result"
    }
   ],
   "source": [
    "classification_model.fit(X_train, YT, batch_size=64, epochs=50, validation_split=0.2)"
   ]
  },
  {
   "cell_type": "code",
   "execution_count": null,
   "id": "5481616b",
   "metadata": {},
   "outputs": [],
   "source": []
  },
  {
   "cell_type": "code",
   "execution_count": null,
   "id": "32a512a2",
   "metadata": {},
   "outputs": [],
   "source": []
  },
  {
   "cell_type": "code",
   "execution_count": null,
   "id": "6bac0469",
   "metadata": {},
   "outputs": [],
   "source": []
  }
 ],
 "metadata": {
  "kernelspec": {
   "display_name": "Python 3 (ipykernel)",
   "language": "python",
   "name": "python3"
  },
  "language_info": {
   "codemirror_mode": {
    "name": "ipython",
    "version": 3
   },
   "file_extension": ".py",
   "mimetype": "text/x-python",
   "name": "python",
   "nbconvert_exporter": "python",
   "pygments_lexer": "ipython3",
   "version": "3.8.18"
  }
 },
 "nbformat": 4,
 "nbformat_minor": 5
}
