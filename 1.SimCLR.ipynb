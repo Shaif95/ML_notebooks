{
 "cells": [
  {
   "cell_type": "code",
   "execution_count": 1,
   "id": "09cb393a",
   "metadata": {},
   "outputs": [],
   "source": [
    "import tensorflow as tf\n",
    "import tensorflow_datasets as tfds\n",
    "\n",
    "# Load CIFAR-10 dataset as NumPy arrays\n",
    "(x_train, y_train), (x_test, y_test) = tfds.as_numpy(tfds.load(\n",
    "    'cifar10',\n",
    "    split=['train', 'test'],\n",
    "    batch_size=-1,\n",
    "    as_supervised=True,\n",
    "))\n",
    "\n",
    "# Normalize the images\n",
    "x_train = x_train.astype('float32') / 255.0\n",
    "x_test = x_test.astype('float32') / 255.0\n"
   ]
  },
  {
   "cell_type": "code",
   "execution_count": null,
   "id": "78d05fa0",
   "metadata": {},
   "outputs": [],
   "source": []
  },
  {
   "cell_type": "code",
   "execution_count": 2,
   "id": "d5235352",
   "metadata": {},
   "outputs": [],
   "source": [
    "from tensorflow.keras import layers, Model\n",
    "from tensorflow.keras.applications import ResNet50\n",
    "\n",
    "def get_augmenter():\n",
    "    return tf.keras.Sequential([\n",
    "        layers.RandomFlip('horizontal'),\n",
    "        layers.RandomRotation(0.2),\n",
    "        layers.RandomZoom(0.3),\n",
    "        layers.RandomContrast(0.1),\n",
    "    ])\n",
    "\n",
    "def generate_positive_pairs(images):\n",
    "    augmenter = get_augmenter()\n",
    "    augmented_images_1 = augmenter(images)\n",
    "    augmented_images_2 = augmenter(images)\n",
    "    return augmented_images_1, augmented_images_2\n",
    "\n",
    "# Create a TensorFlow dataset\n",
    "train_dataset = tf.data.Dataset.from_tensor_slices(x_train)\n",
    "train_dataset = train_dataset.shuffle(buffer_size=1024).batch(256)\n",
    "\n",
    "# Apply augmentations to generate positive pairs\n",
    "train_dataset = train_dataset.map(lambda x: generate_positive_pairs(x), \n",
    "                                  num_parallel_calls=tf.data.experimental.AUTOTUNE)\n",
    "train_dataset = train_dataset.prefetch(tf.data.experimental.AUTOTUNE)\n"
   ]
  },
  {
   "cell_type": "code",
   "execution_count": 4,
   "id": "682a53f3",
   "metadata": {},
   "outputs": [
    {
     "data": {
      "text/plain": [
       "()"
      ]
     },
     "execution_count": 4,
     "metadata": {},
     "output_type": "execute_result"
    }
   ],
   "source": []
  },
  {
   "cell_type": "code",
   "execution_count": null,
   "id": "57e9752a",
   "metadata": {},
   "outputs": [],
   "source": []
  },
  {
   "cell_type": "code",
   "execution_count": 3,
   "id": "a389ccad",
   "metadata": {},
   "outputs": [
    {
     "name": "stdout",
     "output_type": "stream",
     "text": [
      "Model: \"model\"\n",
      "__________________________________________________________________________________________________\n",
      " Layer (type)                   Output Shape         Param #     Connected to                     \n",
      "==================================================================================================\n",
      " input_1 (InputLayer)           [(None, 32, 32, 3)]  0           []                               \n",
      "                                                                                                  \n",
      " input_2 (InputLayer)           [(None, 32, 32, 3)]  0           []                               \n",
      "                                                                                                  \n",
      " resnet50 (Functional)          (None, 1, 1, 2048)   23587712    ['input_1[0][0]',                \n",
      "                                                                  'input_2[0][0]']                \n",
      "                                                                                                  \n",
      " global_average_pooling2d (Glob  (None, 2048)        0           ['resnet50[0][0]']               \n",
      " alAveragePooling2D)                                                                              \n",
      "                                                                                                  \n",
      " global_average_pooling2d_1 (Gl  (None, 2048)        0           ['resnet50[1][0]']               \n",
      " obalAveragePooling2D)                                                                            \n",
      "                                                                                                  \n",
      " dense (Dense)                  (None, 128)          262272      ['global_average_pooling2d[0][0]'\n",
      "                                                                 ]                                \n",
      "                                                                                                  \n",
      " dense_2 (Dense)                (None, 128)          262272      ['global_average_pooling2d_1[0][0\n",
      "                                                                 ]']                              \n",
      "                                                                                                  \n",
      " dense_1 (Dense)                (None, 128)          16512       ['dense[0][0]']                  \n",
      "                                                                                                  \n",
      " dense_3 (Dense)                (None, 128)          16512       ['dense_2[0][0]']                \n",
      "                                                                                                  \n",
      "==================================================================================================\n",
      "Total params: 24,145,280\n",
      "Trainable params: 557,568\n",
      "Non-trainable params: 23,587,712\n",
      "__________________________________________________________________________________________________\n"
     ]
    }
   ],
   "source": [
    "def create_simclr_model(input_shape=(32, 32, 3)):\n",
    "    # Input layers for the two augmented images\n",
    "    inputs_1 = layers.Input(shape=input_shape)\n",
    "    inputs_2 = layers.Input(shape=input_shape)\n",
    "\n",
    "    # Shared base model with ResNet50\n",
    "    base_model = ResNet50(include_top=False, weights='imagenet', input_shape=input_shape)\n",
    "    base_model.trainable = False  # Freeze the base model\n",
    "\n",
    "    # Pass both inputs through the same base model\n",
    "    features_1 = base_model(inputs_1)\n",
    "    features_2 = base_model(inputs_2)\n",
    "\n",
    "    # Global average pooling\n",
    "    pooled_features_1 = layers.GlobalAveragePooling2D()(features_1)\n",
    "    pooled_features_2 = layers.GlobalAveragePooling2D()(features_2)\n",
    "\n",
    "    # Projection head\n",
    "    projection_1 = layers.Dense(128, activation='relu')(pooled_features_1)\n",
    "    projection_1 = layers.Dense(128)(projection_1)\n",
    "    \n",
    "    projection_2 = layers.Dense(128, activation='relu')(pooled_features_2)\n",
    "    projection_2 = layers.Dense(128)(projection_2)\n",
    "\n",
    "    # Final SimCLR model\n",
    "    simclr_model = Model(inputs=[inputs_1, inputs_2], outputs=[projection_1, projection_2])\n",
    "\n",
    "    return simclr_model\n",
    "\n",
    "# Create the SimCLR model\n",
    "simclr_model = create_simclr_model()\n",
    "simclr_model.summary()\n"
   ]
  },
  {
   "cell_type": "code",
   "execution_count": null,
   "id": "7ba07864",
   "metadata": {},
   "outputs": [],
   "source": []
  },
  {
   "cell_type": "code",
   "execution_count": 4,
   "id": "e362eac4",
   "metadata": {},
   "outputs": [],
   "source": [
    "def contrastive_loss(projection_1, projection_2, temperature=0.1):\n",
    "    # Normalize the projections\n",
    "    projection_1 = tf.math.l2_normalize(projection_1, axis=1)\n",
    "    projection_2 = tf.math.l2_normalize(projection_2, axis=1)\n",
    "    \n",
    "    # Concatenate both projections\n",
    "    projections = tf.concat([projection_1, projection_2], axis=0)\n",
    "    \n",
    "    # Compute the similarity matrix\n",
    "    similarity_matrix = tf.matmul(projections, projections, transpose_b=True)\n",
    "    \n",
    "    # Create the labels for contrastive loss\n",
    "    batch_size = tf.shape(projection_1)[0]\n",
    "    labels = tf.concat([tf.range(batch_size), tf.range(batch_size)], axis=0)\n",
    "    \n",
    "    # Temperature scaling\n",
    "    logits = similarity_matrix / temperature\n",
    "    \n",
    "    # Compute contrastive loss\n",
    "    contrastive_labels = tf.one_hot(labels, depth=2*batch_size)\n",
    "    loss = tf.nn.softmax_cross_entropy_with_logits(contrastive_labels, logits)\n",
    "    return tf.reduce_mean(loss)\n",
    "\n",
    "# Custom training step to use the contrastive loss\n",
    "@tf.function\n",
    "def train_step(images_1, images_2):\n",
    "    with tf.GradientTape() as tape:\n",
    "        projection_1, projection_2 = simclr_model([images_1, images_2], training=True)\n",
    "        loss = contrastive_loss(projection_1, projection_2)\n",
    "    \n",
    "    gradients = tape.gradient(loss, simclr_model.trainable_variables)\n",
    "    simclr_model.optimizer.apply_gradients(zip(gradients, simclr_model.trainable_variables))\n",
    "    return loss\n"
   ]
  },
  {
   "cell_type": "code",
   "execution_count": null,
   "id": "ab64555a",
   "metadata": {},
   "outputs": [],
   "source": []
  },
  {
   "cell_type": "code",
   "execution_count": 5,
   "id": "cb2629e6",
   "metadata": {},
   "outputs": [
    {
     "name": "stdout",
     "output_type": "stream",
     "text": [
      "Epoch 1, Loss: 4.764829158782959\n",
      "Epoch 2, Loss: 3.6147899627685547\n",
      "Epoch 3, Loss: 3.283618211746216\n"
     ]
    }
   ],
   "source": [
    "# Set up optimizer\n",
    "simclr_model.optimizer = tf.keras.optimizers.Adam()\n",
    "\n",
    "# Training loop\n",
    "for epoch in range(3):  # Adjust the number of epochs as needed\n",
    "    for images_1, images_2 in train_dataset:\n",
    "        loss = train_step(images_1, images_2)\n",
    "    print(f\"Epoch {epoch + 1}, Loss: {loss.numpy()}\")\n"
   ]
  },
  {
   "cell_type": "code",
   "execution_count": null,
   "id": "77496c83",
   "metadata": {},
   "outputs": [],
   "source": []
  },
  {
   "cell_type": "code",
   "execution_count": 5,
   "id": "2062a509",
   "metadata": {},
   "outputs": [
    {
     "ename": "NameError",
     "evalue": "name 'simclr_model' is not defined",
     "output_type": "error",
     "traceback": [
      "\u001b[1;31m---------------------------------------------------------------------------\u001b[0m",
      "\u001b[1;31mNameError\u001b[0m                                 Traceback (most recent call last)",
      "Cell \u001b[1;32mIn[5], line 2\u001b[0m\n\u001b[0;32m      1\u001b[0m \u001b[38;5;66;03m# Save the SimCLR model (before projection head for fine-tuning)\u001b[39;00m\n\u001b[1;32m----> 2\u001b[0m \u001b[43msimclr_model\u001b[49m\u001b[38;5;241m.\u001b[39msave(\u001b[38;5;124m'\u001b[39m\u001b[38;5;124msimclr_model.h5\u001b[39m\u001b[38;5;124m'\u001b[39m)  \u001b[38;5;66;03m# Save the entire SimCLR model\u001b[39;00m\n",
      "\u001b[1;31mNameError\u001b[0m: name 'simclr_model' is not defined"
     ]
    }
   ],
   "source": [
    "# Function to create the classification model\n",
    "def create_classification_model(simclr_model, num_classes=10):\n",
    "    # Take the base model from SimCLR (up to the projection layer)\n",
    "    base_input_1 = simclr_model.get_layer(index=0).input\n",
    "    base_input_2 = simclr_model.get_layer(index=1).input\n",
    "    \n",
    "    # Use only one of the branches since they are identical\n",
    "    base_output = simclr_model.get_layer(index=-2).output  # Output before the last projection layer\n",
    "    \n",
    "    # Create a new model using the base and add a classification head\n",
    "    x = layers.Dense(256, activation='relu')(base_output)\n",
    "    x = layers.Dropout(0.5)(x)\n",
    "    classification_output = layers.Dense(num_classes, activation='softmax')(x)\n",
    "\n",
    "    # Build the new model\n",
    "    classification_model = Model(inputs=base_input_1, outputs=classification_output)\n",
    "\n",
    "    return classification_model\n",
    "\n",
    "# Create the classification model\n",
    "classification_model = create_classification_model(simclr_model)\n",
    "classification_model.summary()\n"
   ]
  },
  {
   "cell_type": "code",
   "execution_count": 7,
   "id": "a1fbebef",
   "metadata": {},
   "outputs": [
    {
     "name": "stdout",
     "output_type": "stream",
     "text": [
      "Epoch 1/5\n",
      "157/157 [==============================] - 11s 47ms/step - loss: 2.2283 - accuracy: 0.1757 - val_loss: 2.0582 - val_accuracy: 0.2630\n",
      "Epoch 2/5\n",
      "157/157 [==============================] - 5s 32ms/step - loss: 2.0809 - accuracy: 0.2340 - val_loss: 2.0061 - val_accuracy: 0.2723\n",
      "Epoch 3/5\n",
      "157/157 [==============================] - 5s 33ms/step - loss: 2.0394 - accuracy: 0.2512 - val_loss: 1.9766 - val_accuracy: 0.2857\n",
      "Epoch 4/5\n",
      "157/157 [==============================] - 5s 33ms/step - loss: 2.0119 - accuracy: 0.2630 - val_loss: 1.9604 - val_accuracy: 0.2912\n",
      "Epoch 5/5\n",
      "157/157 [==============================] - 6s 37ms/step - loss: 1.9882 - accuracy: 0.2718 - val_loss: 1.9406 - val_accuracy: 0.2963\n"
     ]
    },
    {
     "data": {
      "text/plain": [
       "<keras.callbacks.History at 0x11d09b83f70>"
      ]
     },
     "execution_count": 7,
     "metadata": {},
     "output_type": "execute_result"
    }
   ],
   "source": [
    "# Compile the classification model\n",
    "classification_model.compile(optimizer=tf.keras.optimizers.Adam(learning_rate=1e-4),\n",
    "                             loss='sparse_categorical_crossentropy',\n",
    "                             metrics=['accuracy'])\n",
    "\n",
    "# Fine-tune the model using the labeled dataset\n",
    "classification_model.fit(x_train, y_train, batch_size=256, epochs=5, validation_split=0.2)\n"
   ]
  },
  {
   "cell_type": "code",
   "execution_count": 8,
   "id": "78b2307d",
   "metadata": {},
   "outputs": [
    {
     "name": "stdout",
     "output_type": "stream",
     "text": [
      "313/313 [==============================] - 7s 20ms/step - loss: 1.9277 - accuracy: 0.3058\n",
      "Test Accuracy: 30.58%\n"
     ]
    }
   ],
   "source": [
    "# Evaluate the classification model on the test set\n",
    "test_loss, test_accuracy = classification_model.evaluate(x_test, y_test)\n",
    "\n",
    "# Print the test accuracy\n",
    "print(f\"Test Accuracy: {test_accuracy * 100:.2f}%\")\n"
   ]
  },
  {
   "cell_type": "code",
   "execution_count": null,
   "id": "3e6e8097",
   "metadata": {},
   "outputs": [],
   "source": []
  },
  {
   "cell_type": "code",
   "execution_count": null,
   "id": "f0d524bc",
   "metadata": {},
   "outputs": [],
   "source": []
  },
  {
   "cell_type": "code",
   "execution_count": 2,
   "id": "c8352cd4",
   "metadata": {},
   "outputs": [
    {
     "name": "stderr",
     "output_type": "stream",
     "text": [
      "100%|██████████████████████████████████████████████████████████████████████████████████| 19/19 [09:44<00:00, 30.78s/it]"
     ]
    },
    {
     "name": "stdout",
     "output_type": "stream",
     "text": [
      "X_train shape: (2872, 32, 32, 3)\n",
      "Y_train shape: (2872,)\n"
     ]
    },
    {
     "name": "stderr",
     "output_type": "stream",
     "text": [
      "\n"
     ]
    }
   ],
   "source": [
    "import os\n",
    "from PIL import Image\n",
    "import numpy as np\n",
    "from sklearn.preprocessing import LabelEncoder, OneHotEncoder\n",
    "from tqdm import tqdm\n",
    "\n",
    "# Define the path to the directory\n",
    "directory_path = r\"G:\\datasets\\Underwater_Image\\WHOI\\archive\\dataset_pm\\training\"\n",
    "\n",
    "# Initialize empty lists for images and labels\n",
    "X_train = []\n",
    "Y_train = []\n",
    "class_label = 0\n",
    "\n",
    "# Loop through subdirectories (classes)\n",
    "for class_folder in tqdm(sorted(os.listdir(directory_path))):\n",
    "    class_path = os.path.join(directory_path, class_folder)\n",
    "    \n",
    "    for image_file in os.listdir(class_path):\n",
    "        if image_file.endswith('.png'):\n",
    "            image_path = os.path.join(class_path, image_file)\n",
    "            \n",
    "            # Load image, convert to RGB and resize\n",
    "            img = Image.open(image_path).convert('RGB')\n",
    "            img = img.resize((32, 32))\n",
    "            img_array = np.array(img)\n",
    "            \n",
    "            # Append image and label to lists\n",
    "            X_train.append(img_array)\n",
    "            Y_train.append(class_label)\n",
    "            \n",
    "    class_label = class_label + 1\n",
    "\n",
    "# Convert lists to numpy arrays\n",
    "X_train = np.array(X_train)\n",
    "Y_train = np.array(Y_train)\n",
    "\n",
    "print(f'X_train shape: {X_train.shape}')\n",
    "print(f'Y_train shape: {Y_train.shape}')"
   ]
  },
  {
   "cell_type": "code",
   "execution_count": 3,
   "id": "ad3d6eb9",
   "metadata": {},
   "outputs": [
    {
     "name": "stderr",
     "output_type": "stream",
     "text": [
      "100%|██████████████████████████████████████████████████████████████████████████████████| 19/19 [00:11<00:00,  1.69it/s]"
     ]
    },
    {
     "name": "stdout",
     "output_type": "stream",
     "text": [
      "X_train shape: (93, 32, 32, 3)\n",
      "Y_train shape: (93,)\n"
     ]
    },
    {
     "name": "stderr",
     "output_type": "stream",
     "text": [
      "\n"
     ]
    }
   ],
   "source": [
    "import os\n",
    "from PIL import Image\n",
    "import numpy as np\n",
    "from sklearn.preprocessing import LabelEncoder, OneHotEncoder\n",
    "from tqdm import tqdm\n",
    "\n",
    "# Define the path to the directory\n",
    "directory_path = r\"G:\\datasets\\Underwater_Image\\WHOI\\archive\\dataset_pm\\validation\"\n",
    "\n",
    "# Initialize empty lists for images and labels\n",
    "X_val = []\n",
    "Y_val = []\n",
    "class_label = 0\n",
    "\n",
    "# Loop through subdirectories (classes)\n",
    "for class_folder in tqdm(sorted(os.listdir(directory_path))):\n",
    "    class_path = os.path.join(directory_path, class_folder)\n",
    "    \n",
    "    for image_file in os.listdir(class_path):\n",
    "        if image_file.endswith('.png'):\n",
    "            image_path = os.path.join(class_path, image_file)\n",
    "            \n",
    "            # Load image, convert to RGB and resize\n",
    "            img = Image.open(image_path).convert('RGB')\n",
    "            img = img.resize((32, 32))\n",
    "            img_array = np.array(img)\n",
    "            \n",
    "            # Append image and label to lists\n",
    "            X_val.append(img_array)\n",
    "            Y_val.append(class_label)\n",
    "            \n",
    "    class_label = class_label + 1\n",
    "\n",
    "# Convert lists to numpy arrays\n",
    "X_val = np.array(X_val)\n",
    "Y_val = np.array(Y_val)\n",
    "\n",
    "print(f'X_train shape: {X_val.shape}')\n",
    "print(f'Y_train shape: {Y_val.shape}')"
   ]
  },
  {
   "cell_type": "code",
   "execution_count": 4,
   "id": "85b9cdac",
   "metadata": {},
   "outputs": [
    {
     "name": "stdout",
     "output_type": "stream",
     "text": [
      "WARNING:tensorflow:No training configuration found in the save file, so the model was *not* compiled. Compile it manually.\n"
     ]
    }
   ],
   "source": [
    "import tensorflow as tf\n",
    "from tensorflow.keras.models import load_model\n",
    "from tensorflow.keras import layers, Model\n",
    "\n",
    "# Load the pre-trained SimCLR model\n",
    "simclr_model = load_model(r\"C:\\Users\\shaif\\Downloads\\imb_ssl.h5\")\n",
    "\n",
    "# Extract the input and output from one branch of the SimCLR model\n",
    "base_input = simclr_model.input[0]  # Input from the first branch\n",
    "base_output = simclr_model.get_layer(\"global_average_pooling2d\").output  # Output before projection head of the first branch\n",
    "\n",
    "# Create a new model using the extracted backbone\n",
    "backbone_model = Model(inputs=base_input, outputs=base_output)\n"
   ]
  },
  {
   "cell_type": "code",
   "execution_count": 8,
   "id": "dac84aaf",
   "metadata": {},
   "outputs": [
    {
     "name": "stdout",
     "output_type": "stream",
     "text": [
      "Model: \"model_2\"\n",
      "_________________________________________________________________\n",
      " Layer (type)                Output Shape              Param #   \n",
      "=================================================================\n",
      " input_1 (InputLayer)        [(None, 32, 32, 3)]       0         \n",
      "                                                                 \n",
      " resnet50 (Functional)       (None, 1, 1, 2048)        23587712  \n",
      "                                                                 \n",
      " global_average_pooling2d (G  (None, 2048)             0         \n",
      " lobalAveragePooling2D)                                          \n",
      "                                                                 \n",
      " dense_2 (Dense)             (None, 256)               524544    \n",
      "                                                                 \n",
      " dropout_1 (Dropout)         (None, 256)               0         \n",
      "                                                                 \n",
      " dense_3 (Dense)             (None, 19)                4883      \n",
      "                                                                 \n",
      "=================================================================\n",
      "Total params: 24,117,139\n",
      "Trainable params: 24,064,019\n",
      "Non-trainable params: 53,120\n",
      "_________________________________________________________________\n"
     ]
    }
   ],
   "source": [
    "def create_classification_model(backbone_model, num_classes=10):\n",
    "    # Add a classification head\n",
    "    x = layers.Dense(256, activation='relu')(backbone_model.output)\n",
    "    x = layers.Dropout(0.5)(x)\n",
    "    classification_output = layers.Dense(19, activation='softmax')(x)\n",
    "\n",
    "    # Build the new model\n",
    "    classification_model = Model(inputs=backbone_model.input, outputs=classification_output)\n",
    "\n",
    "    return classification_model\n",
    "\n",
    "# Create the classification model\n",
    "classification_model = create_classification_model(backbone_model)\n",
    "classification_model.summary()\n"
   ]
  },
  {
   "cell_type": "code",
   "execution_count": 9,
   "id": "b84bb522",
   "metadata": {},
   "outputs": [
    {
     "name": "stdout",
     "output_type": "stream",
     "text": [
      "Epoch 1/50\n",
      "36/36 [==============================] - 8s 71ms/step - loss: 2.9876 - accuracy: 0.2029 - val_loss: 6.0344 - val_accuracy: 0.0000e+00\n",
      "Epoch 2/50\n",
      "36/36 [==============================] - 2s 47ms/step - loss: 1.7318 - accuracy: 0.5020 - val_loss: 6.2277 - val_accuracy: 0.0070\n",
      "Epoch 3/50\n",
      "36/36 [==============================] - 2s 45ms/step - loss: 1.1023 - accuracy: 0.7027 - val_loss: 6.4280 - val_accuracy: 0.0417\n",
      "Epoch 4/50\n",
      "36/36 [==============================] - 2s 49ms/step - loss: 0.8335 - accuracy: 0.7684 - val_loss: 6.6836 - val_accuracy: 0.0957\n",
      "Epoch 5/50\n",
      "36/36 [==============================] - 2s 51ms/step - loss: 0.6722 - accuracy: 0.8206 - val_loss: 7.1134 - val_accuracy: 0.1026\n",
      "Epoch 6/50\n",
      "36/36 [==============================] - 2s 54ms/step - loss: 0.6044 - accuracy: 0.8320 - val_loss: 7.1207 - val_accuracy: 0.1061\n",
      "Epoch 7/50\n",
      "36/36 [==============================] - 2s 62ms/step - loss: 0.5054 - accuracy: 0.8650 - val_loss: 7.2244 - val_accuracy: 0.1078\n",
      "Epoch 8/50\n",
      "36/36 [==============================] - 2s 56ms/step - loss: 0.4911 - accuracy: 0.8698 - val_loss: 7.4335 - val_accuracy: 0.1113\n",
      "Epoch 9/50\n",
      "36/36 [==============================] - 2s 56ms/step - loss: 0.4064 - accuracy: 0.8872 - val_loss: 7.6792 - val_accuracy: 0.1096\n",
      "Epoch 10/50\n",
      "36/36 [==============================] - 2s 48ms/step - loss: 0.3633 - accuracy: 0.9034 - val_loss: 7.6460 - val_accuracy: 0.1339\n",
      "Epoch 11/50\n",
      "36/36 [==============================] - 2s 49ms/step - loss: 0.3554 - accuracy: 0.9034 - val_loss: 7.9783 - val_accuracy: 0.1357\n",
      "Epoch 12/50\n",
      "36/36 [==============================] - 2s 44ms/step - loss: 0.3199 - accuracy: 0.9160 - val_loss: 8.2425 - val_accuracy: 0.1391\n",
      "Epoch 13/50\n",
      "36/36 [==============================] - 2s 44ms/step - loss: 0.2773 - accuracy: 0.9269 - val_loss: 8.4577 - val_accuracy: 0.1409\n",
      "Epoch 14/50\n",
      "36/36 [==============================] - 2s 43ms/step - loss: 0.2583 - accuracy: 0.9247 - val_loss: 8.7579 - val_accuracy: 0.1565\n",
      "Epoch 15/50\n",
      "36/36 [==============================] - 2s 42ms/step - loss: 0.2437 - accuracy: 0.9343 - val_loss: 8.3530 - val_accuracy: 0.1426\n",
      "Epoch 16/50\n",
      "36/36 [==============================] - 2s 43ms/step - loss: 0.2554 - accuracy: 0.9273 - val_loss: 8.1820 - val_accuracy: 0.1426\n",
      "Epoch 17/50\n",
      "36/36 [==============================] - 2s 44ms/step - loss: 0.2140 - accuracy: 0.9451 - val_loss: 8.9258 - val_accuracy: 0.1426\n",
      "Epoch 18/50\n",
      "36/36 [==============================] - 2s 48ms/step - loss: 0.2299 - accuracy: 0.9386 - val_loss: 8.9759 - val_accuracy: 0.1548\n",
      "Epoch 19/50\n",
      "36/36 [==============================] - 2s 43ms/step - loss: 0.2232 - accuracy: 0.9369 - val_loss: 8.9877 - val_accuracy: 0.1704\n",
      "Epoch 20/50\n",
      "36/36 [==============================] - 1s 41ms/step - loss: 0.2285 - accuracy: 0.9351 - val_loss: 9.0284 - val_accuracy: 0.1565\n",
      "Epoch 21/50\n",
      "36/36 [==============================] - 2s 45ms/step - loss: 0.2092 - accuracy: 0.9364 - val_loss: 9.6500 - val_accuracy: 0.1635\n",
      "Epoch 22/50\n",
      "36/36 [==============================] - 2s 46ms/step - loss: 0.1807 - accuracy: 0.9495 - val_loss: 9.0138 - val_accuracy: 0.1652\n",
      "Epoch 23/50\n",
      "36/36 [==============================] - 2s 45ms/step - loss: 0.2123 - accuracy: 0.9412 - val_loss: 9.5096 - val_accuracy: 0.1722\n",
      "Epoch 24/50\n",
      "36/36 [==============================] - 2s 43ms/step - loss: 0.1946 - accuracy: 0.9434 - val_loss: 9.8945 - val_accuracy: 0.1652\n",
      "Epoch 25/50\n",
      "36/36 [==============================] - 2s 50ms/step - loss: 0.1404 - accuracy: 0.9586 - val_loss: 10.3569 - val_accuracy: 0.1635\n",
      "Epoch 26/50\n",
      "36/36 [==============================] - 2s 45ms/step - loss: 0.1602 - accuracy: 0.9521 - val_loss: 10.6472 - val_accuracy: 0.1478\n",
      "Epoch 27/50\n",
      "36/36 [==============================] - 2s 43ms/step - loss: 0.1831 - accuracy: 0.9430 - val_loss: 10.0505 - val_accuracy: 0.1757\n",
      "Epoch 28/50\n",
      "36/36 [==============================] - 2s 49ms/step - loss: 0.1498 - accuracy: 0.9556 - val_loss: 9.5911 - val_accuracy: 0.1757\n",
      "Epoch 29/50\n",
      "36/36 [==============================] - 2s 45ms/step - loss: 0.1397 - accuracy: 0.9582 - val_loss: 10.6469 - val_accuracy: 0.1739\n",
      "Epoch 30/50\n",
      "36/36 [==============================] - 1s 42ms/step - loss: 0.1478 - accuracy: 0.9560 - val_loss: 10.2751 - val_accuracy: 0.1722\n",
      "Epoch 31/50\n",
      "36/36 [==============================] - 2s 46ms/step - loss: 0.1221 - accuracy: 0.9613 - val_loss: 10.3042 - val_accuracy: 0.1774\n",
      "Epoch 32/50\n",
      "36/36 [==============================] - 2s 42ms/step - loss: 0.1270 - accuracy: 0.9599 - val_loss: 10.4993 - val_accuracy: 0.1791\n",
      "Epoch 33/50\n",
      "36/36 [==============================] - 2s 44ms/step - loss: 0.1562 - accuracy: 0.9508 - val_loss: 11.0130 - val_accuracy: 0.1809\n",
      "Epoch 34/50\n",
      "36/36 [==============================] - 2s 43ms/step - loss: 0.1345 - accuracy: 0.9582 - val_loss: 10.5943 - val_accuracy: 0.1774\n",
      "Epoch 35/50\n",
      "36/36 [==============================] - 2s 47ms/step - loss: 0.1014 - accuracy: 0.9691 - val_loss: 10.8324 - val_accuracy: 0.1774\n",
      "Epoch 36/50\n",
      "36/36 [==============================] - 2s 51ms/step - loss: 0.1170 - accuracy: 0.9639 - val_loss: 10.8262 - val_accuracy: 0.1791\n",
      "Epoch 37/50\n",
      "36/36 [==============================] - 2s 53ms/step - loss: 0.1217 - accuracy: 0.9708 - val_loss: 10.3886 - val_accuracy: 0.1774\n",
      "Epoch 38/50\n",
      "36/36 [==============================] - 2s 57ms/step - loss: 0.1296 - accuracy: 0.9608 - val_loss: 10.3569 - val_accuracy: 0.1826\n",
      "Epoch 39/50\n",
      "36/36 [==============================] - 2s 59ms/step - loss: 0.0952 - accuracy: 0.9708 - val_loss: 10.7363 - val_accuracy: 0.1809\n",
      "Epoch 40/50\n",
      "36/36 [==============================] - 2s 64ms/step - loss: 0.0912 - accuracy: 0.9739 - val_loss: 10.4384 - val_accuracy: 0.1739\n",
      "Epoch 41/50\n",
      "36/36 [==============================] - 2s 56ms/step - loss: 0.0971 - accuracy: 0.9717 - val_loss: 11.3832 - val_accuracy: 0.1652\n",
      "Epoch 42/50\n",
      "36/36 [==============================] - 2s 58ms/step - loss: 0.0961 - accuracy: 0.9721 - val_loss: 10.7163 - val_accuracy: 0.1791\n",
      "Epoch 43/50\n",
      "36/36 [==============================] - 2s 59ms/step - loss: 0.0794 - accuracy: 0.9774 - val_loss: 10.3749 - val_accuracy: 0.1791\n",
      "Epoch 44/50\n",
      "36/36 [==============================] - 2s 64ms/step - loss: 0.0824 - accuracy: 0.9700 - val_loss: 10.9736 - val_accuracy: 0.1791\n",
      "Epoch 45/50\n",
      "36/36 [==============================] - 2s 64ms/step - loss: 0.0831 - accuracy: 0.9726 - val_loss: 10.3903 - val_accuracy: 0.1809\n",
      "Epoch 46/50\n",
      "36/36 [==============================] - 2s 61ms/step - loss: 0.0978 - accuracy: 0.9687 - val_loss: 10.6979 - val_accuracy: 0.1809\n",
      "Epoch 47/50\n",
      "36/36 [==============================] - 2s 61ms/step - loss: 0.1028 - accuracy: 0.9717 - val_loss: 10.9973 - val_accuracy: 0.1774\n",
      "Epoch 48/50\n",
      "36/36 [==============================] - 2s 56ms/step - loss: 0.0895 - accuracy: 0.9730 - val_loss: 11.4191 - val_accuracy: 0.1791\n",
      "Epoch 49/50\n",
      "36/36 [==============================] - 2s 65ms/step - loss: 0.0670 - accuracy: 0.9804 - val_loss: 11.1427 - val_accuracy: 0.1791\n",
      "Epoch 50/50\n",
      "36/36 [==============================] - 2s 58ms/step - loss: 0.0913 - accuracy: 0.9730 - val_loss: 11.0409 - val_accuracy: 0.1809\n"
     ]
    },
    {
     "data": {
      "text/plain": [
       "<keras.callbacks.History at 0x21b30d3e2b0>"
      ]
     },
     "execution_count": 9,
     "metadata": {},
     "output_type": "execute_result"
    }
   ],
   "source": [
    "from tensorflow.keras.utils import to_categorical\n",
    "YT = to_categorical(Y_train)\n",
    "# Compile the classification model\n",
    "classification_model.compile(optimizer=tf.keras.optimizers.Adam(learning_rate=1e-4),loss='categorical_crossentropy', metrics=['accuracy'])\n",
    "\n",
    "# Fine-tune the model using the labeled dataset\n",
    "classification_model.fit(X_train, YT, batch_size=64, epochs=50, validation_split=0.2)"
   ]
  },
  {
   "cell_type": "code",
   "execution_count": 7,
   "id": "51c8bed7",
   "metadata": {},
   "outputs": [
    {
     "name": "stdout",
     "output_type": "stream",
     "text": [
      "Accuracy: 0.5376344086021505\n",
      "F1 Score: 0.5118279569892472\n"
     ]
    }
   ],
   "source": [
    "from sklearn.metrics import accuracy_score, f1_score, confusion_matrix\n",
    "predictions = classification_model.predict(X_val)\n",
    "predicted_labels = np.argmax(predictions, axis=1)\n",
    "accuracy = accuracy_score(Y_val, predicted_labels)\n",
    "f1 = f1_score(Y_val, predicted_labels, average='weighted')\n",
    "print(f\"Accuracy: {accuracy}\")\n",
    "print(f\"F1 Score: {f1}\")"
   ]
  },
  {
   "cell_type": "code",
   "execution_count": null,
   "id": "54099ec4",
   "metadata": {},
   "outputs": [],
   "source": []
  },
  {
   "cell_type": "code",
   "execution_count": 7,
   "id": "d26e4ee2",
   "metadata": {},
   "outputs": [
    {
     "name": "stdout",
     "output_type": "stream",
     "text": [
      "Epoch 1/50\n",
      "363/363 [==============================] - 19s 52ms/step - loss: 0.4457 - accuracy: 0.8403 - val_loss: 29.0035 - val_accuracy: 0.0998\n",
      "Epoch 2/50\n",
      "363/363 [==============================] - 23s 63ms/step - loss: 0.4350 - accuracy: 0.8449 - val_loss: 28.9334 - val_accuracy: 0.1050\n",
      "Epoch 3/50\n",
      "363/363 [==============================] - 25s 69ms/step - loss: 0.4151 - accuracy: 0.8509 - val_loss: 29.4238 - val_accuracy: 0.0972\n",
      "Epoch 4/50\n",
      "363/363 [==============================] - 25s 70ms/step - loss: 0.4132 - accuracy: 0.8546 - val_loss: 29.1007 - val_accuracy: 0.1156\n",
      "Epoch 5/50\n",
      "363/363 [==============================] - 23s 65ms/step - loss: 0.4013 - accuracy: 0.8573 - val_loss: 30.5121 - val_accuracy: 0.1060\n",
      "Epoch 6/50\n",
      "363/363 [==============================] - 22s 61ms/step - loss: 0.3924 - accuracy: 0.8612 - val_loss: 30.2256 - val_accuracy: 0.1153\n",
      "Epoch 7/50\n",
      "363/363 [==============================] - 30s 82ms/step - loss: 0.3771 - accuracy: 0.8652 - val_loss: 31.0992 - val_accuracy: 0.1046\n",
      "Epoch 8/50\n",
      "363/363 [==============================] - 27s 76ms/step - loss: 0.3631 - accuracy: 0.8698 - val_loss: 31.4475 - val_accuracy: 0.1198\n",
      "Epoch 9/50\n",
      "363/363 [==============================] - 24s 67ms/step - loss: 0.3607 - accuracy: 0.8710 - val_loss: 33.0745 - val_accuracy: 0.1034\n",
      "Epoch 10/50\n",
      "363/363 [==============================] - 22s 62ms/step - loss: 0.3489 - accuracy: 0.8753 - val_loss: 32.9717 - val_accuracy: 0.1007\n",
      "Epoch 11/50\n",
      "363/363 [==============================] - 23s 62ms/step - loss: 0.3331 - accuracy: 0.8814 - val_loss: 33.4030 - val_accuracy: 0.1022\n",
      "Epoch 12/50\n",
      "363/363 [==============================] - 22s 61ms/step - loss: 0.3237 - accuracy: 0.8861 - val_loss: 33.7235 - val_accuracy: 0.1074\n",
      "Epoch 13/50\n",
      "363/363 [==============================] - 26s 71ms/step - loss: 0.3101 - accuracy: 0.8909 - val_loss: 34.4691 - val_accuracy: 0.1219\n",
      "Epoch 14/50\n",
      "363/363 [==============================] - 23s 63ms/step - loss: 0.3086 - accuracy: 0.8923 - val_loss: 34.0609 - val_accuracy: 0.1026\n",
      "Epoch 15/50\n",
      "363/363 [==============================] - 24s 67ms/step - loss: 0.2954 - accuracy: 0.8941 - val_loss: 34.1159 - val_accuracy: 0.1150\n",
      "Epoch 16/50\n",
      "363/363 [==============================] - 24s 66ms/step - loss: 0.2863 - accuracy: 0.8978 - val_loss: 34.8558 - val_accuracy: 0.1117\n",
      "Epoch 17/50\n",
      "363/363 [==============================] - 27s 74ms/step - loss: 0.2727 - accuracy: 0.9046 - val_loss: 35.0166 - val_accuracy: 0.1075\n",
      "Epoch 18/50\n",
      "363/363 [==============================] - 28s 78ms/step - loss: 0.2711 - accuracy: 0.9057 - val_loss: 35.5603 - val_accuracy: 0.1060\n",
      "Epoch 19/50\n",
      "363/363 [==============================] - 24s 65ms/step - loss: 0.2637 - accuracy: 0.9063 - val_loss: 35.5066 - val_accuracy: 0.1169\n",
      "Epoch 20/50\n",
      "363/363 [==============================] - 23s 62ms/step - loss: 0.2487 - accuracy: 0.9117 - val_loss: 37.5271 - val_accuracy: 0.1082\n",
      "Epoch 21/50\n",
      "363/363 [==============================] - 23s 64ms/step - loss: 0.2357 - accuracy: 0.9149 - val_loss: 37.1227 - val_accuracy: 0.1132\n",
      "Epoch 22/50\n",
      "363/363 [==============================] - 24s 65ms/step - loss: 0.2350 - accuracy: 0.9159 - val_loss: 36.8973 - val_accuracy: 0.1182\n",
      "Epoch 23/50\n",
      "363/363 [==============================] - 24s 66ms/step - loss: 0.2321 - accuracy: 0.9182 - val_loss: 37.7289 - val_accuracy: 0.1105\n",
      "Epoch 24/50\n",
      "363/363 [==============================] - 24s 67ms/step - loss: 0.2207 - accuracy: 0.9203 - val_loss: 38.4471 - val_accuracy: 0.1010\n",
      "Epoch 25/50\n",
      "363/363 [==============================] - 25s 69ms/step - loss: 0.2132 - accuracy: 0.9244 - val_loss: 38.0548 - val_accuracy: 0.1153\n",
      "Epoch 26/50\n",
      "363/363 [==============================] - 25s 70ms/step - loss: 0.2017 - accuracy: 0.9294 - val_loss: 38.0653 - val_accuracy: 0.1243\n",
      "Epoch 27/50\n",
      "363/363 [==============================] - 27s 74ms/step - loss: 0.2044 - accuracy: 0.9299 - val_loss: 38.2973 - val_accuracy: 0.1055\n",
      "Epoch 28/50\n",
      "363/363 [==============================] - 26s 72ms/step - loss: 0.1972 - accuracy: 0.9314 - val_loss: 38.5751 - val_accuracy: 0.1003\n",
      "Epoch 29/50\n",
      "363/363 [==============================] - 23s 64ms/step - loss: 0.1897 - accuracy: 0.9323 - val_loss: 39.7639 - val_accuracy: 0.1129\n",
      "Epoch 30/50\n",
      "363/363 [==============================] - 23s 62ms/step - loss: 0.1932 - accuracy: 0.9329 - val_loss: 39.0362 - val_accuracy: 0.1169\n",
      "Epoch 31/50\n",
      "363/363 [==============================] - 23s 64ms/step - loss: 0.1761 - accuracy: 0.9358 - val_loss: 38.7221 - val_accuracy: 0.1274\n",
      "Epoch 32/50\n",
      "363/363 [==============================] - 24s 65ms/step - loss: 0.1730 - accuracy: 0.9411 - val_loss: 38.7795 - val_accuracy: 0.1148\n",
      "Epoch 33/50\n",
      "363/363 [==============================] - 25s 68ms/step - loss: 0.1636 - accuracy: 0.9428 - val_loss: 40.7906 - val_accuracy: 0.1069\n",
      "Epoch 34/50\n",
      "363/363 [==============================] - 25s 68ms/step - loss: 0.1702 - accuracy: 0.9402 - val_loss: 40.5236 - val_accuracy: 0.1151\n",
      "Epoch 35/50\n",
      "363/363 [==============================] - 23s 63ms/step - loss: 0.1638 - accuracy: 0.9422 - val_loss: 39.4186 - val_accuracy: 0.1174\n",
      "Epoch 36/50\n",
      "363/363 [==============================] - 24s 67ms/step - loss: 0.1466 - accuracy: 0.9505 - val_loss: 41.3763 - val_accuracy: 0.1241\n",
      "Epoch 37/50\n",
      "363/363 [==============================] - 28s 77ms/step - loss: 0.1439 - accuracy: 0.9491 - val_loss: 41.8910 - val_accuracy: 0.1227\n",
      "Epoch 38/50\n",
      "363/363 [==============================] - 25s 70ms/step - loss: 0.1494 - accuracy: 0.9480 - val_loss: 41.7794 - val_accuracy: 0.1110\n",
      "Epoch 39/50\n",
      "363/363 [==============================] - 22s 60ms/step - loss: 0.1417 - accuracy: 0.9520 - val_loss: 39.9443 - val_accuracy: 0.1262\n",
      "Epoch 40/50\n",
      "363/363 [==============================] - 22s 61ms/step - loss: 0.1411 - accuracy: 0.9513 - val_loss: 41.5053 - val_accuracy: 0.1150\n",
      "Epoch 41/50\n",
      "363/363 [==============================] - 20s 55ms/step - loss: 0.1332 - accuracy: 0.9517 - val_loss: 41.6309 - val_accuracy: 0.1113\n",
      "Epoch 42/50\n",
      "363/363 [==============================] - 18s 48ms/step - loss: 0.1299 - accuracy: 0.9549 - val_loss: 43.0168 - val_accuracy: 0.1169\n",
      "Epoch 43/50\n",
      "363/363 [==============================] - 20s 56ms/step - loss: 0.1199 - accuracy: 0.9598 - val_loss: 42.0755 - val_accuracy: 0.1334\n",
      "Epoch 44/50\n",
      "363/363 [==============================] - 18s 49ms/step - loss: 0.1188 - accuracy: 0.9593 - val_loss: 42.4823 - val_accuracy: 0.1175\n",
      "Epoch 45/50\n",
      "363/363 [==============================] - 15s 42ms/step - loss: 0.1182 - accuracy: 0.9601 - val_loss: 42.4307 - val_accuracy: 0.1222\n",
      "Epoch 46/50\n",
      "363/363 [==============================] - 17s 47ms/step - loss: 0.1242 - accuracy: 0.9577 - val_loss: 41.7887 - val_accuracy: 0.1227\n",
      "Epoch 47/50\n",
      "363/363 [==============================] - 18s 49ms/step - loss: 0.1165 - accuracy: 0.9613 - val_loss: 42.8964 - val_accuracy: 0.1169\n",
      "Epoch 48/50\n",
      "363/363 [==============================] - 18s 50ms/step - loss: 0.1118 - accuracy: 0.9611 - val_loss: 42.7995 - val_accuracy: 0.1186\n",
      "Epoch 49/50\n",
      "363/363 [==============================] - 18s 48ms/step - loss: 0.1062 - accuracy: 0.9632 - val_loss: 43.4432 - val_accuracy: 0.1277\n",
      "Epoch 50/50\n",
      "363/363 [==============================] - 18s 49ms/step - loss: 0.1078 - accuracy: 0.9645 - val_loss: 42.5102 - val_accuracy: 0.1143\n"
     ]
    },
    {
     "data": {
      "text/plain": [
       "<keras.callbacks.History at 0x200d9f04460>"
      ]
     },
     "execution_count": 7,
     "metadata": {},
     "output_type": "execute_result"
    }
   ],
   "source": [
    "classification_model.fit(X_train, YT, batch_size=64, epochs=50, validation_split=0.2)"
   ]
  },
  {
   "cell_type": "code",
   "execution_count": null,
   "id": "5481616b",
   "metadata": {},
   "outputs": [],
   "source": []
  },
  {
   "cell_type": "code",
   "execution_count": null,
   "id": "32a512a2",
   "metadata": {},
   "outputs": [],
   "source": []
  },
  {
   "cell_type": "code",
   "execution_count": null,
   "id": "6bac0469",
   "metadata": {},
   "outputs": [],
   "source": []
  }
 ],
 "metadata": {
  "kernelspec": {
   "display_name": "Python 3 (ipykernel)",
   "language": "python",
   "name": "python3"
  },
  "language_info": {
   "codemirror_mode": {
    "name": "ipython",
    "version": 3
   },
   "file_extension": ".py",
   "mimetype": "text/x-python",
   "name": "python",
   "nbconvert_exporter": "python",
   "pygments_lexer": "ipython3",
   "version": "3.8.18"
  }
 },
 "nbformat": 4,
 "nbformat_minor": 5
}
