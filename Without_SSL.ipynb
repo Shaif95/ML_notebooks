{
 "cells": [
  {
   "cell_type": "code",
   "execution_count": 1,
   "id": "9f4e7c1f",
   "metadata": {},
   "outputs": [
    {
     "name": "stderr",
     "output_type": "stream",
     "text": [
      "C:\\Users\\shaif\\anaconda3\\envs\\tens\\lib\\site-packages\\scipy\\__init__.py:146: UserWarning: A NumPy version >=1.16.5 and <1.23.0 is required for this version of SciPy (detected version 1.24.3\n",
      "  warnings.warn(f\"A NumPy version >={np_minversion} and <{np_maxversion}\"\n"
     ]
    }
   ],
   "source": [
    "import os\n",
    "from PIL import Image\n",
    "import numpy as np\n",
    "import random\n",
    "import numpy as np # linear algebra\n",
    "import pandas as pd # data processing, CSV file I/O (e.g. pd.read_csv)\n",
    "import os\n",
    "from sklearn.model_selection import train_test_split\n",
    "import json\n",
    "from tensorflow.keras.utils import to_categorical"
   ]
  },
  {
   "cell_type": "code",
   "execution_count": 2,
   "id": "cd10c0ad",
   "metadata": {},
   "outputs": [
    {
     "name": "stderr",
     "output_type": "stream",
     "text": [
      "C:\\Users\\shaif\\AppData\\Local\\Temp\\ipykernel_12344\\3042067344.py:29: DeprecationWarning: ANTIALIAS is deprecated and will be removed in Pillow 10 (2023-07-01). Use LANCZOS or Resampling.LANCZOS instead.\n",
      "  img = img.resize((32, 32), Image.ANTIALIAS)\n"
     ]
    },
    {
     "data": {
      "text/plain": [
       "(80644, 2)"
      ]
     },
     "execution_count": 2,
     "metadata": {},
     "output_type": "execute_result"
    }
   ],
   "source": [
    "\n",
    "def list_subdirectories(directory_path):\n",
    "    try:\n",
    "        subdirectories = [f.path for f in os.scandir(directory_path) if f.is_dir()]\n",
    "        return subdirectories\n",
    "    except Exception as e:\n",
    "        return str(e)\n",
    "\n",
    "def list_all_subdirectories_with_images(parent_directory):\n",
    "    subdirectories = list_subdirectories(parent_directory)\n",
    "    XT = []  # List to store all images\n",
    "    YT = []  # List to store labels\n",
    "    YT_count = []\n",
    "    #print(subdirectories)\n",
    "    \n",
    "    label= 0\n",
    "    length_list = []\n",
    "    for s in subdirectories:\n",
    "        \n",
    "        sub = [f.path for f in os.scandir(s) if f.is_dir()]\n",
    "        #print(sub)\n",
    "        for f in sub:\n",
    "            count = 0\n",
    "            for img_path in os.listdir(f):\n",
    "            \n",
    "                if img_path.lower().endswith(('.png', '.jpg', '.jpeg', '.gif', '.bmp')):\n",
    "                    img = Image.open(os.path.join(f, img_path))\n",
    "                    if img.mode != 'RGB':\n",
    "                        img = img.convert('RGB')\n",
    "                    img = img.resize((32, 32), Image.ANTIALIAS)\n",
    "                    img = np.array(img).astype('float32') / 255.0\n",
    "                    XT.append(img)\n",
    "                    count = count + 1\n",
    "                    YT.append(label)\n",
    "                #print(np.shape(lst))\n",
    "            length_list.append(count)\n",
    "            YT_count.append(label)\n",
    "        label=label+1    \n",
    "                \n",
    "        \n",
    "    \n",
    "    return XT, YT, YT_count, length_list\n",
    "\n",
    "\n",
    "# Example usage:\n",
    "directory_path = r'E:\\invasive-aquatic-species-data'\n",
    "images_list, YT, YT_count, lengths_list = list_all_subdirectories_with_images(directory_path)\n",
    "\n",
    "import random\n",
    "combined_data = list(zip(images_list, YT))\n",
    "random.shuffle(combined_data)\n",
    "images_list, YT = zip(*combined_data)\n",
    "yt = to_categorical(YT)\n",
    "ytc = to_categorical(YT_count)\n",
    "\n",
    "\n",
    "k = int(.7 * len(lengths_list))\n",
    "\n",
    "\n",
    "# Define the number of samples for testing\n",
    "num_test_samples = np.sum(lengths_list[k:])\n",
    "# Split the lists\n",
    "X_test = images_list[:num_test_samples]\n",
    "Y_test = yt[:num_test_samples]\n",
    "X_train = images_list[num_test_samples:]\n",
    "Y_train = yt[num_test_samples:]\n",
    "np.shape(Y_train)"
   ]
  },
  {
   "cell_type": "code",
   "execution_count": null,
   "id": "cb69dd6b",
   "metadata": {},
   "outputs": [],
   "source": []
  },
  {
   "cell_type": "code",
   "execution_count": 3,
   "id": "174656c8",
   "metadata": {},
   "outputs": [
    {
     "name": "stdout",
     "output_type": "stream",
     "text": [
      "Epoch 1/20\n",
      "2017/2017 [==============================] - 102s 43ms/step - loss: 0.1994 - accuracy: 0.9255 - val_loss: 0.1851 - val_accuracy: 0.9041\n",
      "Epoch 2/20\n",
      "2017/2017 [==============================] - 88s 44ms/step - loss: 0.1687 - accuracy: 0.9316 - val_loss: 0.3634 - val_accuracy: 0.9076\n",
      "Epoch 3/20\n",
      "2017/2017 [==============================] - 93s 46ms/step - loss: 0.1662 - accuracy: 0.9349 - val_loss: 0.2136 - val_accuracy: 0.9109\n",
      "Epoch 4/20\n",
      "2017/2017 [==============================] - 110s 55ms/step - loss: 0.1932 - accuracy: 0.9271 - val_loss: 0.1508 - val_accuracy: 0.9353\n",
      "Epoch 5/20\n",
      "2017/2017 [==============================] - 177s 88ms/step - loss: 0.1596 - accuracy: 0.9337 - val_loss: 0.1320 - val_accuracy: 0.9447\n",
      "Epoch 6/20\n",
      "2017/2017 [==============================] - 170s 84ms/step - loss: 0.1469 - accuracy: 0.9399 - val_loss: 0.1499 - val_accuracy: 0.9373\n",
      "Epoch 7/20\n",
      "2017/2017 [==============================] - 158s 79ms/step - loss: 0.1754 - accuracy: 0.9313 - val_loss: 0.1324 - val_accuracy: 0.9431\n",
      "Epoch 8/20\n",
      "2017/2017 [==============================] - 158s 78ms/step - loss: 0.1447 - accuracy: 0.9401 - val_loss: 0.1336 - val_accuracy: 0.9452\n",
      "Epoch 9/20\n",
      "2017/2017 [==============================] - 158s 79ms/step - loss: 0.1375 - accuracy: 0.9436 - val_loss: 0.1415 - val_accuracy: 0.9420\n",
      "Epoch 10/20\n",
      "2017/2017 [==============================] - 159s 79ms/step - loss: 0.1475 - accuracy: 0.9434 - val_loss: 0.1268 - val_accuracy: 0.9485\n",
      "Epoch 11/20\n",
      "2017/2017 [==============================] - 157s 78ms/step - loss: 0.1279 - accuracy: 0.9472 - val_loss: 0.1390 - val_accuracy: 0.9413\n",
      "Epoch 12/20\n",
      "2017/2017 [==============================] - 152s 75ms/step - loss: 0.1245 - accuracy: 0.9489 - val_loss: 0.1300 - val_accuracy: 0.9484\n",
      "Epoch 13/20\n",
      "2017/2017 [==============================] - 158s 78ms/step - loss: 0.1555 - accuracy: 0.9411 - val_loss: 0.1772 - val_accuracy: 0.9304\n",
      "Epoch 14/20\n",
      "2017/2017 [==============================] - 156s 77ms/step - loss: 0.1330 - accuracy: 0.9453 - val_loss: 0.1223 - val_accuracy: 0.9496\n",
      "Epoch 15/20\n",
      "2017/2017 [==============================] - 174s 86ms/step - loss: 0.1286 - accuracy: 0.9477 - val_loss: 0.2012 - val_accuracy: 0.9224\n",
      "Epoch 16/20\n",
      "2017/2017 [==============================] - 162s 80ms/step - loss: 0.1173 - accuracy: 0.9515 - val_loss: 0.1398 - val_accuracy: 0.9455\n",
      "Epoch 17/20\n",
      "2017/2017 [==============================] - 144s 71ms/step - loss: 0.1114 - accuracy: 0.9552 - val_loss: 0.1292 - val_accuracy: 0.9467\n",
      "Epoch 18/20\n",
      "2017/2017 [==============================] - 115s 57ms/step - loss: 0.1058 - accuracy: 0.9555 - val_loss: 0.1236 - val_accuracy: 0.9488\n",
      "Epoch 19/20\n",
      "2017/2017 [==============================] - 157s 78ms/step - loss: 0.1013 - accuracy: 0.9589 - val_loss: 0.1195 - val_accuracy: 0.9527\n",
      "Epoch 20/20\n",
      "2017/2017 [==============================] - 171s 85ms/step - loss: 0.1098 - accuracy: 0.9581 - val_loss: 0.1240 - val_accuracy: 0.9511\n"
     ]
    },
    {
     "data": {
      "text/plain": [
       "<keras.callbacks.History at 0x1234e4639a0>"
      ]
     },
     "execution_count": 3,
     "metadata": {},
     "output_type": "execute_result"
    }
   ],
   "source": [
    "import numpy as np\n",
    "from tensorflow.keras.applications import ResNet50\n",
    "from tensorflow.keras.models import Sequential\n",
    "from tensorflow.keras.layers import Dense, GlobalAveragePooling2D\n",
    "from tensorflow.keras.optimizers import Adam\n",
    "\n",
    "base_model = ResNet50(weights='imagenet', include_top=False, input_shape=(32, 32, 3))\n",
    "model = Sequential()\n",
    "model.add(base_model)\n",
    "model.add(GlobalAveragePooling2D())\n",
    "model.add(Dense(2, activation='softmax'))  # Change units to match the number of classes\n",
    "optimizer = Adam()  # Define optimizer separately\n",
    "model.compile(optimizer=optimizer, loss='categorical_crossentropy', metrics=['accuracy'])\n",
    "# Assuming X_train and Y_train are defined previously\n",
    "model.fit(np.array(X_train).astype('float32'), Y_train, batch_size=32, epochs=20, validation_split=0.2)"
   ]
  },
  {
   "cell_type": "code",
   "execution_count": null,
   "id": "01a2aa59",
   "metadata": {},
   "outputs": [],
   "source": []
  },
  {
   "cell_type": "code",
   "execution_count": 4,
   "id": "8cc6665a",
   "metadata": {},
   "outputs": [
    {
     "name": "stdout",
     "output_type": "stream",
     "text": [
      "Test Accuracy: 0.9498195619711299\n",
      "Balanced Accuracy: 0.8853120171640378\n"
     ]
    }
   ],
   "source": [
    "\n",
    "from sklearn.metrics import accuracy_score\n",
    "\n",
    "predictions = model.predict(np.array(X_test).astype('float32'))\n",
    "accuracy = accuracy_score(np.argmax(Y_test,axis = 1),np.argmax(predictions,axis = 1))\n",
    "print(\"Test Accuracy:\", accuracy)\n",
    "from sklearn.metrics import accuracy_score, balanced_accuracy_score\n",
    "\n",
    "# Assuming you have ground truth labels in Y_test and predicted labels in predictions\n",
    "ground_truth_labels = np.argmax(Y_test, axis=1)\n",
    "predicted_labels = np.argmax(predictions, axis=1)\n",
    "\n",
    "# Calculate balanced accuracy\n",
    "balanced_accuracy = balanced_accuracy_score(ground_truth_labels, predicted_labels)\n",
    "\n",
    "# Print the balanced accuracy\n",
    "print(\"Balanced Accuracy:\", balanced_accuracy)\n"
   ]
  },
  {
   "cell_type": "code",
   "execution_count": null,
   "id": "60e3d36c",
   "metadata": {},
   "outputs": [],
   "source": []
  },
  {
   "cell_type": "code",
   "execution_count": null,
   "id": "6502d675",
   "metadata": {},
   "outputs": [],
   "source": []
  },
  {
   "cell_type": "code",
   "execution_count": null,
   "id": "8be73a2f",
   "metadata": {},
   "outputs": [],
   "source": []
  },
  {
   "cell_type": "code",
   "execution_count": null,
   "id": "89185e4e",
   "metadata": {},
   "outputs": [],
   "source": []
  },
  {
   "cell_type": "code",
   "execution_count": null,
   "id": "631c14e3",
   "metadata": {},
   "outputs": [],
   "source": []
  },
  {
   "cell_type": "code",
   "execution_count": null,
   "id": "5c173dc5",
   "metadata": {},
   "outputs": [],
   "source": []
  },
  {
   "cell_type": "code",
   "execution_count": null,
   "id": "4bf8bc2f",
   "metadata": {},
   "outputs": [],
   "source": []
  },
  {
   "cell_type": "code",
   "execution_count": null,
   "id": "b8c2faa5",
   "metadata": {},
   "outputs": [],
   "source": []
  },
  {
   "cell_type": "code",
   "execution_count": null,
   "id": "3509390f",
   "metadata": {},
   "outputs": [],
   "source": []
  },
  {
   "cell_type": "code",
   "execution_count": null,
   "id": "a6746648",
   "metadata": {},
   "outputs": [],
   "source": []
  },
  {
   "cell_type": "code",
   "execution_count": null,
   "id": "f0059f56",
   "metadata": {},
   "outputs": [],
   "source": []
  },
  {
   "cell_type": "code",
   "execution_count": null,
   "id": "f92b40e9",
   "metadata": {},
   "outputs": [],
   "source": []
  },
  {
   "cell_type": "code",
   "execution_count": null,
   "id": "d2124dbb",
   "metadata": {},
   "outputs": [],
   "source": []
  },
  {
   "cell_type": "code",
   "execution_count": null,
   "id": "bf8dcffa",
   "metadata": {},
   "outputs": [],
   "source": []
  },
  {
   "cell_type": "code",
   "execution_count": null,
   "id": "c89467c8",
   "metadata": {},
   "outputs": [],
   "source": []
  },
  {
   "cell_type": "code",
   "execution_count": null,
   "id": "c0e664f0",
   "metadata": {},
   "outputs": [],
   "source": []
  },
  {
   "cell_type": "code",
   "execution_count": null,
   "id": "529984d0",
   "metadata": {},
   "outputs": [],
   "source": []
  }
 ],
 "metadata": {
  "kernelspec": {
   "display_name": "Python 3 (ipykernel)",
   "language": "python",
   "name": "python3"
  },
  "language_info": {
   "codemirror_mode": {
    "name": "ipython",
    "version": 3
   },
   "file_extension": ".py",
   "mimetype": "text/x-python",
   "name": "python",
   "nbconvert_exporter": "python",
   "pygments_lexer": "ipython3",
   "version": "3.8.18"
  }
 },
 "nbformat": 4,
 "nbformat_minor": 5
}
